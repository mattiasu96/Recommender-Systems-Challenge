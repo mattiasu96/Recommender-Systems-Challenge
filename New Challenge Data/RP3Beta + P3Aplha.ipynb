{
 "cells": [
  {
   "cell_type": "markdown",
   "metadata": {},
   "source": [
    "# SLIM MODEL\n",
    "Since the KNN_Item_CF is the one that perfomed the best so far, now i'm trying a SLIM Model, which is basically the same algorithm but Machine Learning based. It uses the infos from the training data instead of some heuristic (such as cosine similarity ecc...)\n",
    "https://notebook.community/trangel/Insight-Data-Science/general-docs/recommendation-validation/.ipynb_checkpoints/recommender_systems-validation-checkpoint"
   ]
  },
  {
   "cell_type": "markdown",
   "metadata": {},
   "source": [
    "# Data loading \n",
    "Next cells are used to load the data we need."
   ]
  },
  {
   "cell_type": "code",
   "execution_count": 1,
   "metadata": {},
   "outputs": [],
   "source": [
    "import pandas as pd\n",
    "import numpy as np \n",
    "import scipy.sparse as sps\n",
    "import os\n",
    "import sys\n",
    "import matplotlib.pyplot as plt\n",
    "sys.path.append('..')\n"
   ]
  },
  {
   "cell_type": "code",
   "execution_count": 2,
   "metadata": {},
   "outputs": [
    {
     "output_type": "execute_result",
     "data": {
      "text/plain": [
       "         row    col  data\n",
       "0          0  10080   1.0\n",
       "1          0  19467   1.0\n",
       "2          1   2665   1.0\n",
       "3          1   7494   1.0\n",
       "4          1  17068   1.0\n",
       "...      ...    ...   ...\n",
       "113263  7945   2476   1.0\n",
       "113264  7945  12319   1.0\n",
       "113265  7945  21384   1.0\n",
       "113266  7946   8699   1.0\n",
       "113267  7946  19178   1.0\n",
       "\n",
       "[113268 rows x 3 columns]"
      ],
      "text/html": "<div>\n<style scoped>\n    .dataframe tbody tr th:only-of-type {\n        vertical-align: middle;\n    }\n\n    .dataframe tbody tr th {\n        vertical-align: top;\n    }\n\n    .dataframe thead th {\n        text-align: right;\n    }\n</style>\n<table border=\"1\" class=\"dataframe\">\n  <thead>\n    <tr style=\"text-align: right;\">\n      <th></th>\n      <th>row</th>\n      <th>col</th>\n      <th>data</th>\n    </tr>\n  </thead>\n  <tbody>\n    <tr>\n      <th>0</th>\n      <td>0</td>\n      <td>10080</td>\n      <td>1.0</td>\n    </tr>\n    <tr>\n      <th>1</th>\n      <td>0</td>\n      <td>19467</td>\n      <td>1.0</td>\n    </tr>\n    <tr>\n      <th>2</th>\n      <td>1</td>\n      <td>2665</td>\n      <td>1.0</td>\n    </tr>\n    <tr>\n      <th>3</th>\n      <td>1</td>\n      <td>7494</td>\n      <td>1.0</td>\n    </tr>\n    <tr>\n      <th>4</th>\n      <td>1</td>\n      <td>17068</td>\n      <td>1.0</td>\n    </tr>\n    <tr>\n      <th>...</th>\n      <td>...</td>\n      <td>...</td>\n      <td>...</td>\n    </tr>\n    <tr>\n      <th>113263</th>\n      <td>7945</td>\n      <td>2476</td>\n      <td>1.0</td>\n    </tr>\n    <tr>\n      <th>113264</th>\n      <td>7945</td>\n      <td>12319</td>\n      <td>1.0</td>\n    </tr>\n    <tr>\n      <th>113265</th>\n      <td>7945</td>\n      <td>21384</td>\n      <td>1.0</td>\n    </tr>\n    <tr>\n      <th>113266</th>\n      <td>7946</td>\n      <td>8699</td>\n      <td>1.0</td>\n    </tr>\n    <tr>\n      <th>113267</th>\n      <td>7946</td>\n      <td>19178</td>\n      <td>1.0</td>\n    </tr>\n  </tbody>\n</table>\n<p>113268 rows × 3 columns</p>\n</div>"
     },
     "metadata": {},
     "execution_count": 2
    }
   ],
   "source": [
    "#data which contains users (row), items(col) and implicit interaction (data)\n",
    "dataset = pd.read_csv('data_train.csv')\n",
    "dataset"
   ]
  },
  {
   "cell_type": "code",
   "execution_count": 3,
   "metadata": {},
   "outputs": [
    {
     "output_type": "stream",
     "name": "stdout",
     "text": [
      "users stats: 7947 0 7946\nitems stats: 24896 0 25974\n"
     ]
    }
   ],
   "source": [
    "unique_users, min_users, max_users = len(dataset.row.unique()), dataset.row.min(), dataset.row.max()\n",
    "unique_items, min_items, max_items = len(dataset.col.unique()), dataset.col.min(), dataset.col.max()\n",
    "print('users stats:',unique_users, min_users, max_users)\n",
    "print('items stats:',unique_items, min_items, max_items)"
   ]
  },
  {
   "cell_type": "code",
   "execution_count": 4,
   "metadata": {},
   "outputs": [
    {
     "output_type": "execute_result",
     "data": {
      "text/plain": [
       "(7947, 25975)"
      ]
     },
     "metadata": {},
     "execution_count": 4
    }
   ],
   "source": [
    "users = dataset.row\n",
    "items = dataset.col\n",
    "data = dataset.data\n",
    "URM_all = sps.coo_matrix((data, (users, items)))\n",
    "URM_all = URM_all.tocsr() #fast row access -> fast access to users \n",
    "URM_all.shape"
   ]
  },
  {
   "cell_type": "code",
   "execution_count": 5,
   "metadata": {},
   "outputs": [],
   "source": [
    "items_per_user = np.ediff1d(URM_all.indptr) #tells in which position each of the rows begin\n",
    "users_per_item = np.ediff1d(sps.csc_matrix(URM_all).indptr)\n",
    "URM_all = sps.csr_matrix(URM_all)"
   ]
  },
  {
   "cell_type": "code",
   "execution_count": 6,
   "metadata": {},
   "outputs": [],
   "source": [
    "items_per_user = np.sort(items_per_user) #sorting based on the single value. Losing reference to the user. \n",
    "users_per_item = np.sort(users_per_item)"
   ]
  },
  {
   "cell_type": "code",
   "execution_count": 7,
   "metadata": {},
   "outputs": [
    {
     "output_type": "execute_result",
     "data": {
      "text/plain": [
       "          row    col      data\n",
       "0           0   1185  1.015524\n",
       "1           0   2507  0.459024\n",
       "2           0   3534  0.227742\n",
       "3           0   8766  0.501549\n",
       "4           0  10862  0.297011\n",
       "...       ...    ...       ...\n",
       "490686  25974  12554  0.963016\n",
       "490687  25974  13003  0.104613\n",
       "490688  25974  16236  0.118760\n",
       "490689  25974  18797  0.363301\n",
       "490690  25974  19629  0.129141\n",
       "\n",
       "[490691 rows x 3 columns]"
      ],
      "text/html": "<div>\n<style scoped>\n    .dataframe tbody tr th:only-of-type {\n        vertical-align: middle;\n    }\n\n    .dataframe tbody tr th {\n        vertical-align: top;\n    }\n\n    .dataframe thead th {\n        text-align: right;\n    }\n</style>\n<table border=\"1\" class=\"dataframe\">\n  <thead>\n    <tr style=\"text-align: right;\">\n      <th></th>\n      <th>row</th>\n      <th>col</th>\n      <th>data</th>\n    </tr>\n  </thead>\n  <tbody>\n    <tr>\n      <th>0</th>\n      <td>0</td>\n      <td>1185</td>\n      <td>1.015524</td>\n    </tr>\n    <tr>\n      <th>1</th>\n      <td>0</td>\n      <td>2507</td>\n      <td>0.459024</td>\n    </tr>\n    <tr>\n      <th>2</th>\n      <td>0</td>\n      <td>3534</td>\n      <td>0.227742</td>\n    </tr>\n    <tr>\n      <th>3</th>\n      <td>0</td>\n      <td>8766</td>\n      <td>0.501549</td>\n    </tr>\n    <tr>\n      <th>4</th>\n      <td>0</td>\n      <td>10862</td>\n      <td>0.297011</td>\n    </tr>\n    <tr>\n      <th>...</th>\n      <td>...</td>\n      <td>...</td>\n      <td>...</td>\n    </tr>\n    <tr>\n      <th>490686</th>\n      <td>25974</td>\n      <td>12554</td>\n      <td>0.963016</td>\n    </tr>\n    <tr>\n      <th>490687</th>\n      <td>25974</td>\n      <td>13003</td>\n      <td>0.104613</td>\n    </tr>\n    <tr>\n      <th>490688</th>\n      <td>25974</td>\n      <td>16236</td>\n      <td>0.118760</td>\n    </tr>\n    <tr>\n      <th>490689</th>\n      <td>25974</td>\n      <td>18797</td>\n      <td>0.363301</td>\n    </tr>\n    <tr>\n      <th>490690</th>\n      <td>25974</td>\n      <td>19629</td>\n      <td>0.129141</td>\n    </tr>\n  </tbody>\n</table>\n<p>490691 rows × 3 columns</p>\n</div>"
     },
     "metadata": {},
     "execution_count": 7
    }
   ],
   "source": [
    "ICM_df = pd.read_csv('data_ICM_title_abstract.csv')\n",
    "ICM_df"
   ]
  },
  {
   "cell_type": "code",
   "execution_count": 8,
   "metadata": {},
   "outputs": [
    {
     "output_type": "execute_result",
     "data": {
      "text/plain": [
       "(25975, 20000)"
      ]
     },
     "metadata": {},
     "execution_count": 8
    }
   ],
   "source": [
    "items = ICM_df.row\n",
    "features = ICM_df.col\n",
    "data = ICM_df.data\n",
    "ICM_all = sps.coo_matrix((data, (items, features)))\n",
    "ICM_all = ICM_all.tocsr() #fast row access -> fast access to users \n",
    "ICM_all.shape"
   ]
  },
  {
   "cell_type": "code",
   "execution_count": 9,
   "metadata": {},
   "outputs": [],
   "source": [
    "ICM_all = sps.csr_matrix(ICM_all)\n",
    "features_per_item = np.ediff1d(ICM_all.indptr)\n",
    "\n",
    "ICM_all = sps.csc_matrix(ICM_all)\n",
    "items_per_feature = np.ediff1d(ICM_all.indptr)\n",
    "\n",
    "ICM_all = sps.csr_matrix(ICM_all)"
   ]
  },
  {
   "cell_type": "code",
   "execution_count": 10,
   "metadata": {},
   "outputs": [],
   "source": [
    "features_per_item = np.sort(features_per_item)\n",
    "items_per_feature = np.sort(items_per_feature)"
   ]
  },
  {
   "cell_type": "code",
   "execution_count": 11,
   "metadata": {},
   "outputs": [
    {
     "output_type": "stream",
     "name": "stdout",
     "text": [
      "Warning: 43 (0.54 %) of 7947 users have no train items\nWarning: 2983 (37.54 %) of 7947 users have no sampled items\n"
     ]
    }
   ],
   "source": [
    "from Base.Evaluation.Evaluator import EvaluatorHoldout\n",
    "from Data_manager.split_functions.split_train_validation_random_holdout import split_train_in_two_percentage_global_sample\n",
    "\n",
    "URM_train, URM_validation = split_train_in_two_percentage_global_sample(URM_all, train_percentage = 0.85)\n",
    "evaluator_validation = EvaluatorHoldout(URM_validation, cutoff_list=[10])\n"
   ]
  },
  {
   "cell_type": "code",
   "execution_count": 13,
   "metadata": {},
   "outputs": [
    {
     "output_type": "stream",
     "name": "stdout",
     "text": [
      "P3alphaRecommender: URM Detected 43 (0.54 %) cold users.\n",
      "P3alphaRecommender: URM Detected 2006 (7.72 %) cold items.\n",
      "RP3betaRecommender: URM Detected 2 (0.01 %) cold users.\n",
      "RP3betaRecommender: URM Detected 25 (0.10 %) cold items.\n",
      "ItemKNNSimilarityHybridRecommender: URM Detected 43 (0.54 %) cold users.\n",
      "ItemKNNSimilarityHybridRecommender: URM Detected 2006 (7.72 %) cold items.\n",
      "EvaluatorHoldout: Processed 4964 ( 100.00% ) in 3.37 sec. Users per second: 1471\n"
     ]
    },
    {
     "output_type": "execute_result",
     "data": {
      "text/plain": [
       "({10: {'ROC_AUC': 0.16970983941521836,\n",
       "   'PRECISION': 0.036160354552779286,\n",
       "   'PRECISION_RECALL_MIN_DEN': 0.14002644436770184,\n",
       "   'RECALL': 0.13709766955465777,\n",
       "   'MAP': 0.06455406077956291,\n",
       "   'MRR': 0.12547029085606845,\n",
       "   'NDCG': 0.09628321204126619,\n",
       "   'F1': 0.057226790678185965,\n",
       "   'HIT_RATE': 0.36160354552780016,\n",
       "   'ARHR': 0.14315668048041152,\n",
       "   'NOVELTY': 0.004747281417282748,\n",
       "   'AVERAGE_POPULARITY': 0.11953674892964304,\n",
       "   'DIVERSITY_MEAN_INTER_LIST': 0.9812047751264271,\n",
       "   'DIVERSITY_HERFINDAHL': 0.9981007110989617,\n",
       "   'COVERAGE_ITEM': 0.3815206929740135,\n",
       "   'COVERAGE_ITEM_CORRECT': 0.03876804619826756,\n",
       "   'COVERAGE_USER': 0.6246382282622374,\n",
       "   'COVERAGE_USER_CORRECT': 0.1702529256323141,\n",
       "   'DIVERSITY_GINI': 0.11478750483617556,\n",
       "   'SHANNON_ENTROPY': 11.134327147629438}},\n",
       " 'CUTOFF: 10 - ROC_AUC: 0.1697098, PRECISION: 0.0361604, PRECISION_RECALL_MIN_DEN: 0.1400264, RECALL: 0.1370977, MAP: 0.0645541, MRR: 0.1254703, NDCG: 0.0962832, F1: 0.0572268, HIT_RATE: 0.3616035, ARHR: 0.1431567, NOVELTY: 0.0047473, AVERAGE_POPULARITY: 0.1195367, DIVERSITY_MEAN_INTER_LIST: 0.9812048, DIVERSITY_HERFINDAHL: 0.9981007, COVERAGE_ITEM: 0.3815207, COVERAGE_ITEM_CORRECT: 0.0387680, COVERAGE_USER: 0.6246382, COVERAGE_USER_CORRECT: 0.1702529, DIVERSITY_GINI: 0.1147875, SHANNON_ENTROPY: 11.1343271, \\n')"
      ]
     },
     "metadata": {},
     "execution_count": 13
    }
   ],
   "source": [
    "from GraphBased.P3alphaRecommender import P3alphaRecommender\n",
    "from GraphBased.RP3betaRecommender import RP3betaRecommender\n",
    "from KNN.ItemKNNCBFRecommender import ItemKNNCBFRecommender\n",
    "from KNN.ItemKNNSimilarityHybridRecommender import ItemKNNSimilarityHybridRecommender\n",
    "\n",
    "recommender_alpha = P3alphaRecommender(URM_train)\n",
    "recommender_alpha.fit(topK=170, alpha = 0.45, implicit = True)\n",
    "\n",
    "recommender_beta_ICM = RP3betaRecommender(ICM_all.T)\n",
    "recommender_beta_ICM.fit(topK=70, alpha=0.4, beta=0.2, implicit=True)\n",
    "recommender_beta_ICM.URM_train = URM_train\n",
    "\n",
    "hybridrecommender = ItemKNNSimilarityHybridRecommender(URM_train, recommender_alpha.W_sparse, recommender_beta_ICM.W_sparse)\n",
    "hybridrecommender.fit(topK=600, alpha = 0.45)\n",
    "\n",
    "evaluator_validation.evaluateRecommender(hybridrecommender)"
   ]
  },
  {
   "cell_type": "code",
   "execution_count": null,
   "metadata": {},
   "outputs": [],
   "source": [
    "test_users = pd.read_csv('data_target_users_test.csv')\n",
    "test_users"
   ]
  },
  {
   "cell_type": "code",
   "execution_count": null,
   "metadata": {},
   "outputs": [],
   "source": [
    "recommender_alpha = P3alphaRecommender(URM_all)\n",
    "recommender_alpha.fit(topK=475, alpha = 0.45, implicit = True)\n",
    "\n",
    "recommender_alpha_ICM = P3alphaRecommender(ICM_all.T)\n",
    "recommender_alpha_ICM.fit(topK=175, alpha = 0.45)\n",
    "recommender_alpha_ICM.URM_train = URM_train\n",
    "\n",
    "hybridrecommender = ItemKNNSimilarityHybridRecommender(URM_all, recommender_alpha_ICM.W_sparse, recommender_alpha.W_sparse)\n",
    "hybridrecommender.fit(topK=600, alpha = 0.45)\n",
    "\n",
    "user_id = test_users['user_id']\n",
    "recommendations = hybridrecommender.recommend(user_id,cutoff = 10)\n"
   ]
  },
  {
   "cell_type": "code",
   "execution_count": null,
   "metadata": {},
   "outputs": [],
   "source": [
    "for index in range(len(recommendations)):\n",
    "    #print(element)\n",
    "    recommendations[index]=np.array(recommendations[index])\n",
    "    #print(type(element))\n",
    "print(len(recommendations))"
   ]
  },
  {
   "cell_type": "code",
   "execution_count": null,
   "metadata": {},
   "outputs": [],
   "source": [
    "test_users['item_list']= recommendations\n",
    "#test_users['item_list'] =  test_users['item_list'].apply(lambda x: x.replace('[','').replace(']','')) \n",
    "test_users['item_list'] = pd.DataFrame([str(line).strip('[').strip(']').replace(\"'\",\"\") for line in test_users['item_list']])\n",
    "\n",
    "#convert the string columns to int\n",
    "#test_users['item_list'] = test_users['item_list'].astype(int)\n",
    "test_users\n",
    "test_users.to_csv('submission.csv', index=False)\n"
   ]
  },
  {
   "cell_type": "code",
   "execution_count": null,
   "metadata": {},
   "outputs": [],
   "source": []
  }
 ],
 "metadata": {
  "kernelspec": {
   "name": "python3",
   "display_name": "Python 3.8.5 64-bit",
   "metadata": {
    "interpreter": {
     "hash": "082e9a3bcad0a290d0001e938aa60b99250c6c2ef33a923c00b70f9826caf4b7"
    }
   }
  },
  "language_info": {
   "codemirror_mode": {
    "name": "ipython",
    "version": 3
   },
   "file_extension": ".py",
   "mimetype": "text/x-python",
   "name": "python",
   "nbconvert_exporter": "python",
   "pygments_lexer": "ipython3",
   "version": "3.8.5-final"
  }
 },
 "nbformat": 4,
 "nbformat_minor": 4
}