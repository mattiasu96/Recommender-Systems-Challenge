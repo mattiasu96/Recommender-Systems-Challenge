{
 "cells": [
  {
   "cell_type": "markdown",
   "metadata": {},
   "source": [
    "# Data loading \n",
    "Next cells are used to load the data we need."
   ]
  },
  {
   "cell_type": "code",
   "execution_count": 1,
   "metadata": {},
   "outputs": [],
   "source": [
    "import pandas as pd\n",
    "import numpy as np \n",
    "import scipy.sparse as sps\n",
    "import os\n",
    "import sys\n",
    "import matplotlib.pyplot as plt\n",
    "sys.path.append('..')\n"
   ]
  },
  {
   "cell_type": "code",
   "execution_count": 5,
   "metadata": {},
   "outputs": [
    {
     "data": {
      "text/html": [
       "<div>\n",
       "<style scoped>\n",
       "    .dataframe tbody tr th:only-of-type {\n",
       "        vertical-align: middle;\n",
       "    }\n",
       "\n",
       "    .dataframe tbody tr th {\n",
       "        vertical-align: top;\n",
       "    }\n",
       "\n",
       "    .dataframe thead th {\n",
       "        text-align: right;\n",
       "    }\n",
       "</style>\n",
       "<table border=\"1\" class=\"dataframe\">\n",
       "  <thead>\n",
       "    <tr style=\"text-align: right;\">\n",
       "      <th></th>\n",
       "      <th>row</th>\n",
       "      <th>col</th>\n",
       "      <th>data</th>\n",
       "    </tr>\n",
       "  </thead>\n",
       "  <tbody>\n",
       "    <tr>\n",
       "      <th>0</th>\n",
       "      <td>0</td>\n",
       "      <td>10080</td>\n",
       "      <td>1.0</td>\n",
       "    </tr>\n",
       "    <tr>\n",
       "      <th>1</th>\n",
       "      <td>0</td>\n",
       "      <td>19467</td>\n",
       "      <td>1.0</td>\n",
       "    </tr>\n",
       "    <tr>\n",
       "      <th>2</th>\n",
       "      <td>1</td>\n",
       "      <td>2665</td>\n",
       "      <td>1.0</td>\n",
       "    </tr>\n",
       "    <tr>\n",
       "      <th>3</th>\n",
       "      <td>1</td>\n",
       "      <td>7494</td>\n",
       "      <td>1.0</td>\n",
       "    </tr>\n",
       "    <tr>\n",
       "      <th>4</th>\n",
       "      <td>1</td>\n",
       "      <td>17068</td>\n",
       "      <td>1.0</td>\n",
       "    </tr>\n",
       "    <tr>\n",
       "      <th>...</th>\n",
       "      <td>...</td>\n",
       "      <td>...</td>\n",
       "      <td>...</td>\n",
       "    </tr>\n",
       "    <tr>\n",
       "      <th>113263</th>\n",
       "      <td>7945</td>\n",
       "      <td>2476</td>\n",
       "      <td>1.0</td>\n",
       "    </tr>\n",
       "    <tr>\n",
       "      <th>113264</th>\n",
       "      <td>7945</td>\n",
       "      <td>12319</td>\n",
       "      <td>1.0</td>\n",
       "    </tr>\n",
       "    <tr>\n",
       "      <th>113265</th>\n",
       "      <td>7945</td>\n",
       "      <td>21384</td>\n",
       "      <td>1.0</td>\n",
       "    </tr>\n",
       "    <tr>\n",
       "      <th>113266</th>\n",
       "      <td>7946</td>\n",
       "      <td>8699</td>\n",
       "      <td>1.0</td>\n",
       "    </tr>\n",
       "    <tr>\n",
       "      <th>113267</th>\n",
       "      <td>7946</td>\n",
       "      <td>19178</td>\n",
       "      <td>1.0</td>\n",
       "    </tr>\n",
       "  </tbody>\n",
       "</table>\n",
       "<p>113268 rows × 3 columns</p>\n",
       "</div>"
      ],
      "text/plain": [
       "         row    col  data\n",
       "0          0  10080   1.0\n",
       "1          0  19467   1.0\n",
       "2          1   2665   1.0\n",
       "3          1   7494   1.0\n",
       "4          1  17068   1.0\n",
       "...      ...    ...   ...\n",
       "113263  7945   2476   1.0\n",
       "113264  7945  12319   1.0\n",
       "113265  7945  21384   1.0\n",
       "113266  7946   8699   1.0\n",
       "113267  7946  19178   1.0\n",
       "\n",
       "[113268 rows x 3 columns]"
      ]
     },
     "execution_count": 5,
     "metadata": {},
     "output_type": "execute_result"
    }
   ],
   "source": [
    "#data which contains users (row), items(col) and implicit interaction (data)\n",
    "dataset = pd.read_csv('data_train.csv')\n",
    "dataset"
   ]
  },
  {
   "cell_type": "markdown",
   "metadata": {},
   "source": [
    "# Data pre-processing\n",
    "Pre-processing of data to check for missing users, items ecc..."
   ]
  },
  {
   "cell_type": "code",
   "execution_count": 6,
   "metadata": {},
   "outputs": [
    {
     "data": {
      "text/plain": [
       "(7947, 25975)"
      ]
     },
     "execution_count": 6,
     "metadata": {},
     "output_type": "execute_result"
    }
   ],
   "source": [
    "users = dataset.row\n",
    "items = dataset.col\n",
    "data = dataset.data\n",
    "URM_all = sps.coo_matrix((data, (users, items)))\n",
    "URM_all = URM_all.tocsr() #fast row access -> fast access to users \n",
    "URM_all.shape"
   ]
  },
  {
   "cell_type": "code",
   "execution_count": 7,
   "metadata": {},
   "outputs": [
    {
     "name": "stdout",
     "output_type": "stream",
     "text": [
      "Warning: 37 (0.47 %) of 7947 users have no train items\n",
      "Warning: 2889 (36.35 %) of 7947 users have no sampled items\n"
     ]
    }
   ],
   "source": [
    "from Base.Evaluation.Evaluator import EvaluatorHoldout\n",
    "from Data_manager.split_functions.split_train_validation_random_holdout import split_train_in_two_percentage_global_sample\n",
    "\n",
    "#splitting data into train and validation (from the previous training data)\n",
    "URM_train, URM_validation = split_train_in_two_percentage_global_sample(URM_all, train_percentage = 0.85)\n",
    "\n"
   ]
  },
  {
   "cell_type": "code",
   "execution_count": 8,
   "metadata": {},
   "outputs": [],
   "source": [
    "#evaluator for validation (used for hyperparameter tuning)\n",
    "evaluator_validation = EvaluatorHoldout(URM_validation, cutoff_list=[10])\n",
    "\n",
    "#evaluator for testing (the final one)\n",
    "#evaluator_test = EvaluatorHoldout(URM_test, cutoff_list=[10])"
   ]
  },
  {
   "cell_type": "code",
   "execution_count": 9,
   "metadata": {},
   "outputs": [
    {
     "name": "stdout",
     "output_type": "stream",
     "text": [
      "P3alphaRecommender: URM Detected 37 (0.47 %) cold users.\n",
      "P3alphaRecommender: URM Detected 1958 (7.54 %) cold items.\n"
     ]
    }
   ],
   "source": [
    "from GraphBased.P3alphaRecommender import P3alphaRecommender\n",
    "\n",
    "recommender = P3alphaRecommender(URM_train)"
   ]
  },
  {
   "cell_type": "code",
   "execution_count": 19,
   "metadata": {},
   "outputs": [
    {
     "name": "stdout",
     "output_type": "stream",
     "text": [
      "P3alphaRecommender: URM Detected 38 (0.48 %) cold users.\n",
      "P3alphaRecommender: URM Detected 1999 (7.70 %) cold items.\n",
      "EvaluatorHoldout: Processed 4935 ( 100.00% ) in 2.90 sec. Users per second: 1704\n",
      "P3alphaRecommender: URM Detected 38 (0.48 %) cold users.\n",
      "P3alphaRecommender: URM Detected 1999 (7.70 %) cold items.\n",
      "EvaluatorHoldout: Processed 4935 ( 100.00% ) in 2.98 sec. Users per second: 1658\n",
      "P3alphaRecommender: URM Detected 38 (0.48 %) cold users.\n",
      "P3alphaRecommender: URM Detected 1999 (7.70 %) cold items.\n",
      "EvaluatorHoldout: Processed 4935 ( 100.00% ) in 3.08 sec. Users per second: 1605\n",
      "P3alphaRecommender: URM Detected 38 (0.48 %) cold users.\n",
      "P3alphaRecommender: URM Detected 1999 (7.70 %) cold items.\n",
      "EvaluatorHoldout: Processed 4935 ( 100.00% ) in 2.90 sec. Users per second: 1703\n",
      "P3alphaRecommender: URM Detected 38 (0.48 %) cold users.\n",
      "P3alphaRecommender: URM Detected 1999 (7.70 %) cold items.\n",
      "EvaluatorHoldout: Processed 4935 ( 100.00% ) in 3.01 sec. Users per second: 1637\n",
      "P3alphaRecommender: URM Detected 38 (0.48 %) cold users.\n",
      "P3alphaRecommender: URM Detected 1999 (7.70 %) cold items.\n",
      "EvaluatorHoldout: Processed 4935 ( 100.00% ) in 2.98 sec. Users per second: 1656\n",
      "P3alphaRecommender: URM Detected 38 (0.48 %) cold users.\n",
      "P3alphaRecommender: URM Detected 1999 (7.70 %) cold items.\n",
      "EvaluatorHoldout: Processed 4935 ( 100.00% ) in 3.15 sec. Users per second: 1568\n",
      "P3alphaRecommender: URM Detected 38 (0.48 %) cold users.\n",
      "P3alphaRecommender: URM Detected 1999 (7.70 %) cold items.\n",
      "EvaluatorHoldout: Processed 4935 ( 100.00% ) in 3.87 sec. Users per second: 1274\n",
      "P3alphaRecommender: URM Detected 38 (0.48 %) cold users.\n",
      "P3alphaRecommender: URM Detected 1999 (7.70 %) cold items.\n",
      "EvaluatorHoldout: Processed 4935 ( 100.00% ) in 3.25 sec. Users per second: 1519\n",
      "P3alphaRecommender: URM Detected 38 (0.48 %) cold users.\n",
      "P3alphaRecommender: URM Detected 1999 (7.70 %) cold items.\n",
      "EvaluatorHoldout: Processed 4935 ( 100.00% ) in 3.31 sec. Users per second: 1493\n",
      "P3alphaRecommender: URM Detected 38 (0.48 %) cold users.\n",
      "P3alphaRecommender: URM Detected 1999 (7.70 %) cold items.\n",
      "EvaluatorHoldout: Processed 4935 ( 100.00% ) in 3.04 sec. Users per second: 1622\n",
      "P3alphaRecommender: URM Detected 38 (0.48 %) cold users.\n",
      "P3alphaRecommender: URM Detected 1999 (7.70 %) cold items.\n",
      "EvaluatorHoldout: Processed 4935 ( 100.00% ) in 3.07 sec. Users per second: 1605\n",
      "P3alphaRecommender: URM Detected 38 (0.48 %) cold users.\n",
      "P3alphaRecommender: URM Detected 1999 (7.70 %) cold items.\n",
      "EvaluatorHoldout: Processed 4935 ( 100.00% ) in 3.31 sec. Users per second: 1493\n",
      "P3alphaRecommender: URM Detected 38 (0.48 %) cold users.\n",
      "P3alphaRecommender: URM Detected 1999 (7.70 %) cold items.\n",
      "EvaluatorHoldout: Processed 4935 ( 100.00% ) in 3.06 sec. Users per second: 1612\n",
      "P3alphaRecommender: URM Detected 38 (0.48 %) cold users.\n",
      "P3alphaRecommender: URM Detected 1999 (7.70 %) cold items.\n",
      "EvaluatorHoldout: Processed 4935 ( 100.00% ) in 3.12 sec. Users per second: 1583\n",
      "P3alphaRecommender: URM Detected 38 (0.48 %) cold users.\n",
      "P3alphaRecommender: URM Detected 1999 (7.70 %) cold items.\n",
      "EvaluatorHoldout: Processed 4935 ( 100.00% ) in 3.05 sec. Users per second: 1619\n",
      "P3alphaRecommender: URM Detected 38 (0.48 %) cold users.\n",
      "P3alphaRecommender: URM Detected 1999 (7.70 %) cold items.\n",
      "EvaluatorHoldout: Processed 4935 ( 100.00% ) in 3.11 sec. Users per second: 1585\n",
      "P3alphaRecommender: URM Detected 38 (0.48 %) cold users.\n",
      "P3alphaRecommender: URM Detected 1999 (7.70 %) cold items.\n",
      "EvaluatorHoldout: Processed 4935 ( 100.00% ) in 3.21 sec. Users per second: 1537\n",
      "P3alphaRecommender: URM Detected 38 (0.48 %) cold users.\n",
      "P3alphaRecommender: URM Detected 1999 (7.70 %) cold items.\n",
      "EvaluatorHoldout: Processed 4935 ( 100.00% ) in 3.27 sec. Users per second: 1510\n",
      "P3alphaRecommender: URM Detected 38 (0.48 %) cold users.\n",
      "P3alphaRecommender: URM Detected 1999 (7.70 %) cold items.\n",
      "EvaluatorHoldout: Processed 4935 ( 100.00% ) in 3.25 sec. Users per second: 1519\n",
      "P3alphaRecommender: URM Detected 38 (0.48 %) cold users.\n",
      "P3alphaRecommender: URM Detected 1999 (7.70 %) cold items.\n",
      "EvaluatorHoldout: Processed 4935 ( 100.00% ) in 3.73 sec. Users per second: 1324\n",
      "P3alphaRecommender: URM Detected 38 (0.48 %) cold users.\n",
      "P3alphaRecommender: URM Detected 1999 (7.70 %) cold items.\n",
      "EvaluatorHoldout: Processed 4935 ( 100.00% ) in 3.32 sec. Users per second: 1485\n",
      "P3alphaRecommender: URM Detected 38 (0.48 %) cold users.\n",
      "P3alphaRecommender: URM Detected 1999 (7.70 %) cold items.\n",
      "EvaluatorHoldout: Processed 4935 ( 100.00% ) in 3.07 sec. Users per second: 1610\n",
      "P3alphaRecommender: URM Detected 38 (0.48 %) cold users.\n",
      "P3alphaRecommender: URM Detected 1999 (7.70 %) cold items.\n",
      "EvaluatorHoldout: Processed 4935 ( 100.00% ) in 3.04 sec. Users per second: 1625\n",
      "P3alphaRecommender: URM Detected 38 (0.48 %) cold users.\n",
      "P3alphaRecommender: URM Detected 1999 (7.70 %) cold items.\n",
      "EvaluatorHoldout: Processed 4935 ( 100.00% ) in 4.10 sec. Users per second: 1205\n",
      "P3alphaRecommender: URM Detected 38 (0.48 %) cold users.\n",
      "P3alphaRecommender: URM Detected 1999 (7.70 %) cold items.\n",
      "EvaluatorHoldout: Processed 4935 ( 100.00% ) in 3.63 sec. Users per second: 1360\n",
      "P3alphaRecommender: URM Detected 38 (0.48 %) cold users.\n",
      "P3alphaRecommender: URM Detected 1999 (7.70 %) cold items.\n",
      "EvaluatorHoldout: Processed 4935 ( 100.00% ) in 3.77 sec. Users per second: 1309\n",
      "P3alphaRecommender: URM Detected 38 (0.48 %) cold users.\n",
      "P3alphaRecommender: URM Detected 1999 (7.70 %) cold items.\n",
      "EvaluatorHoldout: Processed 4935 ( 100.00% ) in 4.63 sec. Users per second: 1067\n"
     ]
    }
   ],
   "source": [
    "x_tick = []\n",
    "collaborative_MAP = []\n",
    "\n",
    "for topK in [70,90,100,110,120,130,150]:\n",
    "    for alpha in [0.4,0.5,0.55,0.6]:\n",
    "     \n",
    "\n",
    "        x_tick.append(\"topk {}, alpha{}\".format(topK,alpha))\n",
    "\n",
    "\n",
    "        recommender = P3alphaRecommender(URM_train)\n",
    "\n",
    "         #remember to specify the positive threshold\n",
    "        recommender.fit(topK=topK, alpha=alpha, implicit=True)\n",
    "\n",
    "        result_dict, _ = evaluator_validation.evaluateRecommender(recommender)\n",
    "\n",
    "        collaborative_MAP.append(result_dict[10][\"MAP\"])"
   ]
  },
  {
   "cell_type": "code",
   "execution_count": 20,
   "metadata": {},
   "outputs": [
    {
     "name": "stdout",
     "output_type": "stream",
     "text": [
      "13 0.058225970751541255\n",
      "topk 110, alpha0.5\n"
     ]
    }
   ],
   "source": [
    "import operator\n",
    "index, value = max(enumerate(collaborative_MAP), key=operator.itemgetter(1))\n",
    "print(index, value)\n",
    "parameters = x_tick[index]\n",
    "print(parameters)"
   ]
  },
  {
   "cell_type": "code",
   "execution_count": 21,
   "metadata": {},
   "outputs": [
    {
     "data": {
      "image/png": "[encoded data removed]",
      "text/plain": [
       "<Figure size 1080x648 with 1 Axes>"
      ]
     },
     "metadata": {
      "needs_background": "light"
     },
     "output_type": "display_data"
    }
   ],
   "source": [
    "import matplotlib.ticker as ticker\n",
    "\n",
    "fig, ax = plt.subplots(1, 1, figsize=(15, 9))\n",
    "plt.plot(x_tick, collaborative_MAP, label=\"Collaborative\")\n",
    "ax.yaxis.set_major_locator(ticker.MultipleLocator(0.001))\n",
    "plt.ylabel('MAP')\n",
    "plt.xlabel('TopK')\n",
    "plt.xticks(rotation='vertical')\n",
    "plt.show()"
   ]
  },
  {
   "cell_type": "code",
   "execution_count": 10,
   "metadata": {},
   "outputs": [
    {
     "data": {
      "text/html": [
       "<div>\n",
       "<style scoped>\n",
       "    .dataframe tbody tr th:only-of-type {\n",
       "        vertical-align: middle;\n",
       "    }\n",
       "\n",
       "    .dataframe tbody tr th {\n",
       "        vertical-align: top;\n",
       "    }\n",
       "\n",
       "    .dataframe thead th {\n",
       "        text-align: right;\n",
       "    }\n",
       "</style>\n",
       "<table border=\"1\" class=\"dataframe\">\n",
       "  <thead>\n",
       "    <tr style=\"text-align: right;\">\n",
       "      <th></th>\n",
       "      <th>user_id</th>\n",
       "    </tr>\n",
       "  </thead>\n",
       "  <tbody>\n",
       "    <tr>\n",
       "      <th>0</th>\n",
       "      <td>0</td>\n",
       "    </tr>\n",
       "    <tr>\n",
       "      <th>1</th>\n",
       "      <td>1</td>\n",
       "    </tr>\n",
       "    <tr>\n",
       "      <th>2</th>\n",
       "      <td>2</td>\n",
       "    </tr>\n",
       "    <tr>\n",
       "      <th>3</th>\n",
       "      <td>3</td>\n",
       "    </tr>\n",
       "    <tr>\n",
       "      <th>4</th>\n",
       "      <td>4</td>\n",
       "    </tr>\n",
       "    <tr>\n",
       "      <th>...</th>\n",
       "      <td>...</td>\n",
       "    </tr>\n",
       "    <tr>\n",
       "      <th>7939</th>\n",
       "      <td>7942</td>\n",
       "    </tr>\n",
       "    <tr>\n",
       "      <th>7940</th>\n",
       "      <td>7943</td>\n",
       "    </tr>\n",
       "    <tr>\n",
       "      <th>7941</th>\n",
       "      <td>7944</td>\n",
       "    </tr>\n",
       "    <tr>\n",
       "      <th>7942</th>\n",
       "      <td>7945</td>\n",
       "    </tr>\n",
       "    <tr>\n",
       "      <th>7943</th>\n",
       "      <td>7946</td>\n",
       "    </tr>\n",
       "  </tbody>\n",
       "</table>\n",
       "<p>7944 rows × 1 columns</p>\n",
       "</div>"
      ],
      "text/plain": [
       "      user_id\n",
       "0           0\n",
       "1           1\n",
       "2           2\n",
       "3           3\n",
       "4           4\n",
       "...       ...\n",
       "7939     7942\n",
       "7940     7943\n",
       "7941     7944\n",
       "7942     7945\n",
       "7943     7946\n",
       "\n",
       "[7944 rows x 1 columns]"
      ]
     },
     "execution_count": 10,
     "metadata": {},
     "output_type": "execute_result"
    }
   ],
   "source": [
    "test_users = pd.read_csv('data_target_users_test.csv')\n",
    "test_users"
   ]
  },
  {
   "cell_type": "code",
   "execution_count": 11,
   "metadata": {},
   "outputs": [
    {
     "name": "stdout",
     "output_type": "stream",
     "text": [
      "P3alphaRecommender: URM Detected 1079 (4.15 %) cold items.\n"
     ]
    }
   ],
   "source": [
    "recommender = P3alphaRecommender(URM_all)\n",
    "\n",
    "recommender.fit(topK=200, alpha=0.5, implicit=True)\n",
    "\n",
    "user_id = test_users['user_id']\n",
    "recommendations = recommender.recommend(user_id,cutoff = 10)\n"
   ]
  },
  {
   "cell_type": "code",
   "execution_count": 13,
   "metadata": {},
   "outputs": [
    {
     "name": "stdout",
     "output_type": "stream",
     "text": [
      "0.0002625741\n"
     ]
    }
   ],
   "source": [
    "print(recommender.W_sparse.mean())"
   ]
  },
  {
   "cell_type": "code",
   "execution_count": 36,
   "metadata": {},
   "outputs": [
    {
     "name": "stdout",
     "output_type": "stream",
     "text": [
      "7944\n"
     ]
    }
   ],
   "source": [
    "for index in range(len(recommendations)):\n",
    "    #print(element)\n",
    "    recommendations[index]=np.array(recommendations[index])\n",
    "    #print(type(element))\n",
    "print(len(recommendations))"
   ]
  },
  {
   "cell_type": "code",
   "execution_count": 37,
   "metadata": {},
   "outputs": [],
   "source": [
    "test_users['item_list']= recommendations\n",
    "#test_users['item_list'] =  test_users['item_list'].apply(lambda x: x.replace('[','').replace(']','')) \n",
    "test_users['item_list'] = pd.DataFrame([str(line).strip('[').strip(']').replace(\"'\",\"\") for line in test_users['item_list']])\n",
    "\n",
    "#convert the string columns to int\n",
    "#test_users['item_list'] = test_users['item_list'].astype(int)\n",
    "test_users\n",
    "test_users.to_csv('submission.csv', index=False)\n"
   ]
  },
  {
   "cell_type": "code",
   "execution_count": null,
   "metadata": {},
   "outputs": [],
   "source": []
  }
 ],
 "metadata": {
  "kernelspec": {
   "display_name": "Python 3",
   "language": "python",
   "name": "python3"
  },
  "language_info": {
   "codemirror_mode": {
    "name": "ipython",
    "version": 3
   },
   "file_extension": ".py",
   "mimetype": "text/x-python",
   "name": "python",
   "nbconvert_exporter": "python",
   "pygments_lexer": "ipython3",
   "version": "3.8.5"
  }
 },
 "nbformat": 4,
 "nbformat_minor": 4
}
