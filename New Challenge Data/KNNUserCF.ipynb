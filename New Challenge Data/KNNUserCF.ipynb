{
 "cells": [
  {
   "cell_type": "markdown",
   "metadata": {},
   "source": [
    "# Data loading \n",
    "Next cells are used to load the data we need."
   ]
  },
  {
   "cell_type": "code",
   "execution_count": 1,
   "metadata": {},
   "outputs": [],
   "source": [
    "import pandas as pd\n",
    "import numpy as np \n",
    "import scipy.sparse as sps\n",
    "import os\n",
    "import sys\n",
    "import matplotlib.pyplot as plt\n",
    "sys.path.append('..')\n"
   ]
  },
  {
   "cell_type": "code",
   "execution_count": 2,
   "metadata": {},
   "outputs": [
    {
     "data": {
      "text/html": [
       "<div>\n",
       "<style scoped>\n",
       "    .dataframe tbody tr th:only-of-type {\n",
       "        vertical-align: middle;\n",
       "    }\n",
       "\n",
       "    .dataframe tbody tr th {\n",
       "        vertical-align: top;\n",
       "    }\n",
       "\n",
       "    .dataframe thead th {\n",
       "        text-align: right;\n",
       "    }\n",
       "</style>\n",
       "<table border=\"1\" class=\"dataframe\">\n",
       "  <thead>\n",
       "    <tr style=\"text-align: right;\">\n",
       "      <th></th>\n",
       "      <th>row</th>\n",
       "      <th>col</th>\n",
       "      <th>data</th>\n",
       "    </tr>\n",
       "  </thead>\n",
       "  <tbody>\n",
       "    <tr>\n",
       "      <th>0</th>\n",
       "      <td>0</td>\n",
       "      <td>10080</td>\n",
       "      <td>1.0</td>\n",
       "    </tr>\n",
       "    <tr>\n",
       "      <th>1</th>\n",
       "      <td>0</td>\n",
       "      <td>19467</td>\n",
       "      <td>1.0</td>\n",
       "    </tr>\n",
       "    <tr>\n",
       "      <th>2</th>\n",
       "      <td>1</td>\n",
       "      <td>2665</td>\n",
       "      <td>1.0</td>\n",
       "    </tr>\n",
       "    <tr>\n",
       "      <th>3</th>\n",
       "      <td>1</td>\n",
       "      <td>7494</td>\n",
       "      <td>1.0</td>\n",
       "    </tr>\n",
       "    <tr>\n",
       "      <th>4</th>\n",
       "      <td>1</td>\n",
       "      <td>17068</td>\n",
       "      <td>1.0</td>\n",
       "    </tr>\n",
       "    <tr>\n",
       "      <th>...</th>\n",
       "      <td>...</td>\n",
       "      <td>...</td>\n",
       "      <td>...</td>\n",
       "    </tr>\n",
       "    <tr>\n",
       "      <th>113263</th>\n",
       "      <td>7945</td>\n",
       "      <td>2476</td>\n",
       "      <td>1.0</td>\n",
       "    </tr>\n",
       "    <tr>\n",
       "      <th>113264</th>\n",
       "      <td>7945</td>\n",
       "      <td>12319</td>\n",
       "      <td>1.0</td>\n",
       "    </tr>\n",
       "    <tr>\n",
       "      <th>113265</th>\n",
       "      <td>7945</td>\n",
       "      <td>21384</td>\n",
       "      <td>1.0</td>\n",
       "    </tr>\n",
       "    <tr>\n",
       "      <th>113266</th>\n",
       "      <td>7946</td>\n",
       "      <td>8699</td>\n",
       "      <td>1.0</td>\n",
       "    </tr>\n",
       "    <tr>\n",
       "      <th>113267</th>\n",
       "      <td>7946</td>\n",
       "      <td>19178</td>\n",
       "      <td>1.0</td>\n",
       "    </tr>\n",
       "  </tbody>\n",
       "</table>\n",
       "<p>113268 rows × 3 columns</p>\n",
       "</div>"
      ],
      "text/plain": [
       "         row    col  data\n",
       "0          0  10080   1.0\n",
       "1          0  19467   1.0\n",
       "2          1   2665   1.0\n",
       "3          1   7494   1.0\n",
       "4          1  17068   1.0\n",
       "...      ...    ...   ...\n",
       "113263  7945   2476   1.0\n",
       "113264  7945  12319   1.0\n",
       "113265  7945  21384   1.0\n",
       "113266  7946   8699   1.0\n",
       "113267  7946  19178   1.0\n",
       "\n",
       "[113268 rows x 3 columns]"
      ]
     },
     "execution_count": 2,
     "metadata": {},
     "output_type": "execute_result"
    }
   ],
   "source": [
    "#data which contains users (row), items(col) and implicit interaction (data)\n",
    "dataset = pd.read_csv('data_train.csv')\n",
    "dataset"
   ]
  },
  {
   "cell_type": "markdown",
   "metadata": {},
   "source": [
    "# Data pre-processing\n",
    "Pre-processing of data to check for missing users, items ecc..."
   ]
  },
  {
   "cell_type": "code",
   "execution_count": 3,
   "metadata": {},
   "outputs": [
    {
     "data": {
      "text/plain": [
       "(7947, 25975)"
      ]
     },
     "execution_count": 3,
     "metadata": {},
     "output_type": "execute_result"
    }
   ],
   "source": [
    "users = dataset.row\n",
    "items = dataset.col\n",
    "data = dataset.data\n",
    "URM_all = sps.coo_matrix((data, (users, items)))\n",
    "URM_all = URM_all.tocsr() #fast row access -> fast access to users \n",
    "URM_all.shape"
   ]
  },
  {
   "cell_type": "code",
   "execution_count": 4,
   "metadata": {},
   "outputs": [
    {
     "name": "stdout",
     "output_type": "stream",
     "text": [
      "Warning: 39 (0.49 %) of 7947 users have no train items\n",
      "Warning: 2969 (37.36 %) of 7947 users have no sampled items\n"
     ]
    }
   ],
   "source": [
    "from Base.Evaluation.Evaluator import EvaluatorHoldout\n",
    "from Data_manager.split_functions.split_train_validation_random_holdout import split_train_in_two_percentage_global_sample\n",
    "\n",
    "URM_train, URM_validation = split_train_in_two_percentage_global_sample(URM_all, train_percentage = 0.85)\n",
    "evaluator_validation = EvaluatorHoldout(URM_validation, cutoff_list=[10])"
   ]
  },
  {
   "cell_type": "code",
   "execution_count": 5,
   "metadata": {},
   "outputs": [],
   "source": [
    "from skopt.space import Real, Integer, Categorical\n",
    "\n",
    "hyperparameters_range_dictionary = {}\n",
    "hyperparameters_range_dictionary[\"topK\"] = Integer(1, 800)\n",
    "hyperparameters_range_dictionary[\"shrink\"] = Integer(1, 800)"
   ]
  },
  {
   "cell_type": "code",
   "execution_count": 6,
   "metadata": {},
   "outputs": [],
   "source": [
    "from KNN.UserKNNCFRecommender import UserKNNCFRecommender\n",
    "from ParameterTuning.SearchBayesianSkopt import SearchBayesianSkopt\n",
    "\n",
    "recommender_class = UserKNNCFRecommender\n",
    "\n",
    "parameterSearch = SearchBayesianSkopt(recommender_class,\n",
    "                                 evaluator_validation=evaluator_validation,\n",
    "                                 evaluator_test=evaluator_validation)"
   ]
  },
  {
   "cell_type": "code",
   "execution_count": 7,
   "metadata": {},
   "outputs": [],
   "source": [
    "from ParameterTuning.SearchAbstractClass import SearchInputRecommenderArgs\n",
    "  \n",
    "recommender_input_args = SearchInputRecommenderArgs(\n",
    "    CONSTRUCTOR_POSITIONAL_ARGS = [URM_train],\n",
    "    CONSTRUCTOR_KEYWORD_ARGS = {},\n",
    "    FIT_POSITIONAL_ARGS = [],\n",
    "    FIT_KEYWORD_ARGS = {}\n",
    ")"
   ]
  },
  {
   "cell_type": "code",
   "execution_count": 8,
   "metadata": {},
   "outputs": [],
   "source": [
    "recommender_input_args_last_test = SearchInputRecommenderArgs(\n",
    "    CONSTRUCTOR_POSITIONAL_ARGS = [URM_all],\n",
    "    CONSTRUCTOR_KEYWORD_ARGS = {},\n",
    "    FIT_POSITIONAL_ARGS = [],\n",
    "    FIT_KEYWORD_ARGS = {}\n",
    ")"
   ]
  },
  {
   "cell_type": "code",
   "execution_count": 9,
   "metadata": {},
   "outputs": [],
   "source": [
    "import os\n",
    "\n",
    "output_folder_path = \"result_experiments/\"\n",
    "\n",
    "# If directory does not exist, create\n",
    "if not os.path.exists(output_folder_path):\n",
    "    os.makedirs(output_folder_path)\n",
    "    \n",
    "n_cases = 10\n",
    "n_random_starts = int(n_cases*0.3)\n",
    "metric_to_optimize = \"MAP\" "
   ]
  },
  {
   "cell_type": "code",
   "execution_count": 10,
   "metadata": {
    "tags": []
   },
   "outputs": [
    {
     "name": "stdout",
     "output_type": "stream",
     "text": [
      "Iteration No: 1 started. Evaluating function at random point.\n",
      "UserKNNCFRecommender: URM Detected 39 (0.49 %) cold users.\n",
      "UserKNNCFRecommender: URM Detected 1990 (7.66 %) cold items.\n",
      "SearchBayesianSkopt: Testing config: {'topK': 179, 'shrink': 680}\n",
      "Similarity column 7947 ( 100 % ), 15840.15 column/sec, elapsed time 0.01 min\n",
      "EvaluatorHoldout: Processed 4978 ( 100.00% ) in 3.28 sec. Users per second: 1518\n",
      "SearchBayesianSkopt: New best config found. Config 0: {'topK': 179, 'shrink': 680} - results: ROC_AUC: 0.1506947, PRECISION: 0.0292889, PRECISION_RECALL_MIN_DEN: 0.1206411, RECALL: 0.1184447, MAP: 0.0566233, MRR: 0.1107702, NDCG: 0.0835687, F1: 0.0469644, HIT_RATE: 0.2928887, ARHR: 0.1226245, NOVELTY: 0.0047429, AVERAGE_POPULARITY: 0.1170881, DIVERSITY_MEAN_INTER_LIST: 0.9832394, DIVERSITY_HERFINDAHL: 0.9983042, COVERAGE_ITEM: 0.3446776, COVERAGE_ITEM_CORRECT: 0.0289894, COVERAGE_USER: 0.6263999, COVERAGE_USER_CORRECT: 0.1463445, DIVERSITY_GINI: 0.0971026, SHANNON_ENTROPY: 11.0117482, \n",
      "\n",
      "EvaluatorHoldout: Processed 4978 ( 100.00% ) in 3.88 sec. Users per second: 1283\n",
      "SearchBayesianSkopt: Best config evaluated with evaluator_test. Config: {'topK': 179, 'shrink': 680} - results:\n",
      "CUTOFF: 10 - ROC_AUC: 0.1506947, PRECISION: 0.0292889, PRECISION_RECALL_MIN_DEN: 0.1206411, RECALL: 0.1184447, MAP: 0.0566233, MRR: 0.1107702, NDCG: 0.0835687, F1: 0.0469644, HIT_RATE: 0.2928887, ARHR: 0.1226245, NOVELTY: 0.0047429, AVERAGE_POPULARITY: 0.1170881, DIVERSITY_MEAN_INTER_LIST: 0.9832394, DIVERSITY_HERFINDAHL: 0.9983042, COVERAGE_ITEM: 0.3446776, COVERAGE_ITEM_CORRECT: 0.0289894, COVERAGE_USER: 0.6263999, COVERAGE_USER_CORRECT: 0.1463445, DIVERSITY_GINI: 0.0971026, SHANNON_ENTROPY: 11.0117482, \n",
      "\n",
      "\n",
      "DataIO: Json dumps supports only 'str' as dictionary keys. Transforming keys to string, note that this will alter the mapper content.\n",
      "Iteration No: 1 ended. Evaluation done at random point.\n",
      "Time taken: 7.7866\n",
      "Function value obtained: -0.0566\n",
      "Current minimum: -0.0566\n",
      "Iteration No: 2 started. Evaluating function at random point.\n",
      "UserKNNCFRecommender: URM Detected 39 (0.49 %) cold users.\n",
      "UserKNNCFRecommender: URM Detected 1990 (7.66 %) cold items.\n",
      "SearchBayesianSkopt: Testing config: {'topK': 135, 'shrink': 550}\n",
      "Similarity column 7947 ( 100 % ), 12753.73 column/sec, elapsed time 0.01 min\n",
      "EvaluatorHoldout: Processed 4978 ( 100.00% ) in 3.39 sec. Users per second: 1469\n",
      "SearchBayesianSkopt: New best config found. Config 1: {'topK': 135, 'shrink': 550} - results: ROC_AUC: 0.1525325, PRECISION: 0.0297308, PRECISION_RECALL_MIN_DEN: 0.1219616, RECALL: 0.1197083, MAP: 0.0575757, MRR: 0.1115139, NDCG: 0.0846354, F1: 0.0476318, HIT_RATE: 0.2973082, ARHR: 0.1237904, NOVELTY: 0.0048012, AVERAGE_POPULARITY: 0.1062671, DIVERSITY_MEAN_INTER_LIST: 0.9866452, DIVERSITY_HERFINDAHL: 0.9986447, COVERAGE_ITEM: 0.3640423, COVERAGE_ITEM_CORRECT: 0.0299134, COVERAGE_USER: 0.6263999, COVERAGE_USER_CORRECT: 0.1478545, DIVERSITY_GINI: 0.1091450, SHANNON_ENTROPY: 11.2614541, \n",
      "\n",
      "EvaluatorHoldout: Processed 4978 ( 100.00% ) in 3.42 sec. Users per second: 1456\n",
      "SearchBayesianSkopt: Best config evaluated with evaluator_test. Config: {'topK': 135, 'shrink': 550} - results:\n",
      "CUTOFF: 10 - ROC_AUC: 0.1525325, PRECISION: 0.0297308, PRECISION_RECALL_MIN_DEN: 0.1219616, RECALL: 0.1197083, MAP: 0.0575757, MRR: 0.1115139, NDCG: 0.0846354, F1: 0.0476318, HIT_RATE: 0.2973082, ARHR: 0.1237904, NOVELTY: 0.0048012, AVERAGE_POPULARITY: 0.1062671, DIVERSITY_MEAN_INTER_LIST: 0.9866452, DIVERSITY_HERFINDAHL: 0.9986447, COVERAGE_ITEM: 0.3640423, COVERAGE_ITEM_CORRECT: 0.0299134, COVERAGE_USER: 0.6263999, COVERAGE_USER_CORRECT: 0.1478545, DIVERSITY_GINI: 0.1091450, SHANNON_ENTROPY: 11.2614541, \n",
      "\n",
      "\n",
      "Iteration No: 2 ended. Evaluation done at random point.\n",
      "Time taken: 7.5516\n",
      "Function value obtained: -0.0576\n",
      "Current minimum: -0.0576\n",
      "Iteration No: 3 started. Evaluating function at random point.\n",
      "UserKNNCFRecommender: URM Detected 39 (0.49 %) cold users.\n",
      "UserKNNCFRecommender: URM Detected 1990 (7.66 %) cold items.\n",
      "SearchBayesianSkopt: Testing config: {'topK': 555, 'shrink': 19}\n",
      "Similarity column 7947 ( 100 % ), 14141.25 column/sec, elapsed time 0.01 min\n",
      "EvaluatorHoldout: Processed 4978 ( 100.00% ) in 3.83 sec. Users per second: 1300\n",
      "SearchBayesianSkopt: Config 2 is suboptimal. Config: {'topK': 555, 'shrink': 19} - results: ROC_AUC: 0.1474726, PRECISION: 0.0286059, PRECISION_RECALL_MIN_DEN: 0.1185842, RECALL: 0.1164459, MAP: 0.0551366, MRR: 0.1074616, NDCG: 0.0817157, F1: 0.0459289, HIT_RATE: 0.2860587, ARHR: 0.1185211, NOVELTY: 0.0045345, AVERAGE_POPULARITY: 0.1665697, DIVERSITY_MEAN_INTER_LIST: 0.9601325, DIVERSITY_HERFINDAHL: 0.9959940, COVERAGE_ITEM: 0.2881232, COVERAGE_ITEM_CORRECT: 0.0252551, COVERAGE_USER: 0.6263999, COVERAGE_USER_CORRECT: 0.1443312, DIVERSITY_GINI: 0.0644663, SHANNON_ENTROPY: 10.0309369, \n",
      "\n",
      "Iteration No: 3 ended. Evaluation done at random point.\n",
      "Time taken: 4.6852\n",
      "Function value obtained: -0.0551\n",
      "Current minimum: -0.0576\n",
      "Iteration No: 4 started. Searching for the next optimal point.\n",
      "UserKNNCFRecommender: URM Detected 39 (0.49 %) cold users.\n",
      "UserKNNCFRecommender: URM Detected 1990 (7.66 %) cold items.\n",
      "SearchBayesianSkopt: Testing config: {'topK': 45, 'shrink': 266}\n",
      "Similarity column 7947 ( 100 % ), 15261.30 column/sec, elapsed time 0.01 min\n",
      "EvaluatorHoldout: Processed 4978 ( 100.00% ) in 3.79 sec. Users per second: 1315\n",
      "SearchBayesianSkopt: Config 3 is suboptimal. Config: {'topK': 45, 'shrink': 266} - results: ROC_AUC: 0.1446500, PRECISION: 0.0283246, PRECISION_RECALL_MIN_DEN: 0.1100400, RECALL: 0.1074824, MAP: 0.0520524, MRR: 0.1055100, NDCG: 0.0772316, F1: 0.0448342, HIT_RATE: 0.2832463, ARHR: 0.1176881, NOVELTY: 0.0050656, AVERAGE_POPULARITY: 0.0678077, DIVERSITY_MEAN_INTER_LIST: 0.9943008, DIVERSITY_HERFINDAHL: 0.9994101, COVERAGE_ITEM: 0.4604042, COVERAGE_ITEM_CORRECT: 0.0330703, COVERAGE_USER: 0.6263999, COVERAGE_USER_CORRECT: 0.1405562, DIVERSITY_GINI: 0.1812153, SHANNON_ENTROPY: 12.2495205, \n",
      "\n",
      "Iteration No: 4 ended. Search finished for the next optimal point.\n",
      "Time taken: 4.5627\n",
      "Function value obtained: -0.0521\n",
      "Current minimum: -0.0576\n",
      "Iteration No: 5 started. Searching for the next optimal point.\n",
      "UserKNNCFRecommender: URM Detected 39 (0.49 %) cold users.\n",
      "UserKNNCFRecommender: URM Detected 1990 (7.66 %) cold items.\n",
      "SearchBayesianSkopt: Testing config: {'topK': 753, 'shrink': 800}\n",
      "Similarity column 7947 ( 100 % ), 14555.13 column/sec, elapsed time 0.01 min\n",
      "EvaluatorHoldout: Processed 4978 ( 100.00% ) in 4.04 sec. Users per second: 1232\n",
      "SearchBayesianSkopt: Config 4 is suboptimal. Config: {'topK': 753, 'shrink': 800} - results: ROC_AUC: 0.1396678, PRECISION: 0.0268180, PRECISION_RECALL_MIN_DEN: 0.1137210, RECALL: 0.1117101, MAP: 0.0529537, MRR: 0.1020113, NDCG: 0.0780347, F1: 0.0432525, HIT_RATE: 0.2681800, ARHR: 0.1123540, NOVELTY: 0.0045100, AVERAGE_POPULARITY: 0.1746048, DIVERSITY_MEAN_INTER_LIST: 0.9540091, DIVERSITY_HERFINDAHL: 0.9953817, COVERAGE_ITEM: 0.2823484, COVERAGE_ITEM_CORRECT: 0.0227141, COVERAGE_USER: 0.6263999, COVERAGE_USER_CORRECT: 0.1357745, DIVERSITY_GINI: 0.0613856, SHANNON_ENTROPY: 9.8962471, \n",
      "\n",
      "Iteration No: 5 ended. Search finished for the next optimal point.\n",
      "Time taken: 4.9295\n",
      "Function value obtained: -0.0530\n",
      "Current minimum: -0.0576\n",
      "Iteration No: 6 started. Searching for the next optimal point.\n",
      "UserKNNCFRecommender: URM Detected 39 (0.49 %) cold users.\n",
      "UserKNNCFRecommender: URM Detected 1990 (7.66 %) cold items.\n",
      "SearchBayesianSkopt: Testing config: {'topK': 349, 'shrink': 511}\n",
      "Similarity column 7947 ( 100 % ), 14638.19 column/sec, elapsed time 0.01 min\n",
      "EvaluatorHoldout: Processed 4978 ( 100.00% ) in 3.77 sec. Users per second: 1322\n",
      "SearchBayesianSkopt: Config 5 is suboptimal. Config: {'topK': 349, 'shrink': 511} - results: ROC_AUC: 0.1462839, PRECISION: 0.0282041, PRECISION_RECALL_MIN_DEN: 0.1158628, RECALL: 0.1137591, MAP: 0.0548966, MRR: 0.1072804, NDCG: 0.0808399, F1: 0.0452015, HIT_RATE: 0.2820410, ARHR: 0.1183216, NOVELTY: 0.0046132, AVERAGE_POPULARITY: 0.1454007, DIVERSITY_MEAN_INTER_LIST: 0.9715265, DIVERSITY_HERFINDAHL: 0.9971331, COVERAGE_ITEM: 0.3070260, COVERAGE_ITEM_CORRECT: 0.0256400, COVERAGE_USER: 0.6263999, COVERAGE_USER_CORRECT: 0.1425695, DIVERSITY_GINI: 0.0749395, SHANNON_ENTROPY: 10.4125643, \n",
      "\n",
      "Iteration No: 6 ended. Search finished for the next optimal point.\n",
      "Time taken: 4.5913\n",
      "Function value obtained: -0.0549\n",
      "Current minimum: -0.0576\n",
      "Iteration No: 7 started. Searching for the next optimal point.\n",
      "UserKNNCFRecommender: URM Detected 39 (0.49 %) cold users.\n",
      "UserKNNCFRecommender: URM Detected 1990 (7.66 %) cold items.\n",
      "SearchBayesianSkopt: Testing config: {'topK': 83, 'shrink': 630}\n",
      "Similarity column 7947 ( 100 % ), 14930.37 column/sec, elapsed time 0.01 min\n",
      "EvaluatorHoldout: Processed 4978 ( 100.00% ) in 3.15 sec. Users per second: 1582\n",
      "SearchBayesianSkopt: Config 6 is suboptimal. Config: {'topK': 83, 'shrink': 630} - results: ROC_AUC: 0.1504983, PRECISION: 0.0290679, PRECISION_RECALL_MIN_DEN: 0.1177118, RECALL: 0.1154108, MAP: 0.0559219, MRR: 0.1107309, NDCG: 0.0824496, F1: 0.0464394, HIT_RATE: 0.2906790, ARHR: 0.1223719, NOVELTY: 0.0049173, AVERAGE_POPULARITY: 0.0879119, DIVERSITY_MEAN_INTER_LIST: 0.9910564, DIVERSITY_HERFINDAHL: 0.9990857, COVERAGE_ITEM: 0.4036574, COVERAGE_ITEM_CORRECT: 0.0310683, COVERAGE_USER: 0.6263999, COVERAGE_USER_CORRECT: 0.1454637, DIVERSITY_GINI: 0.1367571, SHANNON_ENTROPY: 11.7181187, \n",
      "\n",
      "Iteration No: 7 ended. Search finished for the next optimal point.\n",
      "Time taken: 4.0573\n",
      "Function value obtained: -0.0559\n",
      "Current minimum: -0.0576\n",
      "Iteration No: 8 started. Searching for the next optimal point.\n",
      "UserKNNCFRecommender: URM Detected 39 (0.49 %) cold users.\n",
      "UserKNNCFRecommender: URM Detected 1990 (7.66 %) cold items.\n",
      "SearchBayesianSkopt: Testing config: {'topK': 216, 'shrink': 378}\n",
      "Similarity column 7947 ( 100 % ), 13970.51 column/sec, elapsed time 0.01 min\n",
      "EvaluatorHoldout: Processed 4978 ( 100.00% ) in 3.40 sec. Users per second: 1463\n",
      "SearchBayesianSkopt: Config 7 is suboptimal. Config: {'topK': 216, 'shrink': 378} - results: ROC_AUC: 0.1500684, PRECISION: 0.0290880, PRECISION_RECALL_MIN_DEN: 0.1203955, RECALL: 0.1181730, MAP: 0.0561617, MRR: 0.1097064, NDCG: 0.0830606, F1: 0.0466847, HIT_RATE: 0.2908799, ARHR: 0.1213463, NOVELTY: 0.0047033, AVERAGE_POPULARITY: 0.1250889, DIVERSITY_MEAN_INTER_LIST: 0.9803205, DIVERSITY_HERFINDAHL: 0.9980124, COVERAGE_ITEM: 0.3320115, COVERAGE_ITEM_CORRECT: 0.0279500, COVERAGE_USER: 0.6263999, COVERAGE_USER_CORRECT: 0.1460929, DIVERSITY_GINI: 0.0894890, SHANNON_ENTROPY: 10.8311502, \n",
      "\n",
      "Iteration No: 8 ended. Search finished for the next optimal point.\n",
      "Time taken: 4.2866\n",
      "Function value obtained: -0.0562\n",
      "Current minimum: -0.0576\n",
      "Iteration No: 9 started. Searching for the next optimal point.\n",
      "UserKNNCFRecommender: URM Detected 39 (0.49 %) cold users.\n",
      "UserKNNCFRecommender: URM Detected 1990 (7.66 %) cold items.\n",
      "SearchBayesianSkopt: Testing config: {'topK': 165, 'shrink': 473}\n",
      "Similarity column 7947 ( 100 % ), 16365.97 column/sec, elapsed time 0.01 min\n",
      "EvaluatorHoldout: Processed 4978 ( 100.00% ) in 3.14 sec. Users per second: 1583\n",
      "SearchBayesianSkopt: Config 8 is suboptimal. Config: {'topK': 165, 'shrink': 473} - results: ROC_AUC: 0.1510987, PRECISION: 0.0294094, PRECISION_RECALL_MIN_DEN: 0.1212250, RECALL: 0.1190102, MAP: 0.0575738, MRR: 0.1117142, NDCG: 0.0844236, F1: 0.0471638, HIT_RATE: 0.2940940, ARHR: 0.1238045, NOVELTY: 0.0047596, AVERAGE_POPULARITY: 0.1137080, DIVERSITY_MEAN_INTER_LIST: 0.9843271, DIVERSITY_HERFINDAHL: 0.9984129, COVERAGE_ITEM: 0.3518768, COVERAGE_ITEM_CORRECT: 0.0292974, COVERAGE_USER: 0.6263999, COVERAGE_USER_CORRECT: 0.1464704, DIVERSITY_GINI: 0.1008884, SHANNON_ENTROPY: 11.0886052, \n",
      "\n",
      "Iteration No: 9 ended. Search finished for the next optimal point.\n",
      "Time taken: 3.9298\n",
      "Function value obtained: -0.0576\n",
      "Current minimum: -0.0576\n",
      "Iteration No: 10 started. Searching for the next optimal point.\n",
      "UserKNNCFRecommender: URM Detected 39 (0.49 %) cold users.\n",
      "UserKNNCFRecommender: URM Detected 1990 (7.66 %) cold items.\n",
      "SearchBayesianSkopt: Testing config: {'topK': 518, 'shrink': 798}\n",
      "Similarity column 7947 ( 100 % ), 15643.18 column/sec, elapsed time 0.01 min\n",
      "EvaluatorHoldout: Processed 4978 ( 100.00% ) in 3.82 sec. Users per second: 1304\n",
      "SearchBayesianSkopt: Config 9 is suboptimal. Config: {'topK': 518, 'shrink': 798} - results: ROC_AUC: 0.1427027, PRECISION: 0.0272198, PRECISION_RECALL_MIN_DEN: 0.1146424, RECALL: 0.1125786, MAP: 0.0535784, MRR: 0.1039302, NDCG: 0.0789746, F1: 0.0438398, HIT_RATE: 0.2721977, ARHR: 0.1144757, NOVELTY: 0.0045520, AVERAGE_POPULARITY: 0.1619663, DIVERSITY_MEAN_INTER_LIST: 0.9623813, DIVERSITY_HERFINDAHL: 0.9962188, COVERAGE_ITEM: 0.2933205, COVERAGE_ITEM_CORRECT: 0.0236381, COVERAGE_USER: 0.6263999, COVERAGE_USER_CORRECT: 0.1381653, DIVERSITY_GINI: 0.0668421, SHANNON_ENTROPY: 10.1096799, \n",
      "\n",
      "Iteration No: 10 ended. Search finished for the next optimal point.\n",
      "Time taken: 4.6899\n",
      "Function value obtained: -0.0536\n",
      "Current minimum: -0.0576\n",
      "SearchBayesianSkopt: Search complete. Best config is 1: {'topK': 135, 'shrink': 550}\n",
      "\n",
      "UserKNNCFRecommender: URM Detected 1079 (4.15 %) cold items.\n",
      "SearchBayesianSkopt: Evaluation with constructor data for final test. Using best config: {'topK': 135, 'shrink': 550}\n",
      "Similarity column 7947 ( 100 % ), 12092.44 column/sec, elapsed time 0.01 min\n",
      "EvaluatorHoldout: Processed 4978 ( 100.00% ) in 3.25 sec. Users per second: 1534\n",
      "SearchBayesianSkopt: Best config evaluated with evaluator_test with constructor data for final test. Config: {'topK': 135, 'shrink': 550} - results:\n",
      "CUTOFF: 10 - ROC_AUC: 0.0000000, PRECISION: 0.0000000, PRECISION_RECALL_MIN_DEN: 0.0000000, RECALL: 0.0000000, MAP: 0.0000000, MRR: 0.0000000, NDCG: 0.0000000, F1: 0.0000000, HIT_RATE: 0.0000000, ARHR: 0.0000000, NOVELTY: 0.0047932, AVERAGE_POPULARITY: 0.1051884, DIVERSITY_MEAN_INTER_LIST: 0.9870893, DIVERSITY_HERFINDAHL: 0.9986891, COVERAGE_ITEM: 0.3556882, COVERAGE_ITEM_CORRECT: 0.0000000, COVERAGE_USER: 0.6263999, COVERAGE_USER_CORRECT: 0.0000000, DIVERSITY_GINI: 0.1053745, SHANNON_ENTROPY: 11.2610682, \n",
      "\n",
      "\n",
      "SearchBayesianSkopt: Saving model in result_experiments/UserKNNCFRecommender\n",
      "\n",
      "UserKNNCFRecommender: Saving model in file 'result_experiments/UserKNNCFRecommender_best_model_last'\n",
      "UserKNNCFRecommender: Saving complete\n"
     ]
    }
   ],
   "source": [
    "parameterSearch.search(recommender_input_args,\n",
    "                       recommender_input_args_last_test = recommender_input_args_last_test,\n",
    "                       parameter_search_space = hyperparameters_range_dictionary,\n",
    "                       n_cases = n_cases,\n",
    "                       n_random_starts = n_random_starts,\n",
    "                       save_model = \"last\",\n",
    "                       output_folder_path = output_folder_path,\n",
    "                       output_file_name_root = recommender_class.RECOMMENDER_NAME,\n",
    "                       metric_to_optimize = metric_to_optimize,\n",
    "                      )"
   ]
  },
  {
   "cell_type": "code",
   "execution_count": 11,
   "metadata": {},
   "outputs": [
    {
     "data": {
      "text/plain": [
       "{'topK': 135, 'shrink': 550}"
      ]
     },
     "execution_count": 11,
     "metadata": {},
     "output_type": "execute_result"
    }
   ],
   "source": [
    "from Base.DataIO import DataIO\n",
    "\n",
    "data_loader = DataIO(folder_path = output_folder_path)\n",
    "\n",
    "search_metadata = data_loader.load_data(recommender_class.RECOMMENDER_NAME + \"_metadata.zip\")\n",
    "\n",
    "hyperparameters_list = search_metadata[\"hyperparameters_list\"]\n",
    "\n",
    "best_parameters = search_metadata[\"hyperparameters_best\"]\n",
    "best_parameters"
   ]
  },
  {
   "cell_type": "code",
   "execution_count": 12,
   "metadata": {},
   "outputs": [
    {
     "data": {
      "text/html": [
       "<div>\n",
       "<style scoped>\n",
       "    .dataframe tbody tr th:only-of-type {\n",
       "        vertical-align: middle;\n",
       "    }\n",
       "\n",
       "    .dataframe tbody tr th {\n",
       "        vertical-align: top;\n",
       "    }\n",
       "\n",
       "    .dataframe thead th {\n",
       "        text-align: right;\n",
       "    }\n",
       "</style>\n",
       "<table border=\"1\" class=\"dataframe\">\n",
       "  <thead>\n",
       "    <tr style=\"text-align: right;\">\n",
       "      <th></th>\n",
       "      <th>user_id</th>\n",
       "    </tr>\n",
       "  </thead>\n",
       "  <tbody>\n",
       "    <tr>\n",
       "      <th>0</th>\n",
       "      <td>0</td>\n",
       "    </tr>\n",
       "    <tr>\n",
       "      <th>1</th>\n",
       "      <td>1</td>\n",
       "    </tr>\n",
       "    <tr>\n",
       "      <th>2</th>\n",
       "      <td>2</td>\n",
       "    </tr>\n",
       "    <tr>\n",
       "      <th>3</th>\n",
       "      <td>3</td>\n",
       "    </tr>\n",
       "    <tr>\n",
       "      <th>4</th>\n",
       "      <td>4</td>\n",
       "    </tr>\n",
       "    <tr>\n",
       "      <th>...</th>\n",
       "      <td>...</td>\n",
       "    </tr>\n",
       "    <tr>\n",
       "      <th>7939</th>\n",
       "      <td>7942</td>\n",
       "    </tr>\n",
       "    <tr>\n",
       "      <th>7940</th>\n",
       "      <td>7943</td>\n",
       "    </tr>\n",
       "    <tr>\n",
       "      <th>7941</th>\n",
       "      <td>7944</td>\n",
       "    </tr>\n",
       "    <tr>\n",
       "      <th>7942</th>\n",
       "      <td>7945</td>\n",
       "    </tr>\n",
       "    <tr>\n",
       "      <th>7943</th>\n",
       "      <td>7946</td>\n",
       "    </tr>\n",
       "  </tbody>\n",
       "</table>\n",
       "<p>7944 rows × 1 columns</p>\n",
       "</div>"
      ],
      "text/plain": [
       "      user_id\n",
       "0           0\n",
       "1           1\n",
       "2           2\n",
       "3           3\n",
       "4           4\n",
       "...       ...\n",
       "7939     7942\n",
       "7940     7943\n",
       "7941     7944\n",
       "7942     7945\n",
       "7943     7946\n",
       "\n",
       "[7944 rows x 1 columns]"
      ]
     },
     "execution_count": 12,
     "metadata": {},
     "output_type": "execute_result"
    }
   ],
   "source": [
    "test_users = pd.read_csv('data_target_users_test.csv')\n",
    "test_users"
   ]
  },
  {
   "cell_type": "code",
   "execution_count": 13,
   "metadata": {},
   "outputs": [
    {
     "name": "stdout",
     "output_type": "stream",
     "text": [
      "UserKNNCFRecommender: URM Detected 1079 (4.15 %) cold items.\n",
      "Similarity column 7947 ( 100 % ), 15535.90 column/sec, elapsed time 0.01 min\n"
     ]
    }
   ],
   "source": [
    "recommender = UserKNNCFRecommender(URM_all)\n",
    "recommender.fit(shrink=100, topK=150, feature_weighting = \"TF-IDF\")\n",
    "\n",
    "user_id = test_users['user_id']\n",
    "recommendations = recommender.recommend(user_id,cutoff = 10)\n"
   ]
  },
  {
   "cell_type": "code",
   "execution_count": 14,
   "metadata": {},
   "outputs": [
    {
     "name": "stdout",
     "output_type": "stream",
     "text": [
      "7944\n"
     ]
    }
   ],
   "source": [
    "for index in range(len(recommendations)):\n",
    "    #print(element)\n",
    "    recommendations[index]=np.array(recommendations[index])\n",
    "    #print(type(element))\n",
    "print(len(recommendations))\n",
    "\n",
    "test_users['item_list']= recommendations\n",
    "test_users['item_list'] = pd.DataFrame([str(line).strip('[').strip(']').replace(\"'\",\"\") for line in test_users['item_list']])\n",
    "\n",
    "test_users\n",
    "test_users.to_csv('submission.csv', index=False)\n"
   ]
  }
 ],
 "metadata": {
  "kernelspec": {
   "display_name": "Python 3",
   "language": "python",
   "name": "python3"
  },
  "language_info": {
   "codemirror_mode": {
    "name": "ipython",
    "version": 3
   },
   "file_extension": ".py",
   "mimetype": "text/x-python",
   "name": "python",
   "nbconvert_exporter": "python",
   "pygments_lexer": "ipython3",
   "version": "3.8.5"
  }
 },
 "nbformat": 4,
 "nbformat_minor": 4
}
