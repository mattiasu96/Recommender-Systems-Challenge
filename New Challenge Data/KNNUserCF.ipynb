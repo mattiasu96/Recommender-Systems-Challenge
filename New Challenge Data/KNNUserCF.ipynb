{
 "cells": [
  {
   "cell_type": "markdown",
   "metadata": {},
   "source": [
    "# Data loading \n",
    "Next cells are used to load the data we need."
   ]
  },
  {
   "cell_type": "code",
   "execution_count": 1,
   "metadata": {},
   "outputs": [],
   "source": [
    "import pandas as pd\n",
    "import numpy as np \n",
    "import scipy.sparse as sps\n",
    "import os\n",
    "import sys\n",
    "import matplotlib.pyplot as plt\n",
    "sys.path.append('..')\n"
   ]
  },
  {
   "cell_type": "code",
   "execution_count": 2,
   "metadata": {},
   "outputs": [
    {
     "data": {
      "text/html": [
       "<div>\n",
       "<style scoped>\n",
       "    .dataframe tbody tr th:only-of-type {\n",
       "        vertical-align: middle;\n",
       "    }\n",
       "\n",
       "    .dataframe tbody tr th {\n",
       "        vertical-align: top;\n",
       "    }\n",
       "\n",
       "    .dataframe thead th {\n",
       "        text-align: right;\n",
       "    }\n",
       "</style>\n",
       "<table border=\"1\" class=\"dataframe\">\n",
       "  <thead>\n",
       "    <tr style=\"text-align: right;\">\n",
       "      <th></th>\n",
       "      <th>row</th>\n",
       "      <th>col</th>\n",
       "      <th>data</th>\n",
       "    </tr>\n",
       "  </thead>\n",
       "  <tbody>\n",
       "    <tr>\n",
       "      <th>0</th>\n",
       "      <td>0</td>\n",
       "      <td>10080</td>\n",
       "      <td>1.0</td>\n",
       "    </tr>\n",
       "    <tr>\n",
       "      <th>1</th>\n",
       "      <td>0</td>\n",
       "      <td>19467</td>\n",
       "      <td>1.0</td>\n",
       "    </tr>\n",
       "    <tr>\n",
       "      <th>2</th>\n",
       "      <td>1</td>\n",
       "      <td>2665</td>\n",
       "      <td>1.0</td>\n",
       "    </tr>\n",
       "    <tr>\n",
       "      <th>3</th>\n",
       "      <td>1</td>\n",
       "      <td>7494</td>\n",
       "      <td>1.0</td>\n",
       "    </tr>\n",
       "    <tr>\n",
       "      <th>4</th>\n",
       "      <td>1</td>\n",
       "      <td>17068</td>\n",
       "      <td>1.0</td>\n",
       "    </tr>\n",
       "    <tr>\n",
       "      <th>...</th>\n",
       "      <td>...</td>\n",
       "      <td>...</td>\n",
       "      <td>...</td>\n",
       "    </tr>\n",
       "    <tr>\n",
       "      <th>113263</th>\n",
       "      <td>7945</td>\n",
       "      <td>2476</td>\n",
       "      <td>1.0</td>\n",
       "    </tr>\n",
       "    <tr>\n",
       "      <th>113264</th>\n",
       "      <td>7945</td>\n",
       "      <td>12319</td>\n",
       "      <td>1.0</td>\n",
       "    </tr>\n",
       "    <tr>\n",
       "      <th>113265</th>\n",
       "      <td>7945</td>\n",
       "      <td>21384</td>\n",
       "      <td>1.0</td>\n",
       "    </tr>\n",
       "    <tr>\n",
       "      <th>113266</th>\n",
       "      <td>7946</td>\n",
       "      <td>8699</td>\n",
       "      <td>1.0</td>\n",
       "    </tr>\n",
       "    <tr>\n",
       "      <th>113267</th>\n",
       "      <td>7946</td>\n",
       "      <td>19178</td>\n",
       "      <td>1.0</td>\n",
       "    </tr>\n",
       "  </tbody>\n",
       "</table>\n",
       "<p>113268 rows × 3 columns</p>\n",
       "</div>"
      ],
      "text/plain": [
       "         row    col  data\n",
       "0          0  10080   1.0\n",
       "1          0  19467   1.0\n",
       "2          1   2665   1.0\n",
       "3          1   7494   1.0\n",
       "4          1  17068   1.0\n",
       "...      ...    ...   ...\n",
       "113263  7945   2476   1.0\n",
       "113264  7945  12319   1.0\n",
       "113265  7945  21384   1.0\n",
       "113266  7946   8699   1.0\n",
       "113267  7946  19178   1.0\n",
       "\n",
       "[113268 rows x 3 columns]"
      ]
     },
     "execution_count": 2,
     "metadata": {},
     "output_type": "execute_result"
    }
   ],
   "source": [
    "#data which contains users (row), items(col) and implicit interaction (data)\n",
    "dataset = pd.read_csv('data_train.csv')\n",
    "dataset"
   ]
  },
  {
   "cell_type": "markdown",
   "metadata": {},
   "source": [
    "# Data pre-processing\n",
    "Pre-processing of data to check for missing users, items ecc..."
   ]
  },
  {
   "cell_type": "code",
   "execution_count": 3,
   "metadata": {},
   "outputs": [
    {
     "name": "stdout",
     "output_type": "stream",
     "text": [
      "users stats: 7947 0 7946\n",
      "items stats: 24896 0 25974\n"
     ]
    }
   ],
   "source": [
    "unique_users, min_users, max_users = len(dataset.row.unique()), dataset.row.min(), dataset.row.max()\n",
    "unique_items, min_items, max_items = len(dataset.col.unique()), dataset.col.min(), dataset.col.max()\n",
    "print('users stats:',unique_users, min_users, max_users)\n",
    "print('items stats:',unique_items, min_items, max_items)"
   ]
  },
  {
   "cell_type": "markdown",
   "metadata": {},
   "source": [
    "If the difference between the unique elements and the max/min ones is really big, it's better to remap users and items in a new dataframe. In this case, it seems I can leave it as it is"
   ]
  },
  {
   "cell_type": "code",
   "execution_count": 4,
   "metadata": {},
   "outputs": [
    {
     "data": {
      "text/plain": [
       "(7947, 25975)"
      ]
     },
     "execution_count": 4,
     "metadata": {},
     "output_type": "execute_result"
    }
   ],
   "source": [
    "users = dataset.row\n",
    "items = dataset.col\n",
    "data = dataset.data\n",
    "URM_all = sps.coo_matrix((data, (users, items)))\n",
    "URM_all = URM_all.tocsr() #fast row access -> fast access to users \n",
    "URM_all.shape"
   ]
  },
  {
   "cell_type": "markdown",
   "metadata": {},
   "source": [
    "CSR basically has a pointer to the exact beginning of every possible row. For example if i have <code>matrix.inptr = [0,1,2,4,6] </code> this means that at <code>matrix.inptr[n]</code> I have my n row which \"last\" until the next cell in the array. <br> In this case (for example) my third row goes from 2 to 4. <br>\n",
    "\n",
    "What do I do with it? <br>\n",
    "\n",
    "I use this index (2 to 4) to access the other two arrays of the crs format: <code>indices</code> and <code>data</code>.\n",
    "<code>indices</code> gives me the column index and <code>data</code> gives me the actual data to take"
   ]
  },
  {
   "cell_type": "code",
   "execution_count": 5,
   "metadata": {},
   "outputs": [],
   "source": [
    "items_per_user = np.ediff1d(URM_all.indptr) #tells in which position each of the rows begin\n",
    "users_per_item = np.ediff1d(sps.csc_matrix(URM_all).indptr)\n",
    "URM_all = sps.csr_matrix(URM_all)"
   ]
  },
  {
   "cell_type": "code",
   "execution_count": 6,
   "metadata": {},
   "outputs": [],
   "source": [
    "items_per_user = np.sort(items_per_user) #sorting based on the single value. Losing reference to the user. \n",
    "users_per_item = np.sort(users_per_item)"
   ]
  },
  {
   "cell_type": "markdown",
   "metadata": {},
   "source": [
    "The following 2 graphs plots the <code>items_per_user</code> and the <code>users_per_item</code>. It shows that slightly more than 2500 users and 2500 items have a 0 count. This is coherent with the original data we got: 30910-27255 for users and 18494-15277 for items. These differences are the missing users/items in the dataset (Basically users/items that have no interaction at all)"
   ]
  },
  {
   "cell_type": "code",
   "execution_count": 7,
   "metadata": {},
   "outputs": [
    {
     "data": {
      "text/plain": [
       "[<matplotlib.lines.Line2D at 0x22f6551bbb0>]"
      ]
     },
     "execution_count": 7,
     "metadata": {},
     "output_type": "execute_result"
    },
    {
     "data": {
      "image/png": "[encoded data removed]",
      "text/plain": [
       "<Figure size 1080x864 with 1 Axes>"
      ]
     },
     "metadata": {
      "needs_background": "light"
     },
     "output_type": "display_data"
    }
   ],
   "source": [
    "plt.figure(figsize=(15,12))\n",
    "plt.plot(items_per_user, 'ro') #biased dataset, but not so much compared with the one seen at lessons "
   ]
  },
  {
   "cell_type": "code",
   "execution_count": 8,
   "metadata": {},
   "outputs": [
    {
     "data": {
      "text/plain": [
       "[<matplotlib.lines.Line2D at 0x22f65268cd0>]"
      ]
     },
     "execution_count": 8,
     "metadata": {},
     "output_type": "execute_result"
    },
    {
     "data": {
      "image/png": "[encoded data removed]",
      "text/plain": [
       "<Figure size 1080x864 with 1 Axes>"
      ]
     },
     "metadata": {
      "needs_background": "light"
     },
     "output_type": "display_data"
    }
   ],
   "source": [
    "plt.figure(figsize=(15,12))\n",
    "plt.plot(users_per_item, 'ro') #biased dataset, but not so much compared with the one seen at lessons "
   ]
  },
  {
   "cell_type": "code",
   "execution_count": 21,
   "metadata": {},
   "outputs": [
    {
     "name": "stdout",
     "output_type": "stream",
     "text": [
      "Warning: 35 (0.44 %) of 7947 users have no train items\n",
      "Warning: 2992 (37.65 %) of 7947 users have no sampled items\n"
     ]
    }
   ],
   "source": [
    "from Base.Evaluation.Evaluator import EvaluatorHoldout\n",
    "from Data_manager.split_functions.split_train_validation_random_holdout import split_train_in_two_percentage_global_sample\n",
    "\n",
    "#splitting data into train and test. In teoria non serve, da vedere\n",
    "#URM_train, URM_test = split_train_in_two_percentage_global_sample(URM_all, train_percentage = 0.85)\n",
    "\n",
    "#splitting data into train and validation (from the previous training data)\n",
    "URM_train, URM_validation = split_train_in_two_percentage_global_sample(URM_all, train_percentage = 0.85)\n",
    "\n"
   ]
  },
  {
   "cell_type": "code",
   "execution_count": 22,
   "metadata": {},
   "outputs": [],
   "source": [
    "#evaluator for validation (used for hyperparameter tuning)\n",
    "evaluator_validation = EvaluatorHoldout(URM_validation, cutoff_list=[10])\n",
    "\n",
    "#evaluator for testing (the final one)\n",
    "#evaluator_test = EvaluatorHoldout(URM_test, cutoff_list=[10])"
   ]
  },
  {
   "cell_type": "code",
   "execution_count": 23,
   "metadata": {},
   "outputs": [
    {
     "name": "stdout",
     "output_type": "stream",
     "text": [
      "UserKNNCFRecommender: URM Detected 35 (0.44 %) cold users.\n",
      "UserKNNCFRecommender: URM Detected 2014 (7.75 %) cold items.\n"
     ]
    }
   ],
   "source": [
    "from KNN.UserKNNCFRecommender import UserKNNCFRecommender\n",
    "\n",
    "recommender = UserKNNCFRecommender(URM_train)"
   ]
  },
  {
   "cell_type": "code",
   "execution_count": 24,
   "metadata": {},
   "outputs": [
    {
     "name": "stdout",
     "output_type": "stream",
     "text": [
      "UserKNNCFRecommender: URM Detected 35 (0.44 %) cold users.\n",
      "UserKNNCFRecommender: URM Detected 2014 (7.75 %) cold items.\n",
      "Similarity column 7947 ( 100 % ), 13756.73 column/sec, elapsed time 0.01 min\n",
      "EvaluatorHoldout: Processed 4955 ( 100.00% ) in 3.09 sec. Users per second: 1601\n",
      "UserKNNCFRecommender: URM Detected 35 (0.44 %) cold users.\n",
      "UserKNNCFRecommender: URM Detected 2014 (7.75 %) cold items.\n",
      "Similarity column 7947 ( 100 % ), 14807.08 column/sec, elapsed time 0.01 min\n",
      "EvaluatorHoldout: Processed 4955 ( 100.00% ) in 3.27 sec. Users per second: 1514\n",
      "UserKNNCFRecommender: URM Detected 35 (0.44 %) cold users.\n",
      "UserKNNCFRecommender: URM Detected 2014 (7.75 %) cold items.\n",
      "Similarity column 7947 ( 100 % ), 14301.76 column/sec, elapsed time 0.01 min\n",
      "EvaluatorHoldout: Processed 4955 ( 100.00% ) in 3.17 sec. Users per second: 1562\n",
      "UserKNNCFRecommender: URM Detected 35 (0.44 %) cold users.\n",
      "UserKNNCFRecommender: URM Detected 2014 (7.75 %) cold items.\n",
      "Similarity column 7947 ( 100 % ), 14946.06 column/sec, elapsed time 0.01 min\n",
      "EvaluatorHoldout: Processed 4955 ( 100.00% ) in 3.16 sec. Users per second: 1568\n",
      "UserKNNCFRecommender: URM Detected 35 (0.44 %) cold users.\n",
      "UserKNNCFRecommender: URM Detected 2014 (7.75 %) cold items.\n",
      "Similarity column 7947 ( 100 % ), 13686.01 column/sec, elapsed time 0.01 min\n",
      "EvaluatorHoldout: Processed 4955 ( 100.00% ) in 3.10 sec. Users per second: 1600\n",
      "UserKNNCFRecommender: URM Detected 35 (0.44 %) cold users.\n",
      "UserKNNCFRecommender: URM Detected 2014 (7.75 %) cold items.\n",
      "Similarity column 7947 ( 100 % ), 14098.22 column/sec, elapsed time 0.01 min\n",
      "EvaluatorHoldout: Processed 4955 ( 100.00% ) in 3.10 sec. Users per second: 1600\n",
      "UserKNNCFRecommender: URM Detected 35 (0.44 %) cold users.\n",
      "UserKNNCFRecommender: URM Detected 2014 (7.75 %) cold items.\n",
      "Similarity column 7947 ( 100 % ), 14752.52 column/sec, elapsed time 0.01 min\n",
      "EvaluatorHoldout: Processed 4955 ( 100.00% ) in 3.17 sec. Users per second: 1563\n",
      "UserKNNCFRecommender: URM Detected 35 (0.44 %) cold users.\n",
      "UserKNNCFRecommender: URM Detected 2014 (7.75 %) cold items.\n",
      "Similarity column 7947 ( 100 % ), 14483.73 column/sec, elapsed time 0.01 min\n",
      "EvaluatorHoldout: Processed 4955 ( 100.00% ) in 3.19 sec. Users per second: 1551\n",
      "UserKNNCFRecommender: URM Detected 35 (0.44 %) cold users.\n",
      "UserKNNCFRecommender: URM Detected 2014 (7.75 %) cold items.\n",
      "Similarity column 7947 ( 100 % ), 14862.38 column/sec, elapsed time 0.01 min\n",
      "EvaluatorHoldout: Processed 4955 ( 100.00% ) in 3.14 sec. Users per second: 1580\n",
      "UserKNNCFRecommender: URM Detected 35 (0.44 %) cold users.\n",
      "UserKNNCFRecommender: URM Detected 2014 (7.75 %) cold items.\n",
      "Similarity column 7947 ( 100 % ), 13546.44 column/sec, elapsed time 0.01 min\n",
      "EvaluatorHoldout: Processed 4955 ( 100.00% ) in 3.20 sec. Users per second: 1547\n",
      "UserKNNCFRecommender: URM Detected 35 (0.44 %) cold users.\n",
      "UserKNNCFRecommender: URM Detected 2014 (7.75 %) cold items.\n",
      "Similarity column 7947 ( 100 % ), 13709.71 column/sec, elapsed time 0.01 min\n",
      "EvaluatorHoldout: Processed 4955 ( 100.00% ) in 3.20 sec. Users per second: 1549\n",
      "UserKNNCFRecommender: URM Detected 35 (0.44 %) cold users.\n",
      "UserKNNCFRecommender: URM Detected 2014 (7.75 %) cold items.\n",
      "Similarity column 7947 ( 100 % ), 11676.07 column/sec, elapsed time 0.01 min\n",
      "EvaluatorHoldout: Processed 4955 ( 100.00% ) in 3.64 sec. Users per second: 1360\n",
      "UserKNNCFRecommender: URM Detected 35 (0.44 %) cold users.\n",
      "UserKNNCFRecommender: URM Detected 2014 (7.75 %) cold items.\n",
      "Similarity column 7947 ( 100 % ), 13998.88 column/sec, elapsed time 0.01 min\n",
      "EvaluatorHoldout: Processed 4955 ( 100.00% ) in 3.29 sec. Users per second: 1507\n",
      "UserKNNCFRecommender: URM Detected 35 (0.44 %) cold users.\n",
      "UserKNNCFRecommender: URM Detected 2014 (7.75 %) cold items.\n",
      "Similarity column 7947 ( 100 % ), 13853.02 column/sec, elapsed time 0.01 min\n",
      "EvaluatorHoldout: Processed 4955 ( 100.00% ) in 3.23 sec. Users per second: 1534\n",
      "UserKNNCFRecommender: URM Detected 35 (0.44 %) cold users.\n",
      "UserKNNCFRecommender: URM Detected 2014 (7.75 %) cold items.\n",
      "Similarity column 7947 ( 100 % ), 13662.94 column/sec, elapsed time 0.01 min\n",
      "EvaluatorHoldout: Processed 4955 ( 100.00% ) in 3.22 sec. Users per second: 1537\n",
      "UserKNNCFRecommender: URM Detected 35 (0.44 %) cold users.\n",
      "UserKNNCFRecommender: URM Detected 2014 (7.75 %) cold items.\n",
      "Similarity column 7947 ( 100 % ), 13901.05 column/sec, elapsed time 0.01 min\n",
      "EvaluatorHoldout: Processed 4955 ( 100.00% ) in 3.41 sec. Users per second: 1452\n",
      "UserKNNCFRecommender: URM Detected 35 (0.44 %) cold users.\n",
      "UserKNNCFRecommender: URM Detected 2014 (7.75 %) cold items.\n",
      "Similarity column 7947 ( 100 % ), 13014.03 column/sec, elapsed time 0.01 min\n",
      "EvaluatorHoldout: Processed 4955 ( 100.00% ) in 3.32 sec. Users per second: 1494\n",
      "UserKNNCFRecommender: URM Detected 35 (0.44 %) cold users.\n",
      "UserKNNCFRecommender: URM Detected 2014 (7.75 %) cold items.\n",
      "Similarity column 7947 ( 100 % ), 13615.71 column/sec, elapsed time 0.01 min\n",
      "EvaluatorHoldout: Processed 4955 ( 100.00% ) in 3.28 sec. Users per second: 1511\n",
      "UserKNNCFRecommender: URM Detected 35 (0.44 %) cold users.\n",
      "UserKNNCFRecommender: URM Detected 2014 (7.75 %) cold items.\n",
      "Similarity column 7947 ( 100 % ), 13975.01 column/sec, elapsed time 0.01 min\n",
      "EvaluatorHoldout: Processed 4955 ( 100.00% ) in 3.28 sec. Users per second: 1513\n",
      "UserKNNCFRecommender: URM Detected 35 (0.44 %) cold users.\n",
      "UserKNNCFRecommender: URM Detected 2014 (7.75 %) cold items.\n",
      "Similarity column 7947 ( 100 % ), 13386.48 column/sec, elapsed time 0.01 min\n",
      "EvaluatorHoldout: Processed 4955 ( 100.00% ) in 3.54 sec. Users per second: 1401\n",
      "UserKNNCFRecommender: URM Detected 35 (0.44 %) cold users.\n",
      "UserKNNCFRecommender: URM Detected 2014 (7.75 %) cold items.\n",
      "Similarity column 7947 ( 100 % ), 11975.37 column/sec, elapsed time 0.01 min\n",
      "EvaluatorHoldout: Processed 4955 ( 100.00% ) in 3.44 sec. Users per second: 1440\n",
      "UserKNNCFRecommender: URM Detected 35 (0.44 %) cold users.\n",
      "UserKNNCFRecommender: URM Detected 2014 (7.75 %) cold items.\n",
      "Similarity column 7947 ( 100 % ), 12252.04 column/sec, elapsed time 0.01 min\n",
      "EvaluatorHoldout: Processed 4955 ( 100.00% ) in 3.40 sec. Users per second: 1459\n",
      "UserKNNCFRecommender: URM Detected 35 (0.44 %) cold users.\n",
      "UserKNNCFRecommender: URM Detected 2014 (7.75 %) cold items.\n",
      "Similarity column 7947 ( 100 % ), 13709.98 column/sec, elapsed time 0.01 min\n",
      "EvaluatorHoldout: Processed 4955 ( 100.00% ) in 3.33 sec. Users per second: 1487\n",
      "UserKNNCFRecommender: URM Detected 35 (0.44 %) cold users.\n",
      "UserKNNCFRecommender: URM Detected 2014 (7.75 %) cold items.\n",
      "Similarity column 7947 ( 100 % ), 13297.26 column/sec, elapsed time 0.01 min\n",
      "EvaluatorHoldout: Processed 4955 ( 100.00% ) in 3.94 sec. Users per second: 1258\n",
      "UserKNNCFRecommender: URM Detected 35 (0.44 %) cold users.\n",
      "UserKNNCFRecommender: URM Detected 2014 (7.75 %) cold items.\n",
      "Similarity column 7947 ( 100 % ), 10563.75 column/sec, elapsed time 0.01 min\n",
      "EvaluatorHoldout: Processed 4955 ( 100.00% ) in 3.50 sec. Users per second: 1414\n",
      "UserKNNCFRecommender: URM Detected 35 (0.44 %) cold users.\n",
      "UserKNNCFRecommender: URM Detected 2014 (7.75 %) cold items.\n",
      "Similarity column 7947 ( 100 % ), 11796.91 column/sec, elapsed time 0.01 min\n",
      "EvaluatorHoldout: Processed 4955 ( 100.00% ) in 3.55 sec. Users per second: 1398\n",
      "UserKNNCFRecommender: URM Detected 35 (0.44 %) cold users.\n",
      "UserKNNCFRecommender: URM Detected 2014 (7.75 %) cold items.\n",
      "Similarity column 7947 ( 100 % ), 13281.84 column/sec, elapsed time 0.01 min\n",
      "EvaluatorHoldout: Processed 4955 ( 100.00% ) in 3.53 sec. Users per second: 1405\n",
      "UserKNNCFRecommender: URM Detected 35 (0.44 %) cold users.\n",
      "UserKNNCFRecommender: URM Detected 2014 (7.75 %) cold items.\n",
      "Similarity column 7947 ( 100 % ), 13523.15 column/sec, elapsed time 0.01 min\n",
      "EvaluatorHoldout: Processed 4955 ( 100.00% ) in 3.66 sec. Users per second: 1355\n",
      "UserKNNCFRecommender: URM Detected 35 (0.44 %) cold users.\n",
      "UserKNNCFRecommender: URM Detected 2014 (7.75 %) cold items.\n",
      "Similarity column 7947 ( 100 % ), 12763.39 column/sec, elapsed time 0.01 min\n",
      "EvaluatorHoldout: Processed 4955 ( 100.00% ) in 3.63 sec. Users per second: 1366\n",
      "UserKNNCFRecommender: URM Detected 35 (0.44 %) cold users.\n",
      "UserKNNCFRecommender: URM Detected 2014 (7.75 %) cold items.\n",
      "Similarity column 7947 ( 100 % ), 11391.69 column/sec, elapsed time 0.01 min\n"
     ]
    },
    {
     "name": "stdout",
     "output_type": "stream",
     "text": [
      "EvaluatorHoldout: Processed 4955 ( 100.00% ) in 4.27 sec. Users per second: 1161\n",
      "UserKNNCFRecommender: URM Detected 35 (0.44 %) cold users.\n",
      "UserKNNCFRecommender: URM Detected 2014 (7.75 %) cold items.\n",
      "Similarity column 7947 ( 100 % ), 9792.39 column/sec, elapsed time 0.01 min\n",
      "EvaluatorHoldout: Processed 4955 ( 100.00% ) in 3.91 sec. Users per second: 1268\n",
      "UserKNNCFRecommender: URM Detected 35 (0.44 %) cold users.\n",
      "UserKNNCFRecommender: URM Detected 2014 (7.75 %) cold items.\n",
      "Similarity column 7947 ( 100 % ), 12011.42 column/sec, elapsed time 0.01 min\n",
      "EvaluatorHoldout: Processed 4955 ( 100.00% ) in 3.60 sec. Users per second: 1377\n",
      "UserKNNCFRecommender: URM Detected 35 (0.44 %) cold users.\n",
      "UserKNNCFRecommender: URM Detected 2014 (7.75 %) cold items.\n",
      "Similarity column 7947 ( 100 % ), 13274.77 column/sec, elapsed time 0.01 min\n",
      "EvaluatorHoldout: Processed 4955 ( 100.00% ) in 3.57 sec. Users per second: 1386\n",
      "UserKNNCFRecommender: URM Detected 35 (0.44 %) cold users.\n",
      "UserKNNCFRecommender: URM Detected 2014 (7.75 %) cold items.\n",
      "Similarity column 7947 ( 100 % ), 12783.57 column/sec, elapsed time 0.01 min\n",
      "EvaluatorHoldout: Processed 4955 ( 100.00% ) in 3.59 sec. Users per second: 1379\n",
      "UserKNNCFRecommender: URM Detected 35 (0.44 %) cold users.\n",
      "UserKNNCFRecommender: URM Detected 2014 (7.75 %) cold items.\n",
      "Similarity column 7947 ( 100 % ), 12251.74 column/sec, elapsed time 0.01 min\n",
      "EvaluatorHoldout: Processed 4955 ( 100.00% ) in 3.77 sec. Users per second: 1313\n",
      "UserKNNCFRecommender: URM Detected 35 (0.44 %) cold users.\n",
      "UserKNNCFRecommender: URM Detected 2014 (7.75 %) cold items.\n",
      "Similarity column 7947 ( 100 % ), 12950.53 column/sec, elapsed time 0.01 min\n",
      "EvaluatorHoldout: Processed 4955 ( 100.00% ) in 3.50 sec. Users per second: 1417\n",
      "UserKNNCFRecommender: URM Detected 35 (0.44 %) cold users.\n",
      "UserKNNCFRecommender: URM Detected 2014 (7.75 %) cold items.\n",
      "Similarity column 7947 ( 100 % ), 13057.12 column/sec, elapsed time 0.01 min\n",
      "EvaluatorHoldout: Processed 4955 ( 100.00% ) in 3.61 sec. Users per second: 1373\n",
      "UserKNNCFRecommender: URM Detected 35 (0.44 %) cold users.\n",
      "UserKNNCFRecommender: URM Detected 2014 (7.75 %) cold items.\n",
      "Similarity column 7947 ( 100 % ), 12908.33 column/sec, elapsed time 0.01 min\n",
      "EvaluatorHoldout: Processed 4955 ( 100.00% ) in 3.64 sec. Users per second: 1362\n",
      "UserKNNCFRecommender: URM Detected 35 (0.44 %) cold users.\n",
      "UserKNNCFRecommender: URM Detected 2014 (7.75 %) cold items.\n",
      "Similarity column 7947 ( 100 % ), 11183.61 column/sec, elapsed time 0.01 min\n",
      "EvaluatorHoldout: Processed 4955 ( 100.00% ) in 3.62 sec. Users per second: 1368\n",
      "UserKNNCFRecommender: URM Detected 35 (0.44 %) cold users.\n",
      "UserKNNCFRecommender: URM Detected 2014 (7.75 %) cold items.\n",
      "Similarity column 7947 ( 100 % ), 12177.05 column/sec, elapsed time 0.01 min\n",
      "EvaluatorHoldout: Processed 4955 ( 100.00% ) in 3.54 sec. Users per second: 1400\n",
      "UserKNNCFRecommender: URM Detected 35 (0.44 %) cold users.\n",
      "UserKNNCFRecommender: URM Detected 2014 (7.75 %) cold items.\n",
      "Similarity column 7947 ( 100 % ), 10745.58 column/sec, elapsed time 0.01 min\n",
      "EvaluatorHoldout: Processed 4955 ( 100.00% ) in 4.14 sec. Users per second: 1196\n",
      "UserKNNCFRecommender: URM Detected 35 (0.44 %) cold users.\n",
      "UserKNNCFRecommender: URM Detected 2014 (7.75 %) cold items.\n",
      "Similarity column 7947 ( 100 % ), 11375.81 column/sec, elapsed time 0.01 min\n",
      "EvaluatorHoldout: Processed 4955 ( 100.00% ) in 3.97 sec. Users per second: 1247\n",
      "UserKNNCFRecommender: URM Detected 35 (0.44 %) cold users.\n",
      "UserKNNCFRecommender: URM Detected 2014 (7.75 %) cold items.\n",
      "Similarity column 7947 ( 100 % ), 12662.01 column/sec, elapsed time 0.01 min\n",
      "EvaluatorHoldout: Processed 4955 ( 100.00% ) in 3.65 sec. Users per second: 1358\n",
      "UserKNNCFRecommender: URM Detected 35 (0.44 %) cold users.\n",
      "UserKNNCFRecommender: URM Detected 2014 (7.75 %) cold items.\n",
      "Similarity column 7947 ( 100 % ), 11473.89 column/sec, elapsed time 0.01 min\n",
      "EvaluatorHoldout: Processed 4955 ( 100.00% ) in 3.69 sec. Users per second: 1342\n",
      "UserKNNCFRecommender: URM Detected 35 (0.44 %) cold users.\n",
      "UserKNNCFRecommender: URM Detected 2014 (7.75 %) cold items.\n",
      "Similarity column 7947 ( 100 % ), 12139.50 column/sec, elapsed time 0.01 min\n",
      "EvaluatorHoldout: Processed 4955 ( 100.00% ) in 3.78 sec. Users per second: 1312\n",
      "UserKNNCFRecommender: URM Detected 35 (0.44 %) cold users.\n",
      "UserKNNCFRecommender: URM Detected 2014 (7.75 %) cold items.\n",
      "Similarity column 7947 ( 100 % ), 11262.56 column/sec, elapsed time 0.01 min\n",
      "EvaluatorHoldout: Processed 4955 ( 100.00% ) in 3.97 sec. Users per second: 1247\n",
      "UserKNNCFRecommender: URM Detected 35 (0.44 %) cold users.\n",
      "UserKNNCFRecommender: URM Detected 2014 (7.75 %) cold items.\n",
      "Similarity column 7947 ( 100 % ), 11815.11 column/sec, elapsed time 0.01 min\n",
      "EvaluatorHoldout: Processed 4955 ( 100.00% ) in 3.65 sec. Users per second: 1358\n",
      "UserKNNCFRecommender: URM Detected 35 (0.44 %) cold users.\n",
      "UserKNNCFRecommender: URM Detected 2014 (7.75 %) cold items.\n",
      "Similarity column 7947 ( 100 % ), 11676.07 column/sec, elapsed time 0.01 min\n",
      "EvaluatorHoldout: Processed 4955 ( 100.00% ) in 4.01 sec. Users per second: 1236\n",
      "UserKNNCFRecommender: URM Detected 35 (0.44 %) cold users.\n",
      "UserKNNCFRecommender: URM Detected 2014 (7.75 %) cold items.\n",
      "Similarity column 7947 ( 100 % ), 10862.81 column/sec, elapsed time 0.01 min\n",
      "EvaluatorHoldout: Processed 4955 ( 100.00% ) in 4.27 sec. Users per second: 1161\n",
      "UserKNNCFRecommender: URM Detected 35 (0.44 %) cold users.\n",
      "UserKNNCFRecommender: URM Detected 2014 (7.75 %) cold items.\n",
      "Similarity column 7947 ( 100 % ), 10064.52 column/sec, elapsed time 0.01 min\n",
      "EvaluatorHoldout: Processed 4955 ( 100.00% ) in 4.63 sec. Users per second: 1070\n",
      "UserKNNCFRecommender: URM Detected 35 (0.44 %) cold users.\n",
      "UserKNNCFRecommender: URM Detected 2014 (7.75 %) cold items.\n",
      "Similarity column 7947 ( 100 % ), 11278.84 column/sec, elapsed time 0.01 min\n",
      "EvaluatorHoldout: Processed 4955 ( 100.00% ) in 3.95 sec. Users per second: 1253\n",
      "UserKNNCFRecommender: URM Detected 35 (0.44 %) cold users.\n",
      "UserKNNCFRecommender: URM Detected 2014 (7.75 %) cold items.\n",
      "Similarity column 7947 ( 100 % ), 11885.75 column/sec, elapsed time 0.01 min\n",
      "EvaluatorHoldout: Processed 4955 ( 100.00% ) in 3.87 sec. Users per second: 1281\n",
      "UserKNNCFRecommender: URM Detected 35 (0.44 %) cold users.\n",
      "UserKNNCFRecommender: URM Detected 2014 (7.75 %) cold items.\n",
      "Similarity column 7947 ( 100 % ), 12502.80 column/sec, elapsed time 0.01 min\n",
      "EvaluatorHoldout: Processed 4955 ( 100.00% ) in 3.72 sec. Users per second: 1332\n",
      "UserKNNCFRecommender: URM Detected 35 (0.44 %) cold users.\n",
      "UserKNNCFRecommender: URM Detected 2014 (7.75 %) cold items.\n",
      "Similarity column 7947 ( 100 % ), 12521.92 column/sec, elapsed time 0.01 min\n",
      "EvaluatorHoldout: Processed 4955 ( 100.00% ) in 3.76 sec. Users per second: 1319\n",
      "UserKNNCFRecommender: URM Detected 35 (0.44 %) cold users.\n",
      "UserKNNCFRecommender: URM Detected 2014 (7.75 %) cold items.\n",
      "Similarity column 7947 ( 100 % ), 12763.38 column/sec, elapsed time 0.01 min\n",
      "EvaluatorHoldout: Processed 4955 ( 100.00% ) in 4.27 sec. Users per second: 1161\n",
      "UserKNNCFRecommender: URM Detected 35 (0.44 %) cold users.\n",
      "UserKNNCFRecommender: URM Detected 2014 (7.75 %) cold items.\n",
      "Similarity column 7947 ( 100 % ), 8914.13 column/sec, elapsed time 0.01 min\n",
      "EvaluatorHoldout: Processed 4955 ( 100.00% ) in 5.16 sec. Users per second: 960\n",
      "UserKNNCFRecommender: URM Detected 35 (0.44 %) cold users.\n",
      "UserKNNCFRecommender: URM Detected 2014 (7.75 %) cold items.\n",
      "Similarity column 7947 ( 100 % ), 11262.96 column/sec, elapsed time 0.01 min\n",
      "EvaluatorHoldout: Processed 4955 ( 100.00% ) in 4.53 sec. Users per second: 1095\n",
      "UserKNNCFRecommender: URM Detected 35 (0.44 %) cold users.\n",
      "UserKNNCFRecommender: URM Detected 2014 (7.75 %) cold items.\n",
      "Similarity column 7947 ( 100 % ), 11408.05 column/sec, elapsed time 0.01 min\n",
      "EvaluatorHoldout: Processed 4955 ( 100.00% ) in 4.48 sec. Users per second: 1107\n",
      "UserKNNCFRecommender: URM Detected 35 (0.44 %) cold users.\n",
      "UserKNNCFRecommender: URM Detected 2014 (7.75 %) cold items.\n",
      "Similarity column 7947 ( 100 % ), 9398.84 column/sec, elapsed time 0.01 min\n",
      "EvaluatorHoldout: Processed 4955 ( 100.00% ) in 3.90 sec. Users per second: 1272\n",
      "UserKNNCFRecommender: URM Detected 35 (0.44 %) cold users.\n",
      "UserKNNCFRecommender: URM Detected 2014 (7.75 %) cold items.\n"
     ]
    },
    {
     "name": "stdout",
     "output_type": "stream",
     "text": [
      "Similarity column 7947 ( 100 % ), 8587.17 column/sec, elapsed time 0.02 min\n",
      "EvaluatorHoldout: Processed 4955 ( 100.00% ) in 4.55 sec. Users per second: 1088\n",
      "UserKNNCFRecommender: URM Detected 35 (0.44 %) cold users.\n",
      "UserKNNCFRecommender: URM Detected 2014 (7.75 %) cold items.\n",
      "Similarity column 7947 ( 100 % ), 11832.97 column/sec, elapsed time 0.01 min\n",
      "EvaluatorHoldout: Processed 4955 ( 100.00% ) in 4.10 sec. Users per second: 1208\n",
      "UserKNNCFRecommender: URM Detected 35 (0.44 %) cold users.\n",
      "UserKNNCFRecommender: URM Detected 2014 (7.75 %) cold items.\n",
      "Similarity column 7947 ( 100 % ), 11246.68 column/sec, elapsed time 0.01 min\n",
      "EvaluatorHoldout: Processed 4955 ( 100.00% ) in 3.95 sec. Users per second: 1255\n",
      "UserKNNCFRecommender: URM Detected 35 (0.44 %) cold users.\n",
      "UserKNNCFRecommender: URM Detected 2014 (7.75 %) cold items.\n",
      "Similarity column 7947 ( 100 % ), 11832.43 column/sec, elapsed time 0.01 min\n",
      "EvaluatorHoldout: Processed 4955 ( 100.00% ) in 3.80 sec. Users per second: 1304\n",
      "UserKNNCFRecommender: URM Detected 35 (0.44 %) cold users.\n",
      "UserKNNCFRecommender: URM Detected 2014 (7.75 %) cold items.\n",
      "Similarity column 7947 ( 100 % ), 12950.18 column/sec, elapsed time 0.01 min\n",
      "EvaluatorHoldout: Processed 4955 ( 100.00% ) in 3.67 sec. Users per second: 1351\n",
      "UserKNNCFRecommender: URM Detected 35 (0.44 %) cold users.\n",
      "UserKNNCFRecommender: URM Detected 2014 (7.75 %) cold items.\n",
      "Similarity column 7947 ( 100 % ), 12214.12 column/sec, elapsed time 0.01 min\n",
      "EvaluatorHoldout: Processed 4955 ( 100.00% ) in 3.99 sec. Users per second: 1240\n",
      "UserKNNCFRecommender: URM Detected 35 (0.44 %) cold users.\n",
      "UserKNNCFRecommender: URM Detected 2014 (7.75 %) cold items.\n",
      "Similarity column 7947 ( 100 % ), 12327.74 column/sec, elapsed time 0.01 min\n",
      "EvaluatorHoldout: Processed 4955 ( 100.00% ) in 3.70 sec. Users per second: 1339\n",
      "UserKNNCFRecommender: URM Detected 35 (0.44 %) cold users.\n",
      "UserKNNCFRecommender: URM Detected 2014 (7.75 %) cold items.\n",
      "Similarity column 7947 ( 100 % ), 11850.08 column/sec, elapsed time 0.01 min\n",
      "EvaluatorHoldout: Processed 4955 ( 100.00% ) in 4.41 sec. Users per second: 1123\n",
      "UserKNNCFRecommender: URM Detected 35 (0.44 %) cold users.\n",
      "UserKNNCFRecommender: URM Detected 2014 (7.75 %) cold items.\n",
      "Similarity column 7947 ( 100 % ), 12158.09 column/sec, elapsed time 0.01 min\n",
      "EvaluatorHoldout: Processed 4955 ( 100.00% ) in 4.77 sec. Users per second: 1038\n",
      "UserKNNCFRecommender: URM Detected 35 (0.44 %) cold users.\n",
      "UserKNNCFRecommender: URM Detected 2014 (7.75 %) cold items.\n",
      "Similarity column 7947 ( 100 % ), 9421.31 column/sec, elapsed time 0.01 min\n",
      "EvaluatorHoldout: Processed 4955 ( 100.00% ) in 4.05 sec. Users per second: 1222\n",
      "UserKNNCFRecommender: URM Detected 35 (0.44 %) cold users.\n",
      "UserKNNCFRecommender: URM Detected 2014 (7.75 %) cold items.\n",
      "Similarity column 7947 ( 100 % ), 12541.62 column/sec, elapsed time 0.01 min\n",
      "EvaluatorHoldout: Processed 4955 ( 100.00% ) in 3.74 sec. Users per second: 1326\n",
      "UserKNNCFRecommender: URM Detected 35 (0.44 %) cold users.\n",
      "UserKNNCFRecommender: URM Detected 2014 (7.75 %) cold items.\n",
      "Similarity column 7947 ( 100 % ), 11262.86 column/sec, elapsed time 0.01 min\n",
      "EvaluatorHoldout: Processed 4955 ( 100.00% ) in 3.78 sec. Users per second: 1310\n",
      "UserKNNCFRecommender: URM Detected 35 (0.44 %) cold users.\n",
      "UserKNNCFRecommender: URM Detected 2014 (7.75 %) cold items.\n",
      "Similarity column 7947 ( 100 % ), 11259.72 column/sec, elapsed time 0.01 min\n",
      "EvaluatorHoldout: Processed 4955 ( 100.00% ) in 4.42 sec. Users per second: 1122\n",
      "UserKNNCFRecommender: URM Detected 35 (0.44 %) cold users.\n",
      "UserKNNCFRecommender: URM Detected 2014 (7.75 %) cold items.\n",
      "Similarity column 7947 ( 100 % ), 9036.04 column/sec, elapsed time 0.01 min\n",
      "EvaluatorHoldout: Processed 4955 ( 100.00% ) in 4.41 sec. Users per second: 1123\n",
      "UserKNNCFRecommender: URM Detected 35 (0.44 %) cold users.\n",
      "UserKNNCFRecommender: URM Detected 2014 (7.75 %) cold items.\n",
      "Similarity column 7947 ( 100 % ), 10573.69 column/sec, elapsed time 0.01 min\n",
      "EvaluatorHoldout: Processed 4955 ( 100.00% ) in 4.57 sec. Users per second: 1084\n",
      "UserKNNCFRecommender: URM Detected 35 (0.44 %) cold users.\n",
      "UserKNNCFRecommender: URM Detected 2014 (7.75 %) cold items.\n",
      "Similarity column 7947 ( 100 % ), 9376.73 column/sec, elapsed time 0.01 min\n",
      "EvaluatorHoldout: Processed 4955 ( 100.00% ) in 4.62 sec. Users per second: 1073\n",
      "UserKNNCFRecommender: URM Detected 35 (0.44 %) cold users.\n",
      "UserKNNCFRecommender: URM Detected 2014 (7.75 %) cold items.\n",
      "Similarity column 7947 ( 100 % ), 10273.59 column/sec, elapsed time 0.01 min\n",
      "EvaluatorHoldout: Processed 4955 ( 100.00% ) in 4.07 sec. Users per second: 1218\n",
      "UserKNNCFRecommender: URM Detected 35 (0.44 %) cold users.\n",
      "UserKNNCFRecommender: URM Detected 2014 (7.75 %) cold items.\n",
      "Similarity column 7947 ( 100 % ), 12233.21 column/sec, elapsed time 0.01 min\n",
      "EvaluatorHoldout: Processed 4955 ( 100.00% ) in 3.78 sec. Users per second: 1312\n",
      "UserKNNCFRecommender: URM Detected 35 (0.44 %) cold users.\n",
      "UserKNNCFRecommender: URM Detected 2014 (7.75 %) cold items.\n",
      "Similarity column 7947 ( 100 % ), 12502.19 column/sec, elapsed time 0.01 min\n",
      "EvaluatorHoldout: Processed 4955 ( 100.00% ) in 4.07 sec. Users per second: 1218\n",
      "UserKNNCFRecommender: URM Detected 35 (0.44 %) cold users.\n",
      "UserKNNCFRecommender: URM Detected 2014 (7.75 %) cold items.\n",
      "Similarity column 7947 ( 100 % ), 10745.27 column/sec, elapsed time 0.01 min\n",
      "EvaluatorHoldout: Processed 4955 ( 100.00% ) in 3.90 sec. Users per second: 1271\n",
      "UserKNNCFRecommender: URM Detected 35 (0.44 %) cold users.\n",
      "UserKNNCFRecommender: URM Detected 2014 (7.75 %) cold items.\n",
      "Similarity column 7947 ( 100 % ), 13186.54 column/sec, elapsed time 0.01 min\n",
      "EvaluatorHoldout: Processed 4955 ( 100.00% ) in 3.85 sec. Users per second: 1287\n"
     ]
    }
   ],
   "source": [
    "x_tick = []\n",
    "collaborative_MAP = []\n",
    "\n",
    "for topK in [50,100,150, 200, 250, 300,350,400]:\n",
    "    for shrink in [0,5,10,20,50,60,70,80,100,150]:\n",
    "        \n",
    "        x_tick.append(\"topk {}, shrink {}\".format(topK, shrink))\n",
    "\n",
    "        \n",
    "        recommender = UserKNNCFRecommender(URM_train)\n",
    "        recommender.fit(shrink=shrink, topK=topK, feature_weighting = \"TF-IDF\" )\n",
    "    \n",
    "        result_dict, _ = evaluator_validation.evaluateRecommender(recommender)\n",
    "    \n",
    "        collaborative_MAP.append(result_dict[10][\"MAP\"])"
   ]
  },
  {
   "cell_type": "code",
   "execution_count": 25,
   "metadata": {},
   "outputs": [
    {
     "data": {
      "image/png": "[encoded data removed]",
      "text/plain": [
       "<Figure size 1080x864 with 1 Axes>"
      ]
     },
     "metadata": {
      "needs_background": "light"
     },
     "output_type": "display_data"
    }
   ],
   "source": [
    "plt.figure(figsize=(15,12))\n",
    "plt.plot(x_tick, collaborative_MAP, label=\"Collaborative\", )\n",
    "plt.ylabel('MAP')\n",
    "plt.xlabel('TopK')\n",
    "plt.xticks(rotation='vertical')\n",
    "plt.show()"
   ]
  },
  {
   "cell_type": "code",
   "execution_count": 26,
   "metadata": {},
   "outputs": [
    {
     "data": {
      "text/html": [
       "<div>\n",
       "<style scoped>\n",
       "    .dataframe tbody tr th:only-of-type {\n",
       "        vertical-align: middle;\n",
       "    }\n",
       "\n",
       "    .dataframe tbody tr th {\n",
       "        vertical-align: top;\n",
       "    }\n",
       "\n",
       "    .dataframe thead th {\n",
       "        text-align: right;\n",
       "    }\n",
       "</style>\n",
       "<table border=\"1\" class=\"dataframe\">\n",
       "  <thead>\n",
       "    <tr style=\"text-align: right;\">\n",
       "      <th></th>\n",
       "      <th>user_id</th>\n",
       "    </tr>\n",
       "  </thead>\n",
       "  <tbody>\n",
       "    <tr>\n",
       "      <th>0</th>\n",
       "      <td>0</td>\n",
       "    </tr>\n",
       "    <tr>\n",
       "      <th>1</th>\n",
       "      <td>1</td>\n",
       "    </tr>\n",
       "    <tr>\n",
       "      <th>2</th>\n",
       "      <td>2</td>\n",
       "    </tr>\n",
       "    <tr>\n",
       "      <th>3</th>\n",
       "      <td>3</td>\n",
       "    </tr>\n",
       "    <tr>\n",
       "      <th>4</th>\n",
       "      <td>4</td>\n",
       "    </tr>\n",
       "    <tr>\n",
       "      <th>...</th>\n",
       "      <td>...</td>\n",
       "    </tr>\n",
       "    <tr>\n",
       "      <th>7939</th>\n",
       "      <td>7942</td>\n",
       "    </tr>\n",
       "    <tr>\n",
       "      <th>7940</th>\n",
       "      <td>7943</td>\n",
       "    </tr>\n",
       "    <tr>\n",
       "      <th>7941</th>\n",
       "      <td>7944</td>\n",
       "    </tr>\n",
       "    <tr>\n",
       "      <th>7942</th>\n",
       "      <td>7945</td>\n",
       "    </tr>\n",
       "    <tr>\n",
       "      <th>7943</th>\n",
       "      <td>7946</td>\n",
       "    </tr>\n",
       "  </tbody>\n",
       "</table>\n",
       "<p>7944 rows × 1 columns</p>\n",
       "</div>"
      ],
      "text/plain": [
       "      user_id\n",
       "0           0\n",
       "1           1\n",
       "2           2\n",
       "3           3\n",
       "4           4\n",
       "...       ...\n",
       "7939     7942\n",
       "7940     7943\n",
       "7941     7944\n",
       "7942     7945\n",
       "7943     7946\n",
       "\n",
       "[7944 rows x 1 columns]"
      ]
     },
     "execution_count": 26,
     "metadata": {},
     "output_type": "execute_result"
    }
   ],
   "source": [
    "test_users = pd.read_csv('data_target_users_test.csv')\n",
    "test_users"
   ]
  },
  {
   "cell_type": "code",
   "execution_count": 27,
   "metadata": {},
   "outputs": [
    {
     "name": "stdout",
     "output_type": "stream",
     "text": [
      "UserKNNCFRecommender: URM Detected 1079 (4.15 %) cold items.\n",
      "Similarity column 7947 ( 100 % ), 14098.51 column/sec, elapsed time 0.01 min\n"
     ]
    }
   ],
   "source": [
    "recommender = UserKNNCFRecommender(URM_all)\n",
    "recommender.fit(shrink=100, topK=150, feature_weighting = \"TF-IDF\")\n",
    "\n",
    "user_id = test_users['user_id']\n",
    "recommendations = recommender.recommend(user_id,cutoff = 10)\n"
   ]
  },
  {
   "cell_type": "code",
   "execution_count": 28,
   "metadata": {},
   "outputs": [
    {
     "name": "stdout",
     "output_type": "stream",
     "text": [
      "7944\n"
     ]
    }
   ],
   "source": [
    "for index in range(len(recommendations)):\n",
    "    #print(element)\n",
    "    recommendations[index]=np.array(recommendations[index])\n",
    "    #print(type(element))\n",
    "print(len(recommendations))"
   ]
  },
  {
   "cell_type": "code",
   "execution_count": 29,
   "metadata": {},
   "outputs": [],
   "source": [
    "test_users['item_list']= recommendations\n",
    "#test_users['item_list'] =  test_users['item_list'].apply(lambda x: x.replace('[','').replace(']','')) \n",
    "test_users['item_list'] = pd.DataFrame([str(line).strip('[').strip(']').replace(\"'\",\"\") for line in test_users['item_list']])\n",
    "\n",
    "#convert the string columns to int\n",
    "#test_users['item_list'] = test_users['item_list'].astype(int)\n",
    "test_users\n",
    "test_users.to_csv('submission.csv', index=False)\n"
   ]
  },
  {
   "cell_type": "code",
   "execution_count": null,
   "metadata": {},
   "outputs": [],
   "source": []
  }
 ],
 "metadata": {
  "kernelspec": {
   "display_name": "Python 3",
   "language": "python",
   "name": "python3"
  },
  "language_info": {
   "codemirror_mode": {
    "name": "ipython",
    "version": 3
   },
   "file_extension": ".py",
   "mimetype": "text/x-python",
   "name": "python",
   "nbconvert_exporter": "python",
   "pygments_lexer": "ipython3",
   "version": "3.8.5"
  }
 },
 "nbformat": 4,
 "nbformat_minor": 4
}
