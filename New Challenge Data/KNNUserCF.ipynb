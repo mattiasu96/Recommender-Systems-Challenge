{
 "cells": [
  {
   "cell_type": "markdown",
   "metadata": {},
   "source": [
    "# Data loading \n",
    "Next cells are used to load the data we need."
   ]
  },
  {
   "cell_type": "code",
   "execution_count": 1,
   "metadata": {},
   "outputs": [],
   "source": [
    "import pandas as pd\n",
    "import numpy as np \n",
    "import scipy.sparse as sps\n",
    "import os\n",
    "import sys\n",
    "import matplotlib.pyplot as plt\n",
    "sys.path.append('..')\n"
   ]
  },
  {
   "cell_type": "code",
   "execution_count": 2,
   "metadata": {},
   "outputs": [
    {
     "output_type": "execute_result",
     "data": {
      "text/plain": [
       "         row    col  data\n",
       "0          0  10080   1.0\n",
       "1          0  19467   1.0\n",
       "2          1   2665   1.0\n",
       "3          1   7494   1.0\n",
       "4          1  17068   1.0\n",
       "...      ...    ...   ...\n",
       "113263  7945   2476   1.0\n",
       "113264  7945  12319   1.0\n",
       "113265  7945  21384   1.0\n",
       "113266  7946   8699   1.0\n",
       "113267  7946  19178   1.0\n",
       "\n",
       "[113268 rows x 3 columns]"
      ],
      "text/html": "<div>\n<style scoped>\n    .dataframe tbody tr th:only-of-type {\n        vertical-align: middle;\n    }\n\n    .dataframe tbody tr th {\n        vertical-align: top;\n    }\n\n    .dataframe thead th {\n        text-align: right;\n    }\n</style>\n<table border=\"1\" class=\"dataframe\">\n  <thead>\n    <tr style=\"text-align: right;\">\n      <th></th>\n      <th>row</th>\n      <th>col</th>\n      <th>data</th>\n    </tr>\n  </thead>\n  <tbody>\n    <tr>\n      <th>0</th>\n      <td>0</td>\n      <td>10080</td>\n      <td>1.0</td>\n    </tr>\n    <tr>\n      <th>1</th>\n      <td>0</td>\n      <td>19467</td>\n      <td>1.0</td>\n    </tr>\n    <tr>\n      <th>2</th>\n      <td>1</td>\n      <td>2665</td>\n      <td>1.0</td>\n    </tr>\n    <tr>\n      <th>3</th>\n      <td>1</td>\n      <td>7494</td>\n      <td>1.0</td>\n    </tr>\n    <tr>\n      <th>4</th>\n      <td>1</td>\n      <td>17068</td>\n      <td>1.0</td>\n    </tr>\n    <tr>\n      <th>...</th>\n      <td>...</td>\n      <td>...</td>\n      <td>...</td>\n    </tr>\n    <tr>\n      <th>113263</th>\n      <td>7945</td>\n      <td>2476</td>\n      <td>1.0</td>\n    </tr>\n    <tr>\n      <th>113264</th>\n      <td>7945</td>\n      <td>12319</td>\n      <td>1.0</td>\n    </tr>\n    <tr>\n      <th>113265</th>\n      <td>7945</td>\n      <td>21384</td>\n      <td>1.0</td>\n    </tr>\n    <tr>\n      <th>113266</th>\n      <td>7946</td>\n      <td>8699</td>\n      <td>1.0</td>\n    </tr>\n    <tr>\n      <th>113267</th>\n      <td>7946</td>\n      <td>19178</td>\n      <td>1.0</td>\n    </tr>\n  </tbody>\n</table>\n<p>113268 rows × 3 columns</p>\n</div>"
     },
     "metadata": {},
     "execution_count": 2
    }
   ],
   "source": [
    "#data which contains users (row), items(col) and implicit interaction (data)\n",
    "dataset = pd.read_csv('data_train.csv')\n",
    "dataset"
   ]
  },
  {
   "cell_type": "markdown",
   "metadata": {},
   "source": [
    "# Data pre-processing\n",
    "Pre-processing of data to check for missing users, items ecc..."
   ]
  },
  {
   "cell_type": "code",
   "execution_count": 3,
   "metadata": {},
   "outputs": [
    {
     "output_type": "execute_result",
     "data": {
      "text/plain": [
       "(7947, 25975)"
      ]
     },
     "metadata": {},
     "execution_count": 3
    }
   ],
   "source": [
    "users = dataset.row\n",
    "items = dataset.col\n",
    "data = dataset.data\n",
    "URM_all = sps.coo_matrix((data, (users, items)))\n",
    "URM_all = URM_all.tocsr() #fast row access -> fast access to users \n",
    "URM_all.shape"
   ]
  },
  {
   "cell_type": "code",
   "execution_count": 4,
   "metadata": {},
   "outputs": [
    {
     "output_type": "stream",
     "name": "stdout",
     "text": [
      "Warning: 42 (0.53 %) of 7947 users have no train items\nWarning: 2968 (37.35 %) of 7947 users have no sampled items\n"
     ]
    }
   ],
   "source": [
    "from Base.Evaluation.Evaluator import EvaluatorHoldout\n",
    "from Data_manager.split_functions.split_train_validation_random_holdout import split_train_in_two_percentage_global_sample\n",
    "\n",
    "URM_train, URM_validation = split_train_in_two_percentage_global_sample(URM_all, train_percentage = 0.85)\n",
    "evaluator_validation = EvaluatorHoldout(URM_validation, cutoff_list=[10])"
   ]
  },
  {
   "cell_type": "code",
   "execution_count": 5,
   "metadata": {},
   "outputs": [],
   "source": [
    "from skopt.space import Real, Integer, Categorical\n",
    "\n",
    "hyperparameters_range_dictionary = {}\n",
    "hyperparameters_range_dictionary[\"topK\"] = Integer(1, 800)\n",
    "hyperparameters_range_dictionary[\"shrink\"] = Integer(1, 800)"
   ]
  },
  {
   "cell_type": "code",
   "execution_count": 6,
   "metadata": {},
   "outputs": [],
   "source": [
    "from KNN.UserKNNCFRecommender import UserKNNCFRecommender\n",
    "from ParameterTuning.SearchBayesianSkopt import SearchBayesianSkopt\n",
    "\n",
    "recommender_class = UserKNNCFRecommender\n",
    "\n",
    "parameterSearch = SearchBayesianSkopt(recommender_class,\n",
    "                                 evaluator_validation=evaluator_validation,\n",
    "                                 evaluator_test=evaluator_validation)"
   ]
  },
  {
   "cell_type": "code",
   "execution_count": 7,
   "metadata": {},
   "outputs": [],
   "source": [
    "from ParameterTuning.SearchAbstractClass import SearchInputRecommenderArgs\n",
    "  \n",
    "recommender_input_args = SearchInputRecommenderArgs(\n",
    "    CONSTRUCTOR_POSITIONAL_ARGS = [URM_train],\n",
    "    CONSTRUCTOR_KEYWORD_ARGS = {},\n",
    "    FIT_POSITIONAL_ARGS = [],\n",
    "    FIT_KEYWORD_ARGS = {}\n",
    ")"
   ]
  },
  {
   "cell_type": "code",
   "execution_count": 8,
   "metadata": {},
   "outputs": [],
   "source": [
    "recommender_input_args_last_test = SearchInputRecommenderArgs(\n",
    "    CONSTRUCTOR_POSITIONAL_ARGS = [URM_all],\n",
    "    CONSTRUCTOR_KEYWORD_ARGS = {},\n",
    "    FIT_POSITIONAL_ARGS = [],\n",
    "    FIT_KEYWORD_ARGS = {}\n",
    ")"
   ]
  },
  {
   "cell_type": "code",
   "execution_count": 9,
   "metadata": {},
   "outputs": [],
   "source": [
    "import os\n",
    "\n",
    "output_folder_path = \"result_experiments/\"\n",
    "\n",
    "# If directory does not exist, create\n",
    "if not os.path.exists(output_folder_path):\n",
    "    os.makedirs(output_folder_path)\n",
    "    \n",
    "n_cases = 30\n",
    "n_random_starts = int(n_cases*0.3)\n",
    "metric_to_optimize = \"MAP\" "
   ]
  },
  {
   "cell_type": "code",
   "execution_count": 10,
   "metadata": {
    "tags": [
     "outputPrepend"
    ]
   },
   "outputs": [
    {
     "output_type": "stream",
     "name": "stdout",
     "text": [
      "ECALL: 0.1129614, MAP: 0.0547726, MRR: 0.1052556, NDCG: 0.0799163, F1: 0.0441221, HIT_RATE: 0.2741514, ARHR: 0.1159675, NOVELTY: 0.0044989, AVERAGE_POPULARITY: 0.1784748, DIVERSITY_MEAN_INTER_LIST: 0.9524092, DIVERSITY_HERFINDAHL: 0.9952218, COVERAGE_ITEM: 0.2751492, COVERAGE_ITEM_CORRECT: 0.0242926, COVERAGE_USER: 0.6265257, COVERAGE_USER_CORRECT: 0.1401787, DIVERSITY_GINI: 0.0594917, SHANNON_ENTROPY: 9.8671586, \n",
      "\n",
      "Iteration No: 16 ended. Search finished for the next optimal point.\n",
      "Time taken: 4.2741\n",
      "Function value obtained: -0.0548\n",
      "Current minimum: -0.0573\n",
      "Iteration No: 17 started. Searching for the next optimal point.\n",
      "UserKNNCFRecommender: URM Detected 42 (0.53 %) cold users.\n",
      "UserKNNCFRecommender: URM Detected 1981 (7.63 %) cold items.\n",
      "SearchBayesianSkopt: Testing config: {'topK': 95, 'shrink': 13}\n",
      "Similarity column 7947 ( 100 % ), 16664.18 column/sec, elapsed time 0.01 min\n",
      "EvaluatorHoldout: Processed 4979 ( 100.00% ) in 3.67 sec. Users per second: 1356\n",
      "SearchBayesianSkopt: New best config found. Config 16: {'topK': 95, 'shrink': 13} - results: ROC_AUC: 0.1578110, PRECISION: 0.0316128, PRECISION_RECALL_MIN_DEN: 0.1249141, RECALL: 0.1222211, MAP: 0.0580296, MRR: 0.1122213, NDCG: 0.0859374, F1: 0.0502327, HIT_RATE: 0.3161277, ARHR: 0.1262175, NOVELTY: 0.0048465, AVERAGE_POPULARITY: 0.0972554, DIVERSITY_MEAN_INTER_LIST: 0.9893259, DIVERSITY_HERFINDAHL: 0.9989127, COVERAGE_ITEM: 0.3662753, COVERAGE_ITEM_CORRECT: 0.0348412, COVERAGE_USER: 0.6265257, COVERAGE_USER_CORRECT: 0.1552787, DIVERSITY_GINI: 0.1141671, SHANNON_ENTROPY: 11.4392352, \n",
      "\n",
      "EvaluatorHoldout: Processed 4979 ( 100.00% ) in 2.92 sec. Users per second: 1707\n",
      "SearchBayesianSkopt: Best config evaluated with evaluator_test. Config: {'topK': 95, 'shrink': 13} - results:\n",
      "CUTOFF: 10 - ROC_AUC: 0.1578110, PRECISION: 0.0316128, PRECISION_RECALL_MIN_DEN: 0.1249141, RECALL: 0.1222211, MAP: 0.0580296, MRR: 0.1122213, NDCG: 0.0859374, F1: 0.0502327, HIT_RATE: 0.3161277, ARHR: 0.1262175, NOVELTY: 0.0048465, AVERAGE_POPULARITY: 0.0972554, DIVERSITY_MEAN_INTER_LIST: 0.9893259, DIVERSITY_HERFINDAHL: 0.9989127, COVERAGE_ITEM: 0.3662753, COVERAGE_ITEM_CORRECT: 0.0348412, COVERAGE_USER: 0.6265257, COVERAGE_USER_CORRECT: 0.1552787, DIVERSITY_GINI: 0.1141671, SHANNON_ENTROPY: 11.4392352, \n",
      "\n",
      "\n",
      "Iteration No: 17 ended. Search finished for the next optimal point.\n",
      "Time taken: 7.4279\n",
      "Function value obtained: -0.0580\n",
      "Current minimum: -0.0580\n",
      "Iteration No: 18 started. Searching for the next optimal point.\n",
      "UserKNNCFRecommender: URM Detected 42 (0.53 %) cold users.\n",
      "UserKNNCFRecommender: URM Detected 1981 (7.63 %) cold items.\n",
      "SearchBayesianSkopt: Testing config: {'topK': 311, 'shrink': 3}\n",
      "Similarity column 7947 ( 100 % ), 15586.66 column/sec, elapsed time 0.01 min\n",
      "EvaluatorHoldout: Processed 4979 ( 100.00% ) in 3.34 sec. Users per second: 1489\n",
      "SearchBayesianSkopt: Config 17 is suboptimal. Config: {'topK': 311, 'shrink': 3} - results: ROC_AUC: 0.1571985, PRECISION: 0.0305885, PRECISION_RECALL_MIN_DEN: 0.1244290, RECALL: 0.1219250, MAP: 0.0579071, MRR: 0.1131126, NDCG: 0.0856786, F1: 0.0489071, HIT_RATE: 0.3058847, ARHR: 0.1257692, NOVELTY: 0.0046254, AVERAGE_POPULARITY: 0.1420909, DIVERSITY_MEAN_INTER_LIST: 0.9732489, DIVERSITY_HERFINDAHL: 0.9973053, COVERAGE_ITEM: 0.3032146, COVERAGE_ITEM_CORRECT: 0.0293359, COVERAGE_USER: 0.6265257, COVERAGE_USER_CORRECT: 0.1532654, DIVERSITY_GINI: 0.0745516, SHANNON_ENTROPY: 10.4595865, \n",
      "\n",
      "Iteration No: 18 ended. Search finished for the next optimal point.\n",
      "Time taken: 4.1961\n",
      "Function value obtained: -0.0579\n",
      "Current minimum: -0.0580\n",
      "Iteration No: 19 started. Searching for the next optimal point.\n",
      "UserKNNCFRecommender: URM Detected 42 (0.53 %) cold users.\n",
      "UserKNNCFRecommender: URM Detected 1981 (7.63 %) cold items.\n",
      "SearchBayesianSkopt: Testing config: {'topK': 552, 'shrink': 8}\n",
      "Similarity column 7947 ( 100 % ), 16372.13 column/sec, elapsed time 0.01 min\n",
      "EvaluatorHoldout: Processed 4979 ( 100.00% ) in 3.32 sec. Users per second: 1498\n",
      "SearchBayesianSkopt: Config 18 is suboptimal. Config: {'topK': 552, 'shrink': 8} - results: ROC_AUC: 0.1505908, PRECISION: 0.0289817, PRECISION_RECALL_MIN_DEN: 0.1209042, RECALL: 0.1186629, MAP: 0.0567457, MRR: 0.1089359, NDCG: 0.0832742, F1: 0.0465856, HIT_RATE: 0.2898172, ARHR: 0.1203581, NOVELTY: 0.0045390, AVERAGE_POPULARITY: 0.1673387, DIVERSITY_MEAN_INTER_LIST: 0.9600406, DIVERSITY_HERFINDAHL: 0.9959848, COVERAGE_ITEM: 0.2851973, COVERAGE_ITEM_CORRECT: 0.0263330, COVERAGE_USER: 0.6265257, COVERAGE_USER_CORRECT: 0.1474770, DIVERSITY_GINI: 0.0644216, SHANNON_ENTROPY: 10.0602646, \n",
      "\n",
      "Iteration No: 19 ended. Search finished for the next optimal point.\n",
      "Time taken: 4.1923\n",
      "Function value obtained: -0.0567\n",
      "Current minimum: -0.0580\n",
      "Iteration No: 20 started. Searching for the next optimal point.\n",
      "UserKNNCFRecommender: URM Detected 42 (0.53 %) cold users.\n",
      "UserKNNCFRecommender: URM Detected 1981 (7.63 %) cold items.\n",
      "SearchBayesianSkopt: Testing config: {'topK': 782, 'shrink': 770}\n",
      "Similarity column 7947 ( 100 % ), 15550.21 column/sec, elapsed time 0.01 min\n",
      "EvaluatorHoldout: Processed 4979 ( 100.00% ) in 3.45 sec. Users per second: 1443\n",
      "SearchBayesianSkopt: Config 19 is suboptimal. Config: {'topK': 782, 'shrink': 770} - results: ROC_AUC: 0.1391565, PRECISION: 0.0264913, PRECISION_RECALL_MIN_DEN: 0.1123241, RECALL: 0.1102965, MAP: 0.0533045, MRR: 0.1014658, NDCG: 0.0776868, F1: 0.0427216, HIT_RATE: 0.2649126, ARHR: 0.1114550, NOVELTY: 0.0045005, AVERAGE_POPULARITY: 0.1783315, DIVERSITY_MEAN_INTER_LIST: 0.9511256, DIVERSITY_HERFINDAHL: 0.9950935, COVERAGE_ITEM: 0.2745332, COVERAGE_ITEM_CORRECT: 0.0234456, COVERAGE_USER: 0.6265257, COVERAGE_USER_CORRECT: 0.1361520, DIVERSITY_GINI: 0.0592307, SHANNON_ENTROPY: 9.8466141, \n",
      "\n",
      "Iteration No: 20 ended. Search finished for the next optimal point.\n",
      "Time taken: 4.3372\n",
      "Function value obtained: -0.0533\n",
      "Current minimum: -0.0580\n",
      "Iteration No: 21 started. Searching for the next optimal point.\n",
      "UserKNNCFRecommender: URM Detected 42 (0.53 %) cold users.\n",
      "UserKNNCFRecommender: URM Detected 1981 (7.63 %) cold items.\n",
      "SearchBayesianSkopt: Testing config: {'topK': 258, 'shrink': 8}\n",
      "Similarity column 7947 ( 100 % ), 16973.37 column/sec, elapsed time 0.01 min\n",
      "EvaluatorHoldout: Processed 4979 ( 100.00% ) in 3.10 sec. Users per second: 1606\n",
      "SearchBayesianSkopt: New best config found. Config 20: {'topK': 258, 'shrink': 8} - results: ROC_AUC: 0.1560703, PRECISION: 0.0310705, PRECISION_RECALL_MIN_DEN: 0.1252804, RECALL: 0.1227754, MAP: 0.0581358, MRR: 0.1131168, NDCG: 0.0861569, F1: 0.0495911, HIT_RATE: 0.3107050, ARHR: 0.1259039, NOVELTY: 0.0046441, AVERAGE_POPULARITY: 0.1359299, DIVERSITY_MEAN_INTER_LIST: 0.9760140, DIVERSITY_HERFINDAHL: 0.9975818, COVERAGE_ITEM: 0.3064100, COVERAGE_ITEM_CORRECT: 0.0301059, COVERAGE_USER: 0.6265257, COVERAGE_USER_CORRECT: 0.1551529, DIVERSITY_GINI: 0.0766033, SHANNON_ENTROPY: 10.5553805, \n",
      "\n",
      "EvaluatorHoldout: Processed 4979 ( 100.00% ) in 3.07 sec. Users per second: 1624\n",
      "SearchBayesianSkopt: Best config evaluated with evaluator_test. Config: {'topK': 258, 'shrink': 8} - results:\n",
      "CUTOFF: 10 - ROC_AUC: 0.1560703, PRECISION: 0.0310705, PRECISION_RECALL_MIN_DEN: 0.1252804, RECALL: 0.1227754, MAP: 0.0581358, MRR: 0.1131168, NDCG: 0.0861569, F1: 0.0495911, HIT_RATE: 0.3107050, ARHR: 0.1259039, NOVELTY: 0.0046441, AVERAGE_POPULARITY: 0.1359299, DIVERSITY_MEAN_INTER_LIST: 0.9760140, DIVERSITY_HERFINDAHL: 0.9975818, COVERAGE_ITEM: 0.3064100, COVERAGE_ITEM_CORRECT: 0.0301059, COVERAGE_USER: 0.6265257, COVERAGE_USER_CORRECT: 0.1551529, DIVERSITY_GINI: 0.0766033, SHANNON_ENTROPY: 10.5553805, \n",
      "\n",
      "\n",
      "Iteration No: 21 ended. Search finished for the next optimal point.\n",
      "Time taken: 7.0222\n",
      "Function value obtained: -0.0581\n",
      "Current minimum: -0.0581\n",
      "Iteration No: 22 started. Searching for the next optimal point.\n",
      "UserKNNCFRecommender: URM Detected 42 (0.53 %) cold users.\n",
      "UserKNNCFRecommender: URM Detected 1981 (7.63 %) cold items.\n",
      "SearchBayesianSkopt: Testing config: {'topK': 94, 'shrink': 800}\n",
      "Similarity column 7947 ( 100 % ), 16339.51 column/sec, elapsed time 0.01 min\n",
      "EvaluatorHoldout: Processed 4979 ( 100.00% ) in 2.91 sec. Users per second: 1711\n",
      "SearchBayesianSkopt: Config 21 is suboptimal. Config: {'topK': 94, 'shrink': 800} - results: ROC_AUC: 0.1515958, PRECISION: 0.0292227, PRECISION_RECALL_MIN_DEN: 0.1183298, RECALL: 0.1160044, MAP: 0.0560417, MRR: 0.1077228, NDCG: 0.0823899, F1: 0.0466850, HIT_RATE: 0.2922274, ARHR: 0.1196066, NOVELTY: 0.0048970, AVERAGE_POPULARITY: 0.0914632, DIVERSITY_MEAN_INTER_LIST: 0.9905174, DIVERSITY_HERFINDAHL: 0.9990318, COVERAGE_ITEM: 0.3890664, COVERAGE_ITEM_CORRECT: 0.0323773, COVERAGE_USER: 0.6265257, COVERAGE_USER_CORRECT: 0.1465962, DIVERSITY_GINI: 0.1280927, SHANNON_ENTROPY: 11.6226402, \n",
      "\n",
      "Iteration No: 22 ended. Search finished for the next optimal point.\n",
      "Time taken: 3.7589\n",
      "Function value obtained: -0.0560\n",
      "Current minimum: -0.0581\n",
      "Iteration No: 23 started. Searching for the next optimal point.\n",
      "UserKNNCFRecommender: URM Detected 42 (0.53 %) cold users.\n",
      "UserKNNCFRecommender: URM Detected 1981 (7.63 %) cold items.\n",
      "SearchBayesianSkopt: Testing config: {'topK': 146, 'shrink': 1}\n",
      "Similarity column 7947 ( 100 % ), 17252.99 column/sec, elapsed time 0.01 min\n",
      "EvaluatorHoldout: Processed 4979 ( 100.00% ) in 2.99 sec. Users per second: 1664\n",
      "SearchBayesianSkopt: New best config found. Config 22: {'topK': 146, 'shrink': 1} - results: ROC_AUC: 0.1583409, PRECISION: 0.0325367, PRECISION_RECALL_MIN_DEN: 0.1280165, RECALL: 0.1253052, MAP: 0.0588042, MRR: 0.1132664, NDCG: 0.0874612, F1: 0.0516594, HIT_RATE: 0.3253665, ARHR: 0.1280179, NOVELTY: 0.0047708, AVERAGE_POPULARITY: 0.1097182, DIVERSITY_MEAN_INTER_LIST: 0.9855344, DIVERSITY_HERFINDAHL: 0.9985336, COVERAGE_ITEM: 0.3427526, COVERAGE_ITEM_CORRECT: 0.0347257, COVERAGE_USER: 0.6265257, COVERAGE_USER_CORRECT: 0.1590537, DIVERSITY_GINI: 0.0982833, SHANNON_ENTROPY: 11.1097895, \n",
      "\n",
      "EvaluatorHoldout: Processed 4979 ( 100.00% ) in 3.02 sec. Users per second: 1647\n",
      "SearchBayesianSkopt: Best config evaluated with evaluator_test. Config: {'topK': 146, 'shrink': 1} - results:\n",
      "CUTOFF: 10 - ROC_AUC: 0.1583409, PRECISION: 0.0325367, PRECISION_RECALL_MIN_DEN: 0.1280165, RECALL: 0.1253052, MAP: 0.0588042, MRR: 0.1132664, NDCG: 0.0874612, F1: 0.0516594, HIT_RATE: 0.3253665, ARHR: 0.1280179, NOVELTY: 0.0047708, AVERAGE_POPULARITY: 0.1097182, DIVERSITY_MEAN_INTER_LIST: 0.9855344, DIVERSITY_HERFINDAHL: 0.9985336, COVERAGE_ITEM: 0.3427526, COVERAGE_ITEM_CORRECT: 0.0347257, COVERAGE_USER: 0.6265257, COVERAGE_USER_CORRECT: 0.1590537, DIVERSITY_GINI: 0.0982833, SHANNON_ENTROPY: 11.1097895, \n",
      "\n",
      "\n",
      "Iteration No: 23 ended. Search finished for the next optimal point.\n",
      "Time taken: 6.8648\n",
      "Function value obtained: -0.0588\n",
      "Current minimum: -0.0588\n",
      "Iteration No: 24 started. Searching for the next optimal point.\n",
      "UserKNNCFRecommender: URM Detected 42 (0.53 %) cold users.\n",
      "UserKNNCFRecommender: URM Detected 1981 (7.63 %) cold items.\n",
      "SearchBayesianSkopt: Testing config: {'topK': 487, 'shrink': 12}\n",
      "Similarity column 7947 ( 100 % ), 15933.39 column/sec, elapsed time 0.01 min\n",
      "EvaluatorHoldout: Processed 4979 ( 100.00% ) in 3.27 sec. Users per second: 1522\n",
      "SearchBayesianSkopt: Config 23 is suboptimal. Config: {'topK': 487, 'shrink': 12} - results: ROC_AUC: 0.1507989, PRECISION: 0.0291223, PRECISION_RECALL_MIN_DEN: 0.1212835, RECALL: 0.1189675, MAP: 0.0566119, MRR: 0.1098012, NDCG: 0.0833395, F1: 0.0467906, HIT_RATE: 0.2912231, ARHR: 0.1211103, NOVELTY: 0.0045477, AVERAGE_POPULARITY: 0.1630518, DIVERSITY_MEAN_INTER_LIST: 0.9626070, DIVERSITY_HERFINDAHL: 0.9962414, COVERAGE_ITEM: 0.2839654, COVERAGE_ITEM_CORRECT: 0.0262560, COVERAGE_USER: 0.6265257, COVERAGE_USER_CORRECT: 0.1491129, DIVERSITY_GINI: 0.0644758, SHANNON_ENTROPY: 10.1010409, \n",
      "\n",
      "Iteration No: 24 ended. Search finished for the next optimal point.\n",
      "Time taken: 4.1166\n",
      "Function value obtained: -0.0566\n",
      "Current minimum: -0.0588\n",
      "Iteration No: 25 started. Searching for the next optimal point.\n",
      "UserKNNCFRecommender: URM Detected 42 (0.53 %) cold users.\n",
      "UserKNNCFRecommender: URM Detected 1981 (7.63 %) cold items.\n",
      "SearchBayesianSkopt: Testing config: {'topK': 126, 'shrink': 1}\n",
      "Similarity column 7947 ( 100 % ), 17191.88 column/sec, elapsed time 0.01 min\n",
      "EvaluatorHoldout: Processed 4979 ( 100.00% ) in 2.97 sec. Users per second: 1676\n",
      "SearchBayesianSkopt: Config 24 is suboptimal. Config: {'topK': 126, 'shrink': 1} - results: ROC_AUC: 0.1594060, PRECISION: 0.0322153, PRECISION_RECALL_MIN_DEN: 0.1278121, RECALL: 0.1250863, MAP: 0.0584408, MRR: 0.1128694, NDCG: 0.0870502, F1: 0.0512352, HIT_RATE: 0.3221530, ARHR: 0.1275483, NOVELTY: 0.0047989, AVERAGE_POPULARITY: 0.1040896, DIVERSITY_MEAN_INTER_LIST: 0.9872057, DIVERSITY_HERFINDAHL: 0.9987007, COVERAGE_ITEM: 0.3496824, COVERAGE_ITEM_CORRECT: 0.0354572, COVERAGE_USER: 0.6265257, COVERAGE_USER_CORRECT: 0.1577954, DIVERSITY_GINI: 0.1032246, SHANNON_ENTROPY: 11.2295316, \n",
      "\n",
      "Iteration No: 25 ended. Search finished for the next optimal point.\n",
      "Time taken: 3.7477\n",
      "Function value obtained: -0.0584\n",
      "Current minimum: -0.0588\n",
      "Iteration No: 26 started. Searching for the next optimal point.\n",
      "UserKNNCFRecommender: URM Detected 42 (0.53 %) cold users.\n",
      "UserKNNCFRecommender: URM Detected 1981 (7.63 %) cold items.\n",
      "SearchBayesianSkopt: Testing config: {'topK': 284, 'shrink': 1}\n",
      "Similarity column 7947 ( 100 % ), 17076.88 column/sec, elapsed time 0.01 min\n",
      "EvaluatorHoldout: Processed 4979 ( 100.00% ) in 3.16 sec. Users per second: 1577\n",
      "SearchBayesianSkopt: Config 25 is suboptimal. Config: {'topK': 284, 'shrink': 1} - results: ROC_AUC: 0.1574439, PRECISION: 0.0309098, PRECISION_RECALL_MIN_DEN: 0.1253606, RECALL: 0.1227979, MAP: 0.0583670, MRR: 0.1135064, NDCG: 0.0862913, F1: 0.0493880, HIT_RATE: 0.3090982, ARHR: 0.1263468, NOVELTY: 0.0046548, AVERAGE_POPULARITY: 0.1365104, DIVERSITY_MEAN_INTER_LIST: 0.9755826, DIVERSITY_HERFINDAHL: 0.9975387, COVERAGE_ITEM: 0.3157267, COVERAGE_ITEM_CORRECT: 0.0300289, COVERAGE_USER: 0.6265257, COVERAGE_USER_CORRECT: 0.1547754, DIVERSITY_GINI: 0.0802836, SHANNON_ENTROPY: 10.5873530, \n",
      "\n",
      "Iteration No: 26 ended. Search finished for the next optimal point.\n",
      "Time taken: 3.9665\n",
      "Function value obtained: -0.0584\n",
      "Current minimum: -0.0588\n",
      "Iteration No: 27 started. Searching for the next optimal point.\n",
      "UserKNNCFRecommender: URM Detected 42 (0.53 %) cold users.\n",
      "UserKNNCFRecommender: URM Detected 1981 (7.63 %) cold items.\n",
      "SearchBayesianSkopt: Testing config: {'topK': 151, 'shrink': 800}\n",
      "Similarity column 7947 ( 100 % ), 15813.89 column/sec, elapsed time 0.01 min\n",
      "EvaluatorHoldout: Processed 4979 ( 100.00% ) in 3.08 sec. Users per second: 1615\n",
      "SearchBayesianSkopt: Config 26 is suboptimal. Config: {'topK': 151, 'shrink': 800} - results: ROC_AUC: 0.1528906, PRECISION: 0.0298253, PRECISION_RECALL_MIN_DEN: 0.1228305, RECALL: 0.1206014, MAP: 0.0566040, MRR: 0.1084741, NDCG: 0.0839757, F1: 0.0478236, HIT_RATE: 0.2982527, ARHR: 0.1200216, NOVELTY: 0.0047858, AVERAGE_POPULARITY: 0.1097190, DIVERSITY_MEAN_INTER_LIST: 0.9856805, DIVERSITY_HERFINDAHL: 0.9985483, COVERAGE_ITEM: 0.3532243, COVERAGE_ITEM_CORRECT: 0.0306833, COVERAGE_USER: 0.6265257, COVERAGE_USER_CORRECT: 0.1513779, DIVERSITY_GINI: 0.1034697, SHANNON_ENTROPY: 11.1773506, \n",
      "\n",
      "Iteration No: 27 ended. Search finished for the next optimal point.\n",
      "Time taken: 3.9116\n",
      "Function value obtained: -0.0566\n",
      "Current minimum: -0.0588\n",
      "Iteration No: 28 started. Searching for the next optimal point.\n",
      "UserKNNCFRecommender: URM Detected 42 (0.53 %) cold users.\n",
      "UserKNNCFRecommender: URM Detected 1981 (7.63 %) cold items.\n",
      "SearchBayesianSkopt: Testing config: {'topK': 678, 'shrink': 1}\n",
      "Similarity column 7947 ( 100 % ), 15631.58 column/sec, elapsed time 0.01 min\n",
      "EvaluatorHoldout: Processed 4979 ( 100.00% ) in 3.41 sec. Users per second: 1460\n",
      "SearchBayesianSkopt: Config 27 is suboptimal. Config: {'topK': 678, 'shrink': 1} - results: ROC_AUC: 0.1514167, PRECISION: 0.0287206, PRECISION_RECALL_MIN_DEN: 0.1215625, RECALL: 0.1193996, MAP: 0.0567954, MRR: 0.1083877, NDCG: 0.0833610, F1: 0.0463033, HIT_RATE: 0.2872063, ARHR: 0.1196213, NOVELTY: 0.0045561, AVERAGE_POPULARITY: 0.1682477, DIVERSITY_MEAN_INTER_LIST: 0.9590170, DIVERSITY_HERFINDAHL: 0.9958824, COVERAGE_ITEM: 0.2978633, COVERAGE_ITEM_CORRECT: 0.0260250, COVERAGE_USER: 0.6265257, COVERAGE_USER_CORRECT: 0.1470995, DIVERSITY_GINI: 0.0696054, SHANNON_ENTROPY: 10.1290334, \n",
      "\n",
      "Iteration No: 28 ended. Search finished for the next optimal point.\n",
      "Time taken: 4.2836\n",
      "Function value obtained: -0.0568\n",
      "Current minimum: -0.0588\n",
      "Iteration No: 29 started. Searching for the next optimal point.\n",
      "UserKNNCFRecommender: URM Detected 42 (0.53 %) cold users.\n",
      "UserKNNCFRecommender: URM Detected 1981 (7.63 %) cold items.\n",
      "SearchBayesianSkopt: Testing config: {'topK': 657, 'shrink': 789}\n",
      "Similarity column 7947 ( 100 % ), 16581.26 column/sec, elapsed time 0.01 min\n",
      "EvaluatorHoldout: Processed 4979 ( 100.00% ) in 3.48 sec. Users per second: 1432\n",
      "SearchBayesianSkopt: Config 28 is suboptimal. Config: {'topK': 657, 'shrink': 789} - results: ROC_AUC: 0.1407981, PRECISION: 0.0267122, PRECISION_RECALL_MIN_DEN: 0.1136435, RECALL: 0.1115943, MAP: 0.0535373, MRR: 0.1017437, NDCG: 0.0782066, F1: 0.0431061, HIT_RATE: 0.2671219, ARHR: 0.1117423, NOVELTY: 0.0045181, AVERAGE_POPULARITY: 0.1729992, DIVERSITY_MEAN_INTER_LIST: 0.9551006, DIVERSITY_HERFINDAHL: 0.9954909, COVERAGE_ITEM: 0.2794225, COVERAGE_ITEM_CORRECT: 0.0238691, COVERAGE_USER: 0.6265257, COVERAGE_USER_CORRECT: 0.1372845, DIVERSITY_GINI: 0.0613929, SHANNON_ENTROPY: 9.9369954, \n",
      "\n",
      "Iteration No: 29 ended. Search finished for the next optimal point.\n",
      "Time taken: 4.5577\n",
      "Function value obtained: -0.0535\n",
      "Current minimum: -0.0588\n",
      "Iteration No: 30 started. Searching for the next optimal point.\n",
      "UserKNNCFRecommender: URM Detected 42 (0.53 %) cold users.\n",
      "UserKNNCFRecommender: URM Detected 1981 (7.63 %) cold items.\n",
      "SearchBayesianSkopt: Testing config: {'topK': 470, 'shrink': 797}\n",
      "Similarity column 7947 ( 100 % ), 12460.83 column/sec, elapsed time 0.01 min\n",
      "EvaluatorHoldout: Processed 4979 ( 100.00% ) in 3.53 sec. Users per second: 1412\n",
      "SearchBayesianSkopt: Config 29 is suboptimal. Config: {'topK': 470, 'shrink': 797} - results: ROC_AUC: 0.1432562, PRECISION: 0.0274151, PRECISION_RECALL_MIN_DEN: 0.1160217, RECALL: 0.1139396, MAP: 0.0551264, MRR: 0.1050320, NDCG: 0.0803536, F1: 0.0441962, HIT_RATE: 0.2741514, ARHR: 0.1153204, NOVELTY: 0.0045613, AVERAGE_POPULARITY: 0.1597300, DIVERSITY_MEAN_INTER_LIST: 0.9636815, DIVERSITY_HERFINDAHL: 0.9963488, COVERAGE_ITEM: 0.2891242, COVERAGE_ITEM_CORRECT: 0.0247161, COVERAGE_USER: 0.6265257, COVERAGE_USER_CORRECT: 0.1400529, DIVERSITY_GINI: 0.0664828, SHANNON_ENTROPY: 10.1541153, \n",
      "\n",
      "Iteration No: 30 ended. Search finished for the next optimal point.\n",
      "Time taken: 4.5457\n",
      "Function value obtained: -0.0551\n",
      "Current minimum: -0.0588\n",
      "SearchBayesianSkopt: Search complete. Best config is 22: {'topK': 146, 'shrink': 1}\n",
      "\n",
      "UserKNNCFRecommender: URM Detected 1079 (4.15 %) cold items.\n",
      "SearchBayesianSkopt: Evaluation with constructor data for final test. Using best config: {'topK': 146, 'shrink': 1}\n",
      "Similarity column 7947 ( 100 % ), 16160.26 column/sec, elapsed time 0.01 min\n",
      "EvaluatorHoldout: Processed 4979 ( 100.00% ) in 3.07 sec. Users per second: 1624\n",
      "SearchBayesianSkopt: Best config evaluated with evaluator_test with constructor data for final test. Config: {'topK': 146, 'shrink': 1} - results:\n",
      "CUTOFF: 10 - ROC_AUC: 0.0000000, PRECISION: 0.0000000, PRECISION_RECALL_MIN_DEN: 0.0000000, RECALL: 0.0000000, MAP: 0.0000000, MRR: 0.0000000, NDCG: 0.0000000, F1: 0.0000000, HIT_RATE: 0.0000000, ARHR: 0.0000000, NOVELTY: 0.0047490, AVERAGE_POPULARITY: 0.1089063, DIVERSITY_MEAN_INTER_LIST: 0.9855375, DIVERSITY_HERFINDAHL: 0.9985340, COVERAGE_ITEM: 0.3272377, COVERAGE_ITEM_CORRECT: 0.0000000, COVERAGE_USER: 0.6265257, COVERAGE_USER_CORRECT: 0.0000000, DIVERSITY_GINI: 0.0913049, SHANNON_ENTROPY: 11.0441217, \n",
      "\n",
      "\n",
      "SearchBayesianSkopt: Saving model in result_experiments/UserKNNCFRecommender\n",
      "\n",
      "UserKNNCFRecommender: Saving model in file 'result_experiments/UserKNNCFRecommender_best_model_last'\n",
      "UserKNNCFRecommender: Saving complete\n"
     ]
    }
   ],
   "source": [
    "parameterSearch.search(recommender_input_args,\n",
    "                       recommender_input_args_last_test = recommender_input_args_last_test,\n",
    "                       parameter_search_space = hyperparameters_range_dictionary,\n",
    "                       n_cases = n_cases,\n",
    "                       n_random_starts = n_random_starts,\n",
    "                       save_model = \"last\",\n",
    "                       output_folder_path = output_folder_path,\n",
    "                       output_file_name_root = recommender_class.RECOMMENDER_NAME,\n",
    "                       metric_to_optimize = metric_to_optimize,\n",
    "                      )"
   ]
  },
  {
   "cell_type": "code",
   "execution_count": 11,
   "metadata": {},
   "outputs": [
    {
     "output_type": "execute_result",
     "data": {
      "text/plain": [
       "{'topK': 146, 'shrink': 1}"
      ]
     },
     "metadata": {},
     "execution_count": 11
    }
   ],
   "source": [
    "from Base.DataIO import DataIO\n",
    "\n",
    "data_loader = DataIO(folder_path = output_folder_path)\n",
    "\n",
    "search_metadata = data_loader.load_data(recommender_class.RECOMMENDER_NAME + \"_metadata.zip\")\n",
    "\n",
    "hyperparameters_list = search_metadata[\"hyperparameters_list\"]\n",
    "\n",
    "best_parameters = search_metadata[\"hyperparameters_best\"]\n",
    "best_parameters"
   ]
  },
  {
   "cell_type": "code",
   "execution_count": 12,
   "metadata": {},
   "outputs": [
    {
     "output_type": "execute_result",
     "data": {
      "text/plain": [
       "      user_id\n",
       "0           0\n",
       "1           1\n",
       "2           2\n",
       "3           3\n",
       "4           4\n",
       "...       ...\n",
       "7939     7942\n",
       "7940     7943\n",
       "7941     7944\n",
       "7942     7945\n",
       "7943     7946\n",
       "\n",
       "[7944 rows x 1 columns]"
      ],
      "text/html": "<div>\n<style scoped>\n    .dataframe tbody tr th:only-of-type {\n        vertical-align: middle;\n    }\n\n    .dataframe tbody tr th {\n        vertical-align: top;\n    }\n\n    .dataframe thead th {\n        text-align: right;\n    }\n</style>\n<table border=\"1\" class=\"dataframe\">\n  <thead>\n    <tr style=\"text-align: right;\">\n      <th></th>\n      <th>user_id</th>\n    </tr>\n  </thead>\n  <tbody>\n    <tr>\n      <th>0</th>\n      <td>0</td>\n    </tr>\n    <tr>\n      <th>1</th>\n      <td>1</td>\n    </tr>\n    <tr>\n      <th>2</th>\n      <td>2</td>\n    </tr>\n    <tr>\n      <th>3</th>\n      <td>3</td>\n    </tr>\n    <tr>\n      <th>4</th>\n      <td>4</td>\n    </tr>\n    <tr>\n      <th>...</th>\n      <td>...</td>\n    </tr>\n    <tr>\n      <th>7939</th>\n      <td>7942</td>\n    </tr>\n    <tr>\n      <th>7940</th>\n      <td>7943</td>\n    </tr>\n    <tr>\n      <th>7941</th>\n      <td>7944</td>\n    </tr>\n    <tr>\n      <th>7942</th>\n      <td>7945</td>\n    </tr>\n    <tr>\n      <th>7943</th>\n      <td>7946</td>\n    </tr>\n  </tbody>\n</table>\n<p>7944 rows × 1 columns</p>\n</div>"
     },
     "metadata": {},
     "execution_count": 12
    }
   ],
   "source": [
    "test_users = pd.read_csv('data_target_users_test.csv')\n",
    "test_users"
   ]
  },
  {
   "cell_type": "code",
   "execution_count": 13,
   "metadata": {},
   "outputs": [
    {
     "output_type": "stream",
     "name": "stdout",
     "text": [
      "UserKNNCFRecommender: URM Detected 1079 (4.15 %) cold items.\n",
      "Similarity column 7947 ( 100 % ), 16031.16 column/sec, elapsed time 0.01 min\n"
     ]
    }
   ],
   "source": [
    "recommender = UserKNNCFRecommender(URM_all)\n",
    "recommender.fit(shrink=100, topK=150, feature_weighting = \"TF-IDF\")\n",
    "\n",
    "user_id = test_users['user_id']\n",
    "recommendations = recommender.recommend(user_id,cutoff = 10)\n"
   ]
  },
  {
   "cell_type": "code",
   "execution_count": 14,
   "metadata": {},
   "outputs": [
    {
     "output_type": "stream",
     "name": "stdout",
     "text": [
      "7944\n"
     ]
    }
   ],
   "source": [
    "for index in range(len(recommendations)):\n",
    "    #print(element)\n",
    "    recommendations[index]=np.array(recommendations[index])\n",
    "    #print(type(element))\n",
    "print(len(recommendations))\n",
    "\n",
    "test_users['item_list']= recommendations\n",
    "test_users['item_list'] = pd.DataFrame([str(line).strip('[').strip(']').replace(\"'\",\"\") for line in test_users['item_list']])\n",
    "\n",
    "test_users\n",
    "test_users.to_csv('submission.csv', index=False)\n"
   ]
  }
 ],
 "metadata": {
  "kernelspec": {
   "display_name": "Python 3",
   "language": "python",
   "name": "python3"
  },
  "language_info": {
   "codemirror_mode": {
    "name": "ipython",
    "version": 3
   },
   "file_extension": ".py",
   "mimetype": "text/x-python",
   "name": "python",
   "nbconvert_exporter": "python",
   "pygments_lexer": "ipython3",
   "version": "3.8.5-final"
  }
 },
 "nbformat": 4,
 "nbformat_minor": 4
}