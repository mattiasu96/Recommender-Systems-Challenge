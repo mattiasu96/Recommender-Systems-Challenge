{
 "cells": [
  {
   "cell_type": "markdown",
   "metadata": {},
   "source": [
    "# Data loading \n",
    "Next cells are used to load the data we need."
   ]
  },
  {
   "cell_type": "code",
   "execution_count": 41,
   "metadata": {},
   "outputs": [],
   "source": [
    "import pandas as pd\n",
    "import numpy as np \n",
    "import scipy.sparse as sps\n",
    "import os\n",
    "import sys\n",
    "import matplotlib.pyplot as plt\n",
    "sys.path.append('..')\n"
   ]
  },
  {
   "cell_type": "code",
   "execution_count": 42,
   "metadata": {},
   "outputs": [
    {
     "data": {
      "text/html": [
       "<div>\n",
       "<style scoped>\n",
       "    .dataframe tbody tr th:only-of-type {\n",
       "        vertical-align: middle;\n",
       "    }\n",
       "\n",
       "    .dataframe tbody tr th {\n",
       "        vertical-align: top;\n",
       "    }\n",
       "\n",
       "    .dataframe thead th {\n",
       "        text-align: right;\n",
       "    }\n",
       "</style>\n",
       "<table border=\"1\" class=\"dataframe\">\n",
       "  <thead>\n",
       "    <tr style=\"text-align: right;\">\n",
       "      <th></th>\n",
       "      <th>row</th>\n",
       "      <th>col</th>\n",
       "      <th>data</th>\n",
       "    </tr>\n",
       "  </thead>\n",
       "  <tbody>\n",
       "    <tr>\n",
       "      <th>0</th>\n",
       "      <td>0</td>\n",
       "      <td>10080</td>\n",
       "      <td>1.0</td>\n",
       "    </tr>\n",
       "    <tr>\n",
       "      <th>1</th>\n",
       "      <td>0</td>\n",
       "      <td>19467</td>\n",
       "      <td>1.0</td>\n",
       "    </tr>\n",
       "    <tr>\n",
       "      <th>2</th>\n",
       "      <td>1</td>\n",
       "      <td>2665</td>\n",
       "      <td>1.0</td>\n",
       "    </tr>\n",
       "    <tr>\n",
       "      <th>3</th>\n",
       "      <td>1</td>\n",
       "      <td>7494</td>\n",
       "      <td>1.0</td>\n",
       "    </tr>\n",
       "    <tr>\n",
       "      <th>4</th>\n",
       "      <td>1</td>\n",
       "      <td>17068</td>\n",
       "      <td>1.0</td>\n",
       "    </tr>\n",
       "    <tr>\n",
       "      <th>...</th>\n",
       "      <td>...</td>\n",
       "      <td>...</td>\n",
       "      <td>...</td>\n",
       "    </tr>\n",
       "    <tr>\n",
       "      <th>113263</th>\n",
       "      <td>7945</td>\n",
       "      <td>2476</td>\n",
       "      <td>1.0</td>\n",
       "    </tr>\n",
       "    <tr>\n",
       "      <th>113264</th>\n",
       "      <td>7945</td>\n",
       "      <td>12319</td>\n",
       "      <td>1.0</td>\n",
       "    </tr>\n",
       "    <tr>\n",
       "      <th>113265</th>\n",
       "      <td>7945</td>\n",
       "      <td>21384</td>\n",
       "      <td>1.0</td>\n",
       "    </tr>\n",
       "    <tr>\n",
       "      <th>113266</th>\n",
       "      <td>7946</td>\n",
       "      <td>8699</td>\n",
       "      <td>1.0</td>\n",
       "    </tr>\n",
       "    <tr>\n",
       "      <th>113267</th>\n",
       "      <td>7946</td>\n",
       "      <td>19178</td>\n",
       "      <td>1.0</td>\n",
       "    </tr>\n",
       "  </tbody>\n",
       "</table>\n",
       "<p>113268 rows × 3 columns</p>\n",
       "</div>"
      ],
      "text/plain": [
       "         row    col  data\n",
       "0          0  10080   1.0\n",
       "1          0  19467   1.0\n",
       "2          1   2665   1.0\n",
       "3          1   7494   1.0\n",
       "4          1  17068   1.0\n",
       "...      ...    ...   ...\n",
       "113263  7945   2476   1.0\n",
       "113264  7945  12319   1.0\n",
       "113265  7945  21384   1.0\n",
       "113266  7946   8699   1.0\n",
       "113267  7946  19178   1.0\n",
       "\n",
       "[113268 rows x 3 columns]"
      ]
     },
     "execution_count": 42,
     "metadata": {},
     "output_type": "execute_result"
    }
   ],
   "source": [
    "#data which contains users (row), items(col) and implicit interaction (data)\n",
    "dataset = pd.read_csv('data_train.csv')\n",
    "dataset"
   ]
  },
  {
   "cell_type": "markdown",
   "metadata": {},
   "source": [
    "# Data pre-processing\n",
    "Pre-processing of data to check for missing users, items ecc..."
   ]
  },
  {
   "cell_type": "code",
   "execution_count": 43,
   "metadata": {},
   "outputs": [
    {
     "name": "stdout",
     "output_type": "stream",
     "text": [
      "users stats: 7947 0 7946\n",
      "items stats: 24896 0 25974\n"
     ]
    }
   ],
   "source": [
    "unique_users, min_users, max_users = len(dataset.row.unique()), dataset.row.min(), dataset.row.max()\n",
    "unique_items, min_items, max_items = len(dataset.col.unique()), dataset.col.min(), dataset.col.max()\n",
    "print('users stats:',unique_users, min_users, max_users)\n",
    "print('items stats:',unique_items, min_items, max_items)"
   ]
  },
  {
   "cell_type": "markdown",
   "metadata": {},
   "source": [
    "If the difference between the unique elements and the max/min ones is really big, it's better to remap users and items in a new dataframe. In this case, it seems I can leave it as it is"
   ]
  },
  {
   "cell_type": "code",
   "execution_count": 44,
   "metadata": {},
   "outputs": [
    {
     "data": {
      "text/plain": [
       "(7947, 25975)"
      ]
     },
     "execution_count": 44,
     "metadata": {},
     "output_type": "execute_result"
    }
   ],
   "source": [
    "users = dataset.row\n",
    "items = dataset.col\n",
    "data = dataset.data\n",
    "URM_all = sps.coo_matrix((data, (users, items)))\n",
    "URM_all = URM_all.tocsr() #fast row access -> fast access to users \n",
    "URM_all.shape"
   ]
  },
  {
   "cell_type": "markdown",
   "metadata": {},
   "source": [
    "CSR basically has a pointer to the exact beginning of every possible row. For example if i have <code>matrix.inptr = [0,1,2,4,6] </code> this means that at <code>matrix.inptr[n]</code> I have my n row which \"last\" until the next cell in the array. <br> In this case (for example) my third row goes from 2 to 4. <br>\n",
    "\n",
    "What do I do with it? <br>\n",
    "\n",
    "I use this index (2 to 4) to access the other two arrays of the crs format: <code>indices</code> and <code>data</code>.\n",
    "<code>indices</code> gives me the column index and <code>data</code> gives me the actual data to take"
   ]
  },
  {
   "cell_type": "code",
   "execution_count": 45,
   "metadata": {},
   "outputs": [],
   "source": [
    "items_per_user = np.ediff1d(URM_all.indptr) #tells in which position each of the rows begin\n",
    "users_per_item = np.ediff1d(sps.csc_matrix(URM_all).indptr)\n",
    "URM_all = sps.csr_matrix(URM_all)"
   ]
  },
  {
   "cell_type": "code",
   "execution_count": 46,
   "metadata": {},
   "outputs": [],
   "source": [
    "items_per_user = np.sort(items_per_user) #sorting based on the single value. Losing reference to the user. \n",
    "users_per_item = np.sort(users_per_item)"
   ]
  },
  {
   "cell_type": "markdown",
   "metadata": {},
   "source": [
    "The following 2 graphs plots the <code>items_per_user</code> and the <code>users_per_item</code>. It shows that slightly more than 2500 users and 2500 items have a 0 count. This is coherent with the original data we got: 30910-27255 for users and 18494-15277 for items. These differences are the missing users/items in the dataset (Basically users/items that have no interaction at all)"
   ]
  },
  {
   "cell_type": "code",
   "execution_count": 47,
   "metadata": {},
   "outputs": [
    {
     "data": {
      "text/plain": [
       "[<matplotlib.lines.Line2D at 0x2df4facddf0>]"
      ]
     },
     "execution_count": 47,
     "metadata": {},
     "output_type": "execute_result"
    },
    {
     "data": {
      "image/png": "[encoded data removed]",
      "text/plain": [
       "<Figure size 1080x864 with 1 Axes>"
      ]
     },
     "metadata": {
      "needs_background": "light"
     },
     "output_type": "display_data"
    }
   ],
   "source": [
    "plt.figure(figsize=(15,12))\n",
    "plt.plot(items_per_user, 'ro') #biased dataset, but not so much compared with the one seen at lessons "
   ]
  },
  {
   "cell_type": "code",
   "execution_count": 48,
   "metadata": {},
   "outputs": [
    {
     "data": {
      "text/plain": [
       "[<matplotlib.lines.Line2D at 0x2df4be2e7c0>]"
      ]
     },
     "execution_count": 48,
     "metadata": {},
     "output_type": "execute_result"
    },
    {
     "data": {
      "image/png": "[encoded data removed]",
      "text/plain": [
       "<Figure size 1080x864 with 1 Axes>"
      ]
     },
     "metadata": {
      "needs_background": "light"
     },
     "output_type": "display_data"
    }
   ],
   "source": [
    "plt.figure(figsize=(15,12))\n",
    "plt.plot(users_per_item, 'ro') #biased dataset, but not so much compared with the one seen at lessons "
   ]
  },
  {
   "cell_type": "code",
   "execution_count": 49,
   "metadata": {},
   "outputs": [
    {
     "name": "stdout",
     "output_type": "stream",
     "text": [
      "Warning: 465 (5.85 %) of 7947 users have no train items\n",
      "Warning: 4013 (50.50 %) of 7947 users have no sampled items\n"
     ]
    }
   ],
   "source": [
    "from Base.Evaluation.Evaluator import EvaluatorHoldout\n",
    "from Data_manager.split_functions.split_train_validation_random_holdout import split_train_in_two_percentage_global_sample\n",
    "\n",
    "#splitting data into train and test. In teoria non serve, da vedere\n",
    "#URM_train, URM_test = split_train_in_two_percentage_global_sample(URM_all, train_percentage = 0.85)\n",
    "\n",
    "#splitting data into train and validation (from the previous training data)\n",
    "URM_train, URM_validation = split_train_in_two_percentage_global_sample(URM_train, train_percentage = 0.85)\n",
    "\n"
   ]
  },
  {
   "cell_type": "code",
   "execution_count": 50,
   "metadata": {},
   "outputs": [],
   "source": [
    "#evaluator for validation (used for hyperparameter tuning)\n",
    "evaluator_validation = EvaluatorHoldout(URM_validation, cutoff_list=[10])\n",
    "\n",
    "#evaluator for testing (the final one)\n",
    "evaluator_test = EvaluatorHoldout(URM_test, cutoff_list=[10])"
   ]
  },
  {
   "cell_type": "code",
   "execution_count": 51,
   "metadata": {},
   "outputs": [
    {
     "name": "stdout",
     "output_type": "stream",
     "text": [
      "UserKNNCFRecommender: URM Detected 465 (5.85 %) cold users.\n",
      "UserKNNCFRecommender: URM Detected 5732 (22.07 %) cold items.\n"
     ]
    }
   ],
   "source": [
    "from KNN.UserKNNCFRecommender import UserKNNCFRecommender\n",
    "\n",
    "recommender = UserKNNCFRecommender(URM_train)"
   ]
  },
  {
   "cell_type": "code",
   "execution_count": 64,
   "metadata": {},
   "outputs": [
    {
     "name": "stdout",
     "output_type": "stream",
     "text": [
      "UserKNNCFRecommender: URM Detected 465 (5.85 %) cold users.\n",
      "UserKNNCFRecommender: URM Detected 5732 (22.07 %) cold items.\n",
      "Unable to load Cython Compute_Similarity, reverting to Python\n",
      "Similarity column 7947 ( 100 % ), 2992.67 column/sec, elapsed time 0.04 min\n",
      "EvaluatorHoldout: Processed 3934 ( 100.00% ) in 2.42 sec. Users per second: 1626\n",
      "UserKNNCFRecommender: URM Detected 465 (5.85 %) cold users.\n",
      "UserKNNCFRecommender: URM Detected 5732 (22.07 %) cold items.\n",
      "Unable to load Cython Compute_Similarity, reverting to Python\n",
      "Similarity column 7947 ( 100 % ), 3193.39 column/sec, elapsed time 0.04 min\n",
      "EvaluatorHoldout: Processed 3934 ( 100.00% ) in 2.40 sec. Users per second: 1638\n",
      "UserKNNCFRecommender: URM Detected 465 (5.85 %) cold users.\n",
      "UserKNNCFRecommender: URM Detected 5732 (22.07 %) cold items.\n",
      "Unable to load Cython Compute_Similarity, reverting to Python\n",
      "Similarity column 7947 ( 100 % ), 3180.61 column/sec, elapsed time 0.04 min\n",
      "EvaluatorHoldout: Processed 3934 ( 100.00% ) in 2.41 sec. Users per second: 1630\n",
      "UserKNNCFRecommender: URM Detected 465 (5.85 %) cold users.\n",
      "UserKNNCFRecommender: URM Detected 5732 (22.07 %) cold items.\n",
      "Unable to load Cython Compute_Similarity, reverting to Python\n",
      "Similarity column 7947 ( 100 % ), 3061.84 column/sec, elapsed time 0.04 min\n",
      "EvaluatorHoldout: Processed 3934 ( 100.00% ) in 2.41 sec. Users per second: 1633\n",
      "UserKNNCFRecommender: URM Detected 465 (5.85 %) cold users.\n",
      "UserKNNCFRecommender: URM Detected 5732 (22.07 %) cold items.\n",
      "Unable to load Cython Compute_Similarity, reverting to Python\n",
      "Similarity column 7947 ( 100 % ), 3114.60 column/sec, elapsed time 0.04 min\n",
      "EvaluatorHoldout: Processed 3934 ( 100.00% ) in 2.44 sec. Users per second: 1615\n",
      "UserKNNCFRecommender: URM Detected 465 (5.85 %) cold users.\n",
      "UserKNNCFRecommender: URM Detected 5732 (22.07 %) cold items.\n",
      "Unable to load Cython Compute_Similarity, reverting to Python\n",
      "Similarity column 7947 ( 100 % ), 3179.36 column/sec, elapsed time 0.04 min\n",
      "EvaluatorHoldout: Processed 3934 ( 100.00% ) in 2.50 sec. Users per second: 1573\n",
      "UserKNNCFRecommender: URM Detected 465 (5.85 %) cold users.\n",
      "UserKNNCFRecommender: URM Detected 5732 (22.07 %) cold items.\n",
      "Unable to load Cython Compute_Similarity, reverting to Python\n",
      "Similarity column 7947 ( 100 % ), 2990.44 column/sec, elapsed time 0.04 min\n",
      "EvaluatorHoldout: Processed 3934 ( 100.00% ) in 2.42 sec. Users per second: 1625\n",
      "UserKNNCFRecommender: URM Detected 465 (5.85 %) cold users.\n",
      "UserKNNCFRecommender: URM Detected 5732 (22.07 %) cold items.\n",
      "Unable to load Cython Compute_Similarity, reverting to Python\n",
      "Similarity column 7947 ( 100 % ), 3139.17 column/sec, elapsed time 0.04 min\n",
      "EvaluatorHoldout: Processed 3934 ( 100.00% ) in 2.40 sec. Users per second: 1638\n",
      "UserKNNCFRecommender: URM Detected 465 (5.85 %) cold users.\n",
      "UserKNNCFRecommender: URM Detected 5732 (22.07 %) cold items.\n",
      "Unable to load Cython Compute_Similarity, reverting to Python\n",
      "Similarity column 7947 ( 100 % ), 3048.90 column/sec, elapsed time 0.04 min\n",
      "EvaluatorHoldout: Processed 3934 ( 100.00% ) in 2.47 sec. Users per second: 1592\n",
      "UserKNNCFRecommender: URM Detected 465 (5.85 %) cold users.\n",
      "UserKNNCFRecommender: URM Detected 5732 (22.07 %) cold items.\n",
      "Unable to load Cython Compute_Similarity, reverting to Python\n",
      "Similarity column 7947 ( 100 % ), 2961.48 column/sec, elapsed time 0.04 min\n",
      "EvaluatorHoldout: Processed 3934 ( 100.00% ) in 2.79 sec. Users per second: 1408\n",
      "UserKNNCFRecommender: URM Detected 465 (5.85 %) cold users.\n",
      "UserKNNCFRecommender: URM Detected 5732 (22.07 %) cold items.\n",
      "Unable to load Cython Compute_Similarity, reverting to Python\n",
      "Similarity column 7947 ( 100 % ), 2859.24 column/sec, elapsed time 0.05 min\n",
      "EvaluatorHoldout: Processed 3934 ( 100.00% ) in 2.52 sec. Users per second: 1563\n",
      "UserKNNCFRecommender: URM Detected 465 (5.85 %) cold users.\n",
      "UserKNNCFRecommender: URM Detected 5732 (22.07 %) cold items.\n",
      "Unable to load Cython Compute_Similarity, reverting to Python\n",
      "Similarity column 7947 ( 100 % ), 3066.56 column/sec, elapsed time 0.04 min\n",
      "EvaluatorHoldout: Processed 3934 ( 100.00% ) in 2.45 sec. Users per second: 1604\n",
      "UserKNNCFRecommender: URM Detected 465 (5.85 %) cold users.\n",
      "UserKNNCFRecommender: URM Detected 5732 (22.07 %) cold items.\n",
      "Unable to load Cython Compute_Similarity, reverting to Python\n",
      "Similarity column 7947 ( 100 % ), 2851.05 column/sec, elapsed time 0.05 min\n",
      "EvaluatorHoldout: Processed 3934 ( 100.00% ) in 2.68 sec. Users per second: 1468\n",
      "UserKNNCFRecommender: URM Detected 465 (5.85 %) cold users.\n",
      "UserKNNCFRecommender: URM Detected 5732 (22.07 %) cold items.\n",
      "Unable to load Cython Compute_Similarity, reverting to Python\n",
      "Similarity column 7947 ( 100 % ), 2996.07 column/sec, elapsed time 0.04 min\n",
      "EvaluatorHoldout: Processed 3934 ( 100.00% ) in 2.51 sec. Users per second: 1568\n",
      "UserKNNCFRecommender: URM Detected 465 (5.85 %) cold users.\n",
      "UserKNNCFRecommender: URM Detected 5732 (22.07 %) cold items.\n",
      "Unable to load Cython Compute_Similarity, reverting to Python\n",
      "Similarity column 7947 ( 100 % ), 3063.01 column/sec, elapsed time 0.04 min\n",
      "EvaluatorHoldout: Processed 3934 ( 100.00% ) in 2.55 sec. Users per second: 1545\n",
      "UserKNNCFRecommender: URM Detected 465 (5.85 %) cold users.\n",
      "UserKNNCFRecommender: URM Detected 5732 (22.07 %) cold items.\n",
      "Unable to load Cython Compute_Similarity, reverting to Python\n",
      "Similarity column 7947 ( 100 % ), 2857.21 column/sec, elapsed time 0.05 min\n",
      "EvaluatorHoldout: Processed 3934 ( 100.00% ) in 2.52 sec. Users per second: 1559\n",
      "UserKNNCFRecommender: URM Detected 465 (5.85 %) cold users.\n",
      "UserKNNCFRecommender: URM Detected 5732 (22.07 %) cold items.\n",
      "Unable to load Cython Compute_Similarity, reverting to Python\n",
      "Similarity column 7947 ( 100 % ), 3054.76 column/sec, elapsed time 0.04 min\n",
      "EvaluatorHoldout: Processed 3934 ( 100.00% ) in 2.55 sec. Users per second: 1545\n",
      "UserKNNCFRecommender: URM Detected 465 (5.85 %) cold users.\n",
      "UserKNNCFRecommender: URM Detected 5732 (22.07 %) cold items.\n",
      "Unable to load Cython Compute_Similarity, reverting to Python\n",
      "Similarity column 7947 ( 100 % ), 2991.56 column/sec, elapsed time 0.04 min\n",
      "EvaluatorHoldout: Processed 3934 ( 100.00% ) in 2.55 sec. Users per second: 1540\n",
      "UserKNNCFRecommender: URM Detected 465 (5.85 %) cold users.\n",
      "UserKNNCFRecommender: URM Detected 5732 (22.07 %) cold items.\n",
      "Unable to load Cython Compute_Similarity, reverting to Python\n",
      "Similarity column 7947 ( 100 % ), 2850.03 column/sec, elapsed time 0.05 min\n",
      "EvaluatorHoldout: Processed 3934 ( 100.00% ) in 2.55 sec. Users per second: 1542\n",
      "UserKNNCFRecommender: URM Detected 465 (5.85 %) cold users.\n",
      "UserKNNCFRecommender: URM Detected 5732 (22.07 %) cold items.\n",
      "Unable to load Cython Compute_Similarity, reverting to Python\n",
      "Similarity column 7947 ( 100 % ), 2855.16 column/sec, elapsed time 0.05 min\n",
      "EvaluatorHoldout: Processed 3934 ( 100.00% ) in 2.57 sec. Users per second: 1529\n",
      "UserKNNCFRecommender: URM Detected 465 (5.85 %) cold users.\n",
      "UserKNNCFRecommender: URM Detected 5732 (22.07 %) cold items.\n",
      "Unable to load Cython Compute_Similarity, reverting to Python\n",
      "Similarity column 7947 ( 100 % ), 3013.12 column/sec, elapsed time 0.04 min\n",
      "EvaluatorHoldout: Processed 3934 ( 100.00% ) in 2.84 sec. Users per second: 1387\n",
      "UserKNNCFRecommender: URM Detected 465 (5.85 %) cold users.\n",
      "UserKNNCFRecommender: URM Detected 5732 (22.07 %) cold items.\n",
      "Unable to load Cython Compute_Similarity, reverting to Python\n",
      "Similarity column 7947 ( 100 % ), 3017.68 column/sec, elapsed time 0.04 min\n",
      "EvaluatorHoldout: Processed 3934 ( 100.00% ) in 2.67 sec. Users per second: 1475\n",
      "UserKNNCFRecommender: URM Detected 465 (5.85 %) cold users.\n",
      "UserKNNCFRecommender: URM Detected 5732 (22.07 %) cold items.\n",
      "Unable to load Cython Compute_Similarity, reverting to Python\n",
      "Similarity column 7947 ( 100 % ), 2867.51 column/sec, elapsed time 0.05 min\n",
      "EvaluatorHoldout: Processed 3934 ( 100.00% ) in 2.60 sec. Users per second: 1513\n",
      "UserKNNCFRecommender: URM Detected 465 (5.85 %) cold users.\n",
      "UserKNNCFRecommender: URM Detected 5732 (22.07 %) cold items.\n",
      "Unable to load Cython Compute_Similarity, reverting to Python\n",
      "Similarity column 7947 ( 100 % ), 3004.00 column/sec, elapsed time 0.04 min\n",
      "EvaluatorHoldout: Processed 3934 ( 100.00% ) in 2.80 sec. Users per second: 1404\n",
      "UserKNNCFRecommender: URM Detected 465 (5.85 %) cold users.\n",
      "UserKNNCFRecommender: URM Detected 5732 (22.07 %) cold items.\n",
      "Unable to load Cython Compute_Similarity, reverting to Python\n"
     ]
    },
    {
     "name": "stdout",
     "output_type": "stream",
     "text": [
      "Similarity column 7947 ( 100 % ), 2981.46 column/sec, elapsed time 0.04 min\n",
      "EvaluatorHoldout: Processed 3934 ( 100.00% ) in 2.56 sec. Users per second: 1538\n",
      "UserKNNCFRecommender: URM Detected 465 (5.85 %) cold users.\n",
      "UserKNNCFRecommender: URM Detected 5732 (22.07 %) cold items.\n",
      "Unable to load Cython Compute_Similarity, reverting to Python\n",
      "Similarity column 7947 ( 100 % ), 2987.07 column/sec, elapsed time 0.04 min\n",
      "EvaluatorHoldout: Processed 3934 ( 100.00% ) in 2.66 sec. Users per second: 1476\n",
      "UserKNNCFRecommender: URM Detected 465 (5.85 %) cold users.\n",
      "UserKNNCFRecommender: URM Detected 5732 (22.07 %) cold items.\n",
      "Unable to load Cython Compute_Similarity, reverting to Python\n",
      "Similarity column 7947 ( 100 % ), 2851.05 column/sec, elapsed time 0.05 min\n",
      "EvaluatorHoldout: Processed 3934 ( 100.00% ) in 2.75 sec. Users per second: 1432\n",
      "UserKNNCFRecommender: URM Detected 465 (5.85 %) cold users.\n",
      "UserKNNCFRecommender: URM Detected 5732 (22.07 %) cold items.\n",
      "Unable to load Cython Compute_Similarity, reverting to Python\n",
      "Similarity column 7947 ( 100 % ), 2968.11 column/sec, elapsed time 0.04 min\n",
      "EvaluatorHoldout: Processed 3934 ( 100.00% ) in 2.76 sec. Users per second: 1426\n",
      "UserKNNCFRecommender: URM Detected 465 (5.85 %) cold users.\n",
      "UserKNNCFRecommender: URM Detected 5732 (22.07 %) cold items.\n",
      "Unable to load Cython Compute_Similarity, reverting to Python\n",
      "Similarity column 7947 ( 100 % ), 3033.80 column/sec, elapsed time 0.04 min\n",
      "EvaluatorHoldout: Processed 3934 ( 100.00% ) in 2.62 sec. Users per second: 1502\n",
      "UserKNNCFRecommender: URM Detected 465 (5.85 %) cold users.\n",
      "UserKNNCFRecommender: URM Detected 5732 (22.07 %) cold items.\n",
      "Unable to load Cython Compute_Similarity, reverting to Python\n",
      "Similarity column 7947 ( 100 % ), 2682.72 column/sec, elapsed time 0.05 min\n",
      "EvaluatorHoldout: Processed 3934 ( 100.00% ) in 2.72 sec. Users per second: 1448\n",
      "UserKNNCFRecommender: URM Detected 465 (5.85 %) cold users.\n",
      "UserKNNCFRecommender: URM Detected 5732 (22.07 %) cold items.\n",
      "Unable to load Cython Compute_Similarity, reverting to Python\n",
      "Similarity column 7947 ( 100 % ), 2893.59 column/sec, elapsed time 0.05 min\n",
      "EvaluatorHoldout: Processed 3934 ( 100.00% ) in 2.67 sec. Users per second: 1475\n",
      "UserKNNCFRecommender: URM Detected 465 (5.85 %) cold users.\n",
      "UserKNNCFRecommender: URM Detected 5732 (22.07 %) cold items.\n",
      "Unable to load Cython Compute_Similarity, reverting to Python\n",
      "Similarity column 7947 ( 100 % ), 2903.09 column/sec, elapsed time 0.05 min\n",
      "EvaluatorHoldout: Processed 3934 ( 100.00% ) in 2.73 sec. Users per second: 1442\n",
      "UserKNNCFRecommender: URM Detected 465 (5.85 %) cold users.\n",
      "UserKNNCFRecommender: URM Detected 5732 (22.07 %) cold items.\n",
      "Unable to load Cython Compute_Similarity, reverting to Python\n",
      "Similarity column 7947 ( 100 % ), 2934.18 column/sec, elapsed time 0.05 min\n",
      "EvaluatorHoldout: Processed 3934 ( 100.00% ) in 2.66 sec. Users per second: 1477\n",
      "UserKNNCFRecommender: URM Detected 465 (5.85 %) cold users.\n",
      "UserKNNCFRecommender: URM Detected 5732 (22.07 %) cold items.\n",
      "Unable to load Cython Compute_Similarity, reverting to Python\n",
      "Similarity column 7947 ( 100 % ), 2957.08 column/sec, elapsed time 0.04 min\n",
      "EvaluatorHoldout: Processed 3934 ( 100.00% ) in 2.66 sec. Users per second: 1480\n",
      "UserKNNCFRecommender: URM Detected 465 (5.85 %) cold users.\n",
      "UserKNNCFRecommender: URM Detected 5732 (22.07 %) cold items.\n",
      "Unable to load Cython Compute_Similarity, reverting to Python\n",
      "Similarity column 7947 ( 100 % ), 2979.24 column/sec, elapsed time 0.04 min\n",
      "EvaluatorHoldout: Processed 3934 ( 100.00% ) in 2.92 sec. Users per second: 1346\n",
      "UserKNNCFRecommender: URM Detected 465 (5.85 %) cold users.\n",
      "UserKNNCFRecommender: URM Detected 5732 (22.07 %) cold items.\n",
      "Unable to load Cython Compute_Similarity, reverting to Python\n",
      "Similarity column 7947 ( 100 % ), 2878.91 column/sec, elapsed time 0.05 min\n",
      "EvaluatorHoldout: Processed 3934 ( 100.00% ) in 2.63 sec. Users per second: 1498\n",
      "UserKNNCFRecommender: URM Detected 465 (5.85 %) cold users.\n",
      "UserKNNCFRecommender: URM Detected 5732 (22.07 %) cold items.\n",
      "Unable to load Cython Compute_Similarity, reverting to Python\n",
      "Similarity column 7947 ( 100 % ), 2909.47 column/sec, elapsed time 0.05 min\n",
      "EvaluatorHoldout: Processed 3934 ( 100.00% ) in 2.66 sec. Users per second: 1479\n",
      "UserKNNCFRecommender: URM Detected 465 (5.85 %) cold users.\n",
      "UserKNNCFRecommender: URM Detected 5732 (22.07 %) cold items.\n",
      "Unable to load Cython Compute_Similarity, reverting to Python\n",
      "Similarity column 7947 ( 100 % ), 2791.00 column/sec, elapsed time 0.05 min\n",
      "EvaluatorHoldout: Processed 3934 ( 100.00% ) in 2.70 sec. Users per second: 1456\n",
      "UserKNNCFRecommender: URM Detected 465 (5.85 %) cold users.\n",
      "UserKNNCFRecommender: URM Detected 5732 (22.07 %) cold items.\n",
      "Unable to load Cython Compute_Similarity, reverting to Python\n",
      "Similarity column 7947 ( 100 % ), 2919.10 column/sec, elapsed time 0.05 min\n",
      "EvaluatorHoldout: Processed 3934 ( 100.00% ) in 2.63 sec. Users per second: 1498\n",
      "UserKNNCFRecommender: URM Detected 465 (5.85 %) cold users.\n",
      "UserKNNCFRecommender: URM Detected 5732 (22.07 %) cold items.\n",
      "Unable to load Cython Compute_Similarity, reverting to Python\n",
      "Similarity column 7947 ( 100 % ), 2950.49 column/sec, elapsed time 0.04 min\n",
      "EvaluatorHoldout: Processed 3934 ( 100.00% ) in 2.66 sec. Users per second: 1481\n",
      "UserKNNCFRecommender: URM Detected 465 (5.85 %) cold users.\n",
      "UserKNNCFRecommender: URM Detected 5732 (22.07 %) cold items.\n",
      "Unable to load Cython Compute_Similarity, reverting to Python\n",
      "Similarity column 7947 ( 100 % ), 2740.02 column/sec, elapsed time 0.05 min\n",
      "EvaluatorHoldout: Processed 3934 ( 100.00% ) in 2.70 sec. Users per second: 1456\n",
      "UserKNNCFRecommender: URM Detected 465 (5.85 %) cold users.\n",
      "UserKNNCFRecommender: URM Detected 5732 (22.07 %) cold items.\n",
      "Unable to load Cython Compute_Similarity, reverting to Python\n",
      "Similarity column 7947 ( 100 % ), 2914.80 column/sec, elapsed time 0.05 min\n",
      "EvaluatorHoldout: Processed 3934 ( 100.00% ) in 2.73 sec. Users per second: 1439\n",
      "UserKNNCFRecommender: URM Detected 465 (5.85 %) cold users.\n",
      "UserKNNCFRecommender: URM Detected 5732 (22.07 %) cold items.\n",
      "Unable to load Cython Compute_Similarity, reverting to Python\n",
      "Similarity column 7947 ( 100 % ), 2834.79 column/sec, elapsed time 0.05 min\n",
      "EvaluatorHoldout: Processed 3934 ( 100.00% ) in 2.96 sec. Users per second: 1328\n",
      "UserKNNCFRecommender: URM Detected 465 (5.85 %) cold users.\n",
      "UserKNNCFRecommender: URM Detected 5732 (22.07 %) cold items.\n",
      "Unable to load Cython Compute_Similarity, reverting to Python\n",
      "Similarity column 7947 ( 100 % ), 2780.26 column/sec, elapsed time 0.05 min\n",
      "EvaluatorHoldout: Processed 3934 ( 100.00% ) in 2.74 sec. Users per second: 1435\n",
      "UserKNNCFRecommender: URM Detected 465 (5.85 %) cold users.\n",
      "UserKNNCFRecommender: URM Detected 5732 (22.07 %) cold items.\n",
      "Unable to load Cython Compute_Similarity, reverting to Python\n",
      "Similarity column 7947 ( 100 % ), 2907.33 column/sec, elapsed time 0.05 min\n",
      "EvaluatorHoldout: Processed 3934 ( 100.00% ) in 2.75 sec. Users per second: 1429\n",
      "UserKNNCFRecommender: URM Detected 465 (5.85 %) cold users.\n",
      "UserKNNCFRecommender: URM Detected 5732 (22.07 %) cold items.\n",
      "Unable to load Cython Compute_Similarity, reverting to Python\n",
      "Similarity column 7947 ( 100 % ), 2955.94 column/sec, elapsed time 0.04 min\n",
      "EvaluatorHoldout: Processed 3934 ( 100.00% ) in 3.00 sec. Users per second: 1311\n",
      "UserKNNCFRecommender: URM Detected 465 (5.85 %) cold users.\n",
      "UserKNNCFRecommender: URM Detected 5732 (22.07 %) cold items.\n",
      "Unable to load Cython Compute_Similarity, reverting to Python\n",
      "Similarity column 7947 ( 100 % ), 2953.77 column/sec, elapsed time 0.04 min\n",
      "EvaluatorHoldout: Processed 3934 ( 100.00% ) in 2.89 sec. Users per second: 1363\n",
      "UserKNNCFRecommender: URM Detected 465 (5.85 %) cold users.\n",
      "UserKNNCFRecommender: URM Detected 5732 (22.07 %) cold items.\n",
      "Unable to load Cython Compute_Similarity, reverting to Python\n",
      "Similarity column 7947 ( 100 % ), 2957.08 column/sec, elapsed time 0.04 min\n",
      "EvaluatorHoldout: Processed 3934 ( 100.00% ) in 2.72 sec. Users per second: 1444\n"
     ]
    }
   ],
   "source": [
    "x_tick = []\n",
    "collaborative_MAP = []\n",
    "\n",
    "for topK in [150, 200, 250, 300,350,400]:\n",
    "    for shrink in [0,5,10,20,50,70,100,150]:\n",
    "        \n",
    "        x_tick.append(\"topk {}, shrink {}\".format(topK, shrink))\n",
    "\n",
    "        \n",
    "        recommender = UserKNNCFRecommender(URM_train)\n",
    "        recommender.fit(shrink=shrink, topK=topK)\n",
    "    \n",
    "        result_dict, _ = evaluator_validation.evaluateRecommender(recommender)\n",
    "    \n",
    "        collaborative_MAP.append(result_dict[10][\"MAP\"])"
   ]
  },
  {
   "cell_type": "code",
   "execution_count": 67,
   "metadata": {},
   "outputs": [
    {
     "data": {
      "image/png": "[encoded data removed]",
      "text/plain": [
       "<Figure size 1080x864 with 1 Axes>"
      ]
     },
     "metadata": {
      "needs_background": "light"
     },
     "output_type": "display_data"
    }
   ],
   "source": [
    "plt.figure(figsize=(15,12))\n",
    "plt.plot(x_tick, collaborative_MAP, label=\"Collaborative\", )\n",
    "plt.ylabel('MAP')\n",
    "plt.xlabel('TopK')\n",
    "plt.xticks(rotation='vertical')\n",
    "plt.show()"
   ]
  },
  {
   "cell_type": "code",
   "execution_count": 68,
   "metadata": {},
   "outputs": [
    {
     "data": {
      "text/html": [
       "<div>\n",
       "<style scoped>\n",
       "    .dataframe tbody tr th:only-of-type {\n",
       "        vertical-align: middle;\n",
       "    }\n",
       "\n",
       "    .dataframe tbody tr th {\n",
       "        vertical-align: top;\n",
       "    }\n",
       "\n",
       "    .dataframe thead th {\n",
       "        text-align: right;\n",
       "    }\n",
       "</style>\n",
       "<table border=\"1\" class=\"dataframe\">\n",
       "  <thead>\n",
       "    <tr style=\"text-align: right;\">\n",
       "      <th></th>\n",
       "      <th>user_id</th>\n",
       "    </tr>\n",
       "  </thead>\n",
       "  <tbody>\n",
       "    <tr>\n",
       "      <th>0</th>\n",
       "      <td>0</td>\n",
       "    </tr>\n",
       "    <tr>\n",
       "      <th>1</th>\n",
       "      <td>1</td>\n",
       "    </tr>\n",
       "    <tr>\n",
       "      <th>2</th>\n",
       "      <td>2</td>\n",
       "    </tr>\n",
       "    <tr>\n",
       "      <th>3</th>\n",
       "      <td>3</td>\n",
       "    </tr>\n",
       "    <tr>\n",
       "      <th>4</th>\n",
       "      <td>4</td>\n",
       "    </tr>\n",
       "    <tr>\n",
       "      <th>...</th>\n",
       "      <td>...</td>\n",
       "    </tr>\n",
       "    <tr>\n",
       "      <th>7939</th>\n",
       "      <td>7942</td>\n",
       "    </tr>\n",
       "    <tr>\n",
       "      <th>7940</th>\n",
       "      <td>7943</td>\n",
       "    </tr>\n",
       "    <tr>\n",
       "      <th>7941</th>\n",
       "      <td>7944</td>\n",
       "    </tr>\n",
       "    <tr>\n",
       "      <th>7942</th>\n",
       "      <td>7945</td>\n",
       "    </tr>\n",
       "    <tr>\n",
       "      <th>7943</th>\n",
       "      <td>7946</td>\n",
       "    </tr>\n",
       "  </tbody>\n",
       "</table>\n",
       "<p>7944 rows × 1 columns</p>\n",
       "</div>"
      ],
      "text/plain": [
       "      user_id\n",
       "0           0\n",
       "1           1\n",
       "2           2\n",
       "3           3\n",
       "4           4\n",
       "...       ...\n",
       "7939     7942\n",
       "7940     7943\n",
       "7941     7944\n",
       "7942     7945\n",
       "7943     7946\n",
       "\n",
       "[7944 rows x 1 columns]"
      ]
     },
     "execution_count": 68,
     "metadata": {},
     "output_type": "execute_result"
    }
   ],
   "source": [
    "test_users = pd.read_csv('data_target_users_test.csv')\n",
    "test_users"
   ]
  },
  {
   "cell_type": "code",
   "execution_count": 70,
   "metadata": {},
   "outputs": [
    {
     "name": "stdout",
     "output_type": "stream",
     "text": [
      "UserKNNCFRecommender: URM Detected 465 (5.85 %) cold users.\n",
      "UserKNNCFRecommender: URM Detected 5732 (22.07 %) cold items.\n",
      "Unable to load Cython Compute_Similarity, reverting to Python\n",
      "Similarity column 7947 ( 100 % ), 2771.53 column/sec, elapsed time 0.05 min\n"
     ]
    }
   ],
   "source": [
    "recommender = UserKNNCFRecommender(URM_train)\n",
    "recommender.fit(shrink=10, topK=350)\n",
    "\n",
    "user_id = test_users['user_id']\n",
    "recommendations = recommender.recommend(user_id,cutoff = 10)\n"
   ]
  },
  {
   "cell_type": "code",
   "execution_count": 72,
   "metadata": {},
   "outputs": [
    {
     "name": "stdout",
     "output_type": "stream",
     "text": [
      "7944\n"
     ]
    }
   ],
   "source": [
    "for index in range(len(recommendations)):\n",
    "    #print(element)\n",
    "    recommendations[index]=np.array(recommendations[index])\n",
    "    #print(type(element))\n",
    "print(len(recommendations))"
   ]
  },
  {
   "cell_type": "code",
   "execution_count": 73,
   "metadata": {},
   "outputs": [],
   "source": [
    "test_users['item_list']= recommendations\n",
    "#test_users['item_list'] =  test_users['item_list'].apply(lambda x: x.replace('[','').replace(']','')) \n",
    "test_users['item_list'] = pd.DataFrame([str(line).strip('[').strip(']').replace(\"'\",\"\") for line in test_users['item_list']])\n",
    "\n",
    "#convert the string columns to int\n",
    "#test_users['item_list'] = test_users['item_list'].astype(int)\n",
    "test_users\n",
    "test_users.to_csv('submission.csv', index=False)\n"
   ]
  },
  {
   "cell_type": "code",
   "execution_count": null,
   "metadata": {},
   "outputs": [],
   "source": []
  }
 ],
 "metadata": {
  "kernelspec": {
   "display_name": "Python 3",
   "language": "python",
   "name": "python3"
  },
  "language_info": {
   "codemirror_mode": {
    "name": "ipython",
    "version": 3
   },
   "file_extension": ".py",
   "mimetype": "text/x-python",
   "name": "python",
   "nbconvert_exporter": "python",
   "pygments_lexer": "ipython3",
   "version": "3.8.5"
  }
 },
 "nbformat": 4,
 "nbformat_minor": 4
}
