{
 "cells": [
  {
   "cell_type": "markdown",
   "metadata": {},
   "source": [
    "# Data loading \n",
    "Next cells are used to load the data we need."
   ]
  },
  {
   "cell_type": "code",
   "execution_count": 34,
   "metadata": {},
   "outputs": [],
   "source": [
    "import pandas as pd\n",
    "import numpy as np \n",
    "import scipy.sparse as sps\n",
    "import os\n",
    "import sys\n",
    "import matplotlib.pyplot as plt\n",
    "\n",
    "from Base.Evaluation.Evaluator import EvaluatorHoldout\n",
    "from Data_manager.split_functions.split_train_validation_random_holdout import split_train_in_two_percentage_global_sample\n",
    "from GraphBased.P3alphaRecommender import P3alphaRecommender\n",
    "from GraphBased.RP3betaRecommender import RP3betaRecommender\n",
    "from KNN.ItemKNNCBFRecommender import ItemKNNCBFRecommender\n",
    "from KNN.ItemKNNSimilarityHybridRecommender import ItemKNNSimilarityHybridRecommender\n",
    "from KNN.UserKNNCFRecommender import UserKNNCFRecommender\n",
    "from KNN.ItemKNNCFRecommender import ItemKNNCFRecommender\n",
    "from Base.NonPersonalizedRecommender import TopPop\n",
    "from MatrixFactorization.PureSVDRecommender import PureSVDRecommender\n",
    "from SLIM_BPR.Cython.SLIM_BPR_Cython import SLIM_BPR_Cython\n",
    "from GraphBased.P3alphaRecommender import P3alphaRecommender\n",
    "from GraphBased.RP3betaRecommender import RP3betaRecommender\n",
    "from KNN.ItemKNNCBFRecommender import ItemKNNCBFRecommender\n",
    "from KNN.ItemKNNSimilarityHybridRecommender import ItemKNNSimilarityHybridRecommender\n",
    "from KNN.UserKNNCFRecommender import UserKNNCFRecommender\n",
    "from KNN.ItemKNNScoresHybridMultipleRecommender import ItemKNNScoresHybridMultipleRecommender\n",
    "from GraphBased.RP3betaRecommender_user import RP3betaRecommender_user\n",
    "from MatrixFactorization.PureSVDRecommender import PureSVDRecommender\n",
    "\n",
    "sys.path.append('../..')\n"
   ]
  },
  {
   "cell_type": "code",
   "execution_count": 35,
   "metadata": {},
   "outputs": [
    {
     "output_type": "execute_result",
     "data": {
      "text/plain": [
       "         row    col  data\n",
       "0          0  10080   1.0\n",
       "1          0  19467   1.0\n",
       "2          1   2665   1.0\n",
       "3          1   7494   1.0\n",
       "4          1  17068   1.0\n",
       "...      ...    ...   ...\n",
       "113263  7945   2476   1.0\n",
       "113264  7945  12319   1.0\n",
       "113265  7945  21384   1.0\n",
       "113266  7946   8699   1.0\n",
       "113267  7946  19178   1.0\n",
       "\n",
       "[113268 rows x 3 columns]"
      ],
      "text/html": "<div>\n<style scoped>\n    .dataframe tbody tr th:only-of-type {\n        vertical-align: middle;\n    }\n\n    .dataframe tbody tr th {\n        vertical-align: top;\n    }\n\n    .dataframe thead th {\n        text-align: right;\n    }\n</style>\n<table border=\"1\" class=\"dataframe\">\n  <thead>\n    <tr style=\"text-align: right;\">\n      <th></th>\n      <th>row</th>\n      <th>col</th>\n      <th>data</th>\n    </tr>\n  </thead>\n  <tbody>\n    <tr>\n      <th>0</th>\n      <td>0</td>\n      <td>10080</td>\n      <td>1.0</td>\n    </tr>\n    <tr>\n      <th>1</th>\n      <td>0</td>\n      <td>19467</td>\n      <td>1.0</td>\n    </tr>\n    <tr>\n      <th>2</th>\n      <td>1</td>\n      <td>2665</td>\n      <td>1.0</td>\n    </tr>\n    <tr>\n      <th>3</th>\n      <td>1</td>\n      <td>7494</td>\n      <td>1.0</td>\n    </tr>\n    <tr>\n      <th>4</th>\n      <td>1</td>\n      <td>17068</td>\n      <td>1.0</td>\n    </tr>\n    <tr>\n      <th>...</th>\n      <td>...</td>\n      <td>...</td>\n      <td>...</td>\n    </tr>\n    <tr>\n      <th>113263</th>\n      <td>7945</td>\n      <td>2476</td>\n      <td>1.0</td>\n    </tr>\n    <tr>\n      <th>113264</th>\n      <td>7945</td>\n      <td>12319</td>\n      <td>1.0</td>\n    </tr>\n    <tr>\n      <th>113265</th>\n      <td>7945</td>\n      <td>21384</td>\n      <td>1.0</td>\n    </tr>\n    <tr>\n      <th>113266</th>\n      <td>7946</td>\n      <td>8699</td>\n      <td>1.0</td>\n    </tr>\n    <tr>\n      <th>113267</th>\n      <td>7946</td>\n      <td>19178</td>\n      <td>1.0</td>\n    </tr>\n  </tbody>\n</table>\n<p>113268 rows × 3 columns</p>\n</div>"
     },
     "metadata": {},
     "execution_count": 35
    }
   ],
   "source": [
    "#data which contains users (row), items(col) and implicit interaction (data)\n",
    "dataset = pd.read_csv('../data_train.csv')\n",
    "dataset"
   ]
  },
  {
   "cell_type": "code",
   "execution_count": 36,
   "metadata": {},
   "outputs": [
    {
     "output_type": "stream",
     "name": "stdout",
     "text": [
      "users stats: 7947 0 7946\nitems stats: 24896 0 25974\n"
     ]
    }
   ],
   "source": [
    "unique_users, min_users, max_users = len(dataset.row.unique()), dataset.row.min(), dataset.row.max()\n",
    "unique_items, min_items, max_items = len(dataset.col.unique()), dataset.col.min(), dataset.col.max()\n",
    "print('users stats:',unique_users, min_users, max_users)\n",
    "print('items stats:',unique_items, min_items, max_items)"
   ]
  },
  {
   "cell_type": "code",
   "execution_count": 37,
   "metadata": {},
   "outputs": [
    {
     "output_type": "execute_result",
     "data": {
      "text/plain": [
       "(7947, 25975)"
      ]
     },
     "metadata": {},
     "execution_count": 37
    }
   ],
   "source": [
    "users = dataset.row\n",
    "items = dataset.col\n",
    "data = dataset.data\n",
    "URM_all = sps.coo_matrix((data, (users, items)))\n",
    "URM_all = URM_all.tocsr() #fast row access -> fast access to users \n",
    "URM_all.shape"
   ]
  },
  {
   "cell_type": "code",
   "execution_count": 38,
   "metadata": {},
   "outputs": [],
   "source": [
    "items_per_user = np.ediff1d(URM_all.indptr) #tells in which position each of the rows begin\n",
    "users_per_item = np.ediff1d(sps.csc_matrix(URM_all).indptr)\n",
    "URM_all = sps.csr_matrix(URM_all)"
   ]
  },
  {
   "cell_type": "code",
   "execution_count": 39,
   "metadata": {},
   "outputs": [],
   "source": [
    "items_per_user = np.sort(items_per_user) #sorting based on the single value. Losing reference to the user. \n",
    "users_per_item = np.sort(users_per_item)"
   ]
  },
  {
   "cell_type": "code",
   "execution_count": 40,
   "metadata": {},
   "outputs": [
    {
     "output_type": "execute_result",
     "data": {
      "text/plain": [
       "          row    col      data\n",
       "0           0   1185  1.015524\n",
       "1           0   2507  0.459024\n",
       "2           0   3534  0.227742\n",
       "3           0   8766  0.501549\n",
       "4           0  10862  0.297011\n",
       "...       ...    ...       ...\n",
       "490686  25974  12554  0.963016\n",
       "490687  25974  13003  0.104613\n",
       "490688  25974  16236  0.118760\n",
       "490689  25974  18797  0.363301\n",
       "490690  25974  19629  0.129141\n",
       "\n",
       "[490691 rows x 3 columns]"
      ],
      "text/html": "<div>\n<style scoped>\n    .dataframe tbody tr th:only-of-type {\n        vertical-align: middle;\n    }\n\n    .dataframe tbody tr th {\n        vertical-align: top;\n    }\n\n    .dataframe thead th {\n        text-align: right;\n    }\n</style>\n<table border=\"1\" class=\"dataframe\">\n  <thead>\n    <tr style=\"text-align: right;\">\n      <th></th>\n      <th>row</th>\n      <th>col</th>\n      <th>data</th>\n    </tr>\n  </thead>\n  <tbody>\n    <tr>\n      <th>0</th>\n      <td>0</td>\n      <td>1185</td>\n      <td>1.015524</td>\n    </tr>\n    <tr>\n      <th>1</th>\n      <td>0</td>\n      <td>2507</td>\n      <td>0.459024</td>\n    </tr>\n    <tr>\n      <th>2</th>\n      <td>0</td>\n      <td>3534</td>\n      <td>0.227742</td>\n    </tr>\n    <tr>\n      <th>3</th>\n      <td>0</td>\n      <td>8766</td>\n      <td>0.501549</td>\n    </tr>\n    <tr>\n      <th>4</th>\n      <td>0</td>\n      <td>10862</td>\n      <td>0.297011</td>\n    </tr>\n    <tr>\n      <th>...</th>\n      <td>...</td>\n      <td>...</td>\n      <td>...</td>\n    </tr>\n    <tr>\n      <th>490686</th>\n      <td>25974</td>\n      <td>12554</td>\n      <td>0.963016</td>\n    </tr>\n    <tr>\n      <th>490687</th>\n      <td>25974</td>\n      <td>13003</td>\n      <td>0.104613</td>\n    </tr>\n    <tr>\n      <th>490688</th>\n      <td>25974</td>\n      <td>16236</td>\n      <td>0.118760</td>\n    </tr>\n    <tr>\n      <th>490689</th>\n      <td>25974</td>\n      <td>18797</td>\n      <td>0.363301</td>\n    </tr>\n    <tr>\n      <th>490690</th>\n      <td>25974</td>\n      <td>19629</td>\n      <td>0.129141</td>\n    </tr>\n  </tbody>\n</table>\n<p>490691 rows × 3 columns</p>\n</div>"
     },
     "metadata": {},
     "execution_count": 40
    }
   ],
   "source": [
    "ICM_df = pd.read_csv('../data_ICM_title_abstract.csv')\n",
    "ICM_df"
   ]
  },
  {
   "cell_type": "code",
   "execution_count": 41,
   "metadata": {},
   "outputs": [
    {
     "output_type": "execute_result",
     "data": {
      "text/plain": [
       "(25975, 20000)"
      ]
     },
     "metadata": {},
     "execution_count": 41
    }
   ],
   "source": [
    "items = ICM_df.row\n",
    "features = ICM_df.col\n",
    "data = ICM_df.data\n",
    "ICM_all = sps.coo_matrix((data, (items, features)))\n",
    "ICM_all = ICM_all.tocsr() #fast row access -> fast access to users \n",
    "ICM_all.shape"
   ]
  },
  {
   "cell_type": "code",
   "execution_count": 42,
   "metadata": {},
   "outputs": [],
   "source": [
    "ICM_all = sps.csr_matrix(ICM_all)\n",
    "features_per_item = np.ediff1d(ICM_all.indptr)\n",
    "\n",
    "ICM_all = sps.csc_matrix(ICM_all)\n",
    "items_per_feature = np.ediff1d(ICM_all.indptr)\n",
    "\n",
    "ICM_all = sps.csr_matrix(ICM_all)"
   ]
  },
  {
   "cell_type": "code",
   "execution_count": 43,
   "metadata": {},
   "outputs": [],
   "source": [
    "features_per_item = np.sort(features_per_item)\n",
    "items_per_feature = np.sort(items_per_feature)"
   ]
  },
  {
   "cell_type": "code",
   "execution_count": 44,
   "metadata": {},
   "outputs": [
    {
     "output_type": "stream",
     "name": "stdout",
     "text": [
      "Warning: 47 (0.59 %) of 7947 users have no train items\nWarning: 2982 (37.52 %) of 7947 users have no sampled items\n"
     ]
    }
   ],
   "source": [
    "URM_train, URM_validation = split_train_in_two_percentage_global_sample(URM_all, train_percentage = 0.85)"
   ]
  },
  {
   "cell_type": "code",
   "execution_count": 45,
   "metadata": {},
   "outputs": [
    {
     "output_type": "stream",
     "name": "stdout",
     "text": [
      "7947\n"
     ]
    }
   ],
   "source": [
    "grouped_users = dataset.groupby(['row']).count()\n",
    "\n",
    "# All users present into the dataser\n",
    "sorted_users = grouped_users.sort_values(by=['col'], ascending=True)\n",
    "sorted_users = sorted_users.index.to_numpy()\n",
    "print(len(sorted_users))\n",
    "\n",
    "block_size = int(len(sorted_users)*0.20)\n",
    "\n",
    "start_pos = 0\n",
    "end_pos = block_size+block_size\n",
    "\n",
    "users_in_group = sorted_users[start_pos:end_pos]\n",
    "\n",
    "\n",
    "# User for the firt target of users 0-2 interaction\n",
    "'''grouped_users = grouped_users[grouped_users['col'] < 3]\n",
    "users_in_group = grouped_users.sort_values(by=['col'], ascending=True)\n",
    "users_in_group = users_in_group.index.to_numpy()'''\n",
    "\n",
    "user_first_group = users_in_group\n"
   ]
  },
  {
   "cell_type": "code",
   "execution_count": 46,
   "metadata": {},
   "outputs": [
    {
     "output_type": "execute_result",
     "data": {
      "text/plain": [
       "      user_id\n",
       "0           0\n",
       "1           1\n",
       "2           2\n",
       "3           3\n",
       "4           4\n",
       "...       ...\n",
       "7939     7942\n",
       "7940     7943\n",
       "7941     7944\n",
       "7942     7945\n",
       "7943     7946\n",
       "\n",
       "[7944 rows x 1 columns]"
      ],
      "text/html": "<div>\n<style scoped>\n    .dataframe tbody tr th:only-of-type {\n        vertical-align: middle;\n    }\n\n    .dataframe tbody tr th {\n        vertical-align: top;\n    }\n\n    .dataframe thead th {\n        text-align: right;\n    }\n</style>\n<table border=\"1\" class=\"dataframe\">\n  <thead>\n    <tr style=\"text-align: right;\">\n      <th></th>\n      <th>user_id</th>\n    </tr>\n  </thead>\n  <tbody>\n    <tr>\n      <th>0</th>\n      <td>0</td>\n    </tr>\n    <tr>\n      <th>1</th>\n      <td>1</td>\n    </tr>\n    <tr>\n      <th>2</th>\n      <td>2</td>\n    </tr>\n    <tr>\n      <th>3</th>\n      <td>3</td>\n    </tr>\n    <tr>\n      <th>4</th>\n      <td>4</td>\n    </tr>\n    <tr>\n      <th>...</th>\n      <td>...</td>\n    </tr>\n    <tr>\n      <th>7939</th>\n      <td>7942</td>\n    </tr>\n    <tr>\n      <th>7940</th>\n      <td>7943</td>\n    </tr>\n    <tr>\n      <th>7941</th>\n      <td>7944</td>\n    </tr>\n    <tr>\n      <th>7942</th>\n      <td>7945</td>\n    </tr>\n    <tr>\n      <th>7943</th>\n      <td>7946</td>\n    </tr>\n  </tbody>\n</table>\n<p>7944 rows × 1 columns</p>\n</div>"
     },
     "metadata": {},
     "execution_count": 46
    }
   ],
   "source": [
    "test_users = pd.read_csv('../data_target_users_test.csv')\n",
    "test_users"
   ]
  },
  {
   "cell_type": "code",
   "execution_count": 47,
   "metadata": {},
   "outputs": [
    {
     "output_type": "stream",
     "name": "stdout",
     "text": [
      "7944\n3175\n3175\n4769\n"
     ]
    }
   ],
   "source": [
    "user_id = test_users['user_id'].to_numpy()\n",
    "user_first_group = user_first_group[np.isin(user_first_group, user_id)]\n",
    "print(len(user_id))\n",
    "\n",
    "# 1085 perche sono stati rimossi i 3 utenti di cui non voglio fare reccomend\n",
    "print(len(user_first_group)) \n",
    "\n",
    "users_middle_flag = np.isin(user_id, user_first_group, invert = True)\n",
    "user_last_group = user_id[users_middle_flag]\n",
    "\n",
    "print(len(user_first_group))\n",
    "print(len(user_last_group))"
   ]
  },
  {
   "cell_type": "code",
   "execution_count": 48,
   "metadata": {},
   "outputs": [
    {
     "output_type": "stream",
     "name": "stdout",
     "text": [
      "P3alphaRecommender: URM Detected 1079 (4.15 %) cold items.\n",
      "RP3betaRecommender: URM Detected 2 (0.01 %) cold users.\n",
      "RP3betaRecommender: URM Detected 25 (0.10 %) cold items.\n",
      "ItemKNNSimilarityHybridRecommender: URM Detected 1079 (4.15 %) cold items.\n",
      "UserKNNCFRecommender: URM Detected 1079 (4.15 %) cold items.\n",
      "Similarity column 7947 ( 100 % ), 16094.57 column/sec, elapsed time 0.01 min\n",
      "PureSVDRecommender: URM Detected 1079 (4.15 %) cold items.\n",
      "PureSVDRecommender: Computing SVD decomposition...\n",
      "PureSVDRecommender: Computing SVD decomposition... Done!\n",
      "P3alphaRecommender: URM Detected 1079 (4.15 %) cold items.\n",
      "RP3betaRecommender: URM Detected 2 (0.01 %) cold users.\n",
      "RP3betaRecommender: URM Detected 25 (0.10 %) cold items.\n",
      "ItemKNNSimilarityHybridRecommender: URM Detected 1079 (4.15 %) cold items.\n",
      "ItemKNNScoresHybridMultipleRecommender: URM Detected 1079 (4.15 %) cold items.\n",
      "shape of item_weights: (4769, 25975)\n"
     ]
    }
   ],
   "source": [
    "# first \n",
    "\n",
    "recommender_alpha = P3alphaRecommender(URM_all)\n",
    "recommender_alpha.fit(topK=170, alpha = 0.45, implicit = True)\n",
    "\n",
    "recommender_beta_ICM = RP3betaRecommender(ICM_all.T)\n",
    "recommender_beta_ICM.fit(topK=70, alpha=0.2, beta=0.5, implicit=False)\n",
    "recommender_beta_ICM.URM_train = URM_all\n",
    "\n",
    "hybridrecommender_first_group = ItemKNNSimilarityHybridRecommender(URM_all, recommender_alpha.W_sparse, recommender_beta_ICM.W_sparse)\n",
    "hybridrecommender_first_group.fit(topK=200, alpha = 0.1)\n",
    "\n",
    "\n",
    "# second \n",
    "\n",
    "recommender_userKNN_top_model = UserKNNCFRecommender(URM_all)\n",
    "recommender_userKNN_top_model.fit(topK= 75, shrink = 200)\n",
    "\n",
    "recommender_SVD_top_model = PureSVDRecommender(URM_all)\n",
    "recommender_SVD_top_model.fit(num_factors = 1200)\n",
    "\n",
    "recommender_alpha_top_model = P3alphaRecommender(URM_all)\n",
    "recommender_alpha_top_model.fit(topK=350, alpha = 0.45, implicit = True)\n",
    "\n",
    "recommender_beta_ICM_top_model = RP3betaRecommender(ICM_all.T)\n",
    "recommender_beta_ICM_top_model.fit(topK=70, alpha=0.35, beta=0.4, implicit=False)\n",
    "recommender_beta_ICM_top_model.URM_train = URM_all\n",
    "\n",
    "hybridrecommender_p3_rp3_top_model = ItemKNNSimilarityHybridRecommender(URM_all, recommender_alpha_top_model.W_sparse, recommender_beta_ICM_top_model.W_sparse)\n",
    "hybridrecommender_p3_rp3_top_model.fit(topK=450, alpha = 0.1)\n",
    "\n",
    "hybridrecommender_top_model = ItemKNNScoresHybridMultipleRecommender(URM_all, hybridrecommender_p3_rp3_top_model, recommender_userKNN_top_model, recommender_SVD_top_model)\n",
    "hybridrecommender_top_model.fit(alpha = 0.7, beta=0.25)\n",
    "\n",
    "# make reccomendations for group\n",
    "\n",
    "recommendations_first = hybridrecommender_first_group.recommend(user_first_group,cutoff = 10)\n",
    "recommendations_last = hybridrecommender_top_model.recommend(user_last_group,cutoff = 10)"
   ]
  },
  {
   "cell_type": "code",
   "execution_count": 49,
   "metadata": {
    "tags": []
   },
   "outputs": [
    {
     "output_type": "stream",
     "name": "stdout",
     "text": [
      "3175\n4769\n"
     ]
    }
   ],
   "source": [
    "for index in range(len(recommendations_first)):\n",
    "    recommendations_first[index]=np.array(recommendations_first[index])\n",
    "\n",
    "print(len(recommendations_first))\n",
    "\n",
    "for index in range(len(recommendations_last)):\n",
    "    recommendations_last[index]=np.array(recommendations_last[index])\n",
    "\n",
    "print(len(recommendations_last))"
   ]
  },
  {
   "cell_type": "code",
   "execution_count": 50,
   "metadata": {
    "tags": [
     "outputPrepend"
    ]
   },
   "outputs": [
    {
     "output_type": "stream",
     "name": "stdout",
     "text": [
      "75,   964,  9438, 10786, 16195,\n",
      "       16362]), array([14684, 19874, 19970,   800, 20308, 10418, 25201, 25957, 19631,\n",
      "       23404]), array([10269,  9438, 25675,  4502, 14253, 12211, 12061, 11357,  9851,\n",
      "       22554]), array([ 4423, 25239, 12195, 23981,    43,  3759, 22438, 10762, 16317,\n",
      "        6895]), array([ 3037,  9769,   497, 12048, 15559,  8709,  5032,  4936,  7611,\n",
      "        6358]), array([ 2426, 10594, 23154, 15691, 19089,  9322,  2665,  7494, 20146,\n",
      "        6327]), array([14684, 19874, 22653, 20308,  6612, 18419, 10940,  4257, 10418,\n",
      "        6329]), array([ 5032, 12158, 13609, 18793,   497, 25342, 15182,  8097, 16172,\n",
      "       20333]), array([ 4502, 24355, 20308,  5581, 18419, 10418, 11737,  7883, 17668,\n",
      "       14137]), array([20735, 23369, 15234,  2122, 18778,  7934,  1722,  5414, 19681,\n",
      "       22507]), array([ 6780,  9544, 20973, 24176, 10954,  1518,  2002, 24740,   526,\n",
      "       20779]), array([19089, 19709, 11730, 12409, 24300, 23600, 14895, 19480, 17723,\n",
      "       16630]), array([25342, 11558, 17724, 12158, 15903, 17586, 11154,  2770,   444,\n",
      "       15151]), array([19089,  2821, 15099, 11697,  2665, 11250,  1442, 23600, 22715,\n",
      "        3165]), array([20308, 18419, 10418,  5581,  4257, 22653,  7883,  6612, 19879,\n",
      "       15363]), array([25407, 15691, 22121,  9992,  8990, 23154,  1542, 17229, 10594,\n",
      "       16772]), array([10496, 11988,  3431,  4575,  9800,  3360, 24491,  6329, 15798,\n",
      "        9843]), array([12759, 18452,  5952, 19825,  4275, 25080, 15779, 24426, 19329,\n",
      "        3896]), array([25407, 10594,  2426, 10792, 23133,  1583, 10834, 23001, 18392,\n",
      "       21920]), array([10269, 25675,  9438, 12061,  9851, 22554, 10786,  5942, 23799,\n",
      "        8538]), array([18893, 24485,  2697, 24328, 22000, 20586,  1939,  4779, 25902,\n",
      "        9847]), array([  780,  7507,  5466,  7997, 21300, 12494, 20230,  3518, 20726,\n",
      "        3235]), array([24075, 22554,  9438, 17681, 18293, 12923, 25260, 10786, 12061,\n",
      "       10269]), array([17558,  9819, 18497,  8563,  7426, 13391, 18106, 22891,  9788,\n",
      "       17586]), array([13541, 15327,  2333, 23711,  9284, 15459, 12341, 19781, 11792,\n",
      "       19114]), array([12706, 20559,  4891, 20078, 21182, 15231, 11185, 15054, 21266,\n",
      "        8405]), array([13502,  8558, 14315, 20747, 13789,  8654, 25675, 13182, 10540,\n",
      "       10269]), array([18656, 12230,   158, 21624, 13433, 19846, 19007,  9135, 25209,\n",
      "       23285]), array([11792, 18692, 23127,  5717,   867, 21975, 12061, 21365, 11731,\n",
      "       11067]), array([ 3037, 20300,  5032, 18793, 23697, 11419,  7267, 12048,  7611,\n",
      "       16945]), array([17277, 19167,  1600, 20108,  8512, 19981,  1863,  2292, 17348,\n",
      "       19541]), array([20043,  6336,   328, 22985, 15017,  7561, 16857, 14605,  4979,\n",
      "        1947]), array([ 2846, 13673, 22248,  3654, 11867,   838,   908,  2808,  6037,\n",
      "       13472]), array([16040, 16017,  9851,  9947,  8655,   942, 22138, 24075,   561,\n",
      "       21883]), array([  800, 12501, 19970, 11533, 20226, 14653, 15666,  2646, 19875,\n",
      "        7691]), array([13552, 24985, 24075, 24033, 25365, 25675,  4115, 23067, 23534,\n",
      "        6419]), array([ 3551,  2492,  6878, 10345, 25407,  2426,  8316, 10594, 12050,\n",
      "        9322]), array([25868, 25846, 19480, 21281,  6566, 20290,  3572, 16363, 17814,\n",
      "       25501]), array([22359, 14418, 25903, 12293, 14717,  9386, 20171,  3778, 22003,\n",
      "       13009]), array([24070, 14684,  4280, 23621,  7489, 18696, 22917,  7547, 25924,\n",
      "       22653]), array([ 1141,  3948,  3929, 16035,   929, 11119,  5467, 18193, 24481,\n",
      "       23085]), array([24075, 16282, 14048, 19089, 25675,  7494, 10269, 22826, 16630,\n",
      "       22554]), array([ 4620, 15830, 22300, 25648,  1611,  7885,  7639,  9412,  5717,\n",
      "       12524]), array([25407, 23154, 17143, 10834, 10594,  6734, 21355, 15691,  1583,\n",
      "        9555]), array([25491,  3804, 23568, 18790,  1876,  9312, 15587,  2300, 17115,\n",
      "       25693]), array([ 9591,  8709, 25846, 20711, 13628,  1960, 18122,  8544, 19822,\n",
      "        4966]), array([ 6300, 19852,  7310,  7995, 22805,  8930, 23427, 15113, 11673,\n",
      "        5942]), array([20308, 14684, 19874, 10073, 24197, 11452,  5717, 13628, 15327,\n",
      "       12840]), array([ 9000,  4088, 21521,  3184, 18346, 11566, 13617,  6861, 24976,\n",
      "       12274]), array([20591, 24675, 15330, 20163,  8532, 22739, 21707, 13756,   256,\n",
      "       13662]), array([22801, 13663,  8360,  9477,  2761, 23992,  4366, 17951,  9922,\n",
      "        5952]), array([13763, 17558,  8295, 25702,  5815, 19518, 20460,  9741, 17586,\n",
      "       10747]), array([15067,  2809, 15724, 14462, 13594, 13074, 19636, 18619,  9951,\n",
      "       25186]), array([22453, 10609,  3045, 13162, 15206, 19714, 15824,  4763,  7126,\n",
      "        2506]), array([15006, 19480,  3934,  6239, 23628, 18300,  2060,  2109, 19524,\n",
      "        8059]), array([22335,   601,  2235, 12629,  8516, 18285, 22525,   819, 10183,\n",
      "       18092]), array([22065,  7093, 12591, 23851,  8023,  4855, 10727,  1345, 21512,\n",
      "        4257]), array([20609,  8272, 20553,  3449, 10753, 14272,  3326,  2184,  9650,\n",
      "       21357]), array([12669,   239, 17117, 17519, 19376, 19528,  4948, 18019, 18026,\n",
      "        1412]), array([   44, 12453, 15275, 23426, 20800, 24677, 12839,  8545,  9035,\n",
      "        2094]), array([19089, 24209,  7494, 25873, 11658, 20095, 17723, 12409, 18984,\n",
      "        8431]), array([21469, 17400, 19850,  7728, 18689, 25568, 19325,  8990,  9901,\n",
      "        8535]), array([17799,  2523, 21693, 15031,  7776, 14466, 14625, 16391, 15777,\n",
      "       15979]), array([24394, 24657,  4983, 23279, 19874,  4502,  6198, 24781,  3869,\n",
      "        9864]), array([ 4573, 12209,  4709,  9849,  3659, 15784,  7003, 22867,  2435,\n",
      "       15562]), array([22833,  5442, 16914,  1709,  1822, 12148, 13636, 20530, 21789,\n",
      "       10197]), array([24075, 22554,  9438, 18953,   487, 18293, 21042, 12923, 25018,\n",
      "       10786]), array([25407, 12914,  2426,  4549, 24577, 15691,  6878,  4878, 10908,\n",
      "       23414]), array([19089, 20146, 12409,  2665, 16630,  8894, 23600,  8431,  2533,\n",
      "       20095]), array([14002, 10352, 16705, 14965, 10419,  4825,  2808,  3677, 11484,\n",
      "        5940]), array([ 5078,  8395,  2835, 17637, 25957, 11242, 11459, 21177, 14684,\n",
      "       17856]), array([25596, 11533,  4541, 19875, 25133,  5053, 20974,  8984,  2789,\n",
      "        8860]), array([ 1442, 17798, 20421, 22500, 23141, 14684,  4762,  4119,  6701,\n",
      "       19128]), array([ 4505,  6802, 13460, 17744, 15732, 22971,  7174,  6673, 10397,\n",
      "       25556]), array([12061, 25674, 19709, 20146,  8894,  8740,  2665, 25071,  8431,\n",
      "        8538]), array([ 7494, 19089, 10269, 25675, 22121, 15455, 16630, 15257,  9438,\n",
      "       12061]), array([20345, 20553, 16324, 18512,  6652, 24711, 13721, 15651,  2835,\n",
      "       19874]), array([ 9438, 24075,  8852,  1888, 25675,  5942, 16849, 11681, 12755,\n",
      "       19308]), array([22129, 19089,  2665, 23600, 17723, 15871,  7494,  1770, 22853,\n",
      "        9664]), array([15562, 17820,  6002, 19917,  1185,  1409,  8304,  9435,  1552,\n",
      "       23209]), array([13294, 19474, 22840, 24293, 22121,  5469, 14877,  2354, 11295,\n",
      "        2426]), array([21139,  5084, 12271, 13388, 23864, 16489,  1547, 17586, 22891,\n",
      "       17664]), array([ 7144, 22075, 25083,  8318, 17315,  5027, 14917, 23607,  9092,\n",
      "       12223]), array([19089, 20146, 12471, 23244,    13, 14895, 19480, 12409, 21714,\n",
      "       23600]), array([25675, 18293, 24075,  9438, 22750,  7728, 12923, 25463, 14595,\n",
      "         561]), array([19281,  1959,  5877,  3527, 20013, 22076, 21624, 25458, 21417,\n",
      "        2389]), array([ 7460,  7175,  3630,  1573,  8709, 17789, 10747, 17586, 20656,\n",
      "       14827]), array([18060,  7965, 12227,  8529, 18636, 24475,  8896, 14354, 17517,\n",
      "        8331]), array([ 6933,  7942,  1391, 23204, 21786, 13597, 12158, 23778,  3102,\n",
      "        3875]), array([16531, 22554, 19529, 21341,  8159, 25817, 19850,  1515,  1817,\n",
      "       13368]), array([16624, 12718,  3931,  7835, 11842, 21047, 17148, 15236, 13176,\n",
      "       19043]), array([ 8544,  5717, 19922,  4779, 10979,  3286, 22300,  1028, 16112,\n",
      "       21238]), array([10994,  5815, 25741,  8396, 12218, 17664,  4790, 21784, 17218,\n",
      "       16335]), array([ 9438, 11623,  4115, 21388, 16480, 22986,  6920, 24075,  4183,\n",
      "        5756]), array([ 2060, 12857,  4364, 14019,  4431, 18146,  3768,  3804,  8694,\n",
      "       14909]), array([20969, 25407, 23880,  3382,  1770,  9992, 11838, 13293, 11533,\n",
      "       14580]), array([12211,  9699,  3010, 20438,  4846,  6151, 25205, 17054, 20701,\n",
      "        6505]), array([23258,  4620, 23536, 18190,  5717,  1785,   999, 16878, 23711,\n",
      "       13541]), array([  141, 20496, 22511, 20148, 25505, 19189,  7639, 21552,  7646,\n",
      "       17322]), array([ 2426,  2236,  1068, 25407,  9089,  7063, 13928,  2665,  7908,\n",
      "       18317]), array([15459,  2333, 22646, 21854, 23536, 23711,  2868, 11792, 13541,\n",
      "       18190]), array([  683,  4342,  9654, 20723, 16279, 25951, 24274,  6131,  3188,\n",
      "       16053]), array([19089, 20146,  8894, 16630, 19480, 17723,  8431, 11658,  2533,\n",
      "       11900]), array([24075, 23628, 21527,  5562, 25675, 15006,  3934,  5942, 10269,\n",
      "       25740]), array([25675, 20301,  5942,   275, 12061, 19089, 23799, 14978,  5562,\n",
      "       22554]), array([23618,  3913,   625, 22204, 18710, 24032, 22731,  7149, 22006,\n",
      "       12563]), array([18930,  5207, 16630, 20095,  7363, 11091,  7494, 10075,  5522,\n",
      "       19089]), array([ 2492, 18452, 25407,  2426, 23086,  8097, 23154, 22848, 12050,\n",
      "       11533]), array([14382,  7728, 12538, 15891,  9515, 10501, 25880, 15954,  9453,\n",
      "       12755]), array([22010,  2492, 23154, 13711, 10981,  2426, 11340, 25407,  6878,\n",
      "        9555]), array([24075, 14684, 19792, 19874,  9438, 24666, 24355,  4502, 10269,\n",
      "       25779]), array([18426, 21321,  7940, 16505,  9223, 20747,  8654, 20065,  8300,\n",
      "       16941]), array([23154,  2426,  6734, 17156,  9322,  1583, 25407, 10792, 17249,\n",
      "         861]), array([23628, 21527,  8555, 23956, 21793,  6239, 19524, 18132, 14173,\n",
      "        7513]), array([23154,  2426,  6734, 25407, 17156, 10792, 10834,  9322,  1583,\n",
      "       22848]), array([ 5952, 10792, 11533, 21920, 13503, 11099,  5108, 22669,  2426,\n",
      "           5]), array([11792, 23536, 13541,  2333, 25675, 23711,  6088, 21854,  2134,\n",
      "         623]), array([24477, 11832, 19874, 14494, 15363, 10418,  5581,  3561,  7810,\n",
      "        4502]), array([12230,  5625, 14104,  7839,  8626,  8805,  4805, 19742, 21677,\n",
      "       23284]), array([24108,  9642, 18672, 13430, 16995, 18906,  8006, 25722, 25414,\n",
      "        8639]), array([24561, 14348,  4407, 17327, 21552,   503,  7997, 16248, 12494,\n",
      "       20796]), array([11792,  2333,  5717, 23127, 13541,  4620,  8544, 23711, 21854,\n",
      "       23536]), array([16641, 12227, 18859, 24475,  8896, 14354, 19158,  5295, 16712,\n",
      "       23060]), array([25741, 22891,  6587, 24156,   592, 19518,  8987,  1566, 13867,\n",
      "         862]), array([19518, 16489,  8396, 23197,  5815, 25741, 12454, 17720, 11994,\n",
      "       12040]), array([13294,  6973,  7363,  7063, 16651, 13928, 10075,  2492, 10914,\n",
      "        2679]), array([11295, 19089,  5044, 13833, 18317, 15691, 24075, 20146, 25407,\n",
      "       18173]), array([14431, 13627,  3052, 12000, 12986, 11100, 23460,   893, 22185,\n",
      "        4928]), array([11658, 16630, 25873,  8431, 11091, 18984,  7896, 19525,  8540,\n",
      "       12466]), array([24865, 19862, 18936, 19792, 22153,  1199,  7990,  7982, 13445,\n",
      "        6987]), array([15691, 25407, 10594, 10908,  9555,  2426, 13711, 25138,  1583,\n",
      "       17156]), array([18512, 14684, 21857,  9327, 20308,  8395, 13374, 23179, 11083,\n",
      "       15196]), array([19089, 17723, 20146, 23481, 12119,  8894, 20095, 17257, 12409,\n",
      "       19480]), array([ 6724,  2228, 25218,  4088, 11651, 20264, 21496, 11643, 20676,\n",
      "        3425]), array([ 1863,  7266,  4620, 15327, 13541, 18190,  9284,  4940,  7274,\n",
      "        5717]), array([25740,  8158, 19398, 23410, 24104, 21518,   817,  7474, 15082,\n",
      "        2476]), array([ 3456, 13231, 13424, 13502, 13182, 13789,   557,  8654, 20747,\n",
      "        7940]), array([ 9135,  7839, 11702, 21248, 20212,  8805, 22622, 17323, 24075,\n",
      "        9463]), array([ 6584, 12311,  2345, 25652, 21680,  4504,  5168, 16850, 25740,\n",
      "       15073]), array([24049,  9329, 18892, 24085,  4442,  3155, 25629, 23122, 10419,\n",
      "       11114]), array([14684, 19874, 24355, 22653, 18419, 20308,  4257, 10418, 15363,\n",
      "       20553]), array([12061,  8544,  5717,  9851, 11792, 23711, 23127, 25675, 23666,\n",
      "        9029]), array([ 3037, 15903, 25693, 11506, 13661, 18636,  3971,  8709,   497,\n",
      "        2596]), array([ 2426, 25407, 23154, 10594,  9555, 11533,  2492, 18392, 22010,\n",
      "        5952]), array([ 8097, 24577, 20345, 15372, 21105, 11242, 18359, 17070, 10563,\n",
      "       10541]), array([ 2001, 12764, 13226,  7103,  6397,  3823, 20688,  6446, 19340,\n",
      "          13]), array([13136,  9733, 12050,     5, 11340, 25407, 18382,  1056,  5952,\n",
      "        2426]), array([17541, 14354,  7012,  6164,  8529, 18499,   103, 13294,  5784,\n",
      "        3085]), array([15515, 15579, 19726, 23007, 15988, 12798, 13671,  1116, 18048,\n",
      "       16863]), array([ 3338, 13855, 12568, 10099,  3278, 18719, 21501, 15707, 21981,\n",
      "        5137]), array([14253, 13686, 20321, 24444,  3968, 19220,  1211, 13867,  7996,\n",
      "        8987]), array([ 1863,  9591,  6088, 14418, 25903, 13541, 12061, 22646, 14373,\n",
      "        9851]), array([ 2304, 14684,  8395,  2835, 24711,  6652, 14219, 17637, 10062,\n",
      "        8893]), array([  726,  9516, 11453,  2969,  4359, 21399, 19782, 21597,  2556,\n",
      "       12284]), array([12364,  1647, 25125,  2122, 14326, 18309,  1722,  5436,  2274,\n",
      "       18921]), array([ 1358, 23774, 12786,  6212,  2118, 25596, 11533,  5952,  3737,\n",
      "        8048]), array([11557, 11900, 25013, 15784, 19584,  1628, 21769,  7147,  9174,\n",
      "        4729]), array([ 1230, 10722,  8712,  6440, 11799,  6389,  4787,  6179, 20079,\n",
      "        4417]), array([20308, 14684,  1173, 19874, 10073, 24197, 13628,  2141, 24355,\n",
      "        3644]), array([ 8544,  1863,   466, 24410, 20108,  4966, 11384, 20148,  8920,\n",
      "        9591]), array([15522, 24586,  4552,  1868, 17407, 15367, 25046, 14918, 17170,\n",
      "       21252]), array([ 2426, 25407, 23154, 10594, 15691,  9555,  9701,  6878, 11533,\n",
      "       16928]), array([18630, 16119, 14900, 10810, 18981,  1555,  5974, 19692, 23882,\n",
      "       18952]), array([22733,  7178,  9078, 15919, 16389, 16461, 25058,  6337, 13576,\n",
      "       21252]), array([22759, 10110, 19739,   916, 19049, 21236,  1863, 17953, 25009,\n",
      "       16382]), array([21346,  9535, 11730,  1863, 18045, 15113,  4603,  2007, 13628,\n",
      "       21741]), array([ 5032, 18793,   497,  8709, 13609, 12048,  4936, 20300, 15559,\n",
      "       14674]), array([22635,  5607, 21195, 15597, 23141,  4188, 23801, 17299, 12839,\n",
      "       19469]), array([10452,  6021,  7479, 17612, 19793,  3727, 24484,  2840, 10446,\n",
      "        3234]), array([13885, 16761,  5467, 24075, 10865, 22847, 10072, 18646,  6208,\n",
      "       21498]), array([ 9851, 25675,   561, 24075, 24472, 19564, 18293,  6610,  8379,\n",
      "       22554]), array([ 3488,  4502, 24355,  4602,  1634,  3607, 11500,  7103, 25526,\n",
      "       13433]), array([ 3497, 21061, 24429, 13097,  8986, 19070, 16880,  1846,  7550,\n",
      "       20422]), array([ 9683,  7823, 10907, 10727, 12591, 18747, 18437, 17233,  5603,\n",
      "       13097]), array([22260,  6401,  2134, 17396,  2868,  1007,  5746,  5548, 19163,\n",
      "       22926]), array([24597, 18893, 17206,  3348, 22300, 24328, 22473, 17927,  6426,\n",
      "        9591]), array([13764, 18893, 16281, 17162, 23711, 20586, 12061,  9851, 24328,\n",
      "        3114]), array([24075, 12923, 17465, 18293,  7826, 25463, 10301,  1842, 25407,\n",
      "        4512]), array([12061, 24075, 25675,  9438, 23711, 13867, 13363, 22554,   773,\n",
      "        5717]), array([12983, 14454, 20496, 24908,   133, 11796, 24224, 24621, 10252,\n",
      "       20148]), array([14684,  4502,  5581, 24355,  4257, 10418, 14137, 21052, 19879,\n",
      "        1714]), array([ 9531,  7568, 15196, 17216,  5150, 17546,  5044, 15234, 14963,\n",
      "        4476]), array([ 1425, 12061, 25675,  9591, 23898, 20432,  7123, 23568, 15906,\n",
      "       17765]), array([25407, 23154, 10594,  1583,  2426, 10834, 15691, 17156, 21920,\n",
      "        9322]), array([13789,  5905,  8558, 14488,  3456, 21051, 20747,  8654,   172,\n",
      "         557]), array([ 2646,   273,  6213, 15477, 23781,  4919,  7156, 16551,  6123,\n",
      "       16974]), array([ 9859,  6973,  1816,  9417,  9018,  5301,  5447,  4813, 11339,\n",
      "        9562]), array([13074, 21751, 12061,  2810, 23043, 25381,  9554,  3810, 25354,\n",
      "         508]), array([ 9555,  1583, 10834,  6734, 16928, 16906, 17156, 18392, 23141,\n",
      "        7991]), array([22998, 22308,  3145,  2554, 18169, 19089,   336, 17942, 12389,\n",
      "       24672]), array([15674,  7115, 24423, 14704, 12844, 19486,  4370, 18709, 10636,\n",
      "         194]), array([12061, 10248, 16949, 23366, 25675, 24850,   773,   942, 10675,\n",
      "       12948]), array([25030,  1985,  8544,  5746,  9595, 13715,   379,  8283,  8530,\n",
      "       20682]), array([23895, 23086, 17877,  1005, 10311,  2492, 20656, 12165,  9017,\n",
      "        2426]), array([ 1898, 17407,  5626, 14172,  6264, 19691, 16968, 15522,  3090,\n",
      "       10175]), array([20148, 21552, 23536, 22653, 18114,  9284,  9591, 20496,  8920,\n",
      "       14684]), array([ 4183,  2428,  3880, 19787,  3282, 21127, 18134,  4628, 15890,\n",
      "       20102]), array([25645,  7708, 16827,  9438,  8667, 13207, 25013, 14632,  3621,\n",
      "       12061]), array([ 5977, 12149, 23561, 16000, 14249, 21016,  6975, 20696, 12100,\n",
      "        3504]), array([15691, 23154,  6327,  9555, 10594,  1583, 17209, 17156, 10834,\n",
      "       12050]), array([ 2516, 17844,  5165, 25260,  3372,  2560, 10276, 23319, 15115,\n",
      "       17355]), array([ 2238,  2835, 22995,  9296,  7249, 16470, 17270, 22053,  6442,\n",
      "        1676]), array([ 5998, 25191,  3025, 23977,  2154, 12340,  3935,  5833, 21266,\n",
      "       21830]), array([ 5945, 10269,  9941, 25675,  2072,  9438,  2919, 15184, 19915,\n",
      "       15736]), array([13764, 24597, 14593,  4625,  2751, 10979,  6426,  9732,  4779,\n",
      "       18893]), array([20928, 23238, 10404,  5466,   454, 21244, 20235,  7043, 23673,\n",
      "        9601]), array([18190, 23536, 13541,  2333, 23711, 15327, 12341,  2300, 15459,\n",
      "        9029]), array([ 9591,  3368,  4095, 25338, 21132, 24405, 25755, 25903, 13541,\n",
      "        6268]), array([20308, 14684, 19874,  3877, 10073, 24197,     2,  1039, 24481,\n",
      "       13628]), array([10328,  8396,  9241, 18398, 21461, 14156, 17423, 24304, 15097,\n",
      "       17724]), array([17390, 14295, 12836,  4330, 23776,  6986, 24664, 25440, 13592,\n",
      "       20873]), array([14418, 11792,  9050, 25903,  4966, 23536, 13541, 21890, 23711,\n",
      "       10789]), array([14012,  9243, 19704,  6108, 13427,  1526,  8544, 13837,  1747,\n",
      "       18380]), array([13408,  3835, 24721, 17788, 20560, 25508, 23024,  8686,  9547,\n",
      "        7885]), array([14329, 14321, 17540,  1638, 19554,  9172,  1380, 23276, 24438,\n",
      "       16730]), array([10045, 22333,  8075, 12743,   149,  1565,  8390, 20641,   176,\n",
      "       17560]), array([ 3497, 14141,   502,  1869, 21061,  5469,  8986,  1846,   588,\n",
      "       12486]), array([ 8990,   195, 12719, 22840,  3743, 25675,  3497, 13928,  3969,\n",
      "       16772]), array([ 9435,  6002,  8304,  3507,  3924,  1409, 21091,  1555, 10574,\n",
      "       15583]), array([13493, 18057, 22438, 11502,  5295,  9272, 20822,  5502, 19118,\n",
      "       10403]), array([22754, 10497, 23048, 10980, 12854, 24229, 24301, 25928, 17090,\n",
      "       13927]), array([25524, 18293, 15678,  4855, 22750, 24474, 25046, 15750, 23253,\n",
      "         942]), array([ 9733, 25407,  2426, 10908, 13136,   942, 17156,  8316, 15691,\n",
      "       10675]), array([10139, 21510,  5188,  4768, 24200,  5629, 11467,  1684, 11604,\n",
      "       13911]), array([ 1170, 24573, 15497,  5877, 22161, 14086, 15952,  7453,  3572,\n",
      "       16577]), array([ 9907, 12041, 25713,  4291, 11187, 22985, 21594, 13367, 13290,\n",
      "       21962]), array([23536, 13541, 11792,  5717, 18528,  2868, 22646, 23457, 10450,\n",
      "       15459]), array([ 8709, 20300,  7267,  9769,  4936,  9662, 13609,  9716, 10544,\n",
      "       22385]), array([24398,  2458, 10212, 24764, 14243, 14824,  9860, 10273, 15014,\n",
      "        4732]), array([19874, 21052, 11253,  4502, 18419, 23137, 14137, 20368,  6332,\n",
      "       19653]), array([24093, 22487,   857, 20990,  8691,  1651, 13690,  2562, 21962,\n",
      "       25892]), array([11334, 19480, 23410, 19010,  7313, 19089,  5562, 23628, 19398,\n",
      "        8158]), array([16522,  2838, 14625,  2523, 18720,  6828, 10752, 17219, 20348,\n",
      "        6322])]\n"
     ]
    }
   ],
   "source": [
    "elementi = test_users['user_id'].to_numpy()\n",
    "recommendations = []\n",
    "\n",
    "for index in elementi:\n",
    "    if index in user_first_group:\n",
    "        local_index, = np.where(user_first_group == index) \n",
    "        recommendations.append(recommendations_first[local_index[0]])\n",
    "    \n",
    "    if index in user_last_group:\n",
    "        local_index, = np.where(user_last_group == index) \n",
    "        recommendations.append(recommendations_last[local_index[0]])\n",
    "    \n",
    "    print(index, \" - \", local_index[0])\n",
    "\n",
    "print(recommendations)"
   ]
  },
  {
   "cell_type": "code",
   "execution_count": 51,
   "metadata": {},
   "outputs": [],
   "source": [
    "test_users['item_list']= recommendations\n",
    "\n",
    "test_users['item_list'] = pd.DataFrame([str(line).strip('[').strip(']').replace(\"'\",\"\") for line in test_users['item_list']])\n",
    "\n",
    "test_users\n",
    "test_users.to_csv('submission.csv', index=False)\n"
   ]
  },
  {
   "cell_type": "code",
   "execution_count": null,
   "metadata": {},
   "outputs": [],
   "source": []
  }
 ],
 "metadata": {
  "kernelspec": {
   "display_name": "Python 3",
   "language": "python",
   "name": "python3"
  },
  "language_info": {
   "codemirror_mode": {
    "name": "ipython",
    "version": 3
   },
   "file_extension": ".py",
   "mimetype": "text/x-python",
   "name": "python",
   "nbconvert_exporter": "python",
   "pygments_lexer": "ipython3",
   "version": "3.8.5-final"
  }
 },
 "nbformat": 4,
 "nbformat_minor": 4
}