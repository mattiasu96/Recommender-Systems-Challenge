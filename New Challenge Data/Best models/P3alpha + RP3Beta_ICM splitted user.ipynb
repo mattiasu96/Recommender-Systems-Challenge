{
 "cells": [
  {
   "cell_type": "markdown",
   "metadata": {},
   "source": [
    "# Data loading \n",
    "Next cells are used to load the data we need."
   ]
  },
  {
   "cell_type": "code",
   "execution_count": 180,
   "metadata": {},
   "outputs": [],
   "source": [
    "import pandas as pd\n",
    "import numpy as np \n",
    "import scipy.sparse as sps\n",
    "import os\n",
    "import sys\n",
    "import matplotlib.pyplot as plt\n",
    "sys.path.append('../..')\n"
   ]
  },
  {
   "cell_type": "code",
   "execution_count": 181,
   "metadata": {},
   "outputs": [
    {
     "output_type": "execute_result",
     "data": {
      "text/plain": [
       "         row    col  data\n",
       "0          0  10080   1.0\n",
       "1          0  19467   1.0\n",
       "2          1   2665   1.0\n",
       "3          1   7494   1.0\n",
       "4          1  17068   1.0\n",
       "...      ...    ...   ...\n",
       "113263  7945   2476   1.0\n",
       "113264  7945  12319   1.0\n",
       "113265  7945  21384   1.0\n",
       "113266  7946   8699   1.0\n",
       "113267  7946  19178   1.0\n",
       "\n",
       "[113268 rows x 3 columns]"
      ],
      "text/html": "<div>\n<style scoped>\n    .dataframe tbody tr th:only-of-type {\n        vertical-align: middle;\n    }\n\n    .dataframe tbody tr th {\n        vertical-align: top;\n    }\n\n    .dataframe thead th {\n        text-align: right;\n    }\n</style>\n<table border=\"1\" class=\"dataframe\">\n  <thead>\n    <tr style=\"text-align: right;\">\n      <th></th>\n      <th>row</th>\n      <th>col</th>\n      <th>data</th>\n    </tr>\n  </thead>\n  <tbody>\n    <tr>\n      <th>0</th>\n      <td>0</td>\n      <td>10080</td>\n      <td>1.0</td>\n    </tr>\n    <tr>\n      <th>1</th>\n      <td>0</td>\n      <td>19467</td>\n      <td>1.0</td>\n    </tr>\n    <tr>\n      <th>2</th>\n      <td>1</td>\n      <td>2665</td>\n      <td>1.0</td>\n    </tr>\n    <tr>\n      <th>3</th>\n      <td>1</td>\n      <td>7494</td>\n      <td>1.0</td>\n    </tr>\n    <tr>\n      <th>4</th>\n      <td>1</td>\n      <td>17068</td>\n      <td>1.0</td>\n    </tr>\n    <tr>\n      <th>...</th>\n      <td>...</td>\n      <td>...</td>\n      <td>...</td>\n    </tr>\n    <tr>\n      <th>113263</th>\n      <td>7945</td>\n      <td>2476</td>\n      <td>1.0</td>\n    </tr>\n    <tr>\n      <th>113264</th>\n      <td>7945</td>\n      <td>12319</td>\n      <td>1.0</td>\n    </tr>\n    <tr>\n      <th>113265</th>\n      <td>7945</td>\n      <td>21384</td>\n      <td>1.0</td>\n    </tr>\n    <tr>\n      <th>113266</th>\n      <td>7946</td>\n      <td>8699</td>\n      <td>1.0</td>\n    </tr>\n    <tr>\n      <th>113267</th>\n      <td>7946</td>\n      <td>19178</td>\n      <td>1.0</td>\n    </tr>\n  </tbody>\n</table>\n<p>113268 rows × 3 columns</p>\n</div>"
     },
     "metadata": {},
     "execution_count": 181
    }
   ],
   "source": [
    "#data which contains users (row), items(col) and implicit interaction (data)\n",
    "dataset = pd.read_csv('../data_train.csv')\n",
    "dataset"
   ]
  },
  {
   "cell_type": "code",
   "execution_count": 182,
   "metadata": {},
   "outputs": [
    {
     "output_type": "stream",
     "name": "stdout",
     "text": [
      "users stats: 7947 0 7946\nitems stats: 24896 0 25974\n"
     ]
    }
   ],
   "source": [
    "unique_users, min_users, max_users = len(dataset.row.unique()), dataset.row.min(), dataset.row.max()\n",
    "unique_items, min_items, max_items = len(dataset.col.unique()), dataset.col.min(), dataset.col.max()\n",
    "print('users stats:',unique_users, min_users, max_users)\n",
    "print('items stats:',unique_items, min_items, max_items)"
   ]
  },
  {
   "cell_type": "code",
   "execution_count": 183,
   "metadata": {},
   "outputs": [
    {
     "output_type": "execute_result",
     "data": {
      "text/plain": [
       "(7947, 25975)"
      ]
     },
     "metadata": {},
     "execution_count": 183
    }
   ],
   "source": [
    "users = dataset.row\n",
    "items = dataset.col\n",
    "data = dataset.data\n",
    "URM_all = sps.coo_matrix((data, (users, items)))\n",
    "URM_all = URM_all.tocsr() #fast row access -> fast access to users \n",
    "URM_all.shape"
   ]
  },
  {
   "cell_type": "code",
   "execution_count": 184,
   "metadata": {},
   "outputs": [],
   "source": [
    "items_per_user = np.ediff1d(URM_all.indptr) #tells in which position each of the rows begin\n",
    "users_per_item = np.ediff1d(sps.csc_matrix(URM_all).indptr)\n",
    "URM_all = sps.csr_matrix(URM_all)"
   ]
  },
  {
   "cell_type": "code",
   "execution_count": 185,
   "metadata": {},
   "outputs": [],
   "source": [
    "items_per_user = np.sort(items_per_user) #sorting based on the single value. Losing reference to the user. \n",
    "users_per_item = np.sort(users_per_item)"
   ]
  },
  {
   "cell_type": "code",
   "execution_count": 186,
   "metadata": {},
   "outputs": [
    {
     "output_type": "execute_result",
     "data": {
      "text/plain": [
       "          row    col      data\n",
       "0           0   1185  1.015524\n",
       "1           0   2507  0.459024\n",
       "2           0   3534  0.227742\n",
       "3           0   8766  0.501549\n",
       "4           0  10862  0.297011\n",
       "...       ...    ...       ...\n",
       "490686  25974  12554  0.963016\n",
       "490687  25974  13003  0.104613\n",
       "490688  25974  16236  0.118760\n",
       "490689  25974  18797  0.363301\n",
       "490690  25974  19629  0.129141\n",
       "\n",
       "[490691 rows x 3 columns]"
      ],
      "text/html": "<div>\n<style scoped>\n    .dataframe tbody tr th:only-of-type {\n        vertical-align: middle;\n    }\n\n    .dataframe tbody tr th {\n        vertical-align: top;\n    }\n\n    .dataframe thead th {\n        text-align: right;\n    }\n</style>\n<table border=\"1\" class=\"dataframe\">\n  <thead>\n    <tr style=\"text-align: right;\">\n      <th></th>\n      <th>row</th>\n      <th>col</th>\n      <th>data</th>\n    </tr>\n  </thead>\n  <tbody>\n    <tr>\n      <th>0</th>\n      <td>0</td>\n      <td>1185</td>\n      <td>1.015524</td>\n    </tr>\n    <tr>\n      <th>1</th>\n      <td>0</td>\n      <td>2507</td>\n      <td>0.459024</td>\n    </tr>\n    <tr>\n      <th>2</th>\n      <td>0</td>\n      <td>3534</td>\n      <td>0.227742</td>\n    </tr>\n    <tr>\n      <th>3</th>\n      <td>0</td>\n      <td>8766</td>\n      <td>0.501549</td>\n    </tr>\n    <tr>\n      <th>4</th>\n      <td>0</td>\n      <td>10862</td>\n      <td>0.297011</td>\n    </tr>\n    <tr>\n      <th>...</th>\n      <td>...</td>\n      <td>...</td>\n      <td>...</td>\n    </tr>\n    <tr>\n      <th>490686</th>\n      <td>25974</td>\n      <td>12554</td>\n      <td>0.963016</td>\n    </tr>\n    <tr>\n      <th>490687</th>\n      <td>25974</td>\n      <td>13003</td>\n      <td>0.104613</td>\n    </tr>\n    <tr>\n      <th>490688</th>\n      <td>25974</td>\n      <td>16236</td>\n      <td>0.118760</td>\n    </tr>\n    <tr>\n      <th>490689</th>\n      <td>25974</td>\n      <td>18797</td>\n      <td>0.363301</td>\n    </tr>\n    <tr>\n      <th>490690</th>\n      <td>25974</td>\n      <td>19629</td>\n      <td>0.129141</td>\n    </tr>\n  </tbody>\n</table>\n<p>490691 rows × 3 columns</p>\n</div>"
     },
     "metadata": {},
     "execution_count": 186
    }
   ],
   "source": [
    "ICM_df = pd.read_csv('../data_ICM_title_abstract.csv')\n",
    "ICM_df"
   ]
  },
  {
   "cell_type": "code",
   "execution_count": 187,
   "metadata": {},
   "outputs": [
    {
     "output_type": "execute_result",
     "data": {
      "text/plain": [
       "(25975, 20000)"
      ]
     },
     "metadata": {},
     "execution_count": 187
    }
   ],
   "source": [
    "items = ICM_df.row\n",
    "features = ICM_df.col\n",
    "data = ICM_df.data\n",
    "ICM_all = sps.coo_matrix((data, (items, features)))\n",
    "ICM_all = ICM_all.tocsr() #fast row access -> fast access to users \n",
    "ICM_all.shape"
   ]
  },
  {
   "cell_type": "code",
   "execution_count": 188,
   "metadata": {},
   "outputs": [],
   "source": [
    "ICM_all = sps.csr_matrix(ICM_all)\n",
    "features_per_item = np.ediff1d(ICM_all.indptr)\n",
    "\n",
    "ICM_all = sps.csc_matrix(ICM_all)\n",
    "items_per_feature = np.ediff1d(ICM_all.indptr)\n",
    "\n",
    "ICM_all = sps.csr_matrix(ICM_all)"
   ]
  },
  {
   "cell_type": "code",
   "execution_count": 189,
   "metadata": {},
   "outputs": [],
   "source": [
    "features_per_item = np.sort(features_per_item)\n",
    "items_per_feature = np.sort(items_per_feature)"
   ]
  },
  {
   "cell_type": "code",
   "execution_count": 190,
   "metadata": {},
   "outputs": [
    {
     "output_type": "stream",
     "name": "stdout",
     "text": [
      "Warning: 35 (0.44 %) of 7947 users have no train items\nWarning: 2952 (37.15 %) of 7947 users have no sampled items\n"
     ]
    }
   ],
   "source": [
    "from Base.Evaluation.Evaluator import EvaluatorHoldout\n",
    "from Data_manager.split_functions.split_train_validation_random_holdout import split_train_in_two_percentage_global_sample\n",
    "URM_train, URM_validation = split_train_in_two_percentage_global_sample(URM_all, train_percentage = 0.85)"
   ]
  },
  {
   "cell_type": "code",
   "execution_count": 191,
   "metadata": {},
   "outputs": [
    {
     "output_type": "stream",
     "name": "stdout",
     "text": [
      "P3alphaRecommender: URM Detected 35 (0.44 %) cold users.\n",
      "P3alphaRecommender: URM Detected 2037 (7.84 %) cold items.\n",
      "RP3betaRecommender: URM Detected 2 (0.01 %) cold users.\n",
      "RP3betaRecommender: URM Detected 25 (0.10 %) cold items.\n",
      "ItemKNNSimilarityHybridRecommender: URM Detected 35 (0.44 %) cold users.\n",
      "ItemKNNSimilarityHybridRecommender: URM Detected 2037 (7.84 %) cold items.\n"
     ]
    }
   ],
   "source": [
    "# These are the base recommender for all classess \n",
    "# We are going to tune just the hybrid fot the specific class fo user\n",
    "\n",
    "from GraphBased.P3alphaRecommender import P3alphaRecommender\n",
    "from GraphBased.RP3betaRecommender import RP3betaRecommender\n",
    "from KNN.ItemKNNCBFRecommender import ItemKNNCBFRecommender\n",
    "from KNN.ItemKNNSimilarityHybridRecommender import ItemKNNSimilarityHybridRecommender\n",
    "\n",
    "recommender_alpha = P3alphaRecommender(URM_train)\n",
    "recommender_alpha.fit(topK=170, alpha = 0.45, implicit = True)\n",
    "\n",
    "recommender_beta_ICM = RP3betaRecommender(ICM_all.T)\n",
    "recommender_beta_ICM.fit(topK=70, alpha=0.2, beta=0.5, implicit=False)\n",
    "recommender_beta_ICM.URM_train = URM_train\n",
    "\n",
    "\n",
    "hybridrecommender_all_user = ItemKNNSimilarityHybridRecommender(URM_train, recommender_alpha.W_sparse, recommender_beta_ICM.W_sparse)\n",
    "hybridrecommender_all_user.fit(topK=200, alpha = 0.1)"
   ]
  },
  {
   "cell_type": "code",
   "execution_count": 192,
   "metadata": {},
   "outputs": [
    {
     "output_type": "stream",
     "name": "stdout",
     "text": [
      "7947\n",
      "1088\n",
      "EvaluatorHoldout: Ignoring 6859 Users\n",
      "Iteration No: 1 started. Evaluating function at random point.\n",
      "ItemKNNSimilarityHybridRecommender: URM Detected 35 (0.44 %) cold users.\n",
      "ItemKNNSimilarityHybridRecommender: URM Detected 2037 (7.84 %) cold items.\n",
      "SearchBayesianSkopt: Testing config: {'topK': 660, 'alpha': 0.7860923010122383}\n",
      "EvaluatorHoldout: Processed 283 ( 100.00% ) in 0.17 sec. Users per second: 1664\n",
      "SearchBayesianSkopt: New best config found. Config 0: {'topK': 660, 'alpha': 0.7860923010122383} - results: ROC_AUC: 0.0530035, PRECISION: 0.0081272, PRECISION_RECALL_MIN_DEN: 0.0812721, RECALL: 0.0812721, MAP: 0.0412516, MRR: 0.0412516, NDCG: 0.0503461, F1: 0.0147767, HIT_RATE: 0.0812721, ARHR: 0.0412516, NOVELTY: 0.0051219, AVERAGE_POPULARITY: 0.0572642, DIVERSITY_MEAN_INTER_LIST: 0.9848984, DIVERSITY_HERFINDAHL: 0.9981418, COVERAGE_ITEM: 0.0766891, COVERAGE_ITEM_CORRECT: 0.0008855, COVERAGE_USER: 0.2601103, COVERAGE_USER_CORRECT: 0.0211397, DIVERSITY_GINI: 0.0555293, SHANNON_ENTROPY: 10.4128538, \n",
      "\n",
      "EvaluatorHoldout: Processed 283 ( 100.00% ) in 0.14 sec. Users per second: 2030\n",
      "SearchBayesianSkopt: Best config evaluated with evaluator_test. Config: {'topK': 660, 'alpha': 0.7860923010122383} - results:\n",
      "CUTOFF: 10 - ROC_AUC: 0.0530035, PRECISION: 0.0081272, PRECISION_RECALL_MIN_DEN: 0.0812721, RECALL: 0.0812721, MAP: 0.0412516, MRR: 0.0412516, NDCG: 0.0503461, F1: 0.0147767, HIT_RATE: 0.0812721, ARHR: 0.0412516, NOVELTY: 0.0051219, AVERAGE_POPULARITY: 0.0572642, DIVERSITY_MEAN_INTER_LIST: 0.9848984, DIVERSITY_HERFINDAHL: 0.9981418, COVERAGE_ITEM: 0.0766891, COVERAGE_ITEM_CORRECT: 0.0008855, COVERAGE_USER: 0.2601103, COVERAGE_USER_CORRECT: 0.0211397, DIVERSITY_GINI: 0.0555293, SHANNON_ENTROPY: 10.4128538, \n",
      "\n",
      "\n",
      "DataIO: Json dumps supports only 'str' as dictionary keys. Transforming keys to string, note that this will alter the mapper content.\n",
      "Iteration No: 1 ended. Evaluation done at random point.\n",
      "Time taken: 2.5986\n",
      "Function value obtained: -0.0413\n",
      "Current minimum: -0.0413\n",
      "Iteration No: 2 started. Evaluating function at random point.\n",
      "ItemKNNSimilarityHybridRecommender: URM Detected 35 (0.44 %) cold users.\n",
      "ItemKNNSimilarityHybridRecommender: URM Detected 2037 (7.84 %) cold items.\n",
      "SearchBayesianSkopt: Testing config: {'topK': 462, 'alpha': 0.2493259345951197}\n",
      "EvaluatorHoldout: Processed 283 ( 100.00% ) in 0.17 sec. Users per second: 1646\n",
      "SearchBayesianSkopt: New best config found. Config 1: {'topK': 462, 'alpha': 0.2493259345951197} - results: ROC_AUC: 0.0537888, PRECISION: 0.0088339, PRECISION_RECALL_MIN_DEN: 0.0883392, RECALL: 0.0883392, MAP: 0.0421364, MRR: 0.0421364, NDCG: 0.0525572, F1: 0.0160617, HIT_RATE: 0.0883392, ARHR: 0.0421364, NOVELTY: 0.0051246, AVERAGE_POPULARITY: 0.0562234, DIVERSITY_MEAN_INTER_LIST: 0.9850738, DIVERSITY_HERFINDAHL: 0.9981593, COVERAGE_ITEM: 0.0774206, COVERAGE_ITEM_CORRECT: 0.0009625, COVERAGE_USER: 0.2601103, COVERAGE_USER_CORRECT: 0.0229779, DIVERSITY_GINI: 0.0565105, SHANNON_ENTROPY: 10.4344809, \n",
      "\n",
      "EvaluatorHoldout: Processed 283 ( 100.00% ) in 0.14 sec. Users per second: 2085\n",
      "SearchBayesianSkopt: Best config evaluated with evaluator_test. Config: {'topK': 462, 'alpha': 0.2493259345951197} - results:\n",
      "CUTOFF: 10 - ROC_AUC: 0.0537888, PRECISION: 0.0088339, PRECISION_RECALL_MIN_DEN: 0.0883392, RECALL: 0.0883392, MAP: 0.0421364, MRR: 0.0421364, NDCG: 0.0525572, F1: 0.0160617, HIT_RATE: 0.0883392, ARHR: 0.0421364, NOVELTY: 0.0051246, AVERAGE_POPULARITY: 0.0562234, DIVERSITY_MEAN_INTER_LIST: 0.9850738, DIVERSITY_HERFINDAHL: 0.9981593, COVERAGE_ITEM: 0.0774206, COVERAGE_ITEM_CORRECT: 0.0009625, COVERAGE_USER: 0.2601103, COVERAGE_USER_CORRECT: 0.0229779, DIVERSITY_GINI: 0.0565105, SHANNON_ENTROPY: 10.4344809, \n",
      "\n",
      "\n",
      "Iteration No: 2 ended. Evaluation done at random point.\n",
      "Time taken: 2.5798\n",
      "Function value obtained: -0.0421\n",
      "Current minimum: -0.0421\n",
      "Iteration No: 3 started. Evaluating function at random point.\n",
      "ItemKNNSimilarityHybridRecommender: URM Detected 35 (0.44 %) cold users.\n",
      "ItemKNNSimilarityHybridRecommender: URM Detected 2037 (7.84 %) cold items.\n",
      "SearchBayesianSkopt: Testing config: {'topK': 578, 'alpha': 0.8332983790905009}\n",
      "EvaluatorHoldout: Processed 283 ( 100.00% ) in 0.17 sec. Users per second: 1629\n",
      "SearchBayesianSkopt: Config 2 is suboptimal. Config: {'topK': 578, 'alpha': 0.8332983790905009} - results: ROC_AUC: 0.0530035, PRECISION: 0.0081272, PRECISION_RECALL_MIN_DEN: 0.0812721, RECALL: 0.0812721, MAP: 0.0412516, MRR: 0.0412516, NDCG: 0.0503461, F1: 0.0147767, HIT_RATE: 0.0812721, ARHR: 0.0412516, NOVELTY: 0.0051211, AVERAGE_POPULARITY: 0.0573070, DIVERSITY_MEAN_INTER_LIST: 0.9848959, DIVERSITY_HERFINDAHL: 0.9981416, COVERAGE_ITEM: 0.0766506, COVERAGE_ITEM_CORRECT: 0.0008855, COVERAGE_USER: 0.2601103, COVERAGE_USER_CORRECT: 0.0211397, DIVERSITY_GINI: 0.0554834, SHANNON_ENTROPY: 10.4121471, \n",
      "\n",
      "Iteration No: 3 ended. Evaluation done at random point.\n",
      "Time taken: 2.5844\n",
      "Function value obtained: -0.0413\n",
      "Current minimum: -0.0421\n",
      "Iteration No: 4 started. Searching for the next optimal point.\n",
      "ItemKNNSimilarityHybridRecommender: URM Detected 35 (0.44 %) cold users.\n",
      "ItemKNNSimilarityHybridRecommender: URM Detected 2037 (7.84 %) cold items.\n",
      "SearchBayesianSkopt: Testing config: {'topK': 14, 'alpha': 0.0}\n",
      "EvaluatorHoldout: Processed 283 ( 100.00% ) in 0.17 sec. Users per second: 1712\n",
      "SearchBayesianSkopt: Config 3 is suboptimal. Config: {'topK': 14, 'alpha': 0.0} - results: ROC_AUC: 0.0396545, PRECISION: 0.0063604, PRECISION_RECALL_MIN_DEN: 0.0636042, RECALL: 0.0636042, MAP: 0.0305556, MRR: 0.0305556, NDCG: 0.0380857, F1: 0.0115644, HIT_RATE: 0.0636042, ARHR: 0.0305556, NOVELTY: 0.0053148, AVERAGE_POPULARITY: 0.0144073, DIVERSITY_MEAN_INTER_LIST: 0.9813448, DIVERSITY_HERFINDAHL: 0.9977877, COVERAGE_ITEM: 0.0867757, COVERAGE_ITEM_CORRECT: 0.0006930, COVERAGE_USER: 0.2601103, COVERAGE_USER_CORRECT: 0.0165441, DIVERSITY_GINI: 0.0696627, SHANNON_ENTROPY: 10.6006202, \n",
      "\n",
      "Iteration No: 4 ended. Search finished for the next optimal point.\n",
      "Time taken: 1.0535\n",
      "Function value obtained: -0.0306\n",
      "Current minimum: -0.0421\n",
      "Iteration No: 5 started. Searching for the next optimal point.\n",
      "ItemKNNSimilarityHybridRecommender: URM Detected 35 (0.44 %) cold users.\n",
      "ItemKNNSimilarityHybridRecommender: URM Detected 2037 (7.84 %) cold items.\n",
      "SearchBayesianSkopt: Testing config: {'topK': 800, 'alpha': 0.04230643830255377}\n",
      "EvaluatorHoldout: Processed 283 ( 100.00% ) in 0.17 sec. Users per second: 1662\n",
      "SearchBayesianSkopt: Config 4 is suboptimal. Config: {'topK': 800, 'alpha': 0.04230643830255377} - results: ROC_AUC: 0.0596781, PRECISION: 0.0081272, PRECISION_RECALL_MIN_DEN: 0.0812721, RECALL: 0.0812721, MAP: 0.0404201, MRR: 0.0404201, NDCG: 0.0502184, F1: 0.0147767, HIT_RATE: 0.0812721, ARHR: 0.0404201, NOVELTY: 0.0052508, AVERAGE_POPULARITY: 0.0294100, DIVERSITY_MEAN_INTER_LIST: 0.9869559, DIVERSITY_HERFINDAHL: 0.9983468, COVERAGE_ITEM: 0.0848508, COVERAGE_ITEM_CORRECT: 0.0008855, COVERAGE_USER: 0.2601103, COVERAGE_USER_CORRECT: 0.0211397, DIVERSITY_GINI: 0.0670350, SHANNON_ENTROPY: 10.6530176, \n",
      "\n",
      "Iteration No: 5 ended. Search finished for the next optimal point.\n",
      "Time taken: 2.6049\n",
      "Function value obtained: -0.0404\n",
      "Current minimum: -0.0421\n",
      "Iteration No: 6 started. Searching for the next optimal point.\n",
      "ItemKNNSimilarityHybridRecommender: URM Detected 35 (0.44 %) cold users.\n",
      "ItemKNNSimilarityHybridRecommender: URM Detected 2037 (7.84 %) cold items.\n",
      "SearchBayesianSkopt: Testing config: {'topK': 339, 'alpha': 0.987983922197545}\n",
      "EvaluatorHoldout: Processed 283 ( 100.00% ) in 0.17 sec. Users per second: 1629\n",
      "SearchBayesianSkopt: Config 5 is suboptimal. Config: {'topK': 339, 'alpha': 0.987983922197545} - results: ROC_AUC: 0.0541814, PRECISION: 0.0081272, PRECISION_RECALL_MIN_DEN: 0.0812721, RECALL: 0.0812721, MAP: 0.0416302, MRR: 0.0416302, NDCG: 0.0506901, F1: 0.0147767, HIT_RATE: 0.0812721, ARHR: 0.0416302, NOVELTY: 0.0051205, AVERAGE_POPULARITY: 0.0573413, DIVERSITY_MEAN_INTER_LIST: 0.9849084, DIVERSITY_HERFINDAHL: 0.9981428, COVERAGE_ITEM: 0.0767276, COVERAGE_ITEM_CORRECT: 0.0008855, COVERAGE_USER: 0.2601103, COVERAGE_USER_CORRECT: 0.0211397, DIVERSITY_GINI: 0.0555877, SHANNON_ENTROPY: 10.4142672, \n",
      "\n",
      "Iteration No: 6 ended. Search finished for the next optimal point.\n",
      "Time taken: 2.6826\n",
      "Function value obtained: -0.0416\n",
      "Current minimum: -0.0421\n",
      "Iteration No: 7 started. Searching for the next optimal point.\n",
      "ItemKNNSimilarityHybridRecommender: URM Detected 35 (0.44 %) cold users.\n",
      "ItemKNNSimilarityHybridRecommender: URM Detected 2037 (7.84 %) cold items.\n",
      "SearchBayesianSkopt: Testing config: {'topK': 407, 'alpha': 1.0}\n",
      "EvaluatorHoldout: Processed 283 ( 100.00% ) in 0.17 sec. Users per second: 1655\n",
      "SearchBayesianSkopt: Config 6 is suboptimal. Config: {'topK': 407, 'alpha': 1.0} - results: ROC_AUC: 0.0424028, PRECISION: 0.0067138, PRECISION_RECALL_MIN_DEN: 0.0671378, RECALL: 0.0671378, MAP: 0.0289150, MRR: 0.0289150, NDCG: 0.0377397, F1: 0.0122069, HIT_RATE: 0.0671378, ARHR: 0.0289150, NOVELTY: 0.0051243, AVERAGE_POPULARITY: 0.0579730, DIVERSITY_MEAN_INTER_LIST: 0.9569255, DIVERSITY_HERFINDAHL: 0.9953544, COVERAGE_ITEM: 0.0670645, COVERAGE_ITEM_CORRECT: 0.0007315, COVERAGE_USER: 0.2601103, COVERAGE_USER_CORRECT: 0.0174632, DIVERSITY_GINI: 0.0427983, SHANNON_ENTROPY: 9.7926202, \n",
      "\n",
      "Iteration No: 7 ended. Search finished for the next optimal point.\n",
      "Time taken: 1.8572\n",
      "Function value obtained: -0.0289\n",
      "Current minimum: -0.0421\n",
      "Iteration No: 8 started. Searching for the next optimal point.\n",
      "ItemKNNSimilarityHybridRecommender: URM Detected 35 (0.44 %) cold users.\n",
      "ItemKNNSimilarityHybridRecommender: URM Detected 2037 (7.84 %) cold items.\n",
      "SearchBayesianSkopt: Testing config: {'topK': 472, 'alpha': 0.2499562804910702}\n",
      "EvaluatorHoldout: Processed 283 ( 100.00% ) in 0.17 sec. Users per second: 1643\n",
      "SearchBayesianSkopt: Config 7 is suboptimal. Config: {'topK': 472, 'alpha': 0.2499562804910702} - results: ROC_AUC: 0.0537888, PRECISION: 0.0088339, PRECISION_RECALL_MIN_DEN: 0.0883392, RECALL: 0.0883392, MAP: 0.0421364, MRR: 0.0421364, NDCG: 0.0525572, F1: 0.0160617, HIT_RATE: 0.0883392, ARHR: 0.0421364, NOVELTY: 0.0051250, AVERAGE_POPULARITY: 0.0562073, DIVERSITY_MEAN_INTER_LIST: 0.9850763, DIVERSITY_HERFINDAHL: 0.9981595, COVERAGE_ITEM: 0.0774206, COVERAGE_ITEM_CORRECT: 0.0009625, COVERAGE_USER: 0.2601103, COVERAGE_USER_CORRECT: 0.0229779, DIVERSITY_GINI: 0.0565161, SHANNON_ENTROPY: 10.4347477, \n",
      "\n",
      "Iteration No: 8 ended. Search finished for the next optimal point.\n",
      "Time taken: 2.6842\n",
      "Function value obtained: -0.0421\n",
      "Current minimum: -0.0421\n",
      "Iteration No: 9 started. Searching for the next optimal point.\n",
      "ItemKNNSimilarityHybridRecommender: URM Detected 35 (0.44 %) cold users.\n",
      "ItemKNNSimilarityHybridRecommender: URM Detected 2037 (7.84 %) cold items.\n",
      "SearchBayesianSkopt: Testing config: {'topK': 312, 'alpha': 0.9761584398283201}\n",
      "EvaluatorHoldout: Processed 283 ( 100.00% ) in 0.17 sec. Users per second: 1674\n",
      "SearchBayesianSkopt: Config 8 is suboptimal. Config: {'topK': 312, 'alpha': 0.9761584398283201} - results: ROC_AUC: 0.0541814, PRECISION: 0.0081272, PRECISION_RECALL_MIN_DEN: 0.0812721, RECALL: 0.0812721, MAP: 0.0416302, MRR: 0.0416302, NDCG: 0.0506901, F1: 0.0147767, HIT_RATE: 0.0812721, ARHR: 0.0416302, NOVELTY: 0.0051205, AVERAGE_POPULARITY: 0.0573413, DIVERSITY_MEAN_INTER_LIST: 0.9849084, DIVERSITY_HERFINDAHL: 0.9981428, COVERAGE_ITEM: 0.0767276, COVERAGE_ITEM_CORRECT: 0.0008855, COVERAGE_USER: 0.2601103, COVERAGE_USER_CORRECT: 0.0211397, DIVERSITY_GINI: 0.0555877, SHANNON_ENTROPY: 10.4142672, \n",
      "\n",
      "Iteration No: 9 ended. Search finished for the next optimal point.\n",
      "Time taken: 2.6649\n",
      "Function value obtained: -0.0416\n",
      "Current minimum: -0.0421\n",
      "Iteration No: 10 started. Searching for the next optimal point.\n",
      "ItemKNNSimilarityHybridRecommender: URM Detected 35 (0.44 %) cold users.\n",
      "ItemKNNSimilarityHybridRecommender: URM Detected 2037 (7.84 %) cold items.\n",
      "SearchBayesianSkopt: Testing config: {'topK': 477, 'alpha': 0.8097601654189766}\n",
      "EvaluatorHoldout: Processed 283 ( 100.00% ) in 0.17 sec. Users per second: 1658\n",
      "SearchBayesianSkopt: Config 9 is suboptimal. Config: {'topK': 477, 'alpha': 0.8097601654189766} - results: ROC_AUC: 0.0530035, PRECISION: 0.0081272, PRECISION_RECALL_MIN_DEN: 0.0812721, RECALL: 0.0812721, MAP: 0.0412516, MRR: 0.0412516, NDCG: 0.0503461, F1: 0.0147767, HIT_RATE: 0.0812721, ARHR: 0.0412516, NOVELTY: 0.0051217, AVERAGE_POPULARITY: 0.0572770, DIVERSITY_MEAN_INTER_LIST: 0.9848984, DIVERSITY_HERFINDAHL: 0.9981418, COVERAGE_ITEM: 0.0766891, COVERAGE_ITEM_CORRECT: 0.0008855, COVERAGE_USER: 0.2601103, COVERAGE_USER_CORRECT: 0.0211397, DIVERSITY_GINI: 0.0555293, SHANNON_ENTROPY: 10.4128538, \n",
      "\n",
      "Iteration No: 10 ended. Search finished for the next optimal point.\n",
      "Time taken: 2.6205\n",
      "Function value obtained: -0.0413\n",
      "Current minimum: -0.0421\n",
      "SearchBayesianSkopt: Search complete. Best config is 1: {'topK': 462, 'alpha': 0.2493259345951197}\n",
      "\n",
      "ItemKNNSimilarityHybridRecommender: URM Detected 1079 (4.15 %) cold items.\n",
      "SearchBayesianSkopt: Evaluation with constructor data for final test. Using best config: {'topK': 462, 'alpha': 0.2493259345951197}\n",
      "EvaluatorHoldout: Processed 283 ( 100.00% ) in 0.17 sec. Users per second: 1630\n",
      "SearchBayesianSkopt: Best config evaluated with evaluator_test with constructor data for final test. Config: {'topK': 462, 'alpha': 0.2493259345951197} - results:\n",
      "CUTOFF: 10 - ROC_AUC: 0.0000000, PRECISION: 0.0000000, PRECISION_RECALL_MIN_DEN: 0.0000000, RECALL: 0.0000000, MAP: 0.0000000, MRR: 0.0000000, NDCG: 0.0000000, F1: 0.0000000, HIT_RATE: 0.0000000, ARHR: 0.0000000, NOVELTY: 0.0051018, AVERAGE_POPULARITY: 0.0727699, DIVERSITY_MEAN_INTER_LIST: 0.9938100, DIVERSITY_HERFINDAHL: 0.9990298, COVERAGE_ITEM: 0.0784216, COVERAGE_ITEM_CORRECT: 0.0000000, COVERAGE_USER: 0.2601103, COVERAGE_USER_CORRECT: 0.0000000, DIVERSITY_GINI: 0.0587629, SHANNON_ENTROPY: 10.6622344, \n",
      "\n",
      "\n",
      "SearchBayesianSkopt: Saving model in result_experiments/ItemKNNSimilarityHybridRecommender\n",
      "\n",
      "ItemKNNSimilarityHybridRecommender: Saving model in file 'result_experiments/ItemKNNSimilarityHybridRecommender_best_model_last'\n",
      "ItemKNNSimilarityHybridRecommender: Saving complete\n"
     ]
    },
    {
     "output_type": "execute_result",
     "data": {
      "text/plain": [
       "{'topK': 462, 'alpha': 0.2493259345951197}"
      ]
     },
     "metadata": {},
     "execution_count": 192
    }
   ],
   "source": [
    "from skopt.space import Real, Integer, Categorical\n",
    "\n",
    "hyperparameters_range_dictionary = {}\n",
    "hyperparameters_range_dictionary[\"topK\"] = Integer(1, 800)\n",
    "hyperparameters_range_dictionary[\"alpha\"] = Real(low = 0, high = 1, prior = 'uniform')\n",
    "\n",
    "grouped_users = dataset.groupby(['row']).count()\n",
    "\n",
    "# All users present into the dataser\n",
    "sorted_users = grouped_users.sort_values(by=['col'], ascending=True)\n",
    "sorted_users = sorted_users.index.to_numpy()\n",
    "print(len(sorted_users))\n",
    "\n",
    "# User for the firt target of users 0-2 interaction\n",
    "grouped_users = grouped_users[grouped_users['col'] < 3]\n",
    "users_in_group = grouped_users.sort_values(by=['col'], ascending=True)\n",
    "users_in_group = users_in_group.index.to_numpy()\n",
    "\n",
    "user_first_group = users_in_group\n",
    "\n",
    "print(len(user_first_group))\n",
    "\n",
    "users_not_in_group_flag = np.isin(sorted_users, users_in_group, invert = True)\n",
    "users_not_in_group = sorted_users[users_not_in_group_flag]\n",
    "\n",
    "evaluator_validation = EvaluatorHoldout(URM_validation, cutoff_list=[10], ignore_users = users_not_in_group)\n",
    "\n",
    "from ParameterTuning.SearchBayesianSkopt import SearchBayesianSkopt\n",
    "\n",
    "recommender_class = ItemKNNSimilarityHybridRecommender\n",
    "\n",
    "parameterSearch = SearchBayesianSkopt(recommender_class,\n",
    "                                 evaluator_validation=evaluator_validation,\n",
    "                                 evaluator_test=evaluator_validation)\n",
    "\n",
    "from ParameterTuning.SearchAbstractClass import SearchInputRecommenderArgs\n",
    "  \n",
    "recommender_input_args = SearchInputRecommenderArgs(\n",
    "    CONSTRUCTOR_POSITIONAL_ARGS = [URM_train, recommender_alpha.W_sparse, recommender_beta_ICM.W_sparse],\n",
    "    CONSTRUCTOR_KEYWORD_ARGS = {},\n",
    "    FIT_POSITIONAL_ARGS = [],\n",
    "    FIT_KEYWORD_ARGS = {}\n",
    ")\n",
    "\n",
    "recommender_input_args_last_test = SearchInputRecommenderArgs(\n",
    "    CONSTRUCTOR_POSITIONAL_ARGS = [URM_all, recommender_alpha.W_sparse, recommender_beta_ICM.W_sparse],\n",
    "    CONSTRUCTOR_KEYWORD_ARGS = {},\n",
    "    FIT_POSITIONAL_ARGS = [],\n",
    "    FIT_KEYWORD_ARGS = {}\n",
    ")\n",
    "\n",
    "import os\n",
    "\n",
    "output_folder_path = \"result_experiments/\"\n",
    "\n",
    "# If directory does not exist, create\n",
    "if not os.path.exists(output_folder_path):\n",
    "    os.makedirs(output_folder_path)\n",
    "    \n",
    "n_cases = 10\n",
    "n_random_starts = int(n_cases*0.3)\n",
    "metric_to_optimize = \"MAP\" \n",
    "\n",
    "parameterSearch.search(recommender_input_args,\n",
    "                       recommender_input_args_last_test = recommender_input_args_last_test,\n",
    "                       parameter_search_space = hyperparameters_range_dictionary,\n",
    "                       n_cases = n_cases,\n",
    "                       n_random_starts = n_random_starts,\n",
    "                       save_model = \"last\",\n",
    "                       output_folder_path = output_folder_path,\n",
    "                       output_file_name_root = recommender_class.RECOMMENDER_NAME,\n",
    "                       metric_to_optimize = metric_to_optimize,\n",
    "                      )\n",
    "\n",
    "from Base.DataIO import DataIO\n",
    "\n",
    "data_loader = DataIO(folder_path = output_folder_path)\n",
    "\n",
    "search_metadata = data_loader.load_data(recommender_class.RECOMMENDER_NAME + \"_metadata.zip\")\n",
    "\n",
    "hyperparameters_list = search_metadata[\"hyperparameters_list\"]\n",
    "\n",
    "best_parameters = search_metadata[\"hyperparameters_best\"]\n",
    "best_parameters"
   ]
  },
  {
   "cell_type": "code",
   "execution_count": 193,
   "metadata": {},
   "outputs": [
    {
     "output_type": "stream",
     "name": "stdout",
     "text": [
      "7947\n",
      "2413\n",
      "EvaluatorHoldout: Ignoring 5534 Users\n",
      "Iteration No: 1 started. Evaluating function at random point.\n",
      "ItemKNNSimilarityHybridRecommender: URM Detected 35 (0.44 %) cold users.\n",
      "ItemKNNSimilarityHybridRecommender: URM Detected 2037 (7.84 %) cold items.\n",
      "SearchBayesianSkopt: Testing config: {'topK': 341, 'alpha': 0.5564063313816416}\n",
      "EvaluatorHoldout: Processed 2258 ( 100.00% ) in 1.65 sec. Users per second: 1372\n",
      "SearchBayesianSkopt: New best config found. Config 0: {'topK': 341, 'alpha': 0.5564063313816416} - results: ROC_AUC: 0.2249176, PRECISION: 0.0508857, PRECISION_RECALL_MIN_DEN: 0.1289598, RECALL: 0.1233763, MAP: 0.0580111, MRR: 0.1632791, NDCG: 0.0977254, F1: 0.0720535, HIT_RATE: 0.5088574, ARHR: 0.1939272, NOVELTY: 0.0046432, AVERAGE_POPULARITY: 0.1345542, DIVERSITY_MEAN_INTER_LIST: 0.9739715, DIVERSITY_HERFINDAHL: 0.9973540, COVERAGE_ITEM: 0.2046968, COVERAGE_ITEM_CORRECT: 0.0269875, COVERAGE_USER: 0.9357646, COVERAGE_USER_CORRECT: 0.3373394, DIVERSITY_GINI: 0.0655137, SHANNON_ENTROPY: 10.4062046, \n",
      "\n",
      "EvaluatorHoldout: Processed 2258 ( 100.00% ) in 1.58 sec. Users per second: 1425\n",
      "SearchBayesianSkopt: Best config evaluated with evaluator_test. Config: {'topK': 341, 'alpha': 0.5564063313816416} - results:\n",
      "CUTOFF: 10 - ROC_AUC: 0.2249176, PRECISION: 0.0508857, PRECISION_RECALL_MIN_DEN: 0.1289598, RECALL: 0.1233763, MAP: 0.0580111, MRR: 0.1632791, NDCG: 0.0977254, F1: 0.0720535, HIT_RATE: 0.5088574, ARHR: 0.1939272, NOVELTY: 0.0046432, AVERAGE_POPULARITY: 0.1345542, DIVERSITY_MEAN_INTER_LIST: 0.9739715, DIVERSITY_HERFINDAHL: 0.9973540, COVERAGE_ITEM: 0.2046968, COVERAGE_ITEM_CORRECT: 0.0269875, COVERAGE_USER: 0.9357646, COVERAGE_USER_CORRECT: 0.3373394, DIVERSITY_GINI: 0.0655137, SHANNON_ENTROPY: 10.4062046, \n",
      "\n",
      "\n",
      "DataIO: Json dumps supports only 'str' as dictionary keys. Transforming keys to string, note that this will alter the mapper content.\n",
      "Iteration No: 1 ended. Evaluation done at random point.\n",
      "Time taken: 5.5317\n",
      "Function value obtained: -0.0580\n",
      "Current minimum: -0.0580\n",
      "Iteration No: 2 started. Evaluating function at random point.\n",
      "ItemKNNSimilarityHybridRecommender: URM Detected 35 (0.44 %) cold users.\n",
      "ItemKNNSimilarityHybridRecommender: URM Detected 2037 (7.84 %) cold items.\n",
      "SearchBayesianSkopt: Testing config: {'topK': 687, 'alpha': 0.5380697190822865}\n",
      "EvaluatorHoldout: Processed 2258 ( 100.00% ) in 1.62 sec. Users per second: 1390\n",
      "SearchBayesianSkopt: New best config found. Config 1: {'topK': 687, 'alpha': 0.5380697190822865} - results: ROC_AUC: 0.2253226, PRECISION: 0.0509743, PRECISION_RECALL_MIN_DEN: 0.1289820, RECALL: 0.1233065, MAP: 0.0584910, MRR: 0.1641500, NDCG: 0.0981424, F1: 0.0721303, HIT_RATE: 0.5097431, ARHR: 0.1949592, NOVELTY: 0.0046440, AVERAGE_POPULARITY: 0.1344382, DIVERSITY_MEAN_INTER_LIST: 0.9740151, DIVERSITY_HERFINDAHL: 0.9973584, COVERAGE_ITEM: 0.2049663, COVERAGE_ITEM_CORRECT: 0.0270260, COVERAGE_USER: 0.9357646, COVERAGE_USER_CORRECT: 0.3373394, DIVERSITY_GINI: 0.0656459, SHANNON_ENTROPY: 10.4093374, \n",
      "\n",
      "EvaluatorHoldout: Processed 2258 ( 100.00% ) in 1.57 sec. Users per second: 1440\n",
      "SearchBayesianSkopt: Best config evaluated with evaluator_test. Config: {'topK': 687, 'alpha': 0.5380697190822865} - results:\n",
      "CUTOFF: 10 - ROC_AUC: 0.2253226, PRECISION: 0.0509743, PRECISION_RECALL_MIN_DEN: 0.1289820, RECALL: 0.1233065, MAP: 0.0584910, MRR: 0.1641500, NDCG: 0.0981424, F1: 0.0721303, HIT_RATE: 0.5097431, ARHR: 0.1949592, NOVELTY: 0.0046440, AVERAGE_POPULARITY: 0.1344382, DIVERSITY_MEAN_INTER_LIST: 0.9740151, DIVERSITY_HERFINDAHL: 0.9973584, COVERAGE_ITEM: 0.2049663, COVERAGE_ITEM_CORRECT: 0.0270260, COVERAGE_USER: 0.9357646, COVERAGE_USER_CORRECT: 0.3373394, DIVERSITY_GINI: 0.0656459, SHANNON_ENTROPY: 10.4093374, \n",
      "\n",
      "\n",
      "Iteration No: 2 ended. Evaluation done at random point.\n",
      "Time taken: 5.4399\n",
      "Function value obtained: -0.0585\n",
      "Current minimum: -0.0585\n",
      "Iteration No: 3 started. Evaluating function at random point.\n",
      "ItemKNNSimilarityHybridRecommender: URM Detected 35 (0.44 %) cold users.\n",
      "ItemKNNSimilarityHybridRecommender: URM Detected 2037 (7.84 %) cold items.\n",
      "SearchBayesianSkopt: Testing config: {'topK': 563, 'alpha': 0.8154957335777546}\n",
      "EvaluatorHoldout: Processed 2258 ( 100.00% ) in 1.68 sec. Users per second: 1347\n",
      "SearchBayesianSkopt: Config 2 is suboptimal. Config: {'topK': 563, 'alpha': 0.8154957335777546} - results: ROC_AUC: 0.2210309, PRECISION: 0.0503986, PRECISION_RECALL_MIN_DEN: 0.1268759, RECALL: 0.1213493, MAP: 0.0566406, MRR: 0.1598909, NDCG: 0.0958355, F1: 0.0712187, HIT_RATE: 0.5039858, ARHR: 0.1901825, NOVELTY: 0.0046357, AVERAGE_POPULARITY: 0.1355521, DIVERSITY_MEAN_INTER_LIST: 0.9735758, DIVERSITY_HERFINDAHL: 0.9973145, COVERAGE_ITEM: 0.2030029, COVERAGE_ITEM_CORRECT: 0.0265255, COVERAGE_USER: 0.9357646, COVERAGE_USER_CORRECT: 0.3340240, DIVERSITY_GINI: 0.0644211, SHANNON_ENTROPY: 10.3791413, \n",
      "\n",
      "Iteration No: 3 ended. Evaluation done at random point.\n",
      "Time taken: 4.0650\n",
      "Function value obtained: -0.0566\n",
      "Current minimum: -0.0585\n",
      "Iteration No: 4 started. Searching for the next optimal point.\n",
      "ItemKNNSimilarityHybridRecommender: URM Detected 35 (0.44 %) cold users.\n",
      "ItemKNNSimilarityHybridRecommender: URM Detected 2037 (7.84 %) cold items.\n",
      "SearchBayesianSkopt: Testing config: {'topK': 797, 'alpha': 0.38712062302389705}\n",
      "EvaluatorHoldout: Processed 2258 ( 100.00% ) in 1.64 sec. Users per second: 1377\n",
      "SearchBayesianSkopt: New best config found. Config 3: {'topK': 797, 'alpha': 0.38712062302389705} - results: ROC_AUC: 0.2278114, PRECISION: 0.0522586, PRECISION_RECALL_MIN_DEN: 0.1325906, RECALL: 0.1268505, MAP: 0.0599180, MRR: 0.1668132, NDCG: 0.1005462, F1: 0.0740223, HIT_RATE: 0.5225864, ARHR: 0.1987276, NOVELTY: 0.0046541, AVERAGE_POPULARITY: 0.1331518, DIVERSITY_MEAN_INTER_LIST: 0.9745719, DIVERSITY_HERFINDAHL: 0.9974140, COVERAGE_ITEM: 0.2086622, COVERAGE_ITEM_CORRECT: 0.0281809, COVERAGE_USER: 0.9357646, COVERAGE_USER_CORRECT: 0.3427269, DIVERSITY_GINI: 0.0675972, SHANNON_ENTROPY: 10.4494078, \n",
      "\n",
      "EvaluatorHoldout: Processed 2258 ( 100.00% ) in 1.56 sec. Users per second: 1450\n",
      "SearchBayesianSkopt: Best config evaluated with evaluator_test. Config: {'topK': 797, 'alpha': 0.38712062302389705} - results:\n",
      "CUTOFF: 10 - ROC_AUC: 0.2278114, PRECISION: 0.0522586, PRECISION_RECALL_MIN_DEN: 0.1325906, RECALL: 0.1268505, MAP: 0.0599180, MRR: 0.1668132, NDCG: 0.1005462, F1: 0.0740223, HIT_RATE: 0.5225864, ARHR: 0.1987276, NOVELTY: 0.0046541, AVERAGE_POPULARITY: 0.1331518, DIVERSITY_MEAN_INTER_LIST: 0.9745719, DIVERSITY_HERFINDAHL: 0.9974140, COVERAGE_ITEM: 0.2086622, COVERAGE_ITEM_CORRECT: 0.0281809, COVERAGE_USER: 0.9357646, COVERAGE_USER_CORRECT: 0.3427269, DIVERSITY_GINI: 0.0675972, SHANNON_ENTROPY: 10.4494078, \n",
      "\n",
      "\n",
      "Iteration No: 4 ended. Search finished for the next optimal point.\n",
      "Time taken: 5.5971\n",
      "Function value obtained: -0.0599\n",
      "Current minimum: -0.0599\n",
      "Iteration No: 5 started. Searching for the next optimal point.\n",
      "ItemKNNSimilarityHybridRecommender: URM Detected 35 (0.44 %) cold users.\n",
      "ItemKNNSimilarityHybridRecommender: URM Detected 2037 (7.84 %) cold items.\n",
      "SearchBayesianSkopt: Testing config: {'topK': 46, 'alpha': 2.073139870828467e-05}\n",
      "EvaluatorHoldout: Processed 2258 ( 100.00% ) in 1.60 sec. Users per second: 1414\n",
      "SearchBayesianSkopt: Config 4 is suboptimal. Config: {'topK': 46, 'alpha': 2.073139870828467e-05} - results: ROC_AUC: 0.1451935, PRECISION: 0.0353410, PRECISION_RECALL_MIN_DEN: 0.0902864, RECALL: 0.0859271, MAP: 0.0358256, MRR: 0.1003634, NDCG: 0.0629340, F1: 0.0500832, HIT_RATE: 0.3534101, ARHR: 0.1184496, NOVELTY: 0.0053549, AVERAGE_POPULARITY: 0.0201372, DIVERSITY_MEAN_INTER_LIST: 0.9973667, DIVERSITY_HERFINDAHL: 0.9996925, COVERAGE_ITEM: 0.3753994, COVERAGE_ITEM_CORRECT: 0.0294514, COVERAGE_USER: 0.9357646, COVERAGE_USER_CORRECT: 0.2378782, DIVERSITY_GINI: 0.2140541, SHANNON_ENTROPY: 12.6477838, \n",
      "\n",
      "Iteration No: 5 ended. Search finished for the next optimal point.\n",
      "Time taken: 3.1742\n",
      "Function value obtained: -0.0358\n",
      "Current minimum: -0.0599\n",
      "Iteration No: 6 started. Searching for the next optimal point.\n",
      "ItemKNNSimilarityHybridRecommender: URM Detected 35 (0.44 %) cold users.\n",
      "ItemKNNSimilarityHybridRecommender: URM Detected 2037 (7.84 %) cold items.\n",
      "SearchBayesianSkopt: Testing config: {'topK': 31, 'alpha': 1.0}\n",
      "EvaluatorHoldout: Processed 2258 ( 100.00% ) in 1.44 sec. Users per second: 1565\n",
      "SearchBayesianSkopt: Config 5 is suboptimal. Config: {'topK': 31, 'alpha': 1.0} - results: ROC_AUC: 0.2026458, PRECISION: 0.0476971, PRECISION_RECALL_MIN_DEN: 0.1169417, RECALL: 0.1114293, MAP: 0.0538649, MRR: 0.1511388, NDCG: 0.0901309, F1: 0.0668004, HIT_RATE: 0.4769708, ARHR: 0.1809677, NOVELTY: 0.0047753, AVERAGE_POPULARITY: 0.1238872, DIVERSITY_MEAN_INTER_LIST: 0.9774159, DIVERSITY_HERFINDAHL: 0.9976983, COVERAGE_ITEM: 0.2579788, COVERAGE_ITEM_CORRECT: 0.0259865, COVERAGE_USER: 0.9357646, COVERAGE_USER_CORRECT: 0.3091587, DIVERSITY_GINI: 0.0952501, SHANNON_ENTROPY: 10.8392399, \n",
      "\n",
      "Iteration No: 6 ended. Search finished for the next optimal point.\n",
      "Time taken: 2.5350\n",
      "Function value obtained: -0.0539\n",
      "Current minimum: -0.0599\n",
      "Iteration No: 7 started. Searching for the next optimal point.\n",
      "ItemKNNSimilarityHybridRecommender: URM Detected 35 (0.44 %) cold users.\n",
      "ItemKNNSimilarityHybridRecommender: URM Detected 2037 (7.84 %) cold items.\n",
      "SearchBayesianSkopt: Testing config: {'topK': 795, 'alpha': 0.23167846578925638}\n",
      "EvaluatorHoldout: Processed 2258 ( 100.00% ) in 1.66 sec. Users per second: 1361\n",
      "SearchBayesianSkopt: New best config found. Config 6: {'topK': 795, 'alpha': 0.23167846578925638} - results: ROC_AUC: 0.2382444, PRECISION: 0.0562002, PRECISION_RECALL_MIN_DEN: 0.1434859, RECALL: 0.1374610, MAP: 0.0642036, MRR: 0.1780375, NDCG: 0.1080090, F1: 0.0797819, HIT_RATE: 0.5620018, ARHR: 0.2126872, NOVELTY: 0.0046819, AVERAGE_POPULARITY: 0.1291681, DIVERSITY_MEAN_INTER_LIST: 0.9760904, DIVERSITY_HERFINDAHL: 0.9975658, COVERAGE_ITEM: 0.2197113, COVERAGE_ITEM_CORRECT: 0.0315688, COVERAGE_USER: 0.9357646, COVERAGE_USER_CORRECT: 0.3642768, DIVERSITY_GINI: 0.0737451, SHANNON_ENTROPY: 10.5717081, \n",
      "\n",
      "EvaluatorHoldout: Processed 2258 ( 100.00% ) in 1.53 sec. Users per second: 1474\n",
      "SearchBayesianSkopt: Best config evaluated with evaluator_test. Config: {'topK': 795, 'alpha': 0.23167846578925638} - results:\n",
      "CUTOFF: 10 - ROC_AUC: 0.2382444, PRECISION: 0.0562002, PRECISION_RECALL_MIN_DEN: 0.1434859, RECALL: 0.1374610, MAP: 0.0642036, MRR: 0.1780375, NDCG: 0.1080090, F1: 0.0797819, HIT_RATE: 0.5620018, ARHR: 0.2126872, NOVELTY: 0.0046819, AVERAGE_POPULARITY: 0.1291681, DIVERSITY_MEAN_INTER_LIST: 0.9760904, DIVERSITY_HERFINDAHL: 0.9975658, COVERAGE_ITEM: 0.2197113, COVERAGE_ITEM_CORRECT: 0.0315688, COVERAGE_USER: 0.9357646, COVERAGE_USER_CORRECT: 0.3642768, DIVERSITY_GINI: 0.0737451, SHANNON_ENTROPY: 10.5717081, \n",
      "\n",
      "\n",
      "Iteration No: 7 ended. Search finished for the next optimal point.\n",
      "Time taken: 5.6601\n",
      "Function value obtained: -0.0642\n",
      "Current minimum: -0.0642\n",
      "Iteration No: 8 started. Searching for the next optimal point.\n",
      "ItemKNNSimilarityHybridRecommender: URM Detected 35 (0.44 %) cold users.\n",
      "ItemKNNSimilarityHybridRecommender: URM Detected 2037 (7.84 %) cold items.\n",
      "SearchBayesianSkopt: Testing config: {'topK': 25, 'alpha': 0.2911925952134321}\n",
      "EvaluatorHoldout: Processed 2258 ( 100.00% ) in 1.45 sec. Users per second: 1560\n",
      "SearchBayesianSkopt: Config 7 is suboptimal. Config: {'topK': 25, 'alpha': 0.2911925952134321} - results: ROC_AUC: 0.2155514, PRECISION: 0.0496457, PRECISION_RECALL_MIN_DEN: 0.1272323, RECALL: 0.1220124, MAP: 0.0572300, MRR: 0.1586184, NDCG: 0.0962366, F1: 0.0705751, HIT_RATE: 0.4964570, ARHR: 0.1900099, NOVELTY: 0.0048102, AVERAGE_POPULARITY: 0.1196892, DIVERSITY_MEAN_INTER_LIST: 0.9789941, DIVERSITY_HERFINDAHL: 0.9978561, COVERAGE_ITEM: 0.2711838, COVERAGE_ITEM_CORRECT: 0.0282579, COVERAGE_USER: 0.9357646, COVERAGE_USER_CORRECT: 0.3220058, DIVERSITY_GINI: 0.1040076, SHANNON_ENTROPY: 10.9742299, \n",
      "\n",
      "Iteration No: 8 ended. Search finished for the next optimal point.\n",
      "Time taken: 2.5778\n",
      "Function value obtained: -0.0572\n",
      "Current minimum: -0.0642\n",
      "Iteration No: 9 started. Searching for the next optimal point.\n",
      "ItemKNNSimilarityHybridRecommender: URM Detected 35 (0.44 %) cold users.\n",
      "ItemKNNSimilarityHybridRecommender: URM Detected 2037 (7.84 %) cold items.\n",
      "SearchBayesianSkopt: Testing config: {'topK': 45, 'alpha': 0.16599037774567918}\n",
      "EvaluatorHoldout: Processed 2258 ( 100.00% ) in 1.45 sec. Users per second: 1558\n",
      "SearchBayesianSkopt: New best config found. Config 8: {'topK': 45, 'alpha': 0.16599037774567918} - results: ROC_AUC: 0.2350852, PRECISION: 0.0562888, PRECISION_RECALL_MIN_DEN: 0.1445501, RECALL: 0.1383564, MAP: 0.0650577, MRR: 0.1750830, NDCG: 0.1083594, F1: 0.0800216, HIT_RATE: 0.5628875, ARHR: 0.2114069, NOVELTY: 0.0048037, AVERAGE_POPULARITY: 0.1164717, DIVERSITY_MEAN_INTER_LIST: 0.9804068, DIVERSITY_HERFINDAHL: 0.9979973, COVERAGE_ITEM: 0.2701059, COVERAGE_ITEM_CORRECT: 0.0340712, COVERAGE_USER: 0.9357646, COVERAGE_USER_CORRECT: 0.3576461, DIVERSITY_GINI: 0.1048292, SHANNON_ENTROPY: 11.0371120, \n",
      "\n",
      "EvaluatorHoldout: Processed 2258 ( 100.00% ) in 1.37 sec. Users per second: 1648\n",
      "SearchBayesianSkopt: Best config evaluated with evaluator_test. Config: {'topK': 45, 'alpha': 0.16599037774567918} - results:\n",
      "CUTOFF: 10 - ROC_AUC: 0.2350852, PRECISION: 0.0562888, PRECISION_RECALL_MIN_DEN: 0.1445501, RECALL: 0.1383564, MAP: 0.0650577, MRR: 0.1750830, NDCG: 0.1083594, F1: 0.0800216, HIT_RATE: 0.5628875, ARHR: 0.2114069, NOVELTY: 0.0048037, AVERAGE_POPULARITY: 0.1164717, DIVERSITY_MEAN_INTER_LIST: 0.9804068, DIVERSITY_HERFINDAHL: 0.9979973, COVERAGE_ITEM: 0.2701059, COVERAGE_ITEM_CORRECT: 0.0340712, COVERAGE_USER: 0.9357646, COVERAGE_USER_CORRECT: 0.3576461, DIVERSITY_GINI: 0.1048292, SHANNON_ENTROPY: 11.0371120, \n",
      "\n",
      "\n",
      "Iteration No: 9 ended. Search finished for the next optimal point.\n",
      "Time taken: 4.2405\n",
      "Function value obtained: -0.0651\n",
      "Current minimum: -0.0651\n",
      "Iteration No: 10 started. Searching for the next optimal point.\n",
      "ItemKNNSimilarityHybridRecommender: URM Detected 35 (0.44 %) cold users.\n",
      "ItemKNNSimilarityHybridRecommender: URM Detected 2037 (7.84 %) cold items.\n",
      "SearchBayesianSkopt: Testing config: {'topK': 656, 'alpha': 0.6959557911244393}\n",
      "EvaluatorHoldout: Processed 2258 ( 100.00% ) in 1.62 sec. Users per second: 1391\n",
      "SearchBayesianSkopt: Config 9 is suboptimal. Config: {'topK': 656, 'alpha': 0.6959557911244393} - results: ROC_AUC: 0.2223643, PRECISION: 0.0503986, PRECISION_RECALL_MIN_DEN: 0.1269096, RECALL: 0.1213304, MAP: 0.0570868, MRR: 0.1608141, NDCG: 0.0962326, F1: 0.0712155, HIT_RATE: 0.5039858, ARHR: 0.1911753, NOVELTY: 0.0046385, AVERAGE_POPULARITY: 0.1352170, DIVERSITY_MEAN_INTER_LIST: 0.9737132, DIVERSITY_HERFINDAHL: 0.9973282, COVERAGE_ITEM: 0.2038114, COVERAGE_ITEM_CORRECT: 0.0265255, COVERAGE_USER: 0.9357646, COVERAGE_USER_CORRECT: 0.3340240, DIVERSITY_GINI: 0.0648779, SHANNON_ENTROPY: 10.3892202, \n",
      "\n",
      "Iteration No: 10 ended. Search finished for the next optimal point.\n",
      "Time taken: 4.0699\n",
      "Function value obtained: -0.0571\n",
      "Current minimum: -0.0651\n",
      "SearchBayesianSkopt: Search complete. Best config is 8: {'topK': 45, 'alpha': 0.16599037774567918}\n",
      "\n",
      "ItemKNNSimilarityHybridRecommender: URM Detected 1079 (4.15 %) cold items.\n",
      "SearchBayesianSkopt: Evaluation with constructor data for final test. Using best config: {'topK': 45, 'alpha': 0.16599037774567918}\n",
      "EvaluatorHoldout: Processed 2258 ( 100.00% ) in 1.45 sec. Users per second: 1558\n",
      "SearchBayesianSkopt: Best config evaluated with evaluator_test with constructor data for final test. Config: {'topK': 45, 'alpha': 0.16599037774567918} - results:\n",
      "CUTOFF: 10 - ROC_AUC: 0.0000000, PRECISION: 0.0000000, PRECISION_RECALL_MIN_DEN: 0.0000000, RECALL: 0.0000000, MAP: 0.0000000, MRR: 0.0000000, NDCG: 0.0000000, F1: 0.0000000, HIT_RATE: 0.0000000, ARHR: 0.0000000, NOVELTY: 0.0048347, AVERAGE_POPULARITY: 0.1143645, DIVERSITY_MEAN_INTER_LIST: 0.9801054, DIVERSITY_HERFINDAHL: 0.9979671, COVERAGE_ITEM: 0.2649856, COVERAGE_ITEM_CORRECT: 0.0000000, COVERAGE_USER: 0.9357646, COVERAGE_USER_CORRECT: 0.0000000, DIVERSITY_GINI: 0.1016598, SHANNON_ENTROPY: 10.9980671, \n",
      "\n",
      "\n",
      "SearchBayesianSkopt: Saving model in result_experiments/ItemKNNSimilarityHybridRecommender\n",
      "\n",
      "ItemKNNSimilarityHybridRecommender: Saving model in file 'result_experiments/ItemKNNSimilarityHybridRecommender_best_model_last'\n",
      "ItemKNNSimilarityHybridRecommender: Saving complete\n"
     ]
    },
    {
     "output_type": "execute_result",
     "data": {
      "text/plain": [
       "{'topK': 45, 'alpha': 0.16599037774567918}"
      ]
     },
     "metadata": {},
     "execution_count": 193
    }
   ],
   "source": [
    "from skopt.space import Real, Integer, Categorical\n",
    "\n",
    "hyperparameters_range_dictionary = {}\n",
    "hyperparameters_range_dictionary[\"topK\"] = Integer(1, 800)\n",
    "hyperparameters_range_dictionary[\"alpha\"] = Real(low = 0, high = 1, prior = 'uniform')\n",
    "\n",
    "grouped_users = dataset.groupby(['row']).count()\n",
    "\n",
    "# All users present into the dataser\n",
    "sorted_users = grouped_users.sort_values(by=['col'], ascending=True)\n",
    "sorted_users = sorted_users.index.to_numpy()\n",
    "print(len(sorted_users))\n",
    "\n",
    "# User for the firt target of users 0-2 interaction\n",
    "grouped_users = grouped_users[grouped_users['col'] > 9]\n",
    "users_in_group = grouped_users.sort_values(by=['col'], ascending=True)\n",
    "users_in_group = users_in_group.index.to_numpy()\n",
    "\n",
    "user_last_group = users_in_group\n",
    "\n",
    "print(len(user_last_group))\n",
    "\n",
    "users_not_in_group_flag = np.isin(sorted_users, users_in_group, invert = True)\n",
    "users_not_in_group = sorted_users[users_not_in_group_flag]\n",
    "\n",
    "evaluator_validation = EvaluatorHoldout(URM_validation, cutoff_list=[10], ignore_users = users_not_in_group)\n",
    "\n",
    "from ParameterTuning.SearchBayesianSkopt import SearchBayesianSkopt\n",
    "\n",
    "recommender_class = ItemKNNSimilarityHybridRecommender\n",
    "\n",
    "parameterSearch = SearchBayesianSkopt(recommender_class,\n",
    "                                 evaluator_validation=evaluator_validation,\n",
    "                                 evaluator_test=evaluator_validation)\n",
    "\n",
    "from ParameterTuning.SearchAbstractClass import SearchInputRecommenderArgs\n",
    "  \n",
    "recommender_input_args = SearchInputRecommenderArgs(\n",
    "    CONSTRUCTOR_POSITIONAL_ARGS = [URM_train, recommender_alpha.W_sparse, recommender_beta_ICM.W_sparse],\n",
    "    CONSTRUCTOR_KEYWORD_ARGS = {},\n",
    "    FIT_POSITIONAL_ARGS = [],\n",
    "    FIT_KEYWORD_ARGS = {}\n",
    ")\n",
    "\n",
    "recommender_input_args_last_test = SearchInputRecommenderArgs(\n",
    "    CONSTRUCTOR_POSITIONAL_ARGS = [URM_all, recommender_alpha.W_sparse, recommender_beta_ICM.W_sparse],\n",
    "    CONSTRUCTOR_KEYWORD_ARGS = {},\n",
    "    FIT_POSITIONAL_ARGS = [],\n",
    "    FIT_KEYWORD_ARGS = {}\n",
    ")\n",
    "\n",
    "import os\n",
    "\n",
    "output_folder_path = \"result_experiments/\"\n",
    "\n",
    "# If directory does not exist, create\n",
    "if not os.path.exists(output_folder_path):\n",
    "    os.makedirs(output_folder_path)\n",
    "    \n",
    "n_cases = 10\n",
    "n_random_starts = int(n_cases*0.3)\n",
    "metric_to_optimize = \"MAP\" \n",
    "\n",
    "parameterSearch.search(recommender_input_args,\n",
    "                       recommender_input_args_last_test = recommender_input_args_last_test,\n",
    "                       parameter_search_space = hyperparameters_range_dictionary,\n",
    "                       n_cases = n_cases,\n",
    "                       n_random_starts = n_random_starts,\n",
    "                       save_model = \"last\",\n",
    "                       output_folder_path = output_folder_path,\n",
    "                       output_file_name_root = recommender_class.RECOMMENDER_NAME,\n",
    "                       metric_to_optimize = metric_to_optimize,\n",
    "                      )\n",
    "\n",
    "from Base.DataIO import DataIO\n",
    "\n",
    "data_loader = DataIO(folder_path = output_folder_path)\n",
    "\n",
    "search_metadata = data_loader.load_data(recommender_class.RECOMMENDER_NAME + \"_metadata.zip\")\n",
    "\n",
    "hyperparameters_list = search_metadata[\"hyperparameters_list\"]\n",
    "\n",
    "best_parameters = search_metadata[\"hyperparameters_best\"]\n",
    "best_parameters"
   ]
  },
  {
   "cell_type": "code",
   "execution_count": null,
   "metadata": {},
   "outputs": [],
   "source": []
  },
  {
   "cell_type": "code",
   "execution_count": 194,
   "metadata": {},
   "outputs": [
    {
     "output_type": "execute_result",
     "data": {
      "text/plain": [
       "      user_id\n",
       "0           0\n",
       "1           1\n",
       "2           2\n",
       "3           3\n",
       "4           4\n",
       "...       ...\n",
       "7939     7942\n",
       "7940     7943\n",
       "7941     7944\n",
       "7942     7945\n",
       "7943     7946\n",
       "\n",
       "[7944 rows x 1 columns]"
      ],
      "text/html": "<div>\n<style scoped>\n    .dataframe tbody tr th:only-of-type {\n        vertical-align: middle;\n    }\n\n    .dataframe tbody tr th {\n        vertical-align: top;\n    }\n\n    .dataframe thead th {\n        text-align: right;\n    }\n</style>\n<table border=\"1\" class=\"dataframe\">\n  <thead>\n    <tr style=\"text-align: right;\">\n      <th></th>\n      <th>user_id</th>\n    </tr>\n  </thead>\n  <tbody>\n    <tr>\n      <th>0</th>\n      <td>0</td>\n    </tr>\n    <tr>\n      <th>1</th>\n      <td>1</td>\n    </tr>\n    <tr>\n      <th>2</th>\n      <td>2</td>\n    </tr>\n    <tr>\n      <th>3</th>\n      <td>3</td>\n    </tr>\n    <tr>\n      <th>4</th>\n      <td>4</td>\n    </tr>\n    <tr>\n      <th>...</th>\n      <td>...</td>\n    </tr>\n    <tr>\n      <th>7939</th>\n      <td>7942</td>\n    </tr>\n    <tr>\n      <th>7940</th>\n      <td>7943</td>\n    </tr>\n    <tr>\n      <th>7941</th>\n      <td>7944</td>\n    </tr>\n    <tr>\n      <th>7942</th>\n      <td>7945</td>\n    </tr>\n    <tr>\n      <th>7943</th>\n      <td>7946</td>\n    </tr>\n  </tbody>\n</table>\n<p>7944 rows × 1 columns</p>\n</div>"
     },
     "metadata": {},
     "execution_count": 194
    }
   ],
   "source": [
    "test_users = pd.read_csv('../data_target_users_test.csv')\n",
    "test_users"
   ]
  },
  {
   "cell_type": "code",
   "execution_count": 195,
   "metadata": {},
   "outputs": [
    {
     "output_type": "stream",
     "name": "stdout",
     "text": [
      "7944\n2413\n1085\n1085\n2413\n4446\n"
     ]
    }
   ],
   "source": [
    "user_id = test_users['user_id'].to_numpy()\n",
    "user_first_group = user_first_group[np.isin(user_first_group, user_id)]\n",
    "user_last_group = user_last_group[np.isin(user_last_group, user_id)]\n",
    "print(len(user_id))\n",
    "print(len(user_last_group))\n",
    "print(len(user_first_group)) # 1085 perche sono stati rimossi i 3 utenti di cui non voglio fare reccomend\n",
    "\n",
    "users_middle_flag = np.isin(user_id, user_first_group, invert = True)\n",
    "user_middle = user_id[users_middle_flag]\n",
    "\n",
    "users_middle_flag = np.isin(user_middle, user_last_group, invert = True)\n",
    "user_middle = user_middle[users_middle_flag]\n",
    "\n",
    "print(len(user_first_group))\n",
    "print(len(user_last_group))\n",
    "print(len(user_middle))"
   ]
  },
  {
   "cell_type": "code",
   "execution_count": 196,
   "metadata": {},
   "outputs": [
    {
     "output_type": "stream",
     "name": "stdout",
     "text": [
      "P3alphaRecommender: URM Detected 1079 (4.15 %) cold items.\n",
      "RP3betaRecommender: URM Detected 2 (0.01 %) cold users.\n",
      "RP3betaRecommender: URM Detected 25 (0.10 %) cold items.\n",
      "ItemKNNSimilarityHybridRecommender: URM Detected 1079 (4.15 %) cold items.\n",
      "ItemKNNSimilarityHybridRecommender: URM Detected 1079 (4.15 %) cold items.\n",
      "ItemKNNSimilarityHybridRecommender: URM Detected 1079 (4.15 %) cold items.\n"
     ]
    }
   ],
   "source": [
    "recommender_alpha = P3alphaRecommender(URM_all)\n",
    "recommender_alpha.fit(topK=170, alpha = 0.45, implicit = True)\n",
    "\n",
    "recommender_beta_ICM = RP3betaRecommender(ICM_all.T)\n",
    "recommender_beta_ICM.fit(topK=70, alpha=0.2, beta=0.5, implicit=False)\n",
    "recommender_beta_ICM.URM_train = URM_all\n",
    "\n",
    "hybridrecommender = ItemKNNSimilarityHybridRecommender(URM_all, recommender_alpha.W_sparse, recommender_beta_ICM.W_sparse)\n",
    "hybridrecommender.fit(topK=200, alpha = 0.1)\n",
    "\n",
    "hybridrecommender_first_group = ItemKNNSimilarityHybridRecommender(URM_all, recommender_alpha.W_sparse, recommender_beta_ICM.W_sparse)\n",
    "hybridrecommender_first_group.fit(topK=169, alpha = 0.37626543131707546)\n",
    "\n",
    "hybridrecommender_last_group = ItemKNNSimilarityHybridRecommender(URM_all, recommender_alpha.W_sparse, recommender_beta_ICM.W_sparse)\n",
    "hybridrecommender_last_group.fit(topK=497, alpha = 0.13958873680066322)\n",
    "\n",
    "recommendations_all = hybridrecommender.recommend(user_middle,cutoff = 10)\n",
    "recommendations_first = hybridrecommender_first_group.recommend(user_first_group,cutoff = 10)\n",
    "recommendations_last = hybridrecommender_last_group.recommend(user_last_group,cutoff = 10)\n"
   ]
  },
  {
   "cell_type": "code",
   "execution_count": 197,
   "metadata": {
    "tags": []
   },
   "outputs": [
    {
     "output_type": "stream",
     "name": "stdout",
     "text": [
      "4446\n1085\n2413\n"
     ]
    }
   ],
   "source": [
    "for index in range(len(recommendations_all)):\n",
    "    recommendations_all[index]=np.array(recommendations_all[index])\n",
    "\n",
    "print(len(recommendations_all))\n",
    "\n",
    "for index in range(len(recommendations_first)):\n",
    "    recommendations_first[index]=np.array(recommendations_first[index])\n",
    "\n",
    "print(len(recommendations_first))\n",
    "\n",
    "for index in range(len(recommendations_last)):\n",
    "    recommendations_last[index]=np.array(recommendations_last[index])\n",
    "\n",
    "print(len(recommendations_last))"
   ]
  },
  {
   "cell_type": "code",
   "execution_count": 198,
   "metadata": {},
   "outputs": [
    {
     "output_type": "error",
     "ename": "AttributeError",
     "evalue": "'numpy.ndarray' object has no attribute 'index'",
     "traceback": [
      "\u001b[0;31m---------------------------------------------------------------------------\u001b[0m",
      "\u001b[0;31mAttributeError\u001b[0m                            Traceback (most recent call last)",
      "\u001b[0;32m<ipython-input-198-cd3d7ff536a7>\u001b[0m in \u001b[0;36m<module>\u001b[0;34m\u001b[0m\n\u001b[1;32m      4\u001b[0m \u001b[0;32mfor\u001b[0m \u001b[0mindex\u001b[0m \u001b[0;32min\u001b[0m \u001b[0melementi\u001b[0m\u001b[0;34m:\u001b[0m\u001b[0;34m\u001b[0m\u001b[0;34m\u001b[0m\u001b[0m\n\u001b[1;32m      5\u001b[0m     \u001b[0;32mif\u001b[0m \u001b[0melementi\u001b[0m\u001b[0;34m[\u001b[0m\u001b[0mindex\u001b[0m\u001b[0;34m]\u001b[0m \u001b[0;32min\u001b[0m \u001b[0muser_first_group\u001b[0m\u001b[0;34m:\u001b[0m\u001b[0;34m\u001b[0m\u001b[0;34m\u001b[0m\u001b[0m\n\u001b[0;32m----> 6\u001b[0;31m         \u001b[0mlocal_index\u001b[0m \u001b[0;34m=\u001b[0m \u001b[0muser_first_group\u001b[0m\u001b[0;34m.\u001b[0m\u001b[0mindex\u001b[0m\u001b[0;34m(\u001b[0m\u001b[0melementi\u001b[0m\u001b[0;34m[\u001b[0m\u001b[0mindex\u001b[0m\u001b[0;34m]\u001b[0m\u001b[0;34m)\u001b[0m\u001b[0;34m\u001b[0m\u001b[0;34m\u001b[0m\u001b[0m\n\u001b[0m\u001b[1;32m      7\u001b[0m         \u001b[0mrecommendations\u001b[0m\u001b[0;34m.\u001b[0m\u001b[0mappend\u001b[0m\u001b[0;34m(\u001b[0m\u001b[0mrecommendations_first\u001b[0m\u001b[0;34m[\u001b[0m\u001b[0mlocal_index\u001b[0m\u001b[0;34m]\u001b[0m\u001b[0;34m)\u001b[0m\u001b[0;34m\u001b[0m\u001b[0;34m\u001b[0m\u001b[0m\n\u001b[1;32m      8\u001b[0m \u001b[0;34m\u001b[0m\u001b[0m\n",
      "\u001b[0;31mAttributeError\u001b[0m: 'numpy.ndarray' object has no attribute 'index'"
     ]
    }
   ],
   "source": [
    "elementi = test_users['user_id'].to_numpy()\n",
    "recommendations = []\n",
    "\n",
    "for index in elementi:\n",
    "    if elementi[index] in user_first_group:\n",
    "        local_index = np.where(user_first_group == elementi[index]) \n",
    "        recommendations.append(recommendations_first[local_index])\n",
    "        \n",
    "    if elementi[index] in user_middle:\n",
    "        local_index = np.where(user_middle == elementi[index]) \n",
    "        recommendations.append(recommendations_all[local_index])\n",
    "\n",
    "    if elementi[index] in user_last_group:\n",
    "        local_index = np.where(user_last_group == elementi[index]) \n",
    "        recommendations.append(recommendations_last[local_index])\n",
    "\n",
    "print(recommendations)"
   ]
  },
  {
   "cell_type": "code",
   "execution_count": 178,
   "metadata": {},
   "outputs": [],
   "source": [
    "test_users['item_list']= recommendations\n",
    "#test_users['item_list'] =  test_users['item_list'].apply(lambda x: x.replace('[','').replace(']','')) \n",
    "test_users['item_list'] = pd.DataFrame([str(line).strip('[').strip(']').replace(\"'\",\"\") for line in test_users['item_list']])\n",
    "\n",
    "#convert the string columns to int\n",
    "#test_users['item_list'] = test_users['item_list'].astype(int)\n",
    "test_users\n",
    "test_users.to_csv('submission.csv', index=False)\n"
   ]
  },
  {
   "cell_type": "code",
   "execution_count": null,
   "metadata": {},
   "outputs": [],
   "source": []
  }
 ],
 "metadata": {
  "kernelspec": {
   "display_name": "Python 3",
   "language": "python",
   "name": "python3"
  },
  "language_info": {
   "codemirror_mode": {
    "name": "ipython",
    "version": 3
   },
   "file_extension": ".py",
   "mimetype": "text/x-python",
   "name": "python",
   "nbconvert_exporter": "python",
   "pygments_lexer": "ipython3",
   "version": "3.8.5-final"
  }
 },
 "nbformat": 4,
 "nbformat_minor": 4
}