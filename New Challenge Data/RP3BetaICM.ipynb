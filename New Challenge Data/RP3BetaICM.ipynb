{
 "cells": [
  {
   "cell_type": "markdown",
   "metadata": {},
   "source": [
    "# Data loading \n",
    "Next cells are used to load the data we need."
   ]
  },
  {
   "cell_type": "code",
   "execution_count": 1,
   "metadata": {},
   "outputs": [],
   "source": [
    "import pandas as pd\n",
    "import numpy as np \n",
    "import scipy.sparse as sps\n",
    "import os\n",
    "import sys\n",
    "import matplotlib.pyplot as plt\n",
    "sys.path.append('..')\n"
   ]
  },
  {
   "cell_type": "code",
   "execution_count": 2,
   "metadata": {},
   "outputs": [
    {
     "data": {
      "text/html": [
       "<div>\n",
       "<style scoped>\n",
       "    .dataframe tbody tr th:only-of-type {\n",
       "        vertical-align: middle;\n",
       "    }\n",
       "\n",
       "    .dataframe tbody tr th {\n",
       "        vertical-align: top;\n",
       "    }\n",
       "\n",
       "    .dataframe thead th {\n",
       "        text-align: right;\n",
       "    }\n",
       "</style>\n",
       "<table border=\"1\" class=\"dataframe\">\n",
       "  <thead>\n",
       "    <tr style=\"text-align: right;\">\n",
       "      <th></th>\n",
       "      <th>row</th>\n",
       "      <th>col</th>\n",
       "      <th>data</th>\n",
       "    </tr>\n",
       "  </thead>\n",
       "  <tbody>\n",
       "    <tr>\n",
       "      <th>0</th>\n",
       "      <td>0</td>\n",
       "      <td>10080</td>\n",
       "      <td>1.0</td>\n",
       "    </tr>\n",
       "    <tr>\n",
       "      <th>1</th>\n",
       "      <td>0</td>\n",
       "      <td>19467</td>\n",
       "      <td>1.0</td>\n",
       "    </tr>\n",
       "    <tr>\n",
       "      <th>2</th>\n",
       "      <td>1</td>\n",
       "      <td>2665</td>\n",
       "      <td>1.0</td>\n",
       "    </tr>\n",
       "    <tr>\n",
       "      <th>3</th>\n",
       "      <td>1</td>\n",
       "      <td>7494</td>\n",
       "      <td>1.0</td>\n",
       "    </tr>\n",
       "    <tr>\n",
       "      <th>4</th>\n",
       "      <td>1</td>\n",
       "      <td>17068</td>\n",
       "      <td>1.0</td>\n",
       "    </tr>\n",
       "    <tr>\n",
       "      <th>...</th>\n",
       "      <td>...</td>\n",
       "      <td>...</td>\n",
       "      <td>...</td>\n",
       "    </tr>\n",
       "    <tr>\n",
       "      <th>113263</th>\n",
       "      <td>7945</td>\n",
       "      <td>2476</td>\n",
       "      <td>1.0</td>\n",
       "    </tr>\n",
       "    <tr>\n",
       "      <th>113264</th>\n",
       "      <td>7945</td>\n",
       "      <td>12319</td>\n",
       "      <td>1.0</td>\n",
       "    </tr>\n",
       "    <tr>\n",
       "      <th>113265</th>\n",
       "      <td>7945</td>\n",
       "      <td>21384</td>\n",
       "      <td>1.0</td>\n",
       "    </tr>\n",
       "    <tr>\n",
       "      <th>113266</th>\n",
       "      <td>7946</td>\n",
       "      <td>8699</td>\n",
       "      <td>1.0</td>\n",
       "    </tr>\n",
       "    <tr>\n",
       "      <th>113267</th>\n",
       "      <td>7946</td>\n",
       "      <td>19178</td>\n",
       "      <td>1.0</td>\n",
       "    </tr>\n",
       "  </tbody>\n",
       "</table>\n",
       "<p>113268 rows × 3 columns</p>\n",
       "</div>"
      ],
      "text/plain": [
       "         row    col  data\n",
       "0          0  10080   1.0\n",
       "1          0  19467   1.0\n",
       "2          1   2665   1.0\n",
       "3          1   7494   1.0\n",
       "4          1  17068   1.0\n",
       "...      ...    ...   ...\n",
       "113263  7945   2476   1.0\n",
       "113264  7945  12319   1.0\n",
       "113265  7945  21384   1.0\n",
       "113266  7946   8699   1.0\n",
       "113267  7946  19178   1.0\n",
       "\n",
       "[113268 rows x 3 columns]"
      ]
     },
     "execution_count": 2,
     "metadata": {},
     "output_type": "execute_result"
    }
   ],
   "source": [
    "#data which contains users (row), items(col) and implicit interaction (data)\n",
    "dataset = pd.read_csv('data_train.csv')\n",
    "dataset"
   ]
  },
  {
   "cell_type": "markdown",
   "metadata": {},
   "source": [
    "# Data pre-processing\n",
    "Pre-processing of data to check for missing users, items ecc..."
   ]
  },
  {
   "cell_type": "code",
   "execution_count": 3,
   "metadata": {},
   "outputs": [
    {
     "data": {
      "text/plain": [
       "(7947, 25975)"
      ]
     },
     "execution_count": 3,
     "metadata": {},
     "output_type": "execute_result"
    }
   ],
   "source": [
    "users = dataset.row\n",
    "items = dataset.col\n",
    "data = dataset.data\n",
    "URM_all = sps.coo_matrix((data, (users, items)))\n",
    "URM_all = URM_all.tocsr() #fast row access -> fast access to users \n",
    "URM_all.shape"
   ]
  },
  {
   "cell_type": "code",
   "execution_count": 4,
   "metadata": {},
   "outputs": [
    {
     "data": {
      "text/html": [
       "<div>\n",
       "<style scoped>\n",
       "    .dataframe tbody tr th:only-of-type {\n",
       "        vertical-align: middle;\n",
       "    }\n",
       "\n",
       "    .dataframe tbody tr th {\n",
       "        vertical-align: top;\n",
       "    }\n",
       "\n",
       "    .dataframe thead th {\n",
       "        text-align: right;\n",
       "    }\n",
       "</style>\n",
       "<table border=\"1\" class=\"dataframe\">\n",
       "  <thead>\n",
       "    <tr style=\"text-align: right;\">\n",
       "      <th></th>\n",
       "      <th>row</th>\n",
       "      <th>col</th>\n",
       "      <th>data</th>\n",
       "    </tr>\n",
       "  </thead>\n",
       "  <tbody>\n",
       "    <tr>\n",
       "      <th>0</th>\n",
       "      <td>0</td>\n",
       "      <td>1185</td>\n",
       "      <td>1.015524</td>\n",
       "    </tr>\n",
       "    <tr>\n",
       "      <th>1</th>\n",
       "      <td>0</td>\n",
       "      <td>2507</td>\n",
       "      <td>0.459024</td>\n",
       "    </tr>\n",
       "    <tr>\n",
       "      <th>2</th>\n",
       "      <td>0</td>\n",
       "      <td>3534</td>\n",
       "      <td>0.227742</td>\n",
       "    </tr>\n",
       "    <tr>\n",
       "      <th>3</th>\n",
       "      <td>0</td>\n",
       "      <td>8766</td>\n",
       "      <td>0.501549</td>\n",
       "    </tr>\n",
       "    <tr>\n",
       "      <th>4</th>\n",
       "      <td>0</td>\n",
       "      <td>10862</td>\n",
       "      <td>0.297011</td>\n",
       "    </tr>\n",
       "    <tr>\n",
       "      <th>...</th>\n",
       "      <td>...</td>\n",
       "      <td>...</td>\n",
       "      <td>...</td>\n",
       "    </tr>\n",
       "    <tr>\n",
       "      <th>490686</th>\n",
       "      <td>25974</td>\n",
       "      <td>12554</td>\n",
       "      <td>0.963016</td>\n",
       "    </tr>\n",
       "    <tr>\n",
       "      <th>490687</th>\n",
       "      <td>25974</td>\n",
       "      <td>13003</td>\n",
       "      <td>0.104613</td>\n",
       "    </tr>\n",
       "    <tr>\n",
       "      <th>490688</th>\n",
       "      <td>25974</td>\n",
       "      <td>16236</td>\n",
       "      <td>0.118760</td>\n",
       "    </tr>\n",
       "    <tr>\n",
       "      <th>490689</th>\n",
       "      <td>25974</td>\n",
       "      <td>18797</td>\n",
       "      <td>0.363301</td>\n",
       "    </tr>\n",
       "    <tr>\n",
       "      <th>490690</th>\n",
       "      <td>25974</td>\n",
       "      <td>19629</td>\n",
       "      <td>0.129141</td>\n",
       "    </tr>\n",
       "  </tbody>\n",
       "</table>\n",
       "<p>490691 rows × 3 columns</p>\n",
       "</div>"
      ],
      "text/plain": [
       "          row    col      data\n",
       "0           0   1185  1.015524\n",
       "1           0   2507  0.459024\n",
       "2           0   3534  0.227742\n",
       "3           0   8766  0.501549\n",
       "4           0  10862  0.297011\n",
       "...       ...    ...       ...\n",
       "490686  25974  12554  0.963016\n",
       "490687  25974  13003  0.104613\n",
       "490688  25974  16236  0.118760\n",
       "490689  25974  18797  0.363301\n",
       "490690  25974  19629  0.129141\n",
       "\n",
       "[490691 rows x 3 columns]"
      ]
     },
     "execution_count": 4,
     "metadata": {},
     "output_type": "execute_result"
    }
   ],
   "source": [
    "ICM_df = pd.read_csv('data_ICM_title_abstract.csv')\n",
    "ICM_df"
   ]
  },
  {
   "cell_type": "code",
   "execution_count": 5,
   "metadata": {},
   "outputs": [
    {
     "data": {
      "text/plain": [
       "(25975, 20000)"
      ]
     },
     "execution_count": 5,
     "metadata": {},
     "output_type": "execute_result"
    }
   ],
   "source": [
    "items = ICM_df.row\n",
    "features = ICM_df.col\n",
    "data = ICM_df.data\n",
    "ICM_all = sps.coo_matrix((data, (items, features)))\n",
    "ICM_all = ICM_all.tocsr() #fast row access -> fast access to users \n",
    "ICM_all.shape"
   ]
  },
  {
   "cell_type": "code",
   "execution_count": 6,
   "metadata": {},
   "outputs": [
    {
     "name": "stdout",
     "output_type": "stream",
     "text": [
      "Warning: 43 (0.54 %) of 7947 users have no train items\n",
      "Warning: 2955 (37.18 %) of 7947 users have no sampled items\n"
     ]
    }
   ],
   "source": [
    "from Base.Evaluation.Evaluator import EvaluatorHoldout\n",
    "from Data_manager.split_functions.split_train_validation_random_holdout import split_train_in_two_percentage_global_sample\n",
    "\n",
    "#splitting data into train and validation (from the previous training data)\n",
    "URM_train, URM_validation = split_train_in_two_percentage_global_sample(URM_all, train_percentage = 0.85)"
   ]
  },
  {
   "cell_type": "code",
   "execution_count": 7,
   "metadata": {},
   "outputs": [
    {
     "data": {
      "text/plain": [
       "<7947x25975 sparse matrix of type '<class 'numpy.float64'>'\n",
       "\twith 113268 stored elements in Compressed Sparse Row format>"
      ]
     },
     "execution_count": 7,
     "metadata": {},
     "output_type": "execute_result"
    }
   ],
   "source": [
    "URM_all"
   ]
  },
  {
   "cell_type": "code",
   "execution_count": 8,
   "metadata": {},
   "outputs": [
    {
     "data": {
      "text/plain": [
       "<25975x20000 sparse matrix of type '<class 'numpy.float64'>'\n",
       "\twith 490691 stored elements in Compressed Sparse Row format>"
      ]
     },
     "execution_count": 8,
     "metadata": {},
     "output_type": "execute_result"
    }
   ],
   "source": [
    "ICM_all"
   ]
  },
  {
   "cell_type": "code",
   "execution_count": 9,
   "metadata": {},
   "outputs": [],
   "source": [
    "#evaluator for validation (used for hyperparameter tuning)\n",
    "evaluator_validation = EvaluatorHoldout(URM_validation, cutoff_list=[10])"
   ]
  },
  {
   "cell_type": "code",
   "execution_count": 10,
   "metadata": {},
   "outputs": [
    {
     "name": "stdout",
     "output_type": "stream",
     "text": [
      "RP3betaRecommender: URM Detected 43 (0.54 %) cold users.\n",
      "RP3betaRecommender: URM Detected 2029 (7.81 %) cold items.\n"
     ]
    }
   ],
   "source": [
    "from GraphBased.RP3betaRecommender import RP3betaRecommender\n",
    "\n",
    "recommender = RP3betaRecommender(URM_train)"
   ]
  },
  {
   "cell_type": "code",
   "execution_count": 14,
   "metadata": {},
   "outputs": [
    {
     "name": "stdout",
     "output_type": "stream",
     "text": [
      "RP3betaRecommender: URM Detected 2 (0.01 %) cold users.\n",
      "RP3betaRecommender: URM Detected 25 (0.10 %) cold items.\n",
      "EvaluatorHoldout: Processed 4992 ( 100.00% ) in 3.51 sec. Users per second: 1423\n",
      "RP3betaRecommender: URM Detected 2 (0.01 %) cold users.\n",
      "RP3betaRecommender: URM Detected 25 (0.10 %) cold items.\n",
      "EvaluatorHoldout: Processed 4992 ( 100.00% ) in 3.64 sec. Users per second: 1370\n",
      "RP3betaRecommender: URM Detected 2 (0.01 %) cold users.\n",
      "RP3betaRecommender: URM Detected 25 (0.10 %) cold items.\n",
      "EvaluatorHoldout: Processed 4992 ( 100.00% ) in 3.57 sec. Users per second: 1399\n",
      "RP3betaRecommender: URM Detected 2 (0.01 %) cold users.\n",
      "RP3betaRecommender: URM Detected 25 (0.10 %) cold items.\n",
      "EvaluatorHoldout: Processed 4992 ( 100.00% ) in 3.86 sec. Users per second: 1293\n",
      "RP3betaRecommender: URM Detected 2 (0.01 %) cold users.\n",
      "RP3betaRecommender: URM Detected 25 (0.10 %) cold items.\n",
      "EvaluatorHoldout: Processed 4992 ( 100.00% ) in 3.80 sec. Users per second: 1312\n",
      "RP3betaRecommender: URM Detected 2 (0.01 %) cold users.\n",
      "RP3betaRecommender: URM Detected 25 (0.10 %) cold items.\n",
      "EvaluatorHoldout: Processed 4992 ( 100.00% ) in 3.47 sec. Users per second: 1438\n",
      "RP3betaRecommender: URM Detected 2 (0.01 %) cold users.\n",
      "RP3betaRecommender: URM Detected 25 (0.10 %) cold items.\n",
      "EvaluatorHoldout: Processed 4992 ( 100.00% ) in 3.86 sec. Users per second: 1292\n",
      "RP3betaRecommender: URM Detected 2 (0.01 %) cold users.\n",
      "RP3betaRecommender: URM Detected 25 (0.10 %) cold items.\n",
      "EvaluatorHoldout: Processed 4992 ( 100.00% ) in 3.47 sec. Users per second: 1437\n",
      "RP3betaRecommender: URM Detected 2 (0.01 %) cold users.\n",
      "RP3betaRecommender: URM Detected 25 (0.10 %) cold items.\n",
      "EvaluatorHoldout: Processed 4992 ( 100.00% ) in 5.23 sec. Users per second: 954\n",
      "RP3betaRecommender: URM Detected 2 (0.01 %) cold users.\n",
      "RP3betaRecommender: URM Detected 25 (0.10 %) cold items.\n",
      "EvaluatorHoldout: Processed 4992 ( 100.00% ) in 3.92 sec. Users per second: 1273\n",
      "RP3betaRecommender: URM Detected 2 (0.01 %) cold users.\n",
      "RP3betaRecommender: URM Detected 25 (0.10 %) cold items.\n",
      "EvaluatorHoldout: Processed 4992 ( 100.00% ) in 4.13 sec. Users per second: 1208\n",
      "RP3betaRecommender: URM Detected 2 (0.01 %) cold users.\n",
      "RP3betaRecommender: URM Detected 25 (0.10 %) cold items.\n",
      "EvaluatorHoldout: Processed 4992 ( 100.00% ) in 4.03 sec. Users per second: 1239\n",
      "RP3betaRecommender: URM Detected 2 (0.01 %) cold users.\n",
      "RP3betaRecommender: URM Detected 25 (0.10 %) cold items.\n",
      "EvaluatorHoldout: Processed 4992 ( 100.00% ) in 4.08 sec. Users per second: 1224\n",
      "RP3betaRecommender: URM Detected 2 (0.01 %) cold users.\n",
      "RP3betaRecommender: URM Detected 25 (0.10 %) cold items.\n",
      "EvaluatorHoldout: Processed 4992 ( 100.00% ) in 4.12 sec. Users per second: 1212\n",
      "RP3betaRecommender: URM Detected 2 (0.01 %) cold users.\n",
      "RP3betaRecommender: URM Detected 25 (0.10 %) cold items.\n",
      "EvaluatorHoldout: Processed 4992 ( 100.00% ) in 4.18 sec. Users per second: 1194\n",
      "RP3betaRecommender: URM Detected 2 (0.01 %) cold users.\n",
      "RP3betaRecommender: URM Detected 25 (0.10 %) cold items.\n",
      "EvaluatorHoldout: Processed 4992 ( 100.00% ) in 4.00 sec. Users per second: 1249\n",
      "RP3betaRecommender: URM Detected 2 (0.01 %) cold users.\n",
      "RP3betaRecommender: URM Detected 25 (0.10 %) cold items.\n",
      "EvaluatorHoldout: Processed 4992 ( 100.00% ) in 4.22 sec. Users per second: 1184\n",
      "RP3betaRecommender: URM Detected 2 (0.01 %) cold users.\n",
      "RP3betaRecommender: URM Detected 25 (0.10 %) cold items.\n",
      "EvaluatorHoldout: Processed 4992 ( 100.00% ) in 3.74 sec. Users per second: 1335\n",
      "RP3betaRecommender: URM Detected 2 (0.01 %) cold users.\n",
      "RP3betaRecommender: URM Detected 25 (0.10 %) cold items.\n",
      "EvaluatorHoldout: Processed 4992 ( 100.00% ) in 3.55 sec. Users per second: 1407\n",
      "RP3betaRecommender: URM Detected 2 (0.01 %) cold users.\n",
      "RP3betaRecommender: URM Detected 25 (0.10 %) cold items.\n",
      "EvaluatorHoldout: Processed 4992 ( 100.00% ) in 3.95 sec. Users per second: 1263\n",
      "RP3betaRecommender: URM Detected 2 (0.01 %) cold users.\n",
      "RP3betaRecommender: URM Detected 25 (0.10 %) cold items.\n",
      "EvaluatorHoldout: Processed 4992 ( 100.00% ) in 3.85 sec. Users per second: 1297\n",
      "RP3betaRecommender: URM Detected 2 (0.01 %) cold users.\n",
      "RP3betaRecommender: URM Detected 25 (0.10 %) cold items.\n",
      "EvaluatorHoldout: Processed 4992 ( 100.00% ) in 4.10 sec. Users per second: 1218\n",
      "RP3betaRecommender: URM Detected 2 (0.01 %) cold users.\n",
      "RP3betaRecommender: URM Detected 25 (0.10 %) cold items.\n",
      "EvaluatorHoldout: Processed 4992 ( 100.00% ) in 4.02 sec. Users per second: 1243\n",
      "RP3betaRecommender: URM Detected 2 (0.01 %) cold users.\n",
      "RP3betaRecommender: URM Detected 25 (0.10 %) cold items.\n",
      "EvaluatorHoldout: Processed 4992 ( 100.00% ) in 4.56 sec. Users per second: 1095\n",
      "RP3betaRecommender: URM Detected 2 (0.01 %) cold users.\n",
      "RP3betaRecommender: URM Detected 25 (0.10 %) cold items.\n",
      "EvaluatorHoldout: Processed 4992 ( 100.00% ) in 3.98 sec. Users per second: 1254\n",
      "RP3betaRecommender: URM Detected 2 (0.01 %) cold users.\n",
      "RP3betaRecommender: URM Detected 25 (0.10 %) cold items.\n",
      "EvaluatorHoldout: Processed 4992 ( 100.00% ) in 4.08 sec. Users per second: 1223\n",
      "RP3betaRecommender: URM Detected 2 (0.01 %) cold users.\n",
      "RP3betaRecommender: URM Detected 25 (0.10 %) cold items.\n",
      "EvaluatorHoldout: Processed 4992 ( 100.00% ) in 3.87 sec. Users per second: 1290\n",
      "RP3betaRecommender: URM Detected 2 (0.01 %) cold users.\n",
      "RP3betaRecommender: URM Detected 25 (0.10 %) cold items.\n",
      "EvaluatorHoldout: Processed 4992 ( 100.00% ) in 3.88 sec. Users per second: 1285\n",
      "RP3betaRecommender: URM Detected 2 (0.01 %) cold users.\n",
      "RP3betaRecommender: URM Detected 25 (0.10 %) cold items.\n",
      "EvaluatorHoldout: Processed 4992 ( 100.00% ) in 3.61 sec. Users per second: 1384\n",
      "RP3betaRecommender: URM Detected 2 (0.01 %) cold users.\n",
      "RP3betaRecommender: URM Detected 25 (0.10 %) cold items.\n",
      "EvaluatorHoldout: Processed 4992 ( 100.00% ) in 4.55 sec. Users per second: 1097\n",
      "RP3betaRecommender: URM Detected 2 (0.01 %) cold users.\n",
      "RP3betaRecommender: URM Detected 25 (0.10 %) cold items.\n",
      "EvaluatorHoldout: Processed 4992 ( 100.00% ) in 4.04 sec. Users per second: 1237\n",
      "RP3betaRecommender: URM Detected 2 (0.01 %) cold users.\n",
      "RP3betaRecommender: URM Detected 25 (0.10 %) cold items.\n",
      "EvaluatorHoldout: Processed 4992 ( 100.00% ) in 3.94 sec. Users per second: 1268\n",
      "RP3betaRecommender: URM Detected 2 (0.01 %) cold users.\n",
      "RP3betaRecommender: URM Detected 25 (0.10 %) cold items.\n",
      "EvaluatorHoldout: Processed 4992 ( 100.00% ) in 4.90 sec. Users per second: 1020\n",
      "RP3betaRecommender: URM Detected 2 (0.01 %) cold users.\n",
      "RP3betaRecommender: URM Detected 25 (0.10 %) cold items.\n",
      "EvaluatorHoldout: Processed 4992 ( 100.00% ) in 3.92 sec. Users per second: 1274\n",
      "RP3betaRecommender: URM Detected 2 (0.01 %) cold users.\n",
      "RP3betaRecommender: URM Detected 25 (0.10 %) cold items.\n",
      "EvaluatorHoldout: Processed 4992 ( 100.00% ) in 3.68 sec. Users per second: 1355\n",
      "RP3betaRecommender: URM Detected 2 (0.01 %) cold users.\n",
      "RP3betaRecommender: URM Detected 25 (0.10 %) cold items.\n",
      "EvaluatorHoldout: Processed 4992 ( 100.00% ) in 3.98 sec. Users per second: 1253\n",
      "RP3betaRecommender: URM Detected 2 (0.01 %) cold users.\n",
      "RP3betaRecommender: URM Detected 25 (0.10 %) cold items.\n",
      "EvaluatorHoldout: Processed 4992 ( 100.00% ) in 4.10 sec. Users per second: 1219\n",
      "RP3betaRecommender: URM Detected 2 (0.01 %) cold users.\n",
      "RP3betaRecommender: URM Detected 25 (0.10 %) cold items.\n",
      "EvaluatorHoldout: Processed 4992 ( 100.00% ) in 3.72 sec. Users per second: 1340\n",
      "RP3betaRecommender: URM Detected 2 (0.01 %) cold users.\n",
      "RP3betaRecommender: URM Detected 25 (0.10 %) cold items.\n",
      "EvaluatorHoldout: Processed 4992 ( 100.00% ) in 3.90 sec. Users per second: 1280\n",
      "RP3betaRecommender: URM Detected 2 (0.01 %) cold users.\n",
      "RP3betaRecommender: URM Detected 25 (0.10 %) cold items.\n",
      "EvaluatorHoldout: Processed 4992 ( 100.00% ) in 3.95 sec. Users per second: 1265\n",
      "RP3betaRecommender: URM Detected 2 (0.01 %) cold users.\n",
      "RP3betaRecommender: URM Detected 25 (0.10 %) cold items.\n",
      "EvaluatorHoldout: Processed 4992 ( 100.00% ) in 4.05 sec. Users per second: 1231\n",
      "RP3betaRecommender: URM Detected 2 (0.01 %) cold users.\n",
      "RP3betaRecommender: URM Detected 25 (0.10 %) cold items.\n",
      "EvaluatorHoldout: Processed 4992 ( 100.00% ) in 3.64 sec. Users per second: 1372\n",
      "RP3betaRecommender: URM Detected 2 (0.01 %) cold users.\n",
      "RP3betaRecommender: URM Detected 25 (0.10 %) cold items.\n"
     ]
    },
    {
     "name": "stdout",
     "output_type": "stream",
     "text": [
      "EvaluatorHoldout: Processed 4992 ( 100.00% ) in 4.10 sec. Users per second: 1219\n",
      "RP3betaRecommender: URM Detected 2 (0.01 %) cold users.\n",
      "RP3betaRecommender: URM Detected 25 (0.10 %) cold items.\n",
      "EvaluatorHoldout: Processed 4992 ( 100.00% ) in 3.98 sec. Users per second: 1255\n",
      "RP3betaRecommender: URM Detected 2 (0.01 %) cold users.\n",
      "RP3betaRecommender: URM Detected 25 (0.10 %) cold items.\n",
      "EvaluatorHoldout: Processed 4992 ( 100.00% ) in 4.24 sec. Users per second: 1177\n",
      "RP3betaRecommender: URM Detected 2 (0.01 %) cold users.\n",
      "RP3betaRecommender: URM Detected 25 (0.10 %) cold items.\n",
      "EvaluatorHoldout: Processed 4992 ( 100.00% ) in 4.06 sec. Users per second: 1231\n",
      "RP3betaRecommender: URM Detected 2 (0.01 %) cold users.\n",
      "RP3betaRecommender: URM Detected 25 (0.10 %) cold items.\n",
      "EvaluatorHoldout: Processed 4992 ( 100.00% ) in 4.02 sec. Users per second: 1240\n",
      "RP3betaRecommender: URM Detected 2 (0.01 %) cold users.\n",
      "RP3betaRecommender: URM Detected 25 (0.10 %) cold items.\n",
      "EvaluatorHoldout: Processed 4992 ( 100.00% ) in 3.78 sec. Users per second: 1321\n",
      "RP3betaRecommender: URM Detected 2 (0.01 %) cold users.\n",
      "RP3betaRecommender: URM Detected 25 (0.10 %) cold items.\n",
      "EvaluatorHoldout: Processed 4992 ( 100.00% ) in 3.88 sec. Users per second: 1285\n",
      "RP3betaRecommender: URM Detected 2 (0.01 %) cold users.\n",
      "RP3betaRecommender: URM Detected 25 (0.10 %) cold items.\n",
      "EvaluatorHoldout: Processed 4992 ( 100.00% ) in 3.75 sec. Users per second: 1331\n",
      "RP3betaRecommender: URM Detected 2 (0.01 %) cold users.\n",
      "RP3betaRecommender: URM Detected 25 (0.10 %) cold items.\n",
      "EvaluatorHoldout: Processed 4992 ( 100.00% ) in 3.79 sec. Users per second: 1317\n",
      "RP3betaRecommender: URM Detected 2 (0.01 %) cold users.\n",
      "RP3betaRecommender: URM Detected 25 (0.10 %) cold items.\n",
      "EvaluatorHoldout: Processed 4992 ( 100.00% ) in 3.79 sec. Users per second: 1316\n",
      "RP3betaRecommender: URM Detected 2 (0.01 %) cold users.\n",
      "RP3betaRecommender: URM Detected 25 (0.10 %) cold items.\n",
      "EvaluatorHoldout: Processed 4992 ( 100.00% ) in 3.98 sec. Users per second: 1254\n",
      "RP3betaRecommender: URM Detected 2 (0.01 %) cold users.\n",
      "RP3betaRecommender: URM Detected 25 (0.10 %) cold items.\n",
      "EvaluatorHoldout: Processed 4992 ( 100.00% ) in 3.96 sec. Users per second: 1261\n",
      "RP3betaRecommender: URM Detected 2 (0.01 %) cold users.\n",
      "RP3betaRecommender: URM Detected 25 (0.10 %) cold items.\n",
      "EvaluatorHoldout: Processed 4992 ( 100.00% ) in 3.83 sec. Users per second: 1304\n",
      "RP3betaRecommender: URM Detected 2 (0.01 %) cold users.\n",
      "RP3betaRecommender: URM Detected 25 (0.10 %) cold items.\n",
      "EvaluatorHoldout: Processed 4992 ( 100.00% ) in 4.23 sec. Users per second: 1181\n",
      "RP3betaRecommender: URM Detected 2 (0.01 %) cold users.\n",
      "RP3betaRecommender: URM Detected 25 (0.10 %) cold items.\n",
      "EvaluatorHoldout: Processed 4992 ( 100.00% ) in 4.50 sec. Users per second: 1110\n",
      "RP3betaRecommender: URM Detected 2 (0.01 %) cold users.\n",
      "RP3betaRecommender: URM Detected 25 (0.10 %) cold items.\n",
      "EvaluatorHoldout: Processed 4992 ( 100.00% ) in 3.85 sec. Users per second: 1296\n",
      "RP3betaRecommender: URM Detected 2 (0.01 %) cold users.\n",
      "RP3betaRecommender: URM Detected 25 (0.10 %) cold items.\n",
      "EvaluatorHoldout: Processed 4992 ( 100.00% ) in 4.14 sec. Users per second: 1205\n",
      "RP3betaRecommender: URM Detected 2 (0.01 %) cold users.\n",
      "RP3betaRecommender: URM Detected 25 (0.10 %) cold items.\n",
      "EvaluatorHoldout: Processed 4992 ( 100.00% ) in 5.11 sec. Users per second: 976\n",
      "RP3betaRecommender: URM Detected 2 (0.01 %) cold users.\n",
      "RP3betaRecommender: URM Detected 25 (0.10 %) cold items.\n",
      "EvaluatorHoldout: Processed 4992 ( 100.00% ) in 3.84 sec. Users per second: 1300\n",
      "RP3betaRecommender: URM Detected 2 (0.01 %) cold users.\n",
      "RP3betaRecommender: URM Detected 25 (0.10 %) cold items.\n",
      "EvaluatorHoldout: Processed 4992 ( 100.00% ) in 3.95 sec. Users per second: 1264\n",
      "RP3betaRecommender: URM Detected 2 (0.01 %) cold users.\n",
      "RP3betaRecommender: URM Detected 25 (0.10 %) cold items.\n",
      "EvaluatorHoldout: Processed 4992 ( 100.00% ) in 3.86 sec. Users per second: 1292\n",
      "RP3betaRecommender: URM Detected 2 (0.01 %) cold users.\n",
      "RP3betaRecommender: URM Detected 25 (0.10 %) cold items.\n",
      "EvaluatorHoldout: Processed 4992 ( 100.00% ) in 4.38 sec. Users per second: 1141\n",
      "RP3betaRecommender: URM Detected 2 (0.01 %) cold users.\n",
      "RP3betaRecommender: URM Detected 25 (0.10 %) cold items.\n",
      "EvaluatorHoldout: Processed 4992 ( 100.00% ) in 4.05 sec. Users per second: 1233\n",
      "RP3betaRecommender: URM Detected 2 (0.01 %) cold users.\n",
      "RP3betaRecommender: URM Detected 25 (0.10 %) cold items.\n",
      "EvaluatorHoldout: Processed 4992 ( 100.00% ) in 3.71 sec. Users per second: 1346\n",
      "RP3betaRecommender: URM Detected 2 (0.01 %) cold users.\n",
      "RP3betaRecommender: URM Detected 25 (0.10 %) cold items.\n",
      "EvaluatorHoldout: Processed 4992 ( 100.00% ) in 3.66 sec. Users per second: 1365\n",
      "RP3betaRecommender: URM Detected 2 (0.01 %) cold users.\n",
      "RP3betaRecommender: URM Detected 25 (0.10 %) cold items.\n",
      "EvaluatorHoldout: Processed 4992 ( 100.00% ) in 3.89 sec. Users per second: 1283\n",
      "RP3betaRecommender: URM Detected 2 (0.01 %) cold users.\n",
      "RP3betaRecommender: URM Detected 25 (0.10 %) cold items.\n",
      "EvaluatorHoldout: Processed 4992 ( 100.00% ) in 3.83 sec. Users per second: 1304\n",
      "RP3betaRecommender: URM Detected 2 (0.01 %) cold users.\n",
      "RP3betaRecommender: URM Detected 25 (0.10 %) cold items.\n",
      "EvaluatorHoldout: Processed 4992 ( 100.00% ) in 3.79 sec. Users per second: 1318\n",
      "RP3betaRecommender: URM Detected 2 (0.01 %) cold users.\n",
      "RP3betaRecommender: URM Detected 25 (0.10 %) cold items.\n",
      "EvaluatorHoldout: Processed 4992 ( 100.00% ) in 4.59 sec. Users per second: 1088\n",
      "RP3betaRecommender: URM Detected 2 (0.01 %) cold users.\n",
      "RP3betaRecommender: URM Detected 25 (0.10 %) cold items.\n",
      "EvaluatorHoldout: Processed 4992 ( 100.00% ) in 4.49 sec. Users per second: 1112\n",
      "RP3betaRecommender: URM Detected 2 (0.01 %) cold users.\n",
      "RP3betaRecommender: URM Detected 25 (0.10 %) cold items.\n",
      "EvaluatorHoldout: Processed 4992 ( 100.00% ) in 4.43 sec. Users per second: 1126\n",
      "RP3betaRecommender: URM Detected 2 (0.01 %) cold users.\n",
      "RP3betaRecommender: URM Detected 25 (0.10 %) cold items.\n",
      "EvaluatorHoldout: Processed 4992 ( 100.00% ) in 4.73 sec. Users per second: 1054\n",
      "RP3betaRecommender: URM Detected 2 (0.01 %) cold users.\n",
      "RP3betaRecommender: URM Detected 25 (0.10 %) cold items.\n",
      "EvaluatorHoldout: Processed 4992 ( 100.00% ) in 4.70 sec. Users per second: 1062\n",
      "RP3betaRecommender: URM Detected 2 (0.01 %) cold users.\n",
      "RP3betaRecommender: URM Detected 25 (0.10 %) cold items.\n",
      "EvaluatorHoldout: Processed 4992 ( 100.00% ) in 4.64 sec. Users per second: 1075\n",
      "RP3betaRecommender: URM Detected 2 (0.01 %) cold users.\n",
      "RP3betaRecommender: URM Detected 25 (0.10 %) cold items.\n",
      "EvaluatorHoldout: Processed 4992 ( 100.00% ) in 4.50 sec. Users per second: 1109\n",
      "RP3betaRecommender: URM Detected 2 (0.01 %) cold users.\n",
      "RP3betaRecommender: URM Detected 25 (0.10 %) cold items.\n",
      "EvaluatorHoldout: Processed 4992 ( 100.00% ) in 4.55 sec. Users per second: 1098\n",
      "RP3betaRecommender: URM Detected 2 (0.01 %) cold users.\n",
      "RP3betaRecommender: URM Detected 25 (0.10 %) cold items.\n",
      "EvaluatorHoldout: Processed 4992 ( 100.00% ) in 5.09 sec. Users per second: 981\n",
      "RP3betaRecommender: URM Detected 2 (0.01 %) cold users.\n",
      "RP3betaRecommender: URM Detected 25 (0.10 %) cold items.\n",
      "EvaluatorHoldout: Processed 4992 ( 100.00% ) in 3.93 sec. Users per second: 1270\n"
     ]
    }
   ],
   "source": [
    "x_tick = []\n",
    "collaborative_MAP = []\n",
    "\n",
    "for topK in [10,50,60,70,80]:\n",
    "    for alpha in [0.1,0.2,0.4, 0.5]:\n",
    "        for beta in [0.1, 0.2, 0.4, 0.5]:\n",
    "            x_tick.append(\"topk {}, alpha{}, beta{}\".format(topK,alpha,beta))\n",
    "\n",
    "            recommender = RP3betaRecommender(ICM_all.T)\n",
    "\n",
    "            recommender.fit(topK=topK, alpha=alpha, beta=beta, implicit=False)\n",
    "            recommender.URM_train = URM_train\n",
    "\n",
    "            result_dict, _ = evaluator_validation.evaluateRecommender(recommender)\n",
    "\n",
    "            collaborative_MAP.append(result_dict[10][\"MAP\"])"
   ]
  },
  {
   "cell_type": "code",
   "execution_count": 17,
   "metadata": {},
   "outputs": [
    {
     "name": "stdout",
     "output_type": "stream",
     "text": [
      "54 0.039002456651731125\n",
      "topk 70, alpha0.2, beta0.4\n"
     ]
    }
   ],
   "source": [
    "import operator\n",
    "index, value = max(enumerate(collaborative_MAP), key=operator.itemgetter(1))\n",
    "print(index, value)\n",
    "parameters = x_tick[index]\n",
    "print(parameters)"
   ]
  },
  {
   "cell_type": "code",
   "execution_count": 18,
   "metadata": {},
   "outputs": [
    {
     "data": {
      "image/png": "[encoded data removed]",
      "text/plain": [
       "<Figure size 1440x648 with 1 Axes>"
      ]
     },
     "metadata": {
      "needs_background": "light"
     },
     "output_type": "display_data"
    }
   ],
   "source": [
    "import matplotlib.ticker as ticker\n",
    "\n",
    "fig, ax = plt.subplots(1, 1, figsize=(20, 9))\n",
    "plt.plot(x_tick, collaborative_MAP, label=\"Collaborative\")\n",
    "ax.yaxis.set_major_locator(ticker.MultipleLocator(0.01))\n",
    "plt.ylabel('MAP')\n",
    "plt.xlabel('TopK')\n",
    "plt.xticks(rotation='vertical')\n",
    "plt.show()"
   ]
  },
  {
   "cell_type": "code",
   "execution_count": null,
   "metadata": {},
   "outputs": [],
   "source": [
    "test_users = pd.read_csv('data_target_users_test.csv')\n",
    "test_users"
   ]
  },
  {
   "cell_type": "code",
   "execution_count": null,
   "metadata": {},
   "outputs": [],
   "source": [
    "#0.039002456651731125\n",
    "#topk 70, alpha0.2, beta0.4\n",
    "\n",
    "recommender = ItemKNNCBFRecommender(URM_all, ICM_all)\n",
    "recommender.fit(topK=600, shrink=200, feature_weighting = 'TF-IDF')\n",
    "\n",
    "user_id = test_users['user_id']\n",
    "recommendations = recommender.recommend(user_id,cutoff = 10)\n"
   ]
  },
  {
   "cell_type": "code",
   "execution_count": null,
   "metadata": {},
   "outputs": [],
   "source": [
    "for index in range(len(recommendations)):\n",
    "    #print(element)\n",
    "    recommendations[index]=np.array(recommendations[index])\n",
    "    #print(type(element))\n",
    "print(len(recommendations))"
   ]
  },
  {
   "cell_type": "code",
   "execution_count": null,
   "metadata": {},
   "outputs": [],
   "source": [
    "test_users['item_list']= recommendations\n",
    "#test_users['item_list'] =  test_users['item_list'].apply(lambda x: x.replace('[','').replace(']','')) \n",
    "test_users['item_list'] = pd.DataFrame([str(line).strip('[').strip(']').replace(\"'\",\"\") for line in test_users['item_list']])\n",
    "\n",
    "#convert the string columns to int\n",
    "#test_users['item_list'] = test_users['item_list'].astype(int)\n",
    "test_users\n",
    "test_users.to_csv('submission.csv', index=False)\n"
   ]
  },
  {
   "cell_type": "code",
   "execution_count": null,
   "metadata": {},
   "outputs": [],
   "source": []
  }
 ],
 "metadata": {
  "kernelspec": {
   "display_name": "Python 3",
   "language": "python",
   "name": "python3"
  },
  "language_info": {
   "codemirror_mode": {
    "name": "ipython",
    "version": 3
   },
   "file_extension": ".py",
   "mimetype": "text/x-python",
   "name": "python",
   "nbconvert_exporter": "python",
   "pygments_lexer": "ipython3",
   "version": "3.8.5"
  }
 },
 "nbformat": 4,
 "nbformat_minor": 4
}
