{
 "cells": [
  {
   "cell_type": "markdown",
   "metadata": {},
   "source": [
    "# SLIM MODEL\n",
    "Since the KNN_Item_CF is the one that perfomed the best so far, now i'm trying a SLIM Model, which is basically the same algorithm but Machine Learning based. It uses the infos from the training data instead of some heuristic (such as cosine similarity ecc...)\n",
    "https://notebook.community/trangel/Insight-Data-Science/general-docs/recommendation-validation/.ipynb_checkpoints/recommender_systems-validation-checkpoint"
   ]
  },
  {
   "cell_type": "markdown",
   "metadata": {},
   "source": [
    "# Data loading \n",
    "Next cells are used to load the data we need."
   ]
  },
  {
   "cell_type": "code",
   "execution_count": 2,
   "metadata": {},
   "outputs": [],
   "source": [
    "import pandas as pd\n",
    "import numpy as np \n",
    "import scipy.sparse as sps\n",
    "import os\n",
    "import sys\n",
    "import matplotlib.pyplot as plt\n",
    "sys.path.append('..')\n"
   ]
  },
  {
   "cell_type": "code",
   "execution_count": 3,
   "metadata": {},
   "outputs": [
    {
     "data": {
      "text/html": [
       "<div>\n",
       "<style scoped>\n",
       "    .dataframe tbody tr th:only-of-type {\n",
       "        vertical-align: middle;\n",
       "    }\n",
       "\n",
       "    .dataframe tbody tr th {\n",
       "        vertical-align: top;\n",
       "    }\n",
       "\n",
       "    .dataframe thead th {\n",
       "        text-align: right;\n",
       "    }\n",
       "</style>\n",
       "<table border=\"1\" class=\"dataframe\">\n",
       "  <thead>\n",
       "    <tr style=\"text-align: right;\">\n",
       "      <th></th>\n",
       "      <th>row</th>\n",
       "      <th>col</th>\n",
       "      <th>data</th>\n",
       "    </tr>\n",
       "  </thead>\n",
       "  <tbody>\n",
       "    <tr>\n",
       "      <th>0</th>\n",
       "      <td>0</td>\n",
       "      <td>10080</td>\n",
       "      <td>1.0</td>\n",
       "    </tr>\n",
       "    <tr>\n",
       "      <th>1</th>\n",
       "      <td>0</td>\n",
       "      <td>19467</td>\n",
       "      <td>1.0</td>\n",
       "    </tr>\n",
       "    <tr>\n",
       "      <th>2</th>\n",
       "      <td>1</td>\n",
       "      <td>2665</td>\n",
       "      <td>1.0</td>\n",
       "    </tr>\n",
       "    <tr>\n",
       "      <th>3</th>\n",
       "      <td>1</td>\n",
       "      <td>7494</td>\n",
       "      <td>1.0</td>\n",
       "    </tr>\n",
       "    <tr>\n",
       "      <th>4</th>\n",
       "      <td>1</td>\n",
       "      <td>17068</td>\n",
       "      <td>1.0</td>\n",
       "    </tr>\n",
       "    <tr>\n",
       "      <th>...</th>\n",
       "      <td>...</td>\n",
       "      <td>...</td>\n",
       "      <td>...</td>\n",
       "    </tr>\n",
       "    <tr>\n",
       "      <th>113263</th>\n",
       "      <td>7945</td>\n",
       "      <td>2476</td>\n",
       "      <td>1.0</td>\n",
       "    </tr>\n",
       "    <tr>\n",
       "      <th>113264</th>\n",
       "      <td>7945</td>\n",
       "      <td>12319</td>\n",
       "      <td>1.0</td>\n",
       "    </tr>\n",
       "    <tr>\n",
       "      <th>113265</th>\n",
       "      <td>7945</td>\n",
       "      <td>21384</td>\n",
       "      <td>1.0</td>\n",
       "    </tr>\n",
       "    <tr>\n",
       "      <th>113266</th>\n",
       "      <td>7946</td>\n",
       "      <td>8699</td>\n",
       "      <td>1.0</td>\n",
       "    </tr>\n",
       "    <tr>\n",
       "      <th>113267</th>\n",
       "      <td>7946</td>\n",
       "      <td>19178</td>\n",
       "      <td>1.0</td>\n",
       "    </tr>\n",
       "  </tbody>\n",
       "</table>\n",
       "<p>113268 rows × 3 columns</p>\n",
       "</div>"
      ],
      "text/plain": [
       "         row    col  data\n",
       "0          0  10080   1.0\n",
       "1          0  19467   1.0\n",
       "2          1   2665   1.0\n",
       "3          1   7494   1.0\n",
       "4          1  17068   1.0\n",
       "...      ...    ...   ...\n",
       "113263  7945   2476   1.0\n",
       "113264  7945  12319   1.0\n",
       "113265  7945  21384   1.0\n",
       "113266  7946   8699   1.0\n",
       "113267  7946  19178   1.0\n",
       "\n",
       "[113268 rows x 3 columns]"
      ]
     },
     "execution_count": 3,
     "metadata": {},
     "output_type": "execute_result"
    }
   ],
   "source": [
    "#data which contains users (row), items(col) and implicit interaction (data)\n",
    "dataset = pd.read_csv('data_train.csv')\n",
    "dataset"
   ]
  },
  {
   "cell_type": "markdown",
   "metadata": {},
   "source": [
    "# Data pre-processing\n",
    "Pre-processing of data to check for missing users, items ecc..."
   ]
  },
  {
   "cell_type": "code",
   "execution_count": 4,
   "metadata": {},
   "outputs": [
    {
     "name": "stdout",
     "output_type": "stream",
     "text": [
      "users stats: 7947 0 7946\n",
      "items stats: 24896 0 25974\n"
     ]
    }
   ],
   "source": [
    "unique_users, min_users, max_users = len(dataset.row.unique()), dataset.row.min(), dataset.row.max()\n",
    "unique_items, min_items, max_items = len(dataset.col.unique()), dataset.col.min(), dataset.col.max()\n",
    "print('users stats:',unique_users, min_users, max_users)\n",
    "print('items stats:',unique_items, min_items, max_items)"
   ]
  },
  {
   "cell_type": "markdown",
   "metadata": {},
   "source": [
    "If the difference between the unique elements and the max/min ones is really big, it's better to remap users and items in a new dataframe. In this case, it seems I can leave it as it is"
   ]
  },
  {
   "cell_type": "code",
   "execution_count": 5,
   "metadata": {},
   "outputs": [
    {
     "data": {
      "text/plain": [
       "(7947, 25975)"
      ]
     },
     "execution_count": 5,
     "metadata": {},
     "output_type": "execute_result"
    }
   ],
   "source": [
    "users = dataset.row\n",
    "items = dataset.col\n",
    "data = dataset.data\n",
    "URM_all = sps.coo_matrix((data, (users, items)))\n",
    "URM_all = URM_all.tocsr() #fast row access -> fast access to users \n",
    "URM_all.shape"
   ]
  },
  {
   "cell_type": "markdown",
   "metadata": {},
   "source": [
    "CSR basically has a pointer to the exact beginning of every possible row. For example if i have <code>matrix.inptr = [0,1,2,4,6] </code> this means that at <code>matrix.inptr[n]</code> I have my n row which \"last\" until the next cell in the array. <br> In this case (for example) my third row goes from 2 to 4. <br>\n",
    "\n",
    "What do I do with it? <br>\n",
    "\n",
    "I use this index (2 to 4) to access the other two arrays of the crs format: <code>indices</code> and <code>data</code>.\n",
    "<code>indices</code> gives me the column index and <code>data</code> gives me the actual data to take"
   ]
  },
  {
   "cell_type": "code",
   "execution_count": 6,
   "metadata": {},
   "outputs": [],
   "source": [
    "items_per_user = np.ediff1d(URM_all.indptr) #tells in which position each of the rows begin\n",
    "users_per_item = np.ediff1d(sps.csc_matrix(URM_all).indptr)\n",
    "URM_all = sps.csr_matrix(URM_all)"
   ]
  },
  {
   "cell_type": "code",
   "execution_count": 7,
   "metadata": {},
   "outputs": [],
   "source": [
    "items_per_user = np.sort(items_per_user) #sorting based on the single value. Losing reference to the user. \n",
    "users_per_item = np.sort(users_per_item)"
   ]
  },
  {
   "cell_type": "markdown",
   "metadata": {},
   "source": [
    "The following 2 graphs plots the <code>items_per_user</code> and the <code>users_per_item</code>. It shows that slightly more than 2500 users and 2500 items have a 0 count. This is coherent with the original data we got: 30910-27255 for users and 18494-15277 for items. These differences are the missing users/items in the dataset (Basically users/items that have no interaction at all)"
   ]
  },
  {
   "cell_type": "code",
   "execution_count": 8,
   "metadata": {},
   "outputs": [
    {
     "data": {
      "text/plain": [
       "[<matplotlib.lines.Line2D at 0x1d03d1f4430>]"
      ]
     },
     "execution_count": 8,
     "metadata": {},
     "output_type": "execute_result"
    },
    {
     "data": {
      "image/png": "[encoded data removed]",
      "text/plain": [
       "<Figure size 1080x864 with 1 Axes>"
      ]
     },
     "metadata": {
      "needs_background": "light"
     },
     "output_type": "display_data"
    }
   ],
   "source": [
    "plt.figure(figsize=(15,12))\n",
    "plt.plot(items_per_user, 'ro') #biased dataset, but not so much compared with the one seen at lessons "
   ]
  },
  {
   "cell_type": "code",
   "execution_count": 9,
   "metadata": {},
   "outputs": [
    {
     "data": {
      "text/plain": [
       "[<matplotlib.lines.Line2D at 0x1d03d847760>]"
      ]
     },
     "execution_count": 9,
     "metadata": {},
     "output_type": "execute_result"
    },
    {
     "data": {
      "image/png": "[encoded data removed]",
      "text/plain": [
       "<Figure size 1080x864 with 1 Axes>"
      ]
     },
     "metadata": {
      "needs_background": "light"
     },
     "output_type": "display_data"
    }
   ],
   "source": [
    "plt.figure(figsize=(15,12))\n",
    "plt.plot(users_per_item, 'ro') #biased dataset, but not so much compared with the one seen at lessons "
   ]
  },
  {
   "cell_type": "code",
   "execution_count": 10,
   "metadata": {},
   "outputs": [
    {
     "data": {
      "text/html": [
       "<div>\n",
       "<style scoped>\n",
       "    .dataframe tbody tr th:only-of-type {\n",
       "        vertical-align: middle;\n",
       "    }\n",
       "\n",
       "    .dataframe tbody tr th {\n",
       "        vertical-align: top;\n",
       "    }\n",
       "\n",
       "    .dataframe thead th {\n",
       "        text-align: right;\n",
       "    }\n",
       "</style>\n",
       "<table border=\"1\" class=\"dataframe\">\n",
       "  <thead>\n",
       "    <tr style=\"text-align: right;\">\n",
       "      <th></th>\n",
       "      <th>row</th>\n",
       "      <th>col</th>\n",
       "      <th>data</th>\n",
       "    </tr>\n",
       "  </thead>\n",
       "  <tbody>\n",
       "    <tr>\n",
       "      <th>0</th>\n",
       "      <td>0</td>\n",
       "      <td>1185</td>\n",
       "      <td>1.015524</td>\n",
       "    </tr>\n",
       "    <tr>\n",
       "      <th>1</th>\n",
       "      <td>0</td>\n",
       "      <td>2507</td>\n",
       "      <td>0.459024</td>\n",
       "    </tr>\n",
       "    <tr>\n",
       "      <th>2</th>\n",
       "      <td>0</td>\n",
       "      <td>3534</td>\n",
       "      <td>0.227742</td>\n",
       "    </tr>\n",
       "    <tr>\n",
       "      <th>3</th>\n",
       "      <td>0</td>\n",
       "      <td>8766</td>\n",
       "      <td>0.501549</td>\n",
       "    </tr>\n",
       "    <tr>\n",
       "      <th>4</th>\n",
       "      <td>0</td>\n",
       "      <td>10862</td>\n",
       "      <td>0.297011</td>\n",
       "    </tr>\n",
       "    <tr>\n",
       "      <th>...</th>\n",
       "      <td>...</td>\n",
       "      <td>...</td>\n",
       "      <td>...</td>\n",
       "    </tr>\n",
       "    <tr>\n",
       "      <th>490686</th>\n",
       "      <td>25974</td>\n",
       "      <td>12554</td>\n",
       "      <td>0.963016</td>\n",
       "    </tr>\n",
       "    <tr>\n",
       "      <th>490687</th>\n",
       "      <td>25974</td>\n",
       "      <td>13003</td>\n",
       "      <td>0.104613</td>\n",
       "    </tr>\n",
       "    <tr>\n",
       "      <th>490688</th>\n",
       "      <td>25974</td>\n",
       "      <td>16236</td>\n",
       "      <td>0.118760</td>\n",
       "    </tr>\n",
       "    <tr>\n",
       "      <th>490689</th>\n",
       "      <td>25974</td>\n",
       "      <td>18797</td>\n",
       "      <td>0.363301</td>\n",
       "    </tr>\n",
       "    <tr>\n",
       "      <th>490690</th>\n",
       "      <td>25974</td>\n",
       "      <td>19629</td>\n",
       "      <td>0.129141</td>\n",
       "    </tr>\n",
       "  </tbody>\n",
       "</table>\n",
       "<p>490691 rows × 3 columns</p>\n",
       "</div>"
      ],
      "text/plain": [
       "          row    col      data\n",
       "0           0   1185  1.015524\n",
       "1           0   2507  0.459024\n",
       "2           0   3534  0.227742\n",
       "3           0   8766  0.501549\n",
       "4           0  10862  0.297011\n",
       "...       ...    ...       ...\n",
       "490686  25974  12554  0.963016\n",
       "490687  25974  13003  0.104613\n",
       "490688  25974  16236  0.118760\n",
       "490689  25974  18797  0.363301\n",
       "490690  25974  19629  0.129141\n",
       "\n",
       "[490691 rows x 3 columns]"
      ]
     },
     "execution_count": 10,
     "metadata": {},
     "output_type": "execute_result"
    }
   ],
   "source": [
    "ICM_df = pd.read_csv('data_ICM_title_abstract.csv')\n",
    "ICM_df"
   ]
  },
  {
   "cell_type": "code",
   "execution_count": 11,
   "metadata": {},
   "outputs": [
    {
     "name": "stdout",
     "output_type": "stream",
     "text": [
      "items stats: 25950 0 25974\n",
      "features stats: 19998 0 19999\n"
     ]
    }
   ],
   "source": [
    "unique_items, min_items, max_items = len(ICM_df.row.unique()), ICM_df.row.min(), ICM_df.row.max()\n",
    "unique_features, min_features, max_features = len(ICM_df.col.unique()), ICM_df.col.min(), ICM_df.col.max()\n",
    "print('items stats:',unique_items, min_items, max_items)\n",
    "print('features stats:',unique_features, min_features, max_features)"
   ]
  },
  {
   "cell_type": "code",
   "execution_count": 12,
   "metadata": {},
   "outputs": [
    {
     "data": {
      "text/plain": [
       "(25975, 20000)"
      ]
     },
     "execution_count": 12,
     "metadata": {},
     "output_type": "execute_result"
    }
   ],
   "source": [
    "items = ICM_df.row\n",
    "features = ICM_df.col\n",
    "data = ICM_df.data\n",
    "ICM_all = sps.coo_matrix((data, (items, features)))\n",
    "ICM_all = ICM_all.tocsr() #fast row access -> fast access to users \n",
    "ICM_all.shape"
   ]
  },
  {
   "cell_type": "code",
   "execution_count": 13,
   "metadata": {},
   "outputs": [],
   "source": [
    "ICM_all = sps.csr_matrix(ICM_all)\n",
    "features_per_item = np.ediff1d(ICM_all.indptr)\n",
    "\n",
    "ICM_all = sps.csc_matrix(ICM_all)\n",
    "items_per_feature = np.ediff1d(ICM_all.indptr)\n",
    "\n",
    "ICM_all = sps.csr_matrix(ICM_all)"
   ]
  },
  {
   "cell_type": "code",
   "execution_count": 14,
   "metadata": {},
   "outputs": [],
   "source": [
    "features_per_item = np.sort(features_per_item)\n",
    "items_per_feature = np.sort(items_per_feature)"
   ]
  },
  {
   "cell_type": "code",
   "execution_count": 28,
   "metadata": {},
   "outputs": [
    {
     "data": {
      "image/png": "[encoded data removed]",
      "text/plain": [
       "<Figure size 1080x864 with 1 Axes>"
      ]
     },
     "metadata": {
      "needs_background": "light"
     },
     "output_type": "display_data"
    }
   ],
   "source": [
    "import matplotlib.pyplot as pyplot\n",
    "%matplotlib inline  \n",
    "plt.figure(figsize=(15,12))\n",
    "\n",
    "plt.plot(features_per_item, 'ro')\n",
    "plt.ylabel('Num features ')\n",
    "plt.xlabel('Item Index')\n",
    "plt.show()"
   ]
  },
  {
   "cell_type": "code",
   "execution_count": 16,
   "metadata": {},
   "outputs": [
    {
     "data": {
      "image/png": "[encoded data removed]",
      "text/plain": [
       "<Figure size 432x288 with 1 Axes>"
      ]
     },
     "metadata": {
      "needs_background": "light"
     },
     "output_type": "display_data"
    }
   ],
   "source": [
    "plt.plot(items_per_feature, 'ro')\n",
    "plt.ylabel('Num items ')\n",
    "plt.xlabel('Feature Index')\n",
    "plt.show()"
   ]
  },
  {
   "cell_type": "code",
   "execution_count": 17,
   "metadata": {},
   "outputs": [
    {
     "name": "stdout",
     "output_type": "stream",
     "text": [
      "Warning: 41 (0.52 %) of 7947 users have no train items\n",
      "Warning: 2935 (36.93 %) of 7947 users have no sampled items\n"
     ]
    }
   ],
   "source": [
    "from Base.Evaluation.Evaluator import EvaluatorHoldout\n",
    "from Data_manager.split_functions.split_train_validation_random_holdout import split_train_in_two_percentage_global_sample\n",
    "\n",
    "#splitting data into train and test. In teoria non serve, da vedere\n",
    "#URM_train, URM_test = split_train_in_two_percentage_global_sample(URM_all, train_percentage = 0.85)\n",
    "\n",
    "#splitting data into train and validation (from the previous training data)\n",
    "URM_train, URM_validation = split_train_in_two_percentage_global_sample(URM_all, train_percentage = 0.85)\n",
    "\n"
   ]
  },
  {
   "cell_type": "code",
   "execution_count": 18,
   "metadata": {},
   "outputs": [
    {
     "data": {
      "text/plain": [
       "<7947x25975 sparse matrix of type '<class 'numpy.float64'>'\n",
       "\twith 113268 stored elements in Compressed Sparse Row format>"
      ]
     },
     "execution_count": 18,
     "metadata": {},
     "output_type": "execute_result"
    }
   ],
   "source": [
    "URM_all"
   ]
  },
  {
   "cell_type": "code",
   "execution_count": 19,
   "metadata": {},
   "outputs": [
    {
     "data": {
      "text/plain": [
       "<25975x20000 sparse matrix of type '<class 'numpy.float64'>'\n",
       "\twith 490691 stored elements in Compressed Sparse Row format>"
      ]
     },
     "execution_count": 19,
     "metadata": {},
     "output_type": "execute_result"
    }
   ],
   "source": [
    "ICM_all"
   ]
  },
  {
   "cell_type": "code",
   "execution_count": 20,
   "metadata": {},
   "outputs": [],
   "source": [
    "#evaluator for validation (used for hyperparameter tuning)\n",
    "evaluator_validation = EvaluatorHoldout(URM_validation, cutoff_list=[10])\n",
    "\n",
    "#evaluator for testing (the final one)\n",
    "#evaluator_test = EvaluatorHoldout(URM_test, cutoff_list=[10])"
   ]
  },
  {
   "cell_type": "code",
   "execution_count": 21,
   "metadata": {},
   "outputs": [
    {
     "name": "stdout",
     "output_type": "stream",
     "text": [
      "ItemKNNCBFRecommender: URM Detected 41 (0.52 %) cold users.\n",
      "ItemKNNCBFRecommender: URM Detected 1987 (7.65 %) cold items.\n"
     ]
    }
   ],
   "source": [
    "from GraphBased.P3alphaRecommender import P3alphaRecommender\n",
    "from KNN.ItemKNNCBFRecommender import ItemKNNCBFRecommender\n",
    "from KNN.ItemKNNSimilarityHybridRecommender import ItemKNNSimilarityHybridRecommender\n",
    "\n",
    "recommender = ItemKNNCBFRecommender(URM_train, ICM_all)"
   ]
  },
  {
   "cell_type": "code",
   "execution_count": 25,
   "metadata": {},
   "outputs": [
    {
     "name": "stdout",
     "output_type": "stream",
     "text": [
      "ItemKNNCBFRecommender: URM Detected 41 (0.52 %) cold users.\n",
      "ItemKNNCBFRecommender: URM Detected 1987 (7.65 %) cold items.\n",
      "Similarity column 25975 ( 100 % ), 3271.62 column/sec, elapsed time 0.13 min\n",
      "EvaluatorHoldout: Processed 5012 ( 100.00% ) in 4.18 sec. Users per second: 1200\n",
      "ItemKNNCBFRecommender: URM Detected 41 (0.52 %) cold users.\n",
      "ItemKNNCBFRecommender: URM Detected 1987 (7.65 %) cold items.\n",
      "Similarity column 25975 ( 100 % ), 3373.85 column/sec, elapsed time 0.13 min\n",
      "EvaluatorHoldout: Processed 5012 ( 100.00% ) in 4.06 sec. Users per second: 1234\n",
      "ItemKNNCBFRecommender: URM Detected 41 (0.52 %) cold users.\n",
      "ItemKNNCBFRecommender: URM Detected 1987 (7.65 %) cold items.\n",
      "Similarity column 25975 ( 100 % ), 3206.44 column/sec, elapsed time 0.14 min\n",
      "EvaluatorHoldout: Processed 5012 ( 100.00% ) in 4.02 sec. Users per second: 1247\n",
      "ItemKNNCBFRecommender: URM Detected 41 (0.52 %) cold users.\n",
      "ItemKNNCBFRecommender: URM Detected 1987 (7.65 %) cold items.\n",
      "Similarity column 25975 ( 100 % ), 3199.39 column/sec, elapsed time 0.14 min\n",
      "EvaluatorHoldout: Processed 5012 ( 100.00% ) in 4.10 sec. Users per second: 1223\n",
      "ItemKNNCBFRecommender: URM Detected 41 (0.52 %) cold users.\n",
      "ItemKNNCBFRecommender: URM Detected 1987 (7.65 %) cold items.\n",
      "Similarity column 25975 ( 100 % ), 2945.59 column/sec, elapsed time 0.15 min\n",
      "EvaluatorHoldout: Processed 5012 ( 100.00% ) in 4.45 sec. Users per second: 1126\n",
      "ItemKNNCBFRecommender: URM Detected 41 (0.52 %) cold users.\n",
      "ItemKNNCBFRecommender: URM Detected 1987 (7.65 %) cold items.\n",
      "Similarity column 25975 ( 100 % ), 3246.73 column/sec, elapsed time 0.13 min\n",
      "EvaluatorHoldout: Processed 5012 ( 100.00% ) in 4.37 sec. Users per second: 1147\n",
      "ItemKNNCBFRecommender: URM Detected 41 (0.52 %) cold users.\n",
      "ItemKNNCBFRecommender: URM Detected 1987 (7.65 %) cold items.\n",
      "Similarity column 25975 ( 100 % ), 3134.99 column/sec, elapsed time 0.14 min\n",
      "EvaluatorHoldout: Processed 5012 ( 100.00% ) in 4.53 sec. Users per second: 1106\n",
      "ItemKNNCBFRecommender: URM Detected 41 (0.52 %) cold users.\n",
      "ItemKNNCBFRecommender: URM Detected 1987 (7.65 %) cold items.\n",
      "Similarity column 25975 ( 100 % ), 3073.61 column/sec, elapsed time 0.14 min\n",
      "EvaluatorHoldout: Processed 5012 ( 100.00% ) in 4.76 sec. Users per second: 1053\n",
      "ItemKNNCBFRecommender: URM Detected 41 (0.52 %) cold users.\n",
      "ItemKNNCBFRecommender: URM Detected 1987 (7.65 %) cold items.\n",
      "Similarity column 25975 ( 100 % ), 3047.89 column/sec, elapsed time 0.14 min\n",
      "EvaluatorHoldout: Processed 5012 ( 100.00% ) in 4.43 sec. Users per second: 1132\n",
      "ItemKNNCBFRecommender: URM Detected 41 (0.52 %) cold users.\n",
      "ItemKNNCBFRecommender: URM Detected 1987 (7.65 %) cold items.\n",
      "Similarity column 25975 ( 100 % ), 2852.10 column/sec, elapsed time 0.15 min\n",
      "EvaluatorHoldout: Processed 5012 ( 100.00% ) in 4.39 sec. Users per second: 1141\n",
      "ItemKNNCBFRecommender: URM Detected 41 (0.52 %) cold users.\n",
      "ItemKNNCBFRecommender: URM Detected 1987 (7.65 %) cold items.\n",
      "Similarity column 25975 ( 100 % ), 2958.49 column/sec, elapsed time 0.15 min\n",
      "EvaluatorHoldout: Processed 5012 ( 100.00% ) in 4.46 sec. Users per second: 1124\n",
      "ItemKNNCBFRecommender: URM Detected 41 (0.52 %) cold users.\n",
      "ItemKNNCBFRecommender: URM Detected 1987 (7.65 %) cold items.\n",
      "Similarity column 25975 ( 100 % ), 2977.45 column/sec, elapsed time 0.15 min\n",
      "EvaluatorHoldout: Processed 5012 ( 100.00% ) in 4.47 sec. Users per second: 1121\n",
      "ItemKNNCBFRecommender: URM Detected 41 (0.52 %) cold users.\n",
      "ItemKNNCBFRecommender: URM Detected 1987 (7.65 %) cold items.\n",
      "Similarity column 25975 ( 100 % ), 3003.74 column/sec, elapsed time 0.14 min\n",
      "EvaluatorHoldout: Processed 5012 ( 100.00% ) in 4.60 sec. Users per second: 1089\n",
      "ItemKNNCBFRecommender: URM Detected 41 (0.52 %) cold users.\n",
      "ItemKNNCBFRecommender: URM Detected 1987 (7.65 %) cold items.\n",
      "Similarity column 25975 ( 100 % ), 2967.13 column/sec, elapsed time 0.15 min\n",
      "EvaluatorHoldout: Processed 5012 ( 100.00% ) in 4.30 sec. Users per second: 1165\n",
      "ItemKNNCBFRecommender: URM Detected 41 (0.52 %) cold users.\n",
      "ItemKNNCBFRecommender: URM Detected 1987 (7.65 %) cold items.\n",
      "Similarity column 25975 ( 100 % ), 3004.92 column/sec, elapsed time 0.14 min\n",
      "EvaluatorHoldout: Processed 5012 ( 100.00% ) in 4.77 sec. Users per second: 1050\n",
      "ItemKNNCBFRecommender: URM Detected 41 (0.52 %) cold users.\n",
      "ItemKNNCBFRecommender: URM Detected 1987 (7.65 %) cold items.\n",
      "Similarity column 25975 ( 100 % ), 3032.19 column/sec, elapsed time 0.14 min\n",
      "EvaluatorHoldout: Processed 5012 ( 100.00% ) in 4.64 sec. Users per second: 1081\n",
      "ItemKNNCBFRecommender: URM Detected 41 (0.52 %) cold users.\n",
      "ItemKNNCBFRecommender: URM Detected 1987 (7.65 %) cold items.\n",
      "Similarity column 25975 ( 100 % ), 3115.70 column/sec, elapsed time 0.14 min\n",
      "EvaluatorHoldout: Processed 5012 ( 100.00% ) in 5.49 sec. Users per second: 913\n",
      "ItemKNNCBFRecommender: URM Detected 41 (0.52 %) cold users.\n",
      "ItemKNNCBFRecommender: URM Detected 1987 (7.65 %) cold items.\n",
      "Similarity column 25975 ( 100 % ), 2749.54 column/sec, elapsed time 0.16 min\n",
      "EvaluatorHoldout: Processed 5012 ( 100.00% ) in 4.61 sec. Users per second: 1087\n",
      "ItemKNNCBFRecommender: URM Detected 41 (0.52 %) cold users.\n",
      "ItemKNNCBFRecommender: URM Detected 1987 (7.65 %) cold items.\n",
      "Similarity column 25975 ( 100 % ), 3056.09 column/sec, elapsed time 0.14 min\n",
      "EvaluatorHoldout: Processed 5012 ( 100.00% ) in 4.40 sec. Users per second: 1139\n",
      "ItemKNNCBFRecommender: URM Detected 41 (0.52 %) cold users.\n",
      "ItemKNNCBFRecommender: URM Detected 1987 (7.65 %) cold items.\n",
      "Similarity column 25975 ( 100 % ), 2873.89 column/sec, elapsed time 0.15 min\n",
      "EvaluatorHoldout: Processed 5012 ( 100.00% ) in 4.51 sec. Users per second: 1111\n",
      "ItemKNNCBFRecommender: URM Detected 41 (0.52 %) cold users.\n",
      "ItemKNNCBFRecommender: URM Detected 1987 (7.65 %) cold items.\n",
      "Similarity column 25975 ( 100 % ), 2977.42 column/sec, elapsed time 0.15 min\n",
      "EvaluatorHoldout: Processed 5012 ( 100.00% ) in 4.37 sec. Users per second: 1147\n",
      "ItemKNNCBFRecommender: URM Detected 41 (0.52 %) cold users.\n",
      "ItemKNNCBFRecommender: URM Detected 1987 (7.65 %) cold items.\n",
      "Similarity column 25975 ( 100 % ), 3000.19 column/sec, elapsed time 0.14 min\n",
      "EvaluatorHoldout: Processed 5012 ( 100.00% ) in 4.42 sec. Users per second: 1135\n",
      "ItemKNNCBFRecommender: URM Detected 41 (0.52 %) cold users.\n",
      "ItemKNNCBFRecommender: URM Detected 1987 (7.65 %) cold items.\n",
      "Similarity column 25975 ( 100 % ), 2990.41 column/sec, elapsed time 0.14 min\n",
      "EvaluatorHoldout: Processed 5012 ( 100.00% ) in 4.50 sec. Users per second: 1113\n",
      "ItemKNNCBFRecommender: URM Detected 41 (0.52 %) cold users.\n",
      "ItemKNNCBFRecommender: URM Detected 1987 (7.65 %) cold items.\n",
      "Similarity column 25975 ( 100 % ), 2985.36 column/sec, elapsed time 0.15 min\n",
      "EvaluatorHoldout: Processed 5012 ( 100.00% ) in 4.51 sec. Users per second: 1112\n",
      "ItemKNNCBFRecommender: URM Detected 41 (0.52 %) cold users.\n",
      "ItemKNNCBFRecommender: URM Detected 1987 (7.65 %) cold items.\n",
      "Similarity column 25975 ( 100 % ), 3066.26 column/sec, elapsed time 0.14 min\n",
      "EvaluatorHoldout: Processed 5012 ( 100.00% ) in 4.70 sec. Users per second: 1066\n",
      "ItemKNNCBFRecommender: URM Detected 41 (0.52 %) cold users.\n",
      "ItemKNNCBFRecommender: URM Detected 1987 (7.65 %) cold items.\n",
      "Similarity column 25975 ( 100 % ), 3031.42 column/sec, elapsed time 0.14 min\n",
      "EvaluatorHoldout: Processed 5012 ( 100.00% ) in 5.55 sec. Users per second: 904\n",
      "ItemKNNCBFRecommender: URM Detected 41 (0.52 %) cold users.\n",
      "ItemKNNCBFRecommender: URM Detected 1987 (7.65 %) cold items.\n",
      "Similarity column 25975 ( 100 % ), 3015.88 column/sec, elapsed time 0.14 min\n",
      "EvaluatorHoldout: Processed 5012 ( 100.00% ) in 4.87 sec. Users per second: 1028\n",
      "ItemKNNCBFRecommender: URM Detected 41 (0.52 %) cold users.\n",
      "ItemKNNCBFRecommender: URM Detected 1987 (7.65 %) cold items.\n",
      "Similarity column 25975 ( 100 % ), 3053.77 column/sec, elapsed time 0.14 min\n",
      "EvaluatorHoldout: Processed 5012 ( 100.00% ) in 4.64 sec. Users per second: 1080\n",
      "ItemKNNCBFRecommender: URM Detected 41 (0.52 %) cold users.\n",
      "ItemKNNCBFRecommender: URM Detected 1987 (7.65 %) cold items.\n",
      "Similarity column 25975 ( 100 % ), 2923.74 column/sec, elapsed time 0.15 min\n",
      "EvaluatorHoldout: Processed 5012 ( 100.00% ) in 4.63 sec. Users per second: 1083\n",
      "ItemKNNCBFRecommender: URM Detected 41 (0.52 %) cold users.\n",
      "ItemKNNCBFRecommender: URM Detected 1987 (7.65 %) cold items.\n"
     ]
    },
    {
     "name": "stdout",
     "output_type": "stream",
     "text": [
      "Similarity column 25975 ( 100 % ), 2869.76 column/sec, elapsed time 0.15 min\n",
      "EvaluatorHoldout: Processed 5012 ( 100.00% ) in 4.66 sec. Users per second: 1075\n",
      "ItemKNNCBFRecommender: URM Detected 41 (0.52 %) cold users.\n",
      "ItemKNNCBFRecommender: URM Detected 1987 (7.65 %) cold items.\n",
      "Similarity column 25975 ( 100 % ), 2963.87 column/sec, elapsed time 0.15 min\n",
      "EvaluatorHoldout: Processed 5012 ( 100.00% ) in 4.58 sec. Users per second: 1094\n",
      "ItemKNNCBFRecommender: URM Detected 41 (0.52 %) cold users.\n",
      "ItemKNNCBFRecommender: URM Detected 1987 (7.65 %) cold items.\n",
      "Similarity column 25975 ( 100 % ), 2887.00 column/sec, elapsed time 0.15 min\n",
      "EvaluatorHoldout: Processed 5012 ( 100.00% ) in 4.54 sec. Users per second: 1105\n",
      "ItemKNNCBFRecommender: URM Detected 41 (0.52 %) cold users.\n",
      "ItemKNNCBFRecommender: URM Detected 1987 (7.65 %) cold items.\n",
      "Similarity column 25975 ( 100 % ), 2945.05 column/sec, elapsed time 0.15 min\n",
      "EvaluatorHoldout: Processed 5012 ( 100.00% ) in 4.59 sec. Users per second: 1091\n",
      "ItemKNNCBFRecommender: URM Detected 41 (0.52 %) cold users.\n",
      "ItemKNNCBFRecommender: URM Detected 1987 (7.65 %) cold items.\n",
      "Similarity column 25975 ( 100 % ), 2838.05 column/sec, elapsed time 0.15 min\n",
      "EvaluatorHoldout: Processed 5012 ( 100.00% ) in 4.50 sec. Users per second: 1114\n",
      "ItemKNNCBFRecommender: URM Detected 41 (0.52 %) cold users.\n",
      "ItemKNNCBFRecommender: URM Detected 1987 (7.65 %) cold items.\n",
      "Similarity column 25975 ( 100 % ), 2900.29 column/sec, elapsed time 0.15 min\n",
      "EvaluatorHoldout: Processed 5012 ( 100.00% ) in 4.62 sec. Users per second: 1084\n"
     ]
    }
   ],
   "source": [
    "x_tick = []\n",
    "collaborative_MAP = []\n",
    "\n",
    "for topK in [500,600, 625, 650, 700]:\n",
    "    for shrink in [150,190,200,250,300,400,500]:\n",
    "        x_tick.append(\"topk {}, shrink{}\".format(topK,shrink))\n",
    "\n",
    "\n",
    "        recommender = ItemKNNCBFRecommender(URM_train, ICM_all)\n",
    "        recommender.fit(topK=topK, shrink=shrink, feature_weighting = 'TF-IDF')\n",
    "\n",
    "        result_dict, _ = evaluator_validation.evaluateRecommender(recommender)\n",
    "\n",
    "        collaborative_MAP.append(result_dict[10][\"MAP\"])"
   ]
  },
  {
   "cell_type": "code",
   "execution_count": 26,
   "metadata": {},
   "outputs": [
    {
     "name": "stdout",
     "output_type": "stream",
     "text": [
      "8 0.03225687475782484\n",
      "topk 600, shrink190\n"
     ]
    }
   ],
   "source": [
    "import operator\n",
    "index, value = max(enumerate(collaborative_MAP), key=operator.itemgetter(1))\n",
    "print(index, value)\n",
    "parameters = x_tick[index]\n",
    "print(parameters)"
   ]
  },
  {
   "cell_type": "code",
   "execution_count": 27,
   "metadata": {},
   "outputs": [
    {
     "data": {
      "image/png": "[encoded data removed]",
      "text/plain": [
       "<Figure size 1440x648 with 1 Axes>"
      ]
     },
     "metadata": {
      "needs_background": "light"
     },
     "output_type": "display_data"
    }
   ],
   "source": [
    "import matplotlib.ticker as ticker\n",
    "\n",
    "fig, ax = plt.subplots(1, 1, figsize=(20, 9))\n",
    "plt.plot(x_tick, collaborative_MAP, label=\"Collaborative\")\n",
    "ax.yaxis.set_major_locator(ticker.MultipleLocator(0.01))\n",
    "plt.ylabel('MAP')\n",
    "plt.xlabel('TopK')\n",
    "plt.xticks(rotation='vertical')\n",
    "plt.show()"
   ]
  },
  {
   "cell_type": "code",
   "execution_count": 39,
   "metadata": {},
   "outputs": [
    {
     "data": {
      "text/html": [
       "<div>\n",
       "<style scoped>\n",
       "    .dataframe tbody tr th:only-of-type {\n",
       "        vertical-align: middle;\n",
       "    }\n",
       "\n",
       "    .dataframe tbody tr th {\n",
       "        vertical-align: top;\n",
       "    }\n",
       "\n",
       "    .dataframe thead th {\n",
       "        text-align: right;\n",
       "    }\n",
       "</style>\n",
       "<table border=\"1\" class=\"dataframe\">\n",
       "  <thead>\n",
       "    <tr style=\"text-align: right;\">\n",
       "      <th></th>\n",
       "      <th>user_id</th>\n",
       "    </tr>\n",
       "  </thead>\n",
       "  <tbody>\n",
       "    <tr>\n",
       "      <th>0</th>\n",
       "      <td>0</td>\n",
       "    </tr>\n",
       "    <tr>\n",
       "      <th>1</th>\n",
       "      <td>1</td>\n",
       "    </tr>\n",
       "    <tr>\n",
       "      <th>2</th>\n",
       "      <td>2</td>\n",
       "    </tr>\n",
       "    <tr>\n",
       "      <th>3</th>\n",
       "      <td>3</td>\n",
       "    </tr>\n",
       "    <tr>\n",
       "      <th>4</th>\n",
       "      <td>4</td>\n",
       "    </tr>\n",
       "    <tr>\n",
       "      <th>...</th>\n",
       "      <td>...</td>\n",
       "    </tr>\n",
       "    <tr>\n",
       "      <th>7939</th>\n",
       "      <td>7942</td>\n",
       "    </tr>\n",
       "    <tr>\n",
       "      <th>7940</th>\n",
       "      <td>7943</td>\n",
       "    </tr>\n",
       "    <tr>\n",
       "      <th>7941</th>\n",
       "      <td>7944</td>\n",
       "    </tr>\n",
       "    <tr>\n",
       "      <th>7942</th>\n",
       "      <td>7945</td>\n",
       "    </tr>\n",
       "    <tr>\n",
       "      <th>7943</th>\n",
       "      <td>7946</td>\n",
       "    </tr>\n",
       "  </tbody>\n",
       "</table>\n",
       "<p>7944 rows × 1 columns</p>\n",
       "</div>"
      ],
      "text/plain": [
       "      user_id\n",
       "0           0\n",
       "1           1\n",
       "2           2\n",
       "3           3\n",
       "4           4\n",
       "...       ...\n",
       "7939     7942\n",
       "7940     7943\n",
       "7941     7944\n",
       "7942     7945\n",
       "7943     7946\n",
       "\n",
       "[7944 rows x 1 columns]"
      ]
     },
     "execution_count": 39,
     "metadata": {},
     "output_type": "execute_result"
    }
   ],
   "source": [
    "test_users = pd.read_csv('data_target_users_test.csv')\n",
    "test_users"
   ]
  },
  {
   "cell_type": "code",
   "execution_count": 40,
   "metadata": {},
   "outputs": [
    {
     "name": "stdout",
     "output_type": "stream",
     "text": [
      "ItemKNNCBFRecommender: URM Detected 1079 (4.15 %) cold items.\n",
      "Similarity column 25975 ( 100 % ), 3633.94 column/sec, elapsed time 0.12 min\n"
     ]
    }
   ],
   "source": [
    "# best model itemCBF topk 600, shrink200, weightTF-IDF\n",
    "\n",
    "recommender = ItemKNNCBFRecommender(URM_all, ICM_all)\n",
    "recommender.fit(topK=600, shrink=200, feature_weighting = 'TF-IDF')\n",
    "\n",
    "user_id = test_users['user_id']\n",
    "recommendations = recommender.recommend(user_id,cutoff = 10)\n"
   ]
  },
  {
   "cell_type": "code",
   "execution_count": 41,
   "metadata": {},
   "outputs": [
    {
     "name": "stdout",
     "output_type": "stream",
     "text": [
      "7944\n"
     ]
    }
   ],
   "source": [
    "for index in range(len(recommendations)):\n",
    "    #print(element)\n",
    "    recommendations[index]=np.array(recommendations[index])\n",
    "    #print(type(element))\n",
    "print(len(recommendations))"
   ]
  },
  {
   "cell_type": "code",
   "execution_count": 42,
   "metadata": {},
   "outputs": [],
   "source": [
    "test_users['item_list']= recommendations\n",
    "#test_users['item_list'] =  test_users['item_list'].apply(lambda x: x.replace('[','').replace(']','')) \n",
    "test_users['item_list'] = pd.DataFrame([str(line).strip('[').strip(']').replace(\"'\",\"\") for line in test_users['item_list']])\n",
    "\n",
    "#convert the string columns to int\n",
    "#test_users['item_list'] = test_users['item_list'].astype(int)\n",
    "test_users\n",
    "test_users.to_csv('submission.csv', index=False)\n"
   ]
  },
  {
   "cell_type": "code",
   "execution_count": null,
   "metadata": {},
   "outputs": [],
   "source": []
  }
 ],
 "metadata": {
  "kernelspec": {
   "display_name": "Python 3",
   "language": "python",
   "name": "python3"
  },
  "language_info": {
   "codemirror_mode": {
    "name": "ipython",
    "version": 3
   },
   "file_extension": ".py",
   "mimetype": "text/x-python",
   "name": "python",
   "nbconvert_exporter": "python",
   "pygments_lexer": "ipython3",
   "version": "3.8.5"
  }
 },
 "nbformat": 4,
 "nbformat_minor": 4
}
