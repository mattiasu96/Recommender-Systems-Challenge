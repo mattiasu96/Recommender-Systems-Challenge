{
 "cells": [
  {
   "cell_type": "markdown",
   "metadata": {},
   "source": [
    "# SLIM MODEL\n",
    "Since the KNN_Item_CF is the one that perfomed the best so far, now i'm trying a SLIM Model, which is basically the same algorithm but Machine Learning based. It uses the infos from the training data instead of some heuristic (such as cosine similarity ecc...)\n",
    "https://notebook.community/trangel/Insight-Data-Science/general-docs/recommendation-validation/.ipynb_checkpoints/recommender_systems-validation-checkpoint"
   ]
  },
  {
   "cell_type": "markdown",
   "metadata": {},
   "source": [
    "# Data loading \n",
    "Next cells are used to load the data we need."
   ]
  },
  {
   "cell_type": "code",
   "execution_count": 1,
   "metadata": {},
   "outputs": [],
   "source": [
    "import pandas as pd\n",
    "import numpy as np \n",
    "import scipy.sparse as sps\n",
    "import os\n",
    "import sys\n",
    "import matplotlib.pyplot as plt\n",
    "sys.path.append('..')\n"
   ]
  },
  {
   "cell_type": "code",
   "execution_count": 2,
   "metadata": {},
   "outputs": [
    {
     "data": {
      "text/html": [
       "<div>\n",
       "<style scoped>\n",
       "    .dataframe tbody tr th:only-of-type {\n",
       "        vertical-align: middle;\n",
       "    }\n",
       "\n",
       "    .dataframe tbody tr th {\n",
       "        vertical-align: top;\n",
       "    }\n",
       "\n",
       "    .dataframe thead th {\n",
       "        text-align: right;\n",
       "    }\n",
       "</style>\n",
       "<table border=\"1\" class=\"dataframe\">\n",
       "  <thead>\n",
       "    <tr style=\"text-align: right;\">\n",
       "      <th></th>\n",
       "      <th>row</th>\n",
       "      <th>col</th>\n",
       "      <th>data</th>\n",
       "    </tr>\n",
       "  </thead>\n",
       "  <tbody>\n",
       "    <tr>\n",
       "      <th>0</th>\n",
       "      <td>0</td>\n",
       "      <td>10080</td>\n",
       "      <td>1.0</td>\n",
       "    </tr>\n",
       "    <tr>\n",
       "      <th>1</th>\n",
       "      <td>0</td>\n",
       "      <td>19467</td>\n",
       "      <td>1.0</td>\n",
       "    </tr>\n",
       "    <tr>\n",
       "      <th>2</th>\n",
       "      <td>1</td>\n",
       "      <td>2665</td>\n",
       "      <td>1.0</td>\n",
       "    </tr>\n",
       "    <tr>\n",
       "      <th>3</th>\n",
       "      <td>1</td>\n",
       "      <td>7494</td>\n",
       "      <td>1.0</td>\n",
       "    </tr>\n",
       "    <tr>\n",
       "      <th>4</th>\n",
       "      <td>1</td>\n",
       "      <td>17068</td>\n",
       "      <td>1.0</td>\n",
       "    </tr>\n",
       "    <tr>\n",
       "      <th>...</th>\n",
       "      <td>...</td>\n",
       "      <td>...</td>\n",
       "      <td>...</td>\n",
       "    </tr>\n",
       "    <tr>\n",
       "      <th>113263</th>\n",
       "      <td>7945</td>\n",
       "      <td>2476</td>\n",
       "      <td>1.0</td>\n",
       "    </tr>\n",
       "    <tr>\n",
       "      <th>113264</th>\n",
       "      <td>7945</td>\n",
       "      <td>12319</td>\n",
       "      <td>1.0</td>\n",
       "    </tr>\n",
       "    <tr>\n",
       "      <th>113265</th>\n",
       "      <td>7945</td>\n",
       "      <td>21384</td>\n",
       "      <td>1.0</td>\n",
       "    </tr>\n",
       "    <tr>\n",
       "      <th>113266</th>\n",
       "      <td>7946</td>\n",
       "      <td>8699</td>\n",
       "      <td>1.0</td>\n",
       "    </tr>\n",
       "    <tr>\n",
       "      <th>113267</th>\n",
       "      <td>7946</td>\n",
       "      <td>19178</td>\n",
       "      <td>1.0</td>\n",
       "    </tr>\n",
       "  </tbody>\n",
       "</table>\n",
       "<p>113268 rows × 3 columns</p>\n",
       "</div>"
      ],
      "text/plain": [
       "         row    col  data\n",
       "0          0  10080   1.0\n",
       "1          0  19467   1.0\n",
       "2          1   2665   1.0\n",
       "3          1   7494   1.0\n",
       "4          1  17068   1.0\n",
       "...      ...    ...   ...\n",
       "113263  7945   2476   1.0\n",
       "113264  7945  12319   1.0\n",
       "113265  7945  21384   1.0\n",
       "113266  7946   8699   1.0\n",
       "113267  7946  19178   1.0\n",
       "\n",
       "[113268 rows x 3 columns]"
      ]
     },
     "execution_count": 2,
     "metadata": {},
     "output_type": "execute_result"
    }
   ],
   "source": [
    "#data which contains users (row), items(col) and implicit interaction (data)\n",
    "dataset = pd.read_csv('data_train.csv')\n",
    "dataset"
   ]
  },
  {
   "cell_type": "markdown",
   "metadata": {},
   "source": [
    "# Data pre-processing\n",
    "Pre-processing of data to check for missing users, items ecc..."
   ]
  },
  {
   "cell_type": "code",
   "execution_count": 3,
   "metadata": {},
   "outputs": [
    {
     "name": "stdout",
     "output_type": "stream",
     "text": [
      "users stats: 7947 0 7946\n",
      "items stats: 24896 0 25974\n"
     ]
    }
   ],
   "source": [
    "unique_users, min_users, max_users = len(dataset.row.unique()), dataset.row.min(), dataset.row.max()\n",
    "unique_items, min_items, max_items = len(dataset.col.unique()), dataset.col.min(), dataset.col.max()\n",
    "print('users stats:',unique_users, min_users, max_users)\n",
    "print('items stats:',unique_items, min_items, max_items)"
   ]
  },
  {
   "cell_type": "markdown",
   "metadata": {},
   "source": [
    "If the difference between the unique elements and the max/min ones is really big, it's better to remap users and items in a new dataframe. In this case, it seems I can leave it as it is"
   ]
  },
  {
   "cell_type": "code",
   "execution_count": 4,
   "metadata": {},
   "outputs": [
    {
     "data": {
      "text/plain": [
       "(7947, 25975)"
      ]
     },
     "execution_count": 4,
     "metadata": {},
     "output_type": "execute_result"
    }
   ],
   "source": [
    "users = dataset.row\n",
    "items = dataset.col\n",
    "data = dataset.data\n",
    "URM_all = sps.coo_matrix((data, (users, items)))\n",
    "URM_all = URM_all.tocsr() #fast row access -> fast access to users \n",
    "URM_all.shape"
   ]
  },
  {
   "cell_type": "markdown",
   "metadata": {},
   "source": [
    "CSR basically has a pointer to the exact beginning of every possible row. For example if i have <code>matrix.inptr = [0,1,2,4,6] </code> this means that at <code>matrix.inptr[n]</code> I have my n row which \"last\" until the next cell in the array. <br> In this case (for example) my third row goes from 2 to 4. <br>\n",
    "\n",
    "What do I do with it? <br>\n",
    "\n",
    "I use this index (2 to 4) to access the other two arrays of the crs format: <code>indices</code> and <code>data</code>.\n",
    "<code>indices</code> gives me the column index and <code>data</code> gives me the actual data to take"
   ]
  },
  {
   "cell_type": "code",
   "execution_count": 5,
   "metadata": {},
   "outputs": [],
   "source": [
    "items_per_user = np.ediff1d(URM_all.indptr) #tells in which position each of the rows begin\n",
    "users_per_item = np.ediff1d(sps.csc_matrix(URM_all).indptr)\n",
    "URM_all = sps.csr_matrix(URM_all)"
   ]
  },
  {
   "cell_type": "code",
   "execution_count": 6,
   "metadata": {},
   "outputs": [],
   "source": [
    "items_per_user = np.sort(items_per_user) #sorting based on the single value. Losing reference to the user. \n",
    "users_per_item = np.sort(users_per_item)"
   ]
  },
  {
   "cell_type": "markdown",
   "metadata": {},
   "source": [
    "The following 2 graphs plots the <code>items_per_user</code> and the <code>users_per_item</code>. It shows that slightly more than 2500 users and 2500 items have a 0 count. This is coherent with the original data we got: 30910-27255 for users and 18494-15277 for items. These differences are the missing users/items in the dataset (Basically users/items that have no interaction at all)"
   ]
  },
  {
   "cell_type": "code",
   "execution_count": 7,
   "metadata": {},
   "outputs": [
    {
     "data": {
      "text/plain": [
       "[<matplotlib.lines.Line2D at 0x235e73fc7c0>]"
      ]
     },
     "execution_count": 7,
     "metadata": {},
     "output_type": "execute_result"
    },
    {
     "data": {
      "image/png": "[encoded data removed]",
      "text/plain": [
       "<Figure size 1080x864 with 1 Axes>"
      ]
     },
     "metadata": {
      "needs_background": "light"
     },
     "output_type": "display_data"
    }
   ],
   "source": [
    "plt.figure(figsize=(15,12))\n",
    "plt.plot(items_per_user, 'ro') #biased dataset, but not so much compared with the one seen at lessons "
   ]
  },
  {
   "cell_type": "code",
   "execution_count": 8,
   "metadata": {},
   "outputs": [
    {
     "data": {
      "text/plain": [
       "[<matplotlib.lines.Line2D at 0x235e99de3a0>]"
      ]
     },
     "execution_count": 8,
     "metadata": {},
     "output_type": "execute_result"
    },
    {
     "data": {
      "image/png": "[encoded data removed]",
      "text/plain": [
       "<Figure size 1080x864 with 1 Axes>"
      ]
     },
     "metadata": {
      "needs_background": "light"
     },
     "output_type": "display_data"
    }
   ],
   "source": [
    "plt.figure(figsize=(15,12))\n",
    "plt.plot(users_per_item, 'ro') #biased dataset, but not so much compared with the one seen at lessons "
   ]
  },
  {
   "cell_type": "code",
   "execution_count": 56,
   "metadata": {},
   "outputs": [
    {
     "data": {
      "text/html": [
       "<div>\n",
       "<style scoped>\n",
       "    .dataframe tbody tr th:only-of-type {\n",
       "        vertical-align: middle;\n",
       "    }\n",
       "\n",
       "    .dataframe tbody tr th {\n",
       "        vertical-align: top;\n",
       "    }\n",
       "\n",
       "    .dataframe thead th {\n",
       "        text-align: right;\n",
       "    }\n",
       "</style>\n",
       "<table border=\"1\" class=\"dataframe\">\n",
       "  <thead>\n",
       "    <tr style=\"text-align: right;\">\n",
       "      <th></th>\n",
       "      <th>row</th>\n",
       "      <th>col</th>\n",
       "      <th>data</th>\n",
       "    </tr>\n",
       "  </thead>\n",
       "  <tbody>\n",
       "    <tr>\n",
       "      <th>0</th>\n",
       "      <td>0</td>\n",
       "      <td>1185</td>\n",
       "      <td>1.015524</td>\n",
       "    </tr>\n",
       "    <tr>\n",
       "      <th>1</th>\n",
       "      <td>0</td>\n",
       "      <td>2507</td>\n",
       "      <td>0.459024</td>\n",
       "    </tr>\n",
       "    <tr>\n",
       "      <th>2</th>\n",
       "      <td>0</td>\n",
       "      <td>3534</td>\n",
       "      <td>0.227742</td>\n",
       "    </tr>\n",
       "    <tr>\n",
       "      <th>3</th>\n",
       "      <td>0</td>\n",
       "      <td>8766</td>\n",
       "      <td>0.501549</td>\n",
       "    </tr>\n",
       "    <tr>\n",
       "      <th>4</th>\n",
       "      <td>0</td>\n",
       "      <td>10862</td>\n",
       "      <td>0.297011</td>\n",
       "    </tr>\n",
       "    <tr>\n",
       "      <th>...</th>\n",
       "      <td>...</td>\n",
       "      <td>...</td>\n",
       "      <td>...</td>\n",
       "    </tr>\n",
       "    <tr>\n",
       "      <th>490686</th>\n",
       "      <td>25974</td>\n",
       "      <td>12554</td>\n",
       "      <td>0.963016</td>\n",
       "    </tr>\n",
       "    <tr>\n",
       "      <th>490687</th>\n",
       "      <td>25974</td>\n",
       "      <td>13003</td>\n",
       "      <td>0.104613</td>\n",
       "    </tr>\n",
       "    <tr>\n",
       "      <th>490688</th>\n",
       "      <td>25974</td>\n",
       "      <td>16236</td>\n",
       "      <td>0.118760</td>\n",
       "    </tr>\n",
       "    <tr>\n",
       "      <th>490689</th>\n",
       "      <td>25974</td>\n",
       "      <td>18797</td>\n",
       "      <td>0.363301</td>\n",
       "    </tr>\n",
       "    <tr>\n",
       "      <th>490690</th>\n",
       "      <td>25974</td>\n",
       "      <td>19629</td>\n",
       "      <td>0.129141</td>\n",
       "    </tr>\n",
       "  </tbody>\n",
       "</table>\n",
       "<p>490691 rows × 3 columns</p>\n",
       "</div>"
      ],
      "text/plain": [
       "          row    col      data\n",
       "0           0   1185  1.015524\n",
       "1           0   2507  0.459024\n",
       "2           0   3534  0.227742\n",
       "3           0   8766  0.501549\n",
       "4           0  10862  0.297011\n",
       "...       ...    ...       ...\n",
       "490686  25974  12554  0.963016\n",
       "490687  25974  13003  0.104613\n",
       "490688  25974  16236  0.118760\n",
       "490689  25974  18797  0.363301\n",
       "490690  25974  19629  0.129141\n",
       "\n",
       "[490691 rows x 3 columns]"
      ]
     },
     "execution_count": 56,
     "metadata": {},
     "output_type": "execute_result"
    }
   ],
   "source": [
    "ICM_df = pd.read_csv('data_ICM_title_abstract.csv')\n",
    "ICM_df"
   ]
  },
  {
   "cell_type": "code",
   "execution_count": 59,
   "metadata": {},
   "outputs": [
    {
     "name": "stdout",
     "output_type": "stream",
     "text": [
      "items stats: 25950 0 25974\n",
      "features stats: 19998 0 19999\n"
     ]
    }
   ],
   "source": [
    "unique_items, min_items, max_items = len(ICM_df.row.unique()), ICM_df.row.min(), ICM_df.row.max()\n",
    "unique_features, min_features, max_features = len(ICM_df.col.unique()), ICM_df.col.min(), ICM_df.col.max()\n",
    "print('items stats:',unique_items, min_items, max_items)\n",
    "print('features stats:',unique_features, min_features, max_features)"
   ]
  },
  {
   "cell_type": "code",
   "execution_count": 60,
   "metadata": {},
   "outputs": [
    {
     "data": {
      "text/plain": [
       "(25975, 20000)"
      ]
     },
     "execution_count": 60,
     "metadata": {},
     "output_type": "execute_result"
    }
   ],
   "source": [
    "items = ICM_df.row\n",
    "features = ICM_df.col\n",
    "data = ICM_df.data\n",
    "ICM_all = sps.coo_matrix((data, (items, features)))\n",
    "ICM_all = ICM_all.tocsr() #fast row access -> fast access to users \n",
    "ICM_all.shape"
   ]
  },
  {
   "cell_type": "code",
   "execution_count": 61,
   "metadata": {},
   "outputs": [],
   "source": [
    "ICM_all = sps.csr_matrix(ICM_all)\n",
    "features_per_item = np.ediff1d(ICM_all.indptr)\n",
    "\n",
    "ICM_all = sps.csc_matrix(ICM_all)\n",
    "items_per_feature = np.ediff1d(ICM_all.indptr)\n",
    "\n",
    "ICM_all = sps.csr_matrix(ICM_all)"
   ]
  },
  {
   "cell_type": "code",
   "execution_count": 62,
   "metadata": {},
   "outputs": [],
   "source": [
    "features_per_item = np.sort(features_per_item)\n",
    "items_per_feature = np.sort(items_per_feature)"
   ]
  },
  {
   "cell_type": "code",
   "execution_count": 63,
   "metadata": {},
   "outputs": [
    {
     "data": {
      "image/png": "[encoded data removed]",
      "text/plain": [
       "<Figure size 432x288 with 1 Axes>"
      ]
     },
     "metadata": {
      "needs_background": "light"
     },
     "output_type": "display_data"
    }
   ],
   "source": [
    "import matplotlib.pyplot as pyplot\n",
    "%matplotlib inline  \n",
    "\n",
    "plt.plot(features_per_item, 'ro')\n",
    "plt.ylabel('Num features ')\n",
    "plt.xlabel('Item Index')\n",
    "plt.show()"
   ]
  },
  {
   "cell_type": "code",
   "execution_count": 64,
   "metadata": {},
   "outputs": [
    {
     "data": {
      "image/png": "[encoded data removed]",
      "text/plain": [
       "<Figure size 432x288 with 1 Axes>"
      ]
     },
     "metadata": {
      "needs_background": "light"
     },
     "output_type": "display_data"
    }
   ],
   "source": [
    "plt.plot(items_per_feature, 'ro')\n",
    "plt.ylabel('Num items ')\n",
    "plt.xlabel('Feature Index')\n",
    "plt.show()"
   ]
  },
  {
   "cell_type": "code",
   "execution_count": 65,
   "metadata": {},
   "outputs": [
    {
     "name": "stdout",
     "output_type": "stream",
     "text": [
      "Warning: 44 (0.55 %) of 7947 users have no train items\n",
      "Warning: 2924 (36.79 %) of 7947 users have no sampled items\n"
     ]
    }
   ],
   "source": [
    "from Base.Evaluation.Evaluator import EvaluatorHoldout\n",
    "from Data_manager.split_functions.split_train_validation_random_holdout import split_train_in_two_percentage_global_sample\n",
    "\n",
    "#splitting data into train and test. In teoria non serve, da vedere\n",
    "#URM_train, URM_test = split_train_in_two_percentage_global_sample(URM_all, train_percentage = 0.85)\n",
    "\n",
    "#splitting data into train and validation (from the previous training data)\n",
    "URM_train, URM_validation = split_train_in_two_percentage_global_sample(URM_all, train_percentage = 0.85)\n",
    "\n"
   ]
  },
  {
   "cell_type": "code",
   "execution_count": 66,
   "metadata": {},
   "outputs": [],
   "source": [
    "#evaluator for validation (used for hyperparameter tuning)\n",
    "evaluator_validation = EvaluatorHoldout(URM_validation, cutoff_list=[10])\n",
    "\n",
    "#evaluator for testing (the final one)\n",
    "#evaluator_test = EvaluatorHoldout(URM_test, cutoff_list=[10])"
   ]
  },
  {
   "cell_type": "code",
   "execution_count": 68,
   "metadata": {},
   "outputs": [
    {
     "name": "stdout",
     "output_type": "stream",
     "text": [
      "P3alphaRecommender: URM Detected 44 (0.55 %) cold users.\n",
      "P3alphaRecommender: URM Detected 2010 (7.74 %) cold items.\n",
      "ItemKNNCBFRecommender: URM Detected 44 (0.55 %) cold users.\n",
      "ItemKNNCBFRecommender: URM Detected 2010 (7.74 %) cold items.\n",
      "Similarity column 25975 ( 100 % ), 3858.34 column/sec, elapsed time 0.11 min\n"
     ]
    }
   ],
   "source": [
    "from GraphBased.P3alphaRecommender import P3alphaRecommender\n",
    "from KNN.ItemKNNCBFRecommender import ItemKNNCBFRecommender\n",
    "from KNN.ItemKNNSimilarityHybridRecommender import ItemKNNSimilarityHybridRecommender\n",
    "\n",
    "recommender_alpha = P3alphaRecommender(URM_train)\n",
    "recommender_alpha.fit(topK=200, alpha = 0.5, implicit = True)\n",
    "\n",
    "recommender_itemKNNCBF = ItemKNNCBFRecommender(URM_train, ICM_all)\n",
    "recommender_itemKNNCBF.fit()"
   ]
  },
  {
   "cell_type": "code",
   "execution_count": 79,
   "metadata": {},
   "outputs": [
    {
     "name": "stdout",
     "output_type": "stream",
     "text": [
      "ItemKNNSimilarityHybridRecommender: URM Detected 44 (0.55 %) cold users.\n",
      "ItemKNNSimilarityHybridRecommender: URM Detected 2010 (7.74 %) cold items.\n"
     ]
    }
   ],
   "source": [
    "hybridrecommender = ItemKNNSimilarityHybridRecommender(URM_train, recommender_itemKNNCBF.W_sparse, recommender_alpha.W_sparse)\n",
    "hybridrecommender.fit(alpha = 0.8)"
   ]
  },
  {
   "cell_type": "code",
   "execution_count": 80,
   "metadata": {},
   "outputs": [
    {
     "name": "stdout",
     "output_type": "stream",
     "text": [
      "EvaluatorHoldout: Processed 5023 ( 100.00% ) in 3.12 sec. Users per second: 1608\n"
     ]
    },
    {
     "data": {
      "text/plain": [
       "({10: {'ROC_AUC': 0.16386924907331085,\n",
       "   'PRECISION': 0.03318733824407659,\n",
       "   'PRECISION_RECALL_MIN_DEN': 0.13171727513754228,\n",
       "   'RECALL': 0.12880925459411627,\n",
       "   'MAP': 0.061191955904326516,\n",
       "   'MRR': 0.11770380061242106,\n",
       "   'NDCG': 0.09060407764898183,\n",
       "   'F1': 0.052776866800552415,\n",
       "   'HIT_RATE': 0.33187338244077247,\n",
       "   'ARHR': 0.1322983324327146,\n",
       "   'NOVELTY': 0.004923416011674705,\n",
       "   'AVERAGE_POPULARITY': 0.09433245624344878,\n",
       "   'DIVERSITY_MEAN_INTER_LIST': 0.9885621323116373,\n",
       "   'DIVERSITY_HERFINDAHL': 0.9988365325197898,\n",
       "   'COVERAGE_ITEM': 0.44993262752646773,\n",
       "   'COVERAGE_ITEM_CORRECT': 0.0383060635226179,\n",
       "   'COVERAGE_USER': 0.6320624134893671,\n",
       "   'COVERAGE_USER_CORRECT': 0.16282874040518436,\n",
       "   'DIVERSITY_GINI': 0.16192801533028145,\n",
       "   'SHANNON_ENTROPY': 11.815380689943302}},\n",
       " 'CUTOFF: 10 - ROC_AUC: 0.1638692, PRECISION: 0.0331873, PRECISION_RECALL_MIN_DEN: 0.1317173, RECALL: 0.1288093, MAP: 0.0611920, MRR: 0.1177038, NDCG: 0.0906041, F1: 0.0527769, HIT_RATE: 0.3318734, ARHR: 0.1322983, NOVELTY: 0.0049234, AVERAGE_POPULARITY: 0.0943325, DIVERSITY_MEAN_INTER_LIST: 0.9885621, DIVERSITY_HERFINDAHL: 0.9988365, COVERAGE_ITEM: 0.4499326, COVERAGE_ITEM_CORRECT: 0.0383061, COVERAGE_USER: 0.6320624, COVERAGE_USER_CORRECT: 0.1628287, DIVERSITY_GINI: 0.1619280, SHANNON_ENTROPY: 11.8153807, \\n')"
      ]
     },
     "execution_count": 80,
     "metadata": {},
     "output_type": "execute_result"
    }
   ],
   "source": [
    "evaluator_validation.evaluateRecommender(hybridrecommender)"
   ]
  },
  {
   "cell_type": "code",
   "execution_count": 32,
   "metadata": {},
   "outputs": [
    {
     "name": "stdout",
     "output_type": "stream",
     "text": [
      "P3alphaRecommender: URM Detected 40 (0.50 %) cold users.\n",
      "P3alphaRecommender: URM Detected 1962 (7.55 %) cold items.\n",
      "EvaluatorHoldout: Processed 4937 ( 100.00% ) in 3.83 sec. Users per second: 1289\n",
      "P3alphaRecommender: URM Detected 40 (0.50 %) cold users.\n",
      "P3alphaRecommender: URM Detected 1962 (7.55 %) cold items.\n",
      "EvaluatorHoldout: Processed 4937 ( 100.00% ) in 4.17 sec. Users per second: 1184\n",
      "P3alphaRecommender: URM Detected 40 (0.50 %) cold users.\n",
      "P3alphaRecommender: URM Detected 1962 (7.55 %) cold items.\n",
      "EvaluatorHoldout: Processed 4937 ( 100.00% ) in 4.30 sec. Users per second: 1147\n",
      "P3alphaRecommender: URM Detected 40 (0.50 %) cold users.\n",
      "P3alphaRecommender: URM Detected 1962 (7.55 %) cold items.\n",
      "EvaluatorHoldout: Processed 4937 ( 100.00% ) in 3.75 sec. Users per second: 1317\n",
      "P3alphaRecommender: URM Detected 40 (0.50 %) cold users.\n",
      "P3alphaRecommender: URM Detected 1962 (7.55 %) cold items.\n",
      "EvaluatorHoldout: Processed 4937 ( 100.00% ) in 3.40 sec. Users per second: 1451\n",
      "P3alphaRecommender: URM Detected 40 (0.50 %) cold users.\n",
      "P3alphaRecommender: URM Detected 1962 (7.55 %) cold items.\n",
      "EvaluatorHoldout: Processed 4937 ( 100.00% ) in 3.67 sec. Users per second: 1343\n",
      "P3alphaRecommender: URM Detected 40 (0.50 %) cold users.\n",
      "P3alphaRecommender: URM Detected 1962 (7.55 %) cold items.\n",
      "EvaluatorHoldout: Processed 4937 ( 100.00% ) in 3.54 sec. Users per second: 1396\n",
      "P3alphaRecommender: URM Detected 40 (0.50 %) cold users.\n",
      "P3alphaRecommender: URM Detected 1962 (7.55 %) cold items.\n",
      "EvaluatorHoldout: Processed 4937 ( 100.00% ) in 3.69 sec. Users per second: 1339\n",
      "P3alphaRecommender: URM Detected 40 (0.50 %) cold users.\n",
      "P3alphaRecommender: URM Detected 1962 (7.55 %) cold items.\n",
      "EvaluatorHoldout: Processed 4937 ( 100.00% ) in 3.81 sec. Users per second: 1294\n",
      "P3alphaRecommender: URM Detected 40 (0.50 %) cold users.\n",
      "P3alphaRecommender: URM Detected 1962 (7.55 %) cold items.\n",
      "EvaluatorHoldout: Processed 4937 ( 100.00% ) in 5.80 sec. Users per second: 851\n",
      "P3alphaRecommender: URM Detected 40 (0.50 %) cold users.\n",
      "P3alphaRecommender: URM Detected 1962 (7.55 %) cold items.\n",
      "EvaluatorHoldout: Processed 4937 ( 100.00% ) in 3.99 sec. Users per second: 1238\n",
      "P3alphaRecommender: URM Detected 40 (0.50 %) cold users.\n",
      "P3alphaRecommender: URM Detected 1962 (7.55 %) cold items.\n",
      "EvaluatorHoldout: Processed 4937 ( 100.00% ) in 4.05 sec. Users per second: 1218\n",
      "P3alphaRecommender: URM Detected 40 (0.50 %) cold users.\n",
      "P3alphaRecommender: URM Detected 1962 (7.55 %) cold items.\n",
      "EvaluatorHoldout: Processed 4937 ( 100.00% ) in 3.70 sec. Users per second: 1335\n",
      "P3alphaRecommender: URM Detected 40 (0.50 %) cold users.\n",
      "P3alphaRecommender: URM Detected 1962 (7.55 %) cold items.\n",
      "EvaluatorHoldout: Processed 4937 ( 100.00% ) in 3.88 sec. Users per second: 1273\n",
      "P3alphaRecommender: URM Detected 40 (0.50 %) cold users.\n",
      "P3alphaRecommender: URM Detected 1962 (7.55 %) cold items.\n",
      "EvaluatorHoldout: Processed 4937 ( 100.00% ) in 3.74 sec. Users per second: 1320\n",
      "P3alphaRecommender: URM Detected 40 (0.50 %) cold users.\n",
      "P3alphaRecommender: URM Detected 1962 (7.55 %) cold items.\n",
      "EvaluatorHoldout: Processed 4937 ( 100.00% ) in 3.97 sec. Users per second: 1242\n",
      "P3alphaRecommender: URM Detected 40 (0.50 %) cold users.\n",
      "P3alphaRecommender: URM Detected 1962 (7.55 %) cold items.\n",
      "EvaluatorHoldout: Processed 4937 ( 100.00% ) in 3.99 sec. Users per second: 1237\n",
      "P3alphaRecommender: URM Detected 40 (0.50 %) cold users.\n",
      "P3alphaRecommender: URM Detected 1962 (7.55 %) cold items.\n",
      "EvaluatorHoldout: Processed 4937 ( 100.00% ) in 3.71 sec. Users per second: 1331\n",
      "P3alphaRecommender: URM Detected 40 (0.50 %) cold users.\n",
      "P3alphaRecommender: URM Detected 1962 (7.55 %) cold items.\n",
      "EvaluatorHoldout: Processed 4937 ( 100.00% ) in 4.35 sec. Users per second: 1136\n",
      "P3alphaRecommender: URM Detected 40 (0.50 %) cold users.\n",
      "P3alphaRecommender: URM Detected 1962 (7.55 %) cold items.\n",
      "EvaluatorHoldout: Processed 4937 ( 100.00% ) in 4.02 sec. Users per second: 1227\n",
      "P3alphaRecommender: URM Detected 40 (0.50 %) cold users.\n",
      "P3alphaRecommender: URM Detected 1962 (7.55 %) cold items.\n",
      "EvaluatorHoldout: Processed 4937 ( 100.00% ) in 4.08 sec. Users per second: 1209\n",
      "P3alphaRecommender: URM Detected 40 (0.50 %) cold users.\n",
      "P3alphaRecommender: URM Detected 1962 (7.55 %) cold items.\n",
      "EvaluatorHoldout: Processed 4937 ( 100.00% ) in 4.17 sec. Users per second: 1183\n",
      "P3alphaRecommender: URM Detected 40 (0.50 %) cold users.\n",
      "P3alphaRecommender: URM Detected 1962 (7.55 %) cold items.\n",
      "EvaluatorHoldout: Processed 4937 ( 100.00% ) in 4.21 sec. Users per second: 1172\n",
      "P3alphaRecommender: URM Detected 40 (0.50 %) cold users.\n",
      "P3alphaRecommender: URM Detected 1962 (7.55 %) cold items.\n",
      "EvaluatorHoldout: Processed 4937 ( 100.00% ) in 3.98 sec. Users per second: 1242\n",
      "P3alphaRecommender: URM Detected 40 (0.50 %) cold users.\n",
      "P3alphaRecommender: URM Detected 1962 (7.55 %) cold items.\n",
      "EvaluatorHoldout: Processed 4937 ( 100.00% ) in 3.95 sec. Users per second: 1249\n",
      "P3alphaRecommender: URM Detected 40 (0.50 %) cold users.\n",
      "P3alphaRecommender: URM Detected 1962 (7.55 %) cold items.\n",
      "EvaluatorHoldout: Processed 4937 ( 100.00% ) in 4.53 sec. Users per second: 1090\n",
      "P3alphaRecommender: URM Detected 40 (0.50 %) cold users.\n",
      "P3alphaRecommender: URM Detected 1962 (7.55 %) cold items.\n",
      "EvaluatorHoldout: Processed 4937 ( 100.00% ) in 3.79 sec. Users per second: 1302\n",
      "P3alphaRecommender: URM Detected 40 (0.50 %) cold users.\n",
      "P3alphaRecommender: URM Detected 1962 (7.55 %) cold items.\n",
      "EvaluatorHoldout: Processed 4937 ( 100.00% ) in 3.96 sec. Users per second: 1246\n",
      "P3alphaRecommender: URM Detected 40 (0.50 %) cold users.\n",
      "P3alphaRecommender: URM Detected 1962 (7.55 %) cold items.\n",
      "EvaluatorHoldout: Processed 4937 ( 100.00% ) in 3.81 sec. Users per second: 1296\n",
      "P3alphaRecommender: URM Detected 40 (0.50 %) cold users.\n",
      "P3alphaRecommender: URM Detected 1962 (7.55 %) cold items.\n",
      "EvaluatorHoldout: Processed 4937 ( 100.00% ) in 3.82 sec. Users per second: 1291\n"
     ]
    }
   ],
   "source": [
    "x_tick = []\n",
    "collaborative_MAP = []\n",
    "\n",
    "for topK in [100,200,300,600,650,700]:\n",
    "    for alpha in [0.1,0.2,0.5,0.7,1]:\n",
    "\n",
    "        x_tick.append(\"topk {}, alpha{}\".format(topK,alpha))\n",
    "\n",
    "\n",
    "        recommender = P3alphaRecommender(URM_train)\n",
    "\n",
    "        #remember to specify the positive threshold\n",
    "        recommender.fit(topK=topK, alpha=alpha, implicit=True)\n",
    "\n",
    "        result_dict, _ = evaluator_validation.evaluateRecommender(recommender)\n",
    "\n",
    "        collaborative_MAP.append(result_dict[10][\"MAP\"])"
   ]
  },
  {
   "cell_type": "code",
   "execution_count": 33,
   "metadata": {},
   "outputs": [
    {
     "data": {
      "image/png": "[encoded data removed]",
      "text/plain": [
       "<Figure size 1080x648 with 1 Axes>"
      ]
     },
     "metadata": {
      "needs_background": "light"
     },
     "output_type": "display_data"
    }
   ],
   "source": [
    "#best model: topk=200, alph= 0.5. MAP = 0.065, \n",
    "import matplotlib.ticker as ticker\n",
    "\n",
    "fig, ax = plt.subplots(1, 1, figsize=(15, 9))\n",
    "plt.plot(x_tick, collaborative_MAP, label=\"Collaborative\")\n",
    "ax.yaxis.set_major_locator(ticker.MultipleLocator(0.01))\n",
    "plt.ylabel('MAP')\n",
    "plt.xlabel('TopK')\n",
    "plt.xticks(rotation='vertical')\n",
    "plt.show()"
   ]
  },
  {
   "cell_type": "code",
   "execution_count": 34,
   "metadata": {},
   "outputs": [
    {
     "data": {
      "text/html": [
       "<div>\n",
       "<style scoped>\n",
       "    .dataframe tbody tr th:only-of-type {\n",
       "        vertical-align: middle;\n",
       "    }\n",
       "\n",
       "    .dataframe tbody tr th {\n",
       "        vertical-align: top;\n",
       "    }\n",
       "\n",
       "    .dataframe thead th {\n",
       "        text-align: right;\n",
       "    }\n",
       "</style>\n",
       "<table border=\"1\" class=\"dataframe\">\n",
       "  <thead>\n",
       "    <tr style=\"text-align: right;\">\n",
       "      <th></th>\n",
       "      <th>user_id</th>\n",
       "    </tr>\n",
       "  </thead>\n",
       "  <tbody>\n",
       "    <tr>\n",
       "      <th>0</th>\n",
       "      <td>0</td>\n",
       "    </tr>\n",
       "    <tr>\n",
       "      <th>1</th>\n",
       "      <td>1</td>\n",
       "    </tr>\n",
       "    <tr>\n",
       "      <th>2</th>\n",
       "      <td>2</td>\n",
       "    </tr>\n",
       "    <tr>\n",
       "      <th>3</th>\n",
       "      <td>3</td>\n",
       "    </tr>\n",
       "    <tr>\n",
       "      <th>4</th>\n",
       "      <td>4</td>\n",
       "    </tr>\n",
       "    <tr>\n",
       "      <th>...</th>\n",
       "      <td>...</td>\n",
       "    </tr>\n",
       "    <tr>\n",
       "      <th>7939</th>\n",
       "      <td>7942</td>\n",
       "    </tr>\n",
       "    <tr>\n",
       "      <th>7940</th>\n",
       "      <td>7943</td>\n",
       "    </tr>\n",
       "    <tr>\n",
       "      <th>7941</th>\n",
       "      <td>7944</td>\n",
       "    </tr>\n",
       "    <tr>\n",
       "      <th>7942</th>\n",
       "      <td>7945</td>\n",
       "    </tr>\n",
       "    <tr>\n",
       "      <th>7943</th>\n",
       "      <td>7946</td>\n",
       "    </tr>\n",
       "  </tbody>\n",
       "</table>\n",
       "<p>7944 rows × 1 columns</p>\n",
       "</div>"
      ],
      "text/plain": [
       "      user_id\n",
       "0           0\n",
       "1           1\n",
       "2           2\n",
       "3           3\n",
       "4           4\n",
       "...       ...\n",
       "7939     7942\n",
       "7940     7943\n",
       "7941     7944\n",
       "7942     7945\n",
       "7943     7946\n",
       "\n",
       "[7944 rows x 1 columns]"
      ]
     },
     "execution_count": 34,
     "metadata": {},
     "output_type": "execute_result"
    }
   ],
   "source": [
    "test_users = pd.read_csv('data_target_users_test.csv')\n",
    "test_users"
   ]
  },
  {
   "cell_type": "code",
   "execution_count": 35,
   "metadata": {},
   "outputs": [
    {
     "name": "stdout",
     "output_type": "stream",
     "text": [
      "P3alphaRecommender: URM Detected 40 (0.50 %) cold users.\n",
      "P3alphaRecommender: URM Detected 1962 (7.55 %) cold items.\n"
     ]
    }
   ],
   "source": [
    "recommender = P3alphaRecommender(URM_train)\n",
    "\n",
    "recommender.fit(topK=200, alpha=0.5, implicit=True)\n",
    "\n",
    "user_id = test_users['user_id']\n",
    "recommendations = recommender.recommend(user_id,cutoff = 10)\n"
   ]
  },
  {
   "cell_type": "code",
   "execution_count": 36,
   "metadata": {},
   "outputs": [
    {
     "name": "stdout",
     "output_type": "stream",
     "text": [
      "7944\n"
     ]
    }
   ],
   "source": [
    "for index in range(len(recommendations)):\n",
    "    #print(element)\n",
    "    recommendations[index]=np.array(recommendations[index])\n",
    "    #print(type(element))\n",
    "print(len(recommendations))"
   ]
  },
  {
   "cell_type": "code",
   "execution_count": 37,
   "metadata": {},
   "outputs": [],
   "source": [
    "test_users['item_list']= recommendations\n",
    "#test_users['item_list'] =  test_users['item_list'].apply(lambda x: x.replace('[','').replace(']','')) \n",
    "test_users['item_list'] = pd.DataFrame([str(line).strip('[').strip(']').replace(\"'\",\"\") for line in test_users['item_list']])\n",
    "\n",
    "#convert the string columns to int\n",
    "#test_users['item_list'] = test_users['item_list'].astype(int)\n",
    "test_users\n",
    "test_users.to_csv('submission.csv', index=False)\n"
   ]
  },
  {
   "cell_type": "code",
   "execution_count": null,
   "metadata": {},
   "outputs": [],
   "source": []
  }
 ],
 "metadata": {
  "kernelspec": {
   "display_name": "Python 3",
   "language": "python",
   "name": "python3"
  },
  "language_info": {
   "codemirror_mode": {
    "name": "ipython",
    "version": 3
   },
   "file_extension": ".py",
   "mimetype": "text/x-python",
   "name": "python",
   "nbconvert_exporter": "python",
   "pygments_lexer": "ipython3",
   "version": "3.8.5"
  }
 },
 "nbformat": 4,
 "nbformat_minor": 4
}
