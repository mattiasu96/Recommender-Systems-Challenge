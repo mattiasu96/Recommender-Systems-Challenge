{
 "cells": [
  {
   "cell_type": "markdown",
   "metadata": {},
   "source": [
    "# Recommender with splitted user "
   ]
  },
  {
   "cell_type": "code",
   "execution_count": 330,
   "metadata": {
    "tags": []
   },
   "outputs": [
    {
     "output_type": "stream",
     "name": "stdout",
     "text": [
      "**********:  1  Lenght:  93\n**********:  2  Lenght:  995\n**********:  3  Lenght:  1148\n**********:  4  Lenght:  933\n**********:  5  Lenght:  605\n**********:  6  Lenght:  490\n**********:  7  Lenght:  413\n**********:  8  Lenght:  607\n**********:  9  Lenght:  250\n**********:  10  Lenght:  179\n"
     ]
    }
   ],
   "source": [
    "import pandas as pd\n",
    "import numpy as np \n",
    "import scipy.sparse as sps\n",
    "import os\n",
    "import sys\n",
    "import matplotlib.pyplot as plt\n",
    "sys.path.append('..')\n",
    "\n",
    "dataset = pd.read_csv('data_train.csv', names=[\"user\", \"item\", \"interaction\"], header=0)\n",
    "\n",
    "# Get for each user only the number of interaction, this will allow to create group of users \n",
    "# based on how much interaction they had\n",
    "grouped_users = dataset.groupby(['user']).count()\n",
    "splitted_user = list()\n",
    "\n",
    "for group_id in range(1, 11):\n",
    "    grouped_users_local = grouped_users.copy()\n",
    "    grouped_users_local = grouped_users_local[grouped_users_local.item == group_id]\n",
    "    grouped_users_local = grouped_users_local.reset_index()['user']\n",
    "    splitted_user.append(grouped_users_local)\n",
    "    print(\"**********: \", group_id, \" Lenght: \", len(grouped_users_local))\n",
    "\n",
    "grouped_users_local = grouped_users.copy()\n",
    "grouped_users_local = grouped_users_local[grouped_users_local.item > 10]\n",
    "grouped_users_local = grouped_users_local.reset_index()['user']\n",
    "splitted_user.append(grouped_users_local)\n",
    "#print(\"**********: \", 11, \"> Lenght: \", len(grouped_users_local))\n"
   ]
  },
  {
   "cell_type": "markdown",
   "metadata": {},
   "source": [
    "# Data pre-processing"
   ]
  },
  {
   "cell_type": "code",
   "execution_count": 331,
   "metadata": {},
   "outputs": [
    {
     "output_type": "execute_result",
     "data": {
      "text/plain": [
       "(7947, 25975)"
      ]
     },
     "metadata": {},
     "execution_count": 331
    }
   ],
   "source": [
    "users = dataset.user\n",
    "items = dataset.item\n",
    "data = dataset.interaction\n",
    "URM_all = sps.coo_matrix((data, (users, items)))\n",
    "URM_all = URM_all.tocsr() #fast row access -> fast access to users \n",
    "URM_all.shape"
   ]
  },
  {
   "cell_type": "code",
   "execution_count": 332,
   "metadata": {},
   "outputs": [],
   "source": [
    "ICM_df = pd.read_csv('data_ICM_title_abstract.csv')\n",
    "\n",
    "items = ICM_df.row\n",
    "features = ICM_df.col\n",
    "data = ICM_df.data\n",
    "ICM_all = sps.coo_matrix((data, (items, features)))\n",
    "ICM_all = ICM_all.tocsr() #fast row access -> fast access to users "
   ]
  },
  {
   "cell_type": "code",
   "execution_count": 333,
   "metadata": {},
   "outputs": [
    {
     "output_type": "stream",
     "name": "stdout",
     "text": [
      "Warning: 73 (0.92 %) of 7947 users have no train items\nWarning: 2338 (29.42 %) of 7947 users have no sampled items\nEvaluatorHoldout: Ignoring 2234 Users\nEvaluatorHoldout: Ignoring 5713 Users\n"
     ]
    }
   ],
   "source": [
    "from Base.Evaluation.Evaluator import EvaluatorHoldout\n",
    "from Data_manager.split_functions.split_train_validation_random_holdout import split_train_in_two_percentage_global_sample\n",
    "\n",
    "URM_train, URM_validation = split_train_in_two_percentage_global_sample(URM_all, train_percentage = 0.80)\n",
    "\n",
    "users_not_in_group_three = grouped_users.copy()\n",
    "users_not_in_group_three = users_not_in_group_three.loc[users_not_in_group_three.item > 10]\n",
    "users_not_in_group_three = users_not_in_group_three.reset_index()['user']\n",
    "evaluator_validation_three = EvaluatorHoldout(URM_validation, cutoff_list=[10], ignore_users = users_not_in_group_three)\n",
    "\n",
    "users_not_in_group_other = grouped_users.copy()\n",
    "users_not_in_group_other = users_not_in_group_other[users_not_in_group_other.item < 11]\n",
    "users_not_in_group_other = users_not_in_group_other.reset_index()['user']\n",
    "evaluator_validation_other = EvaluatorHoldout(URM_validation, cutoff_list=[10], ignore_users = users_not_in_group_other)"
   ]
  },
  {
   "cell_type": "code",
   "execution_count": 334,
   "metadata": {},
   "outputs": [
    {
     "output_type": "stream",
     "name": "stdout",
     "text": [
      "P3alphaRecommender: URM Detected 73 (0.92 %) cold users.\n",
      "P3alphaRecommender: URM Detected 2442 (9.40 %) cold items.\n",
      "P3alphaRecommender: URM Detected 2 (0.01 %) cold users.\n",
      "P3alphaRecommender: URM Detected 25 (0.10 %) cold items.\n",
      "ItemKNNSimilarityHybridRecommender: URM Detected 73 (0.92 %) cold users.\n",
      "ItemKNNSimilarityHybridRecommender: URM Detected 2442 (9.40 %) cold items.\n"
     ]
    }
   ],
   "source": [
    "from GraphBased.P3alphaRecommender import P3alphaRecommender\n",
    "from KNN.ItemKNNSimilarityHybridRecommender import ItemKNNSimilarityHybridRecommender\n",
    "\n",
    "recommender_alpha = P3alphaRecommender(URM_train)\n",
    "recommender_alpha.fit(topK=475, alpha = 0.45, implicit = True)\n",
    "\n",
    "recommender_alpha_ICM = P3alphaRecommender(ICM_all.T)\n",
    "recommender_alpha_ICM.fit(topK=175, alpha = 0.45)\n",
    "recommender_alpha_ICM.URM_train = URM_train\n",
    "\n",
    "hybridrecommender = ItemKNNSimilarityHybridRecommender(URM_train, recommender_alpha_ICM.W_sparse, recommender_alpha.W_sparse)\n",
    "hybridrecommender.fit(topK=600, alpha = 0.45)"
   ]
  },
  {
   "cell_type": "code",
   "execution_count": 335,
   "metadata": {},
   "outputs": [
    {
     "output_type": "stream",
     "name": "stdout",
     "text": [
      "EvaluatorHoldout: Processed 3426 ( 100.00% ) in 2.05 sec. Users per second: 1669\n"
     ]
    },
    {
     "output_type": "execute_result",
     "data": {
      "text/plain": [
       "({10: {'ROC_AUC': 0.137848177800017,\n",
       "   'PRECISION': 0.023146526561587822,\n",
       "   'PRECISION_RECALL_MIN_DEN': 0.15522961665693708,\n",
       "   'RECALL': 0.15522961665693708,\n",
       "   'MAP': 0.07014374399626877,\n",
       "   'MRR': 0.09538658623597325,\n",
       "   'NDCG': 0.0975620915044384,\n",
       "   'F1': 0.04028595282154012,\n",
       "   'HIT_RATE': 0.23146526561587857,\n",
       "   'ARHR': 0.10070504267089206,\n",
       "   'NOVELTY': 0.004997691439875659,\n",
       "   'AVERAGE_POPULARITY': 0.08031757883198197,\n",
       "   'DIVERSITY_MEAN_INTER_LIST': 0.9911868792105027,\n",
       "   'DIVERSITY_HERFINDAHL': 0.9990897566052531,\n",
       "   'COVERAGE_ITEM': 0.41070259865255054,\n",
       "   'COVERAGE_ITEM_CORRECT': 0.02356111645813282,\n",
       "   'COVERAGE_USER': 0.5996849291090496,\n",
       "   'COVERAGE_USER_CORRECT': 0.1256782776124628,\n",
       "   'DIVERSITY_GINI': 0.17861433141122138,\n",
       "   'SHANNON_ENTROPY': 12.068064204314895}},\n",
       " 'CUTOFF: 10 - ROC_AUC: 0.1378482, PRECISION: 0.0231465, PRECISION_RECALL_MIN_DEN: 0.1552296, RECALL: 0.1552296, MAP: 0.0701437, MRR: 0.0953866, NDCG: 0.0975621, F1: 0.0402860, HIT_RATE: 0.2314653, ARHR: 0.1007050, NOVELTY: 0.0049977, AVERAGE_POPULARITY: 0.0803176, DIVERSITY_MEAN_INTER_LIST: 0.9911869, DIVERSITY_HERFINDAHL: 0.9990898, COVERAGE_ITEM: 0.4107026, COVERAGE_ITEM_CORRECT: 0.0235611, COVERAGE_USER: 0.5996849, COVERAGE_USER_CORRECT: 0.1256783, DIVERSITY_GINI: 0.1786143, SHANNON_ENTROPY: 12.0680642, \\n')"
      ]
     },
     "metadata": {},
     "execution_count": 335
    }
   ],
   "source": [
    "evaluator_validation_three.evaluateRecommender(hybridrecommender)"
   ]
  },
  {
   "cell_type": "code",
   "execution_count": 336,
   "metadata": {},
   "outputs": [
    {
     "output_type": "stream",
     "name": "stdout",
     "text": [
      "EvaluatorHoldout: Processed 2183 ( 100.00% ) in 1.78 sec. Users per second: 1227\n"
     ]
    },
    {
     "output_type": "execute_result",
     "data": {
      "text/plain": [
       "({10: {'ROC_AUC': 0.2960198212740592,\n",
       "   'PRECISION': 0.07819514429683815,\n",
       "   'PRECISION_RECALL_MIN_DEN': 0.15674221436933264,\n",
       "   'RECALL': 0.14449560218315274,\n",
       "   'MAP': 0.07057334148688053,\n",
       "   'MRR': 0.2252793956183782,\n",
       "   'NDCG': 0.12189994760640938,\n",
       "   'F1': 0.10147574285476986,\n",
       "   'HIT_RATE': 0.7819514429683921,\n",
       "   'ARHR': 0.2817756618604081,\n",
       "   'NOVELTY': 0.004690630131864422,\n",
       "   'AVERAGE_POPULARITY': 0.12248667029496983,\n",
       "   'DIVERSITY_MEAN_INTER_LIST': 0.9774318928911979,\n",
       "   'DIVERSITY_HERFINDAHL': 0.9976984145803295,\n",
       "   'COVERAGE_ITEM': 0.2148604427333975,\n",
       "   'COVERAGE_ITEM_CORRECT': 0.03980750721847931,\n",
       "   'COVERAGE_USER': 0.9771709937332139,\n",
       "   'COVERAGE_USER_CORRECT': 0.4740376007162041,\n",
       "   'DIVERSITY_GINI': 0.07312607599586976,\n",
       "   'SHANNON_ENTROPY': 10.593860531245443}},\n",
       " 'CUTOFF: 10 - ROC_AUC: 0.2960198, PRECISION: 0.0781951, PRECISION_RECALL_MIN_DEN: 0.1567422, RECALL: 0.1444956, MAP: 0.0705733, MRR: 0.2252794, NDCG: 0.1218999, F1: 0.1014757, HIT_RATE: 0.7819514, ARHR: 0.2817757, NOVELTY: 0.0046906, AVERAGE_POPULARITY: 0.1224867, DIVERSITY_MEAN_INTER_LIST: 0.9774319, DIVERSITY_HERFINDAHL: 0.9976984, COVERAGE_ITEM: 0.2148604, COVERAGE_ITEM_CORRECT: 0.0398075, COVERAGE_USER: 0.9771710, COVERAGE_USER_CORRECT: 0.4740376, DIVERSITY_GINI: 0.0731261, SHANNON_ENTROPY: 10.5938605, \\n')"
      ]
     },
     "metadata": {},
     "execution_count": 336
    }
   ],
   "source": [
    "evaluator_validation_other.evaluateRecommender(hybridrecommender)"
   ]
  }
 ],
 "metadata": {
  "kernelspec": {
   "name": "python3",
   "display_name": "Python 3.8.5 64-bit",
   "metadata": {
    "interpreter": {
     "hash": "082e9a3bcad0a290d0001e938aa60b99250c6c2ef33a923c00b70f9826caf4b7"
    }
   }
  },
  "language_info": {
   "codemirror_mode": {
    "name": "ipython",
    "version": 3
   },
   "file_extension": ".py",
   "mimetype": "text/x-python",
   "name": "python",
   "nbconvert_exporter": "python",
   "pygments_lexer": "ipython3",
   "version": "3.8.5-final"
  }
 },
 "nbformat": 4,
 "nbformat_minor": 4
}