{
 "cells": [
  {
   "cell_type": "markdown",
   "metadata": {},
   "source": [
    "# Recommender with splitted user "
   ]
  },
  {
   "cell_type": "code",
   "execution_count": 15,
   "metadata": {
    "tags": []
   },
   "outputs": [
    {
     "name": "stdout",
     "output_type": "stream",
     "text": [
      "**********:  1  Lenght:  93\n",
      "**********:  2  Lenght:  995\n",
      "**********:  3  Lenght:  1148\n",
      "**********:  4  Lenght:  933\n",
      "**********:  5  Lenght:  605\n",
      "**********:  6  Lenght:  490\n",
      "**********:  7  Lenght:  413\n",
      "**********:  8  Lenght:  607\n",
      "**********:  9  Lenght:  250\n",
      "**********:  10  Lenght:  179\n"
     ]
    }
   ],
   "source": [
    "import pandas as pd\n",
    "import numpy as np \n",
    "import scipy.sparse as sps\n",
    "import os\n",
    "import sys\n",
    "import matplotlib.pyplot as plt\n",
    "sys.path.append('..')\n",
    "\n",
    "dataset = pd.read_csv('data_train.csv', names=[\"user\", \"item\", \"interaction\"], header=0)\n",
    "\n",
    "# Get for each user only the number of interaction, this will allow to create group of users \n",
    "# based on how much interaction they had\n",
    "grouped_users = dataset.groupby(['user']).count()\n",
    "splitted_user = list()\n",
    "\n",
    "for group_id in range(1, 11):\n",
    "    grouped_users_local = grouped_users.copy()\n",
    "    grouped_users_local = grouped_users_local[grouped_users_local.item == group_id]\n",
    "    grouped_users_local = grouped_users_local.reset_index()['user']\n",
    "    splitted_user.append(grouped_users_local)\n",
    "    print(\"**********: \", group_id, \" Lenght: \", len(grouped_users_local))\n",
    "\n",
    "grouped_users_local = grouped_users.copy()\n",
    "grouped_users_local = grouped_users_local[grouped_users_local.item > 10]\n",
    "grouped_users_local = grouped_users_local.reset_index()['user']\n",
    "splitted_user.append(grouped_users_local)\n",
    "#print(\"**********: \", 11, \"> Lenght: \", len(grouped_users_local))\n"
   ]
  },
  {
   "cell_type": "markdown",
   "metadata": {},
   "source": [
    "# Data pre-processing"
   ]
  },
  {
   "cell_type": "code",
   "execution_count": 16,
   "metadata": {},
   "outputs": [
    {
     "data": {
      "text/plain": [
       "(7947, 25975)"
      ]
     },
     "execution_count": 16,
     "metadata": {},
     "output_type": "execute_result"
    }
   ],
   "source": [
    "users = dataset.user\n",
    "items = dataset.item\n",
    "data = dataset.interaction\n",
    "URM_all = sps.coo_matrix((data, (users, items)))\n",
    "URM_all = URM_all.tocsr() #fast row access -> fast access to users \n",
    "URM_all.shape"
   ]
  },
  {
   "cell_type": "code",
   "execution_count": 17,
   "metadata": {},
   "outputs": [],
   "source": [
    "ICM_df = pd.read_csv('data_ICM_title_abstract.csv')\n",
    "\n",
    "items = ICM_df.row\n",
    "features = ICM_df.col\n",
    "data = ICM_df.data\n",
    "ICM_all = sps.coo_matrix((data, (items, features)))\n",
    "ICM_all = ICM_all.tocsr() #fast row access -> fast access to users "
   ]
  },
  {
   "cell_type": "code",
   "execution_count": 18,
   "metadata": {},
   "outputs": [
    {
     "name": "stdout",
     "output_type": "stream",
     "text": [
      "Warning: 65 (0.82 %) of 7947 users have no train items\n",
      "Warning: 2339 (29.43 %) of 7947 users have no sampled items\n",
      "EvaluatorHoldout: Ignoring 2234 Users\n",
      "EvaluatorHoldout: Ignoring 5713 Users\n"
     ]
    }
   ],
   "source": [
    "from Base.Evaluation.Evaluator import EvaluatorHoldout\n",
    "from Data_manager.split_functions.split_train_validation_random_holdout import split_train_in_two_percentage_global_sample\n",
    "\n",
    "URM_train, URM_validation = split_train_in_two_percentage_global_sample(URM_all, train_percentage = 0.80)\n",
    "\n",
    "users_not_in_group_three = grouped_users.copy()\n",
    "users_not_in_group_three = users_not_in_group_three.loc[users_not_in_group_three.item > 10]\n",
    "users_not_in_group_three = users_not_in_group_three.reset_index()['user']\n",
    "evaluator_validation_three = EvaluatorHoldout(URM_validation, cutoff_list=[10], ignore_users = users_not_in_group_three)\n",
    "\n",
    "users_not_in_group_other = grouped_users.copy()\n",
    "users_not_in_group_other = users_not_in_group_other[users_not_in_group_other.item < 11]\n",
    "users_not_in_group_other = users_not_in_group_other.reset_index()['user']\n",
    "evaluator_validation_other = EvaluatorHoldout(URM_validation, cutoff_list=[10], ignore_users = users_not_in_group_other)"
   ]
  },
  {
   "cell_type": "code",
   "execution_count": 19,
   "metadata": {},
   "outputs": [
    {
     "name": "stdout",
     "output_type": "stream",
     "text": [
      "P3alphaRecommender: URM Detected 65 (0.82 %) cold users.\n",
      "P3alphaRecommender: URM Detected 2400 (9.24 %) cold items.\n",
      "P3alphaRecommender: URM Detected 2 (0.01 %) cold users.\n",
      "P3alphaRecommender: URM Detected 25 (0.10 %) cold items.\n",
      "ItemKNNSimilarityHybridRecommender: URM Detected 65 (0.82 %) cold users.\n",
      "ItemKNNSimilarityHybridRecommender: URM Detected 2400 (9.24 %) cold items.\n"
     ]
    }
   ],
   "source": [
    "from GraphBased.P3alphaRecommender import P3alphaRecommender\n",
    "from KNN.ItemKNNSimilarityHybridRecommender import ItemKNNSimilarityHybridRecommender\n",
    "\n",
    "recommender_alpha = P3alphaRecommender(URM_train)\n",
    "recommender_alpha.fit(topK=475, alpha = 0.45, implicit = True)\n",
    "\n",
    "recommender_alpha_ICM = P3alphaRecommender(ICM_all.T)\n",
    "recommender_alpha_ICM.fit(topK=175, alpha = 0.45)\n",
    "recommender_alpha_ICM.URM_train = URM_train\n",
    "\n",
    "hybridrecommender = ItemKNNSimilarityHybridRecommender(URM_train, recommender_alpha_ICM.W_sparse, recommender_alpha.W_sparse)\n",
    "hybridrecommender.fit(topK=600, alpha = 0.45)"
   ]
  },
  {
   "cell_type": "code",
   "execution_count": 20,
   "metadata": {},
   "outputs": [
    {
     "name": "stdout",
     "output_type": "stream",
     "text": [
      "EvaluatorHoldout: Processed 3417 ( 100.00% ) in 2.10 sec. Users per second: 1624\n"
     ]
    },
    {
     "data": {
      "text/plain": [
       "({10: {'ROC_AUC': 0.14360097272739963,\n",
       "   'PRECISION': 0.023675738952297264,\n",
       "   'PRECISION_RECALL_MIN_DEN': 0.15562871914935117,\n",
       "   'RECALL': 0.15562871914935117,\n",
       "   'MAP': 0.07306810369255493,\n",
       "   'MRR': 0.10064511708497645,\n",
       "   'NDCG': 0.10058179367110155,\n",
       "   'F1': 0.04109908885780849,\n",
       "   'HIT_RATE': 0.23675738952297337,\n",
       "   'ARHR': 0.10605643584133474,\n",
       "   'NOVELTY': 0.005014630554343979,\n",
       "   'AVERAGE_POPULARITY': 0.0792229026587922,\n",
       "   'DIVERSITY_MEAN_INTER_LIST': 0.9914424982128893,\n",
       "   'DIVERSITY_HERFINDAHL': 0.9991152348228045,\n",
       "   'COVERAGE_ITEM': 0.41482194417709334,\n",
       "   'COVERAGE_ITEM_CORRECT': 0.02406159769008662,\n",
       "   'COVERAGE_USER': 0.5981095746542973,\n",
       "   'COVERAGE_USER_CORRECT': 0.1262033957640469,\n",
       "   'DIVERSITY_GINI': 0.1819584143270315,\n",
       "   'SHANNON_ENTROPY': 12.105971567525009}},\n",
       " 'CUTOFF: 10 - ROC_AUC: 0.1436010, PRECISION: 0.0236757, PRECISION_RECALL_MIN_DEN: 0.1556287, RECALL: 0.1556287, MAP: 0.0730681, MRR: 0.1006451, NDCG: 0.1005818, F1: 0.0410991, HIT_RATE: 0.2367574, ARHR: 0.1060564, NOVELTY: 0.0050146, AVERAGE_POPULARITY: 0.0792229, DIVERSITY_MEAN_INTER_LIST: 0.9914425, DIVERSITY_HERFINDAHL: 0.9991152, COVERAGE_ITEM: 0.4148219, COVERAGE_ITEM_CORRECT: 0.0240616, COVERAGE_USER: 0.5981096, COVERAGE_USER_CORRECT: 0.1262034, DIVERSITY_GINI: 0.1819584, SHANNON_ENTROPY: 12.1059716, \\n')"
      ]
     },
     "execution_count": 20,
     "metadata": {},
     "output_type": "execute_result"
    }
   ],
   "source": [
    "evaluator_validation_three.evaluateRecommender(hybridrecommender)"
   ]
  },
  {
   "cell_type": "code",
   "execution_count": 21,
   "metadata": {},
   "outputs": [
    {
     "name": "stdout",
     "output_type": "stream",
     "text": [
      "EvaluatorHoldout: Processed 2191 ( 100.00% ) in 1.86 sec. Users per second: 1178\n"
     ]
    },
    {
     "data": {
      "text/plain": [
       "({10: {'ROC_AUC': 0.28532006838944374,\n",
       "   'PRECISION': 0.07334550433591873,\n",
       "   'PRECISION_RECALL_MIN_DEN': 0.14771956706005065,\n",
       "   'RECALL': 0.1355553589888799,\n",
       "   'MAP': 0.06784646857796482,\n",
       "   'MRR': 0.2216325081683365,\n",
       "   'NDCG': 0.11620048567395962,\n",
       "   'F1': 0.09518750676503931,\n",
       "   'HIT_RATE': 0.7334550433591968,\n",
       "   'ARHR': 0.2753828794563618,\n",
       "   'NOVELTY': 0.004686456863786418,\n",
       "   'AVERAGE_POPULARITY': 0.12497498235299115,\n",
       "   'DIVERSITY_MEAN_INTER_LIST': 0.9759862784450294,\n",
       "   'DIVERSITY_HERFINDAHL': 0.997554082601306,\n",
       "   'COVERAGE_ITEM': 0.21474494706448508,\n",
       "   'COVERAGE_ITEM_CORRECT': 0.03726660250240616,\n",
       "   'COVERAGE_USER': 0.9807520143240823,\n",
       "   'COVERAGE_USER_CORRECT': 0.4565801253357207,\n",
       "   'DIVERSITY_GINI': 0.0728484053742267,\n",
       "   'SHANNON_ENTROPY': 10.554828333711729}},\n",
       " 'CUTOFF: 10 - ROC_AUC: 0.2853201, PRECISION: 0.0733455, PRECISION_RECALL_MIN_DEN: 0.1477196, RECALL: 0.1355554, MAP: 0.0678465, MRR: 0.2216325, NDCG: 0.1162005, F1: 0.0951875, HIT_RATE: 0.7334550, ARHR: 0.2753829, NOVELTY: 0.0046865, AVERAGE_POPULARITY: 0.1249750, DIVERSITY_MEAN_INTER_LIST: 0.9759863, DIVERSITY_HERFINDAHL: 0.9975541, COVERAGE_ITEM: 0.2147449, COVERAGE_ITEM_CORRECT: 0.0372666, COVERAGE_USER: 0.9807520, COVERAGE_USER_CORRECT: 0.4565801, DIVERSITY_GINI: 0.0728484, SHANNON_ENTROPY: 10.5548283, \\n')"
      ]
     },
     "execution_count": 21,
     "metadata": {},
     "output_type": "execute_result"
    }
   ],
   "source": [
    "evaluator_validation_other.evaluateRecommender(hybridrecommender)"
   ]
  },
  {
   "cell_type": "code",
   "execution_count": null,
   "metadata": {},
   "outputs": [],
   "source": []
  },
  {
   "cell_type": "code",
   "execution_count": null,
   "metadata": {},
   "outputs": [],
   "source": []
  }
 ],
 "metadata": {
  "kernelspec": {
   "display_name": "Python 3",
   "language": "python",
   "name": "python3"
  },
  "language_info": {
   "codemirror_mode": {
    "name": "ipython",
    "version": 3
   },
   "file_extension": ".py",
   "mimetype": "text/x-python",
   "name": "python",
   "nbconvert_exporter": "python",
   "pygments_lexer": "ipython3",
   "version": "3.8.5"
  }
 },
 "nbformat": 4,
 "nbformat_minor": 4
}
