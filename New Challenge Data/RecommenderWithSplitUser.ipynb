{
 "cells": [
  {
   "cell_type": "markdown",
   "metadata": {},
   "source": [
    "# Recommender with splitted user "
   ]
  },
  {
   "cell_type": "code",
   "execution_count": 1,
   "metadata": {
    "tags": []
   },
   "outputs": [
    {
     "output_type": "execute_result",
     "data": {
      "text/plain": [
       "         row    col  data\n",
       "0          0  10080   1.0\n",
       "1          0  19467   1.0\n",
       "2          1   2665   1.0\n",
       "3          1   7494   1.0\n",
       "4          1  17068   1.0\n",
       "...      ...    ...   ...\n",
       "113263  7945   2476   1.0\n",
       "113264  7945  12319   1.0\n",
       "113265  7945  21384   1.0\n",
       "113266  7946   8699   1.0\n",
       "113267  7946  19178   1.0\n",
       "\n",
       "[113268 rows x 3 columns]"
      ],
      "text/html": "<div>\n<style scoped>\n    .dataframe tbody tr th:only-of-type {\n        vertical-align: middle;\n    }\n\n    .dataframe tbody tr th {\n        vertical-align: top;\n    }\n\n    .dataframe thead th {\n        text-align: right;\n    }\n</style>\n<table border=\"1\" class=\"dataframe\">\n  <thead>\n    <tr style=\"text-align: right;\">\n      <th></th>\n      <th>row</th>\n      <th>col</th>\n      <th>data</th>\n    </tr>\n  </thead>\n  <tbody>\n    <tr>\n      <th>0</th>\n      <td>0</td>\n      <td>10080</td>\n      <td>1.0</td>\n    </tr>\n    <tr>\n      <th>1</th>\n      <td>0</td>\n      <td>19467</td>\n      <td>1.0</td>\n    </tr>\n    <tr>\n      <th>2</th>\n      <td>1</td>\n      <td>2665</td>\n      <td>1.0</td>\n    </tr>\n    <tr>\n      <th>3</th>\n      <td>1</td>\n      <td>7494</td>\n      <td>1.0</td>\n    </tr>\n    <tr>\n      <th>4</th>\n      <td>1</td>\n      <td>17068</td>\n      <td>1.0</td>\n    </tr>\n    <tr>\n      <th>...</th>\n      <td>...</td>\n      <td>...</td>\n      <td>...</td>\n    </tr>\n    <tr>\n      <th>113263</th>\n      <td>7945</td>\n      <td>2476</td>\n      <td>1.0</td>\n    </tr>\n    <tr>\n      <th>113264</th>\n      <td>7945</td>\n      <td>12319</td>\n      <td>1.0</td>\n    </tr>\n    <tr>\n      <th>113265</th>\n      <td>7945</td>\n      <td>21384</td>\n      <td>1.0</td>\n    </tr>\n    <tr>\n      <th>113266</th>\n      <td>7946</td>\n      <td>8699</td>\n      <td>1.0</td>\n    </tr>\n    <tr>\n      <th>113267</th>\n      <td>7946</td>\n      <td>19178</td>\n      <td>1.0</td>\n    </tr>\n  </tbody>\n</table>\n<p>113268 rows × 3 columns</p>\n</div>"
     },
     "metadata": {},
     "execution_count": 1
    }
   ],
   "source": [
    "import pandas as pd\n",
    "import numpy as np \n",
    "import scipy.sparse as sps\n",
    "import os\n",
    "import sys\n",
    "import matplotlib.pyplot as plt\n",
    "sys.path.append('..')\n",
    "\n",
    "dataset = pd.read_csv('data_train.csv')\n",
    "dataset"
   ]
  },
  {
   "cell_type": "code",
   "execution_count": 2,
   "metadata": {},
   "outputs": [
    {
     "output_type": "execute_result",
     "data": {
      "text/plain": [
       "(7947, 25975)"
      ]
     },
     "metadata": {},
     "execution_count": 2
    }
   ],
   "source": [
    "users = dataset.row\n",
    "items = dataset.col\n",
    "data = dataset.data\n",
    "URM_all = sps.coo_matrix((data, (users, items)))\n",
    "URM_all = URM_all.tocsr() #fast row access -> fast access to users \n",
    "URM_all.shape"
   ]
  },
  {
   "cell_type": "code",
   "execution_count": 3,
   "metadata": {},
   "outputs": [],
   "source": [
    "items_per_user = np.ediff1d(URM_all.indptr) #tells in which position each of the rows begin\n",
    "users_per_item = np.ediff1d(sps.csc_matrix(URM_all).indptr)\n",
    "URM_all = sps.csr_matrix(URM_all)"
   ]
  },
  {
   "cell_type": "code",
   "execution_count": 4,
   "metadata": {},
   "outputs": [],
   "source": [
    "items_per_user = np.sort(items_per_user) #sorting based on the single value. Losing reference to the user. \n",
    "users_per_item = np.sort(users_per_item)"
   ]
  },
  {
   "cell_type": "code",
   "execution_count": 5,
   "metadata": {},
   "outputs": [
    {
     "output_type": "execute_result",
     "data": {
      "text/plain": [
       "          row    col      data\n",
       "0           0   1185  1.015524\n",
       "1           0   2507  0.459024\n",
       "2           0   3534  0.227742\n",
       "3           0   8766  0.501549\n",
       "4           0  10862  0.297011\n",
       "...       ...    ...       ...\n",
       "490686  25974  12554  0.963016\n",
       "490687  25974  13003  0.104613\n",
       "490688  25974  16236  0.118760\n",
       "490689  25974  18797  0.363301\n",
       "490690  25974  19629  0.129141\n",
       "\n",
       "[490691 rows x 3 columns]"
      ],
      "text/html": "<div>\n<style scoped>\n    .dataframe tbody tr th:only-of-type {\n        vertical-align: middle;\n    }\n\n    .dataframe tbody tr th {\n        vertical-align: top;\n    }\n\n    .dataframe thead th {\n        text-align: right;\n    }\n</style>\n<table border=\"1\" class=\"dataframe\">\n  <thead>\n    <tr style=\"text-align: right;\">\n      <th></th>\n      <th>row</th>\n      <th>col</th>\n      <th>data</th>\n    </tr>\n  </thead>\n  <tbody>\n    <tr>\n      <th>0</th>\n      <td>0</td>\n      <td>1185</td>\n      <td>1.015524</td>\n    </tr>\n    <tr>\n      <th>1</th>\n      <td>0</td>\n      <td>2507</td>\n      <td>0.459024</td>\n    </tr>\n    <tr>\n      <th>2</th>\n      <td>0</td>\n      <td>3534</td>\n      <td>0.227742</td>\n    </tr>\n    <tr>\n      <th>3</th>\n      <td>0</td>\n      <td>8766</td>\n      <td>0.501549</td>\n    </tr>\n    <tr>\n      <th>4</th>\n      <td>0</td>\n      <td>10862</td>\n      <td>0.297011</td>\n    </tr>\n    <tr>\n      <th>...</th>\n      <td>...</td>\n      <td>...</td>\n      <td>...</td>\n    </tr>\n    <tr>\n      <th>490686</th>\n      <td>25974</td>\n      <td>12554</td>\n      <td>0.963016</td>\n    </tr>\n    <tr>\n      <th>490687</th>\n      <td>25974</td>\n      <td>13003</td>\n      <td>0.104613</td>\n    </tr>\n    <tr>\n      <th>490688</th>\n      <td>25974</td>\n      <td>16236</td>\n      <td>0.118760</td>\n    </tr>\n    <tr>\n      <th>490689</th>\n      <td>25974</td>\n      <td>18797</td>\n      <td>0.363301</td>\n    </tr>\n    <tr>\n      <th>490690</th>\n      <td>25974</td>\n      <td>19629</td>\n      <td>0.129141</td>\n    </tr>\n  </tbody>\n</table>\n<p>490691 rows × 3 columns</p>\n</div>"
     },
     "metadata": {},
     "execution_count": 5
    }
   ],
   "source": [
    "ICM_df = pd.read_csv('data_ICM_title_abstract.csv')\n",
    "ICM_df"
   ]
  },
  {
   "cell_type": "code",
   "execution_count": 6,
   "metadata": {},
   "outputs": [
    {
     "output_type": "execute_result",
     "data": {
      "text/plain": [
       "(25975, 20000)"
      ]
     },
     "metadata": {},
     "execution_count": 6
    }
   ],
   "source": [
    "items = ICM_df.row\n",
    "features = ICM_df.col\n",
    "data = ICM_df.data\n",
    "ICM_all = sps.coo_matrix((data, (items, features)))\n",
    "ICM_all = ICM_all.tocsr() #fast row access -> fast access to users \n",
    "ICM_all.shape"
   ]
  },
  {
   "cell_type": "code",
   "execution_count": 7,
   "metadata": {},
   "outputs": [],
   "source": [
    "ICM_all = sps.csr_matrix(ICM_all)\n",
    "features_per_item = np.ediff1d(ICM_all.indptr)\n",
    "\n",
    "ICM_all = sps.csc_matrix(ICM_all)\n",
    "items_per_feature = np.ediff1d(ICM_all.indptr)\n",
    "\n",
    "ICM_all = sps.csr_matrix(ICM_all)"
   ]
  },
  {
   "cell_type": "code",
   "execution_count": 8,
   "metadata": {},
   "outputs": [],
   "source": [
    "features_per_item = np.sort(features_per_item)\n",
    "items_per_feature = np.sort(items_per_feature)"
   ]
  },
  {
   "cell_type": "markdown",
   "metadata": {},
   "source": [
    "# Data pre-processing"
   ]
  },
  {
   "cell_type": "code",
   "execution_count": 9,
   "metadata": {},
   "outputs": [
    {
     "output_type": "stream",
     "name": "stdout",
     "text": [
      "Warning: 32 (0.40 %) of 7947 users have no train items\nWarning: 3024 (38.05 %) of 7947 users have no sampled items\n"
     ]
    }
   ],
   "source": [
    "from Base.Evaluation.Evaluator import EvaluatorHoldout\n",
    "from Data_manager.split_functions.split_train_validation_random_holdout import split_train_in_two_percentage_global_sample\n",
    "\n",
    "URM_train, URM_validation = split_train_in_two_percentage_global_sample(URM_all, train_percentage = 0.85)\n",
    "evaluator_validation = EvaluatorHoldout(URM_validation, cutoff_list=[10])"
   ]
  },
  {
   "cell_type": "code",
   "execution_count": 10,
   "metadata": {},
   "outputs": [
    {
     "output_type": "stream",
     "name": "stdout",
     "text": [
      "P3alphaRecommender: URM Detected 32 (0.40 %) cold users.\n",
      "P3alphaRecommender: URM Detected 1998 (7.69 %) cold items.\n",
      "RP3betaRecommender: URM Detected 2 (0.01 %) cold users.\n",
      "RP3betaRecommender: URM Detected 25 (0.10 %) cold items.\n",
      "ItemKNNSimilarityHybridRecommender: URM Detected 32 (0.40 %) cold users.\n",
      "ItemKNNSimilarityHybridRecommender: URM Detected 1998 (7.69 %) cold items.\n",
      "EvaluatorHoldout: Processed 4923 ( 100.00% ) in 3.87 sec. Users per second: 1273\n"
     ]
    },
    {
     "output_type": "execute_result",
     "data": {
      "text/plain": [
       "({10: {'ROC_AUC': 0.19775747302103233,\n",
       "   'PRECISION': 0.04080845013203239,\n",
       "   'PRECISION_RECALL_MIN_DEN': 0.1670207706618437,\n",
       "   'RECALL': 0.1637630920005378,\n",
       "   'MAP': 0.07729514499354552,\n",
       "   'MRR': 0.14228838397028554,\n",
       "   'NDCG': 0.11350461090236702,\n",
       "   'F1': 0.06533575397344947,\n",
       "   'HIT_RATE': 0.40808450132033314,\n",
       "   'ARHR': 0.16315940080413008,\n",
       "   'NOVELTY': 0.004956735764476893,\n",
       "   'AVERAGE_POPULARITY': 0.08557736196245594,\n",
       "   'DIVERSITY_MEAN_INTER_LIST': 0.9900507308693662,\n",
       "   'DIVERSITY_HERFINDAHL': 0.9989849623672359,\n",
       "   'COVERAGE_ITEM': 0.49162656400384985,\n",
       "   'COVERAGE_ITEM_CORRECT': 0.05008662175168431,\n",
       "   'COVERAGE_USER': 0.6194790486976217,\n",
       "   'COVERAGE_USER_CORRECT': 0.19239964766578582,\n",
       "   'DIVERSITY_GINI': 0.1915522686576856,\n",
       "   'SHANNON_ENTROPY': 12.070334266222464}},\n",
       " 'CUTOFF: 10 - ROC_AUC: 0.1977575, PRECISION: 0.0408085, PRECISION_RECALL_MIN_DEN: 0.1670208, RECALL: 0.1637631, MAP: 0.0772951, MRR: 0.1422884, NDCG: 0.1135046, F1: 0.0653358, HIT_RATE: 0.4080845, ARHR: 0.1631594, NOVELTY: 0.0049567, AVERAGE_POPULARITY: 0.0855774, DIVERSITY_MEAN_INTER_LIST: 0.9900507, DIVERSITY_HERFINDAHL: 0.9989850, COVERAGE_ITEM: 0.4916266, COVERAGE_ITEM_CORRECT: 0.0500866, COVERAGE_USER: 0.6194790, COVERAGE_USER_CORRECT: 0.1923996, DIVERSITY_GINI: 0.1915523, SHANNON_ENTROPY: 12.0703343, \\n')"
      ]
     },
     "metadata": {},
     "execution_count": 10
    }
   ],
   "source": [
    "from GraphBased.P3alphaRecommender import P3alphaRecommender\n",
    "from GraphBased.RP3betaRecommender import RP3betaRecommender\n",
    "from KNN.ItemKNNCBFRecommender import ItemKNNCBFRecommender\n",
    "from KNN.ItemKNNSimilarityHybridRecommender import ItemKNNSimilarityHybridRecommender\n",
    "\n",
    "recommender_alpha = P3alphaRecommender(URM_train)\n",
    "recommender_alpha.fit(topK=170, alpha = 0.45, implicit = True)\n",
    "\n",
    "recommender_beta_ICM = RP3betaRecommender(ICM_all.T)\n",
    "recommender_beta_ICM.fit(topK=70, alpha=0.2, beta=0.5, implicit=False)\n",
    "recommender_beta_ICM.URM_train = URM_train\n",
    "\n",
    "hybridrecommender = ItemKNNSimilarityHybridRecommender(URM_train, recommender_alpha.W_sparse, recommender_beta_ICM.W_sparse)\n",
    "hybridrecommender.fit(topK=200, alpha = 0.1)\n",
    "\n",
    "evaluator_validation.evaluateRecommender(hybridrecommender)"
   ]
  },
  {
   "cell_type": "code",
   "execution_count": 11,
   "metadata": {},
   "outputs": [
    {
     "output_type": "stream",
     "name": "stdout",
     "text": [
      "UserKNNCFRecommender: URM Detected 32 (0.40 %) cold users.\n",
      "UserKNNCFRecommender: URM Detected 1998 (7.69 %) cold items.\n",
      "Similarity column 7947 ( 100 % ), 17725.27 column/sec, elapsed time 0.01 min\n",
      "EvaluatorHoldout: Processed 4923 ( 100.00% ) in 3.39 sec. Users per second: 1452\n"
     ]
    },
    {
     "output_type": "execute_result",
     "data": {
      "text/plain": [
       "({10: {'ROC_AUC': 0.16585314639092855,\n",
       "   'PRECISION': 0.03410522039406803,\n",
       "   'PRECISION_RECALL_MIN_DEN': 0.13506911194296953,\n",
       "   'RECALL': 0.13210424565280618,\n",
       "   'MAP': 0.0614780042101628,\n",
       "   'MRR': 0.12034127145339801,\n",
       "   'NDCG': 0.09198109411961593,\n",
       "   'F1': 0.054214053147977,\n",
       "   'HIT_RATE': 0.3410522039406866,\n",
       "   'ARHR': 0.13696803794305318,\n",
       "   'NOVELTY': 0.004783377701916095,\n",
       "   'AVERAGE_POPULARITY': 0.10567952348520045,\n",
       "   'DIVERSITY_MEAN_INTER_LIST': 0.9855138412330053,\n",
       "   'DIVERSITY_HERFINDAHL': 0.9985313655606104,\n",
       "   'COVERAGE_ITEM': 0.3484504331087584,\n",
       "   'COVERAGE_ITEM_CORRECT': 0.03557266602502406,\n",
       "   'COVERAGE_USER': 0.6194790486976217,\n",
       "   'COVERAGE_USER_CORRECT': 0.16219957216559708,\n",
       "   'DIVERSITY_GINI': 0.10051732310473187,\n",
       "   'SHANNON_ENTROPY': 11.117358638959619}},\n",
       " 'CUTOFF: 10 - ROC_AUC: 0.1658531, PRECISION: 0.0341052, PRECISION_RECALL_MIN_DEN: 0.1350691, RECALL: 0.1321042, MAP: 0.0614780, MRR: 0.1203413, NDCG: 0.0919811, F1: 0.0542141, HIT_RATE: 0.3410522, ARHR: 0.1369680, NOVELTY: 0.0047834, AVERAGE_POPULARITY: 0.1056795, DIVERSITY_MEAN_INTER_LIST: 0.9855138, DIVERSITY_HERFINDAHL: 0.9985314, COVERAGE_ITEM: 0.3484504, COVERAGE_ITEM_CORRECT: 0.0355727, COVERAGE_USER: 0.6194790, COVERAGE_USER_CORRECT: 0.1621996, DIVERSITY_GINI: 0.1005173, SHANNON_ENTROPY: 11.1173586, \\n')"
      ]
     },
     "metadata": {},
     "execution_count": 11
    }
   ],
   "source": [
    "from KNN.UserKNNCFRecommender import UserKNNCFRecommender\n",
    "\n",
    "recommender_cold = UserKNNCFRecommender(URM_train)\n",
    "recommender_cold.fit(shrink=100, topK=150, feature_weighting = \"TF-IDF\")\n",
    "evaluator_validation.evaluateRecommender(recommender_cold)"
   ]
  },
  {
   "cell_type": "code",
   "execution_count": 12,
   "metadata": {},
   "outputs": [
    {
     "output_type": "stream",
     "name": "stdout",
     "text": [
      "ItemKNNCFRecommender: URM Detected 32 (0.40 %) cold users.\n",
      "ItemKNNCFRecommender: URM Detected 1998 (7.69 %) cold items.\n",
      "Similarity column 25975 ( 100 % ), 5994.65 column/sec, elapsed time 0.07 min\n",
      "EvaluatorHoldout: Processed 4923 ( 100.00% ) in 4.10 sec. Users per second: 1200\n"
     ]
    },
    {
     "output_type": "execute_result",
     "data": {
      "text/plain": [
       "({10: {'ROC_AUC': 0.16115218008118723,\n",
       "   'PRECISION': 0.032602071907373,\n",
       "   'PRECISION_RECALL_MIN_DEN': 0.12638143279520503,\n",
       "   'RECALL': 0.1234056921366417,\n",
       "   'MAP': 0.05828733985487874,\n",
       "   'MRR': 0.1155591344805239,\n",
       "   'NDCG': 0.08707181177844174,\n",
       "   'F1': 0.0515779618209621,\n",
       "   'HIT_RATE': 0.32602071907373553,\n",
       "   'ARHR': 0.13172378437460733,\n",
       "   'NOVELTY': 0.00504647660495856,\n",
       "   'AVERAGE_POPULARITY': 0.06953101289266372,\n",
       "   'DIVERSITY_MEAN_INTER_LIST': 0.993021354540542,\n",
       "   'DIVERSITY_HERFINDAHL': 0.9992819643926173,\n",
       "   'COVERAGE_ITEM': 0.4520885466794995,\n",
       "   'COVERAGE_ITEM_CORRECT': 0.03803657362848893,\n",
       "   'COVERAGE_USER': 0.6194790486976217,\n",
       "   'COVERAGE_USER_CORRECT': 0.15628539071347677,\n",
       "   'DIVERSITY_GINI': 0.16848570229767557,\n",
       "   'SHANNON_ENTROPY': 12.056441541820686}},\n",
       " 'CUTOFF: 10 - ROC_AUC: 0.1611522, PRECISION: 0.0326021, PRECISION_RECALL_MIN_DEN: 0.1263814, RECALL: 0.1234057, MAP: 0.0582873, MRR: 0.1155591, NDCG: 0.0870718, F1: 0.0515780, HIT_RATE: 0.3260207, ARHR: 0.1317238, NOVELTY: 0.0050465, AVERAGE_POPULARITY: 0.0695310, DIVERSITY_MEAN_INTER_LIST: 0.9930214, DIVERSITY_HERFINDAHL: 0.9992820, COVERAGE_ITEM: 0.4520885, COVERAGE_ITEM_CORRECT: 0.0380366, COVERAGE_USER: 0.6194790, COVERAGE_USER_CORRECT: 0.1562854, DIVERSITY_GINI: 0.1684857, SHANNON_ENTROPY: 12.0564415, \\n')"
      ]
     },
     "metadata": {},
     "execution_count": 12
    }
   ],
   "source": [
    "from KNN.ItemKNNCFRecommender import ItemKNNCFRecommender\n",
    "\n",
    "recommender_item_cf = ItemKNNCFRecommender(URM_train)\n",
    "recommender_item_cf.fit(shrink=600, topK=550, feature_weighting = \"TF-IDF\")\n",
    "evaluator_validation.evaluateRecommender(recommender_item_cf)"
   ]
  },
  {
   "cell_type": "code",
   "execution_count": 13,
   "metadata": {},
   "outputs": [
    {
     "output_type": "stream",
     "name": "stdout",
     "text": [
      "ItemKNNCBFRecommender: URM Detected 32 (0.40 %) cold users.\n",
      "ItemKNNCBFRecommender: URM Detected 1998 (7.69 %) cold items.\n",
      "Similarity column 25975 ( 100 % ), 4128.07 column/sec, elapsed time 0.10 min\n"
     ]
    }
   ],
   "source": [
    "recommeder_KNNItemCBF = ItemKNNCBFRecommender(URM_train, ICM_all)\n",
    "recommeder_KNNItemCBF.fit(topK=100, shrink=400, feature_weighting = 'TF-IDF')"
   ]
  },
  {
   "cell_type": "code",
   "execution_count": 14,
   "metadata": {},
   "outputs": [
    {
     "output_type": "stream",
     "name": "stdout",
     "text": [
      "TopPopRecommender: URM Detected 32 (0.40 %) cold users.\nTopPopRecommender: URM Detected 1998 (7.69 %) cold items.\n"
     ]
    }
   ],
   "source": [
    "from Base.NonPersonalizedRecommender import TopPop\n",
    "\n",
    "recommender_top_popular = TopPop(URM_train)\n",
    "recommender_top_popular.fit()"
   ]
  },
  {
   "cell_type": "code",
   "execution_count": 160,
   "metadata": {},
   "outputs": [],
   "source": [
    "# userei un CF per warm \n",
    "# CBF per i cold "
   ]
  },
  {
   "cell_type": "code",
   "execution_count": 20,
   "metadata": {},
   "outputs": [
    {
     "output_type": "stream",
     "name": "stdout",
     "text": [
      "[   0    1    2 ... 7944 7945 7946]\n397\n"
     ]
    }
   ],
   "source": [
    "grouped_users = dataset.groupby(['row']).count()\n",
    "MAP_p3aplha_rp3beta_per_group = []\n",
    "MAP_user_cf_cold_per_group = []\n",
    "MAP_item_cf_cold_per_group = []\n",
    "MAP_item_cbf_per_group = []\n",
    "MAP_top_pop_per_group = []\n",
    "cutoff = 10\n",
    "\n",
    "sorted_users = grouped_users.reset_index()['row'].to_numpy()\n",
    "print(sorted_users)\n",
    "\n",
    "block_size = int(len(sorted_users)*0.05)\n",
    "print(block_size)\n",
    "\n",
    "#sorted_users = np.argsort(profile_length)\n",
    "#print(sorted_users)"
   ]
  },
  {
   "cell_type": "code",
   "execution_count": 23,
   "metadata": {},
   "outputs": [
    {
     "output_type": "stream",
     "name": "stdout",
     "text": [
      "EvaluatorHoldout: Ignoring 7550 Users\n",
      "EvaluatorHoldout: Processed 237 ( 100.00% ) in 0.20 sec. Users per second: 1212\n",
      "EvaluatorHoldout: Processed 237 ( 100.00% ) in 0.19 sec. Users per second: 1254\n",
      "EvaluatorHoldout: Processed 237 ( 100.00% ) in 0.20 sec. Users per second: 1192\n",
      "EvaluatorHoldout: Processed 237 ( 100.00% ) in 0.16 sec. Users per second: 1452\n",
      "EvaluatorHoldout: Processed 237 ( 100.00% ) in 0.23 sec. Users per second: 1053\n",
      "EvaluatorHoldout: Ignoring 7550 Users\n",
      "EvaluatorHoldout: Processed 250 ( 100.00% ) in 0.24 sec. Users per second: 1049\n",
      "EvaluatorHoldout: Processed 250 ( 100.00% ) in 0.19 sec. Users per second: 1339\n",
      "EvaluatorHoldout: Processed 250 ( 100.00% ) in 0.25 sec. Users per second: 1009\n",
      "EvaluatorHoldout: Processed 250 ( 100.00% ) in 0.19 sec. Users per second: 1290\n",
      "EvaluatorHoldout: Processed 250 ( 100.00% ) in 0.17 sec. Users per second: 1512\n",
      "EvaluatorHoldout: Ignoring 7550 Users\n",
      "EvaluatorHoldout: Processed 236 ( 100.00% ) in 0.17 sec. Users per second: 1362\n",
      "EvaluatorHoldout: Processed 236 ( 100.00% ) in 0.13 sec. Users per second: 1765\n",
      "EvaluatorHoldout: Processed 236 ( 100.00% ) in 0.15 sec. Users per second: 1532\n",
      "EvaluatorHoldout: Processed 236 ( 100.00% ) in 0.13 sec. Users per second: 1789\n",
      "EvaluatorHoldout: Processed 236 ( 100.00% ) in 0.16 sec. Users per second: 1515\n",
      "EvaluatorHoldout: Ignoring 7550 Users\n",
      "EvaluatorHoldout: Processed 232 ( 100.00% ) in 0.18 sec. Users per second: 1309\n",
      "EvaluatorHoldout: Processed 232 ( 100.00% ) in 0.13 sec. Users per second: 1777\n",
      "EvaluatorHoldout: Processed 232 ( 100.00% ) in 0.16 sec. Users per second: 1471\n",
      "EvaluatorHoldout: Processed 232 ( 100.00% ) in 0.14 sec. Users per second: 1717\n",
      "EvaluatorHoldout: Processed 232 ( 100.00% ) in 0.16 sec. Users per second: 1484\n",
      "EvaluatorHoldout: Ignoring 7550 Users\n",
      "EvaluatorHoldout: Processed 252 ( 100.00% ) in 0.19 sec. Users per second: 1310\n",
      "EvaluatorHoldout: Processed 252 ( 100.00% ) in 0.14 sec. Users per second: 1749\n",
      "EvaluatorHoldout: Processed 252 ( 100.00% ) in 0.18 sec. Users per second: 1439\n",
      "EvaluatorHoldout: Processed 252 ( 100.00% ) in 0.15 sec. Users per second: 1730\n",
      "EvaluatorHoldout: Processed 252 ( 100.00% ) in 0.17 sec. Users per second: 1497\n",
      "EvaluatorHoldout: Ignoring 7550 Users\n",
      "EvaluatorHoldout: Processed 246 ( 100.00% ) in 0.19 sec. Users per second: 1294\n",
      "EvaluatorHoldout: Processed 246 ( 100.00% ) in 0.15 sec. Users per second: 1607\n",
      "EvaluatorHoldout: Processed 246 ( 100.00% ) in 0.21 sec. Users per second: 1184\n",
      "EvaluatorHoldout: Processed 246 ( 100.00% ) in 0.14 sec. Users per second: 1784\n",
      "EvaluatorHoldout: Processed 246 ( 100.00% ) in 0.17 sec. Users per second: 1488\n",
      "EvaluatorHoldout: Ignoring 7550 Users\n",
      "EvaluatorHoldout: Processed 246 ( 100.00% ) in 0.19 sec. Users per second: 1325\n",
      "EvaluatorHoldout: Processed 246 ( 100.00% ) in 0.14 sec. Users per second: 1822\n",
      "EvaluatorHoldout: Processed 246 ( 100.00% ) in 0.16 sec. Users per second: 1524\n",
      "EvaluatorHoldout: Processed 246 ( 100.00% ) in 0.14 sec. Users per second: 1774\n",
      "EvaluatorHoldout: Processed 246 ( 100.00% ) in 0.18 sec. Users per second: 1384\n",
      "EvaluatorHoldout: Ignoring 7550 Users\n",
      "EvaluatorHoldout: Processed 233 ( 100.00% ) in 0.24 sec. Users per second: 960\n",
      "EvaluatorHoldout: Processed 233 ( 100.00% ) in 0.14 sec. Users per second: 1650\n",
      "EvaluatorHoldout: Processed 233 ( 100.00% ) in 0.19 sec. Users per second: 1197\n",
      "EvaluatorHoldout: Processed 233 ( 100.00% ) in 0.14 sec. Users per second: 1643\n",
      "EvaluatorHoldout: Processed 233 ( 100.00% ) in 0.19 sec. Users per second: 1238\n",
      "EvaluatorHoldout: Ignoring 7550 Users\n",
      "EvaluatorHoldout: Processed 247 ( 100.00% ) in 0.26 sec. Users per second: 959\n",
      "EvaluatorHoldout: Processed 247 ( 100.00% ) in 0.15 sec. Users per second: 1617\n",
      "EvaluatorHoldout: Processed 247 ( 100.00% ) in 0.18 sec. Users per second: 1383\n",
      "EvaluatorHoldout: Processed 247 ( 100.00% ) in 0.15 sec. Users per second: 1623\n",
      "EvaluatorHoldout: Processed 247 ( 100.00% ) in 0.19 sec. Users per second: 1277\n",
      "EvaluatorHoldout: Ignoring 7550 Users\n",
      "EvaluatorHoldout: Processed 249 ( 100.00% ) in 0.20 sec. Users per second: 1235\n",
      "EvaluatorHoldout: Processed 249 ( 100.00% ) in 0.17 sec. Users per second: 1502\n",
      "EvaluatorHoldout: Processed 249 ( 100.00% ) in 0.19 sec. Users per second: 1312\n",
      "EvaluatorHoldout: Processed 249 ( 100.00% ) in 0.20 sec. Users per second: 1252\n",
      "EvaluatorHoldout: Processed 249 ( 100.00% ) in 0.21 sec. Users per second: 1190\n"
     ]
    }
   ],
   "source": [
    "\n",
    "\n",
    "\n",
    "for group_id in range(0, 10):\n",
    "    \n",
    "    start_pos = group_id*block_size\n",
    "    end_pos = min((group_id+1)*block_size, len(profile_length))\n",
    "    \n",
    "    users_in_group = sorted_users[start_pos:end_pos]\n",
    "    \n",
    "    users_not_in_group_flag = np.isin(sorted_users, users_in_group, invert = True)\n",
    "    users_not_in_group = sorted_users[users_not_in_group_flag]\n",
    "    \n",
    "    evaluator_p3_rp3 = EvaluatorHoldout(URM_validation, cutoff_list=[cutoff], ignore_users = users_not_in_group)\n",
    "    \n",
    "    results, _ = evaluator_p3_rp3.evaluateRecommender(hybridrecommender)\n",
    "    MAP_p3aplha_rp3beta_per_group.append(results[cutoff][\"MAP\"])\n",
    "\n",
    "    results, _ = evaluator_p3_rp3.evaluateRecommender(recommender_cold)\n",
    "    MAP_user_cf_cold_per_group.append(results[cutoff][\"MAP\"])\n",
    "\n",
    "    results, _ = evaluator_p3_rp3.evaluateRecommender(recommender_item_cf)\n",
    "    MAP_item_cf_cold_per_group.append(results[cutoff][\"MAP\"])\n",
    "\n",
    "    results, _ = evaluator_p3_rp3.evaluateRecommender(recommeder_KNNItemCBF)\n",
    "    MAP_item_cbf_per_group.append(results[cutoff][\"MAP\"])\n",
    "\n",
    "    results, _ = evaluator_p3_rp3.evaluateRecommender(recommender_top_popular)\n",
    "    MAP_top_pop_per_group.append(results[cutoff][\"MAP\"])"
   ]
  },
  {
   "cell_type": "code",
   "execution_count": null,
   "metadata": {},
   "outputs": [],
   "source": [
    "        \n",
    "\n",
    "'''users_not_in_group = grouped_users.copy()\n",
    "users_not_in_group = users_not_in_group.loc[users_not_in_group.col >= 3]\n",
    "users_not_in_group = users_not_in_group.reset_index()['row']\n",
    "\n",
    "evaluator_p3_rp3 = EvaluatorHoldout(URM_validation, cutoff_list=[cutoff], ignore_users = users_not_in_group)\n",
    "\n",
    "results, _ = evaluator_p3_rp3.evaluateRecommender(hybridrecommender)\n",
    "MAP_p3aplha_rp3beta_per_group.append(results[cutoff][\"MAP\"])\n",
    "results, _ = evaluator_p3_rp3.evaluateRecommender(recommender_cold)\n",
    "MAP_user_cf_cold_per_group.append(results[cutoff][\"MAP\"])\n",
    "results, _ = evaluator_p3_rp3.evaluateRecommender(recommender_item_cf)\n",
    "MAP_item_cf_cold_per_group.append(results[cutoff][\"MAP\"])\n",
    "results, _ = evaluator_p3_rp3.evaluateRecommender(recommeder_KNNItemCBF)\n",
    "MAP_item_cbf_per_group.append(results[cutoff][\"MAP\"])\n",
    "results, _ = evaluator_p3_rp3.evaluateRecommender(recommender_top_popular)\n",
    "MAP_top_pop_per_group.append(results[cutoff][\"MAP\"])\n",
    "\n",
    "users_not_in_group = grouped_users.copy()\n",
    "users_not_in_group = users_not_in_group.loc[(users_not_in_group['col'] < 3) | (users_not_in_group['col'] > 10)]\n",
    "users_not_in_group = users_not_in_group.reset_index()['row']\n",
    "\n",
    "evaluator_p3_rp3 = EvaluatorHoldout(URM_validation, cutoff_list=[cutoff], ignore_users = users_not_in_group)\n",
    "\n",
    "results, _ = evaluator_p3_rp3.evaluateRecommender(hybridrecommender)\n",
    "MAP_p3aplha_rp3beta_per_group.append(results[cutoff][\"MAP\"])\n",
    "results, _ = evaluator_p3_rp3.evaluateRecommender(recommender_cold)\n",
    "MAP_user_cf_cold_per_group.append(results[cutoff][\"MAP\"])\n",
    "results, _ = evaluator_p3_rp3.evaluateRecommender(recommender_item_cf)\n",
    "MAP_item_cf_cold_per_group.append(results[cutoff][\"MAP\"])\n",
    "results, _ = evaluator_p3_rp3.evaluateRecommender(recommeder_KNNItemCBF)\n",
    "MAP_item_cbf_per_group.append(results[cutoff][\"MAP\"])\n",
    "results, _ = evaluator_p3_rp3.evaluateRecommender(recommender_top_popular)\n",
    "MAP_top_pop_per_group.append(results[cutoff][\"MAP\"])\n",
    "\n",
    "users_not_in_group = grouped_users.copy()\n",
    "users_not_in_group = users_not_in_group.loc[users_not_in_group.col <= 10]\n",
    "users_not_in_group = users_not_in_group.reset_index()['row']\n",
    "\n",
    "evaluator_p3_rp3 = EvaluatorHoldout(URM_validation, cutoff_list=[cutoff], ignore_users = users_not_in_group)\n",
    "\n",
    "results, _ = evaluator_p3_rp3.evaluateRecommender(hybridrecommender)\n",
    "MAP_p3aplha_rp3beta_per_group.append(results[cutoff][\"MAP\"])\n",
    "results, _ = evaluator_p3_rp3.evaluateRecommender(recommender_cold)\n",
    "MAP_user_cf_cold_per_group.append(results[cutoff][\"MAP\"])\n",
    "results, _ = evaluator_p3_rp3.evaluateRecommender(recommender_item_cf)\n",
    "MAP_item_cf_cold_per_group.append(results[cutoff][\"MAP\"])\n",
    "results, _ = evaluator_p3_rp3.evaluateRecommender(recommeder_KNNItemCBF)\n",
    "MAP_item_cbf_per_group.append(results[cutoff][\"MAP\"])\n",
    "results, _ = evaluator_p3_rp3.evaluateRecommender(recommender_top_popular)\n",
    "MAP_top_pop_per_group.append(results[cutoff][\"MAP\"])'''"
   ]
  },
  {
   "cell_type": "code",
   "execution_count": 24,
   "metadata": {},
   "outputs": [
    {
     "output_type": "display_data",
     "data": {
      "text/plain": "<Figure size 432x288 with 1 Axes>",
      "image/svg+xml": "<?xml version=\"1.0\" encoding=\"utf-8\" standalone=\"no\"?>\n<!DOCTYPE svg PUBLIC \"-//W3C//DTD SVG 1.1//EN\"\n  \"http://www.w3.org/Graphics/SVG/1.1/DTD/svg11.dtd\">\n<!-- Created with matplotlib (https://matplotlib.org/) -->\n<svg height=\"265.386992pt\" version=\"1.1\" viewBox=\"0 0 392.14375 265.386992\" width=\"392.14375pt\" xmlns=\"http://www.w3.org/2000/svg\" xmlns:xlink=\"http://www.w3.org/1999/xlink\">\n <metadata>\n  <rdf:RDF xmlns:cc=\"http://creativecommons.org/ns#\" xmlns:dc=\"http://purl.org/dc/elements/1.1/\" xmlns:rdf=\"http://www.w3.org/1999/02/22-rdf-syntax-ns#\">\n   <cc:Work>\n    <dc:type rdf:resource=\"http://purl.org/dc/dcmitype/StillImage\"/>\n    <dc:date>2020-11-26T14:15:58.270844</dc:date>\n    <dc:format>image/svg+xml</dc:format>\n    <dc:creator>\n     <cc:Agent>\n      <dc:title>Matplotlib v3.3.3, https://matplotlib.org/</dc:title>\n     </cc:Agent>\n    </dc:creator>\n   </cc:Work>\n  </rdf:RDF>\n </metadata>\n <defs>\n  <style type=\"text/css\">*{stroke-linecap:butt;stroke-linejoin:round;}</style>\n </defs>\n <g id=\"figure_1\">\n  <g id=\"patch_1\">\n   <path d=\"M 0 265.386992 \nL 392.14375 265.386992 \nL 392.14375 0 \nL 0 0 \nz\n\" style=\"fill:none;\"/>\n  </g>\n  <g id=\"axes_1\">\n   <g id=\"patch_2\">\n    <path d=\"M 50.14375 227.830742 \nL 384.94375 227.830742 \nL 384.94375 10.390742 \nL 50.14375 10.390742 \nz\n\" style=\"fill:#ffffff;\"/>\n   </g>\n   <g id=\"matplotlib.axis_1\">\n    <g id=\"xtick_1\">\n     <g id=\"line2d_1\">\n      <defs>\n       <path d=\"M 0 0 \nL 0 3.5 \n\" id=\"m8ad6df3f8c\" style=\"stroke:#000000;stroke-width:0.8;\"/>\n      </defs>\n      <g>\n       <use style=\"stroke:#000000;stroke-width:0.8;\" x=\"65.361932\" xlink:href=\"#m8ad6df3f8c\" y=\"227.830742\"/>\n      </g>\n     </g>\n     <g id=\"text_1\">\n      <!-- 0 -->\n      <g transform=\"translate(62.180682 242.42918)scale(0.1 -0.1)\">\n       <defs>\n        <path d=\"M 31.78125 66.40625 \nQ 24.171875 66.40625 20.328125 58.90625 \nQ 16.5 51.421875 16.5 36.375 \nQ 16.5 21.390625 20.328125 13.890625 \nQ 24.171875 6.390625 31.78125 6.390625 \nQ 39.453125 6.390625 43.28125 13.890625 \nQ 47.125 21.390625 47.125 36.375 \nQ 47.125 51.421875 43.28125 58.90625 \nQ 39.453125 66.40625 31.78125 66.40625 \nz\nM 31.78125 74.21875 \nQ 44.046875 74.21875 50.515625 64.515625 \nQ 56.984375 54.828125 56.984375 36.375 \nQ 56.984375 17.96875 50.515625 8.265625 \nQ 44.046875 -1.421875 31.78125 -1.421875 \nQ 19.53125 -1.421875 13.0625 8.265625 \nQ 6.59375 17.96875 6.59375 36.375 \nQ 6.59375 54.828125 13.0625 64.515625 \nQ 19.53125 74.21875 31.78125 74.21875 \nz\n\" id=\"DejaVuSans-48\"/>\n       </defs>\n       <use xlink:href=\"#DejaVuSans-48\"/>\n      </g>\n     </g>\n    </g>\n    <g id=\"xtick_2\">\n     <g id=\"line2d_2\">\n      <g>\n       <use style=\"stroke:#000000;stroke-width:0.8;\" x=\"132.998295\" xlink:href=\"#m8ad6df3f8c\" y=\"227.830742\"/>\n      </g>\n     </g>\n     <g id=\"text_2\">\n      <!-- 2 -->\n      <g transform=\"translate(129.817045 242.42918)scale(0.1 -0.1)\">\n       <defs>\n        <path d=\"M 19.1875 8.296875 \nL 53.609375 8.296875 \nL 53.609375 0 \nL 7.328125 0 \nL 7.328125 8.296875 \nQ 12.9375 14.109375 22.625 23.890625 \nQ 32.328125 33.6875 34.8125 36.53125 \nQ 39.546875 41.84375 41.421875 45.53125 \nQ 43.3125 49.21875 43.3125 52.78125 \nQ 43.3125 58.59375 39.234375 62.25 \nQ 35.15625 65.921875 28.609375 65.921875 \nQ 23.96875 65.921875 18.8125 64.3125 \nQ 13.671875 62.703125 7.8125 59.421875 \nL 7.8125 69.390625 \nQ 13.765625 71.78125 18.9375 73 \nQ 24.125 74.21875 28.421875 74.21875 \nQ 39.75 74.21875 46.484375 68.546875 \nQ 53.21875 62.890625 53.21875 53.421875 \nQ 53.21875 48.921875 51.53125 44.890625 \nQ 49.859375 40.875 45.40625 35.40625 \nQ 44.1875 33.984375 37.640625 27.21875 \nQ 31.109375 20.453125 19.1875 8.296875 \nz\n\" id=\"DejaVuSans-50\"/>\n       </defs>\n       <use xlink:href=\"#DejaVuSans-50\"/>\n      </g>\n     </g>\n    </g>\n    <g id=\"xtick_3\">\n     <g id=\"line2d_3\">\n      <g>\n       <use style=\"stroke:#000000;stroke-width:0.8;\" x=\"200.634659\" xlink:href=\"#m8ad6df3f8c\" y=\"227.830742\"/>\n      </g>\n     </g>\n     <g id=\"text_3\">\n      <!-- 4 -->\n      <g transform=\"translate(197.453409 242.42918)scale(0.1 -0.1)\">\n       <defs>\n        <path d=\"M 37.796875 64.3125 \nL 12.890625 25.390625 \nL 37.796875 25.390625 \nz\nM 35.203125 72.90625 \nL 47.609375 72.90625 \nL 47.609375 25.390625 \nL 58.015625 25.390625 \nL 58.015625 17.1875 \nL 47.609375 17.1875 \nL 47.609375 0 \nL 37.796875 0 \nL 37.796875 17.1875 \nL 4.890625 17.1875 \nL 4.890625 26.703125 \nz\n\" id=\"DejaVuSans-52\"/>\n       </defs>\n       <use xlink:href=\"#DejaVuSans-52\"/>\n      </g>\n     </g>\n    </g>\n    <g id=\"xtick_4\">\n     <g id=\"line2d_4\">\n      <g>\n       <use style=\"stroke:#000000;stroke-width:0.8;\" x=\"268.271023\" xlink:href=\"#m8ad6df3f8c\" y=\"227.830742\"/>\n      </g>\n     </g>\n     <g id=\"text_4\">\n      <!-- 6 -->\n      <g transform=\"translate(265.089773 242.42918)scale(0.1 -0.1)\">\n       <defs>\n        <path d=\"M 33.015625 40.375 \nQ 26.375 40.375 22.484375 35.828125 \nQ 18.609375 31.296875 18.609375 23.390625 \nQ 18.609375 15.53125 22.484375 10.953125 \nQ 26.375 6.390625 33.015625 6.390625 \nQ 39.65625 6.390625 43.53125 10.953125 \nQ 47.40625 15.53125 47.40625 23.390625 \nQ 47.40625 31.296875 43.53125 35.828125 \nQ 39.65625 40.375 33.015625 40.375 \nz\nM 52.59375 71.296875 \nL 52.59375 62.3125 \nQ 48.875 64.0625 45.09375 64.984375 \nQ 41.3125 65.921875 37.59375 65.921875 \nQ 27.828125 65.921875 22.671875 59.328125 \nQ 17.53125 52.734375 16.796875 39.40625 \nQ 19.671875 43.65625 24.015625 45.921875 \nQ 28.375 48.1875 33.59375 48.1875 \nQ 44.578125 48.1875 50.953125 41.515625 \nQ 57.328125 34.859375 57.328125 23.390625 \nQ 57.328125 12.15625 50.6875 5.359375 \nQ 44.046875 -1.421875 33.015625 -1.421875 \nQ 20.359375 -1.421875 13.671875 8.265625 \nQ 6.984375 17.96875 6.984375 36.375 \nQ 6.984375 53.65625 15.1875 63.9375 \nQ 23.390625 74.21875 37.203125 74.21875 \nQ 40.921875 74.21875 44.703125 73.484375 \nQ 48.484375 72.75 52.59375 71.296875 \nz\n\" id=\"DejaVuSans-54\"/>\n       </defs>\n       <use xlink:href=\"#DejaVuSans-54\"/>\n      </g>\n     </g>\n    </g>\n    <g id=\"xtick_5\">\n     <g id=\"line2d_5\">\n      <g>\n       <use style=\"stroke:#000000;stroke-width:0.8;\" x=\"335.907386\" xlink:href=\"#m8ad6df3f8c\" y=\"227.830742\"/>\n      </g>\n     </g>\n     <g id=\"text_5\">\n      <!-- 8 -->\n      <g transform=\"translate(332.726136 242.42918)scale(0.1 -0.1)\">\n       <defs>\n        <path d=\"M 31.78125 34.625 \nQ 24.75 34.625 20.71875 30.859375 \nQ 16.703125 27.09375 16.703125 20.515625 \nQ 16.703125 13.921875 20.71875 10.15625 \nQ 24.75 6.390625 31.78125 6.390625 \nQ 38.8125 6.390625 42.859375 10.171875 \nQ 46.921875 13.96875 46.921875 20.515625 \nQ 46.921875 27.09375 42.890625 30.859375 \nQ 38.875 34.625 31.78125 34.625 \nz\nM 21.921875 38.8125 \nQ 15.578125 40.375 12.03125 44.71875 \nQ 8.5 49.078125 8.5 55.328125 \nQ 8.5 64.0625 14.71875 69.140625 \nQ 20.953125 74.21875 31.78125 74.21875 \nQ 42.671875 74.21875 48.875 69.140625 \nQ 55.078125 64.0625 55.078125 55.328125 \nQ 55.078125 49.078125 51.53125 44.71875 \nQ 48 40.375 41.703125 38.8125 \nQ 48.828125 37.15625 52.796875 32.3125 \nQ 56.78125 27.484375 56.78125 20.515625 \nQ 56.78125 9.90625 50.3125 4.234375 \nQ 43.84375 -1.421875 31.78125 -1.421875 \nQ 19.734375 -1.421875 13.25 4.234375 \nQ 6.78125 9.90625 6.78125 20.515625 \nQ 6.78125 27.484375 10.78125 32.3125 \nQ 14.796875 37.15625 21.921875 38.8125 \nz\nM 18.3125 54.390625 \nQ 18.3125 48.734375 21.84375 45.5625 \nQ 25.390625 42.390625 31.78125 42.390625 \nQ 38.140625 42.390625 41.71875 45.5625 \nQ 45.3125 48.734375 45.3125 54.390625 \nQ 45.3125 60.0625 41.71875 63.234375 \nQ 38.140625 66.40625 31.78125 66.40625 \nQ 25.390625 66.40625 21.84375 63.234375 \nQ 18.3125 60.0625 18.3125 54.390625 \nz\n\" id=\"DejaVuSans-56\"/>\n       </defs>\n       <use xlink:href=\"#DejaVuSans-56\"/>\n      </g>\n     </g>\n    </g>\n    <g id=\"text_6\">\n     <!-- User Group -->\n     <g transform=\"translate(189.339063 256.107305)scale(0.1 -0.1)\">\n      <defs>\n       <path d=\"M 8.6875 72.90625 \nL 18.609375 72.90625 \nL 18.609375 28.609375 \nQ 18.609375 16.890625 22.84375 11.734375 \nQ 27.09375 6.59375 36.625 6.59375 \nQ 46.09375 6.59375 50.34375 11.734375 \nQ 54.59375 16.890625 54.59375 28.609375 \nL 54.59375 72.90625 \nL 64.5 72.90625 \nL 64.5 27.390625 \nQ 64.5 13.140625 57.4375 5.859375 \nQ 50.390625 -1.421875 36.625 -1.421875 \nQ 22.796875 -1.421875 15.734375 5.859375 \nQ 8.6875 13.140625 8.6875 27.390625 \nz\n\" id=\"DejaVuSans-85\"/>\n       <path d=\"M 44.28125 53.078125 \nL 44.28125 44.578125 \nQ 40.484375 46.53125 36.375 47.5 \nQ 32.28125 48.484375 27.875 48.484375 \nQ 21.1875 48.484375 17.84375 46.4375 \nQ 14.5 44.390625 14.5 40.28125 \nQ 14.5 37.15625 16.890625 35.375 \nQ 19.28125 33.59375 26.515625 31.984375 \nL 29.59375 31.296875 \nQ 39.15625 29.25 43.1875 25.515625 \nQ 47.21875 21.78125 47.21875 15.09375 \nQ 47.21875 7.46875 41.1875 3.015625 \nQ 35.15625 -1.421875 24.609375 -1.421875 \nQ 20.21875 -1.421875 15.453125 -0.5625 \nQ 10.6875 0.296875 5.421875 2 \nL 5.421875 11.28125 \nQ 10.40625 8.6875 15.234375 7.390625 \nQ 20.0625 6.109375 24.8125 6.109375 \nQ 31.15625 6.109375 34.5625 8.28125 \nQ 37.984375 10.453125 37.984375 14.40625 \nQ 37.984375 18.0625 35.515625 20.015625 \nQ 33.0625 21.96875 24.703125 23.78125 \nL 21.578125 24.515625 \nQ 13.234375 26.265625 9.515625 29.90625 \nQ 5.8125 33.546875 5.8125 39.890625 \nQ 5.8125 47.609375 11.28125 51.796875 \nQ 16.75 56 26.8125 56 \nQ 31.78125 56 36.171875 55.265625 \nQ 40.578125 54.546875 44.28125 53.078125 \nz\n\" id=\"DejaVuSans-115\"/>\n       <path d=\"M 56.203125 29.59375 \nL 56.203125 25.203125 \nL 14.890625 25.203125 \nQ 15.484375 15.921875 20.484375 11.0625 \nQ 25.484375 6.203125 34.421875 6.203125 \nQ 39.59375 6.203125 44.453125 7.46875 \nQ 49.3125 8.734375 54.109375 11.28125 \nL 54.109375 2.78125 \nQ 49.265625 0.734375 44.1875 -0.34375 \nQ 39.109375 -1.421875 33.890625 -1.421875 \nQ 20.796875 -1.421875 13.15625 6.1875 \nQ 5.515625 13.8125 5.515625 26.8125 \nQ 5.515625 40.234375 12.765625 48.109375 \nQ 20.015625 56 32.328125 56 \nQ 43.359375 56 49.78125 48.890625 \nQ 56.203125 41.796875 56.203125 29.59375 \nz\nM 47.21875 32.234375 \nQ 47.125 39.59375 43.09375 43.984375 \nQ 39.0625 48.390625 32.421875 48.390625 \nQ 24.90625 48.390625 20.390625 44.140625 \nQ 15.875 39.890625 15.1875 32.171875 \nz\n\" id=\"DejaVuSans-101\"/>\n       <path d=\"M 41.109375 46.296875 \nQ 39.59375 47.171875 37.8125 47.578125 \nQ 36.03125 48 33.890625 48 \nQ 26.265625 48 22.1875 43.046875 \nQ 18.109375 38.09375 18.109375 28.8125 \nL 18.109375 0 \nL 9.078125 0 \nL 9.078125 54.6875 \nL 18.109375 54.6875 \nL 18.109375 46.1875 \nQ 20.953125 51.171875 25.484375 53.578125 \nQ 30.03125 56 36.53125 56 \nQ 37.453125 56 38.578125 55.875 \nQ 39.703125 55.765625 41.0625 55.515625 \nz\n\" id=\"DejaVuSans-114\"/>\n       <path id=\"DejaVuSans-32\"/>\n       <path d=\"M 59.515625 10.40625 \nL 59.515625 29.984375 \nL 43.40625 29.984375 \nL 43.40625 38.09375 \nL 69.28125 38.09375 \nL 69.28125 6.78125 \nQ 63.578125 2.734375 56.6875 0.65625 \nQ 49.8125 -1.421875 42 -1.421875 \nQ 24.90625 -1.421875 15.25 8.5625 \nQ 5.609375 18.5625 5.609375 36.375 \nQ 5.609375 54.25 15.25 64.234375 \nQ 24.90625 74.21875 42 74.21875 \nQ 49.125 74.21875 55.546875 72.453125 \nQ 61.96875 70.703125 67.390625 67.28125 \nL 67.390625 56.78125 \nQ 61.921875 61.421875 55.765625 63.765625 \nQ 49.609375 66.109375 42.828125 66.109375 \nQ 29.4375 66.109375 22.71875 58.640625 \nQ 16.015625 51.171875 16.015625 36.375 \nQ 16.015625 21.625 22.71875 14.15625 \nQ 29.4375 6.6875 42.828125 6.6875 \nQ 48.046875 6.6875 52.140625 7.59375 \nQ 56.25 8.5 59.515625 10.40625 \nz\n\" id=\"DejaVuSans-71\"/>\n       <path d=\"M 30.609375 48.390625 \nQ 23.390625 48.390625 19.1875 42.75 \nQ 14.984375 37.109375 14.984375 27.296875 \nQ 14.984375 17.484375 19.15625 11.84375 \nQ 23.34375 6.203125 30.609375 6.203125 \nQ 37.796875 6.203125 41.984375 11.859375 \nQ 46.1875 17.53125 46.1875 27.296875 \nQ 46.1875 37.015625 41.984375 42.703125 \nQ 37.796875 48.390625 30.609375 48.390625 \nz\nM 30.609375 56 \nQ 42.328125 56 49.015625 48.375 \nQ 55.71875 40.765625 55.71875 27.296875 \nQ 55.71875 13.875 49.015625 6.21875 \nQ 42.328125 -1.421875 30.609375 -1.421875 \nQ 18.84375 -1.421875 12.171875 6.21875 \nQ 5.515625 13.875 5.515625 27.296875 \nQ 5.515625 40.765625 12.171875 48.375 \nQ 18.84375 56 30.609375 56 \nz\n\" id=\"DejaVuSans-111\"/>\n       <path d=\"M 8.5 21.578125 \nL 8.5 54.6875 \nL 17.484375 54.6875 \nL 17.484375 21.921875 \nQ 17.484375 14.15625 20.5 10.265625 \nQ 23.53125 6.390625 29.59375 6.390625 \nQ 36.859375 6.390625 41.078125 11.03125 \nQ 45.3125 15.671875 45.3125 23.6875 \nL 45.3125 54.6875 \nL 54.296875 54.6875 \nL 54.296875 0 \nL 45.3125 0 \nL 45.3125 8.40625 \nQ 42.046875 3.421875 37.71875 1 \nQ 33.40625 -1.421875 27.6875 -1.421875 \nQ 18.265625 -1.421875 13.375 4.4375 \nQ 8.5 10.296875 8.5 21.578125 \nz\nM 31.109375 56 \nz\n\" id=\"DejaVuSans-117\"/>\n       <path d=\"M 18.109375 8.203125 \nL 18.109375 -20.796875 \nL 9.078125 -20.796875 \nL 9.078125 54.6875 \nL 18.109375 54.6875 \nL 18.109375 46.390625 \nQ 20.953125 51.265625 25.265625 53.625 \nQ 29.59375 56 35.59375 56 \nQ 45.5625 56 51.78125 48.09375 \nQ 58.015625 40.1875 58.015625 27.296875 \nQ 58.015625 14.40625 51.78125 6.484375 \nQ 45.5625 -1.421875 35.59375 -1.421875 \nQ 29.59375 -1.421875 25.265625 0.953125 \nQ 20.953125 3.328125 18.109375 8.203125 \nz\nM 48.6875 27.296875 \nQ 48.6875 37.203125 44.609375 42.84375 \nQ 40.53125 48.484375 33.40625 48.484375 \nQ 26.265625 48.484375 22.1875 42.84375 \nQ 18.109375 37.203125 18.109375 27.296875 \nQ 18.109375 17.390625 22.1875 11.75 \nQ 26.265625 6.109375 33.40625 6.109375 \nQ 40.53125 6.109375 44.609375 11.75 \nQ 48.6875 17.390625 48.6875 27.296875 \nz\n\" id=\"DejaVuSans-112\"/>\n      </defs>\n      <use xlink:href=\"#DejaVuSans-85\"/>\n      <use x=\"73.193359\" xlink:href=\"#DejaVuSans-115\"/>\n      <use x=\"125.292969\" xlink:href=\"#DejaVuSans-101\"/>\n      <use x=\"186.816406\" xlink:href=\"#DejaVuSans-114\"/>\n      <use x=\"227.929688\" xlink:href=\"#DejaVuSans-32\"/>\n      <use x=\"259.716797\" xlink:href=\"#DejaVuSans-71\"/>\n      <use x=\"337.207031\" xlink:href=\"#DejaVuSans-114\"/>\n      <use x=\"376.070312\" xlink:href=\"#DejaVuSans-111\"/>\n      <use x=\"437.251953\" xlink:href=\"#DejaVuSans-117\"/>\n      <use x=\"500.630859\" xlink:href=\"#DejaVuSans-112\"/>\n     </g>\n    </g>\n   </g>\n   <g id=\"matplotlib.axis_2\">\n    <g id=\"ytick_1\">\n     <g id=\"line2d_6\">\n      <defs>\n       <path d=\"M 0 0 \nL -3.5 0 \n\" id=\"m867a285fc1\" style=\"stroke:#000000;stroke-width:0.8;\"/>\n      </defs>\n      <g>\n       <use style=\"stroke:#000000;stroke-width:0.8;\" x=\"50.14375\" xlink:href=\"#m867a285fc1\" y=\"187.770991\"/>\n      </g>\n     </g>\n     <g id=\"text_7\">\n      <!-- 0.02 -->\n      <g transform=\"translate(20.878125 191.57021)scale(0.1 -0.1)\">\n       <defs>\n        <path d=\"M 10.6875 12.40625 \nL 21 12.40625 \nL 21 0 \nL 10.6875 0 \nz\n\" id=\"DejaVuSans-46\"/>\n       </defs>\n       <use xlink:href=\"#DejaVuSans-48\"/>\n       <use x=\"63.623047\" xlink:href=\"#DejaVuSans-46\"/>\n       <use x=\"95.410156\" xlink:href=\"#DejaVuSans-48\"/>\n       <use x=\"159.033203\" xlink:href=\"#DejaVuSans-50\"/>\n      </g>\n     </g>\n    </g>\n    <g id=\"ytick_2\">\n     <g id=\"line2d_7\">\n      <g>\n       <use style=\"stroke:#000000;stroke-width:0.8;\" x=\"50.14375\" xlink:href=\"#m867a285fc1\" y=\"143.578048\"/>\n      </g>\n     </g>\n     <g id=\"text_8\">\n      <!-- 0.04 -->\n      <g transform=\"translate(20.878125 147.377267)scale(0.1 -0.1)\">\n       <use xlink:href=\"#DejaVuSans-48\"/>\n       <use x=\"63.623047\" xlink:href=\"#DejaVuSans-46\"/>\n       <use x=\"95.410156\" xlink:href=\"#DejaVuSans-48\"/>\n       <use x=\"159.033203\" xlink:href=\"#DejaVuSans-52\"/>\n      </g>\n     </g>\n    </g>\n    <g id=\"ytick_3\">\n     <g id=\"line2d_8\">\n      <g>\n       <use style=\"stroke:#000000;stroke-width:0.8;\" x=\"50.14375\" xlink:href=\"#m867a285fc1\" y=\"99.385105\"/>\n      </g>\n     </g>\n     <g id=\"text_9\">\n      <!-- 0.06 -->\n      <g transform=\"translate(20.878125 103.184324)scale(0.1 -0.1)\">\n       <use xlink:href=\"#DejaVuSans-48\"/>\n       <use x=\"63.623047\" xlink:href=\"#DejaVuSans-46\"/>\n       <use x=\"95.410156\" xlink:href=\"#DejaVuSans-48\"/>\n       <use x=\"159.033203\" xlink:href=\"#DejaVuSans-54\"/>\n      </g>\n     </g>\n    </g>\n    <g id=\"ytick_4\">\n     <g id=\"line2d_9\">\n      <g>\n       <use style=\"stroke:#000000;stroke-width:0.8;\" x=\"50.14375\" xlink:href=\"#m867a285fc1\" y=\"55.192162\"/>\n      </g>\n     </g>\n     <g id=\"text_10\">\n      <!-- 0.08 -->\n      <g transform=\"translate(20.878125 58.991381)scale(0.1 -0.1)\">\n       <use xlink:href=\"#DejaVuSans-48\"/>\n       <use x=\"63.623047\" xlink:href=\"#DejaVuSans-46\"/>\n       <use x=\"95.410156\" xlink:href=\"#DejaVuSans-48\"/>\n       <use x=\"159.033203\" xlink:href=\"#DejaVuSans-56\"/>\n      </g>\n     </g>\n    </g>\n    <g id=\"ytick_5\">\n     <g id=\"line2d_10\">\n      <g>\n       <use style=\"stroke:#000000;stroke-width:0.8;\" x=\"50.14375\" xlink:href=\"#m867a285fc1\" y=\"10.999219\"/>\n      </g>\n     </g>\n     <g id=\"text_11\">\n      <!-- 0.10 -->\n      <g transform=\"translate(20.878125 14.798438)scale(0.1 -0.1)\">\n       <defs>\n        <path d=\"M 12.40625 8.296875 \nL 28.515625 8.296875 \nL 28.515625 63.921875 \nL 10.984375 60.40625 \nL 10.984375 69.390625 \nL 28.421875 72.90625 \nL 38.28125 72.90625 \nL 38.28125 8.296875 \nL 54.390625 8.296875 \nL 54.390625 0 \nL 12.40625 0 \nz\n\" id=\"DejaVuSans-49\"/>\n       </defs>\n       <use xlink:href=\"#DejaVuSans-48\"/>\n       <use x=\"63.623047\" xlink:href=\"#DejaVuSans-46\"/>\n       <use x=\"95.410156\" xlink:href=\"#DejaVuSans-49\"/>\n       <use x=\"159.033203\" xlink:href=\"#DejaVuSans-48\"/>\n      </g>\n     </g>\n    </g>\n    <g id=\"text_12\">\n     <!-- MAP -->\n     <g transform=\"translate(14.798438 129.859961)rotate(-90)scale(0.1 -0.1)\">\n      <defs>\n       <path d=\"M 9.8125 72.90625 \nL 24.515625 72.90625 \nL 43.109375 23.296875 \nL 61.8125 72.90625 \nL 76.515625 72.90625 \nL 76.515625 0 \nL 66.890625 0 \nL 66.890625 64.015625 \nL 48.09375 14.015625 \nL 38.1875 14.015625 \nL 19.390625 64.015625 \nL 19.390625 0 \nL 9.8125 0 \nz\n\" id=\"DejaVuSans-77\"/>\n       <path d=\"M 34.1875 63.1875 \nL 20.796875 26.90625 \nL 47.609375 26.90625 \nz\nM 28.609375 72.90625 \nL 39.796875 72.90625 \nL 67.578125 0 \nL 57.328125 0 \nL 50.6875 18.703125 \nL 17.828125 18.703125 \nL 11.1875 0 \nL 0.78125 0 \nz\n\" id=\"DejaVuSans-65\"/>\n       <path d=\"M 19.671875 64.796875 \nL 19.671875 37.40625 \nL 32.078125 37.40625 \nQ 38.96875 37.40625 42.71875 40.96875 \nQ 46.484375 44.53125 46.484375 51.125 \nQ 46.484375 57.671875 42.71875 61.234375 \nQ 38.96875 64.796875 32.078125 64.796875 \nz\nM 9.8125 72.90625 \nL 32.078125 72.90625 \nQ 44.34375 72.90625 50.609375 67.359375 \nQ 56.890625 61.8125 56.890625 51.125 \nQ 56.890625 40.328125 50.609375 34.8125 \nQ 44.34375 29.296875 32.078125 29.296875 \nL 19.671875 29.296875 \nL 19.671875 0 \nL 9.8125 0 \nz\n\" id=\"DejaVuSans-80\"/>\n      </defs>\n      <use xlink:href=\"#DejaVuSans-77\"/>\n      <use x=\"86.279297\" xlink:href=\"#DejaVuSans-65\"/>\n      <use x=\"154.6875\" xlink:href=\"#DejaVuSans-80\"/>\n     </g>\n    </g>\n   </g>\n   <g id=\"line2d_11\">\n    <path clip-path=\"url(#paab4fe6cb0)\" d=\"M 65.361932 86.731172 \nL 99.180114 89.05518 \nL 132.998295 106.036426 \nL 166.816477 56.082126 \nL 200.634659 69.616856 \nL 234.452841 48.143191 \nL 268.271023 89.13191 \nL 302.089205 44.441602 \nL 335.907386 32.033616 \nL 369.725568 20.274379 \n\" style=\"fill:none;stroke:#1f77b4;stroke-linecap:square;stroke-width:1.5;\"/>\n   </g>\n   <g id=\"line2d_12\">\n    <path clip-path=\"url(#paab4fe6cb0)\" d=\"M 65.361932 115.531678 \nL 99.180114 142.995239 \nL 132.998295 130.234661 \nL 166.816477 84.346725 \nL 200.634659 95.584461 \nL 234.452841 91.552202 \nL 268.271023 101.630503 \nL 302.089205 95.957949 \nL 335.907386 87.840701 \nL 369.725568 57.167428 \n\" style=\"fill:none;stroke:#ff7f0e;stroke-linecap:square;stroke-width:1.5;\"/>\n   </g>\n   <g id=\"line2d_13\">\n    <path clip-path=\"url(#paab4fe6cb0)\" d=\"M 65.361932 114.344608 \nL 99.180114 167.35961 \nL 132.998295 152.254718 \nL 166.816477 84.488204 \nL 200.634659 97.500122 \nL 234.452841 102.912759 \nL 268.271023 97.946332 \nL 302.089205 93.117336 \nL 335.907386 86.481787 \nL 369.725568 63.813484 \n\" style=\"fill:none;stroke:#2ca02c;stroke-linecap:square;stroke-width:1.5;\"/>\n   </g>\n   <g id=\"line2d_14\">\n    <path clip-path=\"url(#paab4fe6cb0)\" d=\"M 65.361932 184.837202 \nL 99.180114 121.524717 \nL 132.998295 151.63653 \nL 166.816477 155.923786 \nL 200.634659 180.930215 \nL 234.452841 180.082387 \nL 268.271023 189.19319 \nL 302.089205 155.808769 \nL 335.907386 153.362847 \nL 369.725568 150.530823 \n\" style=\"fill:none;stroke:#d62728;stroke-linecap:square;stroke-width:1.5;\"/>\n   </g>\n   <g id=\"line2d_15\">\n    <path clip-path=\"url(#paab4fe6cb0)\" d=\"M 65.361932 214.642255 \nL 99.180114 197.544296 \nL 132.998295 211.302366 \nL 166.816477 203.870907 \nL 200.634659 215.669248 \nL 234.452841 197.296512 \nL 268.271023 200.281882 \nL 302.089205 211.940654 \nL 335.907386 215.659604 \nL 369.725568 217.947106 \n\" style=\"fill:none;stroke:#9467bd;stroke-linecap:square;stroke-width:1.5;\"/>\n   </g>\n   <g id=\"patch_3\">\n    <path d=\"M 50.14375 227.830742 \nL 50.14375 10.390742 \n\" style=\"fill:none;stroke:#000000;stroke-linecap:square;stroke-linejoin:miter;stroke-width:0.8;\"/>\n   </g>\n   <g id=\"patch_4\">\n    <path d=\"M 384.94375 227.830742 \nL 384.94375 10.390742 \n\" style=\"fill:none;stroke:#000000;stroke-linecap:square;stroke-linejoin:miter;stroke-width:0.8;\"/>\n   </g>\n   <g id=\"patch_5\">\n    <path d=\"M 50.14375 227.830742 \nL 384.94375 227.830742 \n\" style=\"fill:none;stroke:#000000;stroke-linecap:square;stroke-linejoin:miter;stroke-width:0.8;\"/>\n   </g>\n   <g id=\"patch_6\">\n    <path d=\"M 50.14375 10.390742 \nL 384.94375 10.390742 \n\" style=\"fill:none;stroke:#000000;stroke-linecap:square;stroke-linejoin:miter;stroke-width:0.8;\"/>\n   </g>\n   <g id=\"legend_1\">\n    <g id=\"patch_7\">\n     <path d=\"M 57.14375 91.781367 \nL 182.335938 91.781367 \nQ 184.335938 91.781367 184.335938 89.781367 \nL 184.335938 17.390742 \nQ 184.335938 15.390742 182.335938 15.390742 \nL 57.14375 15.390742 \nQ 55.14375 15.390742 55.14375 17.390742 \nL 55.14375 89.781367 \nQ 55.14375 91.781367 57.14375 91.781367 \nz\n\" style=\"fill:#ffffff;opacity:0.8;stroke:#cccccc;stroke-linejoin:miter;\"/>\n    </g>\n    <g id=\"line2d_16\">\n     <path d=\"M 59.14375 23.48918 \nL 79.14375 23.48918 \n\" style=\"fill:none;stroke:#1f77b4;stroke-linecap:square;stroke-width:1.5;\"/>\n    </g>\n    <g id=\"line2d_17\"/>\n    <g id=\"text_13\">\n     <!-- P3Aplha - RP3Beta -->\n     <g transform=\"translate(87.14375 26.98918)scale(0.1 -0.1)\">\n      <defs>\n       <path d=\"M 40.578125 39.3125 \nQ 47.65625 37.796875 51.625 33 \nQ 55.609375 28.21875 55.609375 21.1875 \nQ 55.609375 10.40625 48.1875 4.484375 \nQ 40.765625 -1.421875 27.09375 -1.421875 \nQ 22.515625 -1.421875 17.65625 -0.515625 \nQ 12.796875 0.390625 7.625 2.203125 \nL 7.625 11.71875 \nQ 11.71875 9.328125 16.59375 8.109375 \nQ 21.484375 6.890625 26.8125 6.890625 \nQ 36.078125 6.890625 40.9375 10.546875 \nQ 45.796875 14.203125 45.796875 21.1875 \nQ 45.796875 27.640625 41.28125 31.265625 \nQ 36.765625 34.90625 28.71875 34.90625 \nL 20.21875 34.90625 \nL 20.21875 43.015625 \nL 29.109375 43.015625 \nQ 36.375 43.015625 40.234375 45.921875 \nQ 44.09375 48.828125 44.09375 54.296875 \nQ 44.09375 59.90625 40.109375 62.90625 \nQ 36.140625 65.921875 28.71875 65.921875 \nQ 24.65625 65.921875 20.015625 65.03125 \nQ 15.375 64.15625 9.8125 62.3125 \nL 9.8125 71.09375 \nQ 15.4375 72.65625 20.34375 73.4375 \nQ 25.25 74.21875 29.59375 74.21875 \nQ 40.828125 74.21875 47.359375 69.109375 \nQ 53.90625 64.015625 53.90625 55.328125 \nQ 53.90625 49.265625 50.4375 45.09375 \nQ 46.96875 40.921875 40.578125 39.3125 \nz\n\" id=\"DejaVuSans-51\"/>\n       <path d=\"M 9.421875 75.984375 \nL 18.40625 75.984375 \nL 18.40625 0 \nL 9.421875 0 \nz\n\" id=\"DejaVuSans-108\"/>\n       <path d=\"M 54.890625 33.015625 \nL 54.890625 0 \nL 45.90625 0 \nL 45.90625 32.71875 \nQ 45.90625 40.484375 42.875 44.328125 \nQ 39.84375 48.1875 33.796875 48.1875 \nQ 26.515625 48.1875 22.3125 43.546875 \nQ 18.109375 38.921875 18.109375 30.90625 \nL 18.109375 0 \nL 9.078125 0 \nL 9.078125 75.984375 \nL 18.109375 75.984375 \nL 18.109375 46.1875 \nQ 21.34375 51.125 25.703125 53.5625 \nQ 30.078125 56 35.796875 56 \nQ 45.21875 56 50.046875 50.171875 \nQ 54.890625 44.34375 54.890625 33.015625 \nz\n\" id=\"DejaVuSans-104\"/>\n       <path d=\"M 34.28125 27.484375 \nQ 23.390625 27.484375 19.1875 25 \nQ 14.984375 22.515625 14.984375 16.5 \nQ 14.984375 11.71875 18.140625 8.90625 \nQ 21.296875 6.109375 26.703125 6.109375 \nQ 34.1875 6.109375 38.703125 11.40625 \nQ 43.21875 16.703125 43.21875 25.484375 \nL 43.21875 27.484375 \nz\nM 52.203125 31.203125 \nL 52.203125 0 \nL 43.21875 0 \nL 43.21875 8.296875 \nQ 40.140625 3.328125 35.546875 0.953125 \nQ 30.953125 -1.421875 24.3125 -1.421875 \nQ 15.921875 -1.421875 10.953125 3.296875 \nQ 6 8.015625 6 15.921875 \nQ 6 25.140625 12.171875 29.828125 \nQ 18.359375 34.515625 30.609375 34.515625 \nL 43.21875 34.515625 \nL 43.21875 35.40625 \nQ 43.21875 41.609375 39.140625 45 \nQ 35.0625 48.390625 27.6875 48.390625 \nQ 23 48.390625 18.546875 47.265625 \nQ 14.109375 46.140625 10.015625 43.890625 \nL 10.015625 52.203125 \nQ 14.9375 54.109375 19.578125 55.046875 \nQ 24.21875 56 28.609375 56 \nQ 40.484375 56 46.34375 49.84375 \nQ 52.203125 43.703125 52.203125 31.203125 \nz\n\" id=\"DejaVuSans-97\"/>\n       <path d=\"M 4.890625 31.390625 \nL 31.203125 31.390625 \nL 31.203125 23.390625 \nL 4.890625 23.390625 \nz\n\" id=\"DejaVuSans-45\"/>\n       <path d=\"M 44.390625 34.1875 \nQ 47.5625 33.109375 50.5625 29.59375 \nQ 53.5625 26.078125 56.59375 19.921875 \nL 66.609375 0 \nL 56 0 \nL 46.6875 18.703125 \nQ 43.0625 26.03125 39.671875 28.421875 \nQ 36.28125 30.8125 30.421875 30.8125 \nL 19.671875 30.8125 \nL 19.671875 0 \nL 9.8125 0 \nL 9.8125 72.90625 \nL 32.078125 72.90625 \nQ 44.578125 72.90625 50.734375 67.671875 \nQ 56.890625 62.453125 56.890625 51.90625 \nQ 56.890625 45.015625 53.6875 40.46875 \nQ 50.484375 35.9375 44.390625 34.1875 \nz\nM 19.671875 64.796875 \nL 19.671875 38.921875 \nL 32.078125 38.921875 \nQ 39.203125 38.921875 42.84375 42.21875 \nQ 46.484375 45.515625 46.484375 51.90625 \nQ 46.484375 58.296875 42.84375 61.546875 \nQ 39.203125 64.796875 32.078125 64.796875 \nz\n\" id=\"DejaVuSans-82\"/>\n       <path d=\"M 19.671875 34.8125 \nL 19.671875 8.109375 \nL 35.5 8.109375 \nQ 43.453125 8.109375 47.28125 11.40625 \nQ 51.125 14.703125 51.125 21.484375 \nQ 51.125 28.328125 47.28125 31.5625 \nQ 43.453125 34.8125 35.5 34.8125 \nz\nM 19.671875 64.796875 \nL 19.671875 42.828125 \nL 34.28125 42.828125 \nQ 41.5 42.828125 45.03125 45.53125 \nQ 48.578125 48.25 48.578125 53.8125 \nQ 48.578125 59.328125 45.03125 62.0625 \nQ 41.5 64.796875 34.28125 64.796875 \nz\nM 9.8125 72.90625 \nL 35.015625 72.90625 \nQ 46.296875 72.90625 52.390625 68.21875 \nQ 58.5 63.53125 58.5 54.890625 \nQ 58.5 48.1875 55.375 44.234375 \nQ 52.25 40.28125 46.1875 39.3125 \nQ 53.46875 37.75 57.5 32.78125 \nQ 61.53125 27.828125 61.53125 20.40625 \nQ 61.53125 10.640625 54.890625 5.3125 \nQ 48.25 0 35.984375 0 \nL 9.8125 0 \nz\n\" id=\"DejaVuSans-66\"/>\n       <path d=\"M 18.3125 70.21875 \nL 18.3125 54.6875 \nL 36.8125 54.6875 \nL 36.8125 47.703125 \nL 18.3125 47.703125 \nL 18.3125 18.015625 \nQ 18.3125 11.328125 20.140625 9.421875 \nQ 21.96875 7.515625 27.59375 7.515625 \nL 36.8125 7.515625 \nL 36.8125 0 \nL 27.59375 0 \nQ 17.1875 0 13.234375 3.875 \nQ 9.28125 7.765625 9.28125 18.015625 \nL 9.28125 47.703125 \nL 2.6875 47.703125 \nL 2.6875 54.6875 \nL 9.28125 54.6875 \nL 9.28125 70.21875 \nz\n\" id=\"DejaVuSans-116\"/>\n      </defs>\n      <use xlink:href=\"#DejaVuSans-80\"/>\n      <use x=\"60.302734\" xlink:href=\"#DejaVuSans-51\"/>\n      <use x=\"123.925781\" xlink:href=\"#DejaVuSans-65\"/>\n      <use x=\"192.333984\" xlink:href=\"#DejaVuSans-112\"/>\n      <use x=\"255.810547\" xlink:href=\"#DejaVuSans-108\"/>\n      <use x=\"283.59375\" xlink:href=\"#DejaVuSans-104\"/>\n      <use x=\"346.972656\" xlink:href=\"#DejaVuSans-97\"/>\n      <use x=\"408.251953\" xlink:href=\"#DejaVuSans-32\"/>\n      <use x=\"440.039062\" xlink:href=\"#DejaVuSans-45\"/>\n      <use x=\"476.123047\" xlink:href=\"#DejaVuSans-32\"/>\n      <use x=\"507.910156\" xlink:href=\"#DejaVuSans-82\"/>\n      <use x=\"577.392578\" xlink:href=\"#DejaVuSans-80\"/>\n      <use x=\"637.695312\" xlink:href=\"#DejaVuSans-51\"/>\n      <use x=\"701.318359\" xlink:href=\"#DejaVuSans-66\"/>\n      <use x=\"769.921875\" xlink:href=\"#DejaVuSans-101\"/>\n      <use x=\"831.445312\" xlink:href=\"#DejaVuSans-116\"/>\n      <use x=\"870.654297\" xlink:href=\"#DejaVuSans-97\"/>\n     </g>\n    </g>\n    <g id=\"line2d_18\">\n     <path d=\"M 59.14375 38.167305 \nL 79.14375 38.167305 \n\" style=\"fill:none;stroke:#ff7f0e;stroke-linecap:square;stroke-width:1.5;\"/>\n    </g>\n    <g id=\"line2d_19\"/>\n    <g id=\"text_14\">\n     <!-- userKNNCF -->\n     <g transform=\"translate(87.14375 41.667305)scale(0.1 -0.1)\">\n      <defs>\n       <path d=\"M 9.8125 72.90625 \nL 19.671875 72.90625 \nL 19.671875 42.09375 \nL 52.390625 72.90625 \nL 65.09375 72.90625 \nL 28.90625 38.921875 \nL 67.671875 0 \nL 54.6875 0 \nL 19.671875 35.109375 \nL 19.671875 0 \nL 9.8125 0 \nz\n\" id=\"DejaVuSans-75\"/>\n       <path d=\"M 9.8125 72.90625 \nL 23.09375 72.90625 \nL 55.421875 11.921875 \nL 55.421875 72.90625 \nL 64.984375 72.90625 \nL 64.984375 0 \nL 51.703125 0 \nL 19.390625 60.984375 \nL 19.390625 0 \nL 9.8125 0 \nz\n\" id=\"DejaVuSans-78\"/>\n       <path d=\"M 64.40625 67.28125 \nL 64.40625 56.890625 \nQ 59.421875 61.53125 53.78125 63.8125 \nQ 48.140625 66.109375 41.796875 66.109375 \nQ 29.296875 66.109375 22.65625 58.46875 \nQ 16.015625 50.828125 16.015625 36.375 \nQ 16.015625 21.96875 22.65625 14.328125 \nQ 29.296875 6.6875 41.796875 6.6875 \nQ 48.140625 6.6875 53.78125 8.984375 \nQ 59.421875 11.28125 64.40625 15.921875 \nL 64.40625 5.609375 \nQ 59.234375 2.09375 53.4375 0.328125 \nQ 47.65625 -1.421875 41.21875 -1.421875 \nQ 24.65625 -1.421875 15.125 8.703125 \nQ 5.609375 18.84375 5.609375 36.375 \nQ 5.609375 53.953125 15.125 64.078125 \nQ 24.65625 74.21875 41.21875 74.21875 \nQ 47.75 74.21875 53.53125 72.484375 \nQ 59.328125 70.75 64.40625 67.28125 \nz\n\" id=\"DejaVuSans-67\"/>\n       <path d=\"M 9.8125 72.90625 \nL 51.703125 72.90625 \nL 51.703125 64.59375 \nL 19.671875 64.59375 \nL 19.671875 43.109375 \nL 48.578125 43.109375 \nL 48.578125 34.8125 \nL 19.671875 34.8125 \nL 19.671875 0 \nL 9.8125 0 \nz\n\" id=\"DejaVuSans-70\"/>\n      </defs>\n      <use xlink:href=\"#DejaVuSans-117\"/>\n      <use x=\"63.378906\" xlink:href=\"#DejaVuSans-115\"/>\n      <use x=\"115.478516\" xlink:href=\"#DejaVuSans-101\"/>\n      <use x=\"177.001953\" xlink:href=\"#DejaVuSans-114\"/>\n      <use x=\"218.115234\" xlink:href=\"#DejaVuSans-75\"/>\n      <use x=\"283.691406\" xlink:href=\"#DejaVuSans-78\"/>\n      <use x=\"358.496094\" xlink:href=\"#DejaVuSans-78\"/>\n      <use x=\"433.300781\" xlink:href=\"#DejaVuSans-67\"/>\n      <use x=\"503.125\" xlink:href=\"#DejaVuSans-70\"/>\n     </g>\n    </g>\n    <g id=\"line2d_20\">\n     <path d=\"M 59.14375 52.84543 \nL 79.14375 52.84543 \n\" style=\"fill:none;stroke:#2ca02c;stroke-linecap:square;stroke-width:1.5;\"/>\n    </g>\n    <g id=\"line2d_21\"/>\n    <g id=\"text_15\">\n     <!-- itemKNNCF -->\n     <g transform=\"translate(87.14375 56.34543)scale(0.1 -0.1)\">\n      <defs>\n       <path d=\"M 9.421875 54.6875 \nL 18.40625 54.6875 \nL 18.40625 0 \nL 9.421875 0 \nz\nM 9.421875 75.984375 \nL 18.40625 75.984375 \nL 18.40625 64.59375 \nL 9.421875 64.59375 \nz\n\" id=\"DejaVuSans-105\"/>\n       <path d=\"M 52 44.1875 \nQ 55.375 50.25 60.0625 53.125 \nQ 64.75 56 71.09375 56 \nQ 79.640625 56 84.28125 50.015625 \nQ 88.921875 44.046875 88.921875 33.015625 \nL 88.921875 0 \nL 79.890625 0 \nL 79.890625 32.71875 \nQ 79.890625 40.578125 77.09375 44.375 \nQ 74.3125 48.1875 68.609375 48.1875 \nQ 61.625 48.1875 57.5625 43.546875 \nQ 53.515625 38.921875 53.515625 30.90625 \nL 53.515625 0 \nL 44.484375 0 \nL 44.484375 32.71875 \nQ 44.484375 40.625 41.703125 44.40625 \nQ 38.921875 48.1875 33.109375 48.1875 \nQ 26.21875 48.1875 22.15625 43.53125 \nQ 18.109375 38.875 18.109375 30.90625 \nL 18.109375 0 \nL 9.078125 0 \nL 9.078125 54.6875 \nL 18.109375 54.6875 \nL 18.109375 46.1875 \nQ 21.1875 51.21875 25.484375 53.609375 \nQ 29.78125 56 35.6875 56 \nQ 41.65625 56 45.828125 52.96875 \nQ 50 49.953125 52 44.1875 \nz\n\" id=\"DejaVuSans-109\"/>\n      </defs>\n      <use xlink:href=\"#DejaVuSans-105\"/>\n      <use x=\"27.783203\" xlink:href=\"#DejaVuSans-116\"/>\n      <use x=\"66.992188\" xlink:href=\"#DejaVuSans-101\"/>\n      <use x=\"128.515625\" xlink:href=\"#DejaVuSans-109\"/>\n      <use x=\"225.927734\" xlink:href=\"#DejaVuSans-75\"/>\n      <use x=\"291.503906\" xlink:href=\"#DejaVuSans-78\"/>\n      <use x=\"366.308594\" xlink:href=\"#DejaVuSans-78\"/>\n      <use x=\"441.113281\" xlink:href=\"#DejaVuSans-67\"/>\n      <use x=\"510.9375\" xlink:href=\"#DejaVuSans-70\"/>\n     </g>\n    </g>\n    <g id=\"line2d_22\">\n     <path d=\"M 59.14375 67.523555 \nL 79.14375 67.523555 \n\" style=\"fill:none;stroke:#d62728;stroke-linecap:square;stroke-width:1.5;\"/>\n    </g>\n    <g id=\"line2d_23\"/>\n    <g id=\"text_16\">\n     <!-- itemKNNCBF -->\n     <g transform=\"translate(87.14375 71.023555)scale(0.1 -0.1)\">\n      <use xlink:href=\"#DejaVuSans-105\"/>\n      <use x=\"27.783203\" xlink:href=\"#DejaVuSans-116\"/>\n      <use x=\"66.992188\" xlink:href=\"#DejaVuSans-101\"/>\n      <use x=\"128.515625\" xlink:href=\"#DejaVuSans-109\"/>\n      <use x=\"225.927734\" xlink:href=\"#DejaVuSans-75\"/>\n      <use x=\"291.503906\" xlink:href=\"#DejaVuSans-78\"/>\n      <use x=\"366.308594\" xlink:href=\"#DejaVuSans-78\"/>\n      <use x=\"441.113281\" xlink:href=\"#DejaVuSans-67\"/>\n      <use x=\"510.9375\" xlink:href=\"#DejaVuSans-66\"/>\n      <use x=\"579.541016\" xlink:href=\"#DejaVuSans-70\"/>\n     </g>\n    </g>\n    <g id=\"line2d_24\">\n     <path d=\"M 59.14375 82.20168 \nL 79.14375 82.20168 \n\" style=\"fill:none;stroke:#9467bd;stroke-linecap:square;stroke-width:1.5;\"/>\n    </g>\n    <g id=\"line2d_25\"/>\n    <g id=\"text_17\">\n     <!-- topPOP -->\n     <g transform=\"translate(87.14375 85.70168)scale(0.1 -0.1)\">\n      <defs>\n       <path d=\"M 39.40625 66.21875 \nQ 28.65625 66.21875 22.328125 58.203125 \nQ 16.015625 50.203125 16.015625 36.375 \nQ 16.015625 22.609375 22.328125 14.59375 \nQ 28.65625 6.59375 39.40625 6.59375 \nQ 50.140625 6.59375 56.421875 14.59375 \nQ 62.703125 22.609375 62.703125 36.375 \nQ 62.703125 50.203125 56.421875 58.203125 \nQ 50.140625 66.21875 39.40625 66.21875 \nz\nM 39.40625 74.21875 \nQ 54.734375 74.21875 63.90625 63.9375 \nQ 73.09375 53.65625 73.09375 36.375 \nQ 73.09375 19.140625 63.90625 8.859375 \nQ 54.734375 -1.421875 39.40625 -1.421875 \nQ 24.03125 -1.421875 14.8125 8.828125 \nQ 5.609375 19.09375 5.609375 36.375 \nQ 5.609375 53.65625 14.8125 63.9375 \nQ 24.03125 74.21875 39.40625 74.21875 \nz\n\" id=\"DejaVuSans-79\"/>\n      </defs>\n      <use xlink:href=\"#DejaVuSans-116\"/>\n      <use x=\"39.208984\" xlink:href=\"#DejaVuSans-111\"/>\n      <use x=\"100.390625\" xlink:href=\"#DejaVuSans-112\"/>\n      <use x=\"163.867188\" xlink:href=\"#DejaVuSans-80\"/>\n      <use x=\"224.169922\" xlink:href=\"#DejaVuSans-79\"/>\n      <use x=\"302.880859\" xlink:href=\"#DejaVuSans-80\"/>\n     </g>\n    </g>\n   </g>\n  </g>\n </g>\n <defs>\n  <clipPath id=\"paab4fe6cb0\">\n   <rect height=\"217.44\" width=\"334.8\" x=\"50.14375\" y=\"10.390742\"/>\n  </clipPath>\n </defs>\n</svg>\n",
      "image/png": "[encoded data removed]"
     },
     "metadata": {
      "needs_background": "light"
     }
    }
   ],
   "source": [
    "import matplotlib.pyplot as pyplot\n",
    "%matplotlib inline  \n",
    "\n",
    "pyplot.plot(MAP_p3aplha_rp3beta_per_group, label=\"P3Aplha - RP3Beta\")\n",
    "pyplot.plot(MAP_user_cf_cold_per_group, label=\"userKNNCF\")\n",
    "pyplot.plot(MAP_item_cf_cold_per_group, label=\"itemKNNCF\")\n",
    "pyplot.plot(MAP_item_cbf_per_group, label=\"itemKNNCBF\")\n",
    "pyplot.plot(MAP_top_pop_per_group, label=\"topPOP\")\n",
    "pyplot.ylabel('MAP')\n",
    "pyplot.xlabel('User Group')\n",
    "pyplot.legend()\n",
    "pyplot.show()"
   ]
  },
  {
   "cell_type": "code",
   "execution_count": null,
   "metadata": {},
   "outputs": [],
   "source": []
  }
 ],
 "metadata": {
  "kernelspec": {
   "name": "python3",
   "display_name": "Python 3.8.5 64-bit",
   "metadata": {
    "interpreter": {
     "hash": "082e9a3bcad0a290d0001e938aa60b99250c6c2ef33a923c00b70f9826caf4b7"
    }
   }
  },
  "language_info": {
   "codemirror_mode": {
    "name": "ipython",
    "version": 3
   },
   "file_extension": ".py",
   "mimetype": "text/x-python",
   "name": "python",
   "nbconvert_exporter": "python",
   "pygments_lexer": "ipython3",
   "version": "3.8.5-final"
  }
 },
 "nbformat": 4,
 "nbformat_minor": 4
}