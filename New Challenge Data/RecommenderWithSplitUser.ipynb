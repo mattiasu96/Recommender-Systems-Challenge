{
 "cells": [
  {
   "cell_type": "markdown",
   "metadata": {},
   "source": [
    "# Recommender with splitted user "
   ]
  },
  {
   "cell_type": "code",
   "execution_count": 252,
   "metadata": {
    "tags": []
   },
   "outputs": [
    {
     "output_type": "stream",
     "name": "stdout",
     "text": [
      "**********:  1  Lenght:  93\n**********:  2  Lenght:  995\n**********:  3  Lenght:  1148\n**********:  4  Lenght:  933\n**********:  5  Lenght:  605\n**********:  6  Lenght:  490\n**********:  7  Lenght:  413\n**********:  8  Lenght:  607\n**********:  9  Lenght:  250\n**********:  10  Lenght:  179\n"
     ]
    }
   ],
   "source": [
    "import pandas as pd\n",
    "import numpy as np \n",
    "import scipy.sparse as sps\n",
    "import os\n",
    "import sys\n",
    "import matplotlib.pyplot as plt\n",
    "sys.path.append('..')\n",
    "\n",
    "dataset = pd.read_csv('data_train.csv', names=[\"user\", \"item\", \"interaction\"], header=0)\n",
    "\n",
    "# Get for each user only the number of interaction, this will allow to create group of users \n",
    "# based on how much interaction they had\n",
    "grouped_users = dataset.groupby(['user']).count()\n",
    "splitted_user = list()\n",
    "\n",
    "for group_id in range(1, 11):\n",
    "    grouped_users_local = grouped_users.copy()\n",
    "    grouped_users_local = grouped_users_local[grouped_users_local.item == group_id]\n",
    "    grouped_users_local = grouped_users_local.reset_index()['user']\n",
    "    splitted_user.append(grouped_users_local)\n",
    "    print(\"**********: \", group_id, \" Lenght: \", len(grouped_users_local))\n",
    "\n",
    "grouped_users_local = grouped_users.copy()\n",
    "grouped_users_local = grouped_users_local[grouped_users_local.item > 10]\n",
    "grouped_users_local = grouped_users_local.reset_index()['user']\n",
    "splitted_user.append(grouped_users_local)\n",
    "#print(\"**********: \", 11, \"> Lenght: \", len(grouped_users_local))\n"
   ]
  },
  {
   "cell_type": "markdown",
   "metadata": {},
   "source": [
    "# Data pre-processing"
   ]
  },
  {
   "cell_type": "code",
   "execution_count": 253,
   "metadata": {},
   "outputs": [
    {
     "output_type": "execute_result",
     "data": {
      "text/plain": [
       "(7947, 25975)"
      ]
     },
     "metadata": {},
     "execution_count": 253
    }
   ],
   "source": [
    "users = dataset.user\n",
    "items = dataset.item\n",
    "data = dataset.interaction\n",
    "URM_all = sps.coo_matrix((data, (users, items)))\n",
    "URM_all = URM_all.tocsr() #fast row access -> fast access to users \n",
    "URM_all.shape"
   ]
  },
  {
   "cell_type": "code",
   "execution_count": 254,
   "metadata": {},
   "outputs": [],
   "source": [
    "ICM_df = pd.read_csv('data_ICM_title_abstract.csv')\n",
    "\n",
    "items = ICM_df.row\n",
    "features = ICM_df.col\n",
    "data = ICM_df.data\n",
    "ICM_all = sps.coo_matrix((data, (items, features)))\n",
    "ICM_all = ICM_all.tocsr() #fast row access -> fast access to users "
   ]
  },
  {
   "cell_type": "code",
   "execution_count": 255,
   "metadata": {},
   "outputs": [
    {
     "output_type": "stream",
     "name": "stdout",
     "text": [
      "Warning: 42 (0.53 %) of 7947 users have no train items\nWarning: 2951 (37.13 %) of 7947 users have no sampled items\nEvaluatorHoldout: Ignoring 5804 Users\nEvaluatorHoldout: Ignoring 5713 Users\n"
     ]
    }
   ],
   "source": [
    "from Base.Evaluation.Evaluator import EvaluatorHoldout\n",
    "from Data_manager.split_functions.split_train_validation_random_holdout import split_train_in_two_percentage_global_sample\n",
    "\n",
    "URM_train, URM_validation = split_train_in_two_percentage_global_sample(URM_all, train_percentage = 0.80)\n",
    "\n",
    "users_not_in_group_three = grouped_users.copy()\n",
    "users_not_in_group_three = users_not_in_group_three.loc[(users_not_in_group_three.item < 2) | (users_not_in_group_three.item > 3)]\n",
    "users_not_in_group_three = users_not_in_group_three.reset_index()['user']\n",
    "evaluator_validation_three = EvaluatorHoldout(URM_validation, cutoff_list=[10], ignore_users = users_not_in_group_three)\n",
    "\n",
    "users_not_in_group_other = grouped_users.copy()\n",
    "users_not_in_group_other = users_not_in_group_other[users_not_in_group_other.item < 11]\n",
    "users_not_in_group_other = users_not_in_group_other.reset_index()['user']\n",
    "evaluator_validation_other = EvaluatorHoldout(URM_validation, cutoff_list=[10], ignore_users = users_not_in_group_other)"
   ]
  },
  {
   "cell_type": "code",
   "execution_count": 256,
   "metadata": {},
   "outputs": [
    {
     "output_type": "stream",
     "name": "stdout",
     "text": [
      "P3alphaRecommender: URM Detected 42 (0.53 %) cold users.\n",
      "P3alphaRecommender: URM Detected 1985 (7.64 %) cold items.\n",
      "ItemKNNCBFRecommender: URM Detected 42 (0.53 %) cold users.\n",
      "ItemKNNCBFRecommender: URM Detected 1985 (7.64 %) cold items.\n",
      "Similarity column 25975 ( 100 % ), 4314.31 column/sec, elapsed time 0.10 min\n",
      "ItemKNNSimilarityHybridRecommender: URM Detected 42 (0.53 %) cold users.\n",
      "ItemKNNSimilarityHybridRecommender: URM Detected 1985 (7.64 %) cold items.\n"
     ]
    }
   ],
   "source": [
    "from GraphBased.P3alphaRecommender import P3alphaRecommender\n",
    "from KNN.ItemKNNSimilarityHybridRecommender import ItemKNNSimilarityHybridRecommender\n",
    "\n",
    "recommender_alpha = P3alphaRecommender(URM_train)\n",
    "recommender_alpha.fit(topK=475, alpha = 0.45, implicit = True)\n",
    "\n",
    "recommender_alpha_ICM = P3alphaRecommender(ICM_all.T)\n",
    "recommender_alpha_ICM.fit(topK=175, alpha = 0.45)\n",
    "recommender_alpha_ICM.URM_train = URM_train\n",
    "\n",
    "hybridrecommender = ItemKNNSimilarityHybridRecommender(URM_train, recommender_alpha_ICM.W_sparse, recommender_alpha.W_sparse)\n",
    "hybridrecommender.fit(topK=600, alpha = 0.45)"
   ]
  },
  {
   "cell_type": "code",
   "execution_count": 257,
   "metadata": {},
   "outputs": [
    {
     "output_type": "stream",
     "name": "stdout",
     "text": [
      "EvaluatorHoldout: Processed 715 ( 100.00% ) in 0.55 sec. Users per second: 1307\n"
     ]
    },
    {
     "output_type": "execute_result",
     "data": {
      "text/plain": [
       "({10: {'ROC_AUC': 0.09468725718725718,\n",
       "   'PRECISION': 0.013566433566433543,\n",
       "   'PRECISION_RECALL_MIN_DEN': 0.12377622377622377,\n",
       "   'RECALL': 0.12377622377622377,\n",
       "   'MAP': 0.06532190032190036,\n",
       "   'MRR': 0.06987401487401491,\n",
       "   'NDCG': 0.08036849744670041,\n",
       "   'F1': 0.024452736672695898,\n",
       "   'HIT_RATE': 0.13566433566433567,\n",
       "   'ARHR': 0.0706549006549007,\n",
       "   'NOVELTY': 0.005167119925985794,\n",
       "   'AVERAGE_POPULARITY': 0.05651776794633939,\n",
       "   'DIVERSITY_MEAN_INTER_LIST': 0.9949952008775538,\n",
       "   'DIVERSITY_HERFINDAHL': 0.9993603599198004,\n",
       "   'COVERAGE_ITEM': 0.17605389797882579,\n",
       "   'COVERAGE_ITEM_CORRECT': 0.0034648700673724736,\n",
       "   'COVERAGE_USER': 0.33364442370508635,\n",
       "   'COVERAGE_USER_CORRECT': 0.04386374241717219,\n",
       "   'DIVERSITY_GINI': 0.12047648071054293,\n",
       "   'SHANNON_ENTROPY': 11.660782357928408}},\n",
       " 'CUTOFF: 10 - ROC_AUC: 0.0946873, PRECISION: 0.0135664, PRECISION_RECALL_MIN_DEN: 0.1237762, RECALL: 0.1237762, MAP: 0.0653219, MRR: 0.0698740, NDCG: 0.0803685, F1: 0.0244527, HIT_RATE: 0.1356643, ARHR: 0.0706549, NOVELTY: 0.0051671, AVERAGE_POPULARITY: 0.0565178, DIVERSITY_MEAN_INTER_LIST: 0.9949952, DIVERSITY_HERFINDAHL: 0.9993604, COVERAGE_ITEM: 0.1760539, COVERAGE_ITEM_CORRECT: 0.0034649, COVERAGE_USER: 0.3336444, COVERAGE_USER_CORRECT: 0.0438637, DIVERSITY_GINI: 0.1204765, SHANNON_ENTROPY: 11.6607824, \\n')"
      ]
     },
     "metadata": {},
     "execution_count": 257
    }
   ],
   "source": [
    "evaluator_validation_three.evaluateRecommender(hybridrecommender)"
   ]
  },
  {
   "cell_type": "code",
   "execution_count": 258,
   "metadata": {},
   "outputs": [
    {
     "output_type": "stream",
     "name": "stdout",
     "text": [
      "EvaluatorHoldout: Processed 2122 ( 100.00% ) in 1.90 sec. Users per second: 1115\n"
     ]
    },
    {
     "output_type": "execute_result",
     "data": {
      "text/plain": [
       "({10: {'ROC_AUC': 0.26072919004233847,\n",
       "   'PRECISION': 0.06159283694627648,\n",
       "   'PRECISION_RECALL_MIN_DEN': 0.15350055353589737,\n",
       "   'RECALL': 0.14587380521132323,\n",
       "   'MAP': 0.06839922170739338,\n",
       "   'MRR': 0.19958896219499442,\n",
       "   'NDCG': 0.11561002001880855,\n",
       "   'F1': 0.0866142277686139,\n",
       "   'HIT_RATE': 0.615928369462771,\n",
       "   'ARHR': 0.23703342159986865,\n",
       "   'NOVELTY': 0.0047380513610791285,\n",
       "   'AVERAGE_POPULARITY': 0.11558777543601252,\n",
       "   'DIVERSITY_MEAN_INTER_LIST': 0.9795154687139644,\n",
       "   'DIVERSITY_HERFINDAHL': 0.9979053868587332,\n",
       "   'COVERAGE_ITEM': 0.22641000962463909,\n",
       "   'COVERAGE_ITEM_CORRECT': 0.032146294513955724,\n",
       "   'COVERAGE_USER': 0.9498657117278424,\n",
       "   'COVERAGE_USER_CORRECT': 0.40062667860340195,\n",
       "   'DIVERSITY_GINI': 0.08119462190430549,\n",
       "   'SHANNON_ENTROPY': 10.7433465865132}},\n",
       " 'CUTOFF: 10 - ROC_AUC: 0.2607292, PRECISION: 0.0615928, PRECISION_RECALL_MIN_DEN: 0.1535006, RECALL: 0.1458738, MAP: 0.0683992, MRR: 0.1995890, NDCG: 0.1156100, F1: 0.0866142, HIT_RATE: 0.6159284, ARHR: 0.2370334, NOVELTY: 0.0047381, AVERAGE_POPULARITY: 0.1155878, DIVERSITY_MEAN_INTER_LIST: 0.9795155, DIVERSITY_HERFINDAHL: 0.9979054, COVERAGE_ITEM: 0.2264100, COVERAGE_ITEM_CORRECT: 0.0321463, COVERAGE_USER: 0.9498657, COVERAGE_USER_CORRECT: 0.4006267, DIVERSITY_GINI: 0.0811946, SHANNON_ENTROPY: 10.7433466, \\n')"
      ]
     },
     "metadata": {},
     "execution_count": 258
    }
   ],
   "source": [
    "evaluator_validation_other.evaluateRecommender(hybridrecommender)"
   ]
  }
 ],
 "metadata": {
  "kernelspec": {
   "name": "python3",
   "display_name": "Python 3.8.5 64-bit",
   "metadata": {
    "interpreter": {
     "hash": "082e9a3bcad0a290d0001e938aa60b99250c6c2ef33a923c00b70f9826caf4b7"
    }
   }
  },
  "language_info": {
   "codemirror_mode": {
    "name": "ipython",
    "version": 3
   },
   "file_extension": ".py",
   "mimetype": "text/x-python",
   "name": "python",
   "nbconvert_exporter": "python",
   "pygments_lexer": "ipython3",
   "version": "3.8.5-final"
  }
 },
 "nbformat": 4,
 "nbformat_minor": 4
}