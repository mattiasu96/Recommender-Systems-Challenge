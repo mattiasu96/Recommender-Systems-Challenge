{
 "cells": [
  {
   "cell_type": "markdown",
   "metadata": {},
   "source": [
    "# Recommender with splitted user "
   ]
  },
  {
   "cell_type": "code",
   "execution_count": 79,
   "metadata": {
    "tags": []
   },
   "outputs": [
    {
     "output_type": "stream",
     "name": "stdout",
     "text": [
      "**********:  1  Lenght:  93\n**********:  2  Lenght:  995\n**********:  3  Lenght:  1148\n**********:  4  Lenght:  933\n**********:  5  Lenght:  605\n**********:  6  Lenght:  490\n**********:  7  Lenght:  413\n**********:  8  Lenght:  607\n**********:  9  Lenght:  250\n**********:  10  Lenght:  179\n"
     ]
    }
   ],
   "source": [
    "import pandas as pd\n",
    "import numpy as np \n",
    "import scipy.sparse as sps\n",
    "import os\n",
    "import sys\n",
    "import matplotlib.pyplot as plt\n",
    "sys.path.append('..')\n",
    "\n",
    "dataset = pd.read_csv('data_train.csv', names=[\"user\", \"item\", \"interaction\"], header=0)\n",
    "\n",
    "# Get for each user only the number of interaction, this will allow to create group of users \n",
    "# based on how much interaction they had\n",
    "grouped_users = dataset.groupby(['user']).count()\n",
    "splitted_user = list()\n",
    "\n",
    "for group_id in range(1, 11):\n",
    "    grouped_users_local = grouped_users.copy()\n",
    "    grouped_users_local = grouped_users_local[grouped_users_local.item == group_id]\n",
    "    grouped_users_local = grouped_users_local.reset_index()['user']\n",
    "    splitted_user.append(grouped_users_local)\n",
    "    print(\"**********: \", group_id, \" Lenght: \", len(grouped_users_local))\n",
    "\n",
    "grouped_users_local = grouped_users.copy()\n",
    "grouped_users_local = grouped_users_local[grouped_users_local.item > 10]\n",
    "grouped_users_local = grouped_users_local.reset_index()['user']\n",
    "splitted_user.append(grouped_users_local)\n",
    "#print(\"**********: \", 11, \"> Lenght: \", len(grouped_users_local))\n"
   ]
  },
  {
   "cell_type": "markdown",
   "metadata": {},
   "source": [
    "# Data pre-processing"
   ]
  },
  {
   "cell_type": "code",
   "execution_count": 80,
   "metadata": {},
   "outputs": [
    {
     "output_type": "execute_result",
     "data": {
      "text/plain": [
       "(7947, 25975)"
      ]
     },
     "metadata": {},
     "execution_count": 80
    }
   ],
   "source": [
    "users = dataset.user\n",
    "items = dataset.item\n",
    "data = dataset.interaction\n",
    "URM_all = sps.coo_matrix((data, (users, items)))\n",
    "URM_all = URM_all.tocsr() #fast row access -> fast access to users \n",
    "URM_all.shape"
   ]
  },
  {
   "cell_type": "code",
   "execution_count": 82,
   "metadata": {},
   "outputs": [
    {
     "output_type": "stream",
     "name": "stdout",
     "text": [
      "Warning: 46 (0.58 %) of 7947 users have no train items\nWarning: 2933 (36.91 %) of 7947 users have no sampled items\nEvaluatorHoldout: Ignoring 6799 Users\n0          0\n1          1\n2          2\n3          3\n4          4\n        ... \n6794    7941\n6795    7942\n6796    7944\n6797    7945\n6798    7946\nName: user, Length: 6799, dtype: int64\n"
     ]
    }
   ],
   "source": [
    "from Base.Evaluation.Evaluator import EvaluatorHoldout\n",
    "from Data_manager.split_functions.split_train_validation_random_holdout import split_train_in_two_percentage_global_sample\n",
    "\n",
    "URM_train, URM_validation = split_train_in_two_percentage_global_sample(URM_all, train_percentage = 0.85)\n",
    "\n",
    "users_not_in_group = grouped_users.copy()\n",
    "users_not_in_group = users_not_in_group[users_not_in_group.item != 3]\n",
    "users_not_in_group = users_not_in_group.reset_index()['user']\n",
    "evaluator_validation = EvaluatorHoldout(URM_validation, cutoff_list=[10], ignore_users = users_not_in_group)\n",
    "\n",
    "print(users_not_in_group)"
   ]
  },
  {
   "cell_type": "code",
   "execution_count": null,
   "metadata": {},
   "outputs": [],
   "source": [
    "from GraphBased.P3alphaRecommender import P3alphaRecommender\n",
    "from KNN.ItemKNNSimilarityHybridRecommender import ItemKNNSimilarityHybridRecommender\n",
    "\n",
    "recommender_alpha = P3alphaRecommender(URM_train)\n",
    "recommender_alpha.fit(topK=475, alpha = 0.45, implicit = True)\n",
    "\n",
    "recommender_alpha_ICM = P3alphaRecommender(ICM_all.T)\n",
    "recommender_alpha_ICM.fit(topK=175, alpha = 0.45)\n",
    "recommender_alpha_ICM.URM_train = URM_train\n",
    "\n",
    "hybridrecommender = ItemKNNSimilarityHybridRecommender(URM_train, recommender_alpha_ICM.W_sparse, recommender_alpha.W_sparse)\n",
    "hybridrecommender.fit(topK=600, alpha = 0.45)"
   ]
  },
  {
   "cell_type": "code",
   "execution_count": null,
   "metadata": {},
   "outputs": [],
   "source": [
    "evaluator_validation.evaluateRecommender(hybridrecommender)"
   ]
  }
 ],
 "metadata": {
  "kernelspec": {
   "name": "python3",
   "display_name": "Python 3.8.5 64-bit",
   "metadata": {
    "interpreter": {
     "hash": "082e9a3bcad0a290d0001e938aa60b99250c6c2ef33a923c00b70f9826caf4b7"
    }
   }
  },
  "language_info": {
   "codemirror_mode": {
    "name": "ipython",
    "version": 3
   },
   "file_extension": ".py",
   "mimetype": "text/x-python",
   "name": "python",
   "nbconvert_exporter": "python",
   "pygments_lexer": "ipython3",
   "version": "3.8.5-final"
  }
 },
 "nbformat": 4,
 "nbformat_minor": 4
}