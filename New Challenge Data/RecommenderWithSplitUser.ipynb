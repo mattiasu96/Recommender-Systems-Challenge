{
 "cells": [
  {
   "cell_type": "markdown",
   "metadata": {},
   "source": [
    "# Recommender with splitted user "
   ]
  },
  {
   "cell_type": "code",
   "execution_count": 57,
   "metadata": {
    "tags": []
   },
   "outputs": [
    {
     "name": "stdout",
     "output_type": "stream",
     "text": [
      "**********:  1  Lenght:  93\n",
      "**********:  2  Lenght:  995\n",
      "**********:  3  Lenght:  1148\n",
      "**********:  4  Lenght:  933\n",
      "**********:  5  Lenght:  605\n",
      "**********:  6  Lenght:  490\n",
      "**********:  7  Lenght:  413\n",
      "**********:  8  Lenght:  607\n",
      "**********:  9  Lenght:  250\n",
      "**********:  10  Lenght:  179\n"
     ]
    }
   ],
   "source": [
    "import pandas as pd\n",
    "import numpy as np \n",
    "import scipy.sparse as sps\n",
    "import os\n",
    "import sys\n",
    "import matplotlib.pyplot as plt\n",
    "sys.path.append('..')\n",
    "\n",
    "dataset = pd.read_csv('data_train.csv', names=[\"user\", \"item\", \"interaction\"], header=0)\n",
    "\n",
    "# Get for each user only the number of interaction, this will allow to create group of users \n",
    "# based on how much interaction they had\n",
    "grouped_users = dataset.groupby(['user']).count()\n",
    "splitted_user = list()\n",
    "\n",
    "for group_id in range(1, 11):\n",
    "    grouped_users_local = grouped_users.copy()\n",
    "    grouped_users_local = grouped_users_local[grouped_users_local.item == group_id]\n",
    "    grouped_users_local = grouped_users_local.reset_index()['user']\n",
    "    splitted_user.append(grouped_users_local)\n",
    "    print(\"**********: \", group_id, \" Lenght: \", len(grouped_users_local))\n",
    "\n",
    "grouped_users_local = grouped_users.copy()\n",
    "grouped_users_local = grouped_users_local[grouped_users_local.item > 10]\n",
    "grouped_users_local = grouped_users_local.reset_index()['user']\n",
    "splitted_user.append(grouped_users_local)\n",
    "#print(\"**********: \", 11, \"> Lenght: \", len(grouped_users_local))\n"
   ]
  },
  {
   "cell_type": "markdown",
   "metadata": {},
   "source": [
    "# Data pre-processing"
   ]
  },
  {
   "cell_type": "code",
   "execution_count": 58,
   "metadata": {},
   "outputs": [
    {
     "data": {
      "text/plain": [
       "(7947, 25975)"
      ]
     },
     "execution_count": 58,
     "metadata": {},
     "output_type": "execute_result"
    }
   ],
   "source": [
    "users = dataset.user\n",
    "items = dataset.item\n",
    "data = dataset.interaction\n",
    "URM_all = sps.coo_matrix((data, (users, items)))\n",
    "URM_all = URM_all.tocsr() #fast row access -> fast access to users \n",
    "URM_all.shape"
   ]
  },
  {
   "cell_type": "code",
   "execution_count": 59,
   "metadata": {},
   "outputs": [],
   "source": [
    "ICM_df = pd.read_csv('data_ICM_title_abstract.csv')\n",
    "\n",
    "items = ICM_df.row\n",
    "features = ICM_df.col\n",
    "data = ICM_df.data\n",
    "ICM_all = sps.coo_matrix((data, (items, features)))\n",
    "ICM_all = ICM_all.tocsr() #fast row access -> fast access to users "
   ]
  },
  {
   "cell_type": "code",
   "execution_count": 60,
   "metadata": {},
   "outputs": [
    {
     "name": "stdout",
     "output_type": "stream",
     "text": [
      "Warning: 60 (0.76 %) of 7947 users have no train items\n",
      "Warning: 2327 (29.28 %) of 7947 users have no sampled items\n",
      "EvaluatorHoldout: Ignoring 2234 Users\n",
      "EvaluatorHoldout: Ignoring 5713 Users\n"
     ]
    }
   ],
   "source": [
    "from Base.Evaluation.Evaluator import EvaluatorHoldout\n",
    "from Data_manager.split_functions.split_train_validation_random_holdout import split_train_in_two_percentage_global_sample\n",
    "\n",
    "URM_train, URM_validation = split_train_in_two_percentage_global_sample(URM_all, train_percentage = 0.80)\n",
    "\n",
    "users_not_in_group_three = grouped_users.copy()\n",
    "users_not_in_group_three = users_not_in_group_three.loc[users_not_in_group_three.item > 10]\n",
    "users_not_in_group_three = users_not_in_group_three.reset_index()['user']\n",
    "evaluator_validation_three = EvaluatorHoldout(URM_validation, cutoff_list=[10], ignore_users = users_not_in_group_three)\n",
    "\n",
    "users_not_in_group_other = grouped_users.copy()\n",
    "users_not_in_group_other = users_not_in_group_other[users_not_in_group_other.item < 11]\n",
    "users_not_in_group_other = users_not_in_group_other.reset_index()['user']\n",
    "evaluator_validation_other = EvaluatorHoldout(URM_validation, cutoff_list=[10], ignore_users = users_not_in_group_other)"
   ]
  },
  {
   "cell_type": "code",
   "execution_count": 61,
   "metadata": {},
   "outputs": [
    {
     "name": "stdout",
     "output_type": "stream",
     "text": [
      "P3alphaRecommender: URM Detected 60 (0.76 %) cold users.\n",
      "P3alphaRecommender: URM Detected 2397 (9.23 %) cold items.\n",
      "P3alphaRecommender: URM Detected 2 (0.01 %) cold users.\n",
      "P3alphaRecommender: URM Detected 25 (0.10 %) cold items.\n",
      "ItemKNNSimilarityHybridRecommender: URM Detected 60 (0.76 %) cold users.\n",
      "ItemKNNSimilarityHybridRecommender: URM Detected 2397 (9.23 %) cold items.\n"
     ]
    }
   ],
   "source": [
    "from GraphBased.P3alphaRecommender import P3alphaRecommender\n",
    "from KNN.ItemKNNSimilarityHybridRecommender import ItemKNNSimilarityHybridRecommender\n",
    "\n",
    "recommender_alpha = P3alphaRecommender(URM_train)\n",
    "recommender_alpha.fit(topK=475, alpha = 0.45, implicit = True)\n",
    "\n",
    "recommender_alpha_ICM = P3alphaRecommender(ICM_all.T)\n",
    "recommender_alpha_ICM.fit(topK=175, alpha = 0.45)\n",
    "recommender_alpha_ICM.URM_train = URM_train\n",
    "\n",
    "hybridrecommender = ItemKNNSimilarityHybridRecommender(URM_train, recommender_alpha_ICM.W_sparse, recommender_alpha.W_sparse)\n",
    "hybridrecommender.fit(topK=600, alpha = 0.45)"
   ]
  },
  {
   "cell_type": "code",
   "execution_count": 62,
   "metadata": {},
   "outputs": [
    {
     "name": "stdout",
     "output_type": "stream",
     "text": [
      "EvaluatorHoldout: Processed 3440 ( 100.00% ) in 2.34 sec. Users per second: 1471\n"
     ]
    },
    {
     "data": {
      "text/plain": [
       "({10: {'ROC_AUC': 0.13686496400885942,\n",
       "   'PRECISION': 0.023749999999999917,\n",
       "   'PRECISION_RECALL_MIN_DEN': 0.1548982558139533,\n",
       "   'RECALL': 0.1548982558139533,\n",
       "   'MAP': 0.06889180355604765,\n",
       "   'MRR': 0.09424245570321148,\n",
       "   'NDCG': 0.09665051106320217,\n",
       "   'F1': 0.041185216825319206,\n",
       "   'HIT_RATE': 0.2375,\n",
       "   'ARHR': 0.0997895902547064,\n",
       "   'NOVELTY': 0.004981258280496145,\n",
       "   'AVERAGE_POPULARITY': 0.07893341853265165,\n",
       "   'DIVERSITY_MEAN_INTER_LIST': 0.9913587812844459,\n",
       "   'DIVERSITY_HERFINDAHL': 0.9991070595592212,\n",
       "   'COVERAGE_ITEM': 0.41162656400384984,\n",
       "   'COVERAGE_ITEM_CORRECT': 0.02436958614051973,\n",
       "   'COVERAGE_USER': 0.6021354804831087,\n",
       "   'COVERAGE_USER_CORRECT': 0.12882898652196745,\n",
       "   'DIVERSITY_GINI': 0.17870348344804865,\n",
       "   'SHANNON_ENTROPY': 12.076212813374747}},\n",
       " 'CUTOFF: 10 - ROC_AUC: 0.1368650, PRECISION: 0.0237500, PRECISION_RECALL_MIN_DEN: 0.1548983, RECALL: 0.1548983, MAP: 0.0688918, MRR: 0.0942425, NDCG: 0.0966505, F1: 0.0411852, HIT_RATE: 0.2375000, ARHR: 0.0997896, NOVELTY: 0.0049813, AVERAGE_POPULARITY: 0.0789334, DIVERSITY_MEAN_INTER_LIST: 0.9913588, DIVERSITY_HERFINDAHL: 0.9991071, COVERAGE_ITEM: 0.4116266, COVERAGE_ITEM_CORRECT: 0.0243696, COVERAGE_USER: 0.6021355, COVERAGE_USER_CORRECT: 0.1288290, DIVERSITY_GINI: 0.1787035, SHANNON_ENTROPY: 12.0762128, \\n')"
      ]
     },
     "execution_count": 62,
     "metadata": {},
     "output_type": "execute_result"
    }
   ],
   "source": [
    "evaluator_validation_three.evaluateRecommender(hybridrecommender)"
   ]
  },
  {
   "cell_type": "code",
   "execution_count": 63,
   "metadata": {},
   "outputs": [
    {
     "name": "stdout",
     "output_type": "stream",
     "text": [
      "EvaluatorHoldout: Processed 2180 ( 100.00% ) in 1.89 sec. Users per second: 1155\n"
     ]
    },
    {
     "data": {
      "text/plain": [
       "({10: {'ROC_AUC': 0.2935476372506191,\n",
       "   'PRECISION': 0.07683486238532017,\n",
       "   'PRECISION_RECALL_MIN_DEN': 0.15523227027814152,\n",
       "   'RECALL': 0.14273973953589766,\n",
       "   'MAP': 0.07336384524502951,\n",
       "   'MRR': 0.2307339449541283,\n",
       "   'NDCG': 0.12330563749964221,\n",
       "   'F1': 0.09989669249717853,\n",
       "   'HIT_RATE': 0.768348623853211,\n",
       "   'ARHR': 0.2889354885685162,\n",
       "   'NOVELTY': 0.004697332852374485,\n",
       "   'AVERAGE_POPULARITY': 0.12090351350583702,\n",
       "   'DIVERSITY_MEAN_INTER_LIST': 0.9773213451166473,\n",
       "   'DIVERSITY_HERFINDAHL': 0.9976873032573016,\n",
       "   'COVERAGE_ITEM': 0.21343599615014436,\n",
       "   'COVERAGE_ITEM_CORRECT': 0.03942252165543792,\n",
       "   'COVERAGE_USER': 0.9758281110116384,\n",
       "   'COVERAGE_USER_CORRECT': 0.4695613249776186,\n",
       "   'DIVERSITY_GINI': 0.07288270329987032,\n",
       "   'SHANNON_ENTROPY': 10.591414411052797}},\n",
       " 'CUTOFF: 10 - ROC_AUC: 0.2935476, PRECISION: 0.0768349, PRECISION_RECALL_MIN_DEN: 0.1552323, RECALL: 0.1427397, MAP: 0.0733638, MRR: 0.2307339, NDCG: 0.1233056, F1: 0.0998967, HIT_RATE: 0.7683486, ARHR: 0.2889355, NOVELTY: 0.0046973, AVERAGE_POPULARITY: 0.1209035, DIVERSITY_MEAN_INTER_LIST: 0.9773213, DIVERSITY_HERFINDAHL: 0.9976873, COVERAGE_ITEM: 0.2134360, COVERAGE_ITEM_CORRECT: 0.0394225, COVERAGE_USER: 0.9758281, COVERAGE_USER_CORRECT: 0.4695613, DIVERSITY_GINI: 0.0728827, SHANNON_ENTROPY: 10.5914144, \\n')"
      ]
     },
     "execution_count": 63,
     "metadata": {},
     "output_type": "execute_result"
    }
   ],
   "source": [
    "evaluator_validation_other.evaluateRecommender(hybridrecommender)"
   ]
  },
  {
   "cell_type": "code",
   "execution_count": null,
   "metadata": {},
   "outputs": [],
   "source": []
  },
  {
   "cell_type": "code",
   "execution_count": null,
   "metadata": {},
   "outputs": [],
   "source": []
  }
 ],
 "metadata": {
  "kernelspec": {
   "display_name": "Python 3",
   "language": "python",
   "name": "python3"
  },
  "language_info": {
   "codemirror_mode": {
    "name": "ipython",
    "version": 3
   },
   "file_extension": ".py",
   "mimetype": "text/x-python",
   "name": "python",
   "nbconvert_exporter": "python",
   "pygments_lexer": "ipython3",
   "version": "3.8.5"
  }
 },
 "nbformat": 4,
 "nbformat_minor": 4
}
