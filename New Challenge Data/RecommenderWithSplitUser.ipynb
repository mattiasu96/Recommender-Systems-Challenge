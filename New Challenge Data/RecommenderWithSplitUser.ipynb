{
 "cells": [
  {
   "cell_type": "markdown",
   "metadata": {},
   "source": [
    "# Recommender with splitted user "
   ]
  },
  {
   "cell_type": "code",
   "execution_count": 123,
   "metadata": {
    "tags": []
   },
   "outputs": [
    {
     "output_type": "execute_result",
     "data": {
      "text/plain": [
       "         row    col  data\n",
       "0          0  10080   1.0\n",
       "1          0  19467   1.0\n",
       "2          1   2665   1.0\n",
       "3          1   7494   1.0\n",
       "4          1  17068   1.0\n",
       "...      ...    ...   ...\n",
       "113263  7945   2476   1.0\n",
       "113264  7945  12319   1.0\n",
       "113265  7945  21384   1.0\n",
       "113266  7946   8699   1.0\n",
       "113267  7946  19178   1.0\n",
       "\n",
       "[113268 rows x 3 columns]"
      ],
      "text/html": "<div>\n<style scoped>\n    .dataframe tbody tr th:only-of-type {\n        vertical-align: middle;\n    }\n\n    .dataframe tbody tr th {\n        vertical-align: top;\n    }\n\n    .dataframe thead th {\n        text-align: right;\n    }\n</style>\n<table border=\"1\" class=\"dataframe\">\n  <thead>\n    <tr style=\"text-align: right;\">\n      <th></th>\n      <th>row</th>\n      <th>col</th>\n      <th>data</th>\n    </tr>\n  </thead>\n  <tbody>\n    <tr>\n      <th>0</th>\n      <td>0</td>\n      <td>10080</td>\n      <td>1.0</td>\n    </tr>\n    <tr>\n      <th>1</th>\n      <td>0</td>\n      <td>19467</td>\n      <td>1.0</td>\n    </tr>\n    <tr>\n      <th>2</th>\n      <td>1</td>\n      <td>2665</td>\n      <td>1.0</td>\n    </tr>\n    <tr>\n      <th>3</th>\n      <td>1</td>\n      <td>7494</td>\n      <td>1.0</td>\n    </tr>\n    <tr>\n      <th>4</th>\n      <td>1</td>\n      <td>17068</td>\n      <td>1.0</td>\n    </tr>\n    <tr>\n      <th>...</th>\n      <td>...</td>\n      <td>...</td>\n      <td>...</td>\n    </tr>\n    <tr>\n      <th>113263</th>\n      <td>7945</td>\n      <td>2476</td>\n      <td>1.0</td>\n    </tr>\n    <tr>\n      <th>113264</th>\n      <td>7945</td>\n      <td>12319</td>\n      <td>1.0</td>\n    </tr>\n    <tr>\n      <th>113265</th>\n      <td>7945</td>\n      <td>21384</td>\n      <td>1.0</td>\n    </tr>\n    <tr>\n      <th>113266</th>\n      <td>7946</td>\n      <td>8699</td>\n      <td>1.0</td>\n    </tr>\n    <tr>\n      <th>113267</th>\n      <td>7946</td>\n      <td>19178</td>\n      <td>1.0</td>\n    </tr>\n  </tbody>\n</table>\n<p>113268 rows × 3 columns</p>\n</div>"
     },
     "metadata": {},
     "execution_count": 123
    }
   ],
   "source": [
    "import pandas as pd\n",
    "import numpy as np \n",
    "import scipy.sparse as sps\n",
    "import os\n",
    "import sys\n",
    "import matplotlib.pyplot as plt\n",
    "sys.path.append('..')\n",
    "\n",
    "dataset = pd.read_csv('data_train.csv')\n",
    "dataset"
   ]
  },
  {
   "cell_type": "code",
   "execution_count": 124,
   "metadata": {},
   "outputs": [
    {
     "output_type": "execute_result",
     "data": {
      "text/plain": [
       "(7947, 25975)"
      ]
     },
     "metadata": {},
     "execution_count": 124
    }
   ],
   "source": [
    "users = dataset.row\n",
    "items = dataset.col\n",
    "data = dataset.data\n",
    "URM_all = sps.coo_matrix((data, (users, items)))\n",
    "URM_all = URM_all.tocsr() #fast row access -> fast access to users \n",
    "URM_all.shape"
   ]
  },
  {
   "cell_type": "code",
   "execution_count": 125,
   "metadata": {},
   "outputs": [],
   "source": [
    "items_per_user = np.ediff1d(URM_all.indptr) #tells in which position each of the rows begin\n",
    "users_per_item = np.ediff1d(sps.csc_matrix(URM_all).indptr)\n",
    "URM_all = sps.csr_matrix(URM_all)"
   ]
  },
  {
   "cell_type": "code",
   "execution_count": 126,
   "metadata": {},
   "outputs": [],
   "source": [
    "items_per_user = np.sort(items_per_user) #sorting based on the single value. Losing reference to the user. \n",
    "users_per_item = np.sort(users_per_item)"
   ]
  },
  {
   "cell_type": "code",
   "execution_count": 127,
   "metadata": {},
   "outputs": [
    {
     "output_type": "execute_result",
     "data": {
      "text/plain": [
       "          row    col      data\n",
       "0           0   1185  1.015524\n",
       "1           0   2507  0.459024\n",
       "2           0   3534  0.227742\n",
       "3           0   8766  0.501549\n",
       "4           0  10862  0.297011\n",
       "...       ...    ...       ...\n",
       "490686  25974  12554  0.963016\n",
       "490687  25974  13003  0.104613\n",
       "490688  25974  16236  0.118760\n",
       "490689  25974  18797  0.363301\n",
       "490690  25974  19629  0.129141\n",
       "\n",
       "[490691 rows x 3 columns]"
      ],
      "text/html": "<div>\n<style scoped>\n    .dataframe tbody tr th:only-of-type {\n        vertical-align: middle;\n    }\n\n    .dataframe tbody tr th {\n        vertical-align: top;\n    }\n\n    .dataframe thead th {\n        text-align: right;\n    }\n</style>\n<table border=\"1\" class=\"dataframe\">\n  <thead>\n    <tr style=\"text-align: right;\">\n      <th></th>\n      <th>row</th>\n      <th>col</th>\n      <th>data</th>\n    </tr>\n  </thead>\n  <tbody>\n    <tr>\n      <th>0</th>\n      <td>0</td>\n      <td>1185</td>\n      <td>1.015524</td>\n    </tr>\n    <tr>\n      <th>1</th>\n      <td>0</td>\n      <td>2507</td>\n      <td>0.459024</td>\n    </tr>\n    <tr>\n      <th>2</th>\n      <td>0</td>\n      <td>3534</td>\n      <td>0.227742</td>\n    </tr>\n    <tr>\n      <th>3</th>\n      <td>0</td>\n      <td>8766</td>\n      <td>0.501549</td>\n    </tr>\n    <tr>\n      <th>4</th>\n      <td>0</td>\n      <td>10862</td>\n      <td>0.297011</td>\n    </tr>\n    <tr>\n      <th>...</th>\n      <td>...</td>\n      <td>...</td>\n      <td>...</td>\n    </tr>\n    <tr>\n      <th>490686</th>\n      <td>25974</td>\n      <td>12554</td>\n      <td>0.963016</td>\n    </tr>\n    <tr>\n      <th>490687</th>\n      <td>25974</td>\n      <td>13003</td>\n      <td>0.104613</td>\n    </tr>\n    <tr>\n      <th>490688</th>\n      <td>25974</td>\n      <td>16236</td>\n      <td>0.118760</td>\n    </tr>\n    <tr>\n      <th>490689</th>\n      <td>25974</td>\n      <td>18797</td>\n      <td>0.363301</td>\n    </tr>\n    <tr>\n      <th>490690</th>\n      <td>25974</td>\n      <td>19629</td>\n      <td>0.129141</td>\n    </tr>\n  </tbody>\n</table>\n<p>490691 rows × 3 columns</p>\n</div>"
     },
     "metadata": {},
     "execution_count": 127
    }
   ],
   "source": [
    "ICM_df = pd.read_csv('data_ICM_title_abstract.csv')\n",
    "ICM_df"
   ]
  },
  {
   "cell_type": "code",
   "execution_count": 128,
   "metadata": {},
   "outputs": [
    {
     "output_type": "execute_result",
     "data": {
      "text/plain": [
       "(25975, 20000)"
      ]
     },
     "metadata": {},
     "execution_count": 128
    }
   ],
   "source": [
    "items = ICM_df.row\n",
    "features = ICM_df.col\n",
    "data = ICM_df.data\n",
    "ICM_all = sps.coo_matrix((data, (items, features)))\n",
    "ICM_all = ICM_all.tocsr() #fast row access -> fast access to users \n",
    "ICM_all.shape"
   ]
  },
  {
   "cell_type": "code",
   "execution_count": 129,
   "metadata": {},
   "outputs": [],
   "source": [
    "ICM_all = sps.csr_matrix(ICM_all)\n",
    "features_per_item = np.ediff1d(ICM_all.indptr)\n",
    "\n",
    "ICM_all = sps.csc_matrix(ICM_all)\n",
    "items_per_feature = np.ediff1d(ICM_all.indptr)\n",
    "\n",
    "ICM_all = sps.csr_matrix(ICM_all)"
   ]
  },
  {
   "cell_type": "code",
   "execution_count": 130,
   "metadata": {},
   "outputs": [],
   "source": [
    "features_per_item = np.sort(features_per_item)\n",
    "items_per_feature = np.sort(items_per_feature)"
   ]
  },
  {
   "cell_type": "markdown",
   "metadata": {},
   "source": [
    "# Data pre-processing"
   ]
  },
  {
   "cell_type": "code",
   "execution_count": 131,
   "metadata": {},
   "outputs": [
    {
     "output_type": "stream",
     "name": "stdout",
     "text": [
      "Warning: 45 (0.57 %) of 7947 users have no train items\nWarning: 3014 (37.93 %) of 7947 users have no sampled items\n"
     ]
    }
   ],
   "source": [
    "from Base.Evaluation.Evaluator import EvaluatorHoldout\n",
    "from Data_manager.split_functions.split_train_validation_random_holdout import split_train_in_two_percentage_global_sample\n",
    "\n",
    "URM_train, URM_validation = split_train_in_two_percentage_global_sample(URM_all, train_percentage = 0.85)"
   ]
  },
  {
   "cell_type": "code",
   "execution_count": 132,
   "metadata": {},
   "outputs": [
    {
     "output_type": "stream",
     "name": "stdout",
     "text": [
      "P3alphaRecommender: URM Detected 45 (0.57 %) cold users.\n",
      "P3alphaRecommender: URM Detected 2015 (7.76 %) cold items.\n",
      "RP3betaRecommender: URM Detected 2 (0.01 %) cold users.\n",
      "RP3betaRecommender: URM Detected 25 (0.10 %) cold items.\n",
      "ItemKNNSimilarityHybridRecommender: URM Detected 45 (0.57 %) cold users.\n",
      "ItemKNNSimilarityHybridRecommender: URM Detected 2015 (7.76 %) cold items.\n"
     ]
    }
   ],
   "source": [
    "from GraphBased.P3alphaRecommender import P3alphaRecommender\n",
    "from GraphBased.RP3betaRecommender import RP3betaRecommender\n",
    "from KNN.ItemKNNCBFRecommender import ItemKNNCBFRecommender\n",
    "from KNN.ItemKNNSimilarityHybridRecommender import ItemKNNSimilarityHybridRecommender\n",
    "\n",
    "recommender_alpha = P3alphaRecommender(URM_train)\n",
    "recommender_alpha.fit(topK=170, alpha = 0.45, implicit = True)\n",
    "\n",
    "recommender_beta_ICM = RP3betaRecommender(ICM_all.T)\n",
    "recommender_beta_ICM.fit(topK=70, alpha=0.2, beta=0.5, implicit=False)\n",
    "recommender_beta_ICM.URM_train = URM_train\n",
    "\n",
    "hybridrecommender = ItemKNNSimilarityHybridRecommender(URM_train, recommender_alpha.W_sparse, recommender_beta_ICM.W_sparse)\n",
    "hybridrecommender.fit(topK=200, alpha = 0.1)"
   ]
  },
  {
   "cell_type": "code",
   "execution_count": 133,
   "metadata": {},
   "outputs": [
    {
     "output_type": "stream",
     "name": "stdout",
     "text": [
      "UserKNNCFRecommender: URM Detected 45 (0.57 %) cold users.\n",
      "UserKNNCFRecommender: URM Detected 2015 (7.76 %) cold items.\n",
      "Similarity column 7947 ( 100 % ), 8605.56 column/sec, elapsed time 0.02 min\n"
     ]
    }
   ],
   "source": [
    "from KNN.UserKNNCFRecommender import UserKNNCFRecommender\n",
    "\n",
    "recommender_cold = UserKNNCFRecommender(URM_train)\n",
    "recommender_cold.fit(shrink=100, topK=150, feature_weighting = \"TF-IDF\")"
   ]
  },
  {
   "cell_type": "code",
   "execution_count": 134,
   "metadata": {},
   "outputs": [
    {
     "output_type": "stream",
     "name": "stdout",
     "text": [
      "ItemKNNCFRecommender: URM Detected 45 (0.57 %) cold users.\n",
      "ItemKNNCFRecommender: URM Detected 2015 (7.76 %) cold items.\n",
      "Similarity column 25975 ( 100 % ), 2691.28 column/sec, elapsed time 0.16 min\n"
     ]
    }
   ],
   "source": [
    "from KNN.ItemKNNCFRecommender import ItemKNNCFRecommender\n",
    "\n",
    "recommender_item_cf = ItemKNNCFRecommender(URM_train)\n",
    "recommender_item_cf.fit(shrink=600, topK=550, feature_weighting = \"TF-IDF\")"
   ]
  },
  {
   "cell_type": "code",
   "execution_count": 135,
   "metadata": {},
   "outputs": [
    {
     "output_type": "stream",
     "name": "stdout",
     "text": [
      "ItemKNNCBFRecommender: URM Detected 45 (0.57 %) cold users.\n",
      "ItemKNNCBFRecommender: URM Detected 2015 (7.76 %) cold items.\n",
      "Similarity column 25975 ( 100 % ), 2064.57 column/sec, elapsed time 0.21 min\n"
     ]
    }
   ],
   "source": [
    "recommeder_KNNItemCBF = ItemKNNCBFRecommender(URM_train, ICM_all)\n",
    "recommeder_KNNItemCBF.fit(topK=100, shrink=400, feature_weighting = 'TF-IDF')"
   ]
  },
  {
   "cell_type": "code",
   "execution_count": 136,
   "metadata": {},
   "outputs": [
    {
     "output_type": "stream",
     "name": "stdout",
     "text": [
      "TopPopRecommender: URM Detected 45 (0.57 %) cold users.\n",
      "TopPopRecommender: URM Detected 2015 (7.76 %) cold items.\n"
     ]
    }
   ],
   "source": [
    "from Base.NonPersonalizedRecommender import TopPop\n",
    "\n",
    "recommender_top_popular = TopPop(URM_train)\n",
    "recommender_top_popular.fit()"
   ]
  },
  {
   "cell_type": "code",
   "execution_count": 137,
   "metadata": {},
   "outputs": [
    {
     "output_type": "stream",
     "name": "stdout",
     "text": [
      "PureSVDRecommender: URM Detected 45 (0.57 %) cold users.\n",
      "PureSVDRecommender: URM Detected 2015 (7.76 %) cold items.\n",
      "PureSVDRecommender: Computing SVD decomposition...\n",
      "PureSVDRecommender: Computing SVD decomposition... Done!\n"
     ]
    }
   ],
   "source": [
    "from MatrixFactorization.PureSVDRecommender import PureSVDRecommender\n",
    "\n",
    "recommender_pure_svd = PureSVDRecommender(URM_train)\n",
    "recommender_pure_svd.fit(num_factors = 825)"
   ]
  },
  {
   "cell_type": "code",
   "execution_count": 138,
   "metadata": {
    "tags": [
     "outputPrepend"
    ]
   },
   "outputs": [
    {
     "output_type": "stream",
     "name": "stdout",
     "text": [
      "200. Elapsed time 3.94 sec\n",
      "Processed 7947 ( 100.00% ) in 0.14 seconds. BPR loss is 1.20E-03. Sample per second: 58729\n",
      "SLIM_BPR_Recommender: Epoch 71 of 200. Elapsed time 3.99 sec\n",
      "Processed 7947 ( 100.00% ) in 0.19 seconds. BPR loss is 1.25E-03. Sample per second: 42326\n",
      "SLIM_BPR_Recommender: Epoch 72 of 200. Elapsed time 4.04 sec\n",
      "Processed 7947 ( 100.00% ) in 0.24 seconds. BPR loss is 1.23E-03. Sample per second: 32806\n",
      "SLIM_BPR_Recommender: Epoch 73 of 200. Elapsed time 4.10 sec\n",
      "Processed 7947 ( 100.00% ) in 0.30 seconds. BPR loss is 1.23E-03. Sample per second: 26903\n",
      "SLIM_BPR_Recommender: Epoch 74 of 200. Elapsed time 4.15 sec\n",
      "Processed 7947 ( 100.00% ) in 0.35 seconds. BPR loss is 1.23E-03. Sample per second: 22714\n",
      "SLIM_BPR_Recommender: Epoch 75 of 200. Elapsed time 4.20 sec\n",
      "Processed 7947 ( 100.00% ) in 0.41 seconds. BPR loss is 1.27E-03. Sample per second: 19459\n",
      "SLIM_BPR_Recommender: Epoch 76 of 200. Elapsed time 4.26 sec\n",
      "Processed 7947 ( 100.00% ) in 0.47 seconds. BPR loss is 1.29E-03. Sample per second: 16853\n",
      "SLIM_BPR_Recommender: Epoch 77 of 200. Elapsed time 4.33 sec\n",
      "Processed 7947 ( 100.00% ) in 0.53 seconds. BPR loss is 1.30E-03. Sample per second: 15063\n",
      "SLIM_BPR_Recommender: Epoch 78 of 200. Elapsed time 4.38 sec\n",
      "Processed 7947 ( 100.00% ) in 0.58 seconds. BPR loss is 1.32E-03. Sample per second: 13631\n",
      "SLIM_BPR_Recommender: Epoch 79 of 200. Elapsed time 4.44 sec\n",
      "Processed 7947 ( 100.00% ) in 0.65 seconds. BPR loss is 1.35E-03. Sample per second: 12299\n",
      "SLIM_BPR_Recommender: Epoch 80 of 200. Elapsed time 4.50 sec\n",
      "Processed 7947 ( 100.00% ) in 0.71 seconds. BPR loss is 1.50E-03. Sample per second: 11169\n",
      "SLIM_BPR_Recommender: Epoch 81 of 200. Elapsed time 4.57 sec\n",
      "Processed 7947 ( 100.00% ) in 0.78 seconds. BPR loss is 1.36E-03. Sample per second: 10181\n",
      "SLIM_BPR_Recommender: Epoch 82 of 200. Elapsed time 4.64 sec\n",
      "Processed 7947 ( 100.00% ) in 0.85 seconds. BPR loss is 1.41E-03. Sample per second: 9309\n",
      "SLIM_BPR_Recommender: Epoch 83 of 200. Elapsed time 4.71 sec\n",
      "Processed 7947 ( 100.00% ) in 0.92 seconds. BPR loss is 1.46E-03. Sample per second: 8665\n",
      "SLIM_BPR_Recommender: Epoch 84 of 200. Elapsed time 4.77 sec\n",
      "Processed 7947 ( 100.00% ) in 1.05 seconds. BPR loss is 1.49E-03. Sample per second: 7574\n",
      "SLIM_BPR_Recommender: Epoch 85 of 200. Elapsed time 4.90 sec\n",
      "Processed 7947 ( 100.00% ) in 0.11 seconds. BPR loss is 1.35E-03. Sample per second: 74866\n",
      "SLIM_BPR_Recommender: Epoch 86 of 200. Elapsed time 4.96 sec\n",
      "Processed 7947 ( 100.00% ) in 0.16 seconds. BPR loss is 1.44E-03. Sample per second: 49075\n",
      "SLIM_BPR_Recommender: Epoch 87 of 200. Elapsed time 5.03 sec\n",
      "Processed 7947 ( 100.00% ) in 0.24 seconds. BPR loss is 1.45E-03. Sample per second: 32568\n",
      "SLIM_BPR_Recommender: Epoch 88 of 200. Elapsed time 5.11 sec\n",
      "Processed 7947 ( 100.00% ) in 0.31 seconds. BPR loss is 1.55E-03. Sample per second: 25291\n",
      "SLIM_BPR_Recommender: Epoch 89 of 200. Elapsed time 5.17 sec\n",
      "Processed 7947 ( 100.00% ) in 0.39 seconds. BPR loss is 1.50E-03. Sample per second: 20459\n",
      "SLIM_BPR_Recommender: Epoch 90 of 200. Elapsed time 5.24 sec\n",
      "Processed 7947 ( 100.00% ) in 0.45 seconds. BPR loss is 1.59E-03. Sample per second: 17671\n",
      "SLIM_BPR_Recommender: Epoch 91 of 200. Elapsed time 5.30 sec\n",
      "Processed 7947 ( 100.00% ) in 0.53 seconds. BPR loss is 1.55E-03. Sample per second: 15131\n",
      "SLIM_BPR_Recommender: Epoch 92 of 200. Elapsed time 5.38 sec\n",
      "Processed 7947 ( 100.00% ) in 0.59 seconds. BPR loss is 1.64E-03. Sample per second: 13396\n",
      "SLIM_BPR_Recommender: Epoch 93 of 200. Elapsed time 5.45 sec\n",
      "Processed 7947 ( 100.00% ) in 0.66 seconds. BPR loss is 1.59E-03. Sample per second: 12018\n",
      "SLIM_BPR_Recommender: Epoch 94 of 200. Elapsed time 5.52 sec\n",
      "Processed 7947 ( 100.00% ) in 0.78 seconds. BPR loss is 1.70E-03. Sample per second: 10127\n",
      "SLIM_BPR_Recommender: Epoch 95 of 200. Elapsed time 5.64 sec\n",
      "Processed 7947 ( 100.00% ) in 0.84 seconds. BPR loss is 1.62E-03. Sample per second: 9482\n",
      "SLIM_BPR_Recommender: Epoch 96 of 200. Elapsed time 5.69 sec\n",
      "Processed 7947 ( 100.00% ) in 0.90 seconds. BPR loss is 1.77E-03. Sample per second: 8817\n",
      "SLIM_BPR_Recommender: Epoch 97 of 200. Elapsed time 5.76 sec\n",
      "Processed 7947 ( 100.00% ) in 0.96 seconds. BPR loss is 1.64E-03. Sample per second: 8262\n",
      "SLIM_BPR_Recommender: Epoch 98 of 200. Elapsed time 5.83 sec\n",
      "Processed 7947 ( 100.00% ) in 1.05 seconds. BPR loss is 1.67E-03. Sample per second: 7589\n",
      "SLIM_BPR_Recommender: Epoch 99 of 200. Elapsed time 5.90 sec\n",
      "Processed 7947 ( 100.00% ) in 0.09 seconds. BPR loss is 1.75E-03. Sample per second: 84341\n",
      "SLIM_BPR_Recommender: Epoch 100 of 200. Elapsed time 5.95 sec\n",
      "Processed 7947 ( 100.00% ) in 0.15 seconds. BPR loss is 1.73E-03. Sample per second: 52888\n",
      "SLIM_BPR_Recommender: Epoch 101 of 200. Elapsed time 6.01 sec\n",
      "Processed 7947 ( 100.00% ) in 0.22 seconds. BPR loss is 1.74E-03. Sample per second: 36469\n",
      "SLIM_BPR_Recommender: Epoch 102 of 200. Elapsed time 6.08 sec\n",
      "Processed 7947 ( 100.00% ) in 0.28 seconds. BPR loss is 1.89E-03. Sample per second: 28154\n",
      "SLIM_BPR_Recommender: Epoch 103 of 200. Elapsed time 6.14 sec\n",
      "Processed 7947 ( 100.00% ) in 0.33 seconds. BPR loss is 1.78E-03. Sample per second: 23729\n",
      "SLIM_BPR_Recommender: Epoch 104 of 200. Elapsed time 6.19 sec\n",
      "Processed 7947 ( 100.00% ) in 0.39 seconds. BPR loss is 1.81E-03. Sample per second: 20227\n",
      "SLIM_BPR_Recommender: Epoch 105 of 200. Elapsed time 6.25 sec\n",
      "Processed 7947 ( 100.00% ) in 0.47 seconds. BPR loss is 1.87E-03. Sample per second: 17086\n",
      "SLIM_BPR_Recommender: Epoch 106 of 200. Elapsed time 6.33 sec\n",
      "Processed 7947 ( 100.00% ) in 0.54 seconds. BPR loss is 1.83E-03. Sample per second: 14823\n",
      "SLIM_BPR_Recommender: Epoch 107 of 200. Elapsed time 6.39 sec\n",
      "Processed 7947 ( 100.00% ) in 0.59 seconds. BPR loss is 1.91E-03. Sample per second: 13451\n",
      "SLIM_BPR_Recommender: Epoch 108 of 200. Elapsed time 6.44 sec\n",
      "Processed 7947 ( 100.00% ) in 0.65 seconds. BPR loss is 1.84E-03. Sample per second: 12224\n",
      "SLIM_BPR_Recommender: Epoch 109 of 200. Elapsed time 6.51 sec\n",
      "Processed 7947 ( 100.00% ) in 0.71 seconds. BPR loss is 1.89E-03. Sample per second: 11147\n",
      "SLIM_BPR_Recommender: Epoch 110 of 200. Elapsed time 6.57 sec\n",
      "Processed 7947 ( 100.00% ) in 0.78 seconds. BPR loss is 1.90E-03. Sample per second: 10193\n",
      "SLIM_BPR_Recommender: Epoch 111 of 200. Elapsed time 6.64 sec\n",
      "Processed 7947 ( 100.00% ) in 0.84 seconds. BPR loss is 1.99E-03. Sample per second: 9447\n",
      "SLIM_BPR_Recommender: Epoch 112 of 200. Elapsed time 6.70 sec\n",
      "Processed 7947 ( 100.00% ) in 0.90 seconds. BPR loss is 1.96E-03. Sample per second: 8840\n",
      "SLIM_BPR_Recommender: Epoch 113 of 200. Elapsed time 6.75 sec\n",
      "Processed 7947 ( 100.00% ) in 0.95 seconds. BPR loss is 1.98E-03. Sample per second: 8346\n",
      "SLIM_BPR_Recommender: Epoch 114 of 200. Elapsed time 6.81 sec\n",
      "Processed 7947 ( 100.00% ) in 1.01 seconds. BPR loss is 2.09E-03. Sample per second: 7845\n",
      "SLIM_BPR_Recommender: Epoch 115 of 200. Elapsed time 6.87 sec\n",
      "Processed 7947 ( 100.00% ) in 0.09 seconds. BPR loss is 1.94E-03. Sample per second: 91459\n",
      "SLIM_BPR_Recommender: Epoch 116 of 200. Elapsed time 6.94 sec\n",
      "Processed 7947 ( 100.00% ) in 0.15 seconds. BPR loss is 2.04E-03. Sample per second: 51508\n",
      "SLIM_BPR_Recommender: Epoch 117 of 200. Elapsed time 7.01 sec\n",
      "Processed 7947 ( 100.00% ) in 0.22 seconds. BPR loss is 2.04E-03. Sample per second: 36697\n",
      "SLIM_BPR_Recommender: Epoch 118 of 200. Elapsed time 7.07 sec\n",
      "Processed 7947 ( 100.00% ) in 0.29 seconds. BPR loss is 2.02E-03. Sample per second: 27510\n",
      "SLIM_BPR_Recommender: Epoch 119 of 200. Elapsed time 7.15 sec\n",
      "Processed 7947 ( 100.00% ) in 0.36 seconds. BPR loss is 2.07E-03. Sample per second: 22190\n",
      "SLIM_BPR_Recommender: Epoch 120 of 200. Elapsed time 7.21 sec\n",
      "Processed 7947 ( 100.00% ) in 0.42 seconds. BPR loss is 2.09E-03. Sample per second: 18737\n",
      "SLIM_BPR_Recommender: Epoch 121 of 200. Elapsed time 7.28 sec\n",
      "Processed 7947 ( 100.00% ) in 0.49 seconds. BPR loss is 2.18E-03. Sample per second: 16208\n",
      "SLIM_BPR_Recommender: Epoch 122 of 200. Elapsed time 7.34 sec\n",
      "Processed 7947 ( 100.00% ) in 0.55 seconds. BPR loss is 2.11E-03. Sample per second: 14529\n",
      "SLIM_BPR_Recommender: Epoch 123 of 200. Elapsed time 7.40 sec\n",
      "Processed 7947 ( 100.00% ) in 0.61 seconds. BPR loss is 2.24E-03. Sample per second: 13018\n",
      "SLIM_BPR_Recommender: Epoch 124 of 200. Elapsed time 7.47 sec\n",
      "Processed 7947 ( 100.00% ) in 0.67 seconds. BPR loss is 2.15E-03. Sample per second: 11898\n",
      "SLIM_BPR_Recommender: Epoch 125 of 200. Elapsed time 7.52 sec\n",
      "Processed 7947 ( 100.00% ) in 0.72 seconds. BPR loss is 2.18E-03. Sample per second: 10980\n",
      "SLIM_BPR_Recommender: Epoch 126 of 200. Elapsed time 7.58 sec\n",
      "Processed 7947 ( 100.00% ) in 0.79 seconds. BPR loss is 2.11E-03. Sample per second: 10010\n",
      "SLIM_BPR_Recommender: Epoch 127 of 200. Elapsed time 7.65 sec\n",
      "Processed 7947 ( 100.00% ) in 0.85 seconds. BPR loss is 2.20E-03. Sample per second: 9317\n",
      "SLIM_BPR_Recommender: Epoch 128 of 200. Elapsed time 7.71 sec\n",
      "Processed 7947 ( 100.00% ) in 0.91 seconds. BPR loss is 2.17E-03. Sample per second: 8739\n",
      "SLIM_BPR_Recommender: Epoch 129 of 200. Elapsed time 7.77 sec\n",
      "Processed 7947 ( 100.00% ) in 0.99 seconds. BPR loss is 2.22E-03. Sample per second: 8060\n",
      "SLIM_BPR_Recommender: Epoch 130 of 200. Elapsed time 7.84 sec\n",
      "Processed 7947 ( 100.00% ) in 1.05 seconds. BPR loss is 2.26E-03. Sample per second: 7569\n",
      "SLIM_BPR_Recommender: Epoch 131 of 200. Elapsed time 7.91 sec\n",
      "Processed 7947 ( 100.00% ) in 0.10 seconds. BPR loss is 2.32E-03. Sample per second: 76176\n",
      "SLIM_BPR_Recommender: Epoch 132 of 200. Elapsed time 7.96 sec\n",
      "Processed 7947 ( 100.00% ) in 0.16 seconds. BPR loss is 2.31E-03. Sample per second: 49832\n",
      "SLIM_BPR_Recommender: Epoch 133 of 200. Elapsed time 8.02 sec\n",
      "Processed 7947 ( 100.00% ) in 0.23 seconds. BPR loss is 2.26E-03. Sample per second: 34031\n",
      "SLIM_BPR_Recommender: Epoch 134 of 200. Elapsed time 8.09 sec\n",
      "Processed 7947 ( 100.00% ) in 0.31 seconds. BPR loss is 2.30E-03. Sample per second: 25504\n",
      "SLIM_BPR_Recommender: Epoch 135 of 200. Elapsed time 8.18 sec\n",
      "Processed 7947 ( 100.00% ) in 0.39 seconds. BPR loss is 2.36E-03. Sample per second: 20228\n",
      "SLIM_BPR_Recommender: Epoch 136 of 200. Elapsed time 8.25 sec\n",
      "Processed 7947 ( 100.00% ) in 0.47 seconds. BPR loss is 2.39E-03. Sample per second: 17072\n",
      "SLIM_BPR_Recommender: Epoch 137 of 200. Elapsed time 8.32 sec\n",
      "Processed 7947 ( 100.00% ) in 0.53 seconds. BPR loss is 2.38E-03. Sample per second: 14977\n",
      "SLIM_BPR_Recommender: Epoch 138 of 200. Elapsed time 8.39 sec\n",
      "Processed 7947 ( 100.00% ) in 0.59 seconds. BPR loss is 2.48E-03. Sample per second: 13373\n",
      "SLIM_BPR_Recommender: Epoch 139 of 200. Elapsed time 8.45 sec\n",
      "Processed 7947 ( 100.00% ) in 0.65 seconds. BPR loss is 2.53E-03. Sample per second: 12220\n",
      "SLIM_BPR_Recommender: Epoch 140 of 200. Elapsed time 8.51 sec\n",
      "Processed 7947 ( 100.00% ) in 0.71 seconds. BPR loss is 2.41E-03. Sample per second: 11131\n",
      "SLIM_BPR_Recommender: Epoch 141 of 200. Elapsed time 8.58 sec\n",
      "Processed 7947 ( 100.00% ) in 0.79 seconds. BPR loss is 2.43E-03. Sample per second: 10035\n",
      "SLIM_BPR_Recommender: Epoch 142 of 200. Elapsed time 8.65 sec\n",
      "Processed 7947 ( 100.00% ) in 0.85 seconds. BPR loss is 2.42E-03. Sample per second: 9352\n",
      "SLIM_BPR_Recommender: Epoch 143 of 200. Elapsed time 8.71 sec\n",
      "Processed 7947 ( 100.00% ) in 0.93 seconds. BPR loss is 2.54E-03. Sample per second: 8541\n",
      "SLIM_BPR_Recommender: Epoch 144 of 200. Elapsed time 8.79 sec\n",
      "Processed 7947 ( 100.00% ) in 1.01 seconds. BPR loss is 2.49E-03. Sample per second: 7899\n",
      "SLIM_BPR_Recommender: Epoch 145 of 200. Elapsed time 8.86 sec\n",
      "Processed 7947 ( 100.00% ) in 0.07 seconds. BPR loss is 2.59E-03. Sample per second: 115170\n",
      "SLIM_BPR_Recommender: Epoch 146 of 200. Elapsed time 8.92 sec\n",
      "Processed 7947 ( 100.00% ) in 0.15 seconds. BPR loss is 2.53E-03. Sample per second: 54096\n",
      "SLIM_BPR_Recommender: Epoch 147 of 200. Elapsed time 9.00 sec\n",
      "Processed 7947 ( 100.00% ) in 0.22 seconds. BPR loss is 2.55E-03. Sample per second: 35681\n",
      "SLIM_BPR_Recommender: Epoch 148 of 200. Elapsed time 9.08 sec\n",
      "Processed 7947 ( 100.00% ) in 0.29 seconds. BPR loss is 2.52E-03. Sample per second: 27664\n",
      "SLIM_BPR_Recommender: Epoch 149 of 200. Elapsed time 9.14 sec\n",
      "Processed 7947 ( 100.00% ) in 0.37 seconds. BPR loss is 2.51E-03. Sample per second: 21750\n",
      "SLIM_BPR_Recommender: Epoch 150 of 200. Elapsed time 9.23 sec\n",
      "Processed 7947 ( 100.00% ) in 0.45 seconds. BPR loss is 2.60E-03. Sample per second: 17546\n",
      "SLIM_BPR_Recommender: Epoch 151 of 200. Elapsed time 9.31 sec\n",
      "Processed 7947 ( 100.00% ) in 0.53 seconds. BPR loss is 2.75E-03. Sample per second: 14926\n",
      "SLIM_BPR_Recommender: Epoch 152 of 200. Elapsed time 9.39 sec\n",
      "Processed 7947 ( 100.00% ) in 0.61 seconds. BPR loss is 2.63E-03. Sample per second: 13002\n",
      "SLIM_BPR_Recommender: Epoch 153 of 200. Elapsed time 9.47 sec\n",
      "Processed 7947 ( 100.00% ) in 0.72 seconds. BPR loss is 2.70E-03. Sample per second: 11063\n",
      "SLIM_BPR_Recommender: Epoch 154 of 200. Elapsed time 9.57 sec\n",
      "Processed 7947 ( 100.00% ) in 0.84 seconds. BPR loss is 2.69E-03. Sample per second: 9518\n",
      "SLIM_BPR_Recommender: Epoch 155 of 200. Elapsed time 9.70 sec\n",
      "Processed 7947 ( 100.00% ) in 0.95 seconds. BPR loss is 2.67E-03. Sample per second: 8398\n",
      "SLIM_BPR_Recommender: Epoch 156 of 200. Elapsed time 9.80 sec\n",
      "Processed 7947 ( 100.00% ) in 1.07 seconds. BPR loss is 2.82E-03. Sample per second: 7444\n",
      "SLIM_BPR_Recommender: Epoch 157 of 200. Elapsed time 9.93 sec\n",
      "Processed 7947 ( 100.00% ) in 0.14 seconds. BPR loss is 2.73E-03. Sample per second: 54848\n",
      "SLIM_BPR_Recommender: Epoch 158 of 200. Elapsed time 10.00 sec\n",
      "Processed 7947 ( 100.00% ) in 0.23 seconds. BPR loss is 2.84E-03. Sample per second: 34910\n",
      "SLIM_BPR_Recommender: Epoch 159 of 200. Elapsed time 10.09 sec\n",
      "Processed 7947 ( 100.00% ) in 0.30 seconds. BPR loss is 2.75E-03. Sample per second: 26911\n",
      "SLIM_BPR_Recommender: Epoch 160 of 200. Elapsed time 10.15 sec\n",
      "Processed 7947 ( 100.00% ) in 0.37 seconds. BPR loss is 2.76E-03. Sample per second: 21580\n",
      "SLIM_BPR_Recommender: Epoch 161 of 200. Elapsed time 10.23 sec\n",
      "Processed 7947 ( 100.00% ) in 0.43 seconds. BPR loss is 2.88E-03. Sample per second: 18648\n",
      "SLIM_BPR_Recommender: Epoch 162 of 200. Elapsed time 10.28 sec\n",
      "Processed 7947 ( 100.00% ) in 0.52 seconds. BPR loss is 2.97E-03. Sample per second: 15305\n",
      "SLIM_BPR_Recommender: Epoch 163 of 200. Elapsed time 10.38 sec\n",
      "Processed 7947 ( 100.00% ) in 0.59 seconds. BPR loss is 2.84E-03. Sample per second: 13372\n",
      "SLIM_BPR_Recommender: Epoch 164 of 200. Elapsed time 10.45 sec\n",
      "Processed 7947 ( 100.00% ) in 0.67 seconds. BPR loss is 2.90E-03. Sample per second: 11930\n",
      "SLIM_BPR_Recommender: Epoch 165 of 200. Elapsed time 10.52 sec\n",
      "Processed 7947 ( 100.00% ) in 0.73 seconds. BPR loss is 2.88E-03. Sample per second: 10898\n",
      "SLIM_BPR_Recommender: Epoch 166 of 200. Elapsed time 10.59 sec\n",
      "Processed 7947 ( 100.00% ) in 0.80 seconds. BPR loss is 3.13E-03. Sample per second: 9908\n",
      "SLIM_BPR_Recommender: Epoch 167 of 200. Elapsed time 10.66 sec\n",
      "Processed 7947 ( 100.00% ) in 0.88 seconds. BPR loss is 3.10E-03. Sample per second: 9061\n",
      "SLIM_BPR_Recommender: Epoch 168 of 200. Elapsed time 10.74 sec\n",
      "Processed 7947 ( 100.00% ) in 0.94 seconds. BPR loss is 2.92E-03. Sample per second: 8422\n",
      "SLIM_BPR_Recommender: Epoch 169 of 200. Elapsed time 10.80 sec\n",
      "Processed 7947 ( 100.00% ) in 1.00 seconds. BPR loss is 3.03E-03. Sample per second: 7920\n",
      "SLIM_BPR_Recommender: Epoch 170 of 200. Elapsed time 10.86 sec\n",
      "Processed 7947 ( 100.00% ) in 0.10 seconds. BPR loss is 3.02E-03. Sample per second: 76223\n",
      "SLIM_BPR_Recommender: Epoch 171 of 200. Elapsed time 10.97 sec\n",
      "Processed 7947 ( 100.00% ) in 0.17 seconds. BPR loss is 3.00E-03. Sample per second: 47519\n",
      "SLIM_BPR_Recommender: Epoch 172 of 200. Elapsed time 11.02 sec\n",
      "Processed 7947 ( 100.00% ) in 0.24 seconds. BPR loss is 3.05E-03. Sample per second: 33660\n",
      "SLIM_BPR_Recommender: Epoch 173 of 200. Elapsed time 11.09 sec\n",
      "Processed 7947 ( 100.00% ) in 0.32 seconds. BPR loss is 2.98E-03. Sample per second: 25162\n",
      "SLIM_BPR_Recommender: Epoch 174 of 200. Elapsed time 11.18 sec\n",
      "Processed 7947 ( 100.00% ) in 0.41 seconds. BPR loss is 3.08E-03. Sample per second: 19342\n",
      "SLIM_BPR_Recommender: Epoch 175 of 200. Elapsed time 11.28 sec\n",
      "Processed 7947 ( 100.00% ) in 0.48 seconds. BPR loss is 3.08E-03. Sample per second: 16532\n",
      "SLIM_BPR_Recommender: Epoch 176 of 200. Elapsed time 11.35 sec\n",
      "Processed 7947 ( 100.00% ) in 0.56 seconds. BPR loss is 3.13E-03. Sample per second: 14251\n",
      "SLIM_BPR_Recommender: Epoch 177 of 200. Elapsed time 11.42 sec\n",
      "Processed 7947 ( 100.00% ) in 0.64 seconds. BPR loss is 3.34E-03. Sample per second: 12492\n",
      "SLIM_BPR_Recommender: Epoch 178 of 200. Elapsed time 11.49 sec\n",
      "Processed 7947 ( 100.00% ) in 0.70 seconds. BPR loss is 3.08E-03. Sample per second: 11343\n",
      "SLIM_BPR_Recommender: Epoch 179 of 200. Elapsed time 11.56 sec\n",
      "Processed 7947 ( 100.00% ) in 0.77 seconds. BPR loss is 3.20E-03. Sample per second: 10288\n",
      "SLIM_BPR_Recommender: Epoch 180 of 200. Elapsed time 11.63 sec\n",
      "Processed 7947 ( 100.00% ) in 0.83 seconds. BPR loss is 3.12E-03. Sample per second: 9538\n",
      "SLIM_BPR_Recommender: Epoch 181 of 200. Elapsed time 11.69 sec\n",
      "Processed 7947 ( 100.00% ) in 0.89 seconds. BPR loss is 2.99E-03. Sample per second: 8911\n",
      "SLIM_BPR_Recommender: Epoch 182 of 200. Elapsed time 11.79 sec\n",
      "Processed 7947 ( 100.00% ) in 1.01 seconds. BPR loss is 3.22E-03. Sample per second: 7851\n",
      "SLIM_BPR_Recommender: Epoch 183 of 200. Elapsed time 11.87 sec\n",
      "Processed 7947 ( 100.00% ) in 0.08 seconds. BPR loss is 3.16E-03. Sample per second: 94296\n",
      "SLIM_BPR_Recommender: Epoch 184 of 200. Elapsed time 11.94 sec\n",
      "Processed 7947 ( 100.00% ) in 0.15 seconds. BPR loss is 3.36E-03. Sample per second: 52373\n",
      "SLIM_BPR_Recommender: Epoch 185 of 200. Elapsed time 12.01 sec\n",
      "Processed 7947 ( 100.00% ) in 0.23 seconds. BPR loss is 3.49E-03. Sample per second: 35017\n",
      "SLIM_BPR_Recommender: Epoch 186 of 200. Elapsed time 12.08 sec\n",
      "Processed 7947 ( 100.00% ) in 0.28 seconds. BPR loss is 3.28E-03. Sample per second: 28211\n",
      "SLIM_BPR_Recommender: Epoch 187 of 200. Elapsed time 12.14 sec\n",
      "Processed 7947 ( 100.00% ) in 0.35 seconds. BPR loss is 3.38E-03. Sample per second: 22743\n",
      "SLIM_BPR_Recommender: Epoch 188 of 200. Elapsed time 12.21 sec\n",
      "Processed 7947 ( 100.00% ) in 0.43 seconds. BPR loss is 3.42E-03. Sample per second: 18543\n",
      "SLIM_BPR_Recommender: Epoch 189 of 200. Elapsed time 12.28 sec\n",
      "Processed 7947 ( 100.00% ) in 0.49 seconds. BPR loss is 3.40E-03. Sample per second: 16197\n",
      "SLIM_BPR_Recommender: Epoch 190 of 200. Elapsed time 12.35 sec\n",
      "Processed 7947 ( 100.00% ) in 0.55 seconds. BPR loss is 3.29E-03. Sample per second: 14430\n",
      "SLIM_BPR_Recommender: Epoch 191 of 200. Elapsed time 12.41 sec\n",
      "Processed 7947 ( 100.00% ) in 0.62 seconds. BPR loss is 3.44E-03. Sample per second: 12736\n",
      "SLIM_BPR_Recommender: Epoch 192 of 200. Elapsed time 12.48 sec\n",
      "Processed 7947 ( 100.00% ) in 0.71 seconds. BPR loss is 3.50E-03. Sample per second: 11177\n",
      "SLIM_BPR_Recommender: Epoch 193 of 200. Elapsed time 12.57 sec\n",
      "Processed 7947 ( 100.00% ) in 0.78 seconds. BPR loss is 3.46E-03. Sample per second: 10188\n",
      "SLIM_BPR_Recommender: Epoch 194 of 200. Elapsed time 12.64 sec\n",
      "Processed 7947 ( 100.00% ) in 0.86 seconds. BPR loss is 3.37E-03. Sample per second: 9222\n",
      "SLIM_BPR_Recommender: Epoch 195 of 200. Elapsed time 12.72 sec\n",
      "Processed 7947 ( 100.00% ) in 0.94 seconds. BPR loss is 3.41E-03. Sample per second: 8457\n",
      "SLIM_BPR_Recommender: Epoch 196 of 200. Elapsed time 12.80 sec\n",
      "Processed 7947 ( 100.00% ) in 1.01 seconds. BPR loss is 3.51E-03. Sample per second: 7861\n",
      "SLIM_BPR_Recommender: Epoch 197 of 200. Elapsed time 12.88 sec\n",
      "Processed 7947 ( 100.00% ) in 0.08 seconds. BPR loss is 3.74E-03. Sample per second: 95985\n",
      "SLIM_BPR_Recommender: Epoch 198 of 200. Elapsed time 12.94 sec\n",
      "Processed 7947 ( 100.00% ) in 0.15 seconds. BPR loss is 3.47E-03. Sample per second: 53319\n",
      "SLIM_BPR_Recommender: Epoch 199 of 200. Elapsed time 13.01 sec\n",
      "Processed 7947 ( 100.00% ) in 0.21 seconds. BPR loss is 3.42E-03. Sample per second: 38438\n",
      "SLIM_BPR_Recommender: Epoch 200 of 200. Elapsed time 13.06 sec\n",
      "SLIM_BPR_Recommender: Terminating at epoch 200. Elapsed time 51.09 sec\n",
      "Deallocating Cython objects\n"
     ]
    }
   ],
   "source": [
    "from SLIM_BPR.Cython.SLIM_BPR_Cython import SLIM_BPR_Cython\n",
    "\n",
    "recommender_slim_bpr = SLIM_BPR_Cython(URM_all, recompile_cython=False)\n",
    "recommender_slim_bpr.fit(epochs=200, batch_size=1000, sgd_mode='adagrad', learning_rate=0.001, positive_threshold_BPR=1, topK=400)"
   ]
  },
  {
   "cell_type": "code",
   "execution_count": 139,
   "metadata": {},
   "outputs": [],
   "source": [
    "# userei un CF per warm \n",
    "# CBF per i cold "
   ]
  },
  {
   "cell_type": "code",
   "execution_count": 140,
   "metadata": {},
   "outputs": [
    {
     "output_type": "execute_result",
     "data": {
      "text/plain": [
       "      col  data\n",
       "row            \n",
       "0       2     2\n",
       "1       6     6\n",
       "2       2     2\n",
       "3       2     2\n",
       "4       7     7\n",
       "...   ...   ...\n",
       "7942    5     5\n",
       "7943    3     3\n",
       "7944  156   156\n",
       "7945    4     4\n",
       "7946    2     2\n",
       "\n",
       "[7947 rows x 2 columns]"
      ],
      "text/html": "<div>\n<style scoped>\n    .dataframe tbody tr th:only-of-type {\n        vertical-align: middle;\n    }\n\n    .dataframe tbody tr th {\n        vertical-align: top;\n    }\n\n    .dataframe thead th {\n        text-align: right;\n    }\n</style>\n<table border=\"1\" class=\"dataframe\">\n  <thead>\n    <tr style=\"text-align: right;\">\n      <th></th>\n      <th>col</th>\n      <th>data</th>\n    </tr>\n    <tr>\n      <th>row</th>\n      <th></th>\n      <th></th>\n    </tr>\n  </thead>\n  <tbody>\n    <tr>\n      <th>0</th>\n      <td>2</td>\n      <td>2</td>\n    </tr>\n    <tr>\n      <th>1</th>\n      <td>6</td>\n      <td>6</td>\n    </tr>\n    <tr>\n      <th>2</th>\n      <td>2</td>\n      <td>2</td>\n    </tr>\n    <tr>\n      <th>3</th>\n      <td>2</td>\n      <td>2</td>\n    </tr>\n    <tr>\n      <th>4</th>\n      <td>7</td>\n      <td>7</td>\n    </tr>\n    <tr>\n      <th>...</th>\n      <td>...</td>\n      <td>...</td>\n    </tr>\n    <tr>\n      <th>7942</th>\n      <td>5</td>\n      <td>5</td>\n    </tr>\n    <tr>\n      <th>7943</th>\n      <td>3</td>\n      <td>3</td>\n    </tr>\n    <tr>\n      <th>7944</th>\n      <td>156</td>\n      <td>156</td>\n    </tr>\n    <tr>\n      <th>7945</th>\n      <td>4</td>\n      <td>4</td>\n    </tr>\n    <tr>\n      <th>7946</th>\n      <td>2</td>\n      <td>2</td>\n    </tr>\n  </tbody>\n</table>\n<p>7947 rows × 2 columns</p>\n</div>"
     },
     "metadata": {},
     "execution_count": 140
    }
   ],
   "source": [
    "grouped_users = dataset.groupby(['row']).count()\n",
    "grouped_users"
   ]
  },
  {
   "cell_type": "code",
   "execution_count": 141,
   "metadata": {},
   "outputs": [
    {
     "output_type": "execute_result",
     "data": {
      "text/plain": [
       "array([6012, 3608, 3171, ..., 1863, 2282, 7382])"
      ]
     },
     "metadata": {},
     "execution_count": 141
    }
   ],
   "source": [
    "sorted_users = grouped_users.sort_values(by=['col'], ascending=True)\n",
    "sorted_users = sorted_users.index.to_numpy()\n",
    "sorted_users"
   ]
  },
  {
   "cell_type": "code",
   "execution_count": 142,
   "metadata": {},
   "outputs": [
    {
     "output_type": "execute_result",
     "data": {
      "text/plain": [
       "397"
      ]
     },
     "metadata": {},
     "execution_count": 142
    }
   ],
   "source": [
    "block_size = int(len(sorted_users)*0.05)\n",
    "block_size"
   ]
  },
  {
   "cell_type": "code",
   "execution_count": 143,
   "metadata": {},
   "outputs": [
    {
     "output_type": "stream",
     "name": "stdout",
     "text": [
      "EvaluatorHoldout: Ignoring 7550 Users\n",
      "EvaluatorHoldout: Processed 98 ( 100.00% ) in 0.26 sec. Users per second: 377\n",
      "EvaluatorHoldout: Processed 98 ( 100.00% ) in 0.42 sec. Users per second: 233\n",
      "EvaluatorHoldout: Processed 98 ( 100.00% ) in 0.19 sec. Users per second: 525\n",
      "EvaluatorHoldout: Processed 98 ( 100.00% ) in 0.11 sec. Users per second: 932\n",
      "EvaluatorHoldout: Processed 98 ( 100.00% ) in 0.11 sec. Users per second: 869\n",
      "EvaluatorHoldout: Processed 98 ( 100.00% ) in 0.49 sec. Users per second: 199\n",
      "EvaluatorHoldout: Processed 98 ( 100.00% ) in 0.11 sec. Users per second: 928\n",
      "EvaluatorHoldout: Ignoring 7550 Users\n",
      "EvaluatorHoldout: Processed 100 ( 100.00% ) in 0.17 sec. Users per second: 593\n",
      "EvaluatorHoldout: Processed 100 ( 100.00% ) in 0.10 sec. Users per second: 999\n",
      "EvaluatorHoldout: Processed 100 ( 100.00% ) in 0.08 sec. Users per second: 1256\n",
      "EvaluatorHoldout: Processed 100 ( 100.00% ) in 0.09 sec. Users per second: 1128\n",
      "EvaluatorHoldout: Processed 100 ( 100.00% ) in 0.10 sec. Users per second: 1034\n",
      "EvaluatorHoldout: Processed 100 ( 100.00% ) in 0.43 sec. Users per second: 231\n",
      "EvaluatorHoldout: Processed 100 ( 100.00% ) in 0.09 sec. Users per second: 1067\n",
      "EvaluatorHoldout: Ignoring 7550 Users\n",
      "EvaluatorHoldout: Processed 137 ( 100.00% ) in 0.17 sec. Users per second: 815\n",
      "EvaluatorHoldout: Processed 137 ( 100.00% ) in 0.13 sec. Users per second: 1025\n",
      "EvaluatorHoldout: Processed 137 ( 100.00% ) in 0.13 sec. Users per second: 1093\n",
      "EvaluatorHoldout: Processed 137 ( 100.00% ) in 0.11 sec. Users per second: 1284\n",
      "EvaluatorHoldout: Processed 137 ( 100.00% ) in 0.14 sec. Users per second: 962\n",
      "EvaluatorHoldout: Processed 137 ( 100.00% ) in 0.56 sec. Users per second: 247\n",
      "EvaluatorHoldout: Processed 137 ( 100.00% ) in 0.13 sec. Users per second: 1030\n",
      "EvaluatorHoldout: Ignoring 7550 Users\n",
      "EvaluatorHoldout: Processed 153 ( 100.00% ) in 0.19 sec. Users per second: 791\n",
      "EvaluatorHoldout: Processed 153 ( 100.00% ) in 0.14 sec. Users per second: 1096\n",
      "EvaluatorHoldout: Processed 153 ( 100.00% ) in 0.17 sec. Users per second: 903\n",
      "EvaluatorHoldout: Processed 153 ( 100.00% ) in 0.20 sec. Users per second: 773\n",
      "EvaluatorHoldout: Processed 153 ( 100.00% ) in 0.18 sec. Users per second: 838\n",
      "EvaluatorHoldout: Processed 153 ( 100.00% ) in 0.62 sec. Users per second: 246\n",
      "EvaluatorHoldout: Processed 153 ( 100.00% ) in 0.17 sec. Users per second: 888\n",
      "EvaluatorHoldout: Ignoring 7550 Users\n",
      "EvaluatorHoldout: Processed 143 ( 100.00% ) in 0.18 sec. Users per second: 780\n",
      "EvaluatorHoldout: Processed 143 ( 100.00% ) in 0.11 sec. Users per second: 1260\n",
      "EvaluatorHoldout: Processed 143 ( 100.00% ) in 0.12 sec. Users per second: 1237\n",
      "EvaluatorHoldout: Processed 143 ( 100.00% ) in 0.11 sec. Users per second: 1257\n",
      "EvaluatorHoldout: Processed 143 ( 100.00% ) in 0.16 sec. Users per second: 885\n",
      "EvaluatorHoldout: Processed 143 ( 100.00% ) in 0.56 sec. Users per second: 254\n",
      "EvaluatorHoldout: Processed 143 ( 100.00% ) in 0.18 sec. Users per second: 785\n",
      "EvaluatorHoldout: Ignoring 7550 Users\n",
      "EvaluatorHoldout: Processed 161 ( 100.00% ) in 0.49 sec. Users per second: 329\n",
      "EvaluatorHoldout: Processed 161 ( 100.00% ) in 0.30 sec. Users per second: 536\n",
      "EvaluatorHoldout: Processed 161 ( 100.00% ) in 0.14 sec. Users per second: 1128\n",
      "EvaluatorHoldout: Processed 161 ( 100.00% ) in 0.13 sec. Users per second: 1250\n",
      "EvaluatorHoldout: Processed 161 ( 100.00% ) in 0.28 sec. Users per second: 578\n",
      "EvaluatorHoldout: Processed 161 ( 100.00% ) in 0.89 sec. Users per second: 181\n",
      "EvaluatorHoldout: Processed 161 ( 100.00% ) in 0.19 sec. Users per second: 827\n",
      "EvaluatorHoldout: Ignoring 7550 Users\n",
      "EvaluatorHoldout: Processed 172 ( 100.00% ) in 0.19 sec. Users per second: 908\n",
      "EvaluatorHoldout: Processed 172 ( 100.00% ) in 0.17 sec. Users per second: 1027\n",
      "EvaluatorHoldout: Processed 172 ( 100.00% ) in 0.17 sec. Users per second: 1025\n",
      "EvaluatorHoldout: Processed 172 ( 100.00% ) in 0.15 sec. Users per second: 1160\n",
      "EvaluatorHoldout: Processed 172 ( 100.00% ) in 0.16 sec. Users per second: 1073\n",
      "EvaluatorHoldout: Processed 172 ( 100.00% ) in 0.79 sec. Users per second: 217\n",
      "EvaluatorHoldout: Processed 172 ( 100.00% ) in 0.20 sec. Users per second: 846\n",
      "EvaluatorHoldout: Ignoring 7550 Users\n",
      "EvaluatorHoldout: Processed 193 ( 100.00% ) in 0.17 sec. Users per second: 1121\n",
      "EvaluatorHoldout: Processed 193 ( 100.00% ) in 0.13 sec. Users per second: 1460\n",
      "EvaluatorHoldout: Processed 193 ( 100.00% ) in 0.18 sec. Users per second: 1097\n",
      "EvaluatorHoldout: Processed 193 ( 100.00% ) in 0.23 sec. Users per second: 848\n",
      "EvaluatorHoldout: Processed 193 ( 100.00% ) in 0.43 sec. Users per second: 447\n",
      "EvaluatorHoldout: Processed 193 ( 100.00% ) in 2.02 sec. Users per second: 96\n",
      "EvaluatorHoldout: Processed 193 ( 100.00% ) in 0.43 sec. Users per second: 452\n",
      "EvaluatorHoldout: Ignoring 7550 Users\n",
      "EvaluatorHoldout: Processed 212 ( 100.00% ) in 0.27 sec. Users per second: 791\n",
      "EvaluatorHoldout: Processed 212 ( 100.00% ) in 0.23 sec. Users per second: 925\n",
      "EvaluatorHoldout: Processed 212 ( 100.00% ) in 0.23 sec. Users per second: 916\n",
      "EvaluatorHoldout: Processed 212 ( 100.00% ) in 0.20 sec. Users per second: 1069\n",
      "EvaluatorHoldout: Processed 212 ( 100.00% ) in 0.28 sec. Users per second: 755\n",
      "EvaluatorHoldout: Processed 212 ( 100.00% ) in 0.86 sec. Users per second: 247\n",
      "EvaluatorHoldout: Processed 212 ( 100.00% ) in 0.24 sec. Users per second: 892\n",
      "EvaluatorHoldout: Ignoring 7550 Users\n",
      "EvaluatorHoldout: Processed 221 ( 100.00% ) in 0.31 sec. Users per second: 723\n",
      "EvaluatorHoldout: Processed 221 ( 100.00% ) in 0.23 sec. Users per second: 977\n",
      "EvaluatorHoldout: Processed 221 ( 100.00% ) in 0.23 sec. Users per second: 942\n",
      "EvaluatorHoldout: Processed 221 ( 100.00% ) in 0.19 sec. Users per second: 1149\n",
      "EvaluatorHoldout: Processed 221 ( 100.00% ) in 0.24 sec. Users per second: 930\n",
      "EvaluatorHoldout: Processed 221 ( 100.00% ) in 0.68 sec. Users per second: 324\n",
      "EvaluatorHoldout: Processed 221 ( 100.00% ) in 0.22 sec. Users per second: 991\n"
     ]
    }
   ],
   "source": [
    "\n",
    "MAP_p3aplha_rp3beta_per_group = []\n",
    "MAP_user_cf_cold_per_group = []\n",
    "MAP_item_cf_cold_per_group = []\n",
    "MAP_item_cbf_per_group = []\n",
    "MAP_top_pop_per_group = []\n",
    "MAP_pure_svd_per_group = []\n",
    "MAP_slim_bpr_per_group = []\n",
    "cutoff = 10\n",
    "\n",
    "for group_id in range(0, 10):\n",
    "    \n",
    "    start_pos = group_id*block_size\n",
    "    end_pos = min((group_id+1)*block_size, len(sorted_users))\n",
    "    \n",
    "    users_in_group = sorted_users[start_pos:end_pos]\n",
    "    \n",
    "    users_not_in_group_flag = np.isin(sorted_users, users_in_group, invert = True)\n",
    "    users_not_in_group = sorted_users[users_not_in_group_flag]\n",
    "    \n",
    "    evaluator_p3_rp3 = EvaluatorHoldout(URM_validation, cutoff_list=[cutoff], ignore_users = users_not_in_group)\n",
    "    \n",
    "    results, _ = evaluator_p3_rp3.evaluateRecommender(hybridrecommender)\n",
    "    MAP_p3aplha_rp3beta_per_group.append(results[cutoff][\"MAP\"])\n",
    "\n",
    "    results, _ = evaluator_p3_rp3.evaluateRecommender(recommender_cold)\n",
    "    MAP_user_cf_cold_per_group.append(results[cutoff][\"MAP\"])\n",
    "\n",
    "    results, _ = evaluator_p3_rp3.evaluateRecommender(recommender_item_cf)\n",
    "    MAP_item_cf_cold_per_group.append(results[cutoff][\"MAP\"])\n",
    "\n",
    "    results, _ = evaluator_p3_rp3.evaluateRecommender(recommeder_KNNItemCBF)\n",
    "    MAP_item_cbf_per_group.append(results[cutoff][\"MAP\"])\n",
    "\n",
    "    results, _ = evaluator_p3_rp3.evaluateRecommender(recommender_top_popular)\n",
    "    MAP_top_pop_per_group.append(results[cutoff][\"MAP\"])\n",
    "\n",
    "    results, _ = evaluator_p3_rp3.evaluateRecommender(recommender_pure_svd)\n",
    "    MAP_pure_svd_per_group.append(results[cutoff][\"MAP\"])\n",
    "\n",
    "    results, _ = evaluator_p3_rp3.evaluateRecommender(recommender_slim_bpr)\n",
    "    MAP_slim_bpr_per_group.append(results[cutoff][\"MAP\"])"
   ]
  },
  {
   "cell_type": "code",
   "execution_count": 144,
   "metadata": {},
   "outputs": [
    {
     "output_type": "display_data",
     "data": {
      "text/plain": "<Figure size 432x288 with 1 Axes>",
      "image/svg+xml": "<?xml version=\"1.0\" encoding=\"utf-8\" standalone=\"no\"?>\n<!DOCTYPE svg PUBLIC \"-//W3C//DTD SVG 1.1//EN\"\n  \"http://www.w3.org/Graphics/SVG/1.1/DTD/svg11.dtd\">\n<!-- Created with matplotlib (https://matplotlib.org/) -->\n<svg height=\"262.19625pt\" version=\"1.1\" viewBox=\"0 0 392.14375 262.19625\" width=\"392.14375pt\" xmlns=\"http://www.w3.org/2000/svg\" xmlns:xlink=\"http://www.w3.org/1999/xlink\">\n <metadata>\n  <rdf:RDF xmlns:cc=\"http://creativecommons.org/ns#\" xmlns:dc=\"http://purl.org/dc/elements/1.1/\" xmlns:rdf=\"http://www.w3.org/1999/02/22-rdf-syntax-ns#\">\n   <cc:Work>\n    <dc:type rdf:resource=\"http://purl.org/dc/dcmitype/StillImage\"/>\n    <dc:date>2020-11-27T18:46:41.792470</dc:date>\n    <dc:format>image/svg+xml</dc:format>\n    <dc:creator>\n     <cc:Agent>\n      <dc:title>Matplotlib v3.3.3, https://matplotlib.org/</dc:title>\n     </cc:Agent>\n    </dc:creator>\n   </cc:Work>\n  </rdf:RDF>\n </metadata>\n <defs>\n  <style type=\"text/css\">*{stroke-linecap:butt;stroke-linejoin:round;}</style>\n </defs>\n <g id=\"figure_1\">\n  <g id=\"patch_1\">\n   <path d=\"M 0 262.19625 \nL 392.14375 262.19625 \nL 392.14375 0 \nL 0 0 \nz\n\" style=\"fill:none;\"/>\n  </g>\n  <g id=\"axes_1\">\n   <g id=\"patch_2\">\n    <path d=\"M 50.14375 224.64 \nL 384.94375 224.64 \nL 384.94375 7.2 \nL 50.14375 7.2 \nz\n\" style=\"fill:#ffffff;\"/>\n   </g>\n   <g id=\"matplotlib.axis_1\">\n    <g id=\"xtick_1\">\n     <g id=\"line2d_1\">\n      <defs>\n       <path d=\"M 0 0 \nL 0 3.5 \n\" id=\"m4b18cf0917\" style=\"stroke:#000000;stroke-width:0.8;\"/>\n      </defs>\n      <g>\n       <use style=\"stroke:#000000;stroke-width:0.8;\" x=\"65.361932\" xlink:href=\"#m4b18cf0917\" y=\"224.64\"/>\n      </g>\n     </g>\n     <g id=\"text_1\">\n      <!-- 0 -->\n      <g transform=\"translate(62.180682 239.238437)scale(0.1 -0.1)\">\n       <defs>\n        <path d=\"M 31.78125 66.40625 \nQ 24.171875 66.40625 20.328125 58.90625 \nQ 16.5 51.421875 16.5 36.375 \nQ 16.5 21.390625 20.328125 13.890625 \nQ 24.171875 6.390625 31.78125 6.390625 \nQ 39.453125 6.390625 43.28125 13.890625 \nQ 47.125 21.390625 47.125 36.375 \nQ 47.125 51.421875 43.28125 58.90625 \nQ 39.453125 66.40625 31.78125 66.40625 \nz\nM 31.78125 74.21875 \nQ 44.046875 74.21875 50.515625 64.515625 \nQ 56.984375 54.828125 56.984375 36.375 \nQ 56.984375 17.96875 50.515625 8.265625 \nQ 44.046875 -1.421875 31.78125 -1.421875 \nQ 19.53125 -1.421875 13.0625 8.265625 \nQ 6.59375 17.96875 6.59375 36.375 \nQ 6.59375 54.828125 13.0625 64.515625 \nQ 19.53125 74.21875 31.78125 74.21875 \nz\n\" id=\"DejaVuSans-48\"/>\n       </defs>\n       <use xlink:href=\"#DejaVuSans-48\"/>\n      </g>\n     </g>\n    </g>\n    <g id=\"xtick_2\">\n     <g id=\"line2d_2\">\n      <g>\n       <use style=\"stroke:#000000;stroke-width:0.8;\" x=\"132.998295\" xlink:href=\"#m4b18cf0917\" y=\"224.64\"/>\n      </g>\n     </g>\n     <g id=\"text_2\">\n      <!-- 2 -->\n      <g transform=\"translate(129.817045 239.238437)scale(0.1 -0.1)\">\n       <defs>\n        <path d=\"M 19.1875 8.296875 \nL 53.609375 8.296875 \nL 53.609375 0 \nL 7.328125 0 \nL 7.328125 8.296875 \nQ 12.9375 14.109375 22.625 23.890625 \nQ 32.328125 33.6875 34.8125 36.53125 \nQ 39.546875 41.84375 41.421875 45.53125 \nQ 43.3125 49.21875 43.3125 52.78125 \nQ 43.3125 58.59375 39.234375 62.25 \nQ 35.15625 65.921875 28.609375 65.921875 \nQ 23.96875 65.921875 18.8125 64.3125 \nQ 13.671875 62.703125 7.8125 59.421875 \nL 7.8125 69.390625 \nQ 13.765625 71.78125 18.9375 73 \nQ 24.125 74.21875 28.421875 74.21875 \nQ 39.75 74.21875 46.484375 68.546875 \nQ 53.21875 62.890625 53.21875 53.421875 \nQ 53.21875 48.921875 51.53125 44.890625 \nQ 49.859375 40.875 45.40625 35.40625 \nQ 44.1875 33.984375 37.640625 27.21875 \nQ 31.109375 20.453125 19.1875 8.296875 \nz\n\" id=\"DejaVuSans-50\"/>\n       </defs>\n       <use xlink:href=\"#DejaVuSans-50\"/>\n      </g>\n     </g>\n    </g>\n    <g id=\"xtick_3\">\n     <g id=\"line2d_3\">\n      <g>\n       <use style=\"stroke:#000000;stroke-width:0.8;\" x=\"200.634659\" xlink:href=\"#m4b18cf0917\" y=\"224.64\"/>\n      </g>\n     </g>\n     <g id=\"text_3\">\n      <!-- 4 -->\n      <g transform=\"translate(197.453409 239.238437)scale(0.1 -0.1)\">\n       <defs>\n        <path d=\"M 37.796875 64.3125 \nL 12.890625 25.390625 \nL 37.796875 25.390625 \nz\nM 35.203125 72.90625 \nL 47.609375 72.90625 \nL 47.609375 25.390625 \nL 58.015625 25.390625 \nL 58.015625 17.1875 \nL 47.609375 17.1875 \nL 47.609375 0 \nL 37.796875 0 \nL 37.796875 17.1875 \nL 4.890625 17.1875 \nL 4.890625 26.703125 \nz\n\" id=\"DejaVuSans-52\"/>\n       </defs>\n       <use xlink:href=\"#DejaVuSans-52\"/>\n      </g>\n     </g>\n    </g>\n    <g id=\"xtick_4\">\n     <g id=\"line2d_4\">\n      <g>\n       <use style=\"stroke:#000000;stroke-width:0.8;\" x=\"268.271023\" xlink:href=\"#m4b18cf0917\" y=\"224.64\"/>\n      </g>\n     </g>\n     <g id=\"text_4\">\n      <!-- 6 -->\n      <g transform=\"translate(265.089773 239.238437)scale(0.1 -0.1)\">\n       <defs>\n        <path d=\"M 33.015625 40.375 \nQ 26.375 40.375 22.484375 35.828125 \nQ 18.609375 31.296875 18.609375 23.390625 \nQ 18.609375 15.53125 22.484375 10.953125 \nQ 26.375 6.390625 33.015625 6.390625 \nQ 39.65625 6.390625 43.53125 10.953125 \nQ 47.40625 15.53125 47.40625 23.390625 \nQ 47.40625 31.296875 43.53125 35.828125 \nQ 39.65625 40.375 33.015625 40.375 \nz\nM 52.59375 71.296875 \nL 52.59375 62.3125 \nQ 48.875 64.0625 45.09375 64.984375 \nQ 41.3125 65.921875 37.59375 65.921875 \nQ 27.828125 65.921875 22.671875 59.328125 \nQ 17.53125 52.734375 16.796875 39.40625 \nQ 19.671875 43.65625 24.015625 45.921875 \nQ 28.375 48.1875 33.59375 48.1875 \nQ 44.578125 48.1875 50.953125 41.515625 \nQ 57.328125 34.859375 57.328125 23.390625 \nQ 57.328125 12.15625 50.6875 5.359375 \nQ 44.046875 -1.421875 33.015625 -1.421875 \nQ 20.359375 -1.421875 13.671875 8.265625 \nQ 6.984375 17.96875 6.984375 36.375 \nQ 6.984375 53.65625 15.1875 63.9375 \nQ 23.390625 74.21875 37.203125 74.21875 \nQ 40.921875 74.21875 44.703125 73.484375 \nQ 48.484375 72.75 52.59375 71.296875 \nz\n\" id=\"DejaVuSans-54\"/>\n       </defs>\n       <use xlink:href=\"#DejaVuSans-54\"/>\n      </g>\n     </g>\n    </g>\n    <g id=\"xtick_5\">\n     <g id=\"line2d_5\">\n      <g>\n       <use style=\"stroke:#000000;stroke-width:0.8;\" x=\"335.907386\" xlink:href=\"#m4b18cf0917\" y=\"224.64\"/>\n      </g>\n     </g>\n     <g id=\"text_5\">\n      <!-- 8 -->\n      <g transform=\"translate(332.726136 239.238437)scale(0.1 -0.1)\">\n       <defs>\n        <path d=\"M 31.78125 34.625 \nQ 24.75 34.625 20.71875 30.859375 \nQ 16.703125 27.09375 16.703125 20.515625 \nQ 16.703125 13.921875 20.71875 10.15625 \nQ 24.75 6.390625 31.78125 6.390625 \nQ 38.8125 6.390625 42.859375 10.171875 \nQ 46.921875 13.96875 46.921875 20.515625 \nQ 46.921875 27.09375 42.890625 30.859375 \nQ 38.875 34.625 31.78125 34.625 \nz\nM 21.921875 38.8125 \nQ 15.578125 40.375 12.03125 44.71875 \nQ 8.5 49.078125 8.5 55.328125 \nQ 8.5 64.0625 14.71875 69.140625 \nQ 20.953125 74.21875 31.78125 74.21875 \nQ 42.671875 74.21875 48.875 69.140625 \nQ 55.078125 64.0625 55.078125 55.328125 \nQ 55.078125 49.078125 51.53125 44.71875 \nQ 48 40.375 41.703125 38.8125 \nQ 48.828125 37.15625 52.796875 32.3125 \nQ 56.78125 27.484375 56.78125 20.515625 \nQ 56.78125 9.90625 50.3125 4.234375 \nQ 43.84375 -1.421875 31.78125 -1.421875 \nQ 19.734375 -1.421875 13.25 4.234375 \nQ 6.78125 9.90625 6.78125 20.515625 \nQ 6.78125 27.484375 10.78125 32.3125 \nQ 14.796875 37.15625 21.921875 38.8125 \nz\nM 18.3125 54.390625 \nQ 18.3125 48.734375 21.84375 45.5625 \nQ 25.390625 42.390625 31.78125 42.390625 \nQ 38.140625 42.390625 41.71875 45.5625 \nQ 45.3125 48.734375 45.3125 54.390625 \nQ 45.3125 60.0625 41.71875 63.234375 \nQ 38.140625 66.40625 31.78125 66.40625 \nQ 25.390625 66.40625 21.84375 63.234375 \nQ 18.3125 60.0625 18.3125 54.390625 \nz\n\" id=\"DejaVuSans-56\"/>\n       </defs>\n       <use xlink:href=\"#DejaVuSans-56\"/>\n      </g>\n     </g>\n    </g>\n    <g id=\"text_6\">\n     <!-- User Group -->\n     <g transform=\"translate(189.339063 252.916562)scale(0.1 -0.1)\">\n      <defs>\n       <path d=\"M 8.6875 72.90625 \nL 18.609375 72.90625 \nL 18.609375 28.609375 \nQ 18.609375 16.890625 22.84375 11.734375 \nQ 27.09375 6.59375 36.625 6.59375 \nQ 46.09375 6.59375 50.34375 11.734375 \nQ 54.59375 16.890625 54.59375 28.609375 \nL 54.59375 72.90625 \nL 64.5 72.90625 \nL 64.5 27.390625 \nQ 64.5 13.140625 57.4375 5.859375 \nQ 50.390625 -1.421875 36.625 -1.421875 \nQ 22.796875 -1.421875 15.734375 5.859375 \nQ 8.6875 13.140625 8.6875 27.390625 \nz\n\" id=\"DejaVuSans-85\"/>\n       <path d=\"M 44.28125 53.078125 \nL 44.28125 44.578125 \nQ 40.484375 46.53125 36.375 47.5 \nQ 32.28125 48.484375 27.875 48.484375 \nQ 21.1875 48.484375 17.84375 46.4375 \nQ 14.5 44.390625 14.5 40.28125 \nQ 14.5 37.15625 16.890625 35.375 \nQ 19.28125 33.59375 26.515625 31.984375 \nL 29.59375 31.296875 \nQ 39.15625 29.25 43.1875 25.515625 \nQ 47.21875 21.78125 47.21875 15.09375 \nQ 47.21875 7.46875 41.1875 3.015625 \nQ 35.15625 -1.421875 24.609375 -1.421875 \nQ 20.21875 -1.421875 15.453125 -0.5625 \nQ 10.6875 0.296875 5.421875 2 \nL 5.421875 11.28125 \nQ 10.40625 8.6875 15.234375 7.390625 \nQ 20.0625 6.109375 24.8125 6.109375 \nQ 31.15625 6.109375 34.5625 8.28125 \nQ 37.984375 10.453125 37.984375 14.40625 \nQ 37.984375 18.0625 35.515625 20.015625 \nQ 33.0625 21.96875 24.703125 23.78125 \nL 21.578125 24.515625 \nQ 13.234375 26.265625 9.515625 29.90625 \nQ 5.8125 33.546875 5.8125 39.890625 \nQ 5.8125 47.609375 11.28125 51.796875 \nQ 16.75 56 26.8125 56 \nQ 31.78125 56 36.171875 55.265625 \nQ 40.578125 54.546875 44.28125 53.078125 \nz\n\" id=\"DejaVuSans-115\"/>\n       <path d=\"M 56.203125 29.59375 \nL 56.203125 25.203125 \nL 14.890625 25.203125 \nQ 15.484375 15.921875 20.484375 11.0625 \nQ 25.484375 6.203125 34.421875 6.203125 \nQ 39.59375 6.203125 44.453125 7.46875 \nQ 49.3125 8.734375 54.109375 11.28125 \nL 54.109375 2.78125 \nQ 49.265625 0.734375 44.1875 -0.34375 \nQ 39.109375 -1.421875 33.890625 -1.421875 \nQ 20.796875 -1.421875 13.15625 6.1875 \nQ 5.515625 13.8125 5.515625 26.8125 \nQ 5.515625 40.234375 12.765625 48.109375 \nQ 20.015625 56 32.328125 56 \nQ 43.359375 56 49.78125 48.890625 \nQ 56.203125 41.796875 56.203125 29.59375 \nz\nM 47.21875 32.234375 \nQ 47.125 39.59375 43.09375 43.984375 \nQ 39.0625 48.390625 32.421875 48.390625 \nQ 24.90625 48.390625 20.390625 44.140625 \nQ 15.875 39.890625 15.1875 32.171875 \nz\n\" id=\"DejaVuSans-101\"/>\n       <path d=\"M 41.109375 46.296875 \nQ 39.59375 47.171875 37.8125 47.578125 \nQ 36.03125 48 33.890625 48 \nQ 26.265625 48 22.1875 43.046875 \nQ 18.109375 38.09375 18.109375 28.8125 \nL 18.109375 0 \nL 9.078125 0 \nL 9.078125 54.6875 \nL 18.109375 54.6875 \nL 18.109375 46.1875 \nQ 20.953125 51.171875 25.484375 53.578125 \nQ 30.03125 56 36.53125 56 \nQ 37.453125 56 38.578125 55.875 \nQ 39.703125 55.765625 41.0625 55.515625 \nz\n\" id=\"DejaVuSans-114\"/>\n       <path id=\"DejaVuSans-32\"/>\n       <path d=\"M 59.515625 10.40625 \nL 59.515625 29.984375 \nL 43.40625 29.984375 \nL 43.40625 38.09375 \nL 69.28125 38.09375 \nL 69.28125 6.78125 \nQ 63.578125 2.734375 56.6875 0.65625 \nQ 49.8125 -1.421875 42 -1.421875 \nQ 24.90625 -1.421875 15.25 8.5625 \nQ 5.609375 18.5625 5.609375 36.375 \nQ 5.609375 54.25 15.25 64.234375 \nQ 24.90625 74.21875 42 74.21875 \nQ 49.125 74.21875 55.546875 72.453125 \nQ 61.96875 70.703125 67.390625 67.28125 \nL 67.390625 56.78125 \nQ 61.921875 61.421875 55.765625 63.765625 \nQ 49.609375 66.109375 42.828125 66.109375 \nQ 29.4375 66.109375 22.71875 58.640625 \nQ 16.015625 51.171875 16.015625 36.375 \nQ 16.015625 21.625 22.71875 14.15625 \nQ 29.4375 6.6875 42.828125 6.6875 \nQ 48.046875 6.6875 52.140625 7.59375 \nQ 56.25 8.5 59.515625 10.40625 \nz\n\" id=\"DejaVuSans-71\"/>\n       <path d=\"M 30.609375 48.390625 \nQ 23.390625 48.390625 19.1875 42.75 \nQ 14.984375 37.109375 14.984375 27.296875 \nQ 14.984375 17.484375 19.15625 11.84375 \nQ 23.34375 6.203125 30.609375 6.203125 \nQ 37.796875 6.203125 41.984375 11.859375 \nQ 46.1875 17.53125 46.1875 27.296875 \nQ 46.1875 37.015625 41.984375 42.703125 \nQ 37.796875 48.390625 30.609375 48.390625 \nz\nM 30.609375 56 \nQ 42.328125 56 49.015625 48.375 \nQ 55.71875 40.765625 55.71875 27.296875 \nQ 55.71875 13.875 49.015625 6.21875 \nQ 42.328125 -1.421875 30.609375 -1.421875 \nQ 18.84375 -1.421875 12.171875 6.21875 \nQ 5.515625 13.875 5.515625 27.296875 \nQ 5.515625 40.765625 12.171875 48.375 \nQ 18.84375 56 30.609375 56 \nz\n\" id=\"DejaVuSans-111\"/>\n       <path d=\"M 8.5 21.578125 \nL 8.5 54.6875 \nL 17.484375 54.6875 \nL 17.484375 21.921875 \nQ 17.484375 14.15625 20.5 10.265625 \nQ 23.53125 6.390625 29.59375 6.390625 \nQ 36.859375 6.390625 41.078125 11.03125 \nQ 45.3125 15.671875 45.3125 23.6875 \nL 45.3125 54.6875 \nL 54.296875 54.6875 \nL 54.296875 0 \nL 45.3125 0 \nL 45.3125 8.40625 \nQ 42.046875 3.421875 37.71875 1 \nQ 33.40625 -1.421875 27.6875 -1.421875 \nQ 18.265625 -1.421875 13.375 4.4375 \nQ 8.5 10.296875 8.5 21.578125 \nz\nM 31.109375 56 \nz\n\" id=\"DejaVuSans-117\"/>\n       <path d=\"M 18.109375 8.203125 \nL 18.109375 -20.796875 \nL 9.078125 -20.796875 \nL 9.078125 54.6875 \nL 18.109375 54.6875 \nL 18.109375 46.390625 \nQ 20.953125 51.265625 25.265625 53.625 \nQ 29.59375 56 35.59375 56 \nQ 45.5625 56 51.78125 48.09375 \nQ 58.015625 40.1875 58.015625 27.296875 \nQ 58.015625 14.40625 51.78125 6.484375 \nQ 45.5625 -1.421875 35.59375 -1.421875 \nQ 29.59375 -1.421875 25.265625 0.953125 \nQ 20.953125 3.328125 18.109375 8.203125 \nz\nM 48.6875 27.296875 \nQ 48.6875 37.203125 44.609375 42.84375 \nQ 40.53125 48.484375 33.40625 48.484375 \nQ 26.265625 48.484375 22.1875 42.84375 \nQ 18.109375 37.203125 18.109375 27.296875 \nQ 18.109375 17.390625 22.1875 11.75 \nQ 26.265625 6.109375 33.40625 6.109375 \nQ 40.53125 6.109375 44.609375 11.75 \nQ 48.6875 17.390625 48.6875 27.296875 \nz\n\" id=\"DejaVuSans-112\"/>\n      </defs>\n      <use xlink:href=\"#DejaVuSans-85\"/>\n      <use x=\"73.193359\" xlink:href=\"#DejaVuSans-115\"/>\n      <use x=\"125.292969\" xlink:href=\"#DejaVuSans-101\"/>\n      <use x=\"186.816406\" xlink:href=\"#DejaVuSans-114\"/>\n      <use x=\"227.929688\" xlink:href=\"#DejaVuSans-32\"/>\n      <use x=\"259.716797\" xlink:href=\"#DejaVuSans-71\"/>\n      <use x=\"337.207031\" xlink:href=\"#DejaVuSans-114\"/>\n      <use x=\"376.070312\" xlink:href=\"#DejaVuSans-111\"/>\n      <use x=\"437.251953\" xlink:href=\"#DejaVuSans-117\"/>\n      <use x=\"500.630859\" xlink:href=\"#DejaVuSans-112\"/>\n     </g>\n    </g>\n   </g>\n   <g id=\"matplotlib.axis_2\">\n    <g id=\"ytick_1\">\n     <g id=\"line2d_6\">\n      <defs>\n       <path d=\"M 0 0 \nL -3.5 0 \n\" id=\"m86ace226d2\" style=\"stroke:#000000;stroke-width:0.8;\"/>\n      </defs>\n      <g>\n       <use style=\"stroke:#000000;stroke-width:0.8;\" x=\"50.14375\" xlink:href=\"#m86ace226d2\" y=\"214.756364\"/>\n      </g>\n     </g>\n     <g id=\"text_7\">\n      <!-- 0.00 -->\n      <g transform=\"translate(20.878125 218.555582)scale(0.1 -0.1)\">\n       <defs>\n        <path d=\"M 10.6875 12.40625 \nL 21 12.40625 \nL 21 0 \nL 10.6875 0 \nz\n\" id=\"DejaVuSans-46\"/>\n       </defs>\n       <use xlink:href=\"#DejaVuSans-48\"/>\n       <use x=\"63.623047\" xlink:href=\"#DejaVuSans-46\"/>\n       <use x=\"95.410156\" xlink:href=\"#DejaVuSans-48\"/>\n       <use x=\"159.033203\" xlink:href=\"#DejaVuSans-48\"/>\n      </g>\n     </g>\n    </g>\n    <g id=\"ytick_2\">\n     <g id=\"line2d_7\">\n      <g>\n       <use style=\"stroke:#000000;stroke-width:0.8;\" x=\"50.14375\" xlink:href=\"#m86ace226d2\" y=\"172.926308\"/>\n      </g>\n     </g>\n     <g id=\"text_8\">\n      <!-- 0.02 -->\n      <g transform=\"translate(20.878125 176.725527)scale(0.1 -0.1)\">\n       <use xlink:href=\"#DejaVuSans-48\"/>\n       <use x=\"63.623047\" xlink:href=\"#DejaVuSans-46\"/>\n       <use x=\"95.410156\" xlink:href=\"#DejaVuSans-48\"/>\n       <use x=\"159.033203\" xlink:href=\"#DejaVuSans-50\"/>\n      </g>\n     </g>\n    </g>\n    <g id=\"ytick_3\">\n     <g id=\"line2d_8\">\n      <g>\n       <use style=\"stroke:#000000;stroke-width:0.8;\" x=\"50.14375\" xlink:href=\"#m86ace226d2\" y=\"131.096253\"/>\n      </g>\n     </g>\n     <g id=\"text_9\">\n      <!-- 0.04 -->\n      <g transform=\"translate(20.878125 134.895472)scale(0.1 -0.1)\">\n       <use xlink:href=\"#DejaVuSans-48\"/>\n       <use x=\"63.623047\" xlink:href=\"#DejaVuSans-46\"/>\n       <use x=\"95.410156\" xlink:href=\"#DejaVuSans-48\"/>\n       <use x=\"159.033203\" xlink:href=\"#DejaVuSans-52\"/>\n      </g>\n     </g>\n    </g>\n    <g id=\"ytick_4\">\n     <g id=\"line2d_9\">\n      <g>\n       <use style=\"stroke:#000000;stroke-width:0.8;\" x=\"50.14375\" xlink:href=\"#m86ace226d2\" y=\"89.266198\"/>\n      </g>\n     </g>\n     <g id=\"text_10\">\n      <!-- 0.06 -->\n      <g transform=\"translate(20.878125 93.065416)scale(0.1 -0.1)\">\n       <use xlink:href=\"#DejaVuSans-48\"/>\n       <use x=\"63.623047\" xlink:href=\"#DejaVuSans-46\"/>\n       <use x=\"95.410156\" xlink:href=\"#DejaVuSans-48\"/>\n       <use x=\"159.033203\" xlink:href=\"#DejaVuSans-54\"/>\n      </g>\n     </g>\n    </g>\n    <g id=\"ytick_5\">\n     <g id=\"line2d_10\">\n      <g>\n       <use style=\"stroke:#000000;stroke-width:0.8;\" x=\"50.14375\" xlink:href=\"#m86ace226d2\" y=\"47.436142\"/>\n      </g>\n     </g>\n     <g id=\"text_11\">\n      <!-- 0.08 -->\n      <g transform=\"translate(20.878125 51.235361)scale(0.1 -0.1)\">\n       <use xlink:href=\"#DejaVuSans-48\"/>\n       <use x=\"63.623047\" xlink:href=\"#DejaVuSans-46\"/>\n       <use x=\"95.410156\" xlink:href=\"#DejaVuSans-48\"/>\n       <use x=\"159.033203\" xlink:href=\"#DejaVuSans-56\"/>\n      </g>\n     </g>\n    </g>\n    <g id=\"text_12\">\n     <!-- MAP -->\n     <g transform=\"translate(14.798438 126.669219)rotate(-90)scale(0.1 -0.1)\">\n      <defs>\n       <path d=\"M 9.8125 72.90625 \nL 24.515625 72.90625 \nL 43.109375 23.296875 \nL 61.8125 72.90625 \nL 76.515625 72.90625 \nL 76.515625 0 \nL 66.890625 0 \nL 66.890625 64.015625 \nL 48.09375 14.015625 \nL 38.1875 14.015625 \nL 19.390625 64.015625 \nL 19.390625 0 \nL 9.8125 0 \nz\n\" id=\"DejaVuSans-77\"/>\n       <path d=\"M 34.1875 63.1875 \nL 20.796875 26.90625 \nL 47.609375 26.90625 \nz\nM 28.609375 72.90625 \nL 39.796875 72.90625 \nL 67.578125 0 \nL 57.328125 0 \nL 50.6875 18.703125 \nL 17.828125 18.703125 \nL 11.1875 0 \nL 0.78125 0 \nz\n\" id=\"DejaVuSans-65\"/>\n       <path d=\"M 19.671875 64.796875 \nL 19.671875 37.40625 \nL 32.078125 37.40625 \nQ 38.96875 37.40625 42.71875 40.96875 \nQ 46.484375 44.53125 46.484375 51.125 \nQ 46.484375 57.671875 42.71875 61.234375 \nQ 38.96875 64.796875 32.078125 64.796875 \nz\nM 9.8125 72.90625 \nL 32.078125 72.90625 \nQ 44.34375 72.90625 50.609375 67.359375 \nQ 56.890625 61.8125 56.890625 51.125 \nQ 56.890625 40.328125 50.609375 34.8125 \nQ 44.34375 29.296875 32.078125 29.296875 \nL 19.671875 29.296875 \nL 19.671875 0 \nL 9.8125 0 \nz\n\" id=\"DejaVuSans-80\"/>\n      </defs>\n      <use xlink:href=\"#DejaVuSans-77\"/>\n      <use x=\"86.279297\" xlink:href=\"#DejaVuSans-65\"/>\n      <use x=\"154.6875\" xlink:href=\"#DejaVuSans-80\"/>\n     </g>\n    </g>\n   </g>\n   <g id=\"line2d_11\">\n    <path clip-path=\"url(#padf41e357d)\" d=\"M 65.361932 85.079127 \nL 99.180114 31.517482 \nL 132.998295 30.692731 \nL 166.816477 89.508134 \nL 200.634659 96.428823 \nL 234.452841 75.936296 \nL 268.271023 45.972612 \nL 302.089205 17.083636 \nL 335.907386 43.506353 \nL 369.725568 85.657931 \n\" style=\"fill:none;stroke:#1f77b4;stroke-linecap:square;stroke-width:1.5;\"/>\n   </g>\n   <g id=\"line2d_12\">\n    <path clip-path=\"url(#padf41e357d)\" d=\"M 65.361932 160.309201 \nL 99.180114 92.353654 \nL 132.998295 78.503355 \nL 166.816477 125.125955 \nL 200.634659 109.452833 \nL 234.452841 102.098123 \nL 268.271023 80.823753 \nL 302.089205 109.686689 \nL 335.907386 82.913861 \nL 369.725568 102.474977 \n\" style=\"fill:none;stroke:#ff7f0e;stroke-linecap:square;stroke-width:1.5;\"/>\n   </g>\n   <g id=\"line2d_13\">\n    <path clip-path=\"url(#padf41e357d)\" d=\"M 65.361932 168.100676 \nL 99.180114 83.340273 \nL 132.998295 82.701627 \nL 166.816477 105.06313 \nL 200.634659 97.853687 \nL 234.452841 109.464675 \nL 268.271023 104.101275 \nL 302.089205 97.469485 \nL 335.907386 93.466507 \nL 369.725568 95.696333 \n\" style=\"fill:none;stroke:#2ca02c;stroke-linecap:square;stroke-width:1.5;\"/>\n   </g>\n   <g id=\"line2d_14\">\n    <path clip-path=\"url(#padf41e357d)\" d=\"M 65.361932 164.365849 \nL 99.180114 148.525443 \nL 132.998295 191.220597 \nL 166.816477 186.488854 \nL 200.634659 141.830034 \nL 234.452841 153.050537 \nL 268.271023 148.89024 \nL 302.089205 143.930123 \nL 335.907386 141.92464 \nL 369.725568 170.535569 \n\" style=\"fill:none;stroke:#d62728;stroke-linecap:square;stroke-width:1.5;\"/>\n   </g>\n   <g id=\"line2d_15\">\n    <path clip-path=\"url(#padf41e357d)\" d=\"M 65.361932 182.743566 \nL 99.180114 201.974958 \nL 132.998295 171.50144 \nL 166.816477 175.64511 \nL 200.634659 202.324354 \nL 234.452841 199.167523 \nL 268.271023 194.489864 \nL 302.089205 202.715473 \nL 335.907386 202.849158 \nL 369.725568 202.532271 \n\" style=\"fill:none;stroke:#9467bd;stroke-linecap:square;stroke-width:1.5;\"/>\n   </g>\n   <g id=\"line2d_16\">\n    <path clip-path=\"url(#padf41e357d)\" d=\"M 65.361932 179.339031 \nL 99.180114 176.412146 \nL 132.998295 177.18395 \nL 166.816477 182.95745 \nL 200.634659 156.461731 \nL 234.452841 173.456762 \nL 268.271023 165.812767 \nL 302.089205 148.342249 \nL 335.907386 144.460198 \nL 369.725568 119.859101 \n\" style=\"fill:none;stroke:#8c564b;stroke-linecap:square;stroke-width:1.5;\"/>\n   </g>\n   <g id=\"line2d_17\">\n    <path clip-path=\"url(#padf41e357d)\" d=\"M 65.361932 214.756364 \nL 99.180114 214.756364 \nL 132.998295 214.756364 \nL 166.816477 214.756364 \nL 200.634659 214.756364 \nL 234.452841 214.756364 \nL 268.271023 214.756364 \nL 302.089205 214.756364 \nL 335.907386 214.756364 \nL 369.725568 214.756364 \n\" style=\"fill:none;stroke:#e377c2;stroke-linecap:square;stroke-width:1.5;\"/>\n   </g>\n   <g id=\"patch_3\">\n    <path d=\"M 50.14375 224.64 \nL 50.14375 7.2 \n\" style=\"fill:none;stroke:#000000;stroke-linecap:square;stroke-linejoin:miter;stroke-width:0.8;\"/>\n   </g>\n   <g id=\"patch_4\">\n    <path d=\"M 384.94375 224.64 \nL 384.94375 7.2 \n\" style=\"fill:none;stroke:#000000;stroke-linecap:square;stroke-linejoin:miter;stroke-width:0.8;\"/>\n   </g>\n   <g id=\"patch_5\">\n    <path d=\"M 50.14375 224.64 \nL 384.94375 224.64 \n\" style=\"fill:none;stroke:#000000;stroke-linecap:square;stroke-linejoin:miter;stroke-width:0.8;\"/>\n   </g>\n   <g id=\"patch_6\">\n    <path d=\"M 50.14375 7.2 \nL 384.94375 7.2 \n\" style=\"fill:none;stroke:#000000;stroke-linecap:square;stroke-linejoin:miter;stroke-width:0.8;\"/>\n   </g>\n   <g id=\"legend_1\">\n    <g id=\"patch_7\">\n     <path d=\"M 57.14375 117.946875 \nL 182.335938 117.946875 \nQ 184.335938 117.946875 184.335938 115.946875 \nL 184.335938 14.2 \nQ 184.335938 12.2 182.335938 12.2 \nL 57.14375 12.2 \nQ 55.14375 12.2 55.14375 14.2 \nL 55.14375 115.946875 \nQ 55.14375 117.946875 57.14375 117.946875 \nz\n\" style=\"fill:#ffffff;opacity:0.8;stroke:#cccccc;stroke-linejoin:miter;\"/>\n    </g>\n    <g id=\"line2d_18\">\n     <path d=\"M 59.14375 20.298437 \nL 79.14375 20.298437 \n\" style=\"fill:none;stroke:#1f77b4;stroke-linecap:square;stroke-width:1.5;\"/>\n    </g>\n    <g id=\"line2d_19\"/>\n    <g id=\"text_13\">\n     <!-- P3Aplha - RP3Beta -->\n     <g transform=\"translate(87.14375 23.798437)scale(0.1 -0.1)\">\n      <defs>\n       <path d=\"M 40.578125 39.3125 \nQ 47.65625 37.796875 51.625 33 \nQ 55.609375 28.21875 55.609375 21.1875 \nQ 55.609375 10.40625 48.1875 4.484375 \nQ 40.765625 -1.421875 27.09375 -1.421875 \nQ 22.515625 -1.421875 17.65625 -0.515625 \nQ 12.796875 0.390625 7.625 2.203125 \nL 7.625 11.71875 \nQ 11.71875 9.328125 16.59375 8.109375 \nQ 21.484375 6.890625 26.8125 6.890625 \nQ 36.078125 6.890625 40.9375 10.546875 \nQ 45.796875 14.203125 45.796875 21.1875 \nQ 45.796875 27.640625 41.28125 31.265625 \nQ 36.765625 34.90625 28.71875 34.90625 \nL 20.21875 34.90625 \nL 20.21875 43.015625 \nL 29.109375 43.015625 \nQ 36.375 43.015625 40.234375 45.921875 \nQ 44.09375 48.828125 44.09375 54.296875 \nQ 44.09375 59.90625 40.109375 62.90625 \nQ 36.140625 65.921875 28.71875 65.921875 \nQ 24.65625 65.921875 20.015625 65.03125 \nQ 15.375 64.15625 9.8125 62.3125 \nL 9.8125 71.09375 \nQ 15.4375 72.65625 20.34375 73.4375 \nQ 25.25 74.21875 29.59375 74.21875 \nQ 40.828125 74.21875 47.359375 69.109375 \nQ 53.90625 64.015625 53.90625 55.328125 \nQ 53.90625 49.265625 50.4375 45.09375 \nQ 46.96875 40.921875 40.578125 39.3125 \nz\n\" id=\"DejaVuSans-51\"/>\n       <path d=\"M 9.421875 75.984375 \nL 18.40625 75.984375 \nL 18.40625 0 \nL 9.421875 0 \nz\n\" id=\"DejaVuSans-108\"/>\n       <path d=\"M 54.890625 33.015625 \nL 54.890625 0 \nL 45.90625 0 \nL 45.90625 32.71875 \nQ 45.90625 40.484375 42.875 44.328125 \nQ 39.84375 48.1875 33.796875 48.1875 \nQ 26.515625 48.1875 22.3125 43.546875 \nQ 18.109375 38.921875 18.109375 30.90625 \nL 18.109375 0 \nL 9.078125 0 \nL 9.078125 75.984375 \nL 18.109375 75.984375 \nL 18.109375 46.1875 \nQ 21.34375 51.125 25.703125 53.5625 \nQ 30.078125 56 35.796875 56 \nQ 45.21875 56 50.046875 50.171875 \nQ 54.890625 44.34375 54.890625 33.015625 \nz\n\" id=\"DejaVuSans-104\"/>\n       <path d=\"M 34.28125 27.484375 \nQ 23.390625 27.484375 19.1875 25 \nQ 14.984375 22.515625 14.984375 16.5 \nQ 14.984375 11.71875 18.140625 8.90625 \nQ 21.296875 6.109375 26.703125 6.109375 \nQ 34.1875 6.109375 38.703125 11.40625 \nQ 43.21875 16.703125 43.21875 25.484375 \nL 43.21875 27.484375 \nz\nM 52.203125 31.203125 \nL 52.203125 0 \nL 43.21875 0 \nL 43.21875 8.296875 \nQ 40.140625 3.328125 35.546875 0.953125 \nQ 30.953125 -1.421875 24.3125 -1.421875 \nQ 15.921875 -1.421875 10.953125 3.296875 \nQ 6 8.015625 6 15.921875 \nQ 6 25.140625 12.171875 29.828125 \nQ 18.359375 34.515625 30.609375 34.515625 \nL 43.21875 34.515625 \nL 43.21875 35.40625 \nQ 43.21875 41.609375 39.140625 45 \nQ 35.0625 48.390625 27.6875 48.390625 \nQ 23 48.390625 18.546875 47.265625 \nQ 14.109375 46.140625 10.015625 43.890625 \nL 10.015625 52.203125 \nQ 14.9375 54.109375 19.578125 55.046875 \nQ 24.21875 56 28.609375 56 \nQ 40.484375 56 46.34375 49.84375 \nQ 52.203125 43.703125 52.203125 31.203125 \nz\n\" id=\"DejaVuSans-97\"/>\n       <path d=\"M 4.890625 31.390625 \nL 31.203125 31.390625 \nL 31.203125 23.390625 \nL 4.890625 23.390625 \nz\n\" id=\"DejaVuSans-45\"/>\n       <path d=\"M 44.390625 34.1875 \nQ 47.5625 33.109375 50.5625 29.59375 \nQ 53.5625 26.078125 56.59375 19.921875 \nL 66.609375 0 \nL 56 0 \nL 46.6875 18.703125 \nQ 43.0625 26.03125 39.671875 28.421875 \nQ 36.28125 30.8125 30.421875 30.8125 \nL 19.671875 30.8125 \nL 19.671875 0 \nL 9.8125 0 \nL 9.8125 72.90625 \nL 32.078125 72.90625 \nQ 44.578125 72.90625 50.734375 67.671875 \nQ 56.890625 62.453125 56.890625 51.90625 \nQ 56.890625 45.015625 53.6875 40.46875 \nQ 50.484375 35.9375 44.390625 34.1875 \nz\nM 19.671875 64.796875 \nL 19.671875 38.921875 \nL 32.078125 38.921875 \nQ 39.203125 38.921875 42.84375 42.21875 \nQ 46.484375 45.515625 46.484375 51.90625 \nQ 46.484375 58.296875 42.84375 61.546875 \nQ 39.203125 64.796875 32.078125 64.796875 \nz\n\" id=\"DejaVuSans-82\"/>\n       <path d=\"M 19.671875 34.8125 \nL 19.671875 8.109375 \nL 35.5 8.109375 \nQ 43.453125 8.109375 47.28125 11.40625 \nQ 51.125 14.703125 51.125 21.484375 \nQ 51.125 28.328125 47.28125 31.5625 \nQ 43.453125 34.8125 35.5 34.8125 \nz\nM 19.671875 64.796875 \nL 19.671875 42.828125 \nL 34.28125 42.828125 \nQ 41.5 42.828125 45.03125 45.53125 \nQ 48.578125 48.25 48.578125 53.8125 \nQ 48.578125 59.328125 45.03125 62.0625 \nQ 41.5 64.796875 34.28125 64.796875 \nz\nM 9.8125 72.90625 \nL 35.015625 72.90625 \nQ 46.296875 72.90625 52.390625 68.21875 \nQ 58.5 63.53125 58.5 54.890625 \nQ 58.5 48.1875 55.375 44.234375 \nQ 52.25 40.28125 46.1875 39.3125 \nQ 53.46875 37.75 57.5 32.78125 \nQ 61.53125 27.828125 61.53125 20.40625 \nQ 61.53125 10.640625 54.890625 5.3125 \nQ 48.25 0 35.984375 0 \nL 9.8125 0 \nz\n\" id=\"DejaVuSans-66\"/>\n       <path d=\"M 18.3125 70.21875 \nL 18.3125 54.6875 \nL 36.8125 54.6875 \nL 36.8125 47.703125 \nL 18.3125 47.703125 \nL 18.3125 18.015625 \nQ 18.3125 11.328125 20.140625 9.421875 \nQ 21.96875 7.515625 27.59375 7.515625 \nL 36.8125 7.515625 \nL 36.8125 0 \nL 27.59375 0 \nQ 17.1875 0 13.234375 3.875 \nQ 9.28125 7.765625 9.28125 18.015625 \nL 9.28125 47.703125 \nL 2.6875 47.703125 \nL 2.6875 54.6875 \nL 9.28125 54.6875 \nL 9.28125 70.21875 \nz\n\" id=\"DejaVuSans-116\"/>\n      </defs>\n      <use xlink:href=\"#DejaVuSans-80\"/>\n      <use x=\"60.302734\" xlink:href=\"#DejaVuSans-51\"/>\n      <use x=\"123.925781\" xlink:href=\"#DejaVuSans-65\"/>\n      <use x=\"192.333984\" xlink:href=\"#DejaVuSans-112\"/>\n      <use x=\"255.810547\" xlink:href=\"#DejaVuSans-108\"/>\n      <use x=\"283.59375\" xlink:href=\"#DejaVuSans-104\"/>\n      <use x=\"346.972656\" xlink:href=\"#DejaVuSans-97\"/>\n      <use x=\"408.251953\" xlink:href=\"#DejaVuSans-32\"/>\n      <use x=\"440.039062\" xlink:href=\"#DejaVuSans-45\"/>\n      <use x=\"476.123047\" xlink:href=\"#DejaVuSans-32\"/>\n      <use x=\"507.910156\" xlink:href=\"#DejaVuSans-82\"/>\n      <use x=\"577.392578\" xlink:href=\"#DejaVuSans-80\"/>\n      <use x=\"637.695312\" xlink:href=\"#DejaVuSans-51\"/>\n      <use x=\"701.318359\" xlink:href=\"#DejaVuSans-66\"/>\n      <use x=\"769.921875\" xlink:href=\"#DejaVuSans-101\"/>\n      <use x=\"831.445312\" xlink:href=\"#DejaVuSans-116\"/>\n      <use x=\"870.654297\" xlink:href=\"#DejaVuSans-97\"/>\n     </g>\n    </g>\n    <g id=\"line2d_20\">\n     <path d=\"M 59.14375 34.976562 \nL 79.14375 34.976562 \n\" style=\"fill:none;stroke:#ff7f0e;stroke-linecap:square;stroke-width:1.5;\"/>\n    </g>\n    <g id=\"line2d_21\"/>\n    <g id=\"text_14\">\n     <!-- userKNNCF -->\n     <g transform=\"translate(87.14375 38.476562)scale(0.1 -0.1)\">\n      <defs>\n       <path d=\"M 9.8125 72.90625 \nL 19.671875 72.90625 \nL 19.671875 42.09375 \nL 52.390625 72.90625 \nL 65.09375 72.90625 \nL 28.90625 38.921875 \nL 67.671875 0 \nL 54.6875 0 \nL 19.671875 35.109375 \nL 19.671875 0 \nL 9.8125 0 \nz\n\" id=\"DejaVuSans-75\"/>\n       <path d=\"M 9.8125 72.90625 \nL 23.09375 72.90625 \nL 55.421875 11.921875 \nL 55.421875 72.90625 \nL 64.984375 72.90625 \nL 64.984375 0 \nL 51.703125 0 \nL 19.390625 60.984375 \nL 19.390625 0 \nL 9.8125 0 \nz\n\" id=\"DejaVuSans-78\"/>\n       <path d=\"M 64.40625 67.28125 \nL 64.40625 56.890625 \nQ 59.421875 61.53125 53.78125 63.8125 \nQ 48.140625 66.109375 41.796875 66.109375 \nQ 29.296875 66.109375 22.65625 58.46875 \nQ 16.015625 50.828125 16.015625 36.375 \nQ 16.015625 21.96875 22.65625 14.328125 \nQ 29.296875 6.6875 41.796875 6.6875 \nQ 48.140625 6.6875 53.78125 8.984375 \nQ 59.421875 11.28125 64.40625 15.921875 \nL 64.40625 5.609375 \nQ 59.234375 2.09375 53.4375 0.328125 \nQ 47.65625 -1.421875 41.21875 -1.421875 \nQ 24.65625 -1.421875 15.125 8.703125 \nQ 5.609375 18.84375 5.609375 36.375 \nQ 5.609375 53.953125 15.125 64.078125 \nQ 24.65625 74.21875 41.21875 74.21875 \nQ 47.75 74.21875 53.53125 72.484375 \nQ 59.328125 70.75 64.40625 67.28125 \nz\n\" id=\"DejaVuSans-67\"/>\n       <path d=\"M 9.8125 72.90625 \nL 51.703125 72.90625 \nL 51.703125 64.59375 \nL 19.671875 64.59375 \nL 19.671875 43.109375 \nL 48.578125 43.109375 \nL 48.578125 34.8125 \nL 19.671875 34.8125 \nL 19.671875 0 \nL 9.8125 0 \nz\n\" id=\"DejaVuSans-70\"/>\n      </defs>\n      <use xlink:href=\"#DejaVuSans-117\"/>\n      <use x=\"63.378906\" xlink:href=\"#DejaVuSans-115\"/>\n      <use x=\"115.478516\" xlink:href=\"#DejaVuSans-101\"/>\n      <use x=\"177.001953\" xlink:href=\"#DejaVuSans-114\"/>\n      <use x=\"218.115234\" xlink:href=\"#DejaVuSans-75\"/>\n      <use x=\"283.691406\" xlink:href=\"#DejaVuSans-78\"/>\n      <use x=\"358.496094\" xlink:href=\"#DejaVuSans-78\"/>\n      <use x=\"433.300781\" xlink:href=\"#DejaVuSans-67\"/>\n      <use x=\"503.125\" xlink:href=\"#DejaVuSans-70\"/>\n     </g>\n    </g>\n    <g id=\"line2d_22\">\n     <path d=\"M 59.14375 49.654687 \nL 79.14375 49.654687 \n\" style=\"fill:none;stroke:#2ca02c;stroke-linecap:square;stroke-width:1.5;\"/>\n    </g>\n    <g id=\"line2d_23\"/>\n    <g id=\"text_15\">\n     <!-- itemKNNCF -->\n     <g transform=\"translate(87.14375 53.154687)scale(0.1 -0.1)\">\n      <defs>\n       <path d=\"M 9.421875 54.6875 \nL 18.40625 54.6875 \nL 18.40625 0 \nL 9.421875 0 \nz\nM 9.421875 75.984375 \nL 18.40625 75.984375 \nL 18.40625 64.59375 \nL 9.421875 64.59375 \nz\n\" id=\"DejaVuSans-105\"/>\n       <path d=\"M 52 44.1875 \nQ 55.375 50.25 60.0625 53.125 \nQ 64.75 56 71.09375 56 \nQ 79.640625 56 84.28125 50.015625 \nQ 88.921875 44.046875 88.921875 33.015625 \nL 88.921875 0 \nL 79.890625 0 \nL 79.890625 32.71875 \nQ 79.890625 40.578125 77.09375 44.375 \nQ 74.3125 48.1875 68.609375 48.1875 \nQ 61.625 48.1875 57.5625 43.546875 \nQ 53.515625 38.921875 53.515625 30.90625 \nL 53.515625 0 \nL 44.484375 0 \nL 44.484375 32.71875 \nQ 44.484375 40.625 41.703125 44.40625 \nQ 38.921875 48.1875 33.109375 48.1875 \nQ 26.21875 48.1875 22.15625 43.53125 \nQ 18.109375 38.875 18.109375 30.90625 \nL 18.109375 0 \nL 9.078125 0 \nL 9.078125 54.6875 \nL 18.109375 54.6875 \nL 18.109375 46.1875 \nQ 21.1875 51.21875 25.484375 53.609375 \nQ 29.78125 56 35.6875 56 \nQ 41.65625 56 45.828125 52.96875 \nQ 50 49.953125 52 44.1875 \nz\n\" id=\"DejaVuSans-109\"/>\n      </defs>\n      <use xlink:href=\"#DejaVuSans-105\"/>\n      <use x=\"27.783203\" xlink:href=\"#DejaVuSans-116\"/>\n      <use x=\"66.992188\" xlink:href=\"#DejaVuSans-101\"/>\n      <use x=\"128.515625\" xlink:href=\"#DejaVuSans-109\"/>\n      <use x=\"225.927734\" xlink:href=\"#DejaVuSans-75\"/>\n      <use x=\"291.503906\" xlink:href=\"#DejaVuSans-78\"/>\n      <use x=\"366.308594\" xlink:href=\"#DejaVuSans-78\"/>\n      <use x=\"441.113281\" xlink:href=\"#DejaVuSans-67\"/>\n      <use x=\"510.9375\" xlink:href=\"#DejaVuSans-70\"/>\n     </g>\n    </g>\n    <g id=\"line2d_24\">\n     <path d=\"M 59.14375 64.332812 \nL 79.14375 64.332812 \n\" style=\"fill:none;stroke:#d62728;stroke-linecap:square;stroke-width:1.5;\"/>\n    </g>\n    <g id=\"line2d_25\"/>\n    <g id=\"text_16\">\n     <!-- itemKNNCBF -->\n     <g transform=\"translate(87.14375 67.832812)scale(0.1 -0.1)\">\n      <use xlink:href=\"#DejaVuSans-105\"/>\n      <use x=\"27.783203\" xlink:href=\"#DejaVuSans-116\"/>\n      <use x=\"66.992188\" xlink:href=\"#DejaVuSans-101\"/>\n      <use x=\"128.515625\" xlink:href=\"#DejaVuSans-109\"/>\n      <use x=\"225.927734\" xlink:href=\"#DejaVuSans-75\"/>\n      <use x=\"291.503906\" xlink:href=\"#DejaVuSans-78\"/>\n      <use x=\"366.308594\" xlink:href=\"#DejaVuSans-78\"/>\n      <use x=\"441.113281\" xlink:href=\"#DejaVuSans-67\"/>\n      <use x=\"510.9375\" xlink:href=\"#DejaVuSans-66\"/>\n      <use x=\"579.541016\" xlink:href=\"#DejaVuSans-70\"/>\n     </g>\n    </g>\n    <g id=\"line2d_26\">\n     <path d=\"M 59.14375 79.010937 \nL 79.14375 79.010937 \n\" style=\"fill:none;stroke:#9467bd;stroke-linecap:square;stroke-width:1.5;\"/>\n    </g>\n    <g id=\"line2d_27\"/>\n    <g id=\"text_17\">\n     <!-- topPOP -->\n     <g transform=\"translate(87.14375 82.510937)scale(0.1 -0.1)\">\n      <defs>\n       <path d=\"M 39.40625 66.21875 \nQ 28.65625 66.21875 22.328125 58.203125 \nQ 16.015625 50.203125 16.015625 36.375 \nQ 16.015625 22.609375 22.328125 14.59375 \nQ 28.65625 6.59375 39.40625 6.59375 \nQ 50.140625 6.59375 56.421875 14.59375 \nQ 62.703125 22.609375 62.703125 36.375 \nQ 62.703125 50.203125 56.421875 58.203125 \nQ 50.140625 66.21875 39.40625 66.21875 \nz\nM 39.40625 74.21875 \nQ 54.734375 74.21875 63.90625 63.9375 \nQ 73.09375 53.65625 73.09375 36.375 \nQ 73.09375 19.140625 63.90625 8.859375 \nQ 54.734375 -1.421875 39.40625 -1.421875 \nQ 24.03125 -1.421875 14.8125 8.828125 \nQ 5.609375 19.09375 5.609375 36.375 \nQ 5.609375 53.65625 14.8125 63.9375 \nQ 24.03125 74.21875 39.40625 74.21875 \nz\n\" id=\"DejaVuSans-79\"/>\n      </defs>\n      <use xlink:href=\"#DejaVuSans-116\"/>\n      <use x=\"39.208984\" xlink:href=\"#DejaVuSans-111\"/>\n      <use x=\"100.390625\" xlink:href=\"#DejaVuSans-112\"/>\n      <use x=\"163.867188\" xlink:href=\"#DejaVuSans-80\"/>\n      <use x=\"224.169922\" xlink:href=\"#DejaVuSans-79\"/>\n      <use x=\"302.880859\" xlink:href=\"#DejaVuSans-80\"/>\n     </g>\n    </g>\n    <g id=\"line2d_28\">\n     <path d=\"M 59.14375 93.689062 \nL 79.14375 93.689062 \n\" style=\"fill:none;stroke:#8c564b;stroke-linecap:square;stroke-width:1.5;\"/>\n    </g>\n    <g id=\"line2d_29\"/>\n    <g id=\"text_18\">\n     <!-- pureSVD -->\n     <g transform=\"translate(87.14375 97.189062)scale(0.1 -0.1)\">\n      <defs>\n       <path d=\"M 53.515625 70.515625 \nL 53.515625 60.890625 \nQ 47.90625 63.578125 42.921875 64.890625 \nQ 37.9375 66.21875 33.296875 66.21875 \nQ 25.25 66.21875 20.875 63.09375 \nQ 16.5 59.96875 16.5 54.203125 \nQ 16.5 49.359375 19.40625 46.890625 \nQ 22.3125 44.4375 30.421875 42.921875 \nL 36.375 41.703125 \nQ 47.40625 39.59375 52.65625 34.296875 \nQ 57.90625 29 57.90625 20.125 \nQ 57.90625 9.515625 50.796875 4.046875 \nQ 43.703125 -1.421875 29.984375 -1.421875 \nQ 24.8125 -1.421875 18.96875 -0.25 \nQ 13.140625 0.921875 6.890625 3.21875 \nL 6.890625 13.375 \nQ 12.890625 10.015625 18.65625 8.296875 \nQ 24.421875 6.59375 29.984375 6.59375 \nQ 38.421875 6.59375 43.015625 9.90625 \nQ 47.609375 13.234375 47.609375 19.390625 \nQ 47.609375 24.75 44.3125 27.78125 \nQ 41.015625 30.8125 33.5 32.328125 \nL 27.484375 33.5 \nQ 16.453125 35.6875 11.515625 40.375 \nQ 6.59375 45.0625 6.59375 53.421875 \nQ 6.59375 63.09375 13.40625 68.65625 \nQ 20.21875 74.21875 32.171875 74.21875 \nQ 37.3125 74.21875 42.625 73.28125 \nQ 47.953125 72.359375 53.515625 70.515625 \nz\n\" id=\"DejaVuSans-83\"/>\n       <path d=\"M 28.609375 0 \nL 0.78125 72.90625 \nL 11.078125 72.90625 \nL 34.1875 11.53125 \nL 57.328125 72.90625 \nL 67.578125 72.90625 \nL 39.796875 0 \nz\n\" id=\"DejaVuSans-86\"/>\n       <path d=\"M 19.671875 64.796875 \nL 19.671875 8.109375 \nL 31.59375 8.109375 \nQ 46.6875 8.109375 53.6875 14.9375 \nQ 60.6875 21.78125 60.6875 36.53125 \nQ 60.6875 51.171875 53.6875 57.984375 \nQ 46.6875 64.796875 31.59375 64.796875 \nz\nM 9.8125 72.90625 \nL 30.078125 72.90625 \nQ 51.265625 72.90625 61.171875 64.09375 \nQ 71.09375 55.28125 71.09375 36.53125 \nQ 71.09375 17.671875 61.125 8.828125 \nQ 51.171875 0 30.078125 0 \nL 9.8125 0 \nz\n\" id=\"DejaVuSans-68\"/>\n      </defs>\n      <use xlink:href=\"#DejaVuSans-112\"/>\n      <use x=\"63.476562\" xlink:href=\"#DejaVuSans-117\"/>\n      <use x=\"126.855469\" xlink:href=\"#DejaVuSans-114\"/>\n      <use x=\"165.71875\" xlink:href=\"#DejaVuSans-101\"/>\n      <use x=\"227.242188\" xlink:href=\"#DejaVuSans-83\"/>\n      <use x=\"290.71875\" xlink:href=\"#DejaVuSans-86\"/>\n      <use x=\"359.126953\" xlink:href=\"#DejaVuSans-68\"/>\n     </g>\n    </g>\n    <g id=\"line2d_30\">\n     <path d=\"M 59.14375 108.367187 \nL 79.14375 108.367187 \n\" style=\"fill:none;stroke:#e377c2;stroke-linecap:square;stroke-width:1.5;\"/>\n    </g>\n    <g id=\"line2d_31\"/>\n    <g id=\"text_19\">\n     <!-- slimBPR -->\n     <g transform=\"translate(87.14375 111.867187)scale(0.1 -0.1)\">\n      <use xlink:href=\"#DejaVuSans-115\"/>\n      <use x=\"52.099609\" xlink:href=\"#DejaVuSans-108\"/>\n      <use x=\"79.882812\" xlink:href=\"#DejaVuSans-105\"/>\n      <use x=\"107.666016\" xlink:href=\"#DejaVuSans-109\"/>\n      <use x=\"205.078125\" xlink:href=\"#DejaVuSans-66\"/>\n      <use x=\"273.681641\" xlink:href=\"#DejaVuSans-80\"/>\n      <use x=\"333.984375\" xlink:href=\"#DejaVuSans-82\"/>\n     </g>\n    </g>\n   </g>\n  </g>\n </g>\n <defs>\n  <clipPath id=\"padf41e357d\">\n   <rect height=\"217.44\" width=\"334.8\" x=\"50.14375\" y=\"7.2\"/>\n  </clipPath>\n </defs>\n</svg>\n",
      "image/png": "[encoded data removed]"
     },
     "metadata": {
      "needs_background": "light"
     }
    }
   ],
   "source": [
    "import matplotlib.pyplot as pyplot\n",
    "%matplotlib inline  \n",
    "\n",
    "pyplot.plot(MAP_p3aplha_rp3beta_per_group, label=\"P3Aplha - RP3Beta\")\n",
    "pyplot.plot(MAP_user_cf_cold_per_group, label=\"userKNNCF\")\n",
    "pyplot.plot(MAP_item_cf_cold_per_group, label=\"itemKNNCF\")\n",
    "pyplot.plot(MAP_item_cbf_per_group, label=\"itemKNNCBF\")\n",
    "pyplot.plot(MAP_top_pop_per_group, label=\"topPOP\")\n",
    "pyplot.plot(MAP_pure_svd_per_group, label=\"pureSVD\")\n",
    "pyplot.plot(MAP_slim_bpr_per_group, label=\"slimBPR\")\n",
    "\n",
    "pyplot.ylabel('MAP')\n",
    "pyplot.xlabel('User Group')\n",
    "pyplot.legend()\n",
    "pyplot.show()"
   ]
  },
  {
   "cell_type": "code",
   "execution_count": null,
   "metadata": {},
   "outputs": [],
   "source": []
  }
 ],
 "metadata": {
  "kernelspec": {
   "display_name": "Python 3",
   "language": "python",
   "name": "python3"
  },
  "language_info": {
   "codemirror_mode": {
    "name": "ipython",
    "version": 3
   },
   "file_extension": ".py",
   "mimetype": "text/x-python",
   "name": "python",
   "nbconvert_exporter": "python",
   "pygments_lexer": "ipython3",
   "version": "3.8.5-final"
  }
 },
 "nbformat": 4,
 "nbformat_minor": 4
}