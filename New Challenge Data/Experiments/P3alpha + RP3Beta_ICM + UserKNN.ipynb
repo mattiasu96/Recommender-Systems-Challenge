{
 "cells": [
  {
   "cell_type": "markdown",
   "metadata": {},
   "source": [
    "# Data loading \n",
    "Next cells are used to load the data we need."
   ]
  },
  {
   "cell_type": "code",
   "execution_count": 1,
   "metadata": {},
   "outputs": [],
   "source": [
    "import pandas as pd\n",
    "import numpy as np \n",
    "import scipy.sparse as sps\n",
    "import os\n",
    "import sys\n",
    "import matplotlib.pyplot as plt\n",
    "sys.path.append('..')\n"
   ]
  },
  {
   "cell_type": "code",
   "execution_count": 2,
   "metadata": {},
   "outputs": [
    {
     "data": {
      "text/html": [
       "<div>\n",
       "<style scoped>\n",
       "    .dataframe tbody tr th:only-of-type {\n",
       "        vertical-align: middle;\n",
       "    }\n",
       "\n",
       "    .dataframe tbody tr th {\n",
       "        vertical-align: top;\n",
       "    }\n",
       "\n",
       "    .dataframe thead th {\n",
       "        text-align: right;\n",
       "    }\n",
       "</style>\n",
       "<table border=\"1\" class=\"dataframe\">\n",
       "  <thead>\n",
       "    <tr style=\"text-align: right;\">\n",
       "      <th></th>\n",
       "      <th>row</th>\n",
       "      <th>col</th>\n",
       "      <th>data</th>\n",
       "    </tr>\n",
       "  </thead>\n",
       "  <tbody>\n",
       "    <tr>\n",
       "      <th>0</th>\n",
       "      <td>0</td>\n",
       "      <td>10080</td>\n",
       "      <td>1.0</td>\n",
       "    </tr>\n",
       "    <tr>\n",
       "      <th>1</th>\n",
       "      <td>0</td>\n",
       "      <td>19467</td>\n",
       "      <td>1.0</td>\n",
       "    </tr>\n",
       "    <tr>\n",
       "      <th>2</th>\n",
       "      <td>1</td>\n",
       "      <td>2665</td>\n",
       "      <td>1.0</td>\n",
       "    </tr>\n",
       "    <tr>\n",
       "      <th>3</th>\n",
       "      <td>1</td>\n",
       "      <td>7494</td>\n",
       "      <td>1.0</td>\n",
       "    </tr>\n",
       "    <tr>\n",
       "      <th>4</th>\n",
       "      <td>1</td>\n",
       "      <td>17068</td>\n",
       "      <td>1.0</td>\n",
       "    </tr>\n",
       "    <tr>\n",
       "      <th>...</th>\n",
       "      <td>...</td>\n",
       "      <td>...</td>\n",
       "      <td>...</td>\n",
       "    </tr>\n",
       "    <tr>\n",
       "      <th>113263</th>\n",
       "      <td>7945</td>\n",
       "      <td>2476</td>\n",
       "      <td>1.0</td>\n",
       "    </tr>\n",
       "    <tr>\n",
       "      <th>113264</th>\n",
       "      <td>7945</td>\n",
       "      <td>12319</td>\n",
       "      <td>1.0</td>\n",
       "    </tr>\n",
       "    <tr>\n",
       "      <th>113265</th>\n",
       "      <td>7945</td>\n",
       "      <td>21384</td>\n",
       "      <td>1.0</td>\n",
       "    </tr>\n",
       "    <tr>\n",
       "      <th>113266</th>\n",
       "      <td>7946</td>\n",
       "      <td>8699</td>\n",
       "      <td>1.0</td>\n",
       "    </tr>\n",
       "    <tr>\n",
       "      <th>113267</th>\n",
       "      <td>7946</td>\n",
       "      <td>19178</td>\n",
       "      <td>1.0</td>\n",
       "    </tr>\n",
       "  </tbody>\n",
       "</table>\n",
       "<p>113268 rows × 3 columns</p>\n",
       "</div>"
      ],
      "text/plain": [
       "         row    col  data\n",
       "0          0  10080   1.0\n",
       "1          0  19467   1.0\n",
       "2          1   2665   1.0\n",
       "3          1   7494   1.0\n",
       "4          1  17068   1.0\n",
       "...      ...    ...   ...\n",
       "113263  7945   2476   1.0\n",
       "113264  7945  12319   1.0\n",
       "113265  7945  21384   1.0\n",
       "113266  7946   8699   1.0\n",
       "113267  7946  19178   1.0\n",
       "\n",
       "[113268 rows x 3 columns]"
      ]
     },
     "execution_count": 2,
     "metadata": {},
     "output_type": "execute_result"
    }
   ],
   "source": [
    "#data which contains users (row), items(col) and implicit interaction (data)\n",
    "dataset = pd.read_csv('data_train.csv')\n",
    "dataset"
   ]
  },
  {
   "cell_type": "code",
   "execution_count": 3,
   "metadata": {},
   "outputs": [
    {
     "data": {
      "text/plain": [
       "(7947, 25975)"
      ]
     },
     "execution_count": 3,
     "metadata": {},
     "output_type": "execute_result"
    }
   ],
   "source": [
    "users = dataset.row\n",
    "items = dataset.col\n",
    "data = dataset.data\n",
    "URM_all = sps.coo_matrix((data, (users, items)))\n",
    "URM_all = URM_all.tocsr() #fast row access -> fast access to users \n",
    "URM_all.shape"
   ]
  },
  {
   "cell_type": "code",
   "execution_count": 4,
   "metadata": {},
   "outputs": [],
   "source": [
    "items_per_user = np.ediff1d(URM_all.indptr) #tells in which position each of the rows begin\n",
    "users_per_item = np.ediff1d(sps.csc_matrix(URM_all).indptr)\n",
    "URM_all = sps.csr_matrix(URM_all)"
   ]
  },
  {
   "cell_type": "code",
   "execution_count": 5,
   "metadata": {},
   "outputs": [],
   "source": [
    "items_per_user = np.sort(items_per_user) #sorting based on the single value. Losing reference to the user. \n",
    "users_per_item = np.sort(users_per_item)"
   ]
  },
  {
   "cell_type": "code",
   "execution_count": 6,
   "metadata": {},
   "outputs": [
    {
     "data": {
      "text/html": [
       "<div>\n",
       "<style scoped>\n",
       "    .dataframe tbody tr th:only-of-type {\n",
       "        vertical-align: middle;\n",
       "    }\n",
       "\n",
       "    .dataframe tbody tr th {\n",
       "        vertical-align: top;\n",
       "    }\n",
       "\n",
       "    .dataframe thead th {\n",
       "        text-align: right;\n",
       "    }\n",
       "</style>\n",
       "<table border=\"1\" class=\"dataframe\">\n",
       "  <thead>\n",
       "    <tr style=\"text-align: right;\">\n",
       "      <th></th>\n",
       "      <th>row</th>\n",
       "      <th>col</th>\n",
       "      <th>data</th>\n",
       "    </tr>\n",
       "  </thead>\n",
       "  <tbody>\n",
       "    <tr>\n",
       "      <th>0</th>\n",
       "      <td>0</td>\n",
       "      <td>1185</td>\n",
       "      <td>1.015524</td>\n",
       "    </tr>\n",
       "    <tr>\n",
       "      <th>1</th>\n",
       "      <td>0</td>\n",
       "      <td>2507</td>\n",
       "      <td>0.459024</td>\n",
       "    </tr>\n",
       "    <tr>\n",
       "      <th>2</th>\n",
       "      <td>0</td>\n",
       "      <td>3534</td>\n",
       "      <td>0.227742</td>\n",
       "    </tr>\n",
       "    <tr>\n",
       "      <th>3</th>\n",
       "      <td>0</td>\n",
       "      <td>8766</td>\n",
       "      <td>0.501549</td>\n",
       "    </tr>\n",
       "    <tr>\n",
       "      <th>4</th>\n",
       "      <td>0</td>\n",
       "      <td>10862</td>\n",
       "      <td>0.297011</td>\n",
       "    </tr>\n",
       "    <tr>\n",
       "      <th>...</th>\n",
       "      <td>...</td>\n",
       "      <td>...</td>\n",
       "      <td>...</td>\n",
       "    </tr>\n",
       "    <tr>\n",
       "      <th>490686</th>\n",
       "      <td>25974</td>\n",
       "      <td>12554</td>\n",
       "      <td>0.963016</td>\n",
       "    </tr>\n",
       "    <tr>\n",
       "      <th>490687</th>\n",
       "      <td>25974</td>\n",
       "      <td>13003</td>\n",
       "      <td>0.104613</td>\n",
       "    </tr>\n",
       "    <tr>\n",
       "      <th>490688</th>\n",
       "      <td>25974</td>\n",
       "      <td>16236</td>\n",
       "      <td>0.118760</td>\n",
       "    </tr>\n",
       "    <tr>\n",
       "      <th>490689</th>\n",
       "      <td>25974</td>\n",
       "      <td>18797</td>\n",
       "      <td>0.363301</td>\n",
       "    </tr>\n",
       "    <tr>\n",
       "      <th>490690</th>\n",
       "      <td>25974</td>\n",
       "      <td>19629</td>\n",
       "      <td>0.129141</td>\n",
       "    </tr>\n",
       "  </tbody>\n",
       "</table>\n",
       "<p>490691 rows × 3 columns</p>\n",
       "</div>"
      ],
      "text/plain": [
       "          row    col      data\n",
       "0           0   1185  1.015524\n",
       "1           0   2507  0.459024\n",
       "2           0   3534  0.227742\n",
       "3           0   8766  0.501549\n",
       "4           0  10862  0.297011\n",
       "...       ...    ...       ...\n",
       "490686  25974  12554  0.963016\n",
       "490687  25974  13003  0.104613\n",
       "490688  25974  16236  0.118760\n",
       "490689  25974  18797  0.363301\n",
       "490690  25974  19629  0.129141\n",
       "\n",
       "[490691 rows x 3 columns]"
      ]
     },
     "execution_count": 6,
     "metadata": {},
     "output_type": "execute_result"
    }
   ],
   "source": [
    "ICM_df = pd.read_csv('data_ICM_title_abstract.csv')\n",
    "ICM_df"
   ]
  },
  {
   "cell_type": "code",
   "execution_count": 7,
   "metadata": {},
   "outputs": [
    {
     "data": {
      "text/plain": [
       "(25975, 20000)"
      ]
     },
     "execution_count": 7,
     "metadata": {},
     "output_type": "execute_result"
    }
   ],
   "source": [
    "items = ICM_df.row\n",
    "features = ICM_df.col\n",
    "data = ICM_df.data\n",
    "ICM_all = sps.coo_matrix((data, (items, features)))\n",
    "ICM_all = ICM_all.tocsr() #fast row access -> fast access to users \n",
    "ICM_all.shape"
   ]
  },
  {
   "cell_type": "code",
   "execution_count": 8,
   "metadata": {},
   "outputs": [],
   "source": [
    "ICM_all = sps.csr_matrix(ICM_all)\n",
    "features_per_item = np.ediff1d(ICM_all.indptr)\n",
    "\n",
    "ICM_all = sps.csc_matrix(ICM_all)\n",
    "items_per_feature = np.ediff1d(ICM_all.indptr)\n",
    "\n",
    "ICM_all = sps.csr_matrix(ICM_all)"
   ]
  },
  {
   "cell_type": "code",
   "execution_count": 9,
   "metadata": {},
   "outputs": [],
   "source": [
    "features_per_item = np.sort(features_per_item)\n",
    "items_per_feature = np.sort(items_per_feature)"
   ]
  },
  {
   "cell_type": "code",
   "execution_count": 10,
   "metadata": {},
   "outputs": [
    {
     "name": "stdout",
     "output_type": "stream",
     "text": [
      "Warning: 48 (0.60 %) of 7947 users have no train items\n",
      "Warning: 2951 (37.13 %) of 7947 users have no sampled items\n"
     ]
    }
   ],
   "source": [
    "from Base.Evaluation.Evaluator import EvaluatorHoldout\n",
    "from Data_manager.split_functions.split_train_validation_random_holdout import split_train_in_two_percentage_global_sample\n",
    "\n",
    "URM_train, URM_validation = split_train_in_two_percentage_global_sample(URM_all, train_percentage = 0.85)\n",
    "evaluator_validation = EvaluatorHoldout(URM_validation, cutoff_list=[10])\n"
   ]
  },
  {
   "cell_type": "code",
   "execution_count": 11,
   "metadata": {},
   "outputs": [
    {
     "name": "stdout",
     "output_type": "stream",
     "text": [
      "P3alphaRecommender: URM Detected 48 (0.60 %) cold users.\n",
      "P3alphaRecommender: URM Detected 1997 (7.69 %) cold items.\n"
     ]
    },
    {
     "ename": "KeyboardInterrupt",
     "evalue": "",
     "output_type": "error",
     "traceback": [
      "\u001b[0;31m---------------------------------------------------------------------------\u001b[0m",
      "\u001b[0;31mKeyboardInterrupt\u001b[0m                         Traceback (most recent call last)",
      "\u001b[0;32m<ipython-input-11-c5379582381c>\u001b[0m in \u001b[0;36m<module>\u001b[0;34m\u001b[0m\n\u001b[1;32m      5\u001b[0m \u001b[0;34m\u001b[0m\u001b[0m\n\u001b[1;32m      6\u001b[0m \u001b[0mrecommender_alpha\u001b[0m \u001b[0;34m=\u001b[0m \u001b[0mP3alphaRecommender\u001b[0m\u001b[0;34m(\u001b[0m\u001b[0mURM_train\u001b[0m\u001b[0;34m)\u001b[0m\u001b[0;34m\u001b[0m\u001b[0;34m\u001b[0m\u001b[0m\n\u001b[0;32m----> 7\u001b[0;31m \u001b[0mrecommender_alpha\u001b[0m\u001b[0;34m.\u001b[0m\u001b[0mfit\u001b[0m\u001b[0;34m(\u001b[0m\u001b[0mtopK\u001b[0m\u001b[0;34m=\u001b[0m\u001b[0;36m744\u001b[0m\u001b[0;34m,\u001b[0m \u001b[0malpha\u001b[0m \u001b[0;34m=\u001b[0m \u001b[0;36m0.5792783278269231\u001b[0m\u001b[0;34m,\u001b[0m \u001b[0mimplicit\u001b[0m \u001b[0;34m=\u001b[0m \u001b[0;32mTrue\u001b[0m\u001b[0;34m)\u001b[0m\u001b[0;34m\u001b[0m\u001b[0;34m\u001b[0m\u001b[0m\n\u001b[0m\u001b[1;32m      8\u001b[0m \u001b[0;34m\u001b[0m\u001b[0m\n\u001b[1;32m      9\u001b[0m \u001b[0mrecommender_beta_ICM\u001b[0m \u001b[0;34m=\u001b[0m \u001b[0mRP3betaRecommender\u001b[0m\u001b[0;34m(\u001b[0m\u001b[0mICM_all\u001b[0m\u001b[0;34m.\u001b[0m\u001b[0mT\u001b[0m\u001b[0;34m)\u001b[0m\u001b[0;34m\u001b[0m\u001b[0;34m\u001b[0m\u001b[0m\n",
      "\u001b[0;32m~/Desktop/Recatommender-Systems-Challenge/GraphBased/P3alphaRecommender.py\u001b[0m in \u001b[0;36mfit\u001b[0;34m(self, topK, alpha, min_rating, implicit, normalize_similarity)\u001b[0m\n\u001b[1;32m     95\u001b[0m                 \u001b[0mrow_data\u001b[0m\u001b[0;34m[\u001b[0m\u001b[0mcurrent_block_start_row\u001b[0m \u001b[0;34m+\u001b[0m \u001b[0mrow_in_block\u001b[0m\u001b[0;34m]\u001b[0m \u001b[0;34m=\u001b[0m \u001b[0;36m0\u001b[0m\u001b[0;34m\u001b[0m\u001b[0;34m\u001b[0m\u001b[0m\n\u001b[1;32m     96\u001b[0m \u001b[0;34m\u001b[0m\u001b[0m\n\u001b[0;32m---> 97\u001b[0;31m                 \u001b[0mbest\u001b[0m \u001b[0;34m=\u001b[0m \u001b[0mrow_data\u001b[0m\u001b[0;34m.\u001b[0m\u001b[0margsort\u001b[0m\u001b[0;34m(\u001b[0m\u001b[0;34m)\u001b[0m\u001b[0;34m[\u001b[0m\u001b[0;34m:\u001b[0m\u001b[0;34m:\u001b[0m\u001b[0;34m-\u001b[0m\u001b[0;36m1\u001b[0m\u001b[0;34m]\u001b[0m\u001b[0;34m[\u001b[0m\u001b[0;34m:\u001b[0m\u001b[0mself\u001b[0m\u001b[0;34m.\u001b[0m\u001b[0mtopK\u001b[0m\u001b[0;34m]\u001b[0m\u001b[0;34m\u001b[0m\u001b[0;34m\u001b[0m\u001b[0m\n\u001b[0m\u001b[1;32m     98\u001b[0m \u001b[0;34m\u001b[0m\u001b[0m\n\u001b[1;32m     99\u001b[0m                 \u001b[0mnotZerosMask\u001b[0m \u001b[0;34m=\u001b[0m \u001b[0mrow_data\u001b[0m\u001b[0;34m[\u001b[0m\u001b[0mbest\u001b[0m\u001b[0;34m]\u001b[0m \u001b[0;34m!=\u001b[0m \u001b[0;36m0.0\u001b[0m\u001b[0;34m\u001b[0m\u001b[0;34m\u001b[0m\u001b[0m\n",
      "\u001b[0;31mKeyboardInterrupt\u001b[0m: "
     ]
    }
   ],
   "source": [
    "from GraphBased.P3alphaRecommender import P3alphaRecommender\n",
    "from GraphBased.RP3betaRecommender import RP3betaRecommender\n",
    "from KNN.UserKNNCFRecommender import UserKNNCFRecommender\n",
    "from KNN.ItemKNNScoresHybridMultipleRecommender import ItemKNNScoresHybridMultipleRecommender\n",
    "\n",
    "recommender_alpha = P3alphaRecommender(URM_train)\n",
    "recommender_alpha.fit(topK=744, alpha = 0.5792783278269231, implicit = True)\n",
    "\n",
    "recommender_beta_ICM = RP3betaRecommender(ICM_all.T)\n",
    "recommender_beta_ICM.fit(topK=70, alpha=0.35, beta=0.4, implicit=False)\n",
    "recommender_beta_ICM.URM_train = URM_train\n",
    "\n",
    "# {'topK': 135, 'shrink': 550}\n",
    "recommender_userKNN = UserKNNCFRecommender(URM_train)\n",
    "recommender_userKNN.fit(topK= 135, shrink = 550)"
   ]
  },
  {
   "cell_type": "code",
   "execution_count": null,
   "metadata": {},
   "outputs": [],
   "source": [
    "from skopt.space import Real, Integer, Categorical\n",
    "\n",
    "hyperparameters_range_dictionary = {}\n",
    "hyperparameters_range_dictionary[\"alpha\"] = Real(low = 0, high = 1, prior = 'uniform')\n",
    "hyperparameters_range_dictionary[\"beta\"] = Real(low = 0, high = 1, prior = 'uniform')"
   ]
  },
  {
   "cell_type": "code",
   "execution_count": null,
   "metadata": {},
   "outputs": [],
   "source": [
    "from KNN.ItemKNNScoresHybridMultipleRecommender import ItemKNNScoresHybridMultipleRecommender\n",
    "from ParameterTuning.SearchBayesianSkopt import SearchBayesianSkopt\n",
    "\n",
    "recommender_class = ItemKNNScoresHybridMultipleRecommender\n",
    "\n",
    "parameterSearch = SearchBayesianSkopt(recommender_class,\n",
    "                                 evaluator_validation=evaluator_validation,\n",
    "                                 evaluator_test=evaluator_validation)"
   ]
  },
  {
   "cell_type": "code",
   "execution_count": null,
   "metadata": {},
   "outputs": [],
   "source": [
    "from ParameterTuning.SearchAbstractClass import SearchInputRecommenderArgs\n",
    "  \n",
    "recommender_input_args = SearchInputRecommenderArgs(\n",
    "    CONSTRUCTOR_POSITIONAL_ARGS = [URM_train, recommender_alpha, recommender_beta_ICM, recommender_userKNN],\n",
    "    CONSTRUCTOR_KEYWORD_ARGS = {},\n",
    "    FIT_POSITIONAL_ARGS = [],\n",
    "    FIT_KEYWORD_ARGS = {}\n",
    ")"
   ]
  },
  {
   "cell_type": "code",
   "execution_count": null,
   "metadata": {},
   "outputs": [],
   "source": [
    "recommender_input_args_last_test = SearchInputRecommenderArgs(\n",
    "    CONSTRUCTOR_POSITIONAL_ARGS = [URM_all, recommender_alpha, recommender_beta_ICM, recommender_userKNN],\n",
    "    CONSTRUCTOR_KEYWORD_ARGS = {},\n",
    "    FIT_POSITIONAL_ARGS = [],\n",
    "    FIT_KEYWORD_ARGS = {}\n",
    ")"
   ]
  },
  {
   "cell_type": "code",
   "execution_count": null,
   "metadata": {},
   "outputs": [],
   "source": [
    "import os\n",
    "\n",
    "output_folder_path = \"result_experiments/\"\n",
    "\n",
    "# If directory does not exist, create\n",
    "if not os.path.exists(output_folder_path):\n",
    "    os.makedirs(output_folder_path)\n",
    "    \n",
    "n_cases = 10\n",
    "n_random_starts = int(n_cases*0.3)\n",
    "metric_to_optimize = \"MAP\"  "
   ]
  },
  {
   "cell_type": "code",
   "execution_count": null,
   "metadata": {
    "tags": [
     "outputPrepend"
    ]
   },
   "outputs": [],
   "source": [
    "parameterSearch.search(recommender_input_args,\n",
    "                       recommender_input_args_last_test = recommender_input_args_last_test,\n",
    "                       parameter_search_space = hyperparameters_range_dictionary,\n",
    "                       n_cases = n_cases,\n",
    "                       n_random_starts = n_random_starts,\n",
    "                       save_model = \"last\",\n",
    "                       output_folder_path = output_folder_path,\n",
    "                       output_file_name_root = recommender_class.RECOMMENDER_NAME,\n",
    "                       metric_to_optimize = metric_to_optimize,\n",
    "                      )"
   ]
  },
  {
   "cell_type": "code",
   "execution_count": null,
   "metadata": {},
   "outputs": [],
   "source": [
    "from Base.DataIO import DataIO\n",
    "\n",
    "data_loader = DataIO(folder_path = output_folder_path)\n",
    "search_metadata = data_loader.load_data(recommender_class.RECOMMENDER_NAME + \"_metadata.zip\")\n",
    "\n",
    "search_metadata"
   ]
  },
  {
   "cell_type": "code",
   "execution_count": null,
   "metadata": {},
   "outputs": [],
   "source": [
    "hyperparameters_list = search_metadata[\"hyperparameters_list\"]\n",
    "hyperparameters_list"
   ]
  },
  {
   "cell_type": "code",
   "execution_count": null,
   "metadata": {},
   "outputs": [],
   "source": [
    "result_best_on_test = search_metadata[\"result_on_last\"]\n",
    "result_best_on_test[\"10\"]"
   ]
  },
  {
   "cell_type": "code",
   "execution_count": null,
   "metadata": {},
   "outputs": [],
   "source": []
  },
  {
   "cell_type": "code",
   "execution_count": null,
   "metadata": {},
   "outputs": [],
   "source": [
    "test_users = pd.read_csv('data_target_users_test.csv')\n",
    "test_users"
   ]
  },
  {
   "cell_type": "code",
   "execution_count": null,
   "metadata": {},
   "outputs": [],
   "source": [
    "# {'alpha': 0.5792783278269231, 'topK': 744}\n",
    "# topK=170, alpha = 0.45, \n",
    "recommender_alpha = P3alphaRecommender(URM_all)\n",
    "recommender_alpha.fit(topK=744, alpha = 0.5792783278269231, implicit = True)\n",
    "\n",
    "recommender_beta_ICM = RP3betaRecommender(ICM_all.T)\n",
    "recommender_beta_ICM.fit(topK=70, alpha=0.35, beta=0.4, implicit=False)\n",
    "recommender_beta_ICM.URM_train = URM_train\n",
    "\n",
    "recommender_userKNN = UserKNNCFRecommender(URM_all)\n",
    "recommender_userKNN.fit(topK= 135, shrink = 550)\n",
    "\n",
    "hybridrecommender_CBF = ItemKNNScoresHybridMultipleRecommender(URM_all, recommender_alpha, recommender_beta_ICM, recommender_userKNN)\n",
    "hybridrecommender_CBF.fit(alpha = 0.10883730184330451, beta = 0.8418669417518008)\n",
    "\n",
    "user_id = test_users['user_id']\n",
    "recommendations = hybridrecommender_CBF.recommend(user_id,cutoff = 10)"
   ]
  },
  {
   "cell_type": "code",
   "execution_count": null,
   "metadata": {},
   "outputs": [],
   "source": [
    "for index in range(len(recommendations)):\n",
    "    #print(element)\n",
    "    recommendations[index]=np.array(recommendations[index])\n",
    "    #print(type(element))\n",
    "print(len(recommendations))"
   ]
  },
  {
   "cell_type": "code",
   "execution_count": null,
   "metadata": {},
   "outputs": [],
   "source": [
    "test_users['item_list']= recommendations\n",
    "#test_users['item_list'] =  test_users['item_list'].apply(lambda x: x.replace('[','').replace(']','')) \n",
    "test_users['item_list'] = pd.DataFrame([str(line).strip('[').strip(']').replace(\"'\",\"\") for line in test_users['item_list']])\n",
    "\n",
    "#convert the string columns to int\n",
    "#test_users['item_list'] = test_users['item_list'].astype(int)\n",
    "test_users\n",
    "test_users.to_csv('submission.csv', index=False)\n"
   ]
  },
  {
   "cell_type": "code",
   "execution_count": null,
   "metadata": {},
   "outputs": [],
   "source": []
  }
 ],
 "metadata": {
  "kernelspec": {
   "display_name": "Python 3",
   "language": "python",
   "name": "python3"
  },
  "language_info": {
   "codemirror_mode": {
    "name": "ipython",
    "version": 3
   },
   "file_extension": ".py",
   "mimetype": "text/x-python",
   "name": "python",
   "nbconvert_exporter": "python",
   "pygments_lexer": "ipython3",
   "version": "3.8.5"
  }
 },
 "nbformat": 4,
 "nbformat_minor": 4
}
