{
 "cells": [
  {
   "cell_type": "markdown",
   "metadata": {},
   "source": [
    "# Data loading \n",
    "Next cells are used to load the data we need."
   ]
  },
  {
   "cell_type": "code",
   "execution_count": 1,
   "metadata": {},
   "outputs": [],
   "source": [
    "import os\n",
    "import pandas as pd\n",
    "import numpy as np \n",
    "import scipy.sparse as sps\n",
    "import sys\n",
    "import matplotlib.pyplot as plt\n",
    "sys.path.append('../../')\n"
   ]
  },
  {
   "cell_type": "code",
   "execution_count": 2,
   "metadata": {},
   "outputs": [
    {
     "data": {
      "text/html": [
       "<div>\n",
       "<style scoped>\n",
       "    .dataframe tbody tr th:only-of-type {\n",
       "        vertical-align: middle;\n",
       "    }\n",
       "\n",
       "    .dataframe tbody tr th {\n",
       "        vertical-align: top;\n",
       "    }\n",
       "\n",
       "    .dataframe thead th {\n",
       "        text-align: right;\n",
       "    }\n",
       "</style>\n",
       "<table border=\"1\" class=\"dataframe\">\n",
       "  <thead>\n",
       "    <tr style=\"text-align: right;\">\n",
       "      <th></th>\n",
       "      <th>row</th>\n",
       "      <th>col</th>\n",
       "      <th>data</th>\n",
       "    </tr>\n",
       "  </thead>\n",
       "  <tbody>\n",
       "    <tr>\n",
       "      <th>0</th>\n",
       "      <td>0</td>\n",
       "      <td>10080</td>\n",
       "      <td>1.0</td>\n",
       "    </tr>\n",
       "    <tr>\n",
       "      <th>1</th>\n",
       "      <td>0</td>\n",
       "      <td>19467</td>\n",
       "      <td>1.0</td>\n",
       "    </tr>\n",
       "    <tr>\n",
       "      <th>2</th>\n",
       "      <td>1</td>\n",
       "      <td>2665</td>\n",
       "      <td>1.0</td>\n",
       "    </tr>\n",
       "    <tr>\n",
       "      <th>3</th>\n",
       "      <td>1</td>\n",
       "      <td>7494</td>\n",
       "      <td>1.0</td>\n",
       "    </tr>\n",
       "    <tr>\n",
       "      <th>4</th>\n",
       "      <td>1</td>\n",
       "      <td>17068</td>\n",
       "      <td>1.0</td>\n",
       "    </tr>\n",
       "    <tr>\n",
       "      <th>...</th>\n",
       "      <td>...</td>\n",
       "      <td>...</td>\n",
       "      <td>...</td>\n",
       "    </tr>\n",
       "    <tr>\n",
       "      <th>113263</th>\n",
       "      <td>7945</td>\n",
       "      <td>2476</td>\n",
       "      <td>1.0</td>\n",
       "    </tr>\n",
       "    <tr>\n",
       "      <th>113264</th>\n",
       "      <td>7945</td>\n",
       "      <td>12319</td>\n",
       "      <td>1.0</td>\n",
       "    </tr>\n",
       "    <tr>\n",
       "      <th>113265</th>\n",
       "      <td>7945</td>\n",
       "      <td>21384</td>\n",
       "      <td>1.0</td>\n",
       "    </tr>\n",
       "    <tr>\n",
       "      <th>113266</th>\n",
       "      <td>7946</td>\n",
       "      <td>8699</td>\n",
       "      <td>1.0</td>\n",
       "    </tr>\n",
       "    <tr>\n",
       "      <th>113267</th>\n",
       "      <td>7946</td>\n",
       "      <td>19178</td>\n",
       "      <td>1.0</td>\n",
       "    </tr>\n",
       "  </tbody>\n",
       "</table>\n",
       "<p>113268 rows × 3 columns</p>\n",
       "</div>"
      ],
      "text/plain": [
       "         row    col  data\n",
       "0          0  10080   1.0\n",
       "1          0  19467   1.0\n",
       "2          1   2665   1.0\n",
       "3          1   7494   1.0\n",
       "4          1  17068   1.0\n",
       "...      ...    ...   ...\n",
       "113263  7945   2476   1.0\n",
       "113264  7945  12319   1.0\n",
       "113265  7945  21384   1.0\n",
       "113266  7946   8699   1.0\n",
       "113267  7946  19178   1.0\n",
       "\n",
       "[113268 rows x 3 columns]"
      ]
     },
     "execution_count": 2,
     "metadata": {},
     "output_type": "execute_result"
    }
   ],
   "source": [
    "#data which contains users (row), items(col) and implicit interaction (data)\n",
    "dataset = pd.read_csv('../data_train.csv')\n",
    "dataset"
   ]
  },
  {
   "cell_type": "markdown",
   "metadata": {},
   "source": [
    "# Data pre-processing\n",
    "Pre-processing of data to check for missing users, items ecc..."
   ]
  },
  {
   "cell_type": "code",
   "execution_count": 3,
   "metadata": {},
   "outputs": [
    {
     "data": {
      "text/plain": [
       "(7947, 25975)"
      ]
     },
     "execution_count": 3,
     "metadata": {},
     "output_type": "execute_result"
    }
   ],
   "source": [
    "users = dataset.row\n",
    "items = dataset.col\n",
    "data = dataset.data\n",
    "URM_all = sps.coo_matrix((data, (users, items)))\n",
    "URM_all = URM_all.tocsr() #fast row access -> fast access to users \n",
    "URM_all.shape"
   ]
  },
  {
   "cell_type": "code",
   "execution_count": 4,
   "metadata": {},
   "outputs": [
    {
     "data": {
      "text/html": [
       "<div>\n",
       "<style scoped>\n",
       "    .dataframe tbody tr th:only-of-type {\n",
       "        vertical-align: middle;\n",
       "    }\n",
       "\n",
       "    .dataframe tbody tr th {\n",
       "        vertical-align: top;\n",
       "    }\n",
       "\n",
       "    .dataframe thead th {\n",
       "        text-align: right;\n",
       "    }\n",
       "</style>\n",
       "<table border=\"1\" class=\"dataframe\">\n",
       "  <thead>\n",
       "    <tr style=\"text-align: right;\">\n",
       "      <th></th>\n",
       "      <th>row</th>\n",
       "      <th>col</th>\n",
       "      <th>data</th>\n",
       "    </tr>\n",
       "  </thead>\n",
       "  <tbody>\n",
       "    <tr>\n",
       "      <th>0</th>\n",
       "      <td>0</td>\n",
       "      <td>1185</td>\n",
       "      <td>1.015524</td>\n",
       "    </tr>\n",
       "    <tr>\n",
       "      <th>1</th>\n",
       "      <td>0</td>\n",
       "      <td>2507</td>\n",
       "      <td>0.459024</td>\n",
       "    </tr>\n",
       "    <tr>\n",
       "      <th>2</th>\n",
       "      <td>0</td>\n",
       "      <td>3534</td>\n",
       "      <td>0.227742</td>\n",
       "    </tr>\n",
       "    <tr>\n",
       "      <th>3</th>\n",
       "      <td>0</td>\n",
       "      <td>8766</td>\n",
       "      <td>0.501549</td>\n",
       "    </tr>\n",
       "    <tr>\n",
       "      <th>4</th>\n",
       "      <td>0</td>\n",
       "      <td>10862</td>\n",
       "      <td>0.297011</td>\n",
       "    </tr>\n",
       "    <tr>\n",
       "      <th>...</th>\n",
       "      <td>...</td>\n",
       "      <td>...</td>\n",
       "      <td>...</td>\n",
       "    </tr>\n",
       "    <tr>\n",
       "      <th>490686</th>\n",
       "      <td>25974</td>\n",
       "      <td>12554</td>\n",
       "      <td>0.963016</td>\n",
       "    </tr>\n",
       "    <tr>\n",
       "      <th>490687</th>\n",
       "      <td>25974</td>\n",
       "      <td>13003</td>\n",
       "      <td>0.104613</td>\n",
       "    </tr>\n",
       "    <tr>\n",
       "      <th>490688</th>\n",
       "      <td>25974</td>\n",
       "      <td>16236</td>\n",
       "      <td>0.118760</td>\n",
       "    </tr>\n",
       "    <tr>\n",
       "      <th>490689</th>\n",
       "      <td>25974</td>\n",
       "      <td>18797</td>\n",
       "      <td>0.363301</td>\n",
       "    </tr>\n",
       "    <tr>\n",
       "      <th>490690</th>\n",
       "      <td>25974</td>\n",
       "      <td>19629</td>\n",
       "      <td>0.129141</td>\n",
       "    </tr>\n",
       "  </tbody>\n",
       "</table>\n",
       "<p>490691 rows × 3 columns</p>\n",
       "</div>"
      ],
      "text/plain": [
       "          row    col      data\n",
       "0           0   1185  1.015524\n",
       "1           0   2507  0.459024\n",
       "2           0   3534  0.227742\n",
       "3           0   8766  0.501549\n",
       "4           0  10862  0.297011\n",
       "...       ...    ...       ...\n",
       "490686  25974  12554  0.963016\n",
       "490687  25974  13003  0.104613\n",
       "490688  25974  16236  0.118760\n",
       "490689  25974  18797  0.363301\n",
       "490690  25974  19629  0.129141\n",
       "\n",
       "[490691 rows x 3 columns]"
      ]
     },
     "execution_count": 4,
     "metadata": {},
     "output_type": "execute_result"
    }
   ],
   "source": [
    "ICM_df = pd.read_csv('../data_ICM_title_abstract.csv')\n",
    "ICM_df"
   ]
  },
  {
   "cell_type": "code",
   "execution_count": 5,
   "metadata": {},
   "outputs": [
    {
     "data": {
      "text/plain": [
       "(25975, 20000)"
      ]
     },
     "execution_count": 5,
     "metadata": {},
     "output_type": "execute_result"
    }
   ],
   "source": [
    "items = ICM_df.row\n",
    "features = ICM_df.col\n",
    "data = ICM_df.data\n",
    "ICM_all = sps.coo_matrix((data, (items, features)))\n",
    "ICM_all = ICM_all.tocsr() #fast row access -> fast access to users \n",
    "ICM_all.shape"
   ]
  },
  {
   "cell_type": "code",
   "execution_count": 6,
   "metadata": {},
   "outputs": [
    {
     "name": "stdout",
     "output_type": "stream",
     "text": [
      "Warning: 71 (0.89 %) of 7947 users have no train items\n",
      "Warning: 2411 (30.34 %) of 7947 users have no sampled items\n",
      "Warning: 57 (0.72 %) of 7947 users have no train items\n",
      "Warning: 2320 (29.19 %) of 7947 users have no sampled items\n",
      "Warning: 71 (0.89 %) of 7947 users have no train items\n",
      "Warning: 2289 (28.80 %) of 7947 users have no sampled items\n",
      "Warning: 74 (0.93 %) of 7947 users have no train items\n",
      "Warning: 2273 (28.60 %) of 7947 users have no sampled items\n",
      "Warning: 64 (0.81 %) of 7947 users have no train items\n",
      "Warning: 2358 (29.67 %) of 7947 users have no sampled items\n"
     ]
    }
   ],
   "source": [
    "from Data_manager.split_functions.split_train_validation_random_holdout import split_train_in_two_percentage_global_sample\n",
    "from Base.Evaluation.Evaluator import EvaluatorHoldout\n",
    "\n",
    "URM_train_1, URM_validation_1 = split_train_in_two_percentage_global_sample(URM_all, train_percentage = 0.8, seed=1)\n",
    "\n",
    "URM_train_2, URM_validation_2 = split_train_in_two_percentage_global_sample(URM_all, train_percentage = 0.8, seed=2)\n",
    "\n",
    "URM_train_3, URM_validation_3 = split_train_in_two_percentage_global_sample(URM_all, train_percentage = 0.8, seed=3)\n",
    "\n",
    "URM_train_4, URM_validation_4 = split_train_in_two_percentage_global_sample(URM_all, train_percentage = 0.8, seed=4)\n",
    "\n",
    "URM_train_5, URM_validation_5 = split_train_in_two_percentage_global_sample(URM_all, train_percentage = 0.8, seed=5)\n",
    "\n",
    "training_list = [URM_train_1,URM_train_2,URM_train_3,URM_train_4,URM_train_5]\n",
    "\n",
    "evaluator_validation_1 = EvaluatorHoldout(URM_validation_1, cutoff_list=[10])\n",
    "evaluator_validation_2 = EvaluatorHoldout(URM_validation_2, cutoff_list=[10])\n",
    "evaluator_validation_3 = EvaluatorHoldout(URM_validation_3, cutoff_list=[10])\n",
    "evaluator_validation_4 = EvaluatorHoldout(URM_validation_4, cutoff_list=[10])\n",
    "evaluator_validation_5 = EvaluatorHoldout(URM_validation_5, cutoff_list=[10])\n",
    "\n",
    "evaluator_list = [evaluator_validation_1, evaluator_validation_2, evaluator_validation_3, evaluator_validation_4, evaluator_validation_5]\n"
   ]
  },
  {
   "cell_type": "code",
   "execution_count": 8,
   "metadata": {},
   "outputs": [
    {
     "name": "stdout",
     "output_type": "stream",
     "text": [
      "RP3betaRecommender: URM Detected 73 (0.26 %) cold users.\n",
      "RP3betaRecommender: URM Detected 1 (0.00 %) cold items.\n",
      "EvaluatorHoldout: Processed 5536 ( 100.00% ) in 4.55 sec. Users per second: 1216\n",
      "{10: {'ROC_AUC': 0.21660170227773304, 'PRECISION': 0.04613439306358265, 'PRECISION_RECALL_MIN_DEN': 0.16801433904486726, 'RECALL': 0.1628965540202371, 'MAP': 0.08001920672331216, 'MRR': 0.1620936410450504, 'NDCG': 0.11786685099002954, 'F1': 0.07190450750681651, 'HIT_RATE': 0.4613439306358382, 'ARHR': 0.18719155713827004, 'NOVELTY': 0.0054373401964055304, 'AVERAGE_POPULARITY': 0.11540966048316144, 'DIVERSITY_MEAN_INTER_LIST': 0.9940899413088543, 'DIVERSITY_HERFINDAHL': 0.9993910373039109, 'COVERAGE_ITEM': 0.5720115495668913, 'COVERAGE_ITEM_CORRECT': 0.06479307025986525, 'COVERAGE_USER': 0.6966150748710205, 'COVERAGE_USER_CORRECT': 0.23392475147854536, 'DIVERSITY_GINI': 0.24738541445994613, 'SHANNON_ENTROPY': 12.604981055317381}}\n",
      "RP3betaRecommender: Saving model in file 'RP3_saved/RP3_fold_number1'\n",
      "RP3betaRecommender: Saving complete\n",
      "RP3betaRecommender: URM Detected 59 (0.21 %) cold users.\n",
      "RP3betaRecommender: URM Detected 1 (0.00 %) cold items.\n",
      "EvaluatorHoldout: Processed 5627 ( 100.00% ) in 4.35 sec. Users per second: 1294\n",
      "{10: {'ROC_AUC': 0.20383017255240538, 'PRECISION': 0.04505064865825369, 'PRECISION_RECALL_MIN_DEN': 0.1605861478528981, 'RECALL': 0.15582584061645774, 'MAP': 0.07219337245360258, 'MRR': 0.14847743729919002, 'NDCG': 0.10980181210421612, 'F1': 0.06989424419787327, 'HIT_RATE': 0.45050648658254844, 'ARHR': 0.17407087709202568, 'NOVELTY': 0.005442662399923285, 'AVERAGE_POPULARITY': 0.11369435794809189, 'DIVERSITY_MEAN_INTER_LIST': 0.9943962919121035, 'DIVERSITY_HERFINDAHL': 0.9994219573182423, 'COVERAGE_ITEM': 0.5713185755534167, 'COVERAGE_ITEM_CORRECT': 0.06398460057747835, 'COVERAGE_USER': 0.7080659368315088, 'COVERAGE_USER_CORRECT': 0.23002390839310433, 'DIVERSITY_GINI': 0.24820960486334834, 'SHANNON_ENTROPY': 12.633440790927551}}\n",
      "RP3betaRecommender: Saving model in file 'RP3_saved/RP3_fold_number2'\n",
      "RP3betaRecommender: Saving complete\n",
      "RP3betaRecommender: URM Detected 73 (0.26 %) cold users.\n",
      "RP3betaRecommender: URM Detected 4 (0.02 %) cold items.\n",
      "EvaluatorHoldout: Processed 5658 ( 100.00% ) in 4.02 sec. Users per second: 1407\n",
      "{10: {'ROC_AUC': 0.20080413601755157, 'PRECISION': 0.04409685401201723, 'PRECISION_RECALL_MIN_DEN': 0.15619420738720916, 'RECALL': 0.1515475636719116, 'MAP': 0.07271793766372109, 'MRR': 0.14749518872000345, 'NDCG': 0.10870575582751456, 'F1': 0.06831547631390585, 'HIT_RATE': 0.4409685401201838, 'ARHR': 0.17294622868588974, 'NOVELTY': 0.00544063141830125, 'AVERAGE_POPULARITY': 0.11428315520341531, 'DIVERSITY_MEAN_INTER_LIST': 0.994138638222161, 'DIVERSITY_HERFINDAHL': 0.999396293326666, 'COVERAGE_ITEM': 0.5773243503368624, 'COVERAGE_ITEM_CORRECT': 0.0629451395572666, 'COVERAGE_USER': 0.7119667799169498, 'COVERAGE_USER_CORRECT': 0.22398389329306656, 'DIVERSITY_GINI': 0.24993619746122342, 'SHANNON_ENTROPY': 12.617784475029413}}\n",
      "RP3betaRecommender: Saving model in file 'RP3_saved/RP3_fold_number3'\n",
      "RP3betaRecommender: Saving complete\n",
      "RP3betaRecommender: URM Detected 76 (0.27 %) cold users.\n",
      "EvaluatorHoldout: Processed 5674 ( 100.00% ) in 4.02 sec. Users per second: 1412\n",
      "{10: {'ROC_AUC': 0.1971107698160931, 'PRECISION': 0.044148748678180104, 'PRECISION_RECALL_MIN_DEN': 0.15505431346548798, 'RECALL': 0.15016860982020225, 'MAP': 0.07276275797724915, 'MRR': 0.1480155233283543, 'NDCG': 0.1082923592617791, 'F1': 0.06823637646720057, 'HIT_RATE': 0.44148748678181177, 'ARHR': 0.17445308871992052, 'NOVELTY': 0.005440485779583899, 'AVERAGE_POPULARITY': 0.11331535977288515, 'DIVERSITY_MEAN_INTER_LIST': 0.99421029220219, 'DIVERSITY_HERFINDAHL': 0.999403507008513, 'COVERAGE_ITEM': 0.5774013474494707, 'COVERAGE_ITEM_CORRECT': 0.06352261790182868, 'COVERAGE_USER': 0.7139801182836291, 'COVERAGE_USER_CORRECT': 0.22209638857430478, 'DIVERSITY_GINI': 0.24794787254610667, 'SHANNON_ENTROPY': 12.613099086884567}}\n",
      "RP3betaRecommender: Saving model in file 'RP3_saved/RP3_fold_number4'\n",
      "RP3betaRecommender: Saving complete\n",
      "RP3betaRecommender: URM Detected 66 (0.24 %) cold users.\n",
      "RP3betaRecommender: URM Detected 3 (0.01 %) cold items.\n",
      "EvaluatorHoldout: Processed 5589 ( 100.00% ) in 3.99 sec. Users per second: 1399\n",
      "{10: {'ROC_AUC': 0.19632716759394211, 'PRECISION': 0.04464125961710394, 'PRECISION_RECALL_MIN_DEN': 0.15107602234548098, 'RECALL': 0.14627417939216242, 'MAP': 0.06938408727307395, 'MRR': 0.14784220421633226, 'NDCG': 0.10561836789976849, 'F1': 0.06840582041358552, 'HIT_RATE': 0.4464125961710503, 'ARHR': 0.17338167091253553, 'NOVELTY': 0.005438280494912706, 'AVERAGE_POPULARITY': 0.11482332337588629, 'DIVERSITY_MEAN_INTER_LIST': 0.9941499132986067, 'DIVERSITY_HERFINDAHL': 0.9993972037128755, 'COVERAGE_ITEM': 0.5703561116458132, 'COVERAGE_ITEM_CORRECT': 0.06302213666987488, 'COVERAGE_USER': 0.7032842582106456, 'COVERAGE_USER_CORRECT': 0.22184472127846985, 'DIVERSITY_GINI': 0.24589247583259896, 'SHANNON_ENTROPY': 12.600869762763034}}\n",
      "RP3betaRecommender: Saving model in file 'RP3_saved/RP3_fold_number5'\n",
      "RP3betaRecommender: Saving complete\n"
     ]
    }
   ],
   "source": [
    "from GraphBased.RP3betaRecommender import RP3betaRecommender\n",
    "i=1\n",
    "for URM_train, evaluator in zip(training_list,evaluator_list):\n",
    "    \n",
    "    URM_train_ICM_all_RP3 = sps.vstack([URM_train, ICM_all.T])\n",
    "    recommender = RP3betaRecommender(URM_train_ICM_all_RP3)\n",
    "    recommender.fit(topK = 291, alpha = 0.39433313113766405, beta = 0.27467923612192335, implicit = False)\n",
    "\n",
    "    #recommender.URM_train = URM_train.tocsr()\n",
    "    \n",
    "    result_dict, _ = evaluator.evaluateRecommender(recommender)\n",
    "    print(result_dict)\n",
    "    \n",
    "    filename = 'RP3_fold_number' + str(i)\n",
    "    recommender.save_model('RP3_saved/', file_name = filename)\n",
    "    i = i+1"
   ]
  },
  {
   "cell_type": "code",
   "execution_count": null,
   "metadata": {},
   "outputs": [],
   "source": []
  }
 ],
 "metadata": {
  "kernelspec": {
   "display_name": "Python 3",
   "language": "python",
   "name": "python3"
  },
  "language_info": {
   "codemirror_mode": {
    "name": "ipython",
    "version": 3
   },
   "file_extension": ".py",
   "mimetype": "text/x-python",
   "name": "python",
   "nbconvert_exporter": "python",
   "pygments_lexer": "ipython3",
   "version": "3.8.5"
  }
 },
 "nbformat": 4,
 "nbformat_minor": 4
}
