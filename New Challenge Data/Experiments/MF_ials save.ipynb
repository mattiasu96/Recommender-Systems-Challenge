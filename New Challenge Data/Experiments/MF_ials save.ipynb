{
 "cells": [
  {
   "cell_type": "markdown",
   "metadata": {},
   "source": [
    "# Data loading \n",
    "Next cells are used to load the data we need."
   ]
  },
  {
   "cell_type": "code",
   "execution_count": 4,
   "metadata": {},
   "outputs": [],
   "source": [
    "import os\n",
    "os.environ[\"OMP_NUM_THREADS\"] = \"1\" # export OMP_NUM_THREADS=1\n",
    "os.environ[\"OPENBLAS_NUM_THREADS\"] = \"1\" # export OPENBLAS_NUM_THREADS=1\n",
    "os.environ[\"MKL_NUM_THREADS\"] = \"1\" # export MKL_NUM_THREADS=1\n",
    "os.environ[\"VECLIB_MAXIMUM_THREADS\"] = \"1\" # export VECLIB_MAXIMUM_THREADS=1\n",
    "os.environ[\"NUMEXPR_NUM_THREADS\"] = \"1\" # export NUMEXPR_NUM_THREADS=1 \n",
    "import pandas as pd\n",
    "import numpy as np \n",
    "import scipy.sparse as sps\n",
    "import sys\n",
    "import matplotlib.pyplot as plt\n",
    "sys.path.append('../../')\n"
   ]
  },
  {
   "cell_type": "code",
   "execution_count": 5,
   "metadata": {},
   "outputs": [
    {
     "data": {
      "text/html": [
       "<div>\n",
       "<style scoped>\n",
       "    .dataframe tbody tr th:only-of-type {\n",
       "        vertical-align: middle;\n",
       "    }\n",
       "\n",
       "    .dataframe tbody tr th {\n",
       "        vertical-align: top;\n",
       "    }\n",
       "\n",
       "    .dataframe thead th {\n",
       "        text-align: right;\n",
       "    }\n",
       "</style>\n",
       "<table border=\"1\" class=\"dataframe\">\n",
       "  <thead>\n",
       "    <tr style=\"text-align: right;\">\n",
       "      <th></th>\n",
       "      <th>row</th>\n",
       "      <th>col</th>\n",
       "      <th>data</th>\n",
       "    </tr>\n",
       "  </thead>\n",
       "  <tbody>\n",
       "    <tr>\n",
       "      <th>0</th>\n",
       "      <td>0</td>\n",
       "      <td>10080</td>\n",
       "      <td>1.0</td>\n",
       "    </tr>\n",
       "    <tr>\n",
       "      <th>1</th>\n",
       "      <td>0</td>\n",
       "      <td>19467</td>\n",
       "      <td>1.0</td>\n",
       "    </tr>\n",
       "    <tr>\n",
       "      <th>2</th>\n",
       "      <td>1</td>\n",
       "      <td>2665</td>\n",
       "      <td>1.0</td>\n",
       "    </tr>\n",
       "    <tr>\n",
       "      <th>3</th>\n",
       "      <td>1</td>\n",
       "      <td>7494</td>\n",
       "      <td>1.0</td>\n",
       "    </tr>\n",
       "    <tr>\n",
       "      <th>4</th>\n",
       "      <td>1</td>\n",
       "      <td>17068</td>\n",
       "      <td>1.0</td>\n",
       "    </tr>\n",
       "    <tr>\n",
       "      <th>...</th>\n",
       "      <td>...</td>\n",
       "      <td>...</td>\n",
       "      <td>...</td>\n",
       "    </tr>\n",
       "    <tr>\n",
       "      <th>113263</th>\n",
       "      <td>7945</td>\n",
       "      <td>2476</td>\n",
       "      <td>1.0</td>\n",
       "    </tr>\n",
       "    <tr>\n",
       "      <th>113264</th>\n",
       "      <td>7945</td>\n",
       "      <td>12319</td>\n",
       "      <td>1.0</td>\n",
       "    </tr>\n",
       "    <tr>\n",
       "      <th>113265</th>\n",
       "      <td>7945</td>\n",
       "      <td>21384</td>\n",
       "      <td>1.0</td>\n",
       "    </tr>\n",
       "    <tr>\n",
       "      <th>113266</th>\n",
       "      <td>7946</td>\n",
       "      <td>8699</td>\n",
       "      <td>1.0</td>\n",
       "    </tr>\n",
       "    <tr>\n",
       "      <th>113267</th>\n",
       "      <td>7946</td>\n",
       "      <td>19178</td>\n",
       "      <td>1.0</td>\n",
       "    </tr>\n",
       "  </tbody>\n",
       "</table>\n",
       "<p>113268 rows × 3 columns</p>\n",
       "</div>"
      ],
      "text/plain": [
       "         row    col  data\n",
       "0          0  10080   1.0\n",
       "1          0  19467   1.0\n",
       "2          1   2665   1.0\n",
       "3          1   7494   1.0\n",
       "4          1  17068   1.0\n",
       "...      ...    ...   ...\n",
       "113263  7945   2476   1.0\n",
       "113264  7945  12319   1.0\n",
       "113265  7945  21384   1.0\n",
       "113266  7946   8699   1.0\n",
       "113267  7946  19178   1.0\n",
       "\n",
       "[113268 rows x 3 columns]"
      ]
     },
     "execution_count": 5,
     "metadata": {},
     "output_type": "execute_result"
    }
   ],
   "source": [
    "#data which contains users (row), items(col) and implicit interaction (data)\n",
    "dataset = pd.read_csv('../data_train.csv')\n",
    "dataset"
   ]
  },
  {
   "cell_type": "markdown",
   "metadata": {},
   "source": [
    "# Data pre-processing\n",
    "Pre-processing of data to check for missing users, items ecc..."
   ]
  },
  {
   "cell_type": "code",
   "execution_count": 6,
   "metadata": {},
   "outputs": [
    {
     "data": {
      "text/plain": [
       "(7947, 25975)"
      ]
     },
     "execution_count": 6,
     "metadata": {},
     "output_type": "execute_result"
    }
   ],
   "source": [
    "users = dataset.row\n",
    "items = dataset.col\n",
    "data = dataset.data\n",
    "URM_all = sps.coo_matrix((data, (users, items)))\n",
    "URM_all = URM_all.tocsr() #fast row access -> fast access to users \n",
    "URM_all.shape"
   ]
  },
  {
   "cell_type": "code",
   "execution_count": 7,
   "metadata": {},
   "outputs": [
    {
     "data": {
      "text/html": [
       "<div>\n",
       "<style scoped>\n",
       "    .dataframe tbody tr th:only-of-type {\n",
       "        vertical-align: middle;\n",
       "    }\n",
       "\n",
       "    .dataframe tbody tr th {\n",
       "        vertical-align: top;\n",
       "    }\n",
       "\n",
       "    .dataframe thead th {\n",
       "        text-align: right;\n",
       "    }\n",
       "</style>\n",
       "<table border=\"1\" class=\"dataframe\">\n",
       "  <thead>\n",
       "    <tr style=\"text-align: right;\">\n",
       "      <th></th>\n",
       "      <th>row</th>\n",
       "      <th>col</th>\n",
       "      <th>data</th>\n",
       "    </tr>\n",
       "  </thead>\n",
       "  <tbody>\n",
       "    <tr>\n",
       "      <th>0</th>\n",
       "      <td>0</td>\n",
       "      <td>1185</td>\n",
       "      <td>1.015524</td>\n",
       "    </tr>\n",
       "    <tr>\n",
       "      <th>1</th>\n",
       "      <td>0</td>\n",
       "      <td>2507</td>\n",
       "      <td>0.459024</td>\n",
       "    </tr>\n",
       "    <tr>\n",
       "      <th>2</th>\n",
       "      <td>0</td>\n",
       "      <td>3534</td>\n",
       "      <td>0.227742</td>\n",
       "    </tr>\n",
       "    <tr>\n",
       "      <th>3</th>\n",
       "      <td>0</td>\n",
       "      <td>8766</td>\n",
       "      <td>0.501549</td>\n",
       "    </tr>\n",
       "    <tr>\n",
       "      <th>4</th>\n",
       "      <td>0</td>\n",
       "      <td>10862</td>\n",
       "      <td>0.297011</td>\n",
       "    </tr>\n",
       "    <tr>\n",
       "      <th>...</th>\n",
       "      <td>...</td>\n",
       "      <td>...</td>\n",
       "      <td>...</td>\n",
       "    </tr>\n",
       "    <tr>\n",
       "      <th>490686</th>\n",
       "      <td>25974</td>\n",
       "      <td>12554</td>\n",
       "      <td>0.963016</td>\n",
       "    </tr>\n",
       "    <tr>\n",
       "      <th>490687</th>\n",
       "      <td>25974</td>\n",
       "      <td>13003</td>\n",
       "      <td>0.104613</td>\n",
       "    </tr>\n",
       "    <tr>\n",
       "      <th>490688</th>\n",
       "      <td>25974</td>\n",
       "      <td>16236</td>\n",
       "      <td>0.118760</td>\n",
       "    </tr>\n",
       "    <tr>\n",
       "      <th>490689</th>\n",
       "      <td>25974</td>\n",
       "      <td>18797</td>\n",
       "      <td>0.363301</td>\n",
       "    </tr>\n",
       "    <tr>\n",
       "      <th>490690</th>\n",
       "      <td>25974</td>\n",
       "      <td>19629</td>\n",
       "      <td>0.129141</td>\n",
       "    </tr>\n",
       "  </tbody>\n",
       "</table>\n",
       "<p>490691 rows × 3 columns</p>\n",
       "</div>"
      ],
      "text/plain": [
       "          row    col      data\n",
       "0           0   1185  1.015524\n",
       "1           0   2507  0.459024\n",
       "2           0   3534  0.227742\n",
       "3           0   8766  0.501549\n",
       "4           0  10862  0.297011\n",
       "...       ...    ...       ...\n",
       "490686  25974  12554  0.963016\n",
       "490687  25974  13003  0.104613\n",
       "490688  25974  16236  0.118760\n",
       "490689  25974  18797  0.363301\n",
       "490690  25974  19629  0.129141\n",
       "\n",
       "[490691 rows x 3 columns]"
      ]
     },
     "execution_count": 7,
     "metadata": {},
     "output_type": "execute_result"
    }
   ],
   "source": [
    "ICM_df = pd.read_csv('../data_ICM_title_abstract.csv')\n",
    "ICM_df"
   ]
  },
  {
   "cell_type": "code",
   "execution_count": 8,
   "metadata": {},
   "outputs": [
    {
     "data": {
      "text/plain": [
       "(25975, 20000)"
      ]
     },
     "execution_count": 8,
     "metadata": {},
     "output_type": "execute_result"
    }
   ],
   "source": [
    "items = ICM_df.row\n",
    "features = ICM_df.col\n",
    "data = ICM_df.data\n",
    "ICM_all = sps.coo_matrix((data, (items, features)))\n",
    "ICM_all = ICM_all.tocsr() #fast row access -> fast access to users \n",
    "ICM_all.shape"
   ]
  },
  {
   "cell_type": "code",
   "execution_count": 9,
   "metadata": {},
   "outputs": [
    {
     "name": "stdout",
     "output_type": "stream",
     "text": [
      "Warning: 71 (0.89 %) of 7947 users have no train items\n",
      "Warning: 2411 (30.34 %) of 7947 users have no sampled items\n",
      "Warning: 57 (0.72 %) of 7947 users have no train items\n",
      "Warning: 2320 (29.19 %) of 7947 users have no sampled items\n",
      "Warning: 71 (0.89 %) of 7947 users have no train items\n",
      "Warning: 2289 (28.80 %) of 7947 users have no sampled items\n",
      "Warning: 74 (0.93 %) of 7947 users have no train items\n",
      "Warning: 2273 (28.60 %) of 7947 users have no sampled items\n",
      "Warning: 64 (0.81 %) of 7947 users have no train items\n",
      "Warning: 2358 (29.67 %) of 7947 users have no sampled items\n"
     ]
    }
   ],
   "source": [
    "from Data_manager.split_functions.split_train_validation_random_holdout import split_train_in_two_percentage_global_sample\n",
    "from Base.Evaluation.Evaluator import EvaluatorHoldout\n",
    "\n",
    "URM_train_1, URM_validation_1 = split_train_in_two_percentage_global_sample(URM_all, train_percentage = 0.8, seed=1)\n",
    "\n",
    "URM_train_2, URM_validation_2 = split_train_in_two_percentage_global_sample(URM_all, train_percentage = 0.8, seed=2)\n",
    "\n",
    "URM_train_3, URM_validation_3 = split_train_in_two_percentage_global_sample(URM_all, train_percentage = 0.8, seed=3)\n",
    "\n",
    "URM_train_4, URM_validation_4 = split_train_in_two_percentage_global_sample(URM_all, train_percentage = 0.8, seed=4)\n",
    "\n",
    "URM_train_5, URM_validation_5 = split_train_in_two_percentage_global_sample(URM_all, train_percentage = 0.8, seed=5)\n",
    "\n",
    "training_list = [URM_train_1,URM_train_2,URM_train_3,URM_train_4,URM_train_5]\n",
    "\n",
    "evaluator_validation_1 = EvaluatorHoldout(URM_validation_1, cutoff_list=[10])\n",
    "evaluator_validation_2 = EvaluatorHoldout(URM_validation_2, cutoff_list=[10])\n",
    "evaluator_validation_3 = EvaluatorHoldout(URM_validation_3, cutoff_list=[10])\n",
    "evaluator_validation_4 = EvaluatorHoldout(URM_validation_4, cutoff_list=[10])\n",
    "evaluator_validation_5 = EvaluatorHoldout(URM_validation_5, cutoff_list=[10])\n",
    "\n",
    "evaluator_list = [evaluator_validation_1, evaluator_validation_2, evaluator_validation_3, evaluator_validation_4, evaluator_validation_5]\n"
   ]
  },
  {
   "cell_type": "code",
   "execution_count": 7,
   "metadata": {},
   "outputs": [
    {
     "name": "stdout",
     "output_type": "stream",
     "text": [
      "Recommender_Base_Class: URM Detected 73 (0.26 %) cold users.\n",
      "Recommender_Base_Class: URM Detected 1 (0.00 %) cold items.\n"
     ]
    },
    {
     "data": {
      "application/vnd.jupyter.widget-view+json": {
       "model_id": "1377549d4da24dcf8f6a18f53f8cdcbc",
       "version_major": 2,
       "version_minor": 0
      },
      "text/plain": [
       "HBox(children=(HTML(value=''), FloatProgress(value=0.0, max=74.0), HTML(value='')))"
      ]
     },
     "metadata": {},
     "output_type": "display_data"
    },
    {
     "name": "stdout",
     "output_type": "stream",
     "text": [
      "\n",
      "EvaluatorHoldout: Processed 5536 ( 100.00% ) in 8.65 sec. Users per second: 640\n",
      "{10: {'ROC_AUC': 0.21895115090834164, 'PRECISION': 0.04674855491329367, 'PRECISION_RECALL_MIN_DEN': 0.1700523700568867, 'RECALL': 0.16502445247336553, 'MAP': 0.08143844825850469, 'MRR': 0.16332318331957096, 'NDCG': 0.11966137665241816, 'F1': 0.07285777138161698, 'HIT_RATE': 0.467485549132948, 'ARHR': 0.19011778603541624, 'NOVELTY': 0.005414006217056048, 'AVERAGE_POPULARITY': 0.10864052879178178, 'DIVERSITY_MEAN_INTER_LIST': 0.996379496478009, 'DIVERSITY_HERFINDAHL': 0.9996199514632547, 'COVERAGE_ITEM': 0.48635226179018287, 'COVERAGE_ITEM_CORRECT': 0.07160731472569778, 'COVERAGE_USER': 0.6966150748710205, 'COVERAGE_USER_CORRECT': 0.2354347552535548, 'DIVERSITY_GINI': 0.20276493135726886, 'SHANNON_ENTROPY': 12.539387675658178}}\n",
      "Recommender_Base_Class: Saving model in file 'MF_saved/MF_IALS_fold_number1'\n",
      "Recommender_Base_Class: Saving complete\n",
      "Recommender_Base_Class: URM Detected 59 (0.21 %) cold users.\n",
      "Recommender_Base_Class: URM Detected 1 (0.00 %) cold items.\n"
     ]
    },
    {
     "data": {
      "application/vnd.jupyter.widget-view+json": {
       "model_id": "396931677b064bd186905ec1861b3b6b",
       "version_major": 2,
       "version_minor": 0
      },
      "text/plain": [
       "HBox(children=(HTML(value=''), FloatProgress(value=0.0, max=74.0), HTML(value='')))"
      ]
     },
     "metadata": {},
     "output_type": "display_data"
    },
    {
     "name": "stdout",
     "output_type": "stream",
     "text": [
      "\n",
      "EvaluatorHoldout: Processed 5627 ( 100.00% ) in 8.84 sec. Users per second: 637\n",
      "{10: {'ROC_AUC': 0.20607185170140638, 'PRECISION': 0.04496179136306982, 'PRECISION_RECALL_MIN_DEN': 0.16071209954273807, 'RECALL': 0.1560130785660015, 'MAP': 0.07390058208020818, 'MRR': 0.15122721797681832, 'NDCG': 0.11123289158513168, 'F1': 0.06980601595483459, 'HIT_RATE': 0.4496179136307091, 'ARHR': 0.17669287251658017, 'NOVELTY': 0.0054154609213438966, 'AVERAGE_POPULARITY': 0.10817293947659223, 'DIVERSITY_MEAN_INTER_LIST': 0.9964511539792369, 'DIVERSITY_HERFINDAHL': 0.9996274070070585, 'COVERAGE_ITEM': 0.48481231953801734, 'COVERAGE_ITEM_CORRECT': 0.0695283926852743, 'COVERAGE_USER': 0.7080659368315088, 'COVERAGE_USER_CORRECT': 0.22939474015351705, 'DIVERSITY_GINI': 0.20285792646206374, 'SHANNON_ENTROPY': 12.548657862074872}}\n",
      "Recommender_Base_Class: Saving model in file 'MF_saved/MF_IALS_fold_number2'\n",
      "Recommender_Base_Class: Saving complete\n",
      "Recommender_Base_Class: URM Detected 73 (0.26 %) cold users.\n",
      "Recommender_Base_Class: URM Detected 4 (0.02 %) cold items.\n"
     ]
    },
    {
     "data": {
      "application/vnd.jupyter.widget-view+json": {
       "model_id": "c948ac6e3c504bc28df9b3e7fd48311b",
       "version_major": 2,
       "version_minor": 0
      },
      "text/plain": [
       "HBox(children=(HTML(value=''), FloatProgress(value=0.0, max=74.0), HTML(value='')))"
      ]
     },
     "metadata": {},
     "output_type": "display_data"
    },
    {
     "name": "stdout",
     "output_type": "stream",
     "text": [
      "\n",
      "EvaluatorHoldout: Processed 5658 ( 100.00% ) in 8.96 sec. Users per second: 632\n",
      "{10: {'ROC_AUC': 0.20368144276680952, 'PRECISION': 0.046129374337220565, 'PRECISION_RECALL_MIN_DEN': 0.16392416693318168, 'RECALL': 0.15908490544144424, 'MAP': 0.07430343894525972, 'MRR': 0.15006382310199948, 'NDCG': 0.11206593602789074, 'F1': 0.0715202388686079, 'HIT_RATE': 0.46129374337221635, 'ARHR': 0.17722665477172417, 'NOVELTY': 0.005414294765614372, 'AVERAGE_POPULARITY': 0.1085728435934056, 'DIVERSITY_MEAN_INTER_LIST': 0.9963358428228855, 'DIVERSITY_HERFINDAHL': 0.9996159749531471, 'COVERAGE_ITEM': 0.48854667949951874, 'COVERAGE_ITEM_CORRECT': 0.07025986525505294, 'COVERAGE_USER': 0.7119667799169498, 'COVERAGE_USER_CORRECT': 0.23316974959104064, 'DIVERSITY_GINI': 0.2027890660797584, 'SHANNON_ENTROPY': 12.533453244007625}}\n",
      "Recommender_Base_Class: Saving model in file 'MF_saved/MF_IALS_fold_number3'\n",
      "Recommender_Base_Class: Saving complete\n",
      "Recommender_Base_Class: URM Detected 76 (0.27 %) cold users.\n"
     ]
    },
    {
     "data": {
      "application/vnd.jupyter.widget-view+json": {
       "model_id": "0f2c568e1c5341d09b9425dcfe678b69",
       "version_major": 2,
       "version_minor": 0
      },
      "text/plain": [
       "HBox(children=(HTML(value=''), FloatProgress(value=0.0, max=74.0), HTML(value='')))"
      ]
     },
     "metadata": {},
     "output_type": "display_data"
    },
    {
     "name": "stdout",
     "output_type": "stream",
     "text": [
      "\n",
      "EvaluatorHoldout: Processed 5674 ( 100.00% ) in 8.84 sec. Users per second: 642\n",
      "{10: {'ROC_AUC': 0.19976584923712218, 'PRECISION': 0.04510045823052413, 'PRECISION_RECALL_MIN_DEN': 0.1577792884278614, 'RECALL': 0.15325653097445352, 'MAP': 0.07368391630239207, 'MRR': 0.15061733834645397, 'NDCG': 0.11024750660380081, 'F1': 0.06969192062726588, 'HIT_RATE': 0.45100458230525203, 'ARHR': 0.17826531211709246, 'NOVELTY': 0.0054126371092368935, 'AVERAGE_POPULARITY': 0.10846940525297959, 'DIVERSITY_MEAN_INTER_LIST': 0.9962735691348136, 'DIVERSITY_HERFINDAHL': 0.9996097983380648, 'COVERAGE_ITEM': 0.4865832531280077, 'COVERAGE_ITEM_CORRECT': 0.07037536092396535, 'COVERAGE_USER': 0.7139801182836291, 'COVERAGE_USER_CORRECT': 0.22549389706807602, 'DIVERSITY_GINI': 0.20069995741303567, 'SHANNON_ENTROPY': 12.518775808798425}}\n",
      "Recommender_Base_Class: Saving model in file 'MF_saved/MF_IALS_fold_number4'\n",
      "Recommender_Base_Class: Saving complete\n",
      "Recommender_Base_Class: URM Detected 66 (0.24 %) cold users.\n",
      "Recommender_Base_Class: URM Detected 3 (0.01 %) cold items.\n"
     ]
    },
    {
     "data": {
      "application/vnd.jupyter.widget-view+json": {
       "model_id": "602950b65b584012bedc64bb8f9f0036",
       "version_major": 2,
       "version_minor": 0
      },
      "text/plain": [
       "HBox(children=(HTML(value=''), FloatProgress(value=0.0, max=74.0), HTML(value='')))"
      ]
     },
     "metadata": {},
     "output_type": "display_data"
    },
    {
     "name": "stdout",
     "output_type": "stream",
     "text": [
      "\n",
      "EvaluatorHoldout: Processed 5589 ( 100.00% ) in 8.68 sec. Users per second: 644\n",
      "{10: {'ROC_AUC': 0.20300651506502362, 'PRECISION': 0.04482018250134083, 'PRECISION_RECALL_MIN_DEN': 0.15543222656749303, 'RECALL': 0.15086827698124933, 'MAP': 0.07241026182246814, 'MRR': 0.15219152132732414, 'NDCG': 0.10921747877588638, 'F1': 0.06910927426013104, 'HIT_RATE': 0.4482018250134192, 'ARHR': 0.17732372545845493, 'NOVELTY': 0.005410945687113123, 'AVERAGE_POPULARITY': 0.10943507044116145, 'DIVERSITY_MEAN_INTER_LIST': 0.9962825344753148, 'DIVERSITY_HERFINDAHL': 0.9996104276730732, 'COVERAGE_ITEM': 0.4859672762271415, 'COVERAGE_ITEM_CORRECT': 0.06895091434071222, 'COVERAGE_USER': 0.7032842582106456, 'COVERAGE_USER_CORRECT': 0.22700390084308544, 'DIVERSITY_GINI': 0.200530176829481, 'SHANNON_ENTROPY': 12.51749304317315}}\n",
      "Recommender_Base_Class: Saving model in file 'MF_saved/MF_IALS_fold_number5'\n",
      "Recommender_Base_Class: Saving complete\n"
     ]
    }
   ],
   "source": [
    "from MatrixFactorization.IALSRecommender_implicit import IALSRecommender_implicit\n",
    "i=1\n",
    "for URM_train, evaluator in zip(training_list,evaluator_list):\n",
    "    \n",
    "    URM_train_ICM_all_IALS = sps.vstack([URM_train*(1-0.55124), ICM_all.T*0.55124])\n",
    "    recommender = IALSRecommender_implicit(URM_train_ICM_all_IALS)\n",
    "    recommender.fit(n_factors = 867, regularization = 0.74517, iterations=74)\n",
    "\n",
    "    #recommender.URM_train = URM_train.tocsr()\n",
    "    \n",
    "    result_dict, _ = evaluator.evaluateRecommender(recommender)\n",
    "    print(result_dict)\n",
    "    \n",
    "    filename = 'MF_IALS_fold_number' + str(i)\n",
    "    recommender.save_model('MF_saved/', file_name = filename)\n",
    "    i = i+1"
   ]
  },
  {
   "cell_type": "code",
   "execution_count": null,
   "metadata": {},
   "outputs": [],
   "source": []
  }
 ],
 "metadata": {
  "kernelspec": {
   "display_name": "Python 3",
   "language": "python",
   "name": "python3"
  },
  "language_info": {
   "codemirror_mode": {
    "name": "ipython",
    "version": 3
   },
   "file_extension": ".py",
   "mimetype": "text/x-python",
   "name": "python",
   "nbconvert_exporter": "python",
   "pygments_lexer": "ipython3",
   "version": "3.8.5"
  }
 },
 "nbformat": 4,
 "nbformat_minor": 4
}
