{
 "cells": [
  {
   "cell_type": "markdown",
   "metadata": {},
   "source": [
    "# Data loading \n",
    "Next cells are used to load the data we need."
   ]
  },
  {
   "cell_type": "code",
   "execution_count": 1,
   "metadata": {},
   "outputs": [],
   "source": [
    "import os\n",
    "os.environ[\"OMP_NUM_THREADS\"] = \"1\" # export OMP_NUM_THREADS=1\n",
    "os.environ[\"OPENBLAS_NUM_THREADS\"] = \"1\" # export OPENBLAS_NUM_THREADS=1\n",
    "os.environ[\"MKL_NUM_THREADS\"] = \"1\" # export MKL_NUM_THREADS=1\n",
    "os.environ[\"VECLIB_MAXIMUM_THREADS\"] = \"1\" # export VECLIB_MAXIMUM_THREADS=1\n",
    "os.environ[\"NUMEXPR_NUM_THREADS\"] = \"1\" # export NUMEXPR_NUM_THREADS=1 \n",
    "import pandas as pd\n",
    "import numpy as np \n",
    "import scipy.sparse as sps\n",
    "import sys\n",
    "import matplotlib.pyplot as plt\n",
    "sys.path.append('../../')\n"
   ]
  },
  {
   "cell_type": "code",
   "execution_count": 2,
   "metadata": {},
   "outputs": [
    {
     "data": {
      "text/html": [
       "<div>\n",
       "<style scoped>\n",
       "    .dataframe tbody tr th:only-of-type {\n",
       "        vertical-align: middle;\n",
       "    }\n",
       "\n",
       "    .dataframe tbody tr th {\n",
       "        vertical-align: top;\n",
       "    }\n",
       "\n",
       "    .dataframe thead th {\n",
       "        text-align: right;\n",
       "    }\n",
       "</style>\n",
       "<table border=\"1\" class=\"dataframe\">\n",
       "  <thead>\n",
       "    <tr style=\"text-align: right;\">\n",
       "      <th></th>\n",
       "      <th>row</th>\n",
       "      <th>col</th>\n",
       "      <th>data</th>\n",
       "    </tr>\n",
       "  </thead>\n",
       "  <tbody>\n",
       "    <tr>\n",
       "      <th>0</th>\n",
       "      <td>0</td>\n",
       "      <td>10080</td>\n",
       "      <td>1.0</td>\n",
       "    </tr>\n",
       "    <tr>\n",
       "      <th>1</th>\n",
       "      <td>0</td>\n",
       "      <td>19467</td>\n",
       "      <td>1.0</td>\n",
       "    </tr>\n",
       "    <tr>\n",
       "      <th>2</th>\n",
       "      <td>1</td>\n",
       "      <td>2665</td>\n",
       "      <td>1.0</td>\n",
       "    </tr>\n",
       "    <tr>\n",
       "      <th>3</th>\n",
       "      <td>1</td>\n",
       "      <td>7494</td>\n",
       "      <td>1.0</td>\n",
       "    </tr>\n",
       "    <tr>\n",
       "      <th>4</th>\n",
       "      <td>1</td>\n",
       "      <td>17068</td>\n",
       "      <td>1.0</td>\n",
       "    </tr>\n",
       "    <tr>\n",
       "      <th>...</th>\n",
       "      <td>...</td>\n",
       "      <td>...</td>\n",
       "      <td>...</td>\n",
       "    </tr>\n",
       "    <tr>\n",
       "      <th>113263</th>\n",
       "      <td>7945</td>\n",
       "      <td>2476</td>\n",
       "      <td>1.0</td>\n",
       "    </tr>\n",
       "    <tr>\n",
       "      <th>113264</th>\n",
       "      <td>7945</td>\n",
       "      <td>12319</td>\n",
       "      <td>1.0</td>\n",
       "    </tr>\n",
       "    <tr>\n",
       "      <th>113265</th>\n",
       "      <td>7945</td>\n",
       "      <td>21384</td>\n",
       "      <td>1.0</td>\n",
       "    </tr>\n",
       "    <tr>\n",
       "      <th>113266</th>\n",
       "      <td>7946</td>\n",
       "      <td>8699</td>\n",
       "      <td>1.0</td>\n",
       "    </tr>\n",
       "    <tr>\n",
       "      <th>113267</th>\n",
       "      <td>7946</td>\n",
       "      <td>19178</td>\n",
       "      <td>1.0</td>\n",
       "    </tr>\n",
       "  </tbody>\n",
       "</table>\n",
       "<p>113268 rows × 3 columns</p>\n",
       "</div>"
      ],
      "text/plain": [
       "         row    col  data\n",
       "0          0  10080   1.0\n",
       "1          0  19467   1.0\n",
       "2          1   2665   1.0\n",
       "3          1   7494   1.0\n",
       "4          1  17068   1.0\n",
       "...      ...    ...   ...\n",
       "113263  7945   2476   1.0\n",
       "113264  7945  12319   1.0\n",
       "113265  7945  21384   1.0\n",
       "113266  7946   8699   1.0\n",
       "113267  7946  19178   1.0\n",
       "\n",
       "[113268 rows x 3 columns]"
      ]
     },
     "execution_count": 2,
     "metadata": {},
     "output_type": "execute_result"
    }
   ],
   "source": [
    "#data which contains users (row), items(col) and implicit interaction (data)\n",
    "dataset = pd.read_csv('../data_train.csv')\n",
    "dataset"
   ]
  },
  {
   "cell_type": "markdown",
   "metadata": {},
   "source": [
    "# Data pre-processing\n",
    "Pre-processing of data to check for missing users, items ecc..."
   ]
  },
  {
   "cell_type": "code",
   "execution_count": 3,
   "metadata": {},
   "outputs": [
    {
     "data": {
      "text/plain": [
       "(7947, 25975)"
      ]
     },
     "execution_count": 3,
     "metadata": {},
     "output_type": "execute_result"
    }
   ],
   "source": [
    "users = dataset.row\n",
    "items = dataset.col\n",
    "data = dataset.data\n",
    "URM_all = sps.coo_matrix((data, (users, items)))\n",
    "URM_all = URM_all.tocsr() #fast row access -> fast access to users \n",
    "URM_all.shape"
   ]
  },
  {
   "cell_type": "code",
   "execution_count": 4,
   "metadata": {},
   "outputs": [
    {
     "data": {
      "text/html": [
       "<div>\n",
       "<style scoped>\n",
       "    .dataframe tbody tr th:only-of-type {\n",
       "        vertical-align: middle;\n",
       "    }\n",
       "\n",
       "    .dataframe tbody tr th {\n",
       "        vertical-align: top;\n",
       "    }\n",
       "\n",
       "    .dataframe thead th {\n",
       "        text-align: right;\n",
       "    }\n",
       "</style>\n",
       "<table border=\"1\" class=\"dataframe\">\n",
       "  <thead>\n",
       "    <tr style=\"text-align: right;\">\n",
       "      <th></th>\n",
       "      <th>row</th>\n",
       "      <th>col</th>\n",
       "      <th>data</th>\n",
       "    </tr>\n",
       "  </thead>\n",
       "  <tbody>\n",
       "    <tr>\n",
       "      <th>0</th>\n",
       "      <td>0</td>\n",
       "      <td>1185</td>\n",
       "      <td>1.015524</td>\n",
       "    </tr>\n",
       "    <tr>\n",
       "      <th>1</th>\n",
       "      <td>0</td>\n",
       "      <td>2507</td>\n",
       "      <td>0.459024</td>\n",
       "    </tr>\n",
       "    <tr>\n",
       "      <th>2</th>\n",
       "      <td>0</td>\n",
       "      <td>3534</td>\n",
       "      <td>0.227742</td>\n",
       "    </tr>\n",
       "    <tr>\n",
       "      <th>3</th>\n",
       "      <td>0</td>\n",
       "      <td>8766</td>\n",
       "      <td>0.501549</td>\n",
       "    </tr>\n",
       "    <tr>\n",
       "      <th>4</th>\n",
       "      <td>0</td>\n",
       "      <td>10862</td>\n",
       "      <td>0.297011</td>\n",
       "    </tr>\n",
       "    <tr>\n",
       "      <th>...</th>\n",
       "      <td>...</td>\n",
       "      <td>...</td>\n",
       "      <td>...</td>\n",
       "    </tr>\n",
       "    <tr>\n",
       "      <th>490686</th>\n",
       "      <td>25974</td>\n",
       "      <td>12554</td>\n",
       "      <td>0.963016</td>\n",
       "    </tr>\n",
       "    <tr>\n",
       "      <th>490687</th>\n",
       "      <td>25974</td>\n",
       "      <td>13003</td>\n",
       "      <td>0.104613</td>\n",
       "    </tr>\n",
       "    <tr>\n",
       "      <th>490688</th>\n",
       "      <td>25974</td>\n",
       "      <td>16236</td>\n",
       "      <td>0.118760</td>\n",
       "    </tr>\n",
       "    <tr>\n",
       "      <th>490689</th>\n",
       "      <td>25974</td>\n",
       "      <td>18797</td>\n",
       "      <td>0.363301</td>\n",
       "    </tr>\n",
       "    <tr>\n",
       "      <th>490690</th>\n",
       "      <td>25974</td>\n",
       "      <td>19629</td>\n",
       "      <td>0.129141</td>\n",
       "    </tr>\n",
       "  </tbody>\n",
       "</table>\n",
       "<p>490691 rows × 3 columns</p>\n",
       "</div>"
      ],
      "text/plain": [
       "          row    col      data\n",
       "0           0   1185  1.015524\n",
       "1           0   2507  0.459024\n",
       "2           0   3534  0.227742\n",
       "3           0   8766  0.501549\n",
       "4           0  10862  0.297011\n",
       "...       ...    ...       ...\n",
       "490686  25974  12554  0.963016\n",
       "490687  25974  13003  0.104613\n",
       "490688  25974  16236  0.118760\n",
       "490689  25974  18797  0.363301\n",
       "490690  25974  19629  0.129141\n",
       "\n",
       "[490691 rows x 3 columns]"
      ]
     },
     "execution_count": 4,
     "metadata": {},
     "output_type": "execute_result"
    }
   ],
   "source": [
    "ICM_df = pd.read_csv('../data_ICM_title_abstract.csv')\n",
    "ICM_df"
   ]
  },
  {
   "cell_type": "code",
   "execution_count": 5,
   "metadata": {},
   "outputs": [
    {
     "data": {
      "text/plain": [
       "(25975, 20000)"
      ]
     },
     "execution_count": 5,
     "metadata": {},
     "output_type": "execute_result"
    }
   ],
   "source": [
    "items = ICM_df.row\n",
    "features = ICM_df.col\n",
    "data = ICM_df.data\n",
    "ICM_all = sps.coo_matrix((data, (items, features)))\n",
    "ICM_all = ICM_all.tocsr() #fast row access -> fast access to users \n",
    "ICM_all.shape"
   ]
  },
  {
   "cell_type": "code",
   "execution_count": 6,
   "metadata": {},
   "outputs": [
    {
     "name": "stdout",
     "output_type": "stream",
     "text": [
      "Warning: 71 (0.89 %) of 7947 users have no train items\n",
      "Warning: 2411 (30.34 %) of 7947 users have no sampled items\n",
      "Warning: 57 (0.72 %) of 7947 users have no train items\n",
      "Warning: 2320 (29.19 %) of 7947 users have no sampled items\n",
      "Warning: 71 (0.89 %) of 7947 users have no train items\n",
      "Warning: 2289 (28.80 %) of 7947 users have no sampled items\n",
      "Warning: 74 (0.93 %) of 7947 users have no train items\n",
      "Warning: 2273 (28.60 %) of 7947 users have no sampled items\n",
      "Warning: 64 (0.81 %) of 7947 users have no train items\n",
      "Warning: 2358 (29.67 %) of 7947 users have no sampled items\n"
     ]
    }
   ],
   "source": [
    "from Data_manager.split_functions.split_train_validation_random_holdout import split_train_in_two_percentage_global_sample\n",
    "from Base.Evaluation.Evaluator import EvaluatorHoldout\n",
    "\n",
    "URM_train_1, URM_validation_1 = split_train_in_two_percentage_global_sample(URM_all, train_percentage = 0.8, seed=1)\n",
    "\n",
    "URM_train_2, URM_validation_2 = split_train_in_two_percentage_global_sample(URM_all, train_percentage = 0.8, seed=2)\n",
    "\n",
    "URM_train_3, URM_validation_3 = split_train_in_two_percentage_global_sample(URM_all, train_percentage = 0.8, seed=3)\n",
    "\n",
    "URM_train_4, URM_validation_4 = split_train_in_two_percentage_global_sample(URM_all, train_percentage = 0.8, seed=4)\n",
    "\n",
    "URM_train_5, URM_validation_5 = split_train_in_two_percentage_global_sample(URM_all, train_percentage = 0.8, seed=5)\n",
    "\n",
    "training_list = [URM_train_1,URM_train_2,URM_train_3,URM_train_4,URM_train_5]\n",
    "\n",
    "evaluator_validation_1 = EvaluatorHoldout(URM_validation_1, cutoff_list=[10])\n",
    "evaluator_validation_2 = EvaluatorHoldout(URM_validation_2, cutoff_list=[10])\n",
    "evaluator_validation_3 = EvaluatorHoldout(URM_validation_3, cutoff_list=[10])\n",
    "evaluator_validation_4 = EvaluatorHoldout(URM_validation_4, cutoff_list=[10])\n",
    "evaluator_validation_5 = EvaluatorHoldout(URM_validation_5, cutoff_list=[10])\n",
    "\n",
    "evaluator_list = [evaluator_validation_1, evaluator_validation_2, evaluator_validation_3, evaluator_validation_4, evaluator_validation_5]\n"
   ]
  },
  {
   "cell_type": "code",
   "execution_count": 11,
   "metadata": {},
   "outputs": [
    {
     "name": "stdout",
     "output_type": "stream",
     "text": [
      "<class 'scipy.sparse.csr.csr_matrix'>\n",
      "22654\n"
     ]
    }
   ],
   "source": [
    "print(type(URM_train_1))\n",
    "\n",
    "mask1 = URM_validation_5!=0\n",
    "test1=URM_validation_1==URM_validation_5\n",
    "test1=test1==mask1\n",
    "\n",
    "print(len(test1.data))"
   ]
  },
  {
   "cell_type": "code",
   "execution_count": 9,
   "metadata": {},
   "outputs": [
    {
     "name": "stdout",
     "output_type": "stream",
     "text": [
      "ItemKNNCFRecommender: URM Detected 73 (0.26 %) cold users.\n",
      "ItemKNNCFRecommender: URM Detected 1 (0.00 %) cold items.\n",
      "Similarity column 25975 ( 100 % ), 3888.29 column/sec, elapsed time 0.11 min\n",
      "EvaluatorHoldout: Processed 5536 ( 100.00% ) in 4.24 sec. Users per second: 1306\n",
      "{10: {'ROC_AUC': 0.2069257715730808, 'PRECISION': 0.04378612716762897, 'PRECISION_RECALL_MIN_DEN': 0.15940352899348645, 'RECALL': 0.15447241575436427, 'MAP': 0.07620383696757693, 'MRR': 0.1547958815028906, 'NDCG': 0.11198699103521635, 'F1': 0.06823160041857777, 'HIT_RATE': 0.43786127167630057, 'ARHR': 0.17961452885585877, 'NOVELTY': 0.005457443085146755, 'AVERAGE_POPULARITY': 0.10860140738879102, 'DIVERSITY_MEAN_INTER_LIST': 0.9941731675987281, 'DIVERSITY_HERFINDAHL': 0.9993993584295332, 'COVERAGE_ITEM': 0.5475649663137633, 'COVERAGE_ITEM_CORRECT': 0.06136669874879692, 'COVERAGE_USER': 0.6966150748710205, 'COVERAGE_USER_CORRECT': 0.2222222222222222, 'DIVERSITY_GINI': 0.22180099465981049, 'SHANNON_ENTROPY': 12.455695842417123}}\n",
      "ItemKNNCFRecommender: Saving model in file 'itemKNN_saved/itemKNN_fold_number1'\n",
      "ItemKNNCFRecommender: Saving complete\n",
      "ItemKNNCFRecommender: URM Detected 59 (0.21 %) cold users.\n",
      "ItemKNNCFRecommender: URM Detected 1 (0.00 %) cold items.\n",
      "Similarity column 25975 ( 100 % ), 3862.48 column/sec, elapsed time 0.11 min\n",
      "EvaluatorHoldout: Processed 5627 ( 100.00% ) in 4.27 sec. Users per second: 1319\n",
      "{10: {'ROC_AUC': 0.1968202981091737, 'PRECISION': 0.04234938688466221, 'PRECISION_RECALL_MIN_DEN': 0.14981290602847436, 'RECALL': 0.1453750634685492, 'MAP': 0.06918806797643506, 'MRR': 0.14364395304949806, 'NDCG': 0.10421919889757365, 'F1': 0.0655912939910397, 'HIT_RATE': 0.4234938688466323, 'ARHR': 0.16763535222749779, 'NOVELTY': 0.005463886917180745, 'AVERAGE_POPULARITY': 0.10646393359655731, 'DIVERSITY_MEAN_INTER_LIST': 0.9945175775397566, 'DIVERSITY_HERFINDAHL': 0.9994340837255851, 'COVERAGE_ITEM': 0.5512993262752647, 'COVERAGE_ITEM_CORRECT': 0.0592492781520693, 'COVERAGE_USER': 0.7080659368315088, 'COVERAGE_USER_CORRECT': 0.21920221467220335, 'DIVERSITY_GINI': 0.22396328959503792, 'SHANNON_ENTROPY': 12.49299716026621}}\n",
      "ItemKNNCFRecommender: Saving model in file 'itemKNN_saved/itemKNN_fold_number2'\n",
      "ItemKNNCFRecommender: Saving complete\n",
      "ItemKNNCFRecommender: URM Detected 73 (0.26 %) cold users.\n",
      "ItemKNNCFRecommender: URM Detected 4 (0.02 %) cold items.\n",
      "Similarity column 25975 ( 100 % ), 3891.80 column/sec, elapsed time 0.11 min\n",
      "EvaluatorHoldout: Processed 5658 ( 100.00% ) in 4.26 sec. Users per second: 1328\n",
      "{10: {'ROC_AUC': 0.190577290477874, 'PRECISION': 0.04225874867444225, 'PRECISION_RECALL_MIN_DEN': 0.14827740746351611, 'RECALL': 0.14363957030707203, 'MAP': 0.06948262862186358, 'MRR': 0.14289129873700435, 'NDCG': 0.10364284308593669, 'F1': 0.06530482399805927, 'HIT_RATE': 0.42258748674443264, 'ARHR': 0.16817190997996978, 'NOVELTY': 0.005459549122045765, 'AVERAGE_POPULARITY': 0.10766519047304295, 'DIVERSITY_MEAN_INTER_LIST': 0.9942362034468005, 'DIVERSITY_HERFINDAHL': 0.9994060481247534, 'COVERAGE_ITEM': 0.557228103946102, 'COVERAGE_ITEM_CORRECT': 0.059326275264677576, 'COVERAGE_USER': 0.7119667799169498, 'COVERAGE_USER_CORRECT': 0.21328803322008305, 'DIVERSITY_GINI': 0.22476446431287203, 'SHANNON_ENTROPY': 12.472746118309551}}\n",
      "ItemKNNCFRecommender: Saving model in file 'itemKNN_saved/itemKNN_fold_number3'\n",
      "ItemKNNCFRecommender: Saving complete\n",
      "ItemKNNCFRecommender: URM Detected 76 (0.27 %) cold users.\n",
      "Similarity column 25975 ( 100 % ), 3901.76 column/sec, elapsed time 0.11 min\n",
      "EvaluatorHoldout: Processed 5674 ( 100.00% ) in 4.28 sec. Users per second: 1325\n",
      "{10: {'ROC_AUC': 0.18507314064152294, 'PRECISION': 0.04150511103278012, 'PRECISION_RECALL_MIN_DEN': 0.14352630489394727, 'RECALL': 0.13900767235730774, 'MAP': 0.067740669909591, 'MRR': 0.14065082442329566, 'NDCG': 0.10094875903425238, 'F1': 0.06392377057452418, 'HIT_RATE': 0.41505111032781106, 'ARHR': 0.16556997666884912, 'NOVELTY': 0.005459926311167541, 'AVERAGE_POPULARITY': 0.10680172241328413, 'DIVERSITY_MEAN_INTER_LIST': 0.9942935452741937, 'DIVERSITY_HERFINDAHL': 0.9994118308484402, 'COVERAGE_ITEM': 0.5526467757459095, 'COVERAGE_ITEM_CORRECT': 0.05809432146294514, 'COVERAGE_USER': 0.7139801182836291, 'COVERAGE_USER_CORRECT': 0.2098905247263118, 'DIVERSITY_GINI': 0.2223873404902158, 'SHANNON_ENTROPY': 12.464736279622127}}\n",
      "ItemKNNCFRecommender: Saving model in file 'itemKNN_saved/itemKNN_fold_number4'\n",
      "ItemKNNCFRecommender: Saving complete\n",
      "ItemKNNCFRecommender: URM Detected 66 (0.24 %) cold users.\n",
      "ItemKNNCFRecommender: URM Detected 3 (0.01 %) cold items.\n",
      "Similarity column 25975 ( 100 % ), 3922.71 column/sec, elapsed time 0.11 min\n",
      "EvaluatorHoldout: Processed 5589 ( 100.00% ) in 4.19 sec. Users per second: 1334\n",
      "{10: {'ROC_AUC': 0.18686157190853944, 'PRECISION': 0.04111647879763728, 'PRECISION_RECALL_MIN_DEN': 0.13785397620609716, 'RECALL': 0.13339469468773985, 'MAP': 0.06520482156600917, 'MRR': 0.14122312251673505, 'NDCG': 0.09841159644266226, 'F1': 0.06285809700666917, 'HIT_RATE': 0.4111647879763822, 'ARHR': 0.16502398418662528, 'NOVELTY': 0.005458135312339993, 'AVERAGE_POPULARITY': 0.10822413202953003, 'DIVERSITY_MEAN_INTER_LIST': 0.9942626270310853, 'DIVERSITY_HERFINDAHL': 0.9994084730694168, 'COVERAGE_ITEM': 0.5498748796920115, 'COVERAGE_ITEM_CORRECT': 0.05747834456207892, 'COVERAGE_USER': 0.7032842582106456, 'COVERAGE_USER_CORRECT': 0.20800302000755003, 'DIVERSITY_GINI': 0.22181700624819434, 'SHANNON_ENTROPY': 12.461360429951723}}\n",
      "ItemKNNCFRecommender: Saving model in file 'itemKNN_saved/itemKNN_fold_number5'\n",
      "ItemKNNCFRecommender: Saving complete\n"
     ]
    }
   ],
   "source": [
    "from KNN.ItemKNNCFRecommender import ItemKNNCFRecommender\n",
    "i=1\n",
    "for URM_train, evaluator in zip(training_list,evaluator_list):\n",
    "    URM_train_ICM_all= sps.vstack([URM_train, ICM_all.T])\n",
    "\n",
    "    recommender_itemKNN = ItemKNNCFRecommender(URM_train_ICM_all)\n",
    "    recommender_itemKNN.fit(shrink=600, topK=248, feature_weighting = \"TF-IDF\", similarity='cosine')\n",
    "    \n",
    "    result_dict, _ = evaluator.evaluateRecommender(recommender_itemKNN)\n",
    "    print(result_dict)\n",
    "    \n",
    "    filename = 'itemKNN_fold_number' + str(i)\n",
    "    recommender_itemKNN.save_model('itemKNN_saved/', file_name = filename)\n",
    "    i = i+1"
   ]
  },
  {
   "cell_type": "code",
   "execution_count": null,
   "metadata": {},
   "outputs": [],
   "source": []
  }
 ],
 "metadata": {
  "kernelspec": {
   "display_name": "Python 3",
   "language": "python",
   "name": "python3"
  },
  "language_info": {
   "codemirror_mode": {
    "name": "ipython",
    "version": 3
   },
   "file_extension": ".py",
   "mimetype": "text/x-python",
   "name": "python",
   "nbconvert_exporter": "python",
   "pygments_lexer": "ipython3",
   "version": "3.8.5"
  }
 },
 "nbformat": 4,
 "nbformat_minor": 4
}
