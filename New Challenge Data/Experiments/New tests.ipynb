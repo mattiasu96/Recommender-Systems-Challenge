{
 "cells": [
  {
   "cell_type": "code",
   "execution_count": 3,
   "metadata": {},
   "outputs": [],
   "source": [
    "import pandas as pd\n",
    "import numpy as np \n",
    "import scipy.sparse as sps\n",
    "import os\n",
    "import sys\n",
    "import matplotlib.pyplot as plt\n",
    "sys.path.append('../../')\n"
   ]
  },
  {
   "cell_type": "code",
   "execution_count": 5,
   "metadata": {},
   "outputs": [
    {
     "data": {
      "text/html": [
       "<div>\n",
       "<style scoped>\n",
       "    .dataframe tbody tr th:only-of-type {\n",
       "        vertical-align: middle;\n",
       "    }\n",
       "\n",
       "    .dataframe tbody tr th {\n",
       "        vertical-align: top;\n",
       "    }\n",
       "\n",
       "    .dataframe thead th {\n",
       "        text-align: right;\n",
       "    }\n",
       "</style>\n",
       "<table border=\"1\" class=\"dataframe\">\n",
       "  <thead>\n",
       "    <tr style=\"text-align: right;\">\n",
       "      <th></th>\n",
       "      <th>row</th>\n",
       "      <th>col</th>\n",
       "      <th>data</th>\n",
       "    </tr>\n",
       "  </thead>\n",
       "  <tbody>\n",
       "    <tr>\n",
       "      <th>0</th>\n",
       "      <td>0</td>\n",
       "      <td>10080</td>\n",
       "      <td>1.0</td>\n",
       "    </tr>\n",
       "    <tr>\n",
       "      <th>1</th>\n",
       "      <td>0</td>\n",
       "      <td>19467</td>\n",
       "      <td>1.0</td>\n",
       "    </tr>\n",
       "    <tr>\n",
       "      <th>2</th>\n",
       "      <td>1</td>\n",
       "      <td>2665</td>\n",
       "      <td>1.0</td>\n",
       "    </tr>\n",
       "    <tr>\n",
       "      <th>3</th>\n",
       "      <td>1</td>\n",
       "      <td>7494</td>\n",
       "      <td>1.0</td>\n",
       "    </tr>\n",
       "    <tr>\n",
       "      <th>4</th>\n",
       "      <td>1</td>\n",
       "      <td>17068</td>\n",
       "      <td>1.0</td>\n",
       "    </tr>\n",
       "    <tr>\n",
       "      <th>...</th>\n",
       "      <td>...</td>\n",
       "      <td>...</td>\n",
       "      <td>...</td>\n",
       "    </tr>\n",
       "    <tr>\n",
       "      <th>113263</th>\n",
       "      <td>7945</td>\n",
       "      <td>2476</td>\n",
       "      <td>1.0</td>\n",
       "    </tr>\n",
       "    <tr>\n",
       "      <th>113264</th>\n",
       "      <td>7945</td>\n",
       "      <td>12319</td>\n",
       "      <td>1.0</td>\n",
       "    </tr>\n",
       "    <tr>\n",
       "      <th>113265</th>\n",
       "      <td>7945</td>\n",
       "      <td>21384</td>\n",
       "      <td>1.0</td>\n",
       "    </tr>\n",
       "    <tr>\n",
       "      <th>113266</th>\n",
       "      <td>7946</td>\n",
       "      <td>8699</td>\n",
       "      <td>1.0</td>\n",
       "    </tr>\n",
       "    <tr>\n",
       "      <th>113267</th>\n",
       "      <td>7946</td>\n",
       "      <td>19178</td>\n",
       "      <td>1.0</td>\n",
       "    </tr>\n",
       "  </tbody>\n",
       "</table>\n",
       "<p>113268 rows × 3 columns</p>\n",
       "</div>"
      ],
      "text/plain": [
       "         row    col  data\n",
       "0          0  10080   1.0\n",
       "1          0  19467   1.0\n",
       "2          1   2665   1.0\n",
       "3          1   7494   1.0\n",
       "4          1  17068   1.0\n",
       "...      ...    ...   ...\n",
       "113263  7945   2476   1.0\n",
       "113264  7945  12319   1.0\n",
       "113265  7945  21384   1.0\n",
       "113266  7946   8699   1.0\n",
       "113267  7946  19178   1.0\n",
       "\n",
       "[113268 rows x 3 columns]"
      ]
     },
     "execution_count": 5,
     "metadata": {},
     "output_type": "execute_result"
    }
   ],
   "source": [
    "#data which contains users (row), items(col) and implicit interaction (data)\n",
    "dataset = pd.read_csv('../data_train.csv')\n",
    "dataset"
   ]
  },
  {
   "cell_type": "code",
   "execution_count": 6,
   "metadata": {},
   "outputs": [
    {
     "data": {
      "text/plain": [
       "(7947, 25975)"
      ]
     },
     "execution_count": 6,
     "metadata": {},
     "output_type": "execute_result"
    }
   ],
   "source": [
    "users = dataset.row\n",
    "items = dataset.col\n",
    "data = dataset.data\n",
    "URM_all = sps.coo_matrix((data, (users, items)))\n",
    "URM_all = URM_all.tocsr() #fast row access -> fast access to users \n",
    "URM_all.shape"
   ]
  },
  {
   "cell_type": "code",
   "execution_count": 7,
   "metadata": {},
   "outputs": [],
   "source": [
    "items_per_user = np.ediff1d(URM_all.indptr) #tells in which position each of the rows begin\n",
    "users_per_item = np.ediff1d(sps.csc_matrix(URM_all).indptr)\n",
    "URM_all = sps.csr_matrix(URM_all)"
   ]
  },
  {
   "cell_type": "code",
   "execution_count": 8,
   "metadata": {},
   "outputs": [],
   "source": [
    "items_per_user = np.sort(items_per_user) #sorting based on the single value. Losing reference to the user. \n",
    "users_per_item = np.sort(users_per_item)"
   ]
  },
  {
   "cell_type": "code",
   "execution_count": 11,
   "metadata": {},
   "outputs": [
    {
     "data": {
      "text/html": [
       "<div>\n",
       "<style scoped>\n",
       "    .dataframe tbody tr th:only-of-type {\n",
       "        vertical-align: middle;\n",
       "    }\n",
       "\n",
       "    .dataframe tbody tr th {\n",
       "        vertical-align: top;\n",
       "    }\n",
       "\n",
       "    .dataframe thead th {\n",
       "        text-align: right;\n",
       "    }\n",
       "</style>\n",
       "<table border=\"1\" class=\"dataframe\">\n",
       "  <thead>\n",
       "    <tr style=\"text-align: right;\">\n",
       "      <th></th>\n",
       "      <th>row</th>\n",
       "      <th>col</th>\n",
       "      <th>data</th>\n",
       "    </tr>\n",
       "  </thead>\n",
       "  <tbody>\n",
       "    <tr>\n",
       "      <th>0</th>\n",
       "      <td>0</td>\n",
       "      <td>1185</td>\n",
       "      <td>1.015524</td>\n",
       "    </tr>\n",
       "    <tr>\n",
       "      <th>1</th>\n",
       "      <td>0</td>\n",
       "      <td>2507</td>\n",
       "      <td>0.459024</td>\n",
       "    </tr>\n",
       "    <tr>\n",
       "      <th>2</th>\n",
       "      <td>0</td>\n",
       "      <td>3534</td>\n",
       "      <td>0.227742</td>\n",
       "    </tr>\n",
       "    <tr>\n",
       "      <th>3</th>\n",
       "      <td>0</td>\n",
       "      <td>8766</td>\n",
       "      <td>0.501549</td>\n",
       "    </tr>\n",
       "    <tr>\n",
       "      <th>4</th>\n",
       "      <td>0</td>\n",
       "      <td>10862</td>\n",
       "      <td>0.297011</td>\n",
       "    </tr>\n",
       "    <tr>\n",
       "      <th>...</th>\n",
       "      <td>...</td>\n",
       "      <td>...</td>\n",
       "      <td>...</td>\n",
       "    </tr>\n",
       "    <tr>\n",
       "      <th>490686</th>\n",
       "      <td>25974</td>\n",
       "      <td>12554</td>\n",
       "      <td>0.963016</td>\n",
       "    </tr>\n",
       "    <tr>\n",
       "      <th>490687</th>\n",
       "      <td>25974</td>\n",
       "      <td>13003</td>\n",
       "      <td>0.104613</td>\n",
       "    </tr>\n",
       "    <tr>\n",
       "      <th>490688</th>\n",
       "      <td>25974</td>\n",
       "      <td>16236</td>\n",
       "      <td>0.118760</td>\n",
       "    </tr>\n",
       "    <tr>\n",
       "      <th>490689</th>\n",
       "      <td>25974</td>\n",
       "      <td>18797</td>\n",
       "      <td>0.363301</td>\n",
       "    </tr>\n",
       "    <tr>\n",
       "      <th>490690</th>\n",
       "      <td>25974</td>\n",
       "      <td>19629</td>\n",
       "      <td>0.129141</td>\n",
       "    </tr>\n",
       "  </tbody>\n",
       "</table>\n",
       "<p>490691 rows × 3 columns</p>\n",
       "</div>"
      ],
      "text/plain": [
       "          row    col      data\n",
       "0           0   1185  1.015524\n",
       "1           0   2507  0.459024\n",
       "2           0   3534  0.227742\n",
       "3           0   8766  0.501549\n",
       "4           0  10862  0.297011\n",
       "...       ...    ...       ...\n",
       "490686  25974  12554  0.963016\n",
       "490687  25974  13003  0.104613\n",
       "490688  25974  16236  0.118760\n",
       "490689  25974  18797  0.363301\n",
       "490690  25974  19629  0.129141\n",
       "\n",
       "[490691 rows x 3 columns]"
      ]
     },
     "execution_count": 11,
     "metadata": {},
     "output_type": "execute_result"
    }
   ],
   "source": [
    "ICM_df = pd.read_csv('../data_ICM_title_abstract.csv')\n",
    "ICM_df"
   ]
  },
  {
   "cell_type": "code",
   "execution_count": 12,
   "metadata": {},
   "outputs": [
    {
     "data": {
      "text/plain": [
       "(25975, 20000)"
      ]
     },
     "execution_count": 12,
     "metadata": {},
     "output_type": "execute_result"
    }
   ],
   "source": [
    "items = ICM_df.row\n",
    "features = ICM_df.col\n",
    "data = ICM_df.data\n",
    "ICM_all = sps.coo_matrix((data, (items, features)))\n",
    "ICM_all = ICM_all.tocsr() #fast row access -> fast access to users \n",
    "ICM_all.shape"
   ]
  },
  {
   "cell_type": "code",
   "execution_count": 13,
   "metadata": {},
   "outputs": [],
   "source": [
    "ICM_all = sps.csr_matrix(ICM_all)\n",
    "features_per_item = np.ediff1d(ICM_all.indptr)\n",
    "\n",
    "ICM_all = sps.csc_matrix(ICM_all)\n",
    "items_per_feature = np.ediff1d(ICM_all.indptr)\n",
    "\n",
    "ICM_all = sps.csr_matrix(ICM_all)"
   ]
  },
  {
   "cell_type": "code",
   "execution_count": 14,
   "metadata": {},
   "outputs": [],
   "source": [
    "features_per_item = np.sort(features_per_item)\n",
    "items_per_feature = np.sort(items_per_feature)"
   ]
  },
  {
   "cell_type": "code",
   "execution_count": 20,
   "metadata": {},
   "outputs": [
    {
     "name": "stdout",
     "output_type": "stream",
     "text": [
      "Warning: 68 (0.86 %) of 7947 users have no train items\n",
      "Warning: 2287 (28.78 %) of 7947 users have no sampled items\n"
     ]
    }
   ],
   "source": [
    "from Base.Evaluation.Evaluator import EvaluatorHoldout\n",
    "from Data_manager.split_functions.split_train_validation_random_holdout import split_train_in_two_percentage_global_sample\n",
    "\n",
    "URM_train, URM_validation = split_train_in_two_percentage_global_sample(URM_all, train_percentage = 0.80)\n",
    "\n",
    "evaluator_validation = EvaluatorHoldout(URM_validation, cutoff_list=[10])\n"
   ]
  },
  {
   "cell_type": "code",
   "execution_count": 32,
   "metadata": {},
   "outputs": [
    {
     "name": "stdout",
     "output_type": "stream",
     "text": [
      "RP3betaRecommender: URM Detected 68 (0.86 %) cold users.\n",
      "RP3betaRecommender: URM Detected 2421 (9.32 %) cold items.\n",
      "EvaluatorHoldout: Processed 5660 ( 100.00% ) in 4.39 sec. Users per second: 1289\n"
     ]
    },
    {
     "data": {
      "text/plain": [
       "({10: {'ROC_AUC': 0.15300950698300536,\n",
       "   'PRECISION': 0.03303886925794991,\n",
       "   'PRECISION_RECALL_MIN_DEN': 0.11264176341914894,\n",
       "   'RECALL': 0.10830238865839441,\n",
       "   'MAP': 0.052245149550135435,\n",
       "   'MRR': 0.11154236076055861,\n",
       "   'NDCG': 0.07822154012867398,\n",
       "   'F1': 0.05063190340822059,\n",
       "   'HIT_RATE': 0.3303886925795053,\n",
       "   'ARHR': 0.12933493185259978,\n",
       "   'NOVELTY': 0.005280931900356047,\n",
       "   'AVERAGE_POPULARITY': 0.05645476688737145,\n",
       "   'DIVERSITY_MEAN_INTER_LIST': 0.995702208621059,\n",
       "   'DIVERSITY_HERFINDAHL': 0.9995526289502928,\n",
       "   'COVERAGE_ITEM': 0.596689124157844,\n",
       "   'COVERAGE_ITEM_CORRECT': 0.04685274302213667,\n",
       "   'COVERAGE_USER': 0.7122184472127847,\n",
       "   'COVERAGE_USER_CORRECT': 0.17365043412608533,\n",
       "   'DIVERSITY_GINI': 0.2838192131143616,\n",
       "   'SHANNON_ENTROPY': 12.878131711791845}},\n",
       " 'CUTOFF: 10 - ROC_AUC: 0.1530095, PRECISION: 0.0330389, PRECISION_RECALL_MIN_DEN: 0.1126418, RECALL: 0.1083024, MAP: 0.0522451, MRR: 0.1115424, NDCG: 0.0782215, F1: 0.0506319, HIT_RATE: 0.3303887, ARHR: 0.1293349, NOVELTY: 0.0052809, AVERAGE_POPULARITY: 0.0564548, DIVERSITY_MEAN_INTER_LIST: 0.9957022, DIVERSITY_HERFINDAHL: 0.9995526, COVERAGE_ITEM: 0.5966891, COVERAGE_ITEM_CORRECT: 0.0468527, COVERAGE_USER: 0.7122184, COVERAGE_USER_CORRECT: 0.1736504, DIVERSITY_GINI: 0.2838192, SHANNON_ENTROPY: 12.8781317, \\n')"
      ]
     },
     "execution_count": 32,
     "metadata": {},
     "output_type": "execute_result"
    }
   ],
   "source": [
    "from KNN.ItemKNNCBFRecommender import ItemKNNCBFRecommender\n",
    "from KNN.ItemKNNSimilarityHybridRecommender import ItemKNNSimilarityHybridRecommender\n",
    "from GraphBased.RP3betaRecommender import RP3betaRecommender\n",
    "\n",
    "recommender_beta = RP3betaRecommender(URM_train)\n",
    "recommender_beta.fit(topK=100, alpha=0.45, beta=0.15, implicit=True)\n",
    "\n",
    "\n",
    "evaluator_validation.evaluateRecommender(recommender_beta)"
   ]
  },
  {
   "cell_type": "code",
   "execution_count": 33,
   "metadata": {},
   "outputs": [
    {
     "name": "stdout",
     "output_type": "stream",
     "text": [
      "ItemKNNCBFRecommender: URM Detected 68 (0.86 %) cold users.\n",
      "ItemKNNCBFRecommender: URM Detected 2421 (9.32 %) cold items.\n",
      "Similarity column 25975 ( 100 % ), 3301.42 column/sec, elapsed time 0.13 min\n",
      "EvaluatorHoldout: Processed 5660 ( 100.00% ) in 5.04 sec. Users per second: 1124\n"
     ]
    },
    {
     "data": {
      "text/plain": [
       "({10: {'ROC_AUC': 0.09818653598070567,\n",
       "   'PRECISION': 0.02067137809187256,\n",
       "   'PRECISION_RECALL_MIN_DEN': 0.07094305625666045,\n",
       "   'RECALL': 0.06863734608553383,\n",
       "   'MAP': 0.030806615503811766,\n",
       "   'MRR': 0.06936150372987816,\n",
       "   'NDCG': 0.04847911504827861,\n",
       "   'F1': 0.03177357072839517,\n",
       "   'HIT_RATE': 0.2067137809187279,\n",
       "   'ARHR': 0.07808927870323616,\n",
       "   'NOVELTY': 0.005282353422456795,\n",
       "   'AVERAGE_POPULARITY': 0.017660811691653244,\n",
       "   'DIVERSITY_MEAN_INTER_LIST': 0.998054813714918,\n",
       "   'DIVERSITY_HERFINDAHL': 0.9997878478942177,\n",
       "   'COVERAGE_ITEM': 0.6460827718960539,\n",
       "   'COVERAGE_ITEM_CORRECT': 0.03996150144369586,\n",
       "   'COVERAGE_USER': 0.7122184472127847,\n",
       "   'COVERAGE_USER_CORRECT': 0.11614445702780923,\n",
       "   'DIVERSITY_GINI': 0.3253556816784398,\n",
       "   'SHANNON_ENTROPY': 13.27060751677278}},\n",
       " 'CUTOFF: 10 - ROC_AUC: 0.0981865, PRECISION: 0.0206714, PRECISION_RECALL_MIN_DEN: 0.0709431, RECALL: 0.0686373, MAP: 0.0308066, MRR: 0.0693615, NDCG: 0.0484791, F1: 0.0317736, HIT_RATE: 0.2067138, ARHR: 0.0780893, NOVELTY: 0.0052824, AVERAGE_POPULARITY: 0.0176608, DIVERSITY_MEAN_INTER_LIST: 0.9980548, DIVERSITY_HERFINDAHL: 0.9997878, COVERAGE_ITEM: 0.6460828, COVERAGE_ITEM_CORRECT: 0.0399615, COVERAGE_USER: 0.7122184, COVERAGE_USER_CORRECT: 0.1161445, DIVERSITY_GINI: 0.3253557, SHANNON_ENTROPY: 13.2706075, \\n')"
      ]
     },
     "execution_count": 33,
     "metadata": {},
     "output_type": "execute_result"
    }
   ],
   "source": [
    "recommender_CBF = ItemKNNCBFRecommender(URM_train, ICM_all)\n",
    "recommender_CBF.fit(topK=625, shrink=50, feature_weighting = 'TF-IDF')\n",
    "evaluator_validation.evaluateRecommender(recommender_CBF)"
   ]
  },
  {
   "cell_type": "code",
   "execution_count": 52,
   "metadata": {},
   "outputs": [
    {
     "name": "stdout",
     "output_type": "stream",
     "text": [
      "ItemKNNCFRecommender: URM Detected 68 (0.86 %) cold users.\n",
      "ItemKNNCFRecommender: URM Detected 2421 (9.32 %) cold items.\n",
      "Similarity column 25975 ( 100 % ), 5118.71 column/sec, elapsed time 0.08 min\n",
      "EvaluatorHoldout: Processed 5660 ( 100.00% ) in 4.42 sec. Users per second: 1282\n"
     ]
    },
    {
     "data": {
      "text/plain": [
       "({10: {'ROC_AUC': 0.15811360003365338,\n",
       "   'PRECISION': 0.03397526501766716,\n",
       "   'PRECISION_RECALL_MIN_DEN': 0.11631162712434827,\n",
       "   'RECALL': 0.11218593482003421,\n",
       "   'MAP': 0.05516114221012301,\n",
       "   'MRR': 0.11860795613887498,\n",
       "   'NDCG': 0.08229659173897609,\n",
       "   'F1': 0.05215538557425322,\n",
       "   'HIT_RATE': 0.33975265017667844,\n",
       "   'ARHR': 0.13659494363116298,\n",
       "   'NOVELTY': 0.005095320970285993,\n",
       "   'AVERAGE_POPULARITY': 0.06655494185049264,\n",
       "   'DIVERSITY_MEAN_INTER_LIST': 0.9938162356844876,\n",
       "   'DIVERSITY_HERFINDAHL': 0.9993640649777122,\n",
       "   'COVERAGE_ITEM': 0.5123772858517806,\n",
       "   'COVERAGE_ITEM_CORRECT': 0.04423484119345525,\n",
       "   'COVERAGE_USER': 0.7122184472127847,\n",
       "   'COVERAGE_USER_CORRECT': 0.17780294450736125,\n",
       "   'DIVERSITY_GINI': 0.19750835236875353,\n",
       "   'SHANNON_ENTROPY': 12.295707015664501}},\n",
       " 'CUTOFF: 10 - ROC_AUC: 0.1581136, PRECISION: 0.0339753, PRECISION_RECALL_MIN_DEN: 0.1163116, RECALL: 0.1121859, MAP: 0.0551611, MRR: 0.1186080, NDCG: 0.0822966, F1: 0.0521554, HIT_RATE: 0.3397527, ARHR: 0.1365949, NOVELTY: 0.0050953, AVERAGE_POPULARITY: 0.0665549, DIVERSITY_MEAN_INTER_LIST: 0.9938162, DIVERSITY_HERFINDAHL: 0.9993641, COVERAGE_ITEM: 0.5123773, COVERAGE_ITEM_CORRECT: 0.0442348, COVERAGE_USER: 0.7122184, COVERAGE_USER_CORRECT: 0.1778029, DIVERSITY_GINI: 0.1975084, SHANNON_ENTROPY: 12.2957070, \\n')"
      ]
     },
     "execution_count": 52,
     "metadata": {},
     "output_type": "execute_result"
    }
   ],
   "source": [
    "from KNN.ItemKNNCFRecommender import ItemKNNCFRecommender\n",
    "\n",
    "recommender_itemKNN = ItemKNNCFRecommender(URM_train)\n",
    "recommender_itemKNN.fit(shrink=550, topK=500, feature_weighting = 'TF-IDF', similarity = 'cosine')\n",
    "evaluator_validation.evaluateRecommender(recommender_itemKNN)"
   ]
  },
  {
   "cell_type": "code",
   "execution_count": 70,
   "metadata": {},
   "outputs": [
    {
     "name": "stdout",
     "output_type": "stream",
     "text": [
      "UserKNNCFRecommender: URM Detected 68 (0.86 %) cold users.\n",
      "UserKNNCFRecommender: URM Detected 2421 (9.32 %) cold items.\n",
      "Similarity column 7947 ( 100 % ), 14876.00 column/sec, elapsed time 0.01 min\n",
      "EvaluatorHoldout: Processed 5660 ( 100.00% ) in 3.70 sec. Users per second: 1532\n"
     ]
    },
    {
     "data": {
      "text/plain": [
       "({10: {'ROC_AUC': 0.1628756730607442,\n",
       "   'PRECISION': 0.0345406360424021,\n",
       "   'PRECISION_RECALL_MIN_DEN': 0.1195931488025132,\n",
       "   'RECALL': 0.11544989338720221,\n",
       "   'MAP': 0.055473339149165746,\n",
       "   'MRR': 0.11895226877559048,\n",
       "   'NDCG': 0.0834954089876725,\n",
       "   'F1': 0.0531728604970762,\n",
       "   'HIT_RATE': 0.3454063604240283,\n",
       "   'ARHR': 0.1366473161702846,\n",
       "   'NOVELTY': 0.004880389420450504,\n",
       "   'AVERAGE_POPULARITY': 0.09236068704472408,\n",
       "   'DIVERSITY_MEAN_INTER_LIST': 0.9899317263785071,\n",
       "   'DIVERSITY_HERFINDAHL': 0.9989756826780207,\n",
       "   'COVERAGE_ITEM': 0.4044658325312801,\n",
       "   'COVERAGE_ITEM_CORRECT': 0.0411934552454283,\n",
       "   'COVERAGE_USER': 0.7122184472127847,\n",
       "   'COVERAGE_USER_CORRECT': 0.1833396250157292,\n",
       "   'DIVERSITY_GINI': 0.12850829006606806,\n",
       "   'SHANNON_ENTROPY': 11.590050135379803}},\n",
       " 'CUTOFF: 10 - ROC_AUC: 0.1628757, PRECISION: 0.0345406, PRECISION_RECALL_MIN_DEN: 0.1195931, RECALL: 0.1154499, MAP: 0.0554733, MRR: 0.1189523, NDCG: 0.0834954, F1: 0.0531729, HIT_RATE: 0.3454064, ARHR: 0.1366473, NOVELTY: 0.0048804, AVERAGE_POPULARITY: 0.0923607, DIVERSITY_MEAN_INTER_LIST: 0.9899317, DIVERSITY_HERFINDAHL: 0.9989757, COVERAGE_ITEM: 0.4044658, COVERAGE_ITEM_CORRECT: 0.0411935, COVERAGE_USER: 0.7122184, COVERAGE_USER_CORRECT: 0.1833396, DIVERSITY_GINI: 0.1285083, SHANNON_ENTROPY: 11.5900501, \\n')"
      ]
     },
     "execution_count": 70,
     "metadata": {},
     "output_type": "execute_result"
    }
   ],
   "source": [
    "from KNN.UserKNNCFRecommender import UserKNNCFRecommender\n",
    "\n",
    "recommender_userKNN = UserKNNCFRecommender(URM_train)\n",
    "recommender_userKNN.fit(shrink=50, topK=100, feature_weighting = \"TF-IDF\")\n",
    "\n",
    "evaluator_validation.evaluateRecommender(recommender_userKNN)"
   ]
  },
  {
   "cell_type": "code",
   "execution_count": 77,
   "metadata": {},
   "outputs": [
    {
     "name": "stdout",
     "output_type": "stream",
     "text": [
      "ItemKNNScoresHybridMultipleRecommender: URM Detected 68 (0.86 %) cold users.\n",
      "ItemKNNScoresHybridMultipleRecommender: URM Detected 2421 (9.32 %) cold items.\n",
      "shape of item_weights: (1000, 25975)\n",
      "shape of item_weights: (1000, 25975)\n",
      "shape of item_weights: (1000, 25975)\n",
      "shape of item_weights: (1000, 25975)\n",
      "shape of item_weights: (1000, 25975)\n",
      "shape of item_weights: (660, 25975)\n",
      "EvaluatorHoldout: Processed 5660 ( 100.00% ) in 7.71 sec. Users per second: 735\n"
     ]
    },
    {
     "data": {
      "text/plain": [
       "({10: {'ROC_AUC': 0.1782835408603966,\n",
       "   'PRECISION': 0.038745583038868395,\n",
       "   'PRECISION_RECALL_MIN_DEN': 0.1350507599977569,\n",
       "   'RECALL': 0.1305995959977029,\n",
       "   'MAP': 0.06419083923485623,\n",
       "   'MRR': 0.13433913848224813,\n",
       "   'NDCG': 0.09544268851151999,\n",
       "   'F1': 0.05976145905492692,\n",
       "   'HIT_RATE': 0.3874558303886926,\n",
       "   'ARHR': 0.15532180716809726,\n",
       "   'NOVELTY': 0.005109158891532785,\n",
       "   'AVERAGE_POPULARITY': 0.06344774549155514,\n",
       "   'DIVERSITY_MEAN_INTER_LIST': 0.9948815389601104,\n",
       "   'DIVERSITY_HERFINDAHL': 0.9994705764836619,\n",
       "   'COVERAGE_ITEM': 0.5283926852743022,\n",
       "   'COVERAGE_ITEM_CORRECT': 0.05370548604427334,\n",
       "   'COVERAGE_USER': 0.7122184472127847,\n",
       "   'COVERAGE_USER_CORRECT': 0.20234050585126462,\n",
       "   'DIVERSITY_GINI': 0.21186161240438306,\n",
       "   'SHANNON_ENTROPY': 12.459289535961915}},\n",
       " 'CUTOFF: 10 - ROC_AUC: 0.1782835, PRECISION: 0.0387456, PRECISION_RECALL_MIN_DEN: 0.1350508, RECALL: 0.1305996, MAP: 0.0641908, MRR: 0.1343391, NDCG: 0.0954427, F1: 0.0597615, HIT_RATE: 0.3874558, ARHR: 0.1553218, NOVELTY: 0.0051092, AVERAGE_POPULARITY: 0.0634477, DIVERSITY_MEAN_INTER_LIST: 0.9948815, DIVERSITY_HERFINDAHL: 0.9994706, COVERAGE_ITEM: 0.5283927, COVERAGE_ITEM_CORRECT: 0.0537055, COVERAGE_USER: 0.7122184, COVERAGE_USER_CORRECT: 0.2023405, DIVERSITY_GINI: 0.2118616, SHANNON_ENTROPY: 12.4592895, \\n')"
      ]
     },
     "execution_count": 77,
     "metadata": {},
     "output_type": "execute_result"
    }
   ],
   "source": [
    "from KNN.ItemKNNScoresHybridMultipleRecommender import ItemKNNScoresHybridMultipleRecommender\n",
    "\n",
    "hybridrecommender = ItemKNNScoresHybridMultipleRecommender(URM_train, recommender_CBF, recommender_itemKNN, recommender_userKNN)\n",
    "hybridrecommender.fit(alpha = 0.6, beta=0.4)\n",
    "\n",
    "evaluator_validation.evaluateRecommender(hybridrecommender)"
   ]
  },
  {
   "cell_type": "code",
   "execution_count": null,
   "metadata": {},
   "outputs": [],
   "source": [
    "test_users = pd.read_csv('data_target_users_test.csv')\n",
    "test_users"
   ]
  },
  {
   "cell_type": "code",
   "execution_count": null,
   "metadata": {},
   "outputs": [],
   "source": [
    "recommender_alpha = P3alphaRecommender(URM_all)\n",
    "recommender_alpha.fit(topK=475, alpha = 0.45, implicit = True)\n",
    "\n",
    "recommender_alpha_ICM = P3alphaRecommender(ICM_all.T)\n",
    "recommender_alpha_ICM.fit(topK=175, alpha = 0.45)\n",
    "recommender_alpha_ICM.URM_train = URM_train\n",
    "\n",
    "hybridrecommender = ItemKNNSimilarityHybridRecommender(URM_all, recommender_alpha_ICM.W_sparse, recommender_alpha.W_sparse)\n",
    "hybridrecommender.fit(topK=600, alpha = 0.45)\n",
    "\n",
    "user_id = test_users['user_id']\n",
    "recommendations = hybridrecommender.recommend(user_id,cutoff = 10)\n"
   ]
  },
  {
   "cell_type": "code",
   "execution_count": null,
   "metadata": {},
   "outputs": [],
   "source": [
    "for index in range(len(recommendations)):\n",
    "    #print(element)\n",
    "    recommendations[index]=np.array(recommendations[index])\n",
    "    #print(type(element))\n",
    "print(len(recommendations))"
   ]
  },
  {
   "cell_type": "code",
   "execution_count": null,
   "metadata": {},
   "outputs": [],
   "source": [
    "test_users['item_list']= recommendations\n",
    "#test_users['item_list'] =  test_users['item_list'].apply(lambda x: x.replace('[','').replace(']','')) \n",
    "test_users['item_list'] = pd.DataFrame([str(line).strip('[').strip(']').replace(\"'\",\"\") for line in test_users['item_list']])\n",
    "\n",
    "#convert the string columns to int\n",
    "#test_users['item_list'] = test_users['item_list'].astype(int)\n",
    "test_users\n",
    "test_users.to_csv('submission.csv', index=False)\n"
   ]
  },
  {
   "cell_type": "code",
   "execution_count": null,
   "metadata": {},
   "outputs": [],
   "source": []
  }
 ],
 "metadata": {
  "kernelspec": {
   "display_name": "Python 3",
   "language": "python",
   "name": "python3"
  },
  "language_info": {
   "codemirror_mode": {
    "name": "ipython",
    "version": 3
   },
   "file_extension": ".py",
   "mimetype": "text/x-python",
   "name": "python",
   "nbconvert_exporter": "python",
   "pygments_lexer": "ipython3",
   "version": "3.8.5"
  }
 },
 "nbformat": 4,
 "nbformat_minor": 4
}
