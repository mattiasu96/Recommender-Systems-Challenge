{
 "cells": [
  {
   "cell_type": "markdown",
   "metadata": {},
   "source": [
    "# SLIM MODEL\n",
    "Since the KNN_Item_CF is the one that perfomed the best so far, now i'm trying a SLIM Model, which is basically the same algorithm but Machine Learning based. It uses the infos from the training data instead of some heuristic (such as cosine similarity ecc...)\n",
    "https://notebook.community/trangel/Insight-Data-Science/general-docs/recommendation-validation/.ipynb_checkpoints/recommender_systems-validation-checkpoint"
   ]
  },
  {
   "cell_type": "markdown",
   "metadata": {},
   "source": [
    "# Data loading \n",
    "Next cells are used to load the data we need."
   ]
  },
  {
   "cell_type": "code",
   "execution_count": null,
   "metadata": {},
   "outputs": [],
   "source": [
    "import pandas as pd\n",
    "import numpy as np \n",
    "import scipy.sparse as sps\n",
    "import os\n",
    "import sys\n",
    "import matplotlib.pyplot as plt\n",
    "sys.path.append('..')\n"
   ]
  },
  {
   "cell_type": "code",
   "execution_count": null,
   "metadata": {},
   "outputs": [],
   "source": [
    "#data which contains users (row), items(col) and implicit interaction (data)\n",
    "dataset = pd.read_csv('data_train.csv')\n",
    "dataset"
   ]
  },
  {
   "cell_type": "markdown",
   "metadata": {},
   "source": [
    "# Data pre-processing\n",
    "Pre-processing of data to check for missing users, items ecc..."
   ]
  },
  {
   "cell_type": "code",
   "execution_count": null,
   "metadata": {},
   "outputs": [],
   "source": [
    "unique_users, min_users, max_users = len(dataset.row.unique()), dataset.row.min(), dataset.row.max()\n",
    "unique_items, min_items, max_items = len(dataset.col.unique()), dataset.col.min(), dataset.col.max()\n",
    "print('users stats:',unique_users, min_users, max_users)\n",
    "print('items stats:',unique_items, min_items, max_items)"
   ]
  },
  {
   "cell_type": "markdown",
   "metadata": {},
   "source": [
    "If the difference between the unique elements and the max/min ones is really big, it's better to remap users and items in a new dataframe. In this case, it seems I can leave it as it is"
   ]
  },
  {
   "cell_type": "code",
   "execution_count": null,
   "metadata": {},
   "outputs": [],
   "source": [
    "users = dataset.row\n",
    "items = dataset.col\n",
    "data = dataset.data\n",
    "URM_all = sps.coo_matrix((data, (users, items)))\n",
    "URM_all = URM_all.tocsr() #fast row access -> fast access to users \n",
    "URM_all.shape"
   ]
  },
  {
   "cell_type": "markdown",
   "metadata": {},
   "source": [
    "CSR basically has a pointer to the exact beginning of every possible row. For example if i have <code>matrix.inptr = [0,1,2,4,6] </code> this means that at <code>matrix.inptr[n]</code> I have my n row which \"last\" until the next cell in the array. <br> In this case (for example) my third row goes from 2 to 4. <br>\n",
    "\n",
    "What do I do with it? <br>\n",
    "\n",
    "I use this index (2 to 4) to access the other two arrays of the crs format: <code>indices</code> and <code>data</code>.\n",
    "<code>indices</code> gives me the column index and <code>data</code> gives me the actual data to take"
   ]
  },
  {
   "cell_type": "code",
   "execution_count": null,
   "metadata": {},
   "outputs": [],
   "source": [
    "items_per_user = np.ediff1d(URM_all.indptr) #tells in which position each of the rows begin\n",
    "users_per_item = np.ediff1d(sps.csc_matrix(URM_all).indptr)\n",
    "URM_all = sps.csr_matrix(URM_all)"
   ]
  },
  {
   "cell_type": "code",
   "execution_count": null,
   "metadata": {},
   "outputs": [],
   "source": [
    "items_per_user = np.sort(items_per_user) #sorting based on the single value. Losing reference to the user. \n",
    "users_per_item = np.sort(users_per_item)"
   ]
  },
  {
   "cell_type": "markdown",
   "metadata": {},
   "source": [
    "The following 2 graphs plots the <code>items_per_user</code> and the <code>users_per_item</code>. It shows that slightly more than 2500 users and 2500 items have a 0 count. This is coherent with the original data we got: 30910-27255 for users and 18494-15277 for items. These differences are the missing users/items in the dataset (Basically users/items that have no interaction at all)"
   ]
  },
  {
   "cell_type": "code",
   "execution_count": null,
   "metadata": {},
   "outputs": [],
   "source": [
    "plt.figure(figsize=(15,12))\n",
    "plt.plot(items_per_user, 'ro') #biased dataset, but not so much compared with the one seen at lessons "
   ]
  },
  {
   "cell_type": "code",
   "execution_count": null,
   "metadata": {},
   "outputs": [],
   "source": [
    "plt.figure(figsize=(15,12))\n",
    "plt.plot(users_per_item, 'ro') #biased dataset, but not so much compared with the one seen at lessons "
   ]
  },
  {
   "cell_type": "code",
   "execution_count": null,
   "metadata": {},
   "outputs": [],
   "source": [
    "ICM_df = pd.read_csv('data_ICM_title_abstract.csv')\n",
    "ICM_df"
   ]
  },
  {
   "cell_type": "code",
   "execution_count": null,
   "metadata": {},
   "outputs": [],
   "source": [
    "unique_items, min_items, max_items = len(ICM_df.row.unique()), ICM_df.row.min(), ICM_df.row.max()\n",
    "unique_features, min_features, max_features = len(ICM_df.col.unique()), ICM_df.col.min(), ICM_df.col.max()\n",
    "print('items stats:',unique_items, min_items, max_items)\n",
    "print('features stats:',unique_features, min_features, max_features)"
   ]
  },
  {
   "cell_type": "code",
   "execution_count": null,
   "metadata": {},
   "outputs": [],
   "source": [
    "items = ICM_df.row\n",
    "features = ICM_df.col\n",
    "data = ICM_df.data\n",
    "ICM_all = sps.coo_matrix((data, (items, features)))\n",
    "ICM_all = ICM_all.tocsr() #fast row access -> fast access to users \n",
    "ICM_all.shape"
   ]
  },
  {
   "cell_type": "code",
   "execution_count": null,
   "metadata": {},
   "outputs": [],
   "source": [
    "ICM_all = sps.csr_matrix(ICM_all)\n",
    "features_per_item = np.ediff1d(ICM_all.indptr)\n",
    "\n",
    "ICM_all = sps.csc_matrix(ICM_all)\n",
    "items_per_feature = np.ediff1d(ICM_all.indptr)\n",
    "\n",
    "ICM_all = sps.csr_matrix(ICM_all)"
   ]
  },
  {
   "cell_type": "code",
   "execution_count": null,
   "metadata": {},
   "outputs": [],
   "source": [
    "features_per_item = np.sort(features_per_item)\n",
    "items_per_feature = np.sort(items_per_feature)"
   ]
  },
  {
   "cell_type": "code",
   "execution_count": null,
   "metadata": {},
   "outputs": [],
   "source": [
    "import matplotlib.pyplot as pyplot\n",
    "%matplotlib inline  \n",
    "\n",
    "plt.plot(features_per_item, 'ro')\n",
    "plt.ylabel('Num features ')\n",
    "plt.xlabel('Item Index')\n",
    "plt.show()"
   ]
  },
  {
   "cell_type": "code",
   "execution_count": null,
   "metadata": {},
   "outputs": [],
   "source": [
    "plt.plot(items_per_feature, 'ro')\n",
    "plt.ylabel('Num items ')\n",
    "plt.xlabel('Feature Index')\n",
    "plt.show()"
   ]
  },
  {
   "cell_type": "code",
   "execution_count": 35,
   "metadata": {},
   "outputs": [
    {
     "output_type": "stream",
     "name": "stdout",
     "text": [
      "Warning: 46 (0.58 %) of 7947 users have no train items\nWarning: 2969 (37.36 %) of 7947 users have no sampled items\n"
     ]
    }
   ],
   "source": [
    "from Base.Evaluation.Evaluator import EvaluatorHoldout\n",
    "from Data_manager.split_functions.split_train_validation_random_holdout import split_train_in_two_percentage_global_sample\n",
    "from GraphBased.P3alphaRecommender import P3alphaRecommender\n",
    "from GraphBased.RP3betaRecommender import RP3betaRecommender\n",
    "from KNN.ItemKNNCBFRecommender import ItemKNNCBFRecommender\n",
    "from KNN.ItemKNNSimilarityHybridRecommender import ItemKNNSimilarityHybridRecommender\n",
    "from KNN.UserKNNCFRecommender import UserKNNCFRecommender\n",
    "from KNN.ItemKNNScoresHybridRecommender import ItemKNNScoresHybridRecommender\n",
    "\n",
    "URM_train, URM_validation = split_train_in_two_percentage_global_sample(URM_all, train_percentage = 0.85)\n",
    "evaluator_validation = EvaluatorHoldout(URM_validation, cutoff_list=[10])\n"
   ]
  },
  {
   "cell_type": "code",
   "execution_count": 36,
   "metadata": {},
   "outputs": [
    {
     "output_type": "stream",
     "name": "stdout",
     "text": [
      "RP3betaRecommender: URM Detected 46 (0.58 %) cold users.\n",
      "RP3betaRecommender: URM Detected 2007 (7.73 %) cold items.\n",
      "ItemKNNCBFRecommender: URM Detected 46 (0.58 %) cold users.\n",
      "ItemKNNCBFRecommender: URM Detected 2007 (7.73 %) cold items.\n",
      "Similarity column 25975 ( 100 % ), 3488.25 column/sec, elapsed time 0.12 min\n",
      "UserKNNCFRecommender: URM Detected 46 (0.58 %) cold users.\n",
      "UserKNNCFRecommender: URM Detected 2007 (7.73 %) cold items.\n",
      "Similarity column 7947 ( 100 % ), 15171.73 column/sec, elapsed time 0.01 min\n",
      "ItemKNNSimilarityHybridRecommender: URM Detected 46 (0.58 %) cold users.\n",
      "ItemKNNSimilarityHybridRecommender: URM Detected 2007 (7.73 %) cold items.\n"
     ]
    }
   ],
   "source": [
    "\n",
    "# This is for the evaluation\n",
    "\n",
    "recommender_alpha = RP3betaRecommender(URM_train)\n",
    "recommender_alpha.fit(topK=450, alpha = 0.5, implicit = True)\n",
    "\n",
    "recommender_itemKNNCBF = ItemKNNCBFRecommender(URM_train, ICM_all)\n",
    "recommender_itemKNNCBF.fit(topK=200, shrink=250, feature_weighting = 'TF-IDF')\n",
    "\n",
    "recommender_userKNNCBF = UserKNNCFRecommender(URM_train)\n",
    "recommender_userKNNCBF.fit(shrink=50, topK=100, feature_weighting = \"TF-IDF\")\n",
    "\n",
    "hybridrecommender = ItemKNNSimilarityHybridRecommender(URM_train, recommender_itemKNNCBF.W_sparse, recommender_alpha.W_sparse)\n",
    "hybridrecommender.fit(topK=500, alpha = 0.57)"
   ]
  },
  {
   "cell_type": "code",
   "execution_count": 37,
   "metadata": {},
   "outputs": [
    {
     "output_type": "stream",
     "name": "stdout",
     "text": [
      "ItemKNNScoresHybridRecommender: URM Detected 46 (0.58 %) cold users.\n",
      "ItemKNNScoresHybridRecommender: URM Detected 2007 (7.73 %) cold items.\n",
      "EvaluatorHoldout: Processed 4978 ( 100.00% ) in 4.56 sec. Users per second: 1091\n"
     ]
    },
    {
     "output_type": "execute_result",
     "data": {
      "text/plain": [
       "({10: {'ROC_AUC': 0.10268745974350647,\n",
       "   'PRECISION': 0.020891924467657506,\n",
       "   'PRECISION_RECALL_MIN_DEN': 0.08881810123272556,\n",
       "   'RECALL': 0.08715369815069404,\n",
       "   'MAP': 0.0391128521554299,\n",
       "   'MRR': 0.0711919748480616,\n",
       "   'NDCG': 0.0583341716133528,\n",
       "   'F1': 0.03370443771281591,\n",
       "   'HIT_RATE': 0.20891924467657694,\n",
       "   'ARHR': 0.07891938816506912,\n",
       "   'NOVELTY': 0.005397437973363721,\n",
       "   'AVERAGE_POPULARITY': 0.017223221197659976,\n",
       "   'DIVERSITY_MEAN_INTER_LIST': 0.9980816940731705,\n",
       "   'DIVERSITY_HERFINDAHL': 0.9997881195540813,\n",
       "   'COVERAGE_ITEM': 0.6101636188642926,\n",
       "   'COVERAGE_ITEM_CORRECT': 0.03684311838306063,\n",
       "   'COVERAGE_USER': 0.6263998993330817,\n",
       "   'COVERAGE_USER_CORRECT': 0.1049452623631559,\n",
       "   'DIVERSITY_GINI': 0.3154960823620233,\n",
       "   'SHANNON_ENTROPY': 13.22763761274088}},\n",
       " 'CUTOFF: 10 - ROC_AUC: 0.1026875, PRECISION: 0.0208919, PRECISION_RECALL_MIN_DEN: 0.0888181, RECALL: 0.0871537, MAP: 0.0391129, MRR: 0.0711920, NDCG: 0.0583342, F1: 0.0337044, HIT_RATE: 0.2089192, ARHR: 0.0789194, NOVELTY: 0.0053974, AVERAGE_POPULARITY: 0.0172232, DIVERSITY_MEAN_INTER_LIST: 0.9980817, DIVERSITY_HERFINDAHL: 0.9997881, COVERAGE_ITEM: 0.6101636, COVERAGE_ITEM_CORRECT: 0.0368431, COVERAGE_USER: 0.6263999, COVERAGE_USER_CORRECT: 0.1049453, DIVERSITY_GINI: 0.3154961, SHANNON_ENTROPY: 13.2276376, \\n')"
      ]
     },
     "metadata": {},
     "execution_count": 37
    }
   ],
   "source": [
    "\n",
    "hybridrecommender_final = ItemKNNScoresHybridRecommender(URM_train, hybridrecommender, recommender_userKNNCBF)\n",
    "hybridrecommender_final.fit(alpha = 0)\n",
    "\n",
    "evaluator_validation.evaluateRecommender(hybridrecommender_final)"
   ]
  },
  {
   "cell_type": "code",
   "execution_count": null,
   "metadata": {},
   "outputs": [],
   "source": [
    "# This is for the final evaluation\n",
    "\n",
    "recommender_alpha = P3alphaRecommender(URM_all)\n",
    "recommender_alpha.fit(topK=450, alpha = 0.5, implicit = True)\n",
    "\n",
    "recommender_itemKNNCBF = ItemKNNCBFRecommender(URM_all, ICM_all)\n",
    "recommender_itemKNNCBF.fit(topK=200, shrink=250, feature_weighting = 'TF-IDF')\n",
    "\n",
    "hybridrecommender = ItemKNNSimilarityHybridRecommender(URM_all, recommender_itemKNNCBF.W_sparse, recommender_alpha.W_sparse)\n",
    "hybridrecommender.fit(topK=500, alpha = 0.57)\n",
    "\n",
    "user_id = test_users['user_id']\n",
    "recommendations = hybridrecommender.recommend(user_id,cutoff = 10)\n"
   ]
  },
  {
   "cell_type": "code",
   "execution_count": null,
   "metadata": {},
   "outputs": [],
   "source": [
    "test_users = pd.read_csv('data_target_users_test.csv')\n",
    "test_users"
   ]
  },
  {
   "cell_type": "code",
   "execution_count": null,
   "metadata": {},
   "outputs": [],
   "source": [
    "for index in range(len(recommendations)):\n",
    "    #print(element)\n",
    "    recommendations[index]=np.array(recommendations[index])\n",
    "    #print(type(element))\n",
    "print(len(recommendations))"
   ]
  },
  {
   "cell_type": "code",
   "execution_count": null,
   "metadata": {},
   "outputs": [],
   "source": [
    "test_users['item_list']= recommendations\n",
    "#test_users['item_list'] =  test_users['item_list'].apply(lambda x: x.replace('[','').replace(']','')) \n",
    "test_users['item_list'] = pd.DataFrame([str(line).strip('[').strip(']').replace(\"'\",\"\") for line in test_users['item_list']])\n",
    "\n",
    "#convert the string columns to int\n",
    "#test_users['item_list'] = test_users['item_list'].astype(int)\n",
    "test_users\n",
    "test_users.to_csv('submission.csv', index=False)\n"
   ]
  },
  {
   "cell_type": "code",
   "execution_count": null,
   "metadata": {},
   "outputs": [],
   "source": []
  }
 ],
 "metadata": {
  "kernelspec": {
   "name": "python3",
   "display_name": "Python 3.8.5 64-bit",
   "metadata": {
    "interpreter": {
     "hash": "082e9a3bcad0a290d0001e938aa60b99250c6c2ef33a923c00b70f9826caf4b7"
    }
   }
  },
  "language_info": {
   "codemirror_mode": {
    "name": "ipython",
    "version": 3
   },
   "file_extension": ".py",
   "mimetype": "text/x-python",
   "name": "python",
   "nbconvert_exporter": "python",
   "pygments_lexer": "ipython3",
   "version": "3.8.5-final"
  }
 },
 "nbformat": 4,
 "nbformat_minor": 4
}