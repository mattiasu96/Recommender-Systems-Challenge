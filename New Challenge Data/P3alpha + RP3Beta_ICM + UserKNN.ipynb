{
 "cells": [
  {
   "cell_type": "markdown",
   "metadata": {},
   "source": [
    "# Data loading \n",
    "Next cells are used to load the data we need."
   ]
  },
  {
   "cell_type": "code",
   "execution_count": 13,
   "metadata": {},
   "outputs": [],
   "source": [
    "import pandas as pd\n",
    "import numpy as np \n",
    "import scipy.sparse as sps\n",
    "import os\n",
    "import sys\n",
    "import matplotlib.pyplot as plt\n",
    "sys.path.append('..')\n"
   ]
  },
  {
   "cell_type": "code",
   "execution_count": 14,
   "metadata": {},
   "outputs": [
    {
     "output_type": "execute_result",
     "data": {
      "text/plain": [
       "         row    col  data\n",
       "0          0  10080   1.0\n",
       "1          0  19467   1.0\n",
       "2          1   2665   1.0\n",
       "3          1   7494   1.0\n",
       "4          1  17068   1.0\n",
       "...      ...    ...   ...\n",
       "113263  7945   2476   1.0\n",
       "113264  7945  12319   1.0\n",
       "113265  7945  21384   1.0\n",
       "113266  7946   8699   1.0\n",
       "113267  7946  19178   1.0\n",
       "\n",
       "[113268 rows x 3 columns]"
      ],
      "text/html": "<div>\n<style scoped>\n    .dataframe tbody tr th:only-of-type {\n        vertical-align: middle;\n    }\n\n    .dataframe tbody tr th {\n        vertical-align: top;\n    }\n\n    .dataframe thead th {\n        text-align: right;\n    }\n</style>\n<table border=\"1\" class=\"dataframe\">\n  <thead>\n    <tr style=\"text-align: right;\">\n      <th></th>\n      <th>row</th>\n      <th>col</th>\n      <th>data</th>\n    </tr>\n  </thead>\n  <tbody>\n    <tr>\n      <th>0</th>\n      <td>0</td>\n      <td>10080</td>\n      <td>1.0</td>\n    </tr>\n    <tr>\n      <th>1</th>\n      <td>0</td>\n      <td>19467</td>\n      <td>1.0</td>\n    </tr>\n    <tr>\n      <th>2</th>\n      <td>1</td>\n      <td>2665</td>\n      <td>1.0</td>\n    </tr>\n    <tr>\n      <th>3</th>\n      <td>1</td>\n      <td>7494</td>\n      <td>1.0</td>\n    </tr>\n    <tr>\n      <th>4</th>\n      <td>1</td>\n      <td>17068</td>\n      <td>1.0</td>\n    </tr>\n    <tr>\n      <th>...</th>\n      <td>...</td>\n      <td>...</td>\n      <td>...</td>\n    </tr>\n    <tr>\n      <th>113263</th>\n      <td>7945</td>\n      <td>2476</td>\n      <td>1.0</td>\n    </tr>\n    <tr>\n      <th>113264</th>\n      <td>7945</td>\n      <td>12319</td>\n      <td>1.0</td>\n    </tr>\n    <tr>\n      <th>113265</th>\n      <td>7945</td>\n      <td>21384</td>\n      <td>1.0</td>\n    </tr>\n    <tr>\n      <th>113266</th>\n      <td>7946</td>\n      <td>8699</td>\n      <td>1.0</td>\n    </tr>\n    <tr>\n      <th>113267</th>\n      <td>7946</td>\n      <td>19178</td>\n      <td>1.0</td>\n    </tr>\n  </tbody>\n</table>\n<p>113268 rows × 3 columns</p>\n</div>"
     },
     "metadata": {},
     "execution_count": 14
    }
   ],
   "source": [
    "#data which contains users (row), items(col) and implicit interaction (data)\n",
    "dataset = pd.read_csv('data_train.csv')\n",
    "dataset"
   ]
  },
  {
   "cell_type": "code",
   "execution_count": 15,
   "metadata": {},
   "outputs": [
    {
     "output_type": "execute_result",
     "data": {
      "text/plain": [
       "(7947, 25975)"
      ]
     },
     "metadata": {},
     "execution_count": 15
    }
   ],
   "source": [
    "users = dataset.row\n",
    "items = dataset.col\n",
    "data = dataset.data\n",
    "URM_all = sps.coo_matrix((data, (users, items)))\n",
    "URM_all = URM_all.tocsr() #fast row access -> fast access to users \n",
    "URM_all.shape"
   ]
  },
  {
   "cell_type": "code",
   "execution_count": 16,
   "metadata": {},
   "outputs": [],
   "source": [
    "items_per_user = np.ediff1d(URM_all.indptr) #tells in which position each of the rows begin\n",
    "users_per_item = np.ediff1d(sps.csc_matrix(URM_all).indptr)\n",
    "URM_all = sps.csr_matrix(URM_all)"
   ]
  },
  {
   "cell_type": "code",
   "execution_count": 17,
   "metadata": {},
   "outputs": [],
   "source": [
    "items_per_user = np.sort(items_per_user) #sorting based on the single value. Losing reference to the user. \n",
    "users_per_item = np.sort(users_per_item)"
   ]
  },
  {
   "cell_type": "code",
   "execution_count": 18,
   "metadata": {},
   "outputs": [
    {
     "output_type": "execute_result",
     "data": {
      "text/plain": [
       "          row    col      data\n",
       "0           0   1185  1.015524\n",
       "1           0   2507  0.459024\n",
       "2           0   3534  0.227742\n",
       "3           0   8766  0.501549\n",
       "4           0  10862  0.297011\n",
       "...       ...    ...       ...\n",
       "490686  25974  12554  0.963016\n",
       "490687  25974  13003  0.104613\n",
       "490688  25974  16236  0.118760\n",
       "490689  25974  18797  0.363301\n",
       "490690  25974  19629  0.129141\n",
       "\n",
       "[490691 rows x 3 columns]"
      ],
      "text/html": "<div>\n<style scoped>\n    .dataframe tbody tr th:only-of-type {\n        vertical-align: middle;\n    }\n\n    .dataframe tbody tr th {\n        vertical-align: top;\n    }\n\n    .dataframe thead th {\n        text-align: right;\n    }\n</style>\n<table border=\"1\" class=\"dataframe\">\n  <thead>\n    <tr style=\"text-align: right;\">\n      <th></th>\n      <th>row</th>\n      <th>col</th>\n      <th>data</th>\n    </tr>\n  </thead>\n  <tbody>\n    <tr>\n      <th>0</th>\n      <td>0</td>\n      <td>1185</td>\n      <td>1.015524</td>\n    </tr>\n    <tr>\n      <th>1</th>\n      <td>0</td>\n      <td>2507</td>\n      <td>0.459024</td>\n    </tr>\n    <tr>\n      <th>2</th>\n      <td>0</td>\n      <td>3534</td>\n      <td>0.227742</td>\n    </tr>\n    <tr>\n      <th>3</th>\n      <td>0</td>\n      <td>8766</td>\n      <td>0.501549</td>\n    </tr>\n    <tr>\n      <th>4</th>\n      <td>0</td>\n      <td>10862</td>\n      <td>0.297011</td>\n    </tr>\n    <tr>\n      <th>...</th>\n      <td>...</td>\n      <td>...</td>\n      <td>...</td>\n    </tr>\n    <tr>\n      <th>490686</th>\n      <td>25974</td>\n      <td>12554</td>\n      <td>0.963016</td>\n    </tr>\n    <tr>\n      <th>490687</th>\n      <td>25974</td>\n      <td>13003</td>\n      <td>0.104613</td>\n    </tr>\n    <tr>\n      <th>490688</th>\n      <td>25974</td>\n      <td>16236</td>\n      <td>0.118760</td>\n    </tr>\n    <tr>\n      <th>490689</th>\n      <td>25974</td>\n      <td>18797</td>\n      <td>0.363301</td>\n    </tr>\n    <tr>\n      <th>490690</th>\n      <td>25974</td>\n      <td>19629</td>\n      <td>0.129141</td>\n    </tr>\n  </tbody>\n</table>\n<p>490691 rows × 3 columns</p>\n</div>"
     },
     "metadata": {},
     "execution_count": 18
    }
   ],
   "source": [
    "ICM_df = pd.read_csv('data_ICM_title_abstract.csv')\n",
    "ICM_df"
   ]
  },
  {
   "cell_type": "code",
   "execution_count": 19,
   "metadata": {},
   "outputs": [
    {
     "output_type": "execute_result",
     "data": {
      "text/plain": [
       "(25975, 20000)"
      ]
     },
     "metadata": {},
     "execution_count": 19
    }
   ],
   "source": [
    "items = ICM_df.row\n",
    "features = ICM_df.col\n",
    "data = ICM_df.data\n",
    "ICM_all = sps.coo_matrix((data, (items, features)))\n",
    "ICM_all = ICM_all.tocsr() #fast row access -> fast access to users \n",
    "ICM_all.shape"
   ]
  },
  {
   "cell_type": "code",
   "execution_count": 20,
   "metadata": {},
   "outputs": [],
   "source": [
    "ICM_all = sps.csr_matrix(ICM_all)\n",
    "features_per_item = np.ediff1d(ICM_all.indptr)\n",
    "\n",
    "ICM_all = sps.csc_matrix(ICM_all)\n",
    "items_per_feature = np.ediff1d(ICM_all.indptr)\n",
    "\n",
    "ICM_all = sps.csr_matrix(ICM_all)"
   ]
  },
  {
   "cell_type": "code",
   "execution_count": 21,
   "metadata": {},
   "outputs": [],
   "source": [
    "features_per_item = np.sort(features_per_item)\n",
    "items_per_feature = np.sort(items_per_feature)"
   ]
  },
  {
   "cell_type": "code",
   "execution_count": 22,
   "metadata": {},
   "outputs": [
    {
     "output_type": "stream",
     "name": "stdout",
     "text": [
      "Warning: 35 (0.44 %) of 7947 users have no train items\nWarning: 2970 (37.37 %) of 7947 users have no sampled items\n"
     ]
    }
   ],
   "source": [
    "from Base.Evaluation.Evaluator import EvaluatorHoldout\n",
    "from Data_manager.split_functions.split_train_validation_random_holdout import split_train_in_two_percentage_global_sample\n",
    "\n",
    "URM_train, URM_validation = split_train_in_two_percentage_global_sample(URM_all, train_percentage = 0.85)\n",
    "evaluator_validation = EvaluatorHoldout(URM_validation, cutoff_list=[10])\n"
   ]
  },
  {
   "cell_type": "code",
   "execution_count": 23,
   "metadata": {},
   "outputs": [
    {
     "output_type": "stream",
     "name": "stdout",
     "text": [
      "P3alphaRecommender: URM Detected 35 (0.44 %) cold users.\n",
      "P3alphaRecommender: URM Detected 2011 (7.74 %) cold items.\n",
      "RP3betaRecommender: URM Detected 2 (0.01 %) cold users.\n",
      "RP3betaRecommender: URM Detected 25 (0.10 %) cold items.\n",
      "UserKNNCFRecommender: URM Detected 35 (0.44 %) cold users.\n",
      "UserKNNCFRecommender: URM Detected 2011 (7.74 %) cold items.\n",
      "Similarity column 7947 ( 100 % ), 16159.24 column/sec, elapsed time 0.01 min\n"
     ]
    }
   ],
   "source": [
    "from GraphBased.P3alphaRecommender import P3alphaRecommender\n",
    "from GraphBased.RP3betaRecommender import RP3betaRecommender\n",
    "from KNN.UserKNNCFRecommender import UserKNNCFRecommender\n",
    "from KNN.ItemKNNScoresHybridMultipleRecommender import ItemKNNScoresHybridMultipleRecommender\n",
    "\n",
    "recommender_alpha = P3alphaRecommender(URM_train)\n",
    "recommender_alpha.fit(topK=278, alpha = 0.5618697145575392, implicit = True)\n",
    "\n",
    "recommender_beta_ICM = RP3betaRecommender(ICM_all.T)\n",
    "recommender_beta_ICM.fit(topK=70, alpha=0.35, beta=0.4, implicit=False)\n",
    "recommender_beta_ICM.URM_train = URM_train\n",
    "\n",
    "# {'topK': 146, 'shrink': 1}\n",
    "recommender_userKNN = UserKNNCFRecommender(URM_train)\n",
    "recommender_userKNN.fit(topK= 146, shrink = 1)"
   ]
  },
  {
   "cell_type": "code",
   "execution_count": 24,
   "metadata": {},
   "outputs": [],
   "source": [
    "from skopt.space import Real, Integer, Categorical\n",
    "\n",
    "hyperparameters_range_dictionary = {}\n",
    "hyperparameters_range_dictionary[\"alpha\"] = Real(low = 0, high = 1, prior = 'uniform')\n",
    "hyperparameters_range_dictionary[\"beta\"] = Real(low = 0, high = 1, prior = 'uniform')"
   ]
  },
  {
   "cell_type": "code",
   "execution_count": 25,
   "metadata": {},
   "outputs": [],
   "source": [
    "from KNN.ItemKNNScoresHybridMultipleRecommender import ItemKNNScoresHybridMultipleRecommender\n",
    "from ParameterTuning.SearchBayesianSkopt import SearchBayesianSkopt\n",
    "\n",
    "recommender_class = ItemKNNScoresHybridMultipleRecommender\n",
    "\n",
    "parameterSearch = SearchBayesianSkopt(recommender_class,\n",
    "                                 evaluator_validation=evaluator_validation,\n",
    "                                 evaluator_test=evaluator_validation)"
   ]
  },
  {
   "cell_type": "code",
   "execution_count": 26,
   "metadata": {},
   "outputs": [],
   "source": [
    "from ParameterTuning.SearchAbstractClass import SearchInputRecommenderArgs\n",
    "  \n",
    "recommender_input_args = SearchInputRecommenderArgs(\n",
    "    CONSTRUCTOR_POSITIONAL_ARGS = [URM_train, recommender_alpha, recommender_beta_ICM, recommender_userKNN],\n",
    "    CONSTRUCTOR_KEYWORD_ARGS = {},\n",
    "    FIT_POSITIONAL_ARGS = [],\n",
    "    FIT_KEYWORD_ARGS = {}\n",
    ")"
   ]
  },
  {
   "cell_type": "code",
   "execution_count": 27,
   "metadata": {},
   "outputs": [],
   "source": [
    "recommender_input_args_last_test = SearchInputRecommenderArgs(\n",
    "    CONSTRUCTOR_POSITIONAL_ARGS = [URM_all, recommender_alpha, recommender_beta_ICM, recommender_userKNN],\n",
    "    CONSTRUCTOR_KEYWORD_ARGS = {},\n",
    "    FIT_POSITIONAL_ARGS = [],\n",
    "    FIT_KEYWORD_ARGS = {}\n",
    ")"
   ]
  },
  {
   "cell_type": "code",
   "execution_count": 28,
   "metadata": {},
   "outputs": [],
   "source": [
    "import os\n",
    "\n",
    "output_folder_path = \"result_experiments/\"\n",
    "\n",
    "# If directory does not exist, create\n",
    "if not os.path.exists(output_folder_path):\n",
    "    os.makedirs(output_folder_path)\n",
    "    \n",
    "n_cases = 50\n",
    "n_random_starts = int(n_cases*0.3)\n",
    "metric_to_optimize = \"MAP\"  "
   ]
  },
  {
   "cell_type": "code",
   "execution_count": 29,
   "metadata": {
    "tags": [
     "outputPrepend"
    ]
   },
   "outputs": [
    {
     "output_type": "stream",
     "name": "stdout",
     "text": [
      "ken: 12.4433\n",
      "Function value obtained: -0.0762\n",
      "Current minimum: -0.0762\n",
      "Iteration No: 38 started. Searching for the next optimal point.\n",
      "ItemKNNScoresHybridMultipleRecommender: URM Detected 35 (0.44 %) cold users.\n",
      "ItemKNNScoresHybridMultipleRecommender: URM Detected 2011 (7.74 %) cold items.\n",
      "SearchBayesianSkopt: Testing config: {'alpha': 0.08922363707111161, 'beta': 0.8697759035854679}\n",
      "shape of item_weights: (1000, 25975)\n",
      "shape of item_weights: (1000, 25975)\n",
      "shape of item_weights: (1000, 25975)\n",
      "shape of item_weights: (1000, 25975)\n",
      "shape of item_weights: (977, 25975)\n",
      "EvaluatorHoldout: Processed 4977 ( 100.00% ) in 5.88 sec. Users per second: 846\n",
      "SearchBayesianSkopt: Config 37 is suboptimal. Config: {'alpha': 0.08922363707111161, 'beta': 0.8697759035854679} - results: ROC_AUC: 0.1920513, PRECISION: 0.0401648, PRECISION_RECALL_MIN_DEN: 0.1633895, RECALL: 0.1602139, MAP: 0.0752307, MRR: 0.1404780, NDCG: 0.1108797, F1: 0.0642279, HIT_RATE: 0.4016476, ARHR: 0.1608999, NOVELTY: 0.0050153, AVERAGE_POPULARITY: 0.0765101, DIVERSITY_MEAN_INTER_LIST: 0.9927778, DIVERSITY_HERFINDAHL: 0.9992578, COVERAGE_ITEM: 0.5051396, COVERAGE_ITEM_CORRECT: 0.0514726, COVERAGE_USER: 0.6262741, COVERAGE_USER_CORRECT: 0.1887505, DIVERSITY_GINI: 0.2048490, SHANNON_ENTROPY: 12.2788655, \n",
      "\n",
      "Iteration No: 38 ended. Search finished for the next optimal point.\n",
      "Time taken: 6.3111\n",
      "Function value obtained: -0.0752\n",
      "Current minimum: -0.0762\n",
      "Iteration No: 39 started. Searching for the next optimal point.\n",
      "ItemKNNScoresHybridMultipleRecommender: URM Detected 35 (0.44 %) cold users.\n",
      "ItemKNNScoresHybridMultipleRecommender: URM Detected 2011 (7.74 %) cold items.\n",
      "SearchBayesianSkopt: Testing config: {'alpha': 0.10883730184330451, 'beta': 0.8418669417518008}\n",
      "shape of item_weights: (1000, 25975)\n",
      "shape of item_weights: (1000, 25975)\n",
      "shape of item_weights: (1000, 25975)\n",
      "shape of item_weights: (1000, 25975)\n",
      "shape of item_weights: (977, 25975)\n",
      "EvaluatorHoldout: Processed 4977 ( 100.00% ) in 5.91 sec. Users per second: 842\n",
      "SearchBayesianSkopt: New best config found. Config 38: {'alpha': 0.10883730184330451, 'beta': 0.8418669417518008} - results: ROC_AUC: 0.1935181, PRECISION: 0.0405264, PRECISION_RECALL_MIN_DEN: 0.1638086, RECALL: 0.1606361, MAP: 0.0766666, MRR: 0.1425295, NDCG: 0.1122981, F1: 0.0647238, HIT_RATE: 0.4052642, ARHR: 0.1636407, NOVELTY: 0.0049732, AVERAGE_POPULARITY: 0.0833020, DIVERSITY_MEAN_INTER_LIST: 0.9915576, DIVERSITY_HERFINDAHL: 0.9991358, COVERAGE_ITEM: 0.4852743, COVERAGE_ITEM_CORRECT: 0.0515496, COVERAGE_USER: 0.6262741, COVERAGE_USER_CORRECT: 0.1893796, DIVERSITY_GINI: 0.1860860, SHANNON_ENTROPY: 12.0914489, \n",
      "\n",
      "shape of item_weights: (1000, 25975)\n",
      "shape of item_weights: (1000, 25975)\n",
      "shape of item_weights: (1000, 25975)\n",
      "shape of item_weights: (1000, 25975)\n",
      "shape of item_weights: (977, 25975)\n",
      "EvaluatorHoldout: Processed 4977 ( 100.00% ) in 5.84 sec. Users per second: 853\n",
      "SearchBayesianSkopt: Best config evaluated with evaluator_test. Config: {'alpha': 0.10883730184330451, 'beta': 0.8418669417518008} - results:\n",
      "CUTOFF: 10 - ROC_AUC: 0.1935181, PRECISION: 0.0405264, PRECISION_RECALL_MIN_DEN: 0.1638086, RECALL: 0.1606361, MAP: 0.0766666, MRR: 0.1425295, NDCG: 0.1122981, F1: 0.0647238, HIT_RATE: 0.4052642, ARHR: 0.1636407, NOVELTY: 0.0049732, AVERAGE_POPULARITY: 0.0833020, DIVERSITY_MEAN_INTER_LIST: 0.9915576, DIVERSITY_HERFINDAHL: 0.9991358, COVERAGE_ITEM: 0.4852743, COVERAGE_ITEM_CORRECT: 0.0515496, COVERAGE_USER: 0.6262741, COVERAGE_USER_CORRECT: 0.1893796, DIVERSITY_GINI: 0.1860860, SHANNON_ENTROPY: 12.0914489, \n",
      "\n",
      "\n",
      "Iteration No: 39 ended. Search finished for the next optimal point.\n",
      "Time taken: 12.1867\n",
      "Function value obtained: -0.0767\n",
      "Current minimum: -0.0767\n",
      "Iteration No: 40 started. Searching for the next optimal point.\n",
      "ItemKNNScoresHybridMultipleRecommender: URM Detected 35 (0.44 %) cold users.\n",
      "ItemKNNScoresHybridMultipleRecommender: URM Detected 2011 (7.74 %) cold items.\n",
      "SearchBayesianSkopt: Testing config: {'alpha': 0.6570498692079784, 'beta': 0.0}\n",
      "shape of item_weights: (1000, 25975)\n",
      "shape of item_weights: (1000, 25975)\n",
      "shape of item_weights: (1000, 25975)\n",
      "shape of item_weights: (1000, 25975)\n",
      "shape of item_weights: (977, 25975)\n",
      "EvaluatorHoldout: Processed 4977 ( 100.00% ) in 5.86 sec. Users per second: 850\n",
      "SearchBayesianSkopt: Config 39 is suboptimal. Config: {'alpha': 0.6570498692079784, 'beta': 0.0} - results: ROC_AUC: 0.1626340, PRECISION: 0.0337553, PRECISION_RECALL_MIN_DEN: 0.1291052, RECALL: 0.1262419, MAP: 0.0594438, MRR: 0.1187641, NDCG: 0.0892093, F1: 0.0532676, HIT_RATE: 0.3375527, ARHR: 0.1349000, NOVELTY: 0.0048350, AVERAGE_POPULARITY: 0.1036580, DIVERSITY_MEAN_INTER_LIST: 0.9868059, DIVERSITY_HERFINDAHL: 0.9986608, COVERAGE_ITEM: 0.3857940, COVERAGE_ITEM_CORRECT: 0.0362656, COVERAGE_USER: 0.6262741, COVERAGE_USER_CORRECT: 0.1618221, DIVERSITY_GINI: 0.1208209, SHANNON_ENTROPY: 11.3768673, \n",
      "\n",
      "Iteration No: 40 ended. Search finished for the next optimal point.\n",
      "Time taken: 6.2467\n",
      "Function value obtained: -0.0594\n",
      "Current minimum: -0.0767\n",
      "Iteration No: 41 started. Searching for the next optimal point.\n",
      "ItemKNNScoresHybridMultipleRecommender: URM Detected 35 (0.44 %) cold users.\n",
      "ItemKNNScoresHybridMultipleRecommender: URM Detected 2011 (7.74 %) cold items.\n",
      "SearchBayesianSkopt: Testing config: {'alpha': 0.5533977691234483, 'beta': 0.5803300993124705}\n",
      "shape of item_weights: (1000, 25975)\n",
      "shape of item_weights: (1000, 25975)\n",
      "shape of item_weights: (1000, 25975)\n",
      "shape of item_weights: (1000, 25975)\n",
      "shape of item_weights: (977, 25975)\n",
      "EvaluatorHoldout: Processed 4977 ( 100.00% ) in 5.86 sec. Users per second: 849\n",
      "SearchBayesianSkopt: Config 40 is suboptimal. Config: {'alpha': 0.5533977691234483, 'beta': 0.5803300993124705} - results: ROC_AUC: 0.1617232, PRECISION: 0.0332128, PRECISION_RECALL_MIN_DEN: 0.1248027, RECALL: 0.1218901, MAP: 0.0592861, MRR: 0.1185796, NDCG: 0.0880589, F1: 0.0522016, HIT_RATE: 0.3321278, ARHR: 0.1356396, NOVELTY: 0.0050437, AVERAGE_POPULARITY: 0.0782448, DIVERSITY_MEAN_INTER_LIST: 0.9928831, DIVERSITY_HERFINDAHL: 0.9992684, COVERAGE_ITEM: 0.5049471, COVERAGE_ITEM_CORRECT: 0.0414629, COVERAGE_USER: 0.6262741, COVERAGE_USER_CORRECT: 0.1567887, DIVERSITY_GINI: 0.2070219, SHANNON_ENTROPY: 12.3233322, \n",
      "\n",
      "Iteration No: 41 ended. Search finished for the next optimal point.\n",
      "Time taken: 6.3790\n",
      "Function value obtained: -0.0593\n",
      "Current minimum: -0.0767\n",
      "Iteration No: 42 started. Searching for the next optimal point.\n",
      "ItemKNNScoresHybridMultipleRecommender: URM Detected 35 (0.44 %) cold users.\n",
      "ItemKNNScoresHybridMultipleRecommender: URM Detected 2011 (7.74 %) cold items.\n",
      "SearchBayesianSkopt: Testing config: {'alpha': 0.0, 'beta': 0.19131385694380557}\n",
      "shape of item_weights: (1000, 25975)\n",
      "shape of item_weights: (1000, 25975)\n",
      "shape of item_weights: (1000, 25975)\n",
      "shape of item_weights: (1000, 25975)\n",
      "shape of item_weights: (977, 25975)\n",
      "EvaluatorHoldout: Processed 4977 ( 100.00% ) in 5.90 sec. Users per second: 844\n",
      "SearchBayesianSkopt: Config 41 is suboptimal. Config: {'alpha': 0.0, 'beta': 0.19131385694380557} - results: ROC_AUC: 0.1629078, PRECISION: 0.0335142, PRECISION_RECALL_MIN_DEN: 0.1307785, RECALL: 0.1280296, MAP: 0.0604991, MRR: 0.1182799, NDCG: 0.0903073, F1: 0.0531225, HIT_RATE: 0.3351417, ARHR: 0.1337490, NOVELTY: 0.0047678, AVERAGE_POPULARITY: 0.1098050, DIVERSITY_MEAN_INTER_LIST: 0.9858533, DIVERSITY_HERFINDAHL: 0.9985655, COVERAGE_ITEM: 0.3674302, COVERAGE_ITEM_CORRECT: 0.0362656, COVERAGE_USER: 0.6262741, COVERAGE_USER_CORRECT: 0.1614446, DIVERSITY_GINI: 0.1078817, SHANNON_ENTROPY: 11.2102761, \n",
      "\n",
      "Iteration No: 42 ended. Search finished for the next optimal point.\n",
      "Time taken: 6.3237\n",
      "Function value obtained: -0.0605\n",
      "Current minimum: -0.0767\n",
      "Iteration No: 43 started. Searching for the next optimal point.\n",
      "ItemKNNScoresHybridMultipleRecommender: URM Detected 35 (0.44 %) cold users.\n",
      "ItemKNNScoresHybridMultipleRecommender: URM Detected 2011 (7.74 %) cold items.\n",
      "SearchBayesianSkopt: Testing config: {'alpha': 0.12492346724808032, 'beta': 0.8329768407694516}\n",
      "shape of item_weights: (1000, 25975)\n",
      "shape of item_weights: (1000, 25975)\n",
      "shape of item_weights: (1000, 25975)\n",
      "shape of item_weights: (1000, 25975)\n",
      "shape of item_weights: (977, 25975)\n",
      "EvaluatorHoldout: Processed 4977 ( 100.00% ) in 5.92 sec. Users per second: 841\n",
      "SearchBayesianSkopt: Config 42 is suboptimal. Config: {'alpha': 0.12492346724808032, 'beta': 0.8329768407694516} - results: ROC_AUC: 0.1942670, PRECISION: 0.0405465, PRECISION_RECALL_MIN_DEN: 0.1635917, RECALL: 0.1605024, MAP: 0.0765898, MRR: 0.1424448, NDCG: 0.1122921, F1: 0.0647386, HIT_RATE: 0.4054651, ARHR: 0.1636341, NOVELTY: 0.0049717, AVERAGE_POPULARITY: 0.0841412, DIVERSITY_MEAN_INTER_LIST: 0.9913808, DIVERSITY_HERFINDAHL: 0.9991182, COVERAGE_ITEM: 0.4828489, COVERAGE_ITEM_CORRECT: 0.0510491, COVERAGE_USER: 0.6262741, COVERAGE_USER_CORRECT: 0.1901346, DIVERSITY_GINI: 0.1844285, SHANNON_ENTROPY: 12.0732473, \n",
      "\n",
      "Iteration No: 43 ended. Search finished for the next optimal point.\n",
      "Time taken: 6.4011\n",
      "Function value obtained: -0.0766\n",
      "Current minimum: -0.0767\n",
      "Iteration No: 44 started. Searching for the next optimal point.\n",
      "ItemKNNScoresHybridMultipleRecommender: URM Detected 35 (0.44 %) cold users.\n",
      "ItemKNNScoresHybridMultipleRecommender: URM Detected 2011 (7.74 %) cold items.\n",
      "SearchBayesianSkopt: Testing config: {'alpha': 9.738124031433151e-05, 'beta': 0.4966319727908386}\n",
      "shape of item_weights: (1000, 25975)\n",
      "shape of item_weights: (1000, 25975)\n",
      "shape of item_weights: (1000, 25975)\n",
      "shape of item_weights: (1000, 25975)\n",
      "shape of item_weights: (977, 25975)\n",
      "EvaluatorHoldout: Processed 4977 ( 100.00% ) in 5.84 sec. Users per second: 852\n",
      "SearchBayesianSkopt: Config 43 is suboptimal. Config: {'alpha': 9.738124031433151e-05, 'beta': 0.4966319727908386} - results: ROC_AUC: 0.1704665, PRECISION: 0.0352019, PRECISION_RECALL_MIN_DEN: 0.1363354, RECALL: 0.1333306, MAP: 0.0633695, MRR: 0.1233836, NDCG: 0.0943021, F1: 0.0556984, HIT_RATE: 0.3520193, ARHR: 0.1404902, NOVELTY: 0.0047814, AVERAGE_POPULARITY: 0.1077057, DIVERSITY_MEAN_INTER_LIST: 0.9863805, DIVERSITY_HERFINDAHL: 0.9986182, COVERAGE_ITEM: 0.3756689, COVERAGE_ITEM_CORRECT: 0.0394225, COVERAGE_USER: 0.6262741, COVERAGE_USER_CORRECT: 0.1683654, DIVERSITY_GINI: 0.1124374, SHANNON_ENTROPY: 11.2738162, \n",
      "\n",
      "Iteration No: 44 ended. Search finished for the next optimal point.\n",
      "Time taken: 6.2484\n",
      "Function value obtained: -0.0634\n",
      "Current minimum: -0.0767\n",
      "Iteration No: 45 started. Searching for the next optimal point.\n",
      "ItemKNNScoresHybridMultipleRecommender: URM Detected 35 (0.44 %) cold users.\n",
      "ItemKNNScoresHybridMultipleRecommender: URM Detected 2011 (7.74 %) cold items.\n",
      "SearchBayesianSkopt: Testing config: {'alpha': 0.37853750063124236, 'beta': 0.1402811857181823}\n",
      "shape of item_weights: (1000, 25975)\n",
      "shape of item_weights: (1000, 25975)\n",
      "shape of item_weights: (1000, 25975)\n",
      "shape of item_weights: (1000, 25975)\n",
      "shape of item_weights: (977, 25975)\n",
      "EvaluatorHoldout: Processed 4977 ( 100.00% ) in 6.15 sec. Users per second: 809\n",
      "SearchBayesianSkopt: Config 44 is suboptimal. Config: {'alpha': 0.37853750063124236, 'beta': 0.1402811857181823} - results: ROC_AUC: 0.1679484, PRECISION: 0.0345188, PRECISION_RECALL_MIN_DEN: 0.1346272, RECALL: 0.1317270, MAP: 0.0624851, MRR: 0.1228793, NDCG: 0.0931012, F1: 0.0547028, HIT_RATE: 0.3451879, ARHR: 0.1394280, NOVELTY: 0.0048080, AVERAGE_POPULARITY: 0.1055002, DIVERSITY_MEAN_INTER_LIST: 0.9867000, DIVERSITY_HERFINDAHL: 0.9986502, COVERAGE_ITEM: 0.3891434, COVERAGE_ITEM_CORRECT: 0.0377286, COVERAGE_USER: 0.6262741, COVERAGE_USER_CORRECT: 0.1653454, DIVERSITY_GINI: 0.1205506, SHANNON_ENTROPY: 11.3650870, \n",
      "\n",
      "Iteration No: 45 ended. Search finished for the next optimal point.\n",
      "Time taken: 6.5727\n",
      "Function value obtained: -0.0625\n",
      "Current minimum: -0.0767\n",
      "Iteration No: 46 started. Searching for the next optimal point.\n",
      "ItemKNNScoresHybridMultipleRecommender: URM Detected 35 (0.44 %) cold users.\n",
      "ItemKNNScoresHybridMultipleRecommender: URM Detected 2011 (7.74 %) cold items.\n",
      "SearchBayesianSkopt: Testing config: {'alpha': 0.5284342717470887, 'beta': 0.46856083073785715}\n",
      "shape of item_weights: (1000, 25975)\n",
      "shape of item_weights: (1000, 25975)\n",
      "shape of item_weights: (1000, 25975)\n",
      "shape of item_weights: (1000, 25975)\n",
      "shape of item_weights: (977, 25975)\n",
      "EvaluatorHoldout: Processed 4977 ( 100.00% ) in 6.63 sec. Users per second: 751\n",
      "SearchBayesianSkopt: Config 45 is suboptimal. Config: {'alpha': 0.5284342717470887, 'beta': 0.46856083073785715} - results: ROC_AUC: 0.1741600, PRECISION: 0.0354229, PRECISION_RECALL_MIN_DEN: 0.1392274, RECALL: 0.1363292, MAP: 0.0660923, MRR: 0.1283374, NDCG: 0.0973350, F1: 0.0562343, HIT_RATE: 0.3542295, ARHR: 0.1457911, NOVELTY: 0.0048978, AVERAGE_POPULARITY: 0.0970682, DIVERSITY_MEAN_INTER_LIST: 0.9885916, DIVERSITY_HERFINDAHL: 0.9988393, COVERAGE_ITEM: 0.4340327, COVERAGE_ITEM_CORRECT: 0.0401925, COVERAGE_USER: 0.6262741, COVERAGE_USER_CORRECT: 0.1697496, DIVERSITY_GINI: 0.1512445, SHANNON_ENTROPY: 11.7218832, \n",
      "\n",
      "Iteration No: 46 ended. Search finished for the next optimal point.\n",
      "Time taken: 7.0355\n",
      "Function value obtained: -0.0661\n",
      "Current minimum: -0.0767\n",
      "Iteration No: 47 started. Searching for the next optimal point.\n",
      "ItemKNNScoresHybridMultipleRecommender: URM Detected 35 (0.44 %) cold users.\n",
      "ItemKNNScoresHybridMultipleRecommender: URM Detected 2011 (7.74 %) cold items.\n",
      "SearchBayesianSkopt: Testing config: {'alpha': 0.9982317282316352, 'beta': 0.7964901215081636}\n",
      "shape of item_weights: (1000, 25975)\n",
      "shape of item_weights: (1000, 25975)\n",
      "shape of item_weights: (1000, 25975)\n",
      "shape of item_weights: (1000, 25975)\n",
      "shape of item_weights: (977, 25975)\n",
      "EvaluatorHoldout: Processed 4977 ( 100.00% ) in 6.33 sec. Users per second: 787\n",
      "SearchBayesianSkopt: Config 46 is suboptimal. Config: {'alpha': 0.9982317282316352, 'beta': 0.7964901215081636} - results: ROC_AUC: 0.1027503, PRECISION: 0.0221017, PRECISION_RECALL_MIN_DEN: 0.0737340, RECALL: 0.0709821, MAP: 0.0337219, MRR: 0.0756403, NDCG: 0.0516753, F1: 0.0337078, HIT_RATE: 0.2210167, ARHR: 0.0868873, NOVELTY: 0.0052082, AVERAGE_POPULARITY: 0.0539645, DIVERSITY_MEAN_INTER_LIST: 0.9968854, DIVERSITY_HERFINDAHL: 0.9996685, COVERAGE_ITEM: 0.6222907, COVERAGE_ITEM_CORRECT: 0.0343792, COVERAGE_USER: 0.6262741, COVERAGE_USER_CORRECT: 0.1031836, DIVERSITY_GINI: 0.3163440, SHANNON_ENTROPY: 13.1232165, \n",
      "\n",
      "Iteration No: 47 ended. Search finished for the next optimal point.\n",
      "Time taken: 6.7606\n",
      "Function value obtained: -0.0337\n",
      "Current minimum: -0.0767\n",
      "Iteration No: 48 started. Searching for the next optimal point.\n",
      "ItemKNNScoresHybridMultipleRecommender: URM Detected 35 (0.44 %) cold users.\n",
      "ItemKNNScoresHybridMultipleRecommender: URM Detected 2011 (7.74 %) cold items.\n",
      "SearchBayesianSkopt: Testing config: {'alpha': 0.12679397721932423, 'beta': 0.8455555527212688}\n",
      "shape of item_weights: (1000, 25975)\n",
      "shape of item_weights: (1000, 25975)\n",
      "shape of item_weights: (1000, 25975)\n",
      "shape of item_weights: (1000, 25975)\n",
      "shape of item_weights: (977, 25975)\n",
      "EvaluatorHoldout: Processed 4977 ( 100.00% ) in 6.60 sec. Users per second: 754\n",
      "SearchBayesianSkopt: Config 47 is suboptimal. Config: {'alpha': 0.12679397721932423, 'beta': 0.8455555527212688} - results: ROC_AUC: 0.1945232, PRECISION: 0.0403858, PRECISION_RECALL_MIN_DEN: 0.1630451, RECALL: 0.1599401, MAP: 0.0761525, MRR: 0.1418858, NDCG: 0.1117910, F1: 0.0644880, HIT_RATE: 0.4038577, ARHR: 0.1627371, NOVELTY: 0.0049997, AVERAGE_POPULARITY: 0.0805519, DIVERSITY_MEAN_INTER_LIST: 0.9920607, DIVERSITY_HERFINDAHL: 0.9991861, COVERAGE_ITEM: 0.4971704, COVERAGE_ITEM_CORRECT: 0.0509721, COVERAGE_USER: 0.6262741, COVERAGE_USER_CORRECT: 0.1896313, DIVERSITY_GINI: 0.1967920, SHANNON_ENTROPY: 12.1913934, \n",
      "\n",
      "Iteration No: 48 ended. Search finished for the next optimal point.\n",
      "Time taken: 7.0818\n",
      "Function value obtained: -0.0762\n",
      "Current minimum: -0.0767\n",
      "Iteration No: 49 started. Searching for the next optimal point.\n",
      "ItemKNNScoresHybridMultipleRecommender: URM Detected 35 (0.44 %) cold users.\n",
      "ItemKNNScoresHybridMultipleRecommender: URM Detected 2011 (7.74 %) cold items.\n",
      "SearchBayesianSkopt: Testing config: {'alpha': 0.6649781416938207, 'beta': 0.20552434214841325}\n",
      "shape of item_weights: (1000, 25975)\n",
      "shape of item_weights: (1000, 25975)\n",
      "shape of item_weights: (1000, 25975)\n",
      "shape of item_weights: (1000, 25975)\n",
      "shape of item_weights: (977, 25975)\n",
      "EvaluatorHoldout: Processed 4977 ( 100.00% ) in 5.68 sec. Users per second: 876\n",
      "SearchBayesianSkopt: Config 48 is suboptimal. Config: {'alpha': 0.6649781416938207, 'beta': 0.20552434214841325} - results: ROC_AUC: 0.1689098, PRECISION: 0.0345389, PRECISION_RECALL_MIN_DEN: 0.1350065, RECALL: 0.1321962, MAP: 0.0634097, MRR: 0.1243688, NDCG: 0.0940271, F1: 0.0547684, HIT_RATE: 0.3453888, ARHR: 0.1411463, NOVELTY: 0.0048584, AVERAGE_POPULARITY: 0.1010487, DIVERSITY_MEAN_INTER_LIST: 0.9875917, DIVERSITY_HERFINDAHL: 0.9987393, COVERAGE_ITEM: 0.4171704, COVERAGE_ITEM_CORRECT: 0.0385371, COVERAGE_USER: 0.6262741, COVERAGE_USER_CORRECT: 0.1655971, DIVERSITY_GINI: 0.1385927, SHANNON_ENTROPY: 11.5672695, \n",
      "\n",
      "Iteration No: 49 ended. Search finished for the next optimal point.\n",
      "Time taken: 6.1183\n",
      "Function value obtained: -0.0634\n",
      "Current minimum: -0.0767\n",
      "Iteration No: 50 started. Searching for the next optimal point.\n",
      "ItemKNNScoresHybridMultipleRecommender: URM Detected 35 (0.44 %) cold users.\n",
      "ItemKNNScoresHybridMultipleRecommender: URM Detected 2011 (7.74 %) cold items.\n",
      "SearchBayesianSkopt: Testing config: {'alpha': 0.1113420399401918, 'beta': 0.8329830991263953}\n",
      "shape of item_weights: (1000, 25975)\n",
      "shape of item_weights: (1000, 25975)\n",
      "shape of item_weights: (1000, 25975)\n",
      "shape of item_weights: (1000, 25975)\n",
      "shape of item_weights: (977, 25975)\n",
      "EvaluatorHoldout: Processed 4977 ( 100.00% ) in 5.55 sec. Users per second: 897\n",
      "SearchBayesianSkopt: Config 49 is suboptimal. Config: {'alpha': 0.1113420399401918, 'beta': 0.8329830991263953} - results: ROC_AUC: 0.1938049, PRECISION: 0.0404260, PRECISION_RECALL_MIN_DEN: 0.1634690, RECALL: 0.1603418, MAP: 0.0765804, MRR: 0.1427503, NDCG: 0.1122109, F1: 0.0645718, HIT_RATE: 0.4042596, ARHR: 0.1638202, NOVELTY: 0.0049601, AVERAGE_POPULARITY: 0.0850032, DIVERSITY_MEAN_INTER_LIST: 0.9912270, DIVERSITY_HERFINDAHL: 0.9991028, COVERAGE_ITEM: 0.4778441, COVERAGE_ITEM_CORRECT: 0.0511646, COVERAGE_USER: 0.6262741, COVERAGE_USER_CORRECT: 0.1893796, DIVERSITY_GINI: 0.1803593, SHANNON_ENTROPY: 12.0358372, \n",
      "\n",
      "Iteration No: 50 ended. Search finished for the next optimal point.\n",
      "Time taken: 5.9959\n",
      "Function value obtained: -0.0766\n",
      "Current minimum: -0.0767\n",
      "SearchBayesianSkopt: Search complete. Best config is 38: {'alpha': 0.10883730184330451, 'beta': 0.8418669417518008}\n",
      "\n",
      "ItemKNNScoresHybridMultipleRecommender: URM Detected 1079 (4.15 %) cold items.\n",
      "SearchBayesianSkopt: Evaluation with constructor data for final test. Using best config: {'alpha': 0.10883730184330451, 'beta': 0.8418669417518008}\n",
      "shape of item_weights: (1000, 25975)\n",
      "shape of item_weights: (1000, 25975)\n",
      "shape of item_weights: (1000, 25975)\n",
      "shape of item_weights: (1000, 25975)\n",
      "shape of item_weights: (977, 25975)\n",
      "EvaluatorHoldout: Processed 4977 ( 100.00% ) in 7.09 sec. Users per second: 702\n",
      "SearchBayesianSkopt: Best config evaluated with evaluator_test with constructor data for final test. Config: {'alpha': 0.10883730184330451, 'beta': 0.8418669417518008} - results:\n",
      "CUTOFF: 10 - ROC_AUC: 0.0000000, PRECISION: 0.0000000, PRECISION_RECALL_MIN_DEN: 0.0000000, RECALL: 0.0000000, MAP: 0.0000000, MRR: 0.0000000, NDCG: 0.0000000, F1: 0.0000000, HIT_RATE: 0.0000000, ARHR: 0.0000000, NOVELTY: 0.0050304, AVERAGE_POPULARITY: 0.0794742, DIVERSITY_MEAN_INTER_LIST: 0.9919725, DIVERSITY_HERFINDAHL: 0.9991773, COVERAGE_ITEM: 0.4853128, COVERAGE_ITEM_CORRECT: 0.0000000, COVERAGE_USER: 0.6262741, COVERAGE_USER_CORRECT: 0.0000000, DIVERSITY_GINI: 0.1873359, SHANNON_ENTROPY: 12.1205941, \n",
      "\n",
      "\n",
      "SearchBayesianSkopt: Saving model in result_experiments/ItemKNNScoresHybridMultipleRecommender\n",
      "\n",
      "ItemKNNScoresHybridMultipleRecommender: Saving model in file 'result_experiments/ItemKNNScoresHybridMultipleRecommender_best_model_last'\n"
     ]
    },
    {
     "output_type": "error",
     "ename": "AttributeError",
     "evalue": "'ItemKNNScoresHybridMultipleRecommender' object has no attribute 'W_sparse'",
     "traceback": [
      "\u001b[0;31m---------------------------------------------------------------------------\u001b[0m",
      "\u001b[0;31mAttributeError\u001b[0m                            Traceback (most recent call last)",
      "\u001b[0;32m<ipython-input-29-a98d30f4e389>\u001b[0m in \u001b[0;36m<module>\u001b[0;34m\u001b[0m\n\u001b[0;32m----> 1\u001b[0;31m parameterSearch.search(recommender_input_args,\n\u001b[0m\u001b[1;32m      2\u001b[0m                        \u001b[0mrecommender_input_args_last_test\u001b[0m \u001b[0;34m=\u001b[0m \u001b[0mrecommender_input_args_last_test\u001b[0m\u001b[0;34m,\u001b[0m\u001b[0;34m\u001b[0m\u001b[0;34m\u001b[0m\u001b[0m\n\u001b[1;32m      3\u001b[0m                        \u001b[0mparameter_search_space\u001b[0m \u001b[0;34m=\u001b[0m \u001b[0mhyperparameters_range_dictionary\u001b[0m\u001b[0;34m,\u001b[0m\u001b[0;34m\u001b[0m\u001b[0;34m\u001b[0m\u001b[0m\n\u001b[1;32m      4\u001b[0m                        \u001b[0mn_cases\u001b[0m \u001b[0;34m=\u001b[0m \u001b[0mn_cases\u001b[0m\u001b[0;34m,\u001b[0m\u001b[0;34m\u001b[0m\u001b[0;34m\u001b[0m\u001b[0m\n\u001b[1;32m      5\u001b[0m                        \u001b[0mn_random_starts\u001b[0m \u001b[0;34m=\u001b[0m \u001b[0mn_random_starts\u001b[0m\u001b[0;34m,\u001b[0m\u001b[0;34m\u001b[0m\u001b[0;34m\u001b[0m\u001b[0m\n",
      "\u001b[0;32m~/Desktop/Recatommender-Systems-Challenge/ParameterTuning/SearchBayesianSkopt.py\u001b[0m in \u001b[0;36msearch\u001b[0;34m(self, recommender_input_args, parameter_search_space, metric_to_optimize, n_cases, n_random_starts, output_folder_path, output_file_name_root, save_model, save_metadata, resume_from_saved, recommender_input_args_last_test, evaluate_on_test_each_best_solution)\u001b[0m\n\u001b[1;32m    270\u001b[0m \u001b[0;34m\u001b[0m\u001b[0m\n\u001b[1;32m    271\u001b[0m         \u001b[0;32mif\u001b[0m \u001b[0mself\u001b[0m\u001b[0;34m.\u001b[0m\u001b[0mrecommender_input_args_last_test\u001b[0m \u001b[0;32mis\u001b[0m \u001b[0;32mnot\u001b[0m \u001b[0;32mNone\u001b[0m\u001b[0;34m:\u001b[0m\u001b[0;34m\u001b[0m\u001b[0;34m\u001b[0m\u001b[0m\n\u001b[0;32m--> 272\u001b[0;31m             \u001b[0mself\u001b[0m\u001b[0;34m.\u001b[0m\u001b[0m_evaluate_on_test_with_data_last\u001b[0m\u001b[0;34m(\u001b[0m\u001b[0;34m)\u001b[0m\u001b[0;34m\u001b[0m\u001b[0;34m\u001b[0m\u001b[0m\n\u001b[0m\u001b[1;32m    273\u001b[0m \u001b[0;34m\u001b[0m\u001b[0m\n\u001b[1;32m    274\u001b[0m \u001b[0;34m\u001b[0m\u001b[0m\n",
      "\u001b[0;32m~/Desktop/Recatommender-Systems-Challenge/ParameterTuning/SearchAbstractClass.py\u001b[0m in \u001b[0;36m_evaluate_on_test_with_data_last\u001b[0;34m(self)\u001b[0m\n\u001b[1;32m    348\u001b[0m         \u001b[0;32mif\u001b[0m \u001b[0mself\u001b[0m\u001b[0;34m.\u001b[0m\u001b[0msave_model\u001b[0m \u001b[0;32min\u001b[0m \u001b[0;34m[\u001b[0m\u001b[0;34m\"all\"\u001b[0m\u001b[0;34m,\u001b[0m \u001b[0;34m\"best\"\u001b[0m\u001b[0;34m,\u001b[0m \u001b[0;34m\"last\"\u001b[0m\u001b[0;34m]\u001b[0m\u001b[0;34m:\u001b[0m\u001b[0;34m\u001b[0m\u001b[0;34m\u001b[0m\u001b[0m\n\u001b[1;32m    349\u001b[0m             \u001b[0mself\u001b[0m\u001b[0;34m.\u001b[0m\u001b[0m_print\u001b[0m\u001b[0;34m(\u001b[0m\u001b[0;34m\"{}: Saving model in {}\\n\"\u001b[0m\u001b[0;34m.\u001b[0m\u001b[0mformat\u001b[0m\u001b[0;34m(\u001b[0m\u001b[0mself\u001b[0m\u001b[0;34m.\u001b[0m\u001b[0mALGORITHM_NAME\u001b[0m\u001b[0;34m,\u001b[0m \u001b[0mself\u001b[0m\u001b[0;34m.\u001b[0m\u001b[0moutput_folder_path\u001b[0m \u001b[0;34m+\u001b[0m \u001b[0mself\u001b[0m\u001b[0;34m.\u001b[0m\u001b[0moutput_file_name_root\u001b[0m\u001b[0;34m)\u001b[0m\u001b[0;34m)\u001b[0m\u001b[0;34m\u001b[0m\u001b[0;34m\u001b[0m\u001b[0m\n\u001b[0;32m--> 350\u001b[0;31m             \u001b[0mrecommender_instance\u001b[0m\u001b[0;34m.\u001b[0m\u001b[0msave_model\u001b[0m\u001b[0;34m(\u001b[0m\u001b[0mself\u001b[0m\u001b[0;34m.\u001b[0m\u001b[0moutput_folder_path\u001b[0m\u001b[0;34m,\u001b[0m \u001b[0mfile_name\u001b[0m \u001b[0;34m=\u001b[0m\u001b[0mself\u001b[0m\u001b[0;34m.\u001b[0m\u001b[0moutput_file_name_root\u001b[0m \u001b[0;34m+\u001b[0m \u001b[0;34m\"_best_model_last\"\u001b[0m\u001b[0;34m)\u001b[0m\u001b[0;34m\u001b[0m\u001b[0;34m\u001b[0m\u001b[0m\n\u001b[0m\u001b[1;32m    351\u001b[0m \u001b[0;34m\u001b[0m\u001b[0m\n\u001b[1;32m    352\u001b[0m \u001b[0;34m\u001b[0m\u001b[0m\n",
      "\u001b[0;32m~/Desktop/Recatommender-Systems-Challenge/Base/BaseSimilarityMatrixRecommender.py\u001b[0m in \u001b[0;36msave_model\u001b[0;34m(self, folder_path, file_name)\u001b[0m\n\u001b[1;32m     53\u001b[0m         \u001b[0mself\u001b[0m\u001b[0;34m.\u001b[0m\u001b[0m_print\u001b[0m\u001b[0;34m(\u001b[0m\u001b[0;34m\"Saving model in file '{}'\"\u001b[0m\u001b[0;34m.\u001b[0m\u001b[0mformat\u001b[0m\u001b[0;34m(\u001b[0m\u001b[0mfolder_path\u001b[0m \u001b[0;34m+\u001b[0m \u001b[0mfile_name\u001b[0m\u001b[0;34m)\u001b[0m\u001b[0;34m)\u001b[0m\u001b[0;34m\u001b[0m\u001b[0;34m\u001b[0m\u001b[0m\n\u001b[1;32m     54\u001b[0m \u001b[0;34m\u001b[0m\u001b[0m\n\u001b[0;32m---> 55\u001b[0;31m         \u001b[0mdata_dict_to_save\u001b[0m \u001b[0;34m=\u001b[0m \u001b[0;34m{\u001b[0m\u001b[0;34m\"W_sparse\"\u001b[0m\u001b[0;34m:\u001b[0m \u001b[0mself\u001b[0m\u001b[0;34m.\u001b[0m\u001b[0mW_sparse\u001b[0m\u001b[0;34m}\u001b[0m\u001b[0;34m\u001b[0m\u001b[0;34m\u001b[0m\u001b[0m\n\u001b[0m\u001b[1;32m     56\u001b[0m \u001b[0;34m\u001b[0m\u001b[0m\n\u001b[1;32m     57\u001b[0m         \u001b[0mdataIO\u001b[0m \u001b[0;34m=\u001b[0m \u001b[0mDataIO\u001b[0m\u001b[0;34m(\u001b[0m\u001b[0mfolder_path\u001b[0m\u001b[0;34m=\u001b[0m\u001b[0mfolder_path\u001b[0m\u001b[0;34m)\u001b[0m\u001b[0;34m\u001b[0m\u001b[0;34m\u001b[0m\u001b[0m\n",
      "\u001b[0;31mAttributeError\u001b[0m: 'ItemKNNScoresHybridMultipleRecommender' object has no attribute 'W_sparse'"
     ]
    }
   ],
   "source": [
    "parameterSearch.search(recommender_input_args,\n",
    "                       recommender_input_args_last_test = recommender_input_args_last_test,\n",
    "                       parameter_search_space = hyperparameters_range_dictionary,\n",
    "                       n_cases = n_cases,\n",
    "                       n_random_starts = n_random_starts,\n",
    "                       save_model = \"last\",\n",
    "                       output_folder_path = output_folder_path,\n",
    "                       output_file_name_root = recommender_class.RECOMMENDER_NAME,\n",
    "                       metric_to_optimize = metric_to_optimize,\n",
    "                      )"
   ]
  },
  {
   "cell_type": "code",
   "execution_count": null,
   "metadata": {},
   "outputs": [],
   "source": [
    "from Base.DataIO import DataIO\n",
    "\n",
    "data_loader = DataIO(folder_path = output_folder_path)\n",
    "search_metadata = data_loader.load_data(recommender_class.RECOMMENDER_NAME + \"_metadata.zip\")\n",
    "\n",
    "search_metadata"
   ]
  },
  {
   "cell_type": "code",
   "execution_count": null,
   "metadata": {},
   "outputs": [],
   "source": [
    "hyperparameters_list = search_metadata[\"hyperparameters_list\"]\n",
    "hyperparameters_list"
   ]
  },
  {
   "cell_type": "code",
   "execution_count": null,
   "metadata": {},
   "outputs": [],
   "source": [
    "result_best_on_test = search_metadata[\"result_on_last\"]\n",
    "result_best_on_test[\"10\"]"
   ]
  },
  {
   "cell_type": "code",
   "execution_count": null,
   "metadata": {},
   "outputs": [],
   "source": []
  },
  {
   "cell_type": "code",
   "execution_count": 31,
   "metadata": {},
   "outputs": [
    {
     "output_type": "execute_result",
     "data": {
      "text/plain": [
       "      user_id\n",
       "0           0\n",
       "1           1\n",
       "2           2\n",
       "3           3\n",
       "4           4\n",
       "...       ...\n",
       "7939     7942\n",
       "7940     7943\n",
       "7941     7944\n",
       "7942     7945\n",
       "7943     7946\n",
       "\n",
       "[7944 rows x 1 columns]"
      ],
      "text/html": "<div>\n<style scoped>\n    .dataframe tbody tr th:only-of-type {\n        vertical-align: middle;\n    }\n\n    .dataframe tbody tr th {\n        vertical-align: top;\n    }\n\n    .dataframe thead th {\n        text-align: right;\n    }\n</style>\n<table border=\"1\" class=\"dataframe\">\n  <thead>\n    <tr style=\"text-align: right;\">\n      <th></th>\n      <th>user_id</th>\n    </tr>\n  </thead>\n  <tbody>\n    <tr>\n      <th>0</th>\n      <td>0</td>\n    </tr>\n    <tr>\n      <th>1</th>\n      <td>1</td>\n    </tr>\n    <tr>\n      <th>2</th>\n      <td>2</td>\n    </tr>\n    <tr>\n      <th>3</th>\n      <td>3</td>\n    </tr>\n    <tr>\n      <th>4</th>\n      <td>4</td>\n    </tr>\n    <tr>\n      <th>...</th>\n      <td>...</td>\n    </tr>\n    <tr>\n      <th>7939</th>\n      <td>7942</td>\n    </tr>\n    <tr>\n      <th>7940</th>\n      <td>7943</td>\n    </tr>\n    <tr>\n      <th>7941</th>\n      <td>7944</td>\n    </tr>\n    <tr>\n      <th>7942</th>\n      <td>7945</td>\n    </tr>\n    <tr>\n      <th>7943</th>\n      <td>7946</td>\n    </tr>\n  </tbody>\n</table>\n<p>7944 rows × 1 columns</p>\n</div>"
     },
     "metadata": {},
     "execution_count": 31
    }
   ],
   "source": [
    "test_users = pd.read_csv('data_target_users_test.csv')\n",
    "test_users"
   ]
  },
  {
   "cell_type": "code",
   "execution_count": 32,
   "metadata": {},
   "outputs": [
    {
     "output_type": "stream",
     "name": "stdout",
     "text": [
      "P3alphaRecommender: URM Detected 1079 (4.15 %) cold items.\n",
      "RP3betaRecommender: URM Detected 2 (0.01 %) cold users.\n",
      "RP3betaRecommender: URM Detected 25 (0.10 %) cold items.\n",
      "UserKNNCFRecommender: URM Detected 1079 (4.15 %) cold items.\n",
      "Similarity column 7947 ( 100 % ), 16461.60 column/sec, elapsed time 0.01 min\n",
      "ItemKNNScoresHybridMultipleRecommender: URM Detected 1079 (4.15 %) cold items.\n",
      "shape of item_weights: (7944, 25975)\n"
     ]
    }
   ],
   "source": [
    "# {'alpha': 0.5618697145575392, 'topK': 278}\n",
    "# topK=170, alpha = 0.45, \n",
    "recommender_alpha = P3alphaRecommender(URM_all)\n",
    "recommender_alpha.fit(topK=278, alpha = 0.5618697145575392, implicit = True)\n",
    "\n",
    "recommender_beta_ICM = RP3betaRecommender(ICM_all.T)\n",
    "recommender_beta_ICM.fit(topK=70, alpha=0.35, beta=0.4, implicit=False)\n",
    "recommender_beta_ICM.URM_train = URM_train\n",
    "\n",
    "recommender_userKNN = UserKNNCFRecommender(URM_all)\n",
    "recommender_userKNN.fit(topK= 146, shrink = 1)\n",
    "\n",
    "hybridrecommender_CBF = ItemKNNScoresHybridMultipleRecommender(URM_all, recommender_alpha, recommender_beta_ICM, recommender_userKNN)\n",
    "hybridrecommender_CBF.fit(alpha = 0.10883730184330451, beta = 0.8418669417518008)\n",
    "\n",
    "user_id = test_users['user_id']\n",
    "recommendations = hybridrecommender_CBF.recommend(user_id,cutoff = 10)"
   ]
  },
  {
   "cell_type": "code",
   "execution_count": 33,
   "metadata": {},
   "outputs": [
    {
     "output_type": "stream",
     "name": "stdout",
     "text": [
      "7944\n"
     ]
    }
   ],
   "source": [
    "for index in range(len(recommendations)):\n",
    "    #print(element)\n",
    "    recommendations[index]=np.array(recommendations[index])\n",
    "    #print(type(element))\n",
    "print(len(recommendations))"
   ]
  },
  {
   "cell_type": "code",
   "execution_count": 34,
   "metadata": {},
   "outputs": [],
   "source": [
    "test_users['item_list']= recommendations\n",
    "#test_users['item_list'] =  test_users['item_list'].apply(lambda x: x.replace('[','').replace(']','')) \n",
    "test_users['item_list'] = pd.DataFrame([str(line).strip('[').strip(']').replace(\"'\",\"\") for line in test_users['item_list']])\n",
    "\n",
    "#convert the string columns to int\n",
    "#test_users['item_list'] = test_users['item_list'].astype(int)\n",
    "test_users\n",
    "test_users.to_csv('submission.csv', index=False)\n"
   ]
  },
  {
   "cell_type": "code",
   "execution_count": null,
   "metadata": {},
   "outputs": [],
   "source": []
  }
 ],
 "metadata": {
  "kernelspec": {
   "display_name": "Python 3",
   "language": "python",
   "name": "python3"
  },
  "language_info": {
   "codemirror_mode": {
    "name": "ipython",
    "version": 3
   },
   "file_extension": ".py",
   "mimetype": "text/x-python",
   "name": "python",
   "nbconvert_exporter": "python",
   "pygments_lexer": "ipython3",
   "version": "3.8.5-final"
  }
 },
 "nbformat": 4,
 "nbformat_minor": 4
}