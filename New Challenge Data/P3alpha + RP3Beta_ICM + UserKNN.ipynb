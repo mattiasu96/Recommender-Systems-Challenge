{
 "cells": [
  {
   "cell_type": "markdown",
   "metadata": {},
   "source": [
    "# Data loading \n",
    "Next cells are used to load the data we need."
   ]
  },
  {
   "cell_type": "code",
   "execution_count": 5,
   "metadata": {},
   "outputs": [],
   "source": [
    "import pandas as pd\n",
    "import numpy as np \n",
    "import scipy.sparse as sps\n",
    "import os\n",
    "import sys\n",
    "import matplotlib.pyplot as plt\n",
    "sys.path.append('..')\n"
   ]
  },
  {
   "cell_type": "code",
   "execution_count": 6,
   "metadata": {},
   "outputs": [
    {
     "output_type": "execute_result",
     "data": {
      "text/plain": [
       "         row    col  data\n",
       "0          0  10080   1.0\n",
       "1          0  19467   1.0\n",
       "2          1   2665   1.0\n",
       "3          1   7494   1.0\n",
       "4          1  17068   1.0\n",
       "...      ...    ...   ...\n",
       "113263  7945   2476   1.0\n",
       "113264  7945  12319   1.0\n",
       "113265  7945  21384   1.0\n",
       "113266  7946   8699   1.0\n",
       "113267  7946  19178   1.0\n",
       "\n",
       "[113268 rows x 3 columns]"
      ],
      "text/html": "<div>\n<style scoped>\n    .dataframe tbody tr th:only-of-type {\n        vertical-align: middle;\n    }\n\n    .dataframe tbody tr th {\n        vertical-align: top;\n    }\n\n    .dataframe thead th {\n        text-align: right;\n    }\n</style>\n<table border=\"1\" class=\"dataframe\">\n  <thead>\n    <tr style=\"text-align: right;\">\n      <th></th>\n      <th>row</th>\n      <th>col</th>\n      <th>data</th>\n    </tr>\n  </thead>\n  <tbody>\n    <tr>\n      <th>0</th>\n      <td>0</td>\n      <td>10080</td>\n      <td>1.0</td>\n    </tr>\n    <tr>\n      <th>1</th>\n      <td>0</td>\n      <td>19467</td>\n      <td>1.0</td>\n    </tr>\n    <tr>\n      <th>2</th>\n      <td>1</td>\n      <td>2665</td>\n      <td>1.0</td>\n    </tr>\n    <tr>\n      <th>3</th>\n      <td>1</td>\n      <td>7494</td>\n      <td>1.0</td>\n    </tr>\n    <tr>\n      <th>4</th>\n      <td>1</td>\n      <td>17068</td>\n      <td>1.0</td>\n    </tr>\n    <tr>\n      <th>...</th>\n      <td>...</td>\n      <td>...</td>\n      <td>...</td>\n    </tr>\n    <tr>\n      <th>113263</th>\n      <td>7945</td>\n      <td>2476</td>\n      <td>1.0</td>\n    </tr>\n    <tr>\n      <th>113264</th>\n      <td>7945</td>\n      <td>12319</td>\n      <td>1.0</td>\n    </tr>\n    <tr>\n      <th>113265</th>\n      <td>7945</td>\n      <td>21384</td>\n      <td>1.0</td>\n    </tr>\n    <tr>\n      <th>113266</th>\n      <td>7946</td>\n      <td>8699</td>\n      <td>1.0</td>\n    </tr>\n    <tr>\n      <th>113267</th>\n      <td>7946</td>\n      <td>19178</td>\n      <td>1.0</td>\n    </tr>\n  </tbody>\n</table>\n<p>113268 rows × 3 columns</p>\n</div>"
     },
     "metadata": {},
     "execution_count": 6
    }
   ],
   "source": [
    "#data which contains users (row), items(col) and implicit interaction (data)\n",
    "dataset = pd.read_csv('data_train.csv')\n",
    "dataset"
   ]
  },
  {
   "cell_type": "code",
   "execution_count": 7,
   "metadata": {},
   "outputs": [
    {
     "output_type": "execute_result",
     "data": {
      "text/plain": [
       "(7947, 25975)"
      ]
     },
     "metadata": {},
     "execution_count": 7
    }
   ],
   "source": [
    "users = dataset.row\n",
    "items = dataset.col\n",
    "data = dataset.data\n",
    "URM_all = sps.coo_matrix((data, (users, items)))\n",
    "URM_all = URM_all.tocsr() #fast row access -> fast access to users \n",
    "URM_all.shape"
   ]
  },
  {
   "cell_type": "code",
   "execution_count": 8,
   "metadata": {},
   "outputs": [],
   "source": [
    "items_per_user = np.ediff1d(URM_all.indptr) #tells in which position each of the rows begin\n",
    "users_per_item = np.ediff1d(sps.csc_matrix(URM_all).indptr)\n",
    "URM_all = sps.csr_matrix(URM_all)"
   ]
  },
  {
   "cell_type": "code",
   "execution_count": 9,
   "metadata": {},
   "outputs": [],
   "source": [
    "items_per_user = np.sort(items_per_user) #sorting based on the single value. Losing reference to the user. \n",
    "users_per_item = np.sort(users_per_item)"
   ]
  },
  {
   "cell_type": "code",
   "execution_count": 10,
   "metadata": {},
   "outputs": [
    {
     "output_type": "execute_result",
     "data": {
      "text/plain": [
       "          row    col      data\n",
       "0           0   1185  1.015524\n",
       "1           0   2507  0.459024\n",
       "2           0   3534  0.227742\n",
       "3           0   8766  0.501549\n",
       "4           0  10862  0.297011\n",
       "...       ...    ...       ...\n",
       "490686  25974  12554  0.963016\n",
       "490687  25974  13003  0.104613\n",
       "490688  25974  16236  0.118760\n",
       "490689  25974  18797  0.363301\n",
       "490690  25974  19629  0.129141\n",
       "\n",
       "[490691 rows x 3 columns]"
      ],
      "text/html": "<div>\n<style scoped>\n    .dataframe tbody tr th:only-of-type {\n        vertical-align: middle;\n    }\n\n    .dataframe tbody tr th {\n        vertical-align: top;\n    }\n\n    .dataframe thead th {\n        text-align: right;\n    }\n</style>\n<table border=\"1\" class=\"dataframe\">\n  <thead>\n    <tr style=\"text-align: right;\">\n      <th></th>\n      <th>row</th>\n      <th>col</th>\n      <th>data</th>\n    </tr>\n  </thead>\n  <tbody>\n    <tr>\n      <th>0</th>\n      <td>0</td>\n      <td>1185</td>\n      <td>1.015524</td>\n    </tr>\n    <tr>\n      <th>1</th>\n      <td>0</td>\n      <td>2507</td>\n      <td>0.459024</td>\n    </tr>\n    <tr>\n      <th>2</th>\n      <td>0</td>\n      <td>3534</td>\n      <td>0.227742</td>\n    </tr>\n    <tr>\n      <th>3</th>\n      <td>0</td>\n      <td>8766</td>\n      <td>0.501549</td>\n    </tr>\n    <tr>\n      <th>4</th>\n      <td>0</td>\n      <td>10862</td>\n      <td>0.297011</td>\n    </tr>\n    <tr>\n      <th>...</th>\n      <td>...</td>\n      <td>...</td>\n      <td>...</td>\n    </tr>\n    <tr>\n      <th>490686</th>\n      <td>25974</td>\n      <td>12554</td>\n      <td>0.963016</td>\n    </tr>\n    <tr>\n      <th>490687</th>\n      <td>25974</td>\n      <td>13003</td>\n      <td>0.104613</td>\n    </tr>\n    <tr>\n      <th>490688</th>\n      <td>25974</td>\n      <td>16236</td>\n      <td>0.118760</td>\n    </tr>\n    <tr>\n      <th>490689</th>\n      <td>25974</td>\n      <td>18797</td>\n      <td>0.363301</td>\n    </tr>\n    <tr>\n      <th>490690</th>\n      <td>25974</td>\n      <td>19629</td>\n      <td>0.129141</td>\n    </tr>\n  </tbody>\n</table>\n<p>490691 rows × 3 columns</p>\n</div>"
     },
     "metadata": {},
     "execution_count": 10
    }
   ],
   "source": [
    "ICM_df = pd.read_csv('data_ICM_title_abstract.csv')\n",
    "ICM_df"
   ]
  },
  {
   "cell_type": "code",
   "execution_count": 11,
   "metadata": {},
   "outputs": [
    {
     "output_type": "execute_result",
     "data": {
      "text/plain": [
       "(25975, 20000)"
      ]
     },
     "metadata": {},
     "execution_count": 11
    }
   ],
   "source": [
    "items = ICM_df.row\n",
    "features = ICM_df.col\n",
    "data = ICM_df.data\n",
    "ICM_all = sps.coo_matrix((data, (items, features)))\n",
    "ICM_all = ICM_all.tocsr() #fast row access -> fast access to users \n",
    "ICM_all.shape"
   ]
  },
  {
   "cell_type": "code",
   "execution_count": 12,
   "metadata": {},
   "outputs": [],
   "source": [
    "ICM_all = sps.csr_matrix(ICM_all)\n",
    "features_per_item = np.ediff1d(ICM_all.indptr)\n",
    "\n",
    "ICM_all = sps.csc_matrix(ICM_all)\n",
    "items_per_feature = np.ediff1d(ICM_all.indptr)\n",
    "\n",
    "ICM_all = sps.csr_matrix(ICM_all)"
   ]
  },
  {
   "cell_type": "code",
   "execution_count": 13,
   "metadata": {},
   "outputs": [],
   "source": [
    "features_per_item = np.sort(features_per_item)\n",
    "items_per_feature = np.sort(items_per_feature)"
   ]
  },
  {
   "cell_type": "code",
   "execution_count": 14,
   "metadata": {},
   "outputs": [
    {
     "output_type": "stream",
     "name": "stdout",
     "text": [
      "Warning: 48 (0.60 %) of 7947 users have no train items\nWarning: 2938 (36.97 %) of 7947 users have no sampled items\n"
     ]
    }
   ],
   "source": [
    "from Base.Evaluation.Evaluator import EvaluatorHoldout\n",
    "from Data_manager.split_functions.split_train_validation_random_holdout import split_train_in_two_percentage_global_sample\n",
    "\n",
    "URM_train, URM_validation = split_train_in_two_percentage_global_sample(URM_all, train_percentage = 0.85)\n",
    "evaluator_validation = EvaluatorHoldout(URM_validation, cutoff_list=[10])\n"
   ]
  },
  {
   "cell_type": "code",
   "execution_count": 15,
   "metadata": {},
   "outputs": [
    {
     "output_type": "stream",
     "name": "stdout",
     "text": [
      "P3alphaRecommender: URM Detected 48 (0.60 %) cold users.\n",
      "P3alphaRecommender: URM Detected 1997 (7.69 %) cold items.\n",
      "RP3betaRecommender: URM Detected 2 (0.01 %) cold users.\n",
      "RP3betaRecommender: URM Detected 25 (0.10 %) cold items.\n",
      "UserKNNCFRecommender: URM Detected 48 (0.60 %) cold users.\n",
      "UserKNNCFRecommender: URM Detected 1997 (7.69 %) cold items.\n",
      "Similarity column 7947 ( 100 % ), 17296.28 column/sec, elapsed time 0.01 min\n",
      "ItemKNNScoresHybridMultipleRecommender: URM Detected 48 (0.60 %) cold users.\n",
      "ItemKNNScoresHybridMultipleRecommender: URM Detected 1997 (7.69 %) cold items.\n"
     ]
    }
   ],
   "source": [
    "from GraphBased.P3alphaRecommender import P3alphaRecommender\n",
    "from GraphBased.RP3betaRecommender import RP3betaRecommender\n",
    "from KNN.UserKNNCFRecommender import UserKNNCFRecommender\n",
    "from KNN.ItemKNNScoresHybridMultipleRecommender import ItemKNNScoresHybridMultipleRecommender\n",
    "\n",
    "recommender_alpha = P3alphaRecommender(URM_train)\n",
    "recommender_alpha.fit(topK=170, alpha = 0.45, implicit = True)\n",
    "\n",
    "recommender_beta_ICM = RP3betaRecommender(ICM_all.T)\n",
    "recommender_beta_ICM.fit(topK=70, alpha=0.35, beta=0.4, implicit=False)\n",
    "recommender_beta_ICM.URM_train = URM_train\n",
    "\n",
    "recommender_userKNN = UserKNNCFRecommender(URM_train)\n",
    "recommender_userKNN.fit(topK= 75, shrink = 150)\n",
    "\n",
    "hybridrecommender_CBF = ItemKNNScoresHybridMultipleRecommender(URM_train, recommender_alpha, recommender_beta_ICM, recommender_userKNN)\n",
    "hybridrecommender_CBF.fit(alpha = 0.5, beta = 0.3)"
   ]
  },
  {
   "cell_type": "code",
   "execution_count": 16,
   "metadata": {},
   "outputs": [
    {
     "output_type": "stream",
     "name": "stdout",
     "text": [
      "shape of item_weights: (1000, 25975)\n",
      "shape of item_weights: (1000, 25975)\n",
      "shape of item_weights: (1000, 25975)\n",
      "shape of item_weights: (1000, 25975)\n",
      "shape of item_weights: (1000, 25975)\n",
      "shape of item_weights: (9, 25975)\n",
      "EvaluatorHoldout: Processed 5009 ( 100.00% ) in 5.63 sec. Users per second: 890\n"
     ]
    },
    {
     "output_type": "execute_result",
     "data": {
      "text/plain": [
       "({10: {'ROC_AUC': 0.1701410635459353,\n",
       "   'PRECISION': 0.0340187662208019,\n",
       "   'PRECISION_RECALL_MIN_DEN': 0.1369421549148043,\n",
       "   'RECALL': 0.13405056485011105,\n",
       "   'MAP': 0.064855035438604,\n",
       "   'MRR': 0.1239935576280157,\n",
       "   'NDCG': 0.09496994466511735,\n",
       "   'F1': 0.05426611504127767,\n",
       "   'HIT_RATE': 0.34018766220802554,\n",
       "   'ARHR': 0.1401854439786164,\n",
       "   'NOVELTY': 0.004832368858439151,\n",
       "   'AVERAGE_POPULARITY': 0.10738840300225556,\n",
       "   'DIVERSITY_MEAN_INTER_LIST': 0.9852578697003541,\n",
       "   'DIVERSITY_HERFINDAHL': 0.9985061172181947,\n",
       "   'COVERAGE_ITEM': 0.4142444658325313,\n",
       "   'COVERAGE_ITEM_CORRECT': 0.03853705486044273,\n",
       "   'COVERAGE_USER': 0.6303007424185227,\n",
       "   'COVERAGE_USER_CORRECT': 0.1658487479552032,\n",
       "   'DIVERSITY_GINI': 0.13587488624571858,\n",
       "   'SHANNON_ENTROPY': 11.466551514490657}},\n",
       " 'CUTOFF: 10 - ROC_AUC: 0.1701411, PRECISION: 0.0340188, PRECISION_RECALL_MIN_DEN: 0.1369422, RECALL: 0.1340506, MAP: 0.0648550, MRR: 0.1239936, NDCG: 0.0949699, F1: 0.0542661, HIT_RATE: 0.3401877, ARHR: 0.1401854, NOVELTY: 0.0048324, AVERAGE_POPULARITY: 0.1073884, DIVERSITY_MEAN_INTER_LIST: 0.9852579, DIVERSITY_HERFINDAHL: 0.9985061, COVERAGE_ITEM: 0.4142445, COVERAGE_ITEM_CORRECT: 0.0385371, COVERAGE_USER: 0.6303007, COVERAGE_USER_CORRECT: 0.1658487, DIVERSITY_GINI: 0.1358749, SHANNON_ENTROPY: 11.4665515, \\n')"
      ]
     },
     "metadata": {},
     "execution_count": 16
    }
   ],
   "source": [
    "evaluator_validation.evaluateRecommender(hybridrecommender_CBF)"
   ]
  },
  {
   "cell_type": "code",
   "execution_count": 17,
   "metadata": {},
   "outputs": [],
   "source": [
    "from skopt.space import Real, Integer, Categorical\n",
    "\n",
    "hyperparameters_range_dictionary = {}\n",
    "hyperparameters_range_dictionary[\"alpha\"] = Real(low = 0, high = 1, prior = 'uniform')\n",
    "hyperparameters_range_dictionary[\"beta\"] = Real(low = 0, high = 1, prior = 'uniform')"
   ]
  },
  {
   "cell_type": "code",
   "execution_count": 18,
   "metadata": {},
   "outputs": [],
   "source": [
    "from KNN.ItemKNNScoresHybridMultipleRecommender import ItemKNNScoresHybridMultipleRecommender\n",
    "from ParameterTuning.SearchBayesianSkopt import SearchBayesianSkopt\n",
    "\n",
    "recommender_class = ItemKNNScoresHybridMultipleRecommender\n",
    "\n",
    "parameterSearch = SearchBayesianSkopt(recommender_class,\n",
    "                                 evaluator_validation=evaluator_validation)"
   ]
  },
  {
   "cell_type": "code",
   "execution_count": 30,
   "metadata": {},
   "outputs": [],
   "source": [
    "from ParameterTuning.SearchAbstractClass import SearchInputRecommenderArgs\n",
    "  \n",
    "recommender_input_args = SearchInputRecommenderArgs(\n",
    "    CONSTRUCTOR_POSITIONAL_ARGS = [URM_train, recommender_alpha, recommender_beta_ICM, recommender_userKNN],\n",
    "    CONSTRUCTOR_KEYWORD_ARGS = {},\n",
    "    FIT_POSITIONAL_ARGS = [],\n",
    "    FIT_KEYWORD_ARGS = {}\n",
    ")"
   ]
  },
  {
   "cell_type": "code",
   "execution_count": 31,
   "metadata": {},
   "outputs": [],
   "source": [
    "recommender_input_args_last_test = SearchInputRecommenderArgs(\n",
    "    CONSTRUCTOR_POSITIONAL_ARGS = [URM_all, recommender_alpha, recommender_beta_ICM, recommender_userKNN],\n",
    "    CONSTRUCTOR_KEYWORD_ARGS = {},\n",
    "    FIT_POSITIONAL_ARGS = [],\n",
    "    FIT_KEYWORD_ARGS = {}\n",
    ")"
   ]
  },
  {
   "cell_type": "code",
   "execution_count": 32,
   "metadata": {},
   "outputs": [],
   "source": [
    "import os\n",
    "\n",
    "output_folder_path = \"result_experiments/\"\n",
    "\n",
    "# If directory does not exist, create\n",
    "if not os.path.exists(output_folder_path):\n",
    "    os.makedirs(output_folder_path)\n",
    "    \n",
    "n_cases = 30\n",
    "n_random_starts = int(n_cases*0.3)\n",
    "metric_to_optimize = \"MAP\"  "
   ]
  },
  {
   "cell_type": "code",
   "execution_count": 33,
   "metadata": {},
   "outputs": [
    {
     "output_type": "stream",
     "name": "stdout",
     "text": [
      "Iteration No: 1 started. Evaluating function at random point.\n",
      "ItemKNNScoresHybridMultipleRecommender: URM Detected 48 (0.60 %) cold users.\n",
      "ItemKNNScoresHybridMultipleRecommender: URM Detected 1997 (7.69 %) cold items.\n",
      "SearchBayesianSkopt: Testing config: {'alpha': 0.7057936347027952, 'beta': 0.1528654698240505}\n",
      "shape of item_weights: (1000, 25975)\n",
      "shape of item_weights: (1000, 25975)\n",
      "shape of item_weights: (1000, 25975)\n",
      "shape of item_weights: (1000, 25975)\n",
      "shape of item_weights: (1000, 25975)\n",
      "shape of item_weights: (9, 25975)\n",
      "EvaluatorHoldout: Processed 5009 ( 100.00% ) in 6.00 sec. Users per second: 834\n",
      "SearchBayesianSkopt: New best config found. Config 0: {'alpha': 0.7057936347027952, 'beta': 0.1528654698240505} - results: ROC_AUC: 0.8110628, PRECISION: 0.2188660, PRECISION_RECALL_MIN_DEN: 0.8778026, RECALL: 0.8647028, MAP: 0.7161338, MRR: 0.7663978, NDCG: 0.7640068, F1: 0.3493162, HIT_RATE: 2.1886604, ARHR: 1.1265273, NOVELTY: 0.0047857, AVERAGE_POPULARITY: 0.1068952, DIVERSITY_MEAN_INTER_LIST: 0.9850746, DIVERSITY_HERFINDAHL: 0.9984878, COVERAGE_ITEM: 0.4605967, COVERAGE_ITEM_CORRECT: 0.2880077, COVERAGE_USER: 0.6303007, COVERAGE_USER_CORRECT: 0.5944382, DIVERSITY_GINI: 0.1590661, SHANNON_ENTROPY: 11.6275437, \n",
      "\n",
      "Iteration No: 1 ended. Evaluation done at random point.\n",
      "Time taken: 6.0527\n",
      "Function value obtained: -0.7161\n",
      "Current minimum: -0.7161\n",
      "Iteration No: 2 started. Evaluating function at random point.\n",
      "ItemKNNScoresHybridMultipleRecommender: URM Detected 48 (0.60 %) cold users.\n",
      "ItemKNNScoresHybridMultipleRecommender: URM Detected 1997 (7.69 %) cold items.\n",
      "SearchBayesianSkopt: Testing config: {'alpha': 0.37033053074342365, 'beta': 0.40402128869403964}\n",
      "shape of item_weights: (1000, 25975)\n",
      "shape of item_weights: (1000, 25975)\n",
      "shape of item_weights: (1000, 25975)\n",
      "shape of item_weights: (1000, 25975)\n",
      "shape of item_weights: (1000, 25975)\n",
      "shape of item_weights: (9, 25975)\n",
      "EvaluatorHoldout: Processed 5009 ( 100.00% ) in 5.66 sec. Users per second: 885\n",
      "SearchBayesianSkopt: New best config found. Config 1: {'alpha': 0.37033053074342365, 'beta': 0.40402128869403964} - results: ROC_AUC: 0.8155965, PRECISION: 0.2179277, PRECISION_RECALL_MIN_DEN: 0.8791528, RECALL: 0.8664708, MAP: 0.7179012, MRR: 0.7710446, NDCG: 0.7666106, F1: 0.3482631, HIT_RATE: 2.1792773, ARHR: 1.1282259, NOVELTY: 0.0047892, AVERAGE_POPULARITY: 0.1062477, DIVERSITY_MEAN_INTER_LIST: 0.9853106, DIVERSITY_HERFINDAHL: 0.9985114, COVERAGE_ITEM: 0.4605197, COVERAGE_ITEM_CORRECT: 0.2860058, COVERAGE_USER: 0.6303007, COVERAGE_USER_CORRECT: 0.5965773, DIVERSITY_GINI: 0.1592240, SHANNON_ENTROPY: 11.6385392, \n",
      "\n",
      "Iteration No: 2 ended. Evaluation done at random point.\n",
      "Time taken: 5.6964\n",
      "Function value obtained: -0.7179\n",
      "Current minimum: -0.7179\n",
      "Iteration No: 3 started. Evaluating function at random point.\n",
      "ItemKNNScoresHybridMultipleRecommender: URM Detected 48 (0.60 %) cold users.\n",
      "ItemKNNScoresHybridMultipleRecommender: URM Detected 1997 (7.69 %) cold items.\n",
      "SearchBayesianSkopt: Testing config: {'alpha': 0.40312400901501677, 'beta': 0.9557238220110342}\n",
      "shape of item_weights: (1000, 25975)\n",
      "shape of item_weights: (1000, 25975)\n",
      "shape of item_weights: (1000, 25975)\n",
      "shape of item_weights: (1000, 25975)\n",
      "shape of item_weights: (1000, 25975)\n",
      "shape of item_weights: (9, 25975)\n",
      "EvaluatorHoldout: Processed 5009 ( 100.00% ) in 5.58 sec. Users per second: 898\n",
      "SearchBayesianSkopt: Config 2 is suboptimal. Config: {'alpha': 0.40312400901501677, 'beta': 0.9557238220110342} - results: ROC_AUC: 0.7971612, PRECISION: 0.2192054, PRECISION_RECALL_MIN_DEN: 0.8639571, RECALL: 0.8498544, MAP: 0.7064266, MRR: 0.7511796, NDCG: 0.7516446, F1: 0.3485169, HIT_RATE: 2.1920543, ARHR: 1.1158630, NOVELTY: 0.0047981, AVERAGE_POPULARITY: 0.1053249, DIVERSITY_MEAN_INTER_LIST: 0.9854224, DIVERSITY_HERFINDAHL: 0.9985226, COVERAGE_ITEM: 0.4704909, COVERAGE_ITEM_CORRECT: 0.2918961, COVERAGE_USER: 0.6303007, COVERAGE_USER_CORRECT: 0.5841198, DIVERSITY_GINI: 0.1653485, SHANNON_ENTROPY: 11.6852909, \n",
      "\n",
      "Iteration No: 3 ended. Evaluation done at random point.\n",
      "Time taken: 5.7521\n",
      "Function value obtained: -0.7064\n",
      "Current minimum: -0.7179\n",
      "Iteration No: 4 started. Searching for the next optimal point.\n",
      "ItemKNNScoresHybridMultipleRecommender: URM Detected 48 (0.60 %) cold users.\n",
      "ItemKNNScoresHybridMultipleRecommender: URM Detected 1997 (7.69 %) cold items.\n",
      "SearchBayesianSkopt: Testing config: {'alpha': 0.9831185411572904, 'beta': 0.6205269751012112}\n",
      "shape of item_weights: (1000, 25975)\n",
      "shape of item_weights: (1000, 25975)\n",
      "shape of item_weights: (1000, 25975)\n",
      "shape of item_weights: (1000, 25975)\n",
      "shape of item_weights: (1000, 25975)\n",
      "shape of item_weights: (9, 25975)\n",
      "EvaluatorHoldout: Processed 5009 ( 100.00% ) in 5.63 sec. Users per second: 890\n",
      "SearchBayesianSkopt: Config 3 is suboptimal. Config: {'alpha': 0.9831185411572904, 'beta': 0.6205269751012112} - results: ROC_AUC: 0.8019689, PRECISION: 0.2192454, PRECISION_RECALL_MIN_DEN: 0.8684947, RECALL: 0.8546987, MAP: 0.7099877, MRR: 0.7559601, NDCG: 0.7557562, F1: 0.3489730, HIT_RATE: 2.1924536, ARHR: 1.1201943, NOVELTY: 0.0047859, AVERAGE_POPULARITY: 0.1069813, DIVERSITY_MEAN_INTER_LIST: 0.9849382, DIVERSITY_HERFINDAHL: 0.9984742, COVERAGE_ITEM: 0.4639461, COVERAGE_ITEM_CORRECT: 0.2907796, COVERAGE_USER: 0.6303007, COVERAGE_USER_CORRECT: 0.5872656, DIVERSITY_GINI: 0.1608767, SHANNON_ENTROPY: 11.6349925, \n",
      "\n",
      "Iteration No: 4 ended. Search finished for the next optimal point.\n",
      "Time taken: 5.8718\n",
      "Function value obtained: -0.7100\n",
      "Current minimum: -0.7179\n",
      "Iteration No: 5 started. Searching for the next optimal point.\n",
      "ItemKNNScoresHybridMultipleRecommender: URM Detected 48 (0.60 %) cold users.\n",
      "ItemKNNScoresHybridMultipleRecommender: URM Detected 1997 (7.69 %) cold items.\n",
      "SearchBayesianSkopt: Testing config: {'alpha': 0.0, 'beta': 0.24895574768973988}\n",
      "shape of item_weights: (1000, 25975)\n",
      "shape of item_weights: (1000, 25975)\n",
      "shape of item_weights: (1000, 25975)\n",
      "shape of item_weights: (1000, 25975)\n",
      "shape of item_weights: (1000, 25975)\n",
      "shape of item_weights: (9, 25975)\n",
      "EvaluatorHoldout: Processed 5009 ( 100.00% ) in 5.66 sec. Users per second: 885\n",
      "SearchBayesianSkopt: Config 4 is suboptimal. Config: {'alpha': 0.0, 'beta': 0.24895574768973988} - results: ROC_AUC: 0.6121493, PRECISION: 0.1078259, PRECISION_RECALL_MIN_DEN: 0.5318602, RECALL: 0.5278145, MAP: 0.3940530, MRR: 0.5626339, NDCG: 0.4651813, F1: 0.1790700, HIT_RATE: 1.0782591, ARHR: 0.6568659, NOVELTY: 0.0049520, AVERAGE_POPULARITY: 0.0764197, DIVERSITY_MEAN_INTER_LIST: 0.9938907, DIVERSITY_HERFINDAHL: 0.9993692, COVERAGE_ITEM: 0.4686814, COVERAGE_ITEM_CORRECT: 0.1093744, COVERAGE_USER: 0.6303007, COVERAGE_USER_CORRECT: 0.4686045, DIVERSITY_GINI: 0.1785078, SHANNON_ENTROPY: 12.1836583, \n",
      "\n",
      "Iteration No: 5 ended. Search finished for the next optimal point.\n",
      "Time taken: 5.9105\n",
      "Function value obtained: -0.3941\n",
      "Current minimum: -0.7179\n",
      "Iteration No: 6 started. Searching for the next optimal point.\n",
      "ItemKNNScoresHybridMultipleRecommender: URM Detected 48 (0.60 %) cold users.\n",
      "ItemKNNScoresHybridMultipleRecommender: URM Detected 1997 (7.69 %) cold items.\n",
      "SearchBayesianSkopt: Testing config: {'alpha': 0.8432052026407536, 'beta': 1.0}\n",
      "shape of item_weights: (1000, 25975)\n",
      "shape of item_weights: (1000, 25975)\n",
      "shape of item_weights: (1000, 25975)\n",
      "shape of item_weights: (1000, 25975)\n",
      "shape of item_weights: (1000, 25975)\n",
      "shape of item_weights: (9, 25975)\n",
      "EvaluatorHoldout: Processed 5009 ( 100.00% ) in 5.61 sec. Users per second: 892\n",
      "SearchBayesianSkopt: Config 5 is suboptimal. Config: {'alpha': 0.8432052026407536, 'beta': 1.0} - results: ROC_AUC: 0.7967175, PRECISION: 0.2195049, PRECISION_RECALL_MIN_DEN: 0.8635525, RECALL: 0.8494499, MAP: 0.7069242, MRR: 0.7507846, NDCG: 0.7516768, F1: 0.3488612, HIT_RATE: 2.1950489, ARHR: 1.1166877, NOVELTY: 0.0047886, AVERAGE_POPULARITY: 0.1065418, DIVERSITY_MEAN_INTER_LIST: 0.9850121, DIVERSITY_HERFINDAHL: 0.9984815, COVERAGE_ITEM: 0.4661405, COVERAGE_ITEM_CORRECT: 0.2924735, COVERAGE_USER: 0.6303007, COVERAGE_USER_CORRECT: 0.5833648, DIVERSITY_GINI: 0.1624754, SHANNON_ENTROPY: 11.6493521, \n",
      "\n",
      "Iteration No: 6 ended. Search finished for the next optimal point.\n",
      "Time taken: 5.9152\n",
      "Function value obtained: -0.7069\n",
      "Current minimum: -0.7179\n",
      "Iteration No: 7 started. Searching for the next optimal point.\n",
      "ItemKNNScoresHybridMultipleRecommender: URM Detected 48 (0.60 %) cold users.\n",
      "ItemKNNScoresHybridMultipleRecommender: URM Detected 1997 (7.69 %) cold items.\n",
      "SearchBayesianSkopt: Testing config: {'alpha': 0.5105771019681007, 'beta': 0.0}\n",
      "shape of item_weights: (1000, 25975)\n",
      "shape of item_weights: (1000, 25975)\n",
      "shape of item_weights: (1000, 25975)\n",
      "shape of item_weights: (1000, 25975)\n",
      "shape of item_weights: (1000, 25975)\n",
      "shape of item_weights: (9, 25975)\n",
      "EvaluatorHoldout: Processed 5009 ( 100.00% ) in 5.48 sec. Users per second: 914\n",
      "SearchBayesianSkopt: New best config found. Config 6: {'alpha': 0.5105771019681007, 'beta': 0.0} - results: ROC_AUC: 0.8190010, PRECISION: 0.2177281, PRECISION_RECALL_MIN_DEN: 0.8821391, RECALL: 0.8696584, MAP: 0.7217249, MRR: 0.7767042, NDCG: 0.7706844, F1: 0.3482645, HIT_RATE: 2.1772809, ARHR: 1.1323335, NOVELTY: 0.0047869, AVERAGE_POPULARITY: 0.1068090, DIVERSITY_MEAN_INTER_LIST: 0.9852024, DIVERSITY_HERFINDAHL: 0.9985006, COVERAGE_ITEM: 0.4552454, COVERAGE_ITEM_CORRECT: 0.2848123, COVERAGE_USER: 0.6303007, COVERAGE_USER_CORRECT: 0.5983390, DIVERSITY_GINI: 0.1561563, SHANNON_ENTROPY: 11.6146317, \n",
      "\n",
      "Iteration No: 7 ended. Search finished for the next optimal point.\n",
      "Time taken: 5.7893\n",
      "Function value obtained: -0.7217\n",
      "Current minimum: -0.7217\n",
      "Iteration No: 8 started. Searching for the next optimal point.\n",
      "ItemKNNScoresHybridMultipleRecommender: URM Detected 48 (0.60 %) cold users.\n",
      "ItemKNNScoresHybridMultipleRecommender: URM Detected 1997 (7.69 %) cold items.\n",
      "SearchBayesianSkopt: Testing config: {'alpha': 0.8784256904962372, 'beta': 0.0}\n",
      "shape of item_weights: (1000, 25975)\n",
      "shape of item_weights: (1000, 25975)\n",
      "shape of item_weights: (1000, 25975)\n",
      "shape of item_weights: (1000, 25975)\n",
      "shape of item_weights: (1000, 25975)\n",
      "shape of item_weights: (9, 25975)\n",
      "EvaluatorHoldout: Processed 5009 ( 100.00% ) in 5.60 sec. Users per second: 894\n",
      "SearchBayesianSkopt: Config 7 is suboptimal. Config: {'alpha': 0.8784256904962372, 'beta': 0.0} - results: ROC_AUC: 0.8105699, PRECISION: 0.2188061, PRECISION_RECALL_MIN_DEN: 0.8772633, RECALL: 0.8641480, MAP: 0.7153434, MRR: 0.7651510, NDCG: 0.7631803, F1: 0.3491946, HIT_RATE: 2.1880615, ARHR: 1.1255326, NOVELTY: 0.0047850, AVERAGE_POPULARITY: 0.1071434, DIVERSITY_MEAN_INTER_LIST: 0.9850083, DIVERSITY_HERFINDAHL: 0.9984812, COVERAGE_ITEM: 0.4581713, COVERAGE_ITEM_CORRECT: 0.2880077, COVERAGE_USER: 0.6303007, COVERAGE_USER_CORRECT: 0.5939348, DIVERSITY_GINI: 0.1577078, SHANNON_ENTROPY: 11.6173005, \n",
      "\n",
      "Iteration No: 8 ended. Search finished for the next optimal point.\n",
      "Time taken: 5.9996\n",
      "Function value obtained: -0.7153\n",
      "Current minimum: -0.7217\n",
      "Iteration No: 9 started. Searching for the next optimal point.\n",
      "ItemKNNScoresHybridMultipleRecommender: URM Detected 48 (0.60 %) cold users.\n",
      "ItemKNNScoresHybridMultipleRecommender: URM Detected 1997 (7.69 %) cold items.\n",
      "SearchBayesianSkopt: Testing config: {'alpha': 0.4156107611239445, 'beta': 0.0}\n",
      "shape of item_weights: (1000, 25975)\n",
      "shape of item_weights: (1000, 25975)\n",
      "shape of item_weights: (1000, 25975)\n",
      "shape of item_weights: (1000, 25975)\n",
      "shape of item_weights: (1000, 25975)\n",
      "shape of item_weights: (9, 25975)\n",
      "EvaluatorHoldout: Processed 5009 ( 100.00% ) in 5.56 sec. Users per second: 901\n",
      "SearchBayesianSkopt: New best config found. Config 8: {'alpha': 0.4156107611239445, 'beta': 0.0} - results: ROC_AUC: 0.8230364, PRECISION: 0.2171691, PRECISION_RECALL_MIN_DEN: 0.8840233, RECALL: 0.8718861, MAP: 0.7242454, MRR: 0.7811508, NDCG: 0.7736233, F1: 0.3477266, HIT_RATE: 2.1716910, ARHR: 1.1349622, NOVELTY: 0.0047867, AVERAGE_POPULARITY: 0.1066160, DIVERSITY_MEAN_INTER_LIST: 0.9853128, DIVERSITY_HERFINDAHL: 0.9985116, COVERAGE_ITEM: 0.4538595, COVERAGE_ITEM_CORRECT: 0.2831569, COVERAGE_USER: 0.6303007, COVERAGE_USER_CORRECT: 0.5999748, DIVERSITY_GINI: 0.1554761, SHANNON_ENTROPY: 11.6144741, \n",
      "\n",
      "Iteration No: 9 ended. Search finished for the next optimal point.\n",
      "Time taken: 5.8674\n",
      "Function value obtained: -0.7242\n",
      "Current minimum: -0.7242\n",
      "Iteration No: 10 started. Searching for the next optimal point.\n",
      "ItemKNNScoresHybridMultipleRecommender: URM Detected 48 (0.60 %) cold users.\n",
      "ItemKNNScoresHybridMultipleRecommender: URM Detected 1997 (7.69 %) cold items.\n",
      "SearchBayesianSkopt: Testing config: {'alpha': 0.6067238921139958, 'beta': 0.0}\n",
      "shape of item_weights: (1000, 25975)\n",
      "shape of item_weights: (1000, 25975)\n",
      "shape of item_weights: (1000, 25975)\n",
      "shape of item_weights: (1000, 25975)\n",
      "shape of item_weights: (1000, 25975)\n",
      "shape of item_weights: (9, 25975)\n",
      "EvaluatorHoldout: Processed 5009 ( 100.00% ) in 5.50 sec. Users per second: 911\n",
      "SearchBayesianSkopt: Config 9 is suboptimal. Config: {'alpha': 0.6067238921139958, 'beta': 0.0} - results: ROC_AUC: 0.8166793, PRECISION: 0.2182072, PRECISION_RECALL_MIN_DEN: 0.8808566, RECALL: 0.8681725, MAP: 0.7196013, MRR: 0.7726563, NDCG: 0.7682498, F1: 0.3487575, HIT_RATE: 2.1820723, ARHR: 1.1301457, NOVELTY: 0.0047860, AVERAGE_POPULARITY: 0.1069072, DIVERSITY_MEAN_INTER_LIST: 0.9851396, DIVERSITY_HERFINDAHL: 0.9984943, COVERAGE_ITEM: 0.4562079, COVERAGE_ITEM_CORRECT: 0.2859288, COVERAGE_USER: 0.6303007, COVERAGE_USER_CORRECT: 0.5973323, DIVERSITY_GINI: 0.1567273, SHANNON_ENTROPY: 11.6152148, \n",
      "\n",
      "Iteration No: 10 ended. Search finished for the next optimal point.\n",
      "Time taken: 5.8803\n",
      "Function value obtained: -0.7196\n",
      "Current minimum: -0.7242\n",
      "SearchBayesianSkopt: Search complete. Best config is 8: {'alpha': 0.4156107611239445, 'beta': 0.0}\n",
      "\n"
     ]
    },
    {
     "output_type": "error",
     "ename": "TypeError",
     "evalue": "__init__() missing 3 required positional arguments: 'Recommender_1', 'Recommender_2', and 'Recommender_3'",
     "traceback": [
      "\u001b[0;31m---------------------------------------------------------------------------\u001b[0m",
      "\u001b[0;31mTypeError\u001b[0m                                 Traceback (most recent call last)",
      "\u001b[0;32m<ipython-input-33-a98d30f4e389>\u001b[0m in \u001b[0;36m<module>\u001b[0;34m\u001b[0m\n\u001b[0;32m----> 1\u001b[0;31m parameterSearch.search(recommender_input_args,\n\u001b[0m\u001b[1;32m      2\u001b[0m                        \u001b[0mrecommender_input_args_last_test\u001b[0m \u001b[0;34m=\u001b[0m \u001b[0mrecommender_input_args_last_test\u001b[0m\u001b[0;34m,\u001b[0m\u001b[0;34m\u001b[0m\u001b[0;34m\u001b[0m\u001b[0m\n\u001b[1;32m      3\u001b[0m                        \u001b[0mparameter_search_space\u001b[0m \u001b[0;34m=\u001b[0m \u001b[0mhyperparameters_range_dictionary\u001b[0m\u001b[0;34m,\u001b[0m\u001b[0;34m\u001b[0m\u001b[0;34m\u001b[0m\u001b[0m\n\u001b[1;32m      4\u001b[0m                        \u001b[0mn_cases\u001b[0m \u001b[0;34m=\u001b[0m \u001b[0mn_cases\u001b[0m\u001b[0;34m,\u001b[0m\u001b[0;34m\u001b[0m\u001b[0;34m\u001b[0m\u001b[0m\n\u001b[1;32m      5\u001b[0m                        \u001b[0mn_random_starts\u001b[0m \u001b[0;34m=\u001b[0m \u001b[0mn_random_starts\u001b[0m\u001b[0;34m,\u001b[0m\u001b[0;34m\u001b[0m\u001b[0;34m\u001b[0m\u001b[0m\n",
      "\u001b[0;32m~/Desktop/Recatommender-Systems-Challenge/ParameterTuning/SearchBayesianSkopt.py\u001b[0m in \u001b[0;36msearch\u001b[0;34m(self, recommender_input_args, parameter_search_space, metric_to_optimize, n_cases, n_random_starts, output_folder_path, output_file_name_root, save_model, save_metadata, resume_from_saved, recommender_input_args_last_test, evaluate_on_test_each_best_solution)\u001b[0m\n\u001b[1;32m    270\u001b[0m \u001b[0;34m\u001b[0m\u001b[0m\n\u001b[1;32m    271\u001b[0m         \u001b[0;32mif\u001b[0m \u001b[0mself\u001b[0m\u001b[0;34m.\u001b[0m\u001b[0mrecommender_input_args_last_test\u001b[0m \u001b[0;32mis\u001b[0m \u001b[0;32mnot\u001b[0m \u001b[0;32mNone\u001b[0m\u001b[0;34m:\u001b[0m\u001b[0;34m\u001b[0m\u001b[0;34m\u001b[0m\u001b[0m\n\u001b[0;32m--> 272\u001b[0;31m             \u001b[0mself\u001b[0m\u001b[0;34m.\u001b[0m\u001b[0m_evaluate_on_test_with_data_last\u001b[0m\u001b[0;34m(\u001b[0m\u001b[0;34m)\u001b[0m\u001b[0;34m\u001b[0m\u001b[0;34m\u001b[0m\u001b[0m\n\u001b[0m\u001b[1;32m    273\u001b[0m \u001b[0;34m\u001b[0m\u001b[0m\n\u001b[1;32m    274\u001b[0m \u001b[0;34m\u001b[0m\u001b[0m\n",
      "\u001b[0;32m~/Desktop/Recatommender-Systems-Challenge/ParameterTuning/SearchAbstractClass.py\u001b[0m in \u001b[0;36m_evaluate_on_test_with_data_last\u001b[0;34m(self)\u001b[0m\n\u001b[1;32m    304\u001b[0m \u001b[0;34m\u001b[0m\u001b[0m\n\u001b[1;32m    305\u001b[0m         \u001b[0;31m# Construct a new recommender instance\u001b[0m\u001b[0;34m\u001b[0m\u001b[0;34m\u001b[0m\u001b[0;34m\u001b[0m\u001b[0m\n\u001b[0;32m--> 306\u001b[0;31m         recommender_instance = self.recommender_class(*self.recommender_input_args_last_test.CONSTRUCTOR_POSITIONAL_ARGS,\n\u001b[0m\u001b[1;32m    307\u001b[0m                                                       **self.recommender_input_args_last_test.CONSTRUCTOR_KEYWORD_ARGS)\n\u001b[1;32m    308\u001b[0m \u001b[0;34m\u001b[0m\u001b[0m\n",
      "\u001b[0;31mTypeError\u001b[0m: __init__() missing 3 required positional arguments: 'Recommender_1', 'Recommender_2', and 'Recommender_3'"
     ]
    }
   ],
   "source": [
    "parameterSearch.search(recommender_input_args,\n",
    "                       recommender_input_args_last_test = recommender_input_args_last_test,\n",
    "                       parameter_search_space = hyperparameters_range_dictionary,\n",
    "                       n_cases = n_cases,\n",
    "                       n_random_starts = n_random_starts,\n",
    "                       save_model = \"last\",\n",
    "                       output_folder_path = output_folder_path,\n",
    "                       output_file_name_root = recommender_class.RECOMMENDER_NAME,\n",
    "                       metric_to_optimize = metric_to_optimize,\n",
    "                      )"
   ]
  },
  {
   "cell_type": "code",
   "execution_count": 19,
   "metadata": {},
   "outputs": [
    {
     "output_type": "execute_result",
     "data": {
      "text/plain": [
       "      user_id\n",
       "0           0\n",
       "1           1\n",
       "2           2\n",
       "3           3\n",
       "4           4\n",
       "...       ...\n",
       "7939     7942\n",
       "7940     7943\n",
       "7941     7944\n",
       "7942     7945\n",
       "7943     7946\n",
       "\n",
       "[7944 rows x 1 columns]"
      ],
      "text/html": "<div>\n<style scoped>\n    .dataframe tbody tr th:only-of-type {\n        vertical-align: middle;\n    }\n\n    .dataframe tbody tr th {\n        vertical-align: top;\n    }\n\n    .dataframe thead th {\n        text-align: right;\n    }\n</style>\n<table border=\"1\" class=\"dataframe\">\n  <thead>\n    <tr style=\"text-align: right;\">\n      <th></th>\n      <th>user_id</th>\n    </tr>\n  </thead>\n  <tbody>\n    <tr>\n      <th>0</th>\n      <td>0</td>\n    </tr>\n    <tr>\n      <th>1</th>\n      <td>1</td>\n    </tr>\n    <tr>\n      <th>2</th>\n      <td>2</td>\n    </tr>\n    <tr>\n      <th>3</th>\n      <td>3</td>\n    </tr>\n    <tr>\n      <th>4</th>\n      <td>4</td>\n    </tr>\n    <tr>\n      <th>...</th>\n      <td>...</td>\n    </tr>\n    <tr>\n      <th>7939</th>\n      <td>7942</td>\n    </tr>\n    <tr>\n      <th>7940</th>\n      <td>7943</td>\n    </tr>\n    <tr>\n      <th>7941</th>\n      <td>7944</td>\n    </tr>\n    <tr>\n      <th>7942</th>\n      <td>7945</td>\n    </tr>\n    <tr>\n      <th>7943</th>\n      <td>7946</td>\n    </tr>\n  </tbody>\n</table>\n<p>7944 rows × 1 columns</p>\n</div>"
     },
     "metadata": {},
     "execution_count": 19
    }
   ],
   "source": [
    "test_users = pd.read_csv('data_target_users_test.csv')\n",
    "test_users"
   ]
  },
  {
   "cell_type": "code",
   "execution_count": 20,
   "metadata": {},
   "outputs": [
    {
     "output_type": "stream",
     "name": "stdout",
     "text": [
      "P3alphaRecommender: URM Detected 1079 (4.15 %) cold items.\n",
      "RP3betaRecommender: URM Detected 2 (0.01 %) cold users.\n",
      "RP3betaRecommender: URM Detected 25 (0.10 %) cold items.\n",
      "UserKNNCFRecommender: URM Detected 1079 (4.15 %) cold items.\n",
      "Similarity column 7947 ( 100 % ), 17682.47 column/sec, elapsed time 0.01 min\n",
      "ItemKNNScoresHybridMultipleRecommender: URM Detected 1079 (4.15 %) cold items.\n",
      "shape of item_weights: (7944, 25975)\n"
     ]
    }
   ],
   "source": [
    "recommender_alpha = P3alphaRecommender(URM_all)\n",
    "recommender_alpha.fit(topK=170, alpha = 0.45, implicit = True)\n",
    "\n",
    "recommender_beta_ICM = RP3betaRecommender(ICM_all.T)\n",
    "recommender_beta_ICM.fit(topK=70, alpha=0.35, beta=0.4, implicit=False)\n",
    "recommender_beta_ICM.URM_train = URM_train\n",
    "\n",
    "recommender_userKNN = UserKNNCFRecommender(URM_all)\n",
    "recommender_userKNN.fit(topK= 75, shrink = 150)\n",
    "\n",
    "hybridrecommender_CBF = ItemKNNScoresHybridMultipleRecommender(URM_all, recommender_alpha, recommender_beta_ICM, recommender_userKNN)\n",
    "hybridrecommender_CBF.fit(alpha = 0.2, beta = 0.3)\n",
    "\n",
    "user_id = test_users['user_id']\n",
    "recommendations = hybridrecommender_CBF.recommend(user_id,cutoff = 10)"
   ]
  },
  {
   "cell_type": "code",
   "execution_count": 21,
   "metadata": {},
   "outputs": [
    {
     "output_type": "stream",
     "name": "stdout",
     "text": [
      "7944\n"
     ]
    }
   ],
   "source": [
    "for index in range(len(recommendations)):\n",
    "    #print(element)\n",
    "    recommendations[index]=np.array(recommendations[index])\n",
    "    #print(type(element))\n",
    "print(len(recommendations))"
   ]
  },
  {
   "cell_type": "code",
   "execution_count": 22,
   "metadata": {},
   "outputs": [],
   "source": [
    "test_users['item_list']= recommendations\n",
    "#test_users['item_list'] =  test_users['item_list'].apply(lambda x: x.replace('[','').replace(']','')) \n",
    "test_users['item_list'] = pd.DataFrame([str(line).strip('[').strip(']').replace(\"'\",\"\") for line in test_users['item_list']])\n",
    "\n",
    "#convert the string columns to int\n",
    "#test_users['item_list'] = test_users['item_list'].astype(int)\n",
    "test_users\n",
    "test_users.to_csv('submission.csv', index=False)\n"
   ]
  },
  {
   "cell_type": "code",
   "execution_count": null,
   "metadata": {},
   "outputs": [],
   "source": []
  }
 ],
 "metadata": {
  "kernelspec": {
   "display_name": "Python 3",
   "language": "python",
   "name": "python3"
  },
  "language_info": {
   "codemirror_mode": {
    "name": "ipython",
    "version": 3
   },
   "file_extension": ".py",
   "mimetype": "text/x-python",
   "name": "python",
   "nbconvert_exporter": "python",
   "pygments_lexer": "ipython3",
   "version": "3.8.5-final"
  }
 },
 "nbformat": 4,
 "nbformat_minor": 4
}