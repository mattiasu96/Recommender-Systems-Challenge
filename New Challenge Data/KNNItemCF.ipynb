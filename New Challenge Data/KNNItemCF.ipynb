{
 "cells": [
  {
   "cell_type": "markdown",
   "metadata": {},
   "source": [
    "# Data loading \n",
    "Next cells are used to load the data we need."
   ]
  },
  {
   "cell_type": "code",
   "execution_count": 1,
   "metadata": {},
   "outputs": [],
   "source": [
    "import pandas as pd\n",
    "import numpy as np \n",
    "import scipy.sparse as sps\n",
    "import os\n",
    "import sys\n",
    "import matplotlib.pyplot as plt\n",
    "sys.path.append('..')\n"
   ]
  },
  {
   "cell_type": "code",
   "execution_count": 2,
   "metadata": {},
   "outputs": [
    {
     "data": {
      "text/html": [
       "<div>\n",
       "<style scoped>\n",
       "    .dataframe tbody tr th:only-of-type {\n",
       "        vertical-align: middle;\n",
       "    }\n",
       "\n",
       "    .dataframe tbody tr th {\n",
       "        vertical-align: top;\n",
       "    }\n",
       "\n",
       "    .dataframe thead th {\n",
       "        text-align: right;\n",
       "    }\n",
       "</style>\n",
       "<table border=\"1\" class=\"dataframe\">\n",
       "  <thead>\n",
       "    <tr style=\"text-align: right;\">\n",
       "      <th></th>\n",
       "      <th>row</th>\n",
       "      <th>col</th>\n",
       "      <th>data</th>\n",
       "    </tr>\n",
       "  </thead>\n",
       "  <tbody>\n",
       "    <tr>\n",
       "      <th>0</th>\n",
       "      <td>0</td>\n",
       "      <td>10080</td>\n",
       "      <td>1.0</td>\n",
       "    </tr>\n",
       "    <tr>\n",
       "      <th>1</th>\n",
       "      <td>0</td>\n",
       "      <td>19467</td>\n",
       "      <td>1.0</td>\n",
       "    </tr>\n",
       "    <tr>\n",
       "      <th>2</th>\n",
       "      <td>1</td>\n",
       "      <td>2665</td>\n",
       "      <td>1.0</td>\n",
       "    </tr>\n",
       "    <tr>\n",
       "      <th>3</th>\n",
       "      <td>1</td>\n",
       "      <td>7494</td>\n",
       "      <td>1.0</td>\n",
       "    </tr>\n",
       "    <tr>\n",
       "      <th>4</th>\n",
       "      <td>1</td>\n",
       "      <td>17068</td>\n",
       "      <td>1.0</td>\n",
       "    </tr>\n",
       "    <tr>\n",
       "      <th>...</th>\n",
       "      <td>...</td>\n",
       "      <td>...</td>\n",
       "      <td>...</td>\n",
       "    </tr>\n",
       "    <tr>\n",
       "      <th>113263</th>\n",
       "      <td>7945</td>\n",
       "      <td>2476</td>\n",
       "      <td>1.0</td>\n",
       "    </tr>\n",
       "    <tr>\n",
       "      <th>113264</th>\n",
       "      <td>7945</td>\n",
       "      <td>12319</td>\n",
       "      <td>1.0</td>\n",
       "    </tr>\n",
       "    <tr>\n",
       "      <th>113265</th>\n",
       "      <td>7945</td>\n",
       "      <td>21384</td>\n",
       "      <td>1.0</td>\n",
       "    </tr>\n",
       "    <tr>\n",
       "      <th>113266</th>\n",
       "      <td>7946</td>\n",
       "      <td>8699</td>\n",
       "      <td>1.0</td>\n",
       "    </tr>\n",
       "    <tr>\n",
       "      <th>113267</th>\n",
       "      <td>7946</td>\n",
       "      <td>19178</td>\n",
       "      <td>1.0</td>\n",
       "    </tr>\n",
       "  </tbody>\n",
       "</table>\n",
       "<p>113268 rows × 3 columns</p>\n",
       "</div>"
      ],
      "text/plain": [
       "         row    col  data\n",
       "0          0  10080   1.0\n",
       "1          0  19467   1.0\n",
       "2          1   2665   1.0\n",
       "3          1   7494   1.0\n",
       "4          1  17068   1.0\n",
       "...      ...    ...   ...\n",
       "113263  7945   2476   1.0\n",
       "113264  7945  12319   1.0\n",
       "113265  7945  21384   1.0\n",
       "113266  7946   8699   1.0\n",
       "113267  7946  19178   1.0\n",
       "\n",
       "[113268 rows x 3 columns]"
      ]
     },
     "execution_count": 2,
     "metadata": {},
     "output_type": "execute_result"
    }
   ],
   "source": [
    "#data which contains users (row), items(col) and implicit interaction (data)\n",
    "dataset = pd.read_csv('data_train.csv')\n",
    "dataset"
   ]
  },
  {
   "cell_type": "markdown",
   "metadata": {},
   "source": [
    "# Data pre-processing\n",
    "Pre-processing of data to check for missing users, items ecc..."
   ]
  },
  {
   "cell_type": "code",
   "execution_count": 3,
   "metadata": {},
   "outputs": [
    {
     "name": "stdout",
     "output_type": "stream",
     "text": [
      "users stats: 7947 0 7946\n",
      "items stats: 24896 0 25974\n"
     ]
    }
   ],
   "source": [
    "unique_users, min_users, max_users = len(dataset.row.unique()), dataset.row.min(), dataset.row.max()\n",
    "unique_items, min_items, max_items = len(dataset.col.unique()), dataset.col.min(), dataset.col.max()\n",
    "print('users stats:',unique_users, min_users, max_users)\n",
    "print('items stats:',unique_items, min_items, max_items)"
   ]
  },
  {
   "cell_type": "markdown",
   "metadata": {},
   "source": [
    "If the difference between the unique elements and the max/min ones is really big, it's better to remap users and items in a new dataframe. In this case, it seems I can leave it as it is"
   ]
  },
  {
   "cell_type": "code",
   "execution_count": 4,
   "metadata": {},
   "outputs": [
    {
     "data": {
      "text/plain": [
       "(7947, 25975)"
      ]
     },
     "execution_count": 4,
     "metadata": {},
     "output_type": "execute_result"
    }
   ],
   "source": [
    "users = dataset.row\n",
    "items = dataset.col\n",
    "data = dataset.data\n",
    "URM_all = sps.coo_matrix((data, (users, items)))\n",
    "URM_all = URM_all.tocsr() #fast row access -> fast access to users \n",
    "URM_all.shape"
   ]
  },
  {
   "cell_type": "markdown",
   "metadata": {},
   "source": [
    "CSR basically has a pointer to the exact beginning of every possible row. For example if i have <code>matrix.inptr = [0,1,2,4,6] </code> this means that at <code>matrix.inptr[n]</code> I have my n row which \"last\" until the next cell in the array. <br> In this case (for example) my third row goes from 2 to 4. <br>\n",
    "\n",
    "What do I do with it? <br>\n",
    "\n",
    "I use this index (2 to 4) to access the other two arrays of the crs format: <code>indices</code> and <code>data</code>.\n",
    "<code>indices</code> gives me the column index and <code>data</code> gives me the actual data to take"
   ]
  },
  {
   "cell_type": "code",
   "execution_count": 5,
   "metadata": {},
   "outputs": [],
   "source": [
    "items_per_user = np.ediff1d(URM_all.indptr) #tells in which position each of the rows begin\n",
    "users_per_item = np.ediff1d(sps.csc_matrix(URM_all).indptr)\n",
    "URM_all = sps.csr_matrix(URM_all)"
   ]
  },
  {
   "cell_type": "code",
   "execution_count": 6,
   "metadata": {},
   "outputs": [],
   "source": [
    "items_per_user = np.sort(items_per_user) #sorting based on the single value. Losing reference to the user. \n",
    "users_per_item = np.sort(users_per_item)"
   ]
  },
  {
   "cell_type": "markdown",
   "metadata": {},
   "source": [
    "The following 2 graphs plots the <code>items_per_user</code> and the <code>users_per_item</code>. It shows that slightly more than 2500 users and 2500 items have a 0 count. This is coherent with the original data we got: 30910-27255 for users and 18494-15277 for items. These differences are the missing users/items in the dataset (Basically users/items that have no interaction at all)"
   ]
  },
  {
   "cell_type": "code",
   "execution_count": 7,
   "metadata": {},
   "outputs": [
    {
     "data": {
      "text/plain": [
       "[<matplotlib.lines.Line2D at 0x1bd51ff8f10>]"
      ]
     },
     "execution_count": 7,
     "metadata": {},
     "output_type": "execute_result"
    },
    {
     "data": {
      "image/png": "[encoded data removed]",
      "text/plain": [
       "<Figure size 1080x864 with 1 Axes>"
      ]
     },
     "metadata": {
      "needs_background": "light"
     },
     "output_type": "display_data"
    }
   ],
   "source": [
    "plt.figure(figsize=(15,12))\n",
    "plt.plot(items_per_user, 'ro') #biased dataset, but not so much compared with the one seen at lessons "
   ]
  },
  {
   "cell_type": "code",
   "execution_count": 8,
   "metadata": {},
   "outputs": [
    {
     "data": {
      "text/plain": [
       "[<matplotlib.lines.Line2D at 0x1bd52034250>]"
      ]
     },
     "execution_count": 8,
     "metadata": {},
     "output_type": "execute_result"
    },
    {
     "data": {
      "image/png": "[encoded data removed]",
      "text/plain": [
       "<Figure size 1080x864 with 1 Axes>"
      ]
     },
     "metadata": {
      "needs_background": "light"
     },
     "output_type": "display_data"
    }
   ],
   "source": [
    "plt.figure(figsize=(15,12))\n",
    "plt.plot(users_per_item, 'ro') #biased dataset, but not so much compared with the one seen at lessons "
   ]
  },
  {
   "cell_type": "code",
   "execution_count": 9,
   "metadata": {},
   "outputs": [
    {
     "name": "stdout",
     "output_type": "stream",
     "text": [
      "Warning: 51 (0.64 %) of 7947 users have no train items\n",
      "Warning: 2937 (36.96 %) of 7947 users have no sampled items\n"
     ]
    }
   ],
   "source": [
    "from Base.Evaluation.Evaluator import EvaluatorHoldout\n",
    "from Data_manager.split_functions.split_train_validation_random_holdout import split_train_in_two_percentage_global_sample\n",
    "\n",
    "#splitting data into train and test. In teoria non serve, da vedere\n",
    "#URM_train, URM_test = split_train_in_two_percentage_global_sample(URM_all, train_percentage = 0.85)\n",
    "\n",
    "#splitting data into train and validation (from the previous training data)\n",
    "URM_train, URM_validation = split_train_in_two_percentage_global_sample(URM_all, train_percentage = 0.85)\n",
    "\n"
   ]
  },
  {
   "cell_type": "code",
   "execution_count": 10,
   "metadata": {},
   "outputs": [],
   "source": [
    "#evaluator for validation (used for hyperparameter tuning)\n",
    "evaluator_validation = EvaluatorHoldout(URM_validation, cutoff_list=[10])\n",
    "\n",
    "#evaluator for testing (the final one)\n",
    "#evaluator_test = EvaluatorHoldout(URM_test, cutoff_list=[10])"
   ]
  },
  {
   "cell_type": "code",
   "execution_count": 11,
   "metadata": {},
   "outputs": [
    {
     "name": "stdout",
     "output_type": "stream",
     "text": [
      "ItemKNNCFRecommender: URM Detected 51 (0.64 %) cold users.\n",
      "ItemKNNCFRecommender: URM Detected 1932 (7.44 %) cold items.\n"
     ]
    }
   ],
   "source": [
    "from KNN.ItemKNNCFRecommender import ItemKNNCFRecommender\n",
    "\n",
    "recommender = ItemKNNCFRecommender(URM_train)"
   ]
  },
  {
   "cell_type": "code",
   "execution_count": 18,
   "metadata": {},
   "outputs": [
    {
     "name": "stdout",
     "output_type": "stream",
     "text": [
      "ItemKNNCFRecommender: URM Detected 51 (0.64 %) cold users.\n",
      "ItemKNNCFRecommender: URM Detected 1932 (7.44 %) cold items.\n",
      "Similarity column 25975 ( 100 % ), 5561.52 column/sec, elapsed time 0.08 min\n",
      "EvaluatorHoldout: Processed 5010 ( 100.00% ) in 3.90 sec. Users per second: 1283\n",
      "ItemKNNCFRecommender: URM Detected 51 (0.64 %) cold users.\n",
      "ItemKNNCFRecommender: URM Detected 1932 (7.44 %) cold items.\n",
      "Similarity column 25975 ( 100 % ), 4826.52 column/sec, elapsed time 0.09 min\n",
      "EvaluatorHoldout: Processed 5010 ( 100.00% ) in 3.58 sec. Users per second: 1400\n",
      "ItemKNNCFRecommender: URM Detected 51 (0.64 %) cold users.\n",
      "ItemKNNCFRecommender: URM Detected 1932 (7.44 %) cold items.\n",
      "Similarity column 25975 ( 100 % ), 4897.21 column/sec, elapsed time 0.09 min\n",
      "EvaluatorHoldout: Processed 5010 ( 100.00% ) in 3.78 sec. Users per second: 1324\n",
      "ItemKNNCFRecommender: URM Detected 51 (0.64 %) cold users.\n",
      "ItemKNNCFRecommender: URM Detected 1932 (7.44 %) cold items.\n",
      "Similarity column 25975 ( 100 % ), 5219.53 column/sec, elapsed time 0.08 min\n",
      "EvaluatorHoldout: Processed 5010 ( 100.00% ) in 3.68 sec. Users per second: 1360\n",
      "ItemKNNCFRecommender: URM Detected 51 (0.64 %) cold users.\n",
      "ItemKNNCFRecommender: URM Detected 1932 (7.44 %) cold items.\n",
      "Similarity column 25975 ( 100 % ), 5258.73 column/sec, elapsed time 0.08 min\n",
      "EvaluatorHoldout: Processed 5010 ( 100.00% ) in 3.78 sec. Users per second: 1325\n",
      "ItemKNNCFRecommender: URM Detected 51 (0.64 %) cold users.\n",
      "ItemKNNCFRecommender: URM Detected 1932 (7.44 %) cold items.\n",
      "Similarity column 25975 ( 100 % ), 5422.91 column/sec, elapsed time 0.08 min\n",
      "EvaluatorHoldout: Processed 5010 ( 100.00% ) in 3.34 sec. Users per second: 1498\n",
      "ItemKNNCFRecommender: URM Detected 51 (0.64 %) cold users.\n",
      "ItemKNNCFRecommender: URM Detected 1932 (7.44 %) cold items.\n",
      "Similarity column 25975 ( 100 % ), 5297.59 column/sec, elapsed time 0.08 min\n",
      "EvaluatorHoldout: Processed 5010 ( 100.00% ) in 3.49 sec. Users per second: 1436\n",
      "ItemKNNCFRecommender: URM Detected 51 (0.64 %) cold users.\n",
      "ItemKNNCFRecommender: URM Detected 1932 (7.44 %) cold items.\n",
      "Similarity column 25975 ( 100 % ), 5428.15 column/sec, elapsed time 0.08 min\n",
      "EvaluatorHoldout: Processed 5010 ( 100.00% ) in 3.34 sec. Users per second: 1500\n",
      "ItemKNNCFRecommender: URM Detected 51 (0.64 %) cold users.\n",
      "ItemKNNCFRecommender: URM Detected 1932 (7.44 %) cold items.\n",
      "Similarity column 25975 ( 100 % ), 5171.09 column/sec, elapsed time 0.08 min\n",
      "EvaluatorHoldout: Processed 5010 ( 100.00% ) in 3.36 sec. Users per second: 1493\n",
      "ItemKNNCFRecommender: URM Detected 51 (0.64 %) cold users.\n",
      "ItemKNNCFRecommender: URM Detected 1932 (7.44 %) cold items.\n",
      "Similarity column 25975 ( 100 % ), 5382.05 column/sec, elapsed time 0.08 min\n",
      "EvaluatorHoldout: Processed 5010 ( 100.00% ) in 3.41 sec. Users per second: 1471\n",
      "ItemKNNCFRecommender: URM Detected 51 (0.64 %) cold users.\n",
      "ItemKNNCFRecommender: URM Detected 1932 (7.44 %) cold items.\n",
      "Similarity column 25975 ( 100 % ), 5236.75 column/sec, elapsed time 0.08 min\n",
      "EvaluatorHoldout: Processed 5010 ( 100.00% ) in 3.43 sec. Users per second: 1460\n",
      "ItemKNNCFRecommender: URM Detected 51 (0.64 %) cold users.\n",
      "ItemKNNCFRecommender: URM Detected 1932 (7.44 %) cold items.\n",
      "Similarity column 25975 ( 100 % ), 5358.76 column/sec, elapsed time 0.08 min\n",
      "EvaluatorHoldout: Processed 5010 ( 100.00% ) in 3.53 sec. Users per second: 1420\n",
      "ItemKNNCFRecommender: URM Detected 51 (0.64 %) cold users.\n",
      "ItemKNNCFRecommender: URM Detected 1932 (7.44 %) cold items.\n",
      "Similarity column 25975 ( 100 % ), 5120.15 column/sec, elapsed time 0.08 min\n",
      "EvaluatorHoldout: Processed 5010 ( 100.00% ) in 3.89 sec. Users per second: 1289\n",
      "ItemKNNCFRecommender: URM Detected 51 (0.64 %) cold users.\n",
      "ItemKNNCFRecommender: URM Detected 1932 (7.44 %) cold items.\n",
      "Similarity column 25975 ( 100 % ), 4717.80 column/sec, elapsed time 0.09 min\n",
      "EvaluatorHoldout: Processed 5010 ( 100.00% ) in 4.37 sec. Users per second: 1146\n",
      "ItemKNNCFRecommender: URM Detected 51 (0.64 %) cold users.\n",
      "ItemKNNCFRecommender: URM Detected 1932 (7.44 %) cold items.\n",
      "Similarity column 25975 ( 100 % ), 4915.91 column/sec, elapsed time 0.09 min\n",
      "EvaluatorHoldout: Processed 5010 ( 100.00% ) in 4.04 sec. Users per second: 1239\n",
      "ItemKNNCFRecommender: URM Detected 51 (0.64 %) cold users.\n",
      "ItemKNNCFRecommender: URM Detected 1932 (7.44 %) cold items.\n",
      "Similarity column 25975 ( 100 % ), 3964.20 column/sec, elapsed time 0.11 min\n",
      "EvaluatorHoldout: Processed 5010 ( 100.00% ) in 4.65 sec. Users per second: 1077\n",
      "ItemKNNCFRecommender: URM Detected 51 (0.64 %) cold users.\n",
      "ItemKNNCFRecommender: URM Detected 1932 (7.44 %) cold items.\n",
      "Similarity column 25975 ( 100 % ), 4517.88 column/sec, elapsed time 0.10 min\n",
      "EvaluatorHoldout: Processed 5010 ( 100.00% ) in 6.16 sec. Users per second: 813\n",
      "ItemKNNCFRecommender: URM Detected 51 (0.64 %) cold users.\n",
      "ItemKNNCFRecommender: URM Detected 1932 (7.44 %) cold items.\n",
      "Similarity column 25975 ( 100 % ), 4110.52 column/sec, elapsed time 0.11 min\n",
      "EvaluatorHoldout: Processed 5010 ( 100.00% ) in 6.22 sec. Users per second: 805\n",
      "ItemKNNCFRecommender: URM Detected 51 (0.64 %) cold users.\n",
      "ItemKNNCFRecommender: URM Detected 1932 (7.44 %) cold items.\n",
      "Similarity column 25975 ( 100 % ), 3571.07 column/sec, elapsed time 0.12 min\n",
      "EvaluatorHoldout: Processed 5010 ( 100.00% ) in 5.89 sec. Users per second: 851\n",
      "ItemKNNCFRecommender: URM Detected 51 (0.64 %) cold users.\n",
      "ItemKNNCFRecommender: URM Detected 1932 (7.44 %) cold items.\n",
      "Similarity column 25975 ( 100 % ), 3547.61 column/sec, elapsed time 0.12 min\n",
      "EvaluatorHoldout: Processed 5010 ( 100.00% ) in 4.76 sec. Users per second: 1052\n",
      "ItemKNNCFRecommender: URM Detected 51 (0.64 %) cold users.\n",
      "ItemKNNCFRecommender: URM Detected 1932 (7.44 %) cold items.\n",
      "Similarity column 25975 ( 100 % ), 3086.51 column/sec, elapsed time 0.14 min\n",
      "EvaluatorHoldout: Processed 5010 ( 100.00% ) in 4.23 sec. Users per second: 1185\n",
      "ItemKNNCFRecommender: URM Detected 51 (0.64 %) cold users.\n",
      "ItemKNNCFRecommender: URM Detected 1932 (7.44 %) cold items.\n",
      "Similarity column 25975 ( 100 % ), 4598.42 column/sec, elapsed time 0.09 min\n",
      "EvaluatorHoldout: Processed 5010 ( 100.00% ) in 4.16 sec. Users per second: 1205\n",
      "ItemKNNCFRecommender: URM Detected 51 (0.64 %) cold users.\n",
      "ItemKNNCFRecommender: URM Detected 1932 (7.44 %) cold items.\n",
      "Similarity column 25975 ( 100 % ), 4857.47 column/sec, elapsed time 0.09 min\n",
      "EvaluatorHoldout: Processed 5010 ( 100.00% ) in 3.93 sec. Users per second: 1274\n",
      "ItemKNNCFRecommender: URM Detected 51 (0.64 %) cold users.\n",
      "ItemKNNCFRecommender: URM Detected 1932 (7.44 %) cold items.\n",
      "Similarity column 25975 ( 100 % ), 4736.96 column/sec, elapsed time 0.09 min\n",
      "EvaluatorHoldout: Processed 5010 ( 100.00% ) in 3.91 sec. Users per second: 1280\n",
      "ItemKNNCFRecommender: URM Detected 51 (0.64 %) cold users.\n",
      "ItemKNNCFRecommender: URM Detected 1932 (7.44 %) cold items.\n",
      "Similarity column 25975 ( 100 % ), 4804.06 column/sec, elapsed time 0.09 min\n",
      "EvaluatorHoldout: Processed 5010 ( 100.00% ) in 4.27 sec. Users per second: 1172\n",
      "ItemKNNCFRecommender: URM Detected 51 (0.64 %) cold users.\n",
      "ItemKNNCFRecommender: URM Detected 1932 (7.44 %) cold items.\n",
      "Similarity column 25975 ( 100 % ), 4710.54 column/sec, elapsed time 0.09 min\n",
      "EvaluatorHoldout: Processed 5010 ( 100.00% ) in 4.11 sec. Users per second: 1220\n",
      "ItemKNNCFRecommender: URM Detected 51 (0.64 %) cold users.\n",
      "ItemKNNCFRecommender: URM Detected 1932 (7.44 %) cold items.\n",
      "Similarity column 25975 ( 100 % ), 4432.81 column/sec, elapsed time 0.10 min\n",
      "EvaluatorHoldout: Processed 5010 ( 100.00% ) in 4.25 sec. Users per second: 1178\n",
      "ItemKNNCFRecommender: URM Detected 51 (0.64 %) cold users.\n",
      "ItemKNNCFRecommender: URM Detected 1932 (7.44 %) cold items.\n",
      "Similarity column 25975 ( 100 % ), 4724.09 column/sec, elapsed time 0.09 min\n",
      "EvaluatorHoldout: Processed 5010 ( 100.00% ) in 4.27 sec. Users per second: 1174\n",
      "ItemKNNCFRecommender: URM Detected 51 (0.64 %) cold users.\n",
      "ItemKNNCFRecommender: URM Detected 1932 (7.44 %) cold items.\n",
      "Similarity column 25975 ( 100 % ), 4647.65 column/sec, elapsed time 0.09 min\n",
      "EvaluatorHoldout: Processed 5010 ( 100.00% ) in 4.08 sec. Users per second: 1228\n",
      "ItemKNNCFRecommender: URM Detected 51 (0.64 %) cold users.\n",
      "ItemKNNCFRecommender: URM Detected 1932 (7.44 %) cold items.\n",
      "Similarity column 25975 ( 100 % ), 4573.44 column/sec, elapsed time 0.09 min\n"
     ]
    },
    {
     "name": "stdout",
     "output_type": "stream",
     "text": [
      "EvaluatorHoldout: Processed 5010 ( 100.00% ) in 4.13 sec. Users per second: 1213\n",
      "ItemKNNCFRecommender: URM Detected 51 (0.64 %) cold users.\n",
      "ItemKNNCFRecommender: URM Detected 1932 (7.44 %) cold items.\n",
      "Similarity column 25975 ( 100 % ), 4030.40 column/sec, elapsed time 0.11 min\n",
      "EvaluatorHoldout: Processed 5010 ( 100.00% ) in 5.32 sec. Users per second: 941\n",
      "ItemKNNCFRecommender: URM Detected 51 (0.64 %) cold users.\n",
      "ItemKNNCFRecommender: URM Detected 1932 (7.44 %) cold items.\n",
      "Similarity column 25975 ( 100 % ), 4330.96 column/sec, elapsed time 0.10 min\n",
      "EvaluatorHoldout: Processed 5010 ( 100.00% ) in 4.18 sec. Users per second: 1200\n",
      "ItemKNNCFRecommender: URM Detected 51 (0.64 %) cold users.\n",
      "ItemKNNCFRecommender: URM Detected 1932 (7.44 %) cold items.\n",
      "Similarity column 25975 ( 100 % ), 3824.13 column/sec, elapsed time 0.11 min\n",
      "EvaluatorHoldout: Processed 5010 ( 100.00% ) in 4.48 sec. Users per second: 1118\n",
      "ItemKNNCFRecommender: URM Detected 51 (0.64 %) cold users.\n",
      "ItemKNNCFRecommender: URM Detected 1932 (7.44 %) cold items.\n",
      "Similarity column 25975 ( 100 % ), 4136.35 column/sec, elapsed time 0.10 min\n",
      "EvaluatorHoldout: Processed 5010 ( 100.00% ) in 4.75 sec. Users per second: 1055\n",
      "ItemKNNCFRecommender: URM Detected 51 (0.64 %) cold users.\n",
      "ItemKNNCFRecommender: URM Detected 1932 (7.44 %) cold items.\n",
      "Similarity column 25975 ( 100 % ), 3892.96 column/sec, elapsed time 0.11 min\n",
      "EvaluatorHoldout: Processed 5010 ( 100.00% ) in 5.98 sec. Users per second: 838\n",
      "ItemKNNCFRecommender: URM Detected 51 (0.64 %) cold users.\n",
      "ItemKNNCFRecommender: URM Detected 1932 (7.44 %) cold items.\n",
      "Similarity column 25975 ( 100 % ), 4479.31 column/sec, elapsed time 0.10 min\n",
      "EvaluatorHoldout: Processed 5010 ( 100.00% ) in 4.41 sec. Users per second: 1135\n",
      "ItemKNNCFRecommender: URM Detected 51 (0.64 %) cold users.\n",
      "ItemKNNCFRecommender: URM Detected 1932 (7.44 %) cold items.\n",
      "Similarity column 25975 ( 100 % ), 3695.53 column/sec, elapsed time 0.12 min\n",
      "EvaluatorHoldout: Processed 5010 ( 100.00% ) in 4.75 sec. Users per second: 1054\n",
      "ItemKNNCFRecommender: URM Detected 51 (0.64 %) cold users.\n",
      "ItemKNNCFRecommender: URM Detected 1932 (7.44 %) cold items.\n",
      "Similarity column 25975 ( 100 % ), 3794.80 column/sec, elapsed time 0.11 min\n",
      "EvaluatorHoldout: Processed 5010 ( 100.00% ) in 4.87 sec. Users per second: 1029\n",
      "ItemKNNCFRecommender: URM Detected 51 (0.64 %) cold users.\n",
      "ItemKNNCFRecommender: URM Detected 1932 (7.44 %) cold items.\n",
      "Similarity column 25975 ( 100 % ), 4293.78 column/sec, elapsed time 0.10 min\n",
      "EvaluatorHoldout: Processed 5010 ( 100.00% ) in 4.62 sec. Users per second: 1084\n",
      "ItemKNNCFRecommender: URM Detected 51 (0.64 %) cold users.\n",
      "ItemKNNCFRecommender: URM Detected 1932 (7.44 %) cold items.\n",
      "Similarity column 25975 ( 100 % ), 4086.70 column/sec, elapsed time 0.11 min\n",
      "EvaluatorHoldout: Processed 5010 ( 100.00% ) in 5.24 sec. Users per second: 957\n",
      "ItemKNNCFRecommender: URM Detected 51 (0.64 %) cold users.\n",
      "ItemKNNCFRecommender: URM Detected 1932 (7.44 %) cold items.\n",
      "Similarity column 25975 ( 100 % ), 3979.15 column/sec, elapsed time 0.11 min\n",
      "EvaluatorHoldout: Processed 5010 ( 100.00% ) in 4.67 sec. Users per second: 1073\n",
      "ItemKNNCFRecommender: URM Detected 51 (0.64 %) cold users.\n",
      "ItemKNNCFRecommender: URM Detected 1932 (7.44 %) cold items.\n",
      "Similarity column 25975 ( 100 % ), 4388.03 column/sec, elapsed time 0.10 min\n",
      "EvaluatorHoldout: Processed 5010 ( 100.00% ) in 4.94 sec. Users per second: 1014\n",
      "ItemKNNCFRecommender: URM Detected 51 (0.64 %) cold users.\n",
      "ItemKNNCFRecommender: URM Detected 1932 (7.44 %) cold items.\n",
      "Similarity column 25975 ( 100 % ), 4310.17 column/sec, elapsed time 0.10 min\n",
      "EvaluatorHoldout: Processed 5010 ( 100.00% ) in 4.51 sec. Users per second: 1112\n",
      "ItemKNNCFRecommender: URM Detected 51 (0.64 %) cold users.\n",
      "ItemKNNCFRecommender: URM Detected 1932 (7.44 %) cold items.\n",
      "Similarity column 25975 ( 100 % ), 4056.79 column/sec, elapsed time 0.11 min\n",
      "EvaluatorHoldout: Processed 5010 ( 100.00% ) in 4.48 sec. Users per second: 1119\n",
      "ItemKNNCFRecommender: URM Detected 51 (0.64 %) cold users.\n",
      "ItemKNNCFRecommender: URM Detected 1932 (7.44 %) cold items.\n",
      "Similarity column 25975 ( 100 % ), 4361.92 column/sec, elapsed time 0.10 min\n",
      "EvaluatorHoldout: Processed 5010 ( 100.00% ) in 4.77 sec. Users per second: 1051\n",
      "ItemKNNCFRecommender: URM Detected 51 (0.64 %) cold users.\n",
      "ItemKNNCFRecommender: URM Detected 1932 (7.44 %) cold items.\n",
      "Similarity column 25975 ( 100 % ), 4120.66 column/sec, elapsed time 0.11 min\n",
      "EvaluatorHoldout: Processed 5010 ( 100.00% ) in 5.68 sec. Users per second: 883\n",
      "ItemKNNCFRecommender: URM Detected 51 (0.64 %) cold users.\n",
      "ItemKNNCFRecommender: URM Detected 1932 (7.44 %) cold items.\n",
      "Similarity column 25975 ( 100 % ), 3566.25 column/sec, elapsed time 0.12 min\n",
      "EvaluatorHoldout: Processed 5010 ( 100.00% ) in 4.97 sec. Users per second: 1009\n",
      "ItemKNNCFRecommender: URM Detected 51 (0.64 %) cold users.\n",
      "ItemKNNCFRecommender: URM Detected 1932 (7.44 %) cold items.\n",
      "Similarity column 25975 ( 100 % ), 4320.87 column/sec, elapsed time 0.10 min\n",
      "EvaluatorHoldout: Processed 5010 ( 100.00% ) in 4.55 sec. Users per second: 1101\n",
      "ItemKNNCFRecommender: URM Detected 51 (0.64 %) cold users.\n",
      "ItemKNNCFRecommender: URM Detected 1932 (7.44 %) cold items.\n",
      "Similarity column 25975 ( 100 % ), 4148.44 column/sec, elapsed time 0.10 min\n",
      "EvaluatorHoldout: Processed 5010 ( 100.00% ) in 5.08 sec. Users per second: 986\n",
      "ItemKNNCFRecommender: URM Detected 51 (0.64 %) cold users.\n",
      "ItemKNNCFRecommender: URM Detected 1932 (7.44 %) cold items.\n",
      "Similarity column 25975 ( 100 % ), 3591.36 column/sec, elapsed time 0.12 min\n",
      "EvaluatorHoldout: Processed 5010 ( 100.00% ) in 5.66 sec. Users per second: 885\n",
      "ItemKNNCFRecommender: URM Detected 51 (0.64 %) cold users.\n",
      "ItemKNNCFRecommender: URM Detected 1932 (7.44 %) cold items.\n",
      "Similarity column 25975 ( 100 % ), 3982.16 column/sec, elapsed time 0.11 min\n",
      "EvaluatorHoldout: Processed 5010 ( 100.00% ) in 4.28 sec. Users per second: 1170\n",
      "ItemKNNCFRecommender: URM Detected 51 (0.64 %) cold users.\n",
      "ItemKNNCFRecommender: URM Detected 1932 (7.44 %) cold items.\n",
      "Similarity column 25975 ( 100 % ), 4571.61 column/sec, elapsed time 0.09 min\n",
      "EvaluatorHoldout: Processed 5010 ( 100.00% ) in 4.04 sec. Users per second: 1240\n",
      "ItemKNNCFRecommender: URM Detected 51 (0.64 %) cold users.\n",
      "ItemKNNCFRecommender: URM Detected 1932 (7.44 %) cold items.\n",
      "Similarity column 25975 ( 100 % ), 4741.52 column/sec, elapsed time 0.09 min\n",
      "EvaluatorHoldout: Processed 5010 ( 100.00% ) in 4.52 sec. Users per second: 1110\n",
      "ItemKNNCFRecommender: URM Detected 51 (0.64 %) cold users.\n",
      "ItemKNNCFRecommender: URM Detected 1932 (7.44 %) cold items.\n",
      "Similarity column 25975 ( 100 % ), 4304.65 column/sec, elapsed time 0.10 min\n",
      "EvaluatorHoldout: Processed 5010 ( 100.00% ) in 4.78 sec. Users per second: 1048\n",
      "ItemKNNCFRecommender: URM Detected 51 (0.64 %) cold users.\n",
      "ItemKNNCFRecommender: URM Detected 1932 (7.44 %) cold items.\n",
      "Similarity column 25975 ( 100 % ), 2903.26 column/sec, elapsed time 0.15 min\n",
      "EvaluatorHoldout: Processed 5010 ( 100.00% ) in 5.36 sec. Users per second: 935\n",
      "ItemKNNCFRecommender: URM Detected 51 (0.64 %) cold users.\n",
      "ItemKNNCFRecommender: URM Detected 1932 (7.44 %) cold items.\n",
      "Similarity column 25975 ( 100 % ), 3846.37 column/sec, elapsed time 0.11 min\n",
      "EvaluatorHoldout: Processed 5010 ( 100.00% ) in 4.19 sec. Users per second: 1196\n",
      "ItemKNNCFRecommender: URM Detected 51 (0.64 %) cold users.\n",
      "ItemKNNCFRecommender: URM Detected 1932 (7.44 %) cold items.\n",
      "Similarity column 25975 ( 100 % ), 3034.44 column/sec, elapsed time 0.14 min\n",
      "EvaluatorHoldout: Processed 5010 ( 100.00% ) in 5.52 sec. Users per second: 907\n",
      "ItemKNNCFRecommender: URM Detected 51 (0.64 %) cold users.\n",
      "ItemKNNCFRecommender: URM Detected 1932 (7.44 %) cold items.\n",
      "Similarity column 25975 ( 100 % ), 3563.69 column/sec, elapsed time 0.12 min\n",
      "EvaluatorHoldout: Processed 5010 ( 100.00% ) in 5.22 sec. Users per second: 960\n",
      "ItemKNNCFRecommender: URM Detected 51 (0.64 %) cold users.\n",
      "ItemKNNCFRecommender: URM Detected 1932 (7.44 %) cold items.\n",
      "Similarity column 25975 ( 100 % ), 3944.49 column/sec, elapsed time 0.11 min\n",
      "EvaluatorHoldout: Processed 5010 ( 100.00% ) in 4.95 sec. Users per second: 1012\n",
      "ItemKNNCFRecommender: URM Detected 51 (0.64 %) cold users.\n",
      "ItemKNNCFRecommender: URM Detected 1932 (7.44 %) cold items.\n"
     ]
    },
    {
     "name": "stdout",
     "output_type": "stream",
     "text": [
      "Similarity column 25975 ( 100 % ), 4139.38 column/sec, elapsed time 0.10 min\n",
      "EvaluatorHoldout: Processed 5010 ( 100.00% ) in 4.48 sec. Users per second: 1117\n",
      "ItemKNNCFRecommender: URM Detected 51 (0.64 %) cold users.\n",
      "ItemKNNCFRecommender: URM Detected 1932 (7.44 %) cold items.\n",
      "Similarity column 25975 ( 100 % ), 3556.67 column/sec, elapsed time 0.12 min\n",
      "EvaluatorHoldout: Processed 5010 ( 100.00% ) in 5.53 sec. Users per second: 906\n",
      "ItemKNNCFRecommender: URM Detected 51 (0.64 %) cold users.\n",
      "ItemKNNCFRecommender: URM Detected 1932 (7.44 %) cold items.\n",
      "Similarity column 25975 ( 100 % ), 3802.25 column/sec, elapsed time 0.11 min\n",
      "EvaluatorHoldout: Processed 5010 ( 100.00% ) in 5.89 sec. Users per second: 850\n",
      "ItemKNNCFRecommender: URM Detected 51 (0.64 %) cold users.\n",
      "ItemKNNCFRecommender: URM Detected 1932 (7.44 %) cold items.\n",
      "Similarity column 25975 ( 100 % ), 3190.91 column/sec, elapsed time 0.14 min\n",
      "EvaluatorHoldout: Processed 5010 ( 100.00% ) in 5.37 sec. Users per second: 934\n",
      "ItemKNNCFRecommender: URM Detected 51 (0.64 %) cold users.\n",
      "ItemKNNCFRecommender: URM Detected 1932 (7.44 %) cold items.\n",
      "Similarity column 25975 ( 100 % ), 2577.38 column/sec, elapsed time 0.17 min\n",
      "EvaluatorHoldout: Processed 5010 ( 100.00% ) in 7.35 sec. Users per second: 682\n",
      "ItemKNNCFRecommender: URM Detected 51 (0.64 %) cold users.\n",
      "ItemKNNCFRecommender: URM Detected 1932 (7.44 %) cold items.\n",
      "Similarity column 25975 ( 100 % ), 2514.70 column/sec, elapsed time 0.17 min\n",
      "EvaluatorHoldout: Processed 5010 ( 100.00% ) in 6.40 sec. Users per second: 783\n",
      "ItemKNNCFRecommender: URM Detected 51 (0.64 %) cold users.\n",
      "ItemKNNCFRecommender: URM Detected 1932 (7.44 %) cold items.\n",
      "Similarity column 25975 ( 100 % ), 3356.00 column/sec, elapsed time 0.13 min\n",
      "EvaluatorHoldout: Processed 5010 ( 100.00% ) in 6.11 sec. Users per second: 820\n",
      "ItemKNNCFRecommender: URM Detected 51 (0.64 %) cold users.\n",
      "ItemKNNCFRecommender: URM Detected 1932 (7.44 %) cold items.\n",
      "Similarity column 25975 ( 100 % ), 3035.76 column/sec, elapsed time 0.14 min\n",
      "EvaluatorHoldout: Processed 5010 ( 100.00% ) in 6.04 sec. Users per second: 829\n",
      "ItemKNNCFRecommender: URM Detected 51 (0.64 %) cold users.\n",
      "ItemKNNCFRecommender: URM Detected 1932 (7.44 %) cold items.\n",
      "Similarity column 25975 ( 100 % ), 2798.74 column/sec, elapsed time 0.15 min\n",
      "EvaluatorHoldout: Processed 5010 ( 100.00% ) in 5.28 sec. Users per second: 949\n",
      "ItemKNNCFRecommender: URM Detected 51 (0.64 %) cold users.\n",
      "ItemKNNCFRecommender: URM Detected 1932 (7.44 %) cold items.\n",
      "Similarity column 25975 ( 100 % ), 4219.04 column/sec, elapsed time 0.10 min\n",
      "EvaluatorHoldout: Processed 5010 ( 100.00% ) in 4.90 sec. Users per second: 1023\n",
      "ItemKNNCFRecommender: URM Detected 51 (0.64 %) cold users.\n",
      "ItemKNNCFRecommender: URM Detected 1932 (7.44 %) cold items.\n",
      "Similarity column 25975 ( 100 % ), 4246.51 column/sec, elapsed time 0.10 min\n",
      "EvaluatorHoldout: Processed 5010 ( 100.00% ) in 4.48 sec. Users per second: 1118\n",
      "ItemKNNCFRecommender: URM Detected 51 (0.64 %) cold users.\n",
      "ItemKNNCFRecommender: URM Detected 1932 (7.44 %) cold items.\n",
      "Similarity column 25975 ( 100 % ), 4153.78 column/sec, elapsed time 0.10 min\n",
      "EvaluatorHoldout: Processed 5010 ( 100.00% ) in 4.45 sec. Users per second: 1127\n",
      "ItemKNNCFRecommender: URM Detected 51 (0.64 %) cold users.\n",
      "ItemKNNCFRecommender: URM Detected 1932 (7.44 %) cold items.\n",
      "Similarity column 25975 ( 100 % ), 4246.87 column/sec, elapsed time 0.10 min\n",
      "EvaluatorHoldout: Processed 5010 ( 100.00% ) in 4.57 sec. Users per second: 1095\n",
      "ItemKNNCFRecommender: URM Detected 51 (0.64 %) cold users.\n",
      "ItemKNNCFRecommender: URM Detected 1932 (7.44 %) cold items.\n",
      "Similarity column 25975 ( 100 % ), 4485.05 column/sec, elapsed time 0.10 min\n",
      "EvaluatorHoldout: Processed 5010 ( 100.00% ) in 4.77 sec. Users per second: 1050\n",
      "ItemKNNCFRecommender: URM Detected 51 (0.64 %) cold users.\n",
      "ItemKNNCFRecommender: URM Detected 1932 (7.44 %) cold items.\n",
      "Similarity column 25975 ( 100 % ), 4406.20 column/sec, elapsed time 0.10 min\n",
      "EvaluatorHoldout: Processed 5010 ( 100.00% ) in 4.32 sec. Users per second: 1160\n",
      "ItemKNNCFRecommender: URM Detected 51 (0.64 %) cold users.\n",
      "ItemKNNCFRecommender: URM Detected 1932 (7.44 %) cold items.\n",
      "Similarity column 25975 ( 100 % ), 4259.62 column/sec, elapsed time 0.10 min\n",
      "EvaluatorHoldout: Processed 5010 ( 100.00% ) in 4.50 sec. Users per second: 1115\n",
      "ItemKNNCFRecommender: URM Detected 51 (0.64 %) cold users.\n",
      "ItemKNNCFRecommender: URM Detected 1932 (7.44 %) cold items.\n",
      "Similarity column 25975 ( 100 % ), 4504.28 column/sec, elapsed time 0.10 min\n",
      "EvaluatorHoldout: Processed 5010 ( 100.00% ) in 4.84 sec. Users per second: 1034\n",
      "ItemKNNCFRecommender: URM Detected 51 (0.64 %) cold users.\n",
      "ItemKNNCFRecommender: URM Detected 1932 (7.44 %) cold items.\n",
      "Similarity column 25975 ( 100 % ), 4369.08 column/sec, elapsed time 0.10 min\n",
      "EvaluatorHoldout: Processed 5010 ( 100.00% ) in 4.61 sec. Users per second: 1087\n"
     ]
    }
   ],
   "source": [
    "x_tick = []\n",
    "collaborative_MAP = []\n",
    "\n",
    "for topK in [100,200,300,400, 500,520,550]:\n",
    "    for shrink in [0,50,100,150,200,250,300,400,500,600,700]:\n",
    "        \n",
    "        x_tick.append(\"topk {}, shrink {}\".format(topK, shrink))\n",
    "\n",
    "        \n",
    "        recommender = ItemKNNCFRecommender(URM_train)\n",
    "        recommender.fit(shrink=shrink, topK=topK, feature_weighting = \"TF-IDF\")\n",
    "    \n",
    "        result_dict, _ = evaluator_validation.evaluateRecommender(recommender)\n",
    "    \n",
    "        collaborative_MAP.append(result_dict[10][\"MAP\"])"
   ]
  },
  {
   "cell_type": "code",
   "execution_count": 20,
   "metadata": {},
   "outputs": [
    {
     "data": {
      "image/png": "[encoded data removed]",
      "text/plain": [
       "<Figure size 1080x864 with 1 Axes>"
      ]
     },
     "metadata": {
      "needs_background": "light"
     },
     "output_type": "display_data"
    }
   ],
   "source": [
    "#best model: topk = 500, shrink = 600, TF-IDF\n",
    "plt.figure(figsize=(15,12))\n",
    "plt.plot(x_tick, collaborative_MAP, label=\"Collaborative\", )\n",
    "plt.ylabel('MAP')\n",
    "plt.xlabel('TopK')\n",
    "plt.xticks(rotation='vertical')\n",
    "plt.show()"
   ]
  },
  {
   "cell_type": "code",
   "execution_count": 30,
   "metadata": {},
   "outputs": [
    {
     "data": {
      "text/html": [
       "<div>\n",
       "<style scoped>\n",
       "    .dataframe tbody tr th:only-of-type {\n",
       "        vertical-align: middle;\n",
       "    }\n",
       "\n",
       "    .dataframe tbody tr th {\n",
       "        vertical-align: top;\n",
       "    }\n",
       "\n",
       "    .dataframe thead th {\n",
       "        text-align: right;\n",
       "    }\n",
       "</style>\n",
       "<table border=\"1\" class=\"dataframe\">\n",
       "  <thead>\n",
       "    <tr style=\"text-align: right;\">\n",
       "      <th></th>\n",
       "      <th>user_id</th>\n",
       "    </tr>\n",
       "  </thead>\n",
       "  <tbody>\n",
       "    <tr>\n",
       "      <th>0</th>\n",
       "      <td>0</td>\n",
       "    </tr>\n",
       "    <tr>\n",
       "      <th>1</th>\n",
       "      <td>1</td>\n",
       "    </tr>\n",
       "    <tr>\n",
       "      <th>2</th>\n",
       "      <td>2</td>\n",
       "    </tr>\n",
       "    <tr>\n",
       "      <th>3</th>\n",
       "      <td>3</td>\n",
       "    </tr>\n",
       "    <tr>\n",
       "      <th>4</th>\n",
       "      <td>4</td>\n",
       "    </tr>\n",
       "    <tr>\n",
       "      <th>...</th>\n",
       "      <td>...</td>\n",
       "    </tr>\n",
       "    <tr>\n",
       "      <th>7939</th>\n",
       "      <td>7942</td>\n",
       "    </tr>\n",
       "    <tr>\n",
       "      <th>7940</th>\n",
       "      <td>7943</td>\n",
       "    </tr>\n",
       "    <tr>\n",
       "      <th>7941</th>\n",
       "      <td>7944</td>\n",
       "    </tr>\n",
       "    <tr>\n",
       "      <th>7942</th>\n",
       "      <td>7945</td>\n",
       "    </tr>\n",
       "    <tr>\n",
       "      <th>7943</th>\n",
       "      <td>7946</td>\n",
       "    </tr>\n",
       "  </tbody>\n",
       "</table>\n",
       "<p>7944 rows × 1 columns</p>\n",
       "</div>"
      ],
      "text/plain": [
       "      user_id\n",
       "0           0\n",
       "1           1\n",
       "2           2\n",
       "3           3\n",
       "4           4\n",
       "...       ...\n",
       "7939     7942\n",
       "7940     7943\n",
       "7941     7944\n",
       "7942     7945\n",
       "7943     7946\n",
       "\n",
       "[7944 rows x 1 columns]"
      ]
     },
     "execution_count": 30,
     "metadata": {},
     "output_type": "execute_result"
    }
   ],
   "source": [
    "test_users = pd.read_csv('data_target_users_test.csv')\n",
    "test_users"
   ]
  },
  {
   "cell_type": "code",
   "execution_count": 31,
   "metadata": {},
   "outputs": [
    {
     "name": "stdout",
     "output_type": "stream",
     "text": [
      "ItemKNNCFRecommender: URM Detected 1079 (4.15 %) cold items.\n",
      "Similarity column 25975 ( 100 % ), 5538.05 column/sec, elapsed time 0.08 min\n"
     ]
    }
   ],
   "source": [
    "recommender = ItemKNNCFRecommender(URM_all)\n",
    "recommender.fit(shrink=600, topK=500, feature_weighting = \"TF-IDF\")\n",
    "\n",
    "user_id = test_users['user_id']\n",
    "recommendations = recommender.recommend(user_id,cutoff = 10)\n"
   ]
  },
  {
   "cell_type": "code",
   "execution_count": 32,
   "metadata": {},
   "outputs": [
    {
     "name": "stdout",
     "output_type": "stream",
     "text": [
      "7944\n"
     ]
    }
   ],
   "source": [
    "for index in range(len(recommendations)):\n",
    "    #print(element)\n",
    "    recommendations[index]=np.array(recommendations[index])\n",
    "    #print(type(element))\n",
    "print(len(recommendations))"
   ]
  },
  {
   "cell_type": "code",
   "execution_count": 33,
   "metadata": {},
   "outputs": [],
   "source": [
    "test_users['item_list']= recommendations\n",
    "#test_users['item_list'] =  test_users['item_list'].apply(lambda x: x.replace('[','').replace(']','')) \n",
    "test_users['item_list'] = pd.DataFrame([str(line).strip('[').strip(']').replace(\"'\",\"\") for line in test_users['item_list']])\n",
    "\n",
    "#convert the string columns to int\n",
    "#test_users['item_list'] = test_users['item_list'].astype(int)\n",
    "test_users\n",
    "test_users.to_csv('submission.csv', index=False)\n"
   ]
  },
  {
   "cell_type": "code",
   "execution_count": null,
   "metadata": {},
   "outputs": [],
   "source": []
  }
 ],
 "metadata": {
  "kernelspec": {
   "display_name": "Python 3",
   "language": "python",
   "name": "python3"
  },
  "language_info": {
   "codemirror_mode": {
    "name": "ipython",
    "version": 3
   },
   "file_extension": ".py",
   "mimetype": "text/x-python",
   "name": "python",
   "nbconvert_exporter": "python",
   "pygments_lexer": "ipython3",
   "version": "3.8.5"
  }
 },
 "nbformat": 4,
 "nbformat_minor": 4
}
