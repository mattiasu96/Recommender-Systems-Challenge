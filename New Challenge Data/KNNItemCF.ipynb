{
 "cells": [
  {
   "cell_type": "markdown",
   "metadata": {},
   "source": [
    "# Data loading \n",
    "Next cells are used to load the data we need."
   ]
  },
  {
   "cell_type": "code",
   "execution_count": 1,
   "metadata": {},
   "outputs": [],
   "source": [
    "import pandas as pd\n",
    "import numpy as np \n",
    "import scipy.sparse as sps\n",
    "import os\n",
    "import sys\n",
    "import matplotlib.pyplot as plt\n",
    "sys.path.append('..')\n"
   ]
  },
  {
   "cell_type": "code",
   "execution_count": 2,
   "metadata": {},
   "outputs": [
    {
     "data": {
      "text/html": [
       "<div>\n",
       "<style scoped>\n",
       "    .dataframe tbody tr th:only-of-type {\n",
       "        vertical-align: middle;\n",
       "    }\n",
       "\n",
       "    .dataframe tbody tr th {\n",
       "        vertical-align: top;\n",
       "    }\n",
       "\n",
       "    .dataframe thead th {\n",
       "        text-align: right;\n",
       "    }\n",
       "</style>\n",
       "<table border=\"1\" class=\"dataframe\">\n",
       "  <thead>\n",
       "    <tr style=\"text-align: right;\">\n",
       "      <th></th>\n",
       "      <th>row</th>\n",
       "      <th>col</th>\n",
       "      <th>data</th>\n",
       "    </tr>\n",
       "  </thead>\n",
       "  <tbody>\n",
       "    <tr>\n",
       "      <th>0</th>\n",
       "      <td>0</td>\n",
       "      <td>10080</td>\n",
       "      <td>1.0</td>\n",
       "    </tr>\n",
       "    <tr>\n",
       "      <th>1</th>\n",
       "      <td>0</td>\n",
       "      <td>19467</td>\n",
       "      <td>1.0</td>\n",
       "    </tr>\n",
       "    <tr>\n",
       "      <th>2</th>\n",
       "      <td>1</td>\n",
       "      <td>2665</td>\n",
       "      <td>1.0</td>\n",
       "    </tr>\n",
       "    <tr>\n",
       "      <th>3</th>\n",
       "      <td>1</td>\n",
       "      <td>7494</td>\n",
       "      <td>1.0</td>\n",
       "    </tr>\n",
       "    <tr>\n",
       "      <th>4</th>\n",
       "      <td>1</td>\n",
       "      <td>17068</td>\n",
       "      <td>1.0</td>\n",
       "    </tr>\n",
       "    <tr>\n",
       "      <th>...</th>\n",
       "      <td>...</td>\n",
       "      <td>...</td>\n",
       "      <td>...</td>\n",
       "    </tr>\n",
       "    <tr>\n",
       "      <th>113263</th>\n",
       "      <td>7945</td>\n",
       "      <td>2476</td>\n",
       "      <td>1.0</td>\n",
       "    </tr>\n",
       "    <tr>\n",
       "      <th>113264</th>\n",
       "      <td>7945</td>\n",
       "      <td>12319</td>\n",
       "      <td>1.0</td>\n",
       "    </tr>\n",
       "    <tr>\n",
       "      <th>113265</th>\n",
       "      <td>7945</td>\n",
       "      <td>21384</td>\n",
       "      <td>1.0</td>\n",
       "    </tr>\n",
       "    <tr>\n",
       "      <th>113266</th>\n",
       "      <td>7946</td>\n",
       "      <td>8699</td>\n",
       "      <td>1.0</td>\n",
       "    </tr>\n",
       "    <tr>\n",
       "      <th>113267</th>\n",
       "      <td>7946</td>\n",
       "      <td>19178</td>\n",
       "      <td>1.0</td>\n",
       "    </tr>\n",
       "  </tbody>\n",
       "</table>\n",
       "<p>113268 rows × 3 columns</p>\n",
       "</div>"
      ],
      "text/plain": [
       "         row    col  data\n",
       "0          0  10080   1.0\n",
       "1          0  19467   1.0\n",
       "2          1   2665   1.0\n",
       "3          1   7494   1.0\n",
       "4          1  17068   1.0\n",
       "...      ...    ...   ...\n",
       "113263  7945   2476   1.0\n",
       "113264  7945  12319   1.0\n",
       "113265  7945  21384   1.0\n",
       "113266  7946   8699   1.0\n",
       "113267  7946  19178   1.0\n",
       "\n",
       "[113268 rows x 3 columns]"
      ]
     },
     "execution_count": 2,
     "metadata": {},
     "output_type": "execute_result"
    }
   ],
   "source": [
    "#data which contains users (row), items(col) and implicit interaction (data)\n",
    "dataset = pd.read_csv('data_train.csv')\n",
    "dataset"
   ]
  },
  {
   "cell_type": "markdown",
   "metadata": {},
   "source": [
    "# Data pre-processing\n",
    "Pre-processing of data to check for missing users, items ecc..."
   ]
  },
  {
   "cell_type": "code",
   "execution_count": 3,
   "metadata": {},
   "outputs": [
    {
     "name": "stdout",
     "output_type": "stream",
     "text": [
      "users stats: 7947 0 7946\n",
      "items stats: 24896 0 25974\n"
     ]
    }
   ],
   "source": [
    "unique_users, min_users, max_users = len(dataset.row.unique()), dataset.row.min(), dataset.row.max()\n",
    "unique_items, min_items, max_items = len(dataset.col.unique()), dataset.col.min(), dataset.col.max()\n",
    "print('users stats:',unique_users, min_users, max_users)\n",
    "print('items stats:',unique_items, min_items, max_items)"
   ]
  },
  {
   "cell_type": "markdown",
   "metadata": {},
   "source": [
    "If the difference between the unique elements and the max/min ones is really big, it's better to remap users and items in a new dataframe. In this case, it seems I can leave it as it is"
   ]
  },
  {
   "cell_type": "code",
   "execution_count": 4,
   "metadata": {},
   "outputs": [
    {
     "data": {
      "text/plain": [
       "(7947, 25975)"
      ]
     },
     "execution_count": 4,
     "metadata": {},
     "output_type": "execute_result"
    }
   ],
   "source": [
    "users = dataset.row\n",
    "items = dataset.col\n",
    "data = dataset.data\n",
    "URM_all = sps.coo_matrix((data, (users, items)))\n",
    "URM_all = URM_all.tocsr() #fast row access -> fast access to users \n",
    "URM_all.shape"
   ]
  },
  {
   "cell_type": "markdown",
   "metadata": {},
   "source": [
    "CSR basically has a pointer to the exact beginning of every possible row. For example if i have <code>matrix.inptr = [0,1,2,4,6] </code> this means that at <code>matrix.inptr[n]</code> I have my n row which \"last\" until the next cell in the array. <br> In this case (for example) my third row goes from 2 to 4. <br>\n",
    "\n",
    "What do I do with it? <br>\n",
    "\n",
    "I use this index (2 to 4) to access the other two arrays of the crs format: <code>indices</code> and <code>data</code>.\n",
    "<code>indices</code> gives me the column index and <code>data</code> gives me the actual data to take"
   ]
  },
  {
   "cell_type": "code",
   "execution_count": 5,
   "metadata": {},
   "outputs": [],
   "source": [
    "items_per_user = np.ediff1d(URM_all.indptr) #tells in which position each of the rows begin\n",
    "users_per_item = np.ediff1d(sps.csc_matrix(URM_all).indptr)\n",
    "URM_all = sps.csr_matrix(URM_all)"
   ]
  },
  {
   "cell_type": "code",
   "execution_count": 6,
   "metadata": {},
   "outputs": [],
   "source": [
    "items_per_user = np.sort(items_per_user) #sorting based on the single value. Losing reference to the user. \n",
    "users_per_item = np.sort(users_per_item)"
   ]
  },
  {
   "cell_type": "markdown",
   "metadata": {},
   "source": [
    "The following 2 graphs plots the <code>items_per_user</code> and the <code>users_per_item</code>. It shows that slightly more than 2500 users and 2500 items have a 0 count. This is coherent with the original data we got: 30910-27255 for users and 18494-15277 for items. These differences are the missing users/items in the dataset (Basically users/items that have no interaction at all)"
   ]
  },
  {
   "cell_type": "code",
   "execution_count": 7,
   "metadata": {},
   "outputs": [
    {
     "data": {
      "text/plain": [
       "[<matplotlib.lines.Line2D at 0x28e906e9fa0>]"
      ]
     },
     "execution_count": 7,
     "metadata": {},
     "output_type": "execute_result"
    },
    {
     "data": {
      "image/png": "[encoded data removed]",
      "text/plain": [
       "<Figure size 1080x864 with 1 Axes>"
      ]
     },
     "metadata": {
      "needs_background": "light"
     },
     "output_type": "display_data"
    }
   ],
   "source": [
    "plt.figure(figsize=(15,12))\n",
    "plt.plot(items_per_user, 'ro') #biased dataset, but not so much compared with the one seen at lessons "
   ]
  },
  {
   "cell_type": "code",
   "execution_count": 8,
   "metadata": {},
   "outputs": [
    {
     "data": {
      "text/plain": [
       "[<matplotlib.lines.Line2D at 0x28e91032e20>]"
      ]
     },
     "execution_count": 8,
     "metadata": {},
     "output_type": "execute_result"
    },
    {
     "data": {
      "image/png": "[encoded data removed]",
      "text/plain": [
       "<Figure size 1080x864 with 1 Axes>"
      ]
     },
     "metadata": {
      "needs_background": "light"
     },
     "output_type": "display_data"
    }
   ],
   "source": [
    "plt.figure(figsize=(15,12))\n",
    "plt.plot(users_per_item, 'ro') #biased dataset, but not so much compared with the one seen at lessons "
   ]
  },
  {
   "cell_type": "code",
   "execution_count": 9,
   "metadata": {},
   "outputs": [
    {
     "name": "stdout",
     "output_type": "stream",
     "text": [
      "Warning: 37 (0.47 %) of 7947 users have no train items\n",
      "Warning: 2925 (36.81 %) of 7947 users have no sampled items\n"
     ]
    }
   ],
   "source": [
    "from Base.Evaluation.Evaluator import EvaluatorHoldout\n",
    "from Data_manager.split_functions.split_train_validation_random_holdout import split_train_in_two_percentage_global_sample\n",
    "\n",
    "#splitting data into train and test. In teoria non serve, da vedere\n",
    "#URM_train, URM_test = split_train_in_two_percentage_global_sample(URM_all, train_percentage = 0.85)\n",
    "\n",
    "#splitting data into train and validation (from the previous training data)\n",
    "URM_train, URM_validation = split_train_in_two_percentage_global_sample(URM_all, train_percentage = 0.85)\n",
    "\n"
   ]
  },
  {
   "cell_type": "code",
   "execution_count": 10,
   "metadata": {},
   "outputs": [],
   "source": [
    "#evaluator for validation (used for hyperparameter tuning)\n",
    "evaluator_validation = EvaluatorHoldout(URM_validation, cutoff_list=[10])\n",
    "\n",
    "#evaluator for testing (the final one)\n",
    "#evaluator_test = EvaluatorHoldout(URM_test, cutoff_list=[10])"
   ]
  },
  {
   "cell_type": "code",
   "execution_count": 12,
   "metadata": {},
   "outputs": [
    {
     "name": "stdout",
     "output_type": "stream",
     "text": [
      "ItemKNNCFRecommender: URM Detected 37 (0.47 %) cold users.\n",
      "ItemKNNCFRecommender: URM Detected 1992 (7.67 %) cold items.\n"
     ]
    }
   ],
   "source": [
    "from KNN.ItemKNNCFRecommender import ItemKNNCFRecommender\n",
    "\n",
    "recommender = ItemKNNCFRecommender(URM_train)"
   ]
  },
  {
   "cell_type": "code",
   "execution_count": 27,
   "metadata": {},
   "outputs": [
    {
     "name": "stdout",
     "output_type": "stream",
     "text": [
      "ItemKNNCFRecommender: URM Detected 37 (0.47 %) cold users.\n",
      "ItemKNNCFRecommender: URM Detected 1992 (7.67 %) cold items.\n",
      "Similarity column 25975 ( 100 % ), 6005.57 column/sec, elapsed time 0.07 min\n",
      "EvaluatorHoldout: Processed 5022 ( 100.00% ) in 3.24 sec. Users per second: 1548\n",
      "ItemKNNCFRecommender: URM Detected 37 (0.47 %) cold users.\n",
      "ItemKNNCFRecommender: URM Detected 1992 (7.67 %) cold items.\n",
      "Similarity column 25975 ( 100 % ), 6214.65 column/sec, elapsed time 0.07 min\n",
      "EvaluatorHoldout: Processed 5022 ( 100.00% ) in 3.20 sec. Users per second: 1570\n",
      "ItemKNNCFRecommender: URM Detected 37 (0.47 %) cold users.\n",
      "ItemKNNCFRecommender: URM Detected 1992 (7.67 %) cold items.\n",
      "Similarity column 25975 ( 100 % ), 6103.82 column/sec, elapsed time 0.07 min\n",
      "EvaluatorHoldout: Processed 5022 ( 100.00% ) in 3.26 sec. Users per second: 1539\n",
      "ItemKNNCFRecommender: URM Detected 37 (0.47 %) cold users.\n",
      "ItemKNNCFRecommender: URM Detected 1992 (7.67 %) cold items.\n",
      "Similarity column 25975 ( 100 % ), 6258.12 column/sec, elapsed time 0.07 min\n",
      "EvaluatorHoldout: Processed 5022 ( 100.00% ) in 3.23 sec. Users per second: 1556\n",
      "ItemKNNCFRecommender: URM Detected 37 (0.47 %) cold users.\n",
      "ItemKNNCFRecommender: URM Detected 1992 (7.67 %) cold items.\n",
      "Similarity column 25975 ( 100 % ), 6094.24 column/sec, elapsed time 0.07 min\n",
      "EvaluatorHoldout: Processed 5022 ( 100.00% ) in 3.25 sec. Users per second: 1547\n",
      "ItemKNNCFRecommender: URM Detected 37 (0.47 %) cold users.\n",
      "ItemKNNCFRecommender: URM Detected 1992 (7.67 %) cold items.\n",
      "Similarity column 25975 ( 100 % ), 6252.07 column/sec, elapsed time 0.07 min\n",
      "EvaluatorHoldout: Processed 5022 ( 100.00% ) in 3.24 sec. Users per second: 1548\n",
      "ItemKNNCFRecommender: URM Detected 37 (0.47 %) cold users.\n",
      "ItemKNNCFRecommender: URM Detected 1992 (7.67 %) cold items.\n",
      "Similarity column 25975 ( 100 % ), 6028.76 column/sec, elapsed time 0.07 min\n",
      "EvaluatorHoldout: Processed 5022 ( 100.00% ) in 3.23 sec. Users per second: 1556\n",
      "ItemKNNCFRecommender: URM Detected 37 (0.47 %) cold users.\n",
      "ItemKNNCFRecommender: URM Detected 1992 (7.67 %) cold items.\n",
      "Similarity column 25975 ( 100 % ), 6198.40 column/sec, elapsed time 0.07 min\n",
      "EvaluatorHoldout: Processed 5022 ( 100.00% ) in 3.27 sec. Users per second: 1534\n",
      "ItemKNNCFRecommender: URM Detected 37 (0.47 %) cold users.\n",
      "ItemKNNCFRecommender: URM Detected 1992 (7.67 %) cold items.\n",
      "Similarity column 25975 ( 100 % ), 6207.29 column/sec, elapsed time 0.07 min\n",
      "EvaluatorHoldout: Processed 5022 ( 100.00% ) in 3.29 sec. Users per second: 1525\n",
      "ItemKNNCFRecommender: URM Detected 37 (0.47 %) cold users.\n",
      "ItemKNNCFRecommender: URM Detected 1992 (7.67 %) cold items.\n",
      "Similarity column 25975 ( 100 % ), 6179.17 column/sec, elapsed time 0.07 min\n",
      "EvaluatorHoldout: Processed 5022 ( 100.00% ) in 3.28 sec. Users per second: 1531\n",
      "ItemKNNCFRecommender: URM Detected 37 (0.47 %) cold users.\n",
      "ItemKNNCFRecommender: URM Detected 1992 (7.67 %) cold items.\n",
      "Similarity column 25975 ( 100 % ), 6213.24 column/sec, elapsed time 0.07 min\n",
      "EvaluatorHoldout: Processed 5022 ( 100.00% ) in 3.49 sec. Users per second: 1439\n",
      "ItemKNNCFRecommender: URM Detected 37 (0.47 %) cold users.\n",
      "ItemKNNCFRecommender: URM Detected 1992 (7.67 %) cold items.\n",
      "Similarity column 25975 ( 100 % ), 6121.05 column/sec, elapsed time 0.07 min\n",
      "EvaluatorHoldout: Processed 5022 ( 100.00% ) in 3.28 sec. Users per second: 1533\n",
      "ItemKNNCFRecommender: URM Detected 37 (0.47 %) cold users.\n",
      "ItemKNNCFRecommender: URM Detected 1992 (7.67 %) cold items.\n",
      "Similarity column 25975 ( 100 % ), 6069.58 column/sec, elapsed time 0.07 min\n",
      "EvaluatorHoldout: Processed 5022 ( 100.00% ) in 3.41 sec. Users per second: 1475\n",
      "ItemKNNCFRecommender: URM Detected 37 (0.47 %) cold users.\n",
      "ItemKNNCFRecommender: URM Detected 1992 (7.67 %) cold items.\n",
      "Similarity column 25975 ( 100 % ), 6024.56 column/sec, elapsed time 0.07 min\n",
      "EvaluatorHoldout: Processed 5022 ( 100.00% ) in 3.38 sec. Users per second: 1486\n",
      "ItemKNNCFRecommender: URM Detected 37 (0.47 %) cold users.\n",
      "ItemKNNCFRecommender: URM Detected 1992 (7.67 %) cold items.\n",
      "Similarity column 25975 ( 100 % ), 6095.21 column/sec, elapsed time 0.07 min\n",
      "EvaluatorHoldout: Processed 5022 ( 100.00% ) in 3.50 sec. Users per second: 1437\n",
      "ItemKNNCFRecommender: URM Detected 37 (0.47 %) cold users.\n",
      "ItemKNNCFRecommender: URM Detected 1992 (7.67 %) cold items.\n",
      "Similarity column 25975 ( 100 % ), 6126.80 column/sec, elapsed time 0.07 min\n",
      "EvaluatorHoldout: Processed 5022 ( 100.00% ) in 3.34 sec. Users per second: 1504\n",
      "ItemKNNCFRecommender: URM Detected 37 (0.47 %) cold users.\n",
      "ItemKNNCFRecommender: URM Detected 1992 (7.67 %) cold items.\n",
      "Similarity column 25975 ( 100 % ), 6080.95 column/sec, elapsed time 0.07 min\n",
      "EvaluatorHoldout: Processed 5022 ( 100.00% ) in 3.41 sec. Users per second: 1475\n",
      "ItemKNNCFRecommender: URM Detected 37 (0.47 %) cold users.\n",
      "ItemKNNCFRecommender: URM Detected 1992 (7.67 %) cold items.\n",
      "Similarity column 25975 ( 100 % ), 6090.90 column/sec, elapsed time 0.07 min\n",
      "EvaluatorHoldout: Processed 5022 ( 100.00% ) in 3.42 sec. Users per second: 1470\n",
      "ItemKNNCFRecommender: URM Detected 37 (0.47 %) cold users.\n",
      "ItemKNNCFRecommender: URM Detected 1992 (7.67 %) cold items.\n",
      "Similarity column 25975 ( 100 % ), 6102.36 column/sec, elapsed time 0.07 min\n",
      "EvaluatorHoldout: Processed 5022 ( 100.00% ) in 3.59 sec. Users per second: 1399\n",
      "ItemKNNCFRecommender: URM Detected 37 (0.47 %) cold users.\n",
      "ItemKNNCFRecommender: URM Detected 1992 (7.67 %) cold items.\n",
      "Similarity column 25975 ( 100 % ), 6088.09 column/sec, elapsed time 0.07 min\n",
      "EvaluatorHoldout: Processed 5022 ( 100.00% ) in 3.40 sec. Users per second: 1476\n",
      "ItemKNNCFRecommender: URM Detected 37 (0.47 %) cold users.\n",
      "ItemKNNCFRecommender: URM Detected 1992 (7.67 %) cold items.\n",
      "Similarity column 25975 ( 100 % ), 6122.47 column/sec, elapsed time 0.07 min\n",
      "EvaluatorHoldout: Processed 5022 ( 100.00% ) in 3.42 sec. Users per second: 1468\n",
      "ItemKNNCFRecommender: URM Detected 37 (0.47 %) cold users.\n",
      "ItemKNNCFRecommender: URM Detected 1992 (7.67 %) cold items.\n",
      "Similarity column 25975 ( 100 % ), 6048.40 column/sec, elapsed time 0.07 min\n",
      "EvaluatorHoldout: Processed 5022 ( 100.00% ) in 3.39 sec. Users per second: 1480\n",
      "ItemKNNCFRecommender: URM Detected 37 (0.47 %) cold users.\n",
      "ItemKNNCFRecommender: URM Detected 1992 (7.67 %) cold items.\n",
      "Similarity column 25975 ( 100 % ), 6036.98 column/sec, elapsed time 0.07 min\n",
      "EvaluatorHoldout: Processed 5022 ( 100.00% ) in 3.58 sec. Users per second: 1404\n",
      "ItemKNNCFRecommender: URM Detected 37 (0.47 %) cold users.\n",
      "ItemKNNCFRecommender: URM Detected 1992 (7.67 %) cold items.\n",
      "Similarity column 25975 ( 100 % ), 5885.39 column/sec, elapsed time 0.07 min\n",
      "EvaluatorHoldout: Processed 5022 ( 100.00% ) in 3.46 sec. Users per second: 1453\n",
      "ItemKNNCFRecommender: URM Detected 37 (0.47 %) cold users.\n",
      "ItemKNNCFRecommender: URM Detected 1992 (7.67 %) cold items.\n",
      "Similarity column 25975 ( 100 % ), 5971.95 column/sec, elapsed time 0.07 min\n",
      "EvaluatorHoldout: Processed 5022 ( 100.00% ) in 3.45 sec. Users per second: 1456\n",
      "ItemKNNCFRecommender: URM Detected 37 (0.47 %) cold users.\n",
      "ItemKNNCFRecommender: URM Detected 1992 (7.67 %) cold items.\n",
      "Similarity column 25975 ( 100 % ), 5913.53 column/sec, elapsed time 0.07 min\n",
      "EvaluatorHoldout: Processed 5022 ( 100.00% ) in 3.47 sec. Users per second: 1445\n",
      "ItemKNNCFRecommender: URM Detected 37 (0.47 %) cold users.\n",
      "ItemKNNCFRecommender: URM Detected 1992 (7.67 %) cold items.\n",
      "Similarity column 25975 ( 100 % ), 5981.58 column/sec, elapsed time 0.07 min\n",
      "EvaluatorHoldout: Processed 5022 ( 100.00% ) in 3.53 sec. Users per second: 1423\n",
      "ItemKNNCFRecommender: URM Detected 37 (0.47 %) cold users.\n",
      "ItemKNNCFRecommender: URM Detected 1992 (7.67 %) cold items.\n",
      "Similarity column 25975 ( 100 % ), 5935.44 column/sec, elapsed time 0.07 min\n",
      "EvaluatorHoldout: Processed 5022 ( 100.00% ) in 3.50 sec. Users per second: 1436\n",
      "ItemKNNCFRecommender: URM Detected 37 (0.47 %) cold users.\n",
      "ItemKNNCFRecommender: URM Detected 1992 (7.67 %) cold items.\n",
      "Similarity column 25975 ( 100 % ), 6007.85 column/sec, elapsed time 0.07 min\n",
      "EvaluatorHoldout: Processed 5022 ( 100.00% ) in 3.67 sec. Users per second: 1370\n",
      "ItemKNNCFRecommender: URM Detected 37 (0.47 %) cold users.\n",
      "ItemKNNCFRecommender: URM Detected 1992 (7.67 %) cold items.\n",
      "Similarity column 25975 ( 100 % ), 5966.45 column/sec, elapsed time 0.07 min\n"
     ]
    },
    {
     "name": "stdout",
     "output_type": "stream",
     "text": [
      "EvaluatorHoldout: Processed 5022 ( 100.00% ) in 3.52 sec. Users per second: 1428\n",
      "ItemKNNCFRecommender: URM Detected 37 (0.47 %) cold users.\n",
      "ItemKNNCFRecommender: URM Detected 1992 (7.67 %) cold items.\n",
      "Similarity column 25975 ( 100 % ), 5967.84 column/sec, elapsed time 0.07 min\n",
      "EvaluatorHoldout: Processed 5022 ( 100.00% ) in 3.67 sec. Users per second: 1368\n",
      "ItemKNNCFRecommender: URM Detected 37 (0.47 %) cold users.\n",
      "ItemKNNCFRecommender: URM Detected 1992 (7.67 %) cold items.\n",
      "Similarity column 25975 ( 100 % ), 5201.13 column/sec, elapsed time 0.08 min\n",
      "EvaluatorHoldout: Processed 5022 ( 100.00% ) in 3.54 sec. Users per second: 1420\n",
      "ItemKNNCFRecommender: URM Detected 37 (0.47 %) cold users.\n",
      "ItemKNNCFRecommender: URM Detected 1992 (7.67 %) cold items.\n",
      "Similarity column 25975 ( 100 % ), 5656.84 column/sec, elapsed time 0.08 min\n",
      "EvaluatorHoldout: Processed 5022 ( 100.00% ) in 3.58 sec. Users per second: 1402\n",
      "ItemKNNCFRecommender: URM Detected 37 (0.47 %) cold users.\n",
      "ItemKNNCFRecommender: URM Detected 1992 (7.67 %) cold items.\n",
      "Similarity column 25975 ( 100 % ), 5636.51 column/sec, elapsed time 0.08 min\n",
      "EvaluatorHoldout: Processed 5022 ( 100.00% ) in 3.49 sec. Users per second: 1438\n",
      "ItemKNNCFRecommender: URM Detected 37 (0.47 %) cold users.\n",
      "ItemKNNCFRecommender: URM Detected 1992 (7.67 %) cold items.\n",
      "Similarity column 25975 ( 100 % ), 5895.04 column/sec, elapsed time 0.07 min\n",
      "EvaluatorHoldout: Processed 5022 ( 100.00% ) in 3.58 sec. Users per second: 1401\n",
      "ItemKNNCFRecommender: URM Detected 37 (0.47 %) cold users.\n",
      "ItemKNNCFRecommender: URM Detected 1992 (7.67 %) cold items.\n",
      "Similarity column 25975 ( 100 % ), 5952.81 column/sec, elapsed time 0.07 min\n",
      "EvaluatorHoldout: Processed 5022 ( 100.00% ) in 3.59 sec. Users per second: 1400\n",
      "ItemKNNCFRecommender: URM Detected 37 (0.47 %) cold users.\n",
      "ItemKNNCFRecommender: URM Detected 1992 (7.67 %) cold items.\n",
      "Similarity column 25975 ( 100 % ), 5480.80 column/sec, elapsed time 0.08 min\n",
      "EvaluatorHoldout: Processed 5022 ( 100.00% ) in 3.57 sec. Users per second: 1408\n",
      "ItemKNNCFRecommender: URM Detected 37 (0.47 %) cold users.\n",
      "ItemKNNCFRecommender: URM Detected 1992 (7.67 %) cold items.\n",
      "Similarity column 25975 ( 100 % ), 5869.44 column/sec, elapsed time 0.07 min\n",
      "EvaluatorHoldout: Processed 5022 ( 100.00% ) in 3.56 sec. Users per second: 1412\n",
      "ItemKNNCFRecommender: URM Detected 37 (0.47 %) cold users.\n",
      "ItemKNNCFRecommender: URM Detected 1992 (7.67 %) cold items.\n",
      "Similarity column 25975 ( 100 % ), 5770.42 column/sec, elapsed time 0.08 min\n",
      "EvaluatorHoldout: Processed 5022 ( 100.00% ) in 3.57 sec. Users per second: 1406\n",
      "ItemKNNCFRecommender: URM Detected 37 (0.47 %) cold users.\n",
      "ItemKNNCFRecommender: URM Detected 1992 (7.67 %) cold items.\n",
      "Similarity column 25975 ( 100 % ), 5892.98 column/sec, elapsed time 0.07 min\n",
      "EvaluatorHoldout: Processed 5022 ( 100.00% ) in 3.55 sec. Users per second: 1413\n",
      "ItemKNNCFRecommender: URM Detected 37 (0.47 %) cold users.\n",
      "ItemKNNCFRecommender: URM Detected 1992 (7.67 %) cold items.\n",
      "Similarity column 25975 ( 100 % ), 5796.16 column/sec, elapsed time 0.07 min\n",
      "EvaluatorHoldout: Processed 5022 ( 100.00% ) in 3.57 sec. Users per second: 1408\n",
      "ItemKNNCFRecommender: URM Detected 37 (0.47 %) cold users.\n",
      "ItemKNNCFRecommender: URM Detected 1992 (7.67 %) cold items.\n",
      "Similarity column 25975 ( 100 % ), 5860.19 column/sec, elapsed time 0.07 min\n",
      "EvaluatorHoldout: Processed 5022 ( 100.00% ) in 3.67 sec. Users per second: 1368\n",
      "ItemKNNCFRecommender: URM Detected 37 (0.47 %) cold users.\n",
      "ItemKNNCFRecommender: URM Detected 1992 (7.67 %) cold items.\n",
      "Similarity column 25975 ( 100 % ), 5664.77 column/sec, elapsed time 0.08 min\n",
      "EvaluatorHoldout: Processed 5022 ( 100.00% ) in 3.60 sec. Users per second: 1396\n",
      "ItemKNNCFRecommender: URM Detected 37 (0.47 %) cold users.\n",
      "ItemKNNCFRecommender: URM Detected 1992 (7.67 %) cold items.\n",
      "Similarity column 25975 ( 100 % ), 5794.86 column/sec, elapsed time 0.07 min\n",
      "EvaluatorHoldout: Processed 5022 ( 100.00% ) in 3.56 sec. Users per second: 1412\n",
      "ItemKNNCFRecommender: URM Detected 37 (0.47 %) cold users.\n",
      "ItemKNNCFRecommender: URM Detected 1992 (7.67 %) cold items.\n",
      "Similarity column 25975 ( 100 % ), 5577.67 column/sec, elapsed time 0.08 min\n",
      "EvaluatorHoldout: Processed 5022 ( 100.00% ) in 3.53 sec. Users per second: 1423\n",
      "ItemKNNCFRecommender: URM Detected 37 (0.47 %) cold users.\n",
      "ItemKNNCFRecommender: URM Detected 1992 (7.67 %) cold items.\n",
      "Similarity column 25975 ( 100 % ), 5767.86 column/sec, elapsed time 0.08 min\n",
      "EvaluatorHoldout: Processed 5022 ( 100.00% ) in 3.56 sec. Users per second: 1410\n",
      "ItemKNNCFRecommender: URM Detected 37 (0.47 %) cold users.\n",
      "ItemKNNCFRecommender: URM Detected 1992 (7.67 %) cold items.\n",
      "Similarity column 25975 ( 100 % ), 5508.17 column/sec, elapsed time 0.08 min\n",
      "EvaluatorHoldout: Processed 5022 ( 100.00% ) in 3.59 sec. Users per second: 1399\n",
      "ItemKNNCFRecommender: URM Detected 37 (0.47 %) cold users.\n",
      "ItemKNNCFRecommender: URM Detected 1992 (7.67 %) cold items.\n",
      "Similarity column 25975 ( 100 % ), 5572.47 column/sec, elapsed time 0.08 min\n",
      "EvaluatorHoldout: Processed 5022 ( 100.00% ) in 3.58 sec. Users per second: 1402\n",
      "ItemKNNCFRecommender: URM Detected 37 (0.47 %) cold users.\n",
      "ItemKNNCFRecommender: URM Detected 1992 (7.67 %) cold items.\n",
      "Similarity column 25975 ( 100 % ), 5648.76 column/sec, elapsed time 0.08 min\n",
      "EvaluatorHoldout: Processed 5022 ( 100.00% ) in 3.69 sec. Users per second: 1362\n",
      "ItemKNNCFRecommender: URM Detected 37 (0.47 %) cold users.\n",
      "ItemKNNCFRecommender: URM Detected 1992 (7.67 %) cold items.\n",
      "Similarity column 25975 ( 100 % ), 5811.72 column/sec, elapsed time 0.07 min\n",
      "EvaluatorHoldout: Processed 5022 ( 100.00% ) in 3.63 sec. Users per second: 1383\n",
      "ItemKNNCFRecommender: URM Detected 37 (0.47 %) cold users.\n",
      "ItemKNNCFRecommender: URM Detected 1992 (7.67 %) cold items.\n",
      "Similarity column 25975 ( 100 % ), 5470.40 column/sec, elapsed time 0.08 min\n",
      "EvaluatorHoldout: Processed 5022 ( 100.00% ) in 3.59 sec. Users per second: 1400\n",
      "ItemKNNCFRecommender: URM Detected 37 (0.47 %) cold users.\n",
      "ItemKNNCFRecommender: URM Detected 1992 (7.67 %) cold items.\n",
      "Similarity column 25975 ( 100 % ), 5802.91 column/sec, elapsed time 0.07 min\n",
      "EvaluatorHoldout: Processed 5022 ( 100.00% ) in 3.68 sec. Users per second: 1365\n",
      "ItemKNNCFRecommender: URM Detected 37 (0.47 %) cold users.\n",
      "ItemKNNCFRecommender: URM Detected 1992 (7.67 %) cold items.\n",
      "Similarity column 25975 ( 100 % ), 5767.86 column/sec, elapsed time 0.08 min\n",
      "EvaluatorHoldout: Processed 5022 ( 100.00% ) in 3.61 sec. Users per second: 1392\n",
      "ItemKNNCFRecommender: URM Detected 37 (0.47 %) cold users.\n",
      "ItemKNNCFRecommender: URM Detected 1992 (7.67 %) cold items.\n",
      "Similarity column 25975 ( 100 % ), 5749.74 column/sec, elapsed time 0.08 min\n",
      "EvaluatorHoldout: Processed 5022 ( 100.00% ) in 3.76 sec. Users per second: 1335\n",
      "ItemKNNCFRecommender: URM Detected 37 (0.47 %) cold users.\n",
      "ItemKNNCFRecommender: URM Detected 1992 (7.67 %) cold items.\n",
      "Similarity column 25975 ( 100 % ), 5725.93 column/sec, elapsed time 0.08 min\n",
      "EvaluatorHoldout: Processed 5022 ( 100.00% ) in 3.62 sec. Users per second: 1388\n",
      "ItemKNNCFRecommender: URM Detected 37 (0.47 %) cold users.\n",
      "ItemKNNCFRecommender: URM Detected 1992 (7.67 %) cold items.\n",
      "Similarity column 25975 ( 100 % ), 5736.04 column/sec, elapsed time 0.08 min\n",
      "EvaluatorHoldout: Processed 5022 ( 100.00% ) in 3.73 sec. Users per second: 1348\n",
      "ItemKNNCFRecommender: URM Detected 37 (0.47 %) cold users.\n",
      "ItemKNNCFRecommender: URM Detected 1992 (7.67 %) cold items.\n",
      "Similarity column 25975 ( 100 % ), 5853.61 column/sec, elapsed time 0.07 min\n",
      "EvaluatorHoldout: Processed 5022 ( 100.00% ) in 3.52 sec. Users per second: 1425\n",
      "ItemKNNCFRecommender: URM Detected 37 (0.47 %) cold users.\n",
      "ItemKNNCFRecommender: URM Detected 1992 (7.67 %) cold items.\n",
      "Similarity column 25975 ( 100 % ), 5658.58 column/sec, elapsed time 0.08 min\n",
      "EvaluatorHoldout: Processed 5022 ( 100.00% ) in 3.76 sec. Users per second: 1334\n",
      "ItemKNNCFRecommender: URM Detected 37 (0.47 %) cold users.\n",
      "ItemKNNCFRecommender: URM Detected 1992 (7.67 %) cold items.\n",
      "Similarity column 25975 ( 100 % ), 5786.83 column/sec, elapsed time 0.07 min\n",
      "EvaluatorHoldout: Processed 5022 ( 100.00% ) in 3.57 sec. Users per second: 1407\n",
      "ItemKNNCFRecommender: URM Detected 37 (0.47 %) cold users.\n",
      "ItemKNNCFRecommender: URM Detected 1992 (7.67 %) cold items.\n"
     ]
    },
    {
     "name": "stdout",
     "output_type": "stream",
     "text": [
      "Similarity column 25975 ( 100 % ), 5534.49 column/sec, elapsed time 0.08 min\n",
      "EvaluatorHoldout: Processed 5022 ( 100.00% ) in 3.62 sec. Users per second: 1388\n",
      "ItemKNNCFRecommender: URM Detected 37 (0.47 %) cold users.\n",
      "ItemKNNCFRecommender: URM Detected 1992 (7.67 %) cold items.\n",
      "Similarity column 25975 ( 100 % ), 5816.91 column/sec, elapsed time 0.07 min\n",
      "EvaluatorHoldout: Processed 5022 ( 100.00% ) in 3.65 sec. Users per second: 1374\n",
      "ItemKNNCFRecommender: URM Detected 37 (0.47 %) cold users.\n",
      "ItemKNNCFRecommender: URM Detected 1992 (7.67 %) cold items.\n",
      "Similarity column 25975 ( 100 % ), 5547.49 column/sec, elapsed time 0.08 min\n",
      "EvaluatorHoldout: Processed 5022 ( 100.00% ) in 3.59 sec. Users per second: 1398\n",
      "ItemKNNCFRecommender: URM Detected 37 (0.47 %) cold users.\n",
      "ItemKNNCFRecommender: URM Detected 1992 (7.67 %) cold items.\n",
      "Similarity column 25975 ( 100 % ), 5738.57 column/sec, elapsed time 0.08 min\n",
      "EvaluatorHoldout: Processed 5022 ( 100.00% ) in 3.65 sec. Users per second: 1375\n",
      "ItemKNNCFRecommender: URM Detected 37 (0.47 %) cold users.\n",
      "ItemKNNCFRecommender: URM Detected 1992 (7.67 %) cold items.\n",
      "Similarity column 25975 ( 100 % ), 5657.61 column/sec, elapsed time 0.08 min\n",
      "EvaluatorHoldout: Processed 5022 ( 100.00% ) in 3.63 sec. Users per second: 1384\n",
      "ItemKNNCFRecommender: URM Detected 37 (0.47 %) cold users.\n",
      "ItemKNNCFRecommender: URM Detected 1992 (7.67 %) cold items.\n",
      "Similarity column 25975 ( 100 % ), 5788.41 column/sec, elapsed time 0.07 min\n",
      "EvaluatorHoldout: Processed 5022 ( 100.00% ) in 3.63 sec. Users per second: 1383\n",
      "ItemKNNCFRecommender: URM Detected 37 (0.47 %) cold users.\n",
      "ItemKNNCFRecommender: URM Detected 1992 (7.67 %) cold items.\n",
      "Similarity column 25975 ( 100 % ), 5502.51 column/sec, elapsed time 0.08 min\n",
      "EvaluatorHoldout: Processed 5022 ( 100.00% ) in 3.63 sec. Users per second: 1382\n",
      "ItemKNNCFRecommender: URM Detected 37 (0.47 %) cold users.\n",
      "ItemKNNCFRecommender: URM Detected 1992 (7.67 %) cold items.\n",
      "Similarity column 25975 ( 100 % ), 5720.88 column/sec, elapsed time 0.08 min\n",
      "EvaluatorHoldout: Processed 5022 ( 100.00% ) in 3.58 sec. Users per second: 1403\n",
      "ItemKNNCFRecommender: URM Detected 37 (0.47 %) cold users.\n",
      "ItemKNNCFRecommender: URM Detected 1992 (7.67 %) cold items.\n",
      "Similarity column 25975 ( 100 % ), 5634.07 column/sec, elapsed time 0.08 min\n",
      "EvaluatorHoldout: Processed 5022 ( 100.00% ) in 3.62 sec. Users per second: 1387\n",
      "ItemKNNCFRecommender: URM Detected 37 (0.47 %) cold users.\n",
      "ItemKNNCFRecommender: URM Detected 1992 (7.67 %) cold items.\n",
      "Similarity column 25975 ( 100 % ), 5710.83 column/sec, elapsed time 0.08 min\n",
      "EvaluatorHoldout: Processed 5022 ( 100.00% ) in 3.70 sec. Users per second: 1357\n",
      "ItemKNNCFRecommender: URM Detected 37 (0.47 %) cold users.\n",
      "ItemKNNCFRecommender: URM Detected 1992 (7.67 %) cold items.\n",
      "Similarity column 25975 ( 100 % ), 5732.22 column/sec, elapsed time 0.08 min\n",
      "EvaluatorHoldout: Processed 5022 ( 100.00% ) in 3.58 sec. Users per second: 1401\n",
      "ItemKNNCFRecommender: URM Detected 37 (0.47 %) cold users.\n",
      "ItemKNNCFRecommender: URM Detected 1992 (7.67 %) cold items.\n",
      "Similarity column 25975 ( 100 % ), 5291.35 column/sec, elapsed time 0.08 min\n",
      "EvaluatorHoldout: Processed 5022 ( 100.00% ) in 3.72 sec. Users per second: 1351\n",
      "ItemKNNCFRecommender: URM Detected 37 (0.47 %) cold users.\n",
      "ItemKNNCFRecommender: URM Detected 1992 (7.67 %) cold items.\n",
      "Similarity column 25975 ( 100 % ), 5631.63 column/sec, elapsed time 0.08 min\n",
      "EvaluatorHoldout: Processed 5022 ( 100.00% ) in 3.84 sec. Users per second: 1309\n",
      "ItemKNNCFRecommender: URM Detected 37 (0.47 %) cold users.\n",
      "ItemKNNCFRecommender: URM Detected 1992 (7.67 %) cold items.\n",
      "Similarity column 25975 ( 100 % ), 5608.68 column/sec, elapsed time 0.08 min\n",
      "EvaluatorHoldout: Processed 5022 ( 100.00% ) in 3.74 sec. Users per second: 1342\n",
      "ItemKNNCFRecommender: URM Detected 37 (0.47 %) cold users.\n",
      "ItemKNNCFRecommender: URM Detected 1992 (7.67 %) cold items.\n",
      "Similarity column 25975 ( 100 % ), 5705.82 column/sec, elapsed time 0.08 min\n",
      "EvaluatorHoldout: Processed 5022 ( 100.00% ) in 4.04 sec. Users per second: 1243\n",
      "ItemKNNCFRecommender: URM Detected 37 (0.47 %) cold users.\n",
      "ItemKNNCFRecommender: URM Detected 1992 (7.67 %) cold items.\n",
      "Similarity column 25975 ( 100 % ), 5448.63 column/sec, elapsed time 0.08 min\n",
      "EvaluatorHoldout: Processed 5022 ( 100.00% ) in 3.66 sec. Users per second: 1372\n",
      "ItemKNNCFRecommender: URM Detected 37 (0.47 %) cold users.\n",
      "ItemKNNCFRecommender: URM Detected 1992 (7.67 %) cold items.\n",
      "Similarity column 25975 ( 100 % ), 5695.79 column/sec, elapsed time 0.08 min\n",
      "EvaluatorHoldout: Processed 5022 ( 100.00% ) in 3.61 sec. Users per second: 1391\n",
      "ItemKNNCFRecommender: URM Detected 37 (0.47 %) cold users.\n",
      "ItemKNNCFRecommender: URM Detected 1992 (7.67 %) cold items.\n",
      "Similarity column 25975 ( 100 % ), 5491.13 column/sec, elapsed time 0.08 min\n",
      "EvaluatorHoldout: Processed 5022 ( 100.00% ) in 3.64 sec. Users per second: 1380\n"
     ]
    }
   ],
   "source": [
    "x_tick = []\n",
    "collaborative_MAP = []\n",
    "\n",
    "for topK in [100,200,300,400, 500,520,550]:\n",
    "    for shrink in [0,50,100,150,200,250,300,400,500,600,700]:\n",
    "        \n",
    "        x_tick.append(\"topk {}, shrink {}\".format(topK, shrink))\n",
    "\n",
    "        \n",
    "        recommender = ItemKNNCFRecommender(URM_train)\n",
    "        recommender.fit(shrink=shrink, topK=topK, feature_weighting = \"TF-IDF\")\n",
    "    \n",
    "        result_dict, _ = evaluator_validation.evaluateRecommender(recommender)\n",
    "    \n",
    "        collaborative_MAP.append(result_dict[10][\"MAP\"])"
   ]
  },
  {
   "cell_type": "code",
   "execution_count": 28,
   "metadata": {},
   "outputs": [
    {
     "data": {
      "image/png": "[encoded data removed]",
      "text/plain": [
       "<Figure size 1080x864 with 1 Axes>"
      ]
     },
     "metadata": {
      "needs_background": "light"
     },
     "output_type": "display_data"
    }
   ],
   "source": [
    "#best model: topk = 500, shrink = 600, TF-IDF\n",
    "plt.figure(figsize=(15,12))\n",
    "plt.plot(x_tick, collaborative_MAP, label=\"Collaborative\", )\n",
    "plt.ylabel('MAP')\n",
    "plt.xlabel('TopK')\n",
    "plt.xticks(rotation='vertical')\n",
    "plt.show()"
   ]
  },
  {
   "cell_type": "code",
   "execution_count": 30,
   "metadata": {},
   "outputs": [
    {
     "data": {
      "text/html": [
       "<div>\n",
       "<style scoped>\n",
       "    .dataframe tbody tr th:only-of-type {\n",
       "        vertical-align: middle;\n",
       "    }\n",
       "\n",
       "    .dataframe tbody tr th {\n",
       "        vertical-align: top;\n",
       "    }\n",
       "\n",
       "    .dataframe thead th {\n",
       "        text-align: right;\n",
       "    }\n",
       "</style>\n",
       "<table border=\"1\" class=\"dataframe\">\n",
       "  <thead>\n",
       "    <tr style=\"text-align: right;\">\n",
       "      <th></th>\n",
       "      <th>user_id</th>\n",
       "    </tr>\n",
       "  </thead>\n",
       "  <tbody>\n",
       "    <tr>\n",
       "      <th>0</th>\n",
       "      <td>0</td>\n",
       "    </tr>\n",
       "    <tr>\n",
       "      <th>1</th>\n",
       "      <td>1</td>\n",
       "    </tr>\n",
       "    <tr>\n",
       "      <th>2</th>\n",
       "      <td>2</td>\n",
       "    </tr>\n",
       "    <tr>\n",
       "      <th>3</th>\n",
       "      <td>3</td>\n",
       "    </tr>\n",
       "    <tr>\n",
       "      <th>4</th>\n",
       "      <td>4</td>\n",
       "    </tr>\n",
       "    <tr>\n",
       "      <th>...</th>\n",
       "      <td>...</td>\n",
       "    </tr>\n",
       "    <tr>\n",
       "      <th>7939</th>\n",
       "      <td>7942</td>\n",
       "    </tr>\n",
       "    <tr>\n",
       "      <th>7940</th>\n",
       "      <td>7943</td>\n",
       "    </tr>\n",
       "    <tr>\n",
       "      <th>7941</th>\n",
       "      <td>7944</td>\n",
       "    </tr>\n",
       "    <tr>\n",
       "      <th>7942</th>\n",
       "      <td>7945</td>\n",
       "    </tr>\n",
       "    <tr>\n",
       "      <th>7943</th>\n",
       "      <td>7946</td>\n",
       "    </tr>\n",
       "  </tbody>\n",
       "</table>\n",
       "<p>7944 rows × 1 columns</p>\n",
       "</div>"
      ],
      "text/plain": [
       "      user_id\n",
       "0           0\n",
       "1           1\n",
       "2           2\n",
       "3           3\n",
       "4           4\n",
       "...       ...\n",
       "7939     7942\n",
       "7940     7943\n",
       "7941     7944\n",
       "7942     7945\n",
       "7943     7946\n",
       "\n",
       "[7944 rows x 1 columns]"
      ]
     },
     "execution_count": 30,
     "metadata": {},
     "output_type": "execute_result"
    }
   ],
   "source": [
    "test_users = pd.read_csv('data_target_users_test.csv')\n",
    "test_users"
   ]
  },
  {
   "cell_type": "code",
   "execution_count": 31,
   "metadata": {},
   "outputs": [
    {
     "name": "stdout",
     "output_type": "stream",
     "text": [
      "ItemKNNCFRecommender: URM Detected 1079 (4.15 %) cold items.\n",
      "Similarity column 25975 ( 100 % ), 5538.05 column/sec, elapsed time 0.08 min\n"
     ]
    }
   ],
   "source": [
    "recommender = ItemKNNCFRecommender(URM_all)\n",
    "recommender.fit(shrink=600, topK=500, feature_weighting = \"TF-IDF\")\n",
    "\n",
    "user_id = test_users['user_id']\n",
    "recommendations = recommender.recommend(user_id,cutoff = 10)\n"
   ]
  },
  {
   "cell_type": "code",
   "execution_count": 32,
   "metadata": {},
   "outputs": [
    {
     "name": "stdout",
     "output_type": "stream",
     "text": [
      "7944\n"
     ]
    }
   ],
   "source": [
    "for index in range(len(recommendations)):\n",
    "    #print(element)\n",
    "    recommendations[index]=np.array(recommendations[index])\n",
    "    #print(type(element))\n",
    "print(len(recommendations))"
   ]
  },
  {
   "cell_type": "code",
   "execution_count": 33,
   "metadata": {},
   "outputs": [],
   "source": [
    "test_users['item_list']= recommendations\n",
    "#test_users['item_list'] =  test_users['item_list'].apply(lambda x: x.replace('[','').replace(']','')) \n",
    "test_users['item_list'] = pd.DataFrame([str(line).strip('[').strip(']').replace(\"'\",\"\") for line in test_users['item_list']])\n",
    "\n",
    "#convert the string columns to int\n",
    "#test_users['item_list'] = test_users['item_list'].astype(int)\n",
    "test_users\n",
    "test_users.to_csv('submission.csv', index=False)\n"
   ]
  },
  {
   "cell_type": "code",
   "execution_count": null,
   "metadata": {},
   "outputs": [],
   "source": []
  }
 ],
 "metadata": {
  "kernelspec": {
   "display_name": "Python 3",
   "language": "python",
   "name": "python3"
  },
  "language_info": {
   "codemirror_mode": {
    "name": "ipython",
    "version": 3
   },
   "file_extension": ".py",
   "mimetype": "text/x-python",
   "name": "python",
   "nbconvert_exporter": "python",
   "pygments_lexer": "ipython3",
   "version": "3.8.5"
  }
 },
 "nbformat": 4,
 "nbformat_minor": 4
}
