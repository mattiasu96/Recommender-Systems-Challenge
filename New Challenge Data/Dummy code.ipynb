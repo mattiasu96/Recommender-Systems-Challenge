{
 "cells": [
  {
   "cell_type": "code",
   "execution_count": 102,
   "metadata": {},
   "outputs": [
    {
     "data": {
      "text/html": [
       "<div>\n",
       "<style scoped>\n",
       "    .dataframe tbody tr th:only-of-type {\n",
       "        vertical-align: middle;\n",
       "    }\n",
       "\n",
       "    .dataframe tbody tr th {\n",
       "        vertical-align: top;\n",
       "    }\n",
       "\n",
       "    .dataframe thead th {\n",
       "        text-align: right;\n",
       "    }\n",
       "</style>\n",
       "<table border=\"1\" class=\"dataframe\">\n",
       "  <thead>\n",
       "    <tr style=\"text-align: right;\">\n",
       "      <th></th>\n",
       "      <th>row</th>\n",
       "      <th>col</th>\n",
       "      <th>data</th>\n",
       "    </tr>\n",
       "  </thead>\n",
       "  <tbody>\n",
       "    <tr>\n",
       "      <th>0</th>\n",
       "      <td>0</td>\n",
       "      <td>3568</td>\n",
       "      <td>1.0</td>\n",
       "    </tr>\n",
       "    <tr>\n",
       "      <th>1</th>\n",
       "      <td>0</td>\n",
       "      <td>3827</td>\n",
       "      <td>1.0</td>\n",
       "    </tr>\n",
       "    <tr>\n",
       "      <th>2</th>\n",
       "      <td>0</td>\n",
       "      <td>4844</td>\n",
       "      <td>1.0</td>\n",
       "    </tr>\n",
       "    <tr>\n",
       "      <th>3</th>\n",
       "      <td>0</td>\n",
       "      <td>5734</td>\n",
       "      <td>1.0</td>\n",
       "    </tr>\n",
       "    <tr>\n",
       "      <th>4</th>\n",
       "      <td>0</td>\n",
       "      <td>6518</td>\n",
       "      <td>1.0</td>\n",
       "    </tr>\n",
       "    <tr>\n",
       "      <th>...</th>\n",
       "      <td>...</td>\n",
       "      <td>...</td>\n",
       "      <td>...</td>\n",
       "    </tr>\n",
       "    <tr>\n",
       "      <th>398631</th>\n",
       "      <td>30910</td>\n",
       "      <td>18176</td>\n",
       "      <td>1.0</td>\n",
       "    </tr>\n",
       "    <tr>\n",
       "      <th>398632</th>\n",
       "      <td>30910</td>\n",
       "      <td>18185</td>\n",
       "      <td>1.0</td>\n",
       "    </tr>\n",
       "    <tr>\n",
       "      <th>398633</th>\n",
       "      <td>30910</td>\n",
       "      <td>18248</td>\n",
       "      <td>1.0</td>\n",
       "    </tr>\n",
       "    <tr>\n",
       "      <th>398634</th>\n",
       "      <td>30910</td>\n",
       "      <td>18349</td>\n",
       "      <td>1.0</td>\n",
       "    </tr>\n",
       "    <tr>\n",
       "      <th>398635</th>\n",
       "      <td>30910</td>\n",
       "      <td>18360</td>\n",
       "      <td>1.0</td>\n",
       "    </tr>\n",
       "  </tbody>\n",
       "</table>\n",
       "<p>398636 rows × 3 columns</p>\n",
       "</div>"
      ],
      "text/plain": [
       "          row    col  data\n",
       "0           0   3568   1.0\n",
       "1           0   3827   1.0\n",
       "2           0   4844   1.0\n",
       "3           0   5734   1.0\n",
       "4           0   6518   1.0\n",
       "...       ...    ...   ...\n",
       "398631  30910  18176   1.0\n",
       "398632  30910  18185   1.0\n",
       "398633  30910  18248   1.0\n",
       "398634  30910  18349   1.0\n",
       "398635  30910  18360   1.0\n",
       "\n",
       "[398636 rows x 3 columns]"
      ]
     },
     "execution_count": 102,
     "metadata": {},
     "output_type": "execute_result"
    }
   ],
   "source": [
    "# Sample code on old dataset\n",
    "import numpy as np\n",
    "import csv\n",
    "import os\n",
    "import pandas as pd\n",
    "import sys\n",
    "sys.path.append('..')\n",
    "\n",
    "cwd = os.getcwd()\n",
    "training_dataframe = pd.read_csv('data_train.csv')\n",
    "training_dataframe\n",
    "#training_matrix = training_dataframe.to_numpy()\n",
    "#training_matrix"
   ]
  },
  {
   "cell_type": "code",
   "execution_count": 103,
   "metadata": {},
   "outputs": [
    {
     "name": "stdout",
     "output_type": "stream",
     "text": [
      "18494\n",
      "0\n",
      "Number of unique users: 27255\n",
      "Number of unique items: 15277\n",
      "Number of unique data: 1\n",
      "Percentage of non_null cells: 0.09573974168719476\n"
     ]
    }
   ],
   "source": [
    "# alcuni utenti non hanno interaction e alcuni items non hanno interactions \n",
    "unique_users = training_dataframe[\"row\"].unique()\n",
    "unique_items = training_dataframe[\"col\"].unique()\n",
    "print(training_dataframe[\"col\"].max())\n",
    "print(training_dataframe[\"col\"].min())\n",
    "\n",
    "unique_data = training_dataframe[\"data\"].unique()\n",
    "\n",
    "print('Number of unique users:',len(unique_users))\n",
    "print('Number of unique items:',len(unique_items))\n",
    "print('Number of unique data:',len(unique_data))\n",
    "\n",
    "matrix_dimension = len(unique_users) * len(unique_items)\n",
    "percentage_of_data = (len(training_dataframe.index)/matrix_dimension)*100\n",
    "print(\"Percentage of non_null cells:\",percentage_of_data)"
   ]
  },
  {
   "cell_type": "code",
   "execution_count": 104,
   "metadata": {
    "scrolled": true
   },
   "outputs": [
    {
     "data": {
      "text/plain": [
       "<30911x18495 sparse matrix of type '<class 'numpy.float64'>'\n",
       "\twith 398636 stored elements in Compressed Sparse Row format>"
      ]
     },
     "execution_count": 104,
     "metadata": {},
     "output_type": "execute_result"
    }
   ],
   "source": [
    "#converting data into sparse matrix\n",
    "#NB: sps.coo_matrix(...) generates a NxM matrix where N is the max index in row and M is the max index in col.\n",
    "\n",
    "import scipy.sparse as sps\n",
    "row = training_dataframe[\"row\"].to_numpy()\n",
    "col = training_dataframe[\"col\"].to_numpy()\n",
    "data = training_dataframe[\"data\"].to_numpy()\n",
    "\n",
    "URM_all = sps.coo_matrix((data, (row,col))) #smart way to couple indexes and data. It's not fast btw. Convert it into CSR format\n",
    "URM_all.tocsr()"
   ]
  },
  {
   "cell_type": "code",
   "execution_count": 105,
   "metadata": {},
   "outputs": [
    {
     "name": "stdout",
     "output_type": "stream",
     "text": [
      "Warning: 4329 (14.00 %) of 30911 users have no train items\n",
      "Warning: 10460 (33.84 %) of 30911 users have no sampled items\n",
      "Warning: 5056 (16.36 %) of 30911 users have no train items\n",
      "Warning: 11894 (38.48 %) of 30911 users have no sampled items\n"
     ]
    }
   ],
   "source": [
    "from Base.Evaluation.Evaluator import EvaluatorHoldout\n",
    "from Data_manager.split_functions.split_train_validation_random_holdout import split_train_in_two_percentage_global_sample\n",
    "\n",
    "\n",
    "URM_train, URM_test = split_train_in_two_percentage_global_sample(URM_all, train_percentage = 0.80)\n",
    "URM_train, URM_validation = split_train_in_two_percentage_global_sample(URM_train, train_percentage = 0.80)\n",
    "\n",
    "#il primo lo uso per parameter tuning, il secondo per testare alla fine\n",
    "evaluator_validation = EvaluatorHoldout(URM_validation, cutoff_list=[10]) #evaluator sulla validation\n",
    "evaluator_test = EvaluatorHoldout(URM_test, cutoff_list=[10]) #evaluator sul test"
   ]
  },
  {
   "cell_type": "code",
   "execution_count": 106,
   "metadata": {},
   "outputs": [
    {
     "name": "stdout",
     "output_type": "stream",
     "text": [
      "TopPopRecommender: URM Detected 5056 (16.36 %) cold users.\n",
      "TopPopRecommender: URM Detected 4248 (22.97 %) cold items.\n",
      "EvaluatorHoldout: Processed 20451 ( 100.00% ) in 13.18 sec. Users per second: 1551\n"
     ]
    },
    {
     "data": {
      "text/plain": [
       "{10: {'ROC_AUC': 0.03820288797148119,\n",
       "  'PRECISION': 0.00793115251087945,\n",
       "  'PRECISION_RECALL_MIN_DEN': 0.022980926923276884,\n",
       "  'RECALL': 0.022430442474506877,\n",
       "  'MAP': 0.007064723206175406,\n",
       "  'MRR': 0.02366201676015375,\n",
       "  'NDCG': 0.014506285521237082,\n",
       "  'F1': 0.011718703199713252,\n",
       "  'HIT_RATE': 0.07931152510879663,\n",
       "  'ARHR': 0.024391363638833187,\n",
       "  'NOVELTY': 0.004839337005584089,\n",
       "  'AVERAGE_POPULARITY': 0.8815289454874433,\n",
       "  'DIVERSITY_MEAN_INTER_LIST': 0.04150008410585795,\n",
       "  'DIVERSITY_HERFINDAHL': 0.9041498054861121,\n",
       "  'COVERAGE_ITEM': 0.0011354420113544202,\n",
       "  'COVERAGE_ITEM_CORRECT': 0.0008650986753176534,\n",
       "  'COVERAGE_USER': 0.6616091359063117,\n",
       "  'COVERAGE_USER_CORRECT': 0.049464591892853675,\n",
       "  'DIVERSITY_GINI': 0.0006085057050027081,\n",
       "  'SHANNON_ENTROPY': 3.423593722586453}}"
      ]
     },
     "execution_count": 106,
     "metadata": {},
     "output_type": "execute_result"
    }
   ],
   "source": [
    "from Base.NonPersonalizedRecommender import TopPop\n",
    "user_id = np.unique(row)[0:10]\n",
    "recommender_top_popular = TopPop(URM_train)\n",
    "recommender_top_popular.fit()\n",
    "recommendations = recommender_top_popular.recommend(user_id,cutoff = 10)\n",
    "\n",
    "result_dict, _ = evaluator_test.evaluateRecommender(recommender_top_popular)\n",
    "result_dict"
   ]
  },
  {
   "cell_type": "code",
   "execution_count": 107,
   "metadata": {},
   "outputs": [
    {
     "data": {
      "text/html": [
       "<div>\n",
       "<style scoped>\n",
       "    .dataframe tbody tr th:only-of-type {\n",
       "        vertical-align: middle;\n",
       "    }\n",
       "\n",
       "    .dataframe tbody tr th {\n",
       "        vertical-align: top;\n",
       "    }\n",
       "\n",
       "    .dataframe thead th {\n",
       "        text-align: right;\n",
       "    }\n",
       "</style>\n",
       "<table border=\"1\" class=\"dataframe\">\n",
       "  <thead>\n",
       "    <tr style=\"text-align: right;\">\n",
       "      <th></th>\n",
       "      <th>user_id</th>\n",
       "    </tr>\n",
       "  </thead>\n",
       "  <tbody>\n",
       "    <tr>\n",
       "      <th>0</th>\n",
       "      <td>0</td>\n",
       "    </tr>\n",
       "    <tr>\n",
       "      <th>1</th>\n",
       "      <td>1</td>\n",
       "    </tr>\n",
       "    <tr>\n",
       "      <th>2</th>\n",
       "      <td>2</td>\n",
       "    </tr>\n",
       "    <tr>\n",
       "      <th>3</th>\n",
       "      <td>4</td>\n",
       "    </tr>\n",
       "    <tr>\n",
       "      <th>4</th>\n",
       "      <td>5</td>\n",
       "    </tr>\n",
       "    <tr>\n",
       "      <th>...</th>\n",
       "      <td>...</td>\n",
       "    </tr>\n",
       "    <tr>\n",
       "      <th>28101</th>\n",
       "      <td>30906</td>\n",
       "    </tr>\n",
       "    <tr>\n",
       "      <th>28102</th>\n",
       "      <td>30907</td>\n",
       "    </tr>\n",
       "    <tr>\n",
       "      <th>28103</th>\n",
       "      <td>30908</td>\n",
       "    </tr>\n",
       "    <tr>\n",
       "      <th>28104</th>\n",
       "      <td>30909</td>\n",
       "    </tr>\n",
       "    <tr>\n",
       "      <th>28105</th>\n",
       "      <td>30910</td>\n",
       "    </tr>\n",
       "  </tbody>\n",
       "</table>\n",
       "<p>28106 rows × 1 columns</p>\n",
       "</div>"
      ],
      "text/plain": [
       "       user_id\n",
       "0            0\n",
       "1            1\n",
       "2            2\n",
       "3            4\n",
       "4            5\n",
       "...        ...\n",
       "28101    30906\n",
       "28102    30907\n",
       "28103    30908\n",
       "28104    30909\n",
       "28105    30910\n",
       "\n",
       "[28106 rows x 1 columns]"
      ]
     },
     "execution_count": 107,
     "metadata": {},
     "output_type": "execute_result"
    }
   ],
   "source": [
    "test_users = pd.read_csv('data_target_users_test.csv')\n",
    "test_users"
   ]
  },
  {
   "cell_type": "code",
   "execution_count": 113,
   "metadata": {},
   "outputs": [],
   "source": [
    "user_id = test_users['user_id']\n",
    "recommendations = recommender_top_popular.recommend(user_id,cutoff = 10)"
   ]
  },
  {
   "cell_type": "code",
   "execution_count": 119,
   "metadata": {},
   "outputs": [
    {
     "data": {
      "text/plain": [
       "array([17955,  8638,  5113,  8982,  4361,  4657, 10227,   197, 12469,\n",
       "       10466])"
      ]
     },
     "execution_count": 119,
     "metadata": {},
     "output_type": "execute_result"
    }
   ],
   "source": [
    "recommendations[0]"
   ]
  },
  {
   "cell_type": "code",
   "execution_count": 110,
   "metadata": {},
   "outputs": [
    {
     "data": {
      "text/html": [
       "<div>\n",
       "<style scoped>\n",
       "    .dataframe tbody tr th:only-of-type {\n",
       "        vertical-align: middle;\n",
       "    }\n",
       "\n",
       "    .dataframe tbody tr th {\n",
       "        vertical-align: top;\n",
       "    }\n",
       "\n",
       "    .dataframe thead th {\n",
       "        text-align: right;\n",
       "    }\n",
       "</style>\n",
       "<table border=\"1\" class=\"dataframe\">\n",
       "  <thead>\n",
       "    <tr style=\"text-align: right;\">\n",
       "      <th></th>\n",
       "      <th>user_id</th>\n",
       "      <th>item_list</th>\n",
       "    </tr>\n",
       "  </thead>\n",
       "  <tbody>\n",
       "    <tr>\n",
       "      <th>0</th>\n",
       "      <td>0</td>\n",
       "      <td>0 1 2 3 4 5 6 7 8 9</td>\n",
       "    </tr>\n",
       "    <tr>\n",
       "      <th>1</th>\n",
       "      <td>1</td>\n",
       "      <td>0 1 2 3 4 5 6 7 8 9</td>\n",
       "    </tr>\n",
       "    <tr>\n",
       "      <th>2</th>\n",
       "      <td>2</td>\n",
       "      <td>0 1 2 3 4 5 6 7 8 9</td>\n",
       "    </tr>\n",
       "    <tr>\n",
       "      <th>3</th>\n",
       "      <td>4</td>\n",
       "      <td>0 1 2 3 4 5 6 7 8 9</td>\n",
       "    </tr>\n",
       "    <tr>\n",
       "      <th>4</th>\n",
       "      <td>5</td>\n",
       "      <td>0 1 2 3 4 5 6 7 8 9</td>\n",
       "    </tr>\n",
       "    <tr>\n",
       "      <th>...</th>\n",
       "      <td>...</td>\n",
       "      <td>...</td>\n",
       "    </tr>\n",
       "    <tr>\n",
       "      <th>28101</th>\n",
       "      <td>30906</td>\n",
       "      <td>0 1 2 3 4 5 6 7 8 9</td>\n",
       "    </tr>\n",
       "    <tr>\n",
       "      <th>28102</th>\n",
       "      <td>30907</td>\n",
       "      <td>0 1 2 3 4 5 6 7 8 9</td>\n",
       "    </tr>\n",
       "    <tr>\n",
       "      <th>28103</th>\n",
       "      <td>30908</td>\n",
       "      <td>0 1 2 3 4 5 6 7 8 9</td>\n",
       "    </tr>\n",
       "    <tr>\n",
       "      <th>28104</th>\n",
       "      <td>30909</td>\n",
       "      <td>0 1 2 3 4 5 6 7 8 9</td>\n",
       "    </tr>\n",
       "    <tr>\n",
       "      <th>28105</th>\n",
       "      <td>30910</td>\n",
       "      <td>0 1 2 3 4 5 6 7 8 9</td>\n",
       "    </tr>\n",
       "  </tbody>\n",
       "</table>\n",
       "<p>28106 rows × 2 columns</p>\n",
       "</div>"
      ],
      "text/plain": [
       "       user_id            item_list\n",
       "0            0  0 1 2 3 4 5 6 7 8 9\n",
       "1            1  0 1 2 3 4 5 6 7 8 9\n",
       "2            2  0 1 2 3 4 5 6 7 8 9\n",
       "3            4  0 1 2 3 4 5 6 7 8 9\n",
       "4            5  0 1 2 3 4 5 6 7 8 9\n",
       "...        ...                  ...\n",
       "28101    30906  0 1 2 3 4 5 6 7 8 9\n",
       "28102    30907  0 1 2 3 4 5 6 7 8 9\n",
       "28103    30908  0 1 2 3 4 5 6 7 8 9\n",
       "28104    30909  0 1 2 3 4 5 6 7 8 9\n",
       "28105    30910  0 1 2 3 4 5 6 7 8 9\n",
       "\n",
       "[28106 rows x 2 columns]"
      ]
     },
     "execution_count": 110,
     "metadata": {},
     "output_type": "execute_result"
    }
   ],
   "source": [
    "sample_output = pd.read_csv('baseline_sample_submission.csv')\n",
    "sample_output"
   ]
  },
  {
   "cell_type": "code",
   "execution_count": 115,
   "metadata": {},
   "outputs": [
    {
     "name": "stdout",
     "output_type": "stream",
     "text": [
      "28106\n"
     ]
    }
   ],
   "source": [
    "for index in range(len(recommendations)):\n",
    "    #print(element)\n",
    "    recommendations[index]=np.array(recommendations[index])\n",
    "    #print(type(element))\n",
    "print(len(recommendations))"
   ]
  },
  {
   "cell_type": "code",
   "execution_count": 121,
   "metadata": {
    "scrolled": true
   },
   "outputs": [],
   "source": [
    "test_users['item_list']= recommendations\n",
    "#test_users['item_list'] =  test_users['item_list'].apply(lambda x: x.replace('[','').replace(']','')) \n",
    "test_users['item_list'] = pd.DataFrame([str(line).strip('[').strip(']').replace(\"'\",\"\") for line in test_users['item_list']])\n",
    "\n",
    "#convert the string columns to int\n",
    "#test_users['item_list'] = test_users['item_list'].astype(int)\n",
    "test_users\n",
    "test_users.to_csv('submission.csv', index=False)\n"
   ]
  }
 ],
 "metadata": {
  "kernelspec": {
   "display_name": "Python 3",
   "language": "python",
   "name": "python3"
  },
  "language_info": {
   "codemirror_mode": {
    "name": "ipython",
    "version": 3
   },
   "file_extension": ".py",
   "mimetype": "text/x-python",
   "name": "python",
   "nbconvert_exporter": "python",
   "pygments_lexer": "ipython3",
   "version": "3.8.5"
  }
 },
 "nbformat": 4,
 "nbformat_minor": 4
}
