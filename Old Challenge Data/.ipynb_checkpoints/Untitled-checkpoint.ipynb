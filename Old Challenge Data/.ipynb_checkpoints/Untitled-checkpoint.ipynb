{
 "cells": [
  {
   "cell_type": "code",
   "execution_count": 11,
   "metadata": {},
   "outputs": [
    {
     "data": {
      "text/html": [
       "<div>\n",
       "<style scoped>\n",
       "    .dataframe tbody tr th:only-of-type {\n",
       "        vertical-align: middle;\n",
       "    }\n",
       "\n",
       "    .dataframe tbody tr th {\n",
       "        vertical-align: top;\n",
       "    }\n",
       "\n",
       "    .dataframe thead th {\n",
       "        text-align: right;\n",
       "    }\n",
       "</style>\n",
       "<table border=\"1\" class=\"dataframe\">\n",
       "  <thead>\n",
       "    <tr style=\"text-align: right;\">\n",
       "      <th></th>\n",
       "      <th>row</th>\n",
       "      <th>col</th>\n",
       "      <th>data</th>\n",
       "    </tr>\n",
       "  </thead>\n",
       "  <tbody>\n",
       "    <tr>\n",
       "      <th>0</th>\n",
       "      <td>0</td>\n",
       "      <td>3568</td>\n",
       "      <td>1.0</td>\n",
       "    </tr>\n",
       "    <tr>\n",
       "      <th>1</th>\n",
       "      <td>0</td>\n",
       "      <td>3827</td>\n",
       "      <td>1.0</td>\n",
       "    </tr>\n",
       "    <tr>\n",
       "      <th>2</th>\n",
       "      <td>0</td>\n",
       "      <td>4844</td>\n",
       "      <td>1.0</td>\n",
       "    </tr>\n",
       "    <tr>\n",
       "      <th>3</th>\n",
       "      <td>0</td>\n",
       "      <td>5734</td>\n",
       "      <td>1.0</td>\n",
       "    </tr>\n",
       "    <tr>\n",
       "      <th>4</th>\n",
       "      <td>0</td>\n",
       "      <td>6518</td>\n",
       "      <td>1.0</td>\n",
       "    </tr>\n",
       "    <tr>\n",
       "      <th>...</th>\n",
       "      <td>...</td>\n",
       "      <td>...</td>\n",
       "      <td>...</td>\n",
       "    </tr>\n",
       "    <tr>\n",
       "      <th>398631</th>\n",
       "      <td>30910</td>\n",
       "      <td>18176</td>\n",
       "      <td>1.0</td>\n",
       "    </tr>\n",
       "    <tr>\n",
       "      <th>398632</th>\n",
       "      <td>30910</td>\n",
       "      <td>18185</td>\n",
       "      <td>1.0</td>\n",
       "    </tr>\n",
       "    <tr>\n",
       "      <th>398633</th>\n",
       "      <td>30910</td>\n",
       "      <td>18248</td>\n",
       "      <td>1.0</td>\n",
       "    </tr>\n",
       "    <tr>\n",
       "      <th>398634</th>\n",
       "      <td>30910</td>\n",
       "      <td>18349</td>\n",
       "      <td>1.0</td>\n",
       "    </tr>\n",
       "    <tr>\n",
       "      <th>398635</th>\n",
       "      <td>30910</td>\n",
       "      <td>18360</td>\n",
       "      <td>1.0</td>\n",
       "    </tr>\n",
       "  </tbody>\n",
       "</table>\n",
       "<p>398636 rows × 3 columns</p>\n",
       "</div>"
      ],
      "text/plain": [
       "          row    col  data\n",
       "0           0   3568   1.0\n",
       "1           0   3827   1.0\n",
       "2           0   4844   1.0\n",
       "3           0   5734   1.0\n",
       "4           0   6518   1.0\n",
       "...       ...    ...   ...\n",
       "398631  30910  18176   1.0\n",
       "398632  30910  18185   1.0\n",
       "398633  30910  18248   1.0\n",
       "398634  30910  18349   1.0\n",
       "398635  30910  18360   1.0\n",
       "\n",
       "[398636 rows x 3 columns]"
      ]
     },
     "execution_count": 11,
     "metadata": {},
     "output_type": "execute_result"
    }
   ],
   "source": [
    "# Sample code on old dataset\n",
    "import numpy as np\n",
    "import csv\n",
    "import os\n",
    "import pandas as pd\n",
    "\n",
    "cwd = os.getcwd()\n",
    "training_dataframe = pd.read_csv('data_train.csv')\n",
    "training_dataframe\n",
    "#training_matrix = training_dataframe.to_numpy()\n",
    "#training_matrix"
   ]
  },
  {
   "cell_type": "code",
   "execution_count": 34,
   "metadata": {},
   "outputs": [
    {
     "name": "stdout",
     "output_type": "stream",
     "text": [
      "18494\n",
      "0\n",
      "Number of unique users: 27255\n",
      "Number of unique items: 15277\n",
      "Number of unique data: 1\n",
      "Percentage of non_null cells: 0.09573974168719476\n"
     ]
    }
   ],
   "source": [
    "unique_users = training_dataframe[\"row\"].unique()\n",
    "unique_items = training_dataframe[\"col\"].unique()\n",
    "print(training_dataframe[\"col\"].max())\n",
    "print(training_dataframe[\"col\"].min())\n",
    "\n",
    "unique_data = training_dataframe[\"data\"].unique()\n",
    "\n",
    "print('Number of unique users:',len(unique_users))\n",
    "print('Number of unique items:',len(unique_items))\n",
    "print('Number of unique data:',len(unique_data))\n",
    "\n",
    "matrix_dimension = len(unique_users) * len(unique_items)\n",
    "percentage_of_data = (len(training_dataframe.index)/matrix_dimension)*100\n",
    "print(\"Percentage of non_null cells:\",percentage_of_data)"
   ]
  },
  {
   "cell_type": "code",
   "execution_count": 32,
   "metadata": {},
   "outputs": [
    {
     "data": {
      "text/plain": [
       "<30911x18495 sparse matrix of type '<class 'numpy.float64'>'\n",
       "\twith 398636 stored elements in COOrdinate format>"
      ]
     },
     "execution_count": 32,
     "metadata": {},
     "output_type": "execute_result"
    }
   ],
   "source": [
    "#converting data into sparse matrix\n",
    "#NB: sps.coo_matrix(...) generates a NxM matrix where N is the max index in row and M is the max index in col.\n",
    "\n",
    "import scipy.sparse as sps\n",
    "row = training_dataframe[\"row\"].to_numpy()\n",
    "col = training_dataframe[\"col\"].to_numpy()\n",
    "data = training_dataframe[\"data\"].to_numpy()\n",
    "\n",
    "URM_all = sps.coo_matrix((data, (row,col)))\n",
    "URM_all\n"
   ]
  }
 ],
 "metadata": {
  "kernelspec": {
   "display_name": "Python 3",
   "language": "python",
   "name": "python3"
  },
  "language_info": {
   "codemirror_mode": {
    "name": "ipython",
    "version": 3
   },
   "file_extension": ".py",
   "mimetype": "text/x-python",
   "name": "python",
   "nbconvert_exporter": "python",
   "pygments_lexer": "ipython3",
   "version": "3.8.5"
  }
 },
 "nbformat": 4,
 "nbformat_minor": 4
}
