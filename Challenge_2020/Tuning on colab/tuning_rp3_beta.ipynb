{
  "nbformat": 4,
  "nbformat_minor": 0,
  "metadata": {
    "kernelspec": {
      "display_name": "Python 3",
      "language": "python",
      "name": "python3"
    },
    "language_info": {
      "codemirror_mode": {
        "name": "ipython",
        "version": 3
      },
      "file_extension": ".py",
      "mimetype": "text/x-python",
      "name": "python",
      "nbconvert_exporter": "python",
      "pygments_lexer": "ipython3",
      "version": "3.8.5"
    },
    "papermill": {
      "duration": 2626.073311,
      "end_time": "2020-12-30T22:08:52.323522",
      "environment_variables": {},
      "exception": null,
      "input_path": "__notebook__.ipynb",
      "output_path": "__notebook__.ipynb",
      "parameters": {},
      "start_time": "2020-12-30T21:25:06.250211",
      "version": "2.1.0"
    },
    "colab": {
      "name": "tuning_rp3_beta.ipynb",
      "provenance": []
    },
    "accelerator": "GPU"
  },
  "cells": [
    {
      "cell_type": "markdown",
      "metadata": {
        "papermill": {
          "duration": 0.007005,
          "end_time": "2020-12-30T21:25:10.186746",
          "exception": false,
          "start_time": "2020-12-30T21:25:10.179741",
          "status": "completed"
        },
        "tags": [],
        "id": "QebV0Bh0I2if"
      },
      "source": [
        "# Data loading \n",
        "Next cells are used to load the data we need."
      ]
    },
    {
      "cell_type": "code",
      "metadata": {
        "colab": {
          "base_uri": "https://localhost:8080/"
        },
        "id": "6CsNlOgSJP7w",
        "outputId": "7e666e72-01f4-4522-e82f-e7265d49d49f"
      },
      "source": [
        "!git clone #clone your repo here\r\n",
        "!mv Recommender-Systems-Challenge/* ../content/"
      ],
      "execution_count": null,
      "outputs": [
        {
          "output_type": "stream",
          "text": [
            "Cloning into 'Recommender-Systems-Challenge'...\n",
            "remote: Enumerating objects: 145, done.\u001b[K\n",
            "remote: Counting objects: 100% (145/145), done.\u001b[K\n",
            "remote: Compressing objects: 100% (97/97), done.\u001b[K\n",
            "remote: Total 1082 (delta 92), reused 89 (delta 48), pack-reused 937\u001b[K\n",
            "Receiving objects: 100% (1082/1082), 208.66 MiB | 38.14 MiB/s, done.\n",
            "Resolving deltas: 100% (630/630), done.\n"
          ],
          "name": "stdout"
        }
      ]
    },
    {
      "cell_type": "code",
      "metadata": {
        "colab": {
          "base_uri": "https://localhost:8080/"
        },
        "id": "4OsMlfRyLyUy",
        "outputId": "110e2126-fcad-4286-ec7d-dc49c4590584"
      },
      "source": [
        "!python run_compile_all_cython.py"
      ],
      "execution_count": null,
      "outputs": [
        {
          "output_type": "stream",
          "text": [
            "run_compile_all_cython: Found 11 Cython files in 4 folders...\n",
            "run_compile_all_cython: All files will be compiled using your current python environment: '/usr/bin/python3'\n",
            "Compiling [1/11]: MatrixFactorization_Cython_Epoch.pyx... \n",
            "/usr/local/lib/python3.6/dist-packages/Cython/Compiler/Main.py:369: FutureWarning: Cython directive 'language_level' not set, using 2 for now (Py2). This will change in a later release! File: /content/MatrixFactorization/Cython/MatrixFactorization_Cython_Epoch.pyx\n",
            "  tree = Parsing.p_module(s, pxd, full_module_name)\n",
            "In file included from \u001b[01m\u001b[K/usr/local/lib/python3.6/dist-packages/numpy/core/include/numpy/ndarraytypes.h:1822:0\u001b[m\u001b[K,\n",
            "                 from \u001b[01m\u001b[K/usr/local/lib/python3.6/dist-packages/numpy/core/include/numpy/ndarrayobject.h:12\u001b[m\u001b[K,\n",
            "                 from \u001b[01m\u001b[K/usr/local/lib/python3.6/dist-packages/numpy/core/include/numpy/arrayobject.h:4\u001b[m\u001b[K,\n",
            "                 from \u001b[01m\u001b[KMatrixFactorization_Cython_Epoch.c:610\u001b[m\u001b[K:\n",
            "\u001b[01m\u001b[K/usr/local/lib/python3.6/dist-packages/numpy/core/include/numpy/npy_1_7_deprecated_api.h:17:2:\u001b[m\u001b[K \u001b[01;35m\u001b[Kwarning: \u001b[m\u001b[K#warning \"Using deprecated NumPy API, disable it with \" \"#define NPY_NO_DEPRECATED_API NPY_1_7_API_VERSION\" [\u001b[01;35m\u001b[K-Wcpp\u001b[m\u001b[K]\n",
            " #\u001b[01;35m\u001b[Kwarning\u001b[m\u001b[K \"Using deprecated NumPy API, disable it with \" \\\n",
            "  \u001b[01;35m\u001b[K^~~~~~~\u001b[m\u001b[K\n",
            "\u001b[01m\u001b[KMatrixFactorization_Cython_Epoch.c:\u001b[m\u001b[K In function ‘\u001b[01m\u001b[K__pyx_pf_32MatrixFactorization_Cython_Epoch_32MatrixFactorization_Cython_Epoch_10epochIteration_Cython_ASY_SVD_SGD\u001b[m\u001b[K’:\n",
            "\u001b[01m\u001b[KMatrixFactorization_Cython_Epoch.c:7789:7:\u001b[m\u001b[K \u001b[01;35m\u001b[Kwarning: \u001b[m\u001b[K‘\u001b[01m\u001b[K__pyx_v_end_pos_seen_items\u001b[m\u001b[K’ may be used uninitialized in this function [\u001b[01;35m\u001b[K-Wmaybe-uninitialized\u001b[m\u001b[K]\n",
            "       \u001b[01;35m\u001b[Kfor\u001b[m\u001b[K (__pyx_t_19 = __pyx_v_start_pos_seen_items; __pyx_t_19 < __pyx_t_18; __pyx_t_19+=1) {\n",
            "       \u001b[01;35m\u001b[K^~~\u001b[m\u001b[K\n",
            "\u001b[01m\u001b[KMatrixFactorization_Cython_Epoch.c:7789:7:\u001b[m\u001b[K \u001b[01;35m\u001b[Kwarning: \u001b[m\u001b[K‘\u001b[01m\u001b[K__pyx_v_start_pos_seen_items\u001b[m\u001b[K’ may be used uninitialized in this function [\u001b[01;35m\u001b[K-Wmaybe-uninitialized\u001b[m\u001b[K]\n",
            "/usr/local/lib/python2.7/dist-packages/Cython/Compiler/Main.py:369: FutureWarning: Cython directive 'language_level' not set, using 2 for now (Py2). This will change in a later release! File: /content/MatrixFactorization/Cython/MatrixFactorization_Cython_Epoch.pyx\n",
            "  tree = Parsing.p_module(s, pxd, full_module_name)\n",
            "Compiling [1/11]: MatrixFactorization_Cython_Epoch.pyx... PASS\n",
            "\n",
            "Compiling [2/11]: SLIM_MSE_slow.pyx... \n",
            "/usr/local/lib/python2.7/dist-packages/Cython/Compiler/Main.py:369: FutureWarning: Cython directive 'language_level' not set, using 2 for now (Py2). This will change in a later release! File: /content/Cython_examples/SLIM_MSE_slow.pyx\n",
            "  tree = Parsing.p_module(s, pxd, full_module_name)\n",
            "Compiling [2/11]: SLIM_MSE_slow.pyx... PASS\n",
            "\n",
            "Compiling [3/11]: FunkSVD_fastest.pyx... \n",
            "\u001b[01m\u001b[KFunkSVD_fastest.c:\u001b[m\u001b[K In function ‘\u001b[01m\u001b[K__pyx_pf_15FunkSVD_fastest_train_multiple_epochs.isra.33\u001b[m\u001b[K’:\n",
            "\u001b[01m\u001b[KFunkSVD_fastest.c:524:40:\u001b[m\u001b[K \u001b[01;35m\u001b[Kwarning: \u001b[m\u001b[K‘\u001b[01m\u001b[K__pyx_v_sample_num\u001b[m\u001b[K’ may be used uninitialized in this function [\u001b[01;35m\u001b[K-Wmaybe-uninitialized\u001b[m\u001b[K]\n",
            "   #define PyInt_FromLong               \u001b[01;35m\u001b[KPyLong_FromLong\u001b[m\u001b[K\n",
            "                                        \u001b[01;35m\u001b[K^~~~~~~~~~~~~~~\u001b[m\u001b[K\n",
            "\u001b[01m\u001b[KFunkSVD_fastest.c:2218:7:\u001b[m\u001b[K \u001b[01;36m\u001b[Knote: \u001b[m\u001b[K‘\u001b[01m\u001b[K__pyx_v_sample_num\u001b[m\u001b[K’ was declared here\n",
            "   int \u001b[01;36m\u001b[K__pyx_v_sample_num\u001b[m\u001b[K;\n",
            "       \u001b[01;36m\u001b[K^~~~~~~~~~~~~~~~~~\u001b[m\u001b[K\n",
            "/usr/local/lib/python2.7/dist-packages/Cython/Compiler/Main.py:369: FutureWarning: Cython directive 'language_level' not set, using 2 for now (Py2). This will change in a later release! File: /content/Cython_examples/FunkSVD_fastest.pyx\n",
            "  tree = Parsing.p_module(s, pxd, full_module_name)\n",
            "Compiling [3/11]: FunkSVD_fastest.pyx... PASS\n",
            "\n",
            "Compiling [4/11]: FunkSVD_slow.pyx... \n",
            "/usr/local/lib/python2.7/dist-packages/Cython/Compiler/Main.py:369: FutureWarning: Cython directive 'language_level' not set, using 2 for now (Py2). This will change in a later release! File: /content/Cython_examples/FunkSVD_slow.pyx\n",
            "  tree = Parsing.p_module(s, pxd, full_module_name)\n",
            "Compiling [4/11]: FunkSVD_slow.pyx... PASS\n",
            "\n",
            "Compiling [5/11]: isPrime_slow.pyx... \n",
            "/usr/local/lib/python2.7/dist-packages/Cython/Compiler/Main.py:369: FutureWarning: Cython directive 'language_level' not set, using 2 for now (Py2). This will change in a later release! File: /content/Cython_examples/isPrime_slow.pyx\n",
            "  tree = Parsing.p_module(s, pxd, full_module_name)\n",
            "Compiling [5/11]: isPrime_slow.pyx... PASS\n",
            "\n",
            "Compiling [6/11]: SLIM_MSE.pyx... \n",
            "/usr/local/lib/python2.7/dist-packages/Cython/Compiler/Main.py:369: FutureWarning: Cython directive 'language_level' not set, using 2 for now (Py2). This will change in a later release! File: /content/Cython_examples/SLIM_MSE.pyx\n",
            "  tree = Parsing.p_module(s, pxd, full_module_name)\n",
            "warning: SLIM_MSE.pyx:37:50: Index should be typed for more efficient access\n",
            "Compiling [6/11]: SLIM_MSE.pyx... PASS\n",
            "\n",
            "Compiling [7/11]: isPrime_nochecks.pyx... \n",
            "/usr/local/lib/python2.7/dist-packages/Cython/Compiler/Main.py:369: FutureWarning: Cython directive 'language_level' not set, using 2 for now (Py2). This will change in a later release! File: /content/Cython_examples/isPrime_nochecks.pyx\n",
            "  tree = Parsing.p_module(s, pxd, full_module_name)\n",
            "Compiling [7/11]: isPrime_nochecks.pyx... PASS\n",
            "\n",
            "Compiling [8/11]: isPrime.pyx... \n",
            "/usr/local/lib/python2.7/dist-packages/Cython/Compiler/Main.py:369: FutureWarning: Cython directive 'language_level' not set, using 2 for now (Py2). This will change in a later release! File: /content/Cython_examples/isPrime.pyx\n",
            "  tree = Parsing.p_module(s, pxd, full_module_name)\n",
            "Compiling [8/11]: isPrime.pyx... PASS\n",
            "\n",
            "Compiling [9/11]: SLIM_MSE_fastest.pyx... \n",
            "\u001b[01m\u001b[KSLIM_MSE_fastest.c:\u001b[m\u001b[K In function ‘\u001b[01m\u001b[K__pyx_pf_16SLIM_MSE_fastest_train_multiple_epochs.isra.33\u001b[m\u001b[K’:\n",
            "\u001b[01m\u001b[KSLIM_MSE_fastest.c:2942:15:\u001b[m\u001b[K \u001b[01;35m\u001b[Kwarning: \u001b[m\u001b[K‘\u001b[01m\u001b[K__pyx_v_sample_num\u001b[m\u001b[K’ may be used uninitialized in this function [\u001b[01;35m\u001b[K-Wmaybe-uninitialized\u001b[m\u001b[K]\n",
            "   __pyx_t_1 = \u001b[01;35m\u001b[KPyFloat_FromDouble((__pyx_v_loss / __pyx_v_sample_num))\u001b[m\u001b[K; if (unlikely(!__pyx_t_1)) __PYX_ERR(0, 87, __pyx_L1_error)\n",
            "               \u001b[01;35m\u001b[K^~~~~~~~~~~~~~~~~~~~~~~~~~~~~~~~~~~~~~~~~~~~~~~~~~~~~~~\u001b[m\u001b[K\n",
            "/usr/local/lib/python2.7/dist-packages/Cython/Compiler/Main.py:369: FutureWarning: Cython directive 'language_level' not set, using 2 for now (Py2). This will change in a later release! File: /content/Cython_examples/SLIM_MSE_fastest.pyx\n",
            "  tree = Parsing.p_module(s, pxd, full_module_name)\n",
            "Compiling [9/11]: SLIM_MSE_fastest.pyx... PASS\n",
            "\n",
            "Compiling [10/11]: Compute_Similarity_Cython.pyx... \n",
            "/usr/local/lib/python3.6/dist-packages/Cython/Compiler/Main.py:369: FutureWarning: Cython directive 'language_level' not set, using 2 for now (Py2). This will change in a later release! File: /content/Base/Similarity/Cython/Compute_Similarity_Cython.pyx\n",
            "  tree = Parsing.p_module(s, pxd, full_module_name)\n",
            "In file included from \u001b[01m\u001b[K/usr/local/lib/python3.6/dist-packages/numpy/core/include/numpy/ndarraytypes.h:1822:0\u001b[m\u001b[K,\n",
            "                 from \u001b[01m\u001b[K/usr/local/lib/python3.6/dist-packages/numpy/core/include/numpy/ndarrayobject.h:12\u001b[m\u001b[K,\n",
            "                 from \u001b[01m\u001b[K/usr/local/lib/python3.6/dist-packages/numpy/core/include/numpy/arrayobject.h:4\u001b[m\u001b[K,\n",
            "                 from \u001b[01m\u001b[KCompute_Similarity_Cython.c:610\u001b[m\u001b[K:\n",
            "\u001b[01m\u001b[K/usr/local/lib/python3.6/dist-packages/numpy/core/include/numpy/npy_1_7_deprecated_api.h:17:2:\u001b[m\u001b[K \u001b[01;35m\u001b[Kwarning: \u001b[m\u001b[K#warning \"Using deprecated NumPy API, disable it with \" \"#define NPY_NO_DEPRECATED_API NPY_1_7_API_VERSION\" [\u001b[01;35m\u001b[K-Wcpp\u001b[m\u001b[K]\n",
            " #\u001b[01;35m\u001b[Kwarning\u001b[m\u001b[K \"Using deprecated NumPy API, disable it with \" \\\n",
            "  \u001b[01;35m\u001b[K^~~~~~~\u001b[m\u001b[K\n",
            "/usr/local/lib/python2.7/dist-packages/Cython/Compiler/Main.py:369: FutureWarning: Cython directive 'language_level' not set, using 2 for now (Py2). This will change in a later release! File: /content/Base/Similarity/Cython/Compute_Similarity_Cython.pyx\n",
            "  tree = Parsing.p_module(s, pxd, full_module_name)\n",
            "Compiling [10/11]: Compute_Similarity_Cython.pyx... PASS\n",
            "\n",
            "Compiling [11/11]: SLIM_BPR_Cython_Epoch.pyx... \n",
            "/usr/local/lib/python3.6/dist-packages/Cython/Compiler/Main.py:369: FutureWarning: Cython directive 'language_level' not set, using 2 for now (Py2). This will change in a later release! File: /content/SLIM_BPR/Cython/SLIM_BPR_Cython_Epoch.pyx\n",
            "  tree = Parsing.p_module(s, pxd, full_module_name)\n",
            "warning: SLIM_BPR_Cython_Epoch.pyx:636:34: Non-trivial type declarators in shared declaration (e.g. mix of pointers and values). Each pointer declaration should be on its own line.\n",
            "warning: SLIM_BPR_Cython_Epoch.pyx:636:66: Non-trivial type declarators in shared declaration (e.g. mix of pointers and values). Each pointer declaration should be on its own line.\n",
            "warning: SLIM_BPR_Cython_Epoch.pyx:825:35: Non-trivial type declarators in shared declaration (e.g. mix of pointers and values). Each pointer declaration should be on its own line.\n",
            "warning: SLIM_BPR_Cython_Epoch.pyx:825:52: Non-trivial type declarators in shared declaration (e.g. mix of pointers and values). Each pointer declaration should be on its own line.\n",
            "warning: SLIM_BPR_Cython_Epoch.pyx:924:35: Non-trivial type declarators in shared declaration (e.g. mix of pointers and values). Each pointer declaration should be on its own line.\n",
            "warning: SLIM_BPR_Cython_Epoch.pyx:924:53: Non-trivial type declarators in shared declaration (e.g. mix of pointers and values). Each pointer declaration should be on its own line.\n",
            "warning: SLIM_BPR_Cython_Epoch.pyx:924:69: Non-trivial type declarators in shared declaration (e.g. mix of pointers and values). Each pointer declaration should be on its own line.\n",
            "warning: SLIM_BPR_Cython_Epoch.pyx:1059:35: Non-trivial type declarators in shared declaration (e.g. mix of pointers and values). Each pointer declaration should be on its own line.\n",
            "warning: SLIM_BPR_Cython_Epoch.pyx:1059:42: Non-trivial type declarators in shared declaration (e.g. mix of pointers and values). Each pointer declaration should be on its own line.\n",
            "warning: SLIM_BPR_Cython_Epoch.pyx:1060:35: Non-trivial type declarators in shared declaration (e.g. mix of pointers and values). Each pointer declaration should be on its own line.\n",
            "warning: SLIM_BPR_Cython_Epoch.pyx:1060:53: Non-trivial type declarators in shared declaration (e.g. mix of pointers and values). Each pointer declaration should be on its own line.\n",
            "In file included from \u001b[01m\u001b[K/usr/local/lib/python3.6/dist-packages/numpy/core/include/numpy/ndarraytypes.h:1822:0\u001b[m\u001b[K,\n",
            "                 from \u001b[01m\u001b[K/usr/local/lib/python3.6/dist-packages/numpy/core/include/numpy/ndarrayobject.h:12\u001b[m\u001b[K,\n",
            "                 from \u001b[01m\u001b[K/usr/local/lib/python3.6/dist-packages/numpy/core/include/numpy/arrayobject.h:4\u001b[m\u001b[K,\n",
            "                 from \u001b[01m\u001b[KSLIM_BPR_Cython_Epoch.c:610\u001b[m\u001b[K:\n",
            "\u001b[01m\u001b[K/usr/local/lib/python3.6/dist-packages/numpy/core/include/numpy/npy_1_7_deprecated_api.h:17:2:\u001b[m\u001b[K \u001b[01;35m\u001b[Kwarning: \u001b[m\u001b[K#warning \"Using deprecated NumPy API, disable it with \" \"#define NPY_NO_DEPRECATED_API NPY_1_7_API_VERSION\" [\u001b[01;35m\u001b[K-Wcpp\u001b[m\u001b[K]\n",
            " #\u001b[01;35m\u001b[Kwarning\u001b[m\u001b[K \"Using deprecated NumPy API, disable it with \" \\\n",
            "  \u001b[01;35m\u001b[K^~~~~~~\u001b[m\u001b[K\n",
            "\u001b[01m\u001b[KSLIM_BPR_Cython_Epoch.c:\u001b[m\u001b[K In function ‘\u001b[01m\u001b[K__pyx_f_21SLIM_BPR_Cython_Epoch_22Sparse_Matrix_Tree_CSR_test_list_tee_conversion\u001b[m\u001b[K’:\n",
            "\u001b[01m\u001b[KSLIM_BPR_Cython_Epoch.c:10601:15:\u001b[m\u001b[K \u001b[01;35m\u001b[Kwarning: \u001b[m\u001b[K‘\u001b[01m\u001b[K__pyx_v_previous_element\u001b[m\u001b[K’ may be used uninitialized in this function [\u001b[01;35m\u001b[K-Wmaybe-uninitialized\u001b[m\u001b[K]\n",
            "     \u001b[01;35m\u001b[K__pyx_t_7 = __pyx_v_current_element->lower\u001b[m\u001b[K;\n",
            "     \u001b[01;35m\u001b[K~~~~~~~~~~^~~~~~~~~~~~~~~~~~~~~~~~~~~~~~~~\u001b[m\u001b[K\n",
            "/usr/local/lib/python2.7/dist-packages/Cython/Compiler/Main.py:369: FutureWarning: Cython directive 'language_level' not set, using 2 for now (Py2). This will change in a later release! File: /content/SLIM_BPR/Cython/SLIM_BPR_Cython_Epoch.pyx\n",
            "  tree = Parsing.p_module(s, pxd, full_module_name)\n",
            "warning: SLIM_BPR_Cython_Epoch.pyx:636:34: Non-trivial type declarators in shared declaration (e.g. mix of pointers and values). Each pointer declaration should be on its own line.\n",
            "warning: SLIM_BPR_Cython_Epoch.pyx:636:66: Non-trivial type declarators in shared declaration (e.g. mix of pointers and values). Each pointer declaration should be on its own line.\n",
            "warning: SLIM_BPR_Cython_Epoch.pyx:825:35: Non-trivial type declarators in shared declaration (e.g. mix of pointers and values). Each pointer declaration should be on its own line.\n",
            "warning: SLIM_BPR_Cython_Epoch.pyx:825:52: Non-trivial type declarators in shared declaration (e.g. mix of pointers and values). Each pointer declaration should be on its own line.\n",
            "warning: SLIM_BPR_Cython_Epoch.pyx:924:35: Non-trivial type declarators in shared declaration (e.g. mix of pointers and values). Each pointer declaration should be on its own line.\n",
            "warning: SLIM_BPR_Cython_Epoch.pyx:924:53: Non-trivial type declarators in shared declaration (e.g. mix of pointers and values). Each pointer declaration should be on its own line.\n",
            "warning: SLIM_BPR_Cython_Epoch.pyx:924:69: Non-trivial type declarators in shared declaration (e.g. mix of pointers and values). Each pointer declaration should be on its own line.\n",
            "warning: SLIM_BPR_Cython_Epoch.pyx:1059:35: Non-trivial type declarators in shared declaration (e.g. mix of pointers and values). Each pointer declaration should be on its own line.\n",
            "warning: SLIM_BPR_Cython_Epoch.pyx:1059:42: Non-trivial type declarators in shared declaration (e.g. mix of pointers and values). Each pointer declaration should be on its own line.\n",
            "warning: SLIM_BPR_Cython_Epoch.pyx:1060:35: Non-trivial type declarators in shared declaration (e.g. mix of pointers and values). Each pointer declaration should be on its own line.\n",
            "warning: SLIM_BPR_Cython_Epoch.pyx:1060:53: Non-trivial type declarators in shared declaration (e.g. mix of pointers and values). Each pointer declaration should be on its own line.\n",
            "Compiling [11/11]: SLIM_BPR_Cython_Epoch.pyx... PASS\n",
            "\n",
            "run_compile_all_cython: Compilation finished. SUCCESS.\n",
            "Compilation log can be found here: './result_experiments/run_compile_all_cython.txt'\n"
          ],
          "name": "stdout"
        }
      ]
    },
    {
      "cell_type": "code",
      "metadata": {
        "colab": {
          "base_uri": "https://localhost:8080/"
        },
        "id": "ppIhAHNaL4pu",
        "outputId": "1b820fef-cd04-4b2d-da49-55e4fd1773c5"
      },
      "source": [
        "pip install implicit"
      ],
      "execution_count": null,
      "outputs": [
        {
          "output_type": "stream",
          "text": [
            "Collecting implicit\n",
            "\u001b[?25l  Downloading https://files.pythonhosted.org/packages/bc/07/c0121884722d16e2c5beeb815f6b84b41cbf22e738e4075f1475be2791bc/implicit-0.4.4.tar.gz (1.1MB)\n",
            "\r\u001b[K     |▎                               | 10kB 22.5MB/s eta 0:00:01\r\u001b[K     |▋                               | 20kB 17.6MB/s eta 0:00:01\r\u001b[K     |▉                               | 30kB 15.4MB/s eta 0:00:01\r\u001b[K     |█▏                              | 40kB 14.8MB/s eta 0:00:01\r\u001b[K     |█▌                              | 51kB 12.0MB/s eta 0:00:01\r\u001b[K     |█▊                              | 61kB 12.3MB/s eta 0:00:01\r\u001b[K     |██                              | 71kB 12.0MB/s eta 0:00:01\r\u001b[K     |██▍                             | 81kB 12.2MB/s eta 0:00:01\r\u001b[K     |██▋                             | 92kB 12.2MB/s eta 0:00:01\r\u001b[K     |███                             | 102kB 12.1MB/s eta 0:00:01\r\u001b[K     |███▎                            | 112kB 12.1MB/s eta 0:00:01\r\u001b[K     |███▌                            | 122kB 12.1MB/s eta 0:00:01\r\u001b[K     |███▉                            | 133kB 12.1MB/s eta 0:00:01\r\u001b[K     |████▏                           | 143kB 12.1MB/s eta 0:00:01\r\u001b[K     |████▍                           | 153kB 12.1MB/s eta 0:00:01\r\u001b[K     |████▊                           | 163kB 12.1MB/s eta 0:00:01\r\u001b[K     |█████                           | 174kB 12.1MB/s eta 0:00:01\r\u001b[K     |█████▎                          | 184kB 12.1MB/s eta 0:00:01\r\u001b[K     |█████▋                          | 194kB 12.1MB/s eta 0:00:01\r\u001b[K     |██████                          | 204kB 12.1MB/s eta 0:00:01\r\u001b[K     |██████▏                         | 215kB 12.1MB/s eta 0:00:01\r\u001b[K     |██████▌                         | 225kB 12.1MB/s eta 0:00:01\r\u001b[K     |██████▉                         | 235kB 12.1MB/s eta 0:00:01\r\u001b[K     |███████                         | 245kB 12.1MB/s eta 0:00:01\r\u001b[K     |███████▍                        | 256kB 12.1MB/s eta 0:00:01\r\u001b[K     |███████▊                        | 266kB 12.1MB/s eta 0:00:01\r\u001b[K     |████████                        | 276kB 12.1MB/s eta 0:00:01\r\u001b[K     |████████▎                       | 286kB 12.1MB/s eta 0:00:01\r\u001b[K     |████████▋                       | 296kB 12.1MB/s eta 0:00:01\r\u001b[K     |████████▉                       | 307kB 12.1MB/s eta 0:00:01\r\u001b[K     |█████████▏                      | 317kB 12.1MB/s eta 0:00:01\r\u001b[K     |█████████▌                      | 327kB 12.1MB/s eta 0:00:01\r\u001b[K     |█████████▊                      | 337kB 12.1MB/s eta 0:00:01\r\u001b[K     |██████████                      | 348kB 12.1MB/s eta 0:00:01\r\u001b[K     |██████████▍                     | 358kB 12.1MB/s eta 0:00:01\r\u001b[K     |██████████▋                     | 368kB 12.1MB/s eta 0:00:01\r\u001b[K     |███████████                     | 378kB 12.1MB/s eta 0:00:01\r\u001b[K     |███████████▏                    | 389kB 12.1MB/s eta 0:00:01\r\u001b[K     |███████████▌                    | 399kB 12.1MB/s eta 0:00:01\r\u001b[K     |███████████▉                    | 409kB 12.1MB/s eta 0:00:01\r\u001b[K     |████████████                    | 419kB 12.1MB/s eta 0:00:01\r\u001b[K     |████████████▍                   | 430kB 12.1MB/s eta 0:00:01\r\u001b[K     |████████████▊                   | 440kB 12.1MB/s eta 0:00:01\r\u001b[K     |█████████████                   | 450kB 12.1MB/s eta 0:00:01\r\u001b[K     |█████████████▎                  | 460kB 12.1MB/s eta 0:00:01\r\u001b[K     |█████████████▋                  | 471kB 12.1MB/s eta 0:00:01\r\u001b[K     |█████████████▉                  | 481kB 12.1MB/s eta 0:00:01\r\u001b[K     |██████████████▏                 | 491kB 12.1MB/s eta 0:00:01\r\u001b[K     |██████████████▌                 | 501kB 12.1MB/s eta 0:00:01\r\u001b[K     |██████████████▊                 | 512kB 12.1MB/s eta 0:00:01\r\u001b[K     |███████████████                 | 522kB 12.1MB/s eta 0:00:01\r\u001b[K     |███████████████▍                | 532kB 12.1MB/s eta 0:00:01\r\u001b[K     |███████████████▋                | 542kB 12.1MB/s eta 0:00:01\r\u001b[K     |████████████████                | 552kB 12.1MB/s eta 0:00:01\r\u001b[K     |████████████████▎               | 563kB 12.1MB/s eta 0:00:01\r\u001b[K     |████████████████▌               | 573kB 12.1MB/s eta 0:00:01\r\u001b[K     |████████████████▉               | 583kB 12.1MB/s eta 0:00:01\r\u001b[K     |█████████████████▏              | 593kB 12.1MB/s eta 0:00:01\r\u001b[K     |█████████████████▍              | 604kB 12.1MB/s eta 0:00:01\r\u001b[K     |█████████████████▊              | 614kB 12.1MB/s eta 0:00:01\r\u001b[K     |██████████████████              | 624kB 12.1MB/s eta 0:00:01\r\u001b[K     |██████████████████▎             | 634kB 12.1MB/s eta 0:00:01\r\u001b[K     |██████████████████▋             | 645kB 12.1MB/s eta 0:00:01\r\u001b[K     |███████████████████             | 655kB 12.1MB/s eta 0:00:01\r\u001b[K     |███████████████████▏            | 665kB 12.1MB/s eta 0:00:01\r\u001b[K     |███████████████████▌            | 675kB 12.1MB/s eta 0:00:01\r\u001b[K     |███████████████████▉            | 686kB 12.1MB/s eta 0:00:01\r\u001b[K     |████████████████████            | 696kB 12.1MB/s eta 0:00:01\r\u001b[K     |████████████████████▍           | 706kB 12.1MB/s eta 0:00:01\r\u001b[K     |████████████████████▊           | 716kB 12.1MB/s eta 0:00:01\r\u001b[K     |█████████████████████           | 727kB 12.1MB/s eta 0:00:01\r\u001b[K     |█████████████████████▎          | 737kB 12.1MB/s eta 0:00:01\r\u001b[K     |█████████████████████▋          | 747kB 12.1MB/s eta 0:00:01\r\u001b[K     |█████████████████████▉          | 757kB 12.1MB/s eta 0:00:01\r\u001b[K     |██████████████████████▏         | 768kB 12.1MB/s eta 0:00:01\r\u001b[K     |██████████████████████▍         | 778kB 12.1MB/s eta 0:00:01\r\u001b[K     |██████████████████████▊         | 788kB 12.1MB/s eta 0:00:01\r\u001b[K     |███████████████████████         | 798kB 12.1MB/s eta 0:00:01\r\u001b[K     |███████████████████████▎        | 808kB 12.1MB/s eta 0:00:01\r\u001b[K     |███████████████████████▋        | 819kB 12.1MB/s eta 0:00:01\r\u001b[K     |████████████████████████        | 829kB 12.1MB/s eta 0:00:01\r\u001b[K     |████████████████████████▏       | 839kB 12.1MB/s eta 0:00:01\r\u001b[K     |████████████████████████▌       | 849kB 12.1MB/s eta 0:00:01\r\u001b[K     |████████████████████████▉       | 860kB 12.1MB/s eta 0:00:01\r\u001b[K     |█████████████████████████       | 870kB 12.1MB/s eta 0:00:01\r\u001b[K     |█████████████████████████▍      | 880kB 12.1MB/s eta 0:00:01\r\u001b[K     |█████████████████████████▊      | 890kB 12.1MB/s eta 0:00:01\r\u001b[K     |██████████████████████████      | 901kB 12.1MB/s eta 0:00:01\r\u001b[K     |██████████████████████████▎     | 911kB 12.1MB/s eta 0:00:01\r\u001b[K     |██████████████████████████▋     | 921kB 12.1MB/s eta 0:00:01\r\u001b[K     |██████████████████████████▉     | 931kB 12.1MB/s eta 0:00:01\r\u001b[K     |███████████████████████████▏    | 942kB 12.1MB/s eta 0:00:01\r\u001b[K     |███████████████████████████▌    | 952kB 12.1MB/s eta 0:00:01\r\u001b[K     |███████████████████████████▊    | 962kB 12.1MB/s eta 0:00:01\r\u001b[K     |████████████████████████████    | 972kB 12.1MB/s eta 0:00:01\r\u001b[K     |████████████████████████████▍   | 983kB 12.1MB/s eta 0:00:01\r\u001b[K     |████████████████████████████▋   | 993kB 12.1MB/s eta 0:00:01\r\u001b[K     |█████████████████████████████   | 1.0MB 12.1MB/s eta 0:00:01\r\u001b[K     |█████████████████████████████▎  | 1.0MB 12.1MB/s eta 0:00:01\r\u001b[K     |█████████████████████████████▌  | 1.0MB 12.1MB/s eta 0:00:01\r\u001b[K     |█████████████████████████████▉  | 1.0MB 12.1MB/s eta 0:00:01\r\u001b[K     |██████████████████████████████▏ | 1.0MB 12.1MB/s eta 0:00:01\r\u001b[K     |██████████████████████████████▍ | 1.1MB 12.1MB/s eta 0:00:01\r\u001b[K     |██████████████████████████████▊ | 1.1MB 12.1MB/s eta 0:00:01\r\u001b[K     |███████████████████████████████ | 1.1MB 12.1MB/s eta 0:00:01\r\u001b[K     |███████████████████████████████▎| 1.1MB 12.1MB/s eta 0:00:01\r\u001b[K     |███████████████████████████████▋| 1.1MB 12.1MB/s eta 0:00:01\r\u001b[K     |████████████████████████████████| 1.1MB 12.1MB/s eta 0:00:01\r\u001b[K     |████████████████████████████████| 1.1MB 12.1MB/s \n",
            "\u001b[?25hRequirement already satisfied: numpy in /usr/local/lib/python3.6/dist-packages (from implicit) (1.19.4)\n",
            "Requirement already satisfied: scipy>=0.16 in /usr/local/lib/python3.6/dist-packages (from implicit) (1.4.1)\n",
            "Requirement already satisfied: tqdm>=4.27 in /usr/local/lib/python3.6/dist-packages (from implicit) (4.41.1)\n",
            "Building wheels for collected packages: implicit\n",
            "  Building wheel for implicit (setup.py) ... \u001b[?25l\u001b[?25hdone\n",
            "  Created wheel for implicit: filename=implicit-0.4.4-cp36-cp36m-linux_x86_64.whl size=3419409 sha256=01d8968aa7d8e4df23ff11f64b574308dc7fe7775db6501d6943b2a3b9778fc0\n",
            "  Stored in directory: /root/.cache/pip/wheels/bf/d4/ec/fd4f622fcbefb7521f149905295b2c26adecb23af38aa28217\n",
            "Successfully built implicit\n",
            "Installing collected packages: implicit\n",
            "Successfully installed implicit-0.4.4\n"
          ],
          "name": "stdout"
        }
      ]
    },
    {
      "cell_type": "code",
      "metadata": {
        "colab": {
          "base_uri": "https://localhost:8080/"
        },
        "id": "tCBBnA59MoeC",
        "outputId": "50128218-96a2-4b15-bf45-54bd165fb246"
      },
      "source": [
        "pip install optuna"
      ],
      "execution_count": null,
      "outputs": [
        {
          "output_type": "stream",
          "text": [
            "Collecting optuna\n",
            "\u001b[?25l  Downloading https://files.pythonhosted.org/packages/87/10/06b58f4120f26b603d905a594650440ea1fd74476b8b360dbf01e111469b/optuna-2.3.0.tar.gz (258kB)\n",
            "\r\u001b[K     |█▎                              | 10kB 17.9MB/s eta 0:00:01\r\u001b[K     |██▌                             | 20kB 18.1MB/s eta 0:00:01\r\u001b[K     |███▉                            | 30kB 15.0MB/s eta 0:00:01\r\u001b[K     |█████                           | 40kB 14.3MB/s eta 0:00:01\r\u001b[K     |██████▍                         | 51kB 11.4MB/s eta 0:00:01\r\u001b[K     |███████▋                        | 61kB 11.6MB/s eta 0:00:01\r\u001b[K     |████████▉                       | 71kB 11.8MB/s eta 0:00:01\r\u001b[K     |██████████▏                     | 81kB 12.0MB/s eta 0:00:01\r\u001b[K     |███████████▍                    | 92kB 12.7MB/s eta 0:00:01\r\u001b[K     |████████████▊                   | 102kB 12.7MB/s eta 0:00:01\r\u001b[K     |██████████████                  | 112kB 12.7MB/s eta 0:00:01\r\u001b[K     |███████████████▏                | 122kB 12.7MB/s eta 0:00:01\r\u001b[K     |████████████████▌               | 133kB 12.7MB/s eta 0:00:01\r\u001b[K     |█████████████████▊              | 143kB 12.7MB/s eta 0:00:01\r\u001b[K     |███████████████████             | 153kB 12.7MB/s eta 0:00:01\r\u001b[K     |████████████████████▎           | 163kB 12.7MB/s eta 0:00:01\r\u001b[K     |█████████████████████▌          | 174kB 12.7MB/s eta 0:00:01\r\u001b[K     |██████████████████████▉         | 184kB 12.7MB/s eta 0:00:01\r\u001b[K     |████████████████████████        | 194kB 12.7MB/s eta 0:00:01\r\u001b[K     |█████████████████████████▍      | 204kB 12.7MB/s eta 0:00:01\r\u001b[K     |██████████████████████████▋     | 215kB 12.7MB/s eta 0:00:01\r\u001b[K     |███████████████████████████▉    | 225kB 12.7MB/s eta 0:00:01\r\u001b[K     |█████████████████████████████▏  | 235kB 12.7MB/s eta 0:00:01\r\u001b[K     |██████████████████████████████▍ | 245kB 12.7MB/s eta 0:00:01\r\u001b[K     |███████████████████████████████▊| 256kB 12.7MB/s eta 0:00:01\r\u001b[K     |████████████████████████████████| 266kB 12.7MB/s \n",
            "\u001b[?25h  Installing build dependencies ... \u001b[?25l\u001b[?25hdone\n",
            "  Getting requirements to build wheel ... \u001b[?25l\u001b[?25hdone\n",
            "    Preparing wheel metadata ... \u001b[?25l\u001b[?25hdone\n",
            "Collecting cmaes>=0.6.0\n",
            "  Downloading https://files.pythonhosted.org/packages/8d/3c/06c76ec8b54b9b1fad7f35e903fd25010fe3e0d41bd94cea5e6f12e0d651/cmaes-0.7.0-py3-none-any.whl\n",
            "Requirement already satisfied: numpy in /usr/local/lib/python3.6/dist-packages (from optuna) (1.19.4)\n",
            "Collecting cliff\n",
            "\u001b[?25l  Downloading https://files.pythonhosted.org/packages/8a/61/5b64d73b01c1218f55c894b5ec0fb89b32c6960b7f7b3ad9f5ac0c373b9d/cliff-3.5.0-py3-none-any.whl (81kB)\n",
            "\u001b[K     |████████████████████████████████| 81kB 9.7MB/s \n",
            "\u001b[?25hRequirement already satisfied: sqlalchemy>=1.1.0 in /usr/local/lib/python3.6/dist-packages (from optuna) (1.3.20)\n",
            "Collecting colorlog\n",
            "  Downloading https://files.pythonhosted.org/packages/4e/c8/c16d30bbed11a1722060014c246d124582d1f781b26f5859d8dacc3e08e1/colorlog-4.6.2-py2.py3-none-any.whl\n",
            "Requirement already satisfied: joblib in /usr/local/lib/python3.6/dist-packages (from optuna) (1.0.0)\n",
            "Requirement already satisfied: scipy!=1.4.0 in /usr/local/lib/python3.6/dist-packages (from optuna) (1.4.1)\n",
            "Requirement already satisfied: packaging>=20.0 in /usr/local/lib/python3.6/dist-packages (from optuna) (20.8)\n",
            "Requirement already satisfied: tqdm in /usr/local/lib/python3.6/dist-packages (from optuna) (4.41.1)\n",
            "Collecting alembic\n",
            "\u001b[?25l  Downloading https://files.pythonhosted.org/packages/12/aa/c261dfd7f4ba6ce4701846a2689a46e2a172e012171de4378fc2926e3bf0/alembic-1.4.3-py2.py3-none-any.whl (159kB)\n",
            "\u001b[K     |████████████████████████████████| 163kB 44.4MB/s \n",
            "\u001b[?25hCollecting PrettyTable<0.8,>=0.7.2\n",
            "  Downloading https://files.pythonhosted.org/packages/ef/30/4b0746848746ed5941f052479e7c23d2b56d174b82f4fd34a25e389831f5/prettytable-0.7.2.tar.bz2\n",
            "Collecting pbr!=2.1.0,>=2.0.0\n",
            "\u001b[?25l  Downloading https://files.pythonhosted.org/packages/fb/48/69046506f6ac61c1eaa9a0d42d22d54673b69e176d30ca98e3f61513e980/pbr-5.5.1-py2.py3-none-any.whl (106kB)\n",
            "\u001b[K     |████████████████████████████████| 112kB 48.6MB/s \n",
            "\u001b[?25hRequirement already satisfied: PyYAML>=3.12 in /usr/local/lib/python3.6/dist-packages (from cliff->optuna) (3.13)\n",
            "Collecting stevedore>=2.0.1\n",
            "\u001b[?25l  Downloading https://files.pythonhosted.org/packages/d4/49/b602307aeac3df3384ff1fcd05da9c0376c622a6c48bb5325f28ab165b57/stevedore-3.3.0-py3-none-any.whl (49kB)\n",
            "\u001b[K     |████████████████████████████████| 51kB 7.6MB/s \n",
            "\u001b[?25hCollecting cmd2!=0.8.3,>=0.8.0\n",
            "\u001b[?25l  Downloading https://files.pythonhosted.org/packages/27/54/af6e2703f064485d717cb311d3f9440cd302a823ba6d80a020b59eae166d/cmd2-1.4.0-py3-none-any.whl (133kB)\n",
            "\u001b[K     |████████████████████████████████| 133kB 46.7MB/s \n",
            "\u001b[?25hRequirement already satisfied: six>=1.10.0 in /usr/local/lib/python3.6/dist-packages (from cliff->optuna) (1.15.0)\n",
            "Requirement already satisfied: pyparsing>=2.1.0 in /usr/local/lib/python3.6/dist-packages (from cliff->optuna) (2.4.7)\n",
            "Requirement already satisfied: python-dateutil in /usr/local/lib/python3.6/dist-packages (from alembic->optuna) (2.8.1)\n",
            "Collecting python-editor>=0.3\n",
            "  Downloading https://files.pythonhosted.org/packages/c6/d3/201fc3abe391bbae6606e6f1d598c15d367033332bd54352b12f35513717/python_editor-1.0.4-py3-none-any.whl\n",
            "Collecting Mako\n",
            "\u001b[?25l  Downloading https://files.pythonhosted.org/packages/a6/37/0e706200d22172eb8fa17d68a7ae22dec7631a0a92266634fb518a88a5b2/Mako-1.1.3-py2.py3-none-any.whl (75kB)\n",
            "\u001b[K     |████████████████████████████████| 81kB 8.8MB/s \n",
            "\u001b[?25hRequirement already satisfied: importlib-metadata>=1.7.0; python_version < \"3.8\" in /usr/local/lib/python3.6/dist-packages (from stevedore>=2.0.1->cliff->optuna) (3.3.0)\n",
            "Requirement already satisfied: wcwidth>=0.1.7 in /usr/local/lib/python3.6/dist-packages (from cmd2!=0.8.3,>=0.8.0->cliff->optuna) (0.2.5)\n",
            "Collecting pyperclip>=1.6\n",
            "  Downloading https://files.pythonhosted.org/packages/6f/4c/0b1d507ad7e8bc31d690d04b4f475e74c2002d060f7994ce8c09612df707/pyperclip-1.8.1.tar.gz\n",
            "Collecting colorama>=0.3.7\n",
            "  Downloading https://files.pythonhosted.org/packages/44/98/5b86278fbbf250d239ae0ecb724f8572af1c91f4a11edf4d36a206189440/colorama-0.4.4-py2.py3-none-any.whl\n",
            "Requirement already satisfied: attrs>=16.3.0 in /usr/local/lib/python3.6/dist-packages (from cmd2!=0.8.3,>=0.8.0->cliff->optuna) (20.3.0)\n",
            "Requirement already satisfied: MarkupSafe>=0.9.2 in /usr/local/lib/python3.6/dist-packages (from Mako->alembic->optuna) (1.1.1)\n",
            "Requirement already satisfied: typing-extensions>=3.6.4; python_version < \"3.8\" in /usr/local/lib/python3.6/dist-packages (from importlib-metadata>=1.7.0; python_version < \"3.8\"->stevedore>=2.0.1->cliff->optuna) (3.7.4.3)\n",
            "Requirement already satisfied: zipp>=0.5 in /usr/local/lib/python3.6/dist-packages (from importlib-metadata>=1.7.0; python_version < \"3.8\"->stevedore>=2.0.1->cliff->optuna) (3.4.0)\n",
            "Building wheels for collected packages: optuna\n",
            "  Building wheel for optuna (PEP 517) ... \u001b[?25l\u001b[?25hdone\n",
            "  Created wheel for optuna: filename=optuna-2.3.0-cp36-none-any.whl size=359761 sha256=2d7903a180fd6de074548111c2aaeb5cdfd0885df4b4d2cc69cbd2c52a06a0f8\n",
            "  Stored in directory: /root/.cache/pip/wheels/fa/91/19/64b0ec6b964f89c0695a9dc6db6f851d0b54c5381a5c9cadfb\n",
            "Successfully built optuna\n",
            "Building wheels for collected packages: PrettyTable, pyperclip\n",
            "  Building wheel for PrettyTable (setup.py) ... \u001b[?25l\u001b[?25hdone\n",
            "  Created wheel for PrettyTable: filename=prettytable-0.7.2-cp36-none-any.whl size=13702 sha256=76bc73ed60d0a4f49479ab605ab5b2e17f2ab421dd34aff1690b2c9151b56576\n",
            "  Stored in directory: /root/.cache/pip/wheels/80/34/1c/3967380d9676d162cb59513bd9dc862d0584e045a162095606\n",
            "  Building wheel for pyperclip (setup.py) ... \u001b[?25l\u001b[?25hdone\n",
            "  Created wheel for pyperclip: filename=pyperclip-1.8.1-cp36-none-any.whl size=11120 sha256=f77f841b9e66ee87999c8b902b3207b90176f4bd707a8a9db6e279953e35b35d\n",
            "  Stored in directory: /root/.cache/pip/wheels/44/10/3a/c830e9bb3db2c93274ea1f213a41fabde0d8cf3794251fad0c\n",
            "Successfully built PrettyTable pyperclip\n",
            "Installing collected packages: cmaes, PrettyTable, pbr, stevedore, pyperclip, colorama, cmd2, cliff, colorlog, python-editor, Mako, alembic, optuna\n",
            "  Found existing installation: prettytable 2.0.0\n",
            "    Uninstalling prettytable-2.0.0:\n",
            "      Successfully uninstalled prettytable-2.0.0\n",
            "Successfully installed Mako-1.1.3 PrettyTable-0.7.2 alembic-1.4.3 cliff-3.5.0 cmaes-0.7.0 cmd2-1.4.0 colorama-0.4.4 colorlog-4.6.2 optuna-2.3.0 pbr-5.5.1 pyperclip-1.8.1 python-editor-1.0.4 stevedore-3.3.0\n"
          ],
          "name": "stdout"
        }
      ]
    },
    {
      "cell_type": "code",
      "metadata": {
        "papermill": {
          "duration": 1.140392,
          "end_time": "2020-12-30T21:26:59.754755",
          "exception": false,
          "start_time": "2020-12-30T21:26:58.614363",
          "status": "completed"
        },
        "tags": [],
        "id": "VF5-Xo4mI2im"
      },
      "source": [
        "import os\n",
        "import pandas as pd\n",
        "import numpy as np \n",
        "import scipy.sparse as sps\n",
        "import sys\n",
        "import matplotlib.pyplot as plt\n",
        "import optuna\n",
        "\n",
        "\n",
        "from Base.Evaluation.Evaluator import EvaluatorHoldout\n",
        "from Data_manager.split_functions.split_train_validation_random_holdout import split_train_in_two_percentage_global_sample\n",
        "from GraphBased.RP3betaRecommender import RP3betaRecommender"
      ],
      "execution_count": null,
      "outputs": []
    },
    {
      "cell_type": "code",
      "metadata": {
        "papermill": {
          "duration": 0.161617,
          "end_time": "2020-12-30T21:26:59.983896",
          "exception": false,
          "start_time": "2020-12-30T21:26:59.822279",
          "status": "completed"
        },
        "tags": [],
        "id": "iHMTwWEfI2in",
        "colab": {
          "base_uri": "https://localhost:8080/",
          "height": 406
        },
        "outputId": "42a5ebe2-3321-47d7-fbe8-c66e7a123014"
      },
      "source": [
        "dataset = pd.read_csv('/content/New Challenge Data/data_train.csv')\n",
        "dataset"
      ],
      "execution_count": null,
      "outputs": [
        {
          "output_type": "execute_result",
          "data": {
            "text/html": [
              "<div>\n",
              "<style scoped>\n",
              "    .dataframe tbody tr th:only-of-type {\n",
              "        vertical-align: middle;\n",
              "    }\n",
              "\n",
              "    .dataframe tbody tr th {\n",
              "        vertical-align: top;\n",
              "    }\n",
              "\n",
              "    .dataframe thead th {\n",
              "        text-align: right;\n",
              "    }\n",
              "</style>\n",
              "<table border=\"1\" class=\"dataframe\">\n",
              "  <thead>\n",
              "    <tr style=\"text-align: right;\">\n",
              "      <th></th>\n",
              "      <th>row</th>\n",
              "      <th>col</th>\n",
              "      <th>data</th>\n",
              "    </tr>\n",
              "  </thead>\n",
              "  <tbody>\n",
              "    <tr>\n",
              "      <th>0</th>\n",
              "      <td>0</td>\n",
              "      <td>10080</td>\n",
              "      <td>1.0</td>\n",
              "    </tr>\n",
              "    <tr>\n",
              "      <th>1</th>\n",
              "      <td>0</td>\n",
              "      <td>19467</td>\n",
              "      <td>1.0</td>\n",
              "    </tr>\n",
              "    <tr>\n",
              "      <th>2</th>\n",
              "      <td>1</td>\n",
              "      <td>2665</td>\n",
              "      <td>1.0</td>\n",
              "    </tr>\n",
              "    <tr>\n",
              "      <th>3</th>\n",
              "      <td>1</td>\n",
              "      <td>7494</td>\n",
              "      <td>1.0</td>\n",
              "    </tr>\n",
              "    <tr>\n",
              "      <th>4</th>\n",
              "      <td>1</td>\n",
              "      <td>17068</td>\n",
              "      <td>1.0</td>\n",
              "    </tr>\n",
              "    <tr>\n",
              "      <th>...</th>\n",
              "      <td>...</td>\n",
              "      <td>...</td>\n",
              "      <td>...</td>\n",
              "    </tr>\n",
              "    <tr>\n",
              "      <th>113263</th>\n",
              "      <td>7945</td>\n",
              "      <td>2476</td>\n",
              "      <td>1.0</td>\n",
              "    </tr>\n",
              "    <tr>\n",
              "      <th>113264</th>\n",
              "      <td>7945</td>\n",
              "      <td>12319</td>\n",
              "      <td>1.0</td>\n",
              "    </tr>\n",
              "    <tr>\n",
              "      <th>113265</th>\n",
              "      <td>7945</td>\n",
              "      <td>21384</td>\n",
              "      <td>1.0</td>\n",
              "    </tr>\n",
              "    <tr>\n",
              "      <th>113266</th>\n",
              "      <td>7946</td>\n",
              "      <td>8699</td>\n",
              "      <td>1.0</td>\n",
              "    </tr>\n",
              "    <tr>\n",
              "      <th>113267</th>\n",
              "      <td>7946</td>\n",
              "      <td>19178</td>\n",
              "      <td>1.0</td>\n",
              "    </tr>\n",
              "  </tbody>\n",
              "</table>\n",
              "<p>113268 rows × 3 columns</p>\n",
              "</div>"
            ],
            "text/plain": [
              "         row    col  data\n",
              "0          0  10080   1.0\n",
              "1          0  19467   1.0\n",
              "2          1   2665   1.0\n",
              "3          1   7494   1.0\n",
              "4          1  17068   1.0\n",
              "...      ...    ...   ...\n",
              "113263  7945   2476   1.0\n",
              "113264  7945  12319   1.0\n",
              "113265  7945  21384   1.0\n",
              "113266  7946   8699   1.0\n",
              "113267  7946  19178   1.0\n",
              "\n",
              "[113268 rows x 3 columns]"
            ]
          },
          "metadata": {
            "tags": []
          },
          "execution_count": 6
        }
      ]
    },
    {
      "cell_type": "markdown",
      "metadata": {
        "papermill": {
          "duration": 0.068341,
          "end_time": "2020-12-30T21:27:00.120747",
          "exception": false,
          "start_time": "2020-12-30T21:27:00.052406",
          "status": "completed"
        },
        "tags": [],
        "id": "0XfZVnfKI2io"
      },
      "source": [
        "# Data pre-processing\n",
        "Pre-processing of data to check for missing users, items ecc..."
      ]
    },
    {
      "cell_type": "code",
      "metadata": {
        "papermill": {
          "duration": 0.108456,
          "end_time": "2020-12-30T21:27:00.297200",
          "exception": false,
          "start_time": "2020-12-30T21:27:00.188744",
          "status": "completed"
        },
        "tags": [],
        "id": "dIKO8_tCI2io",
        "colab": {
          "base_uri": "https://localhost:8080/",
          "height": 406
        },
        "outputId": "7d785532-65c5-4e54-9da0-2d567081452a"
      },
      "source": [
        "users = dataset.row\n",
        "items = dataset.col\n",
        "data = dataset.data\n",
        "URM_all = sps.coo_matrix((data, (users, items)))\n",
        "URM_all = URM_all.tocsr() #fast row access -> fast access to users \n",
        "URM_all.shape\n",
        "\n",
        "test_users = pd.read_csv('/content/New Challenge Data/data_target_users_test.csv')\n",
        "test_users"
      ],
      "execution_count": null,
      "outputs": [
        {
          "output_type": "execute_result",
          "data": {
            "text/html": [
              "<div>\n",
              "<style scoped>\n",
              "    .dataframe tbody tr th:only-of-type {\n",
              "        vertical-align: middle;\n",
              "    }\n",
              "\n",
              "    .dataframe tbody tr th {\n",
              "        vertical-align: top;\n",
              "    }\n",
              "\n",
              "    .dataframe thead th {\n",
              "        text-align: right;\n",
              "    }\n",
              "</style>\n",
              "<table border=\"1\" class=\"dataframe\">\n",
              "  <thead>\n",
              "    <tr style=\"text-align: right;\">\n",
              "      <th></th>\n",
              "      <th>user_id</th>\n",
              "    </tr>\n",
              "  </thead>\n",
              "  <tbody>\n",
              "    <tr>\n",
              "      <th>0</th>\n",
              "      <td>0</td>\n",
              "    </tr>\n",
              "    <tr>\n",
              "      <th>1</th>\n",
              "      <td>1</td>\n",
              "    </tr>\n",
              "    <tr>\n",
              "      <th>2</th>\n",
              "      <td>2</td>\n",
              "    </tr>\n",
              "    <tr>\n",
              "      <th>3</th>\n",
              "      <td>3</td>\n",
              "    </tr>\n",
              "    <tr>\n",
              "      <th>4</th>\n",
              "      <td>4</td>\n",
              "    </tr>\n",
              "    <tr>\n",
              "      <th>...</th>\n",
              "      <td>...</td>\n",
              "    </tr>\n",
              "    <tr>\n",
              "      <th>7939</th>\n",
              "      <td>7942</td>\n",
              "    </tr>\n",
              "    <tr>\n",
              "      <th>7940</th>\n",
              "      <td>7943</td>\n",
              "    </tr>\n",
              "    <tr>\n",
              "      <th>7941</th>\n",
              "      <td>7944</td>\n",
              "    </tr>\n",
              "    <tr>\n",
              "      <th>7942</th>\n",
              "      <td>7945</td>\n",
              "    </tr>\n",
              "    <tr>\n",
              "      <th>7943</th>\n",
              "      <td>7946</td>\n",
              "    </tr>\n",
              "  </tbody>\n",
              "</table>\n",
              "<p>7944 rows × 1 columns</p>\n",
              "</div>"
            ],
            "text/plain": [
              "      user_id\n",
              "0           0\n",
              "1           1\n",
              "2           2\n",
              "3           3\n",
              "4           4\n",
              "...       ...\n",
              "7939     7942\n",
              "7940     7943\n",
              "7941     7944\n",
              "7942     7945\n",
              "7943     7946\n",
              "\n",
              "[7944 rows x 1 columns]"
            ]
          },
          "metadata": {
            "tags": []
          },
          "execution_count": 7
        }
      ]
    },
    {
      "cell_type": "code",
      "metadata": {
        "papermill": {
          "duration": 0.624949,
          "end_time": "2020-12-30T21:27:01.004536",
          "exception": false,
          "start_time": "2020-12-30T21:27:00.379587",
          "status": "completed"
        },
        "tags": [],
        "id": "89sayjruI2ip",
        "colab": {
          "base_uri": "https://localhost:8080/",
          "height": 406
        },
        "outputId": "896d8629-34a4-4881-9dcc-ad40d85b0efc"
      },
      "source": [
        "ICM_df = pd.read_csv('/content/New Challenge Data/data_ICM_title_abstract.csv')\n",
        "ICM_df"
      ],
      "execution_count": null,
      "outputs": [
        {
          "output_type": "execute_result",
          "data": {
            "text/html": [
              "<div>\n",
              "<style scoped>\n",
              "    .dataframe tbody tr th:only-of-type {\n",
              "        vertical-align: middle;\n",
              "    }\n",
              "\n",
              "    .dataframe tbody tr th {\n",
              "        vertical-align: top;\n",
              "    }\n",
              "\n",
              "    .dataframe thead th {\n",
              "        text-align: right;\n",
              "    }\n",
              "</style>\n",
              "<table border=\"1\" class=\"dataframe\">\n",
              "  <thead>\n",
              "    <tr style=\"text-align: right;\">\n",
              "      <th></th>\n",
              "      <th>row</th>\n",
              "      <th>col</th>\n",
              "      <th>data</th>\n",
              "    </tr>\n",
              "  </thead>\n",
              "  <tbody>\n",
              "    <tr>\n",
              "      <th>0</th>\n",
              "      <td>0</td>\n",
              "      <td>1185</td>\n",
              "      <td>1.015524</td>\n",
              "    </tr>\n",
              "    <tr>\n",
              "      <th>1</th>\n",
              "      <td>0</td>\n",
              "      <td>2507</td>\n",
              "      <td>0.459024</td>\n",
              "    </tr>\n",
              "    <tr>\n",
              "      <th>2</th>\n",
              "      <td>0</td>\n",
              "      <td>3534</td>\n",
              "      <td>0.227742</td>\n",
              "    </tr>\n",
              "    <tr>\n",
              "      <th>3</th>\n",
              "      <td>0</td>\n",
              "      <td>8766</td>\n",
              "      <td>0.501549</td>\n",
              "    </tr>\n",
              "    <tr>\n",
              "      <th>4</th>\n",
              "      <td>0</td>\n",
              "      <td>10862</td>\n",
              "      <td>0.297011</td>\n",
              "    </tr>\n",
              "    <tr>\n",
              "      <th>...</th>\n",
              "      <td>...</td>\n",
              "      <td>...</td>\n",
              "      <td>...</td>\n",
              "    </tr>\n",
              "    <tr>\n",
              "      <th>490686</th>\n",
              "      <td>25974</td>\n",
              "      <td>12554</td>\n",
              "      <td>0.963016</td>\n",
              "    </tr>\n",
              "    <tr>\n",
              "      <th>490687</th>\n",
              "      <td>25974</td>\n",
              "      <td>13003</td>\n",
              "      <td>0.104613</td>\n",
              "    </tr>\n",
              "    <tr>\n",
              "      <th>490688</th>\n",
              "      <td>25974</td>\n",
              "      <td>16236</td>\n",
              "      <td>0.118760</td>\n",
              "    </tr>\n",
              "    <tr>\n",
              "      <th>490689</th>\n",
              "      <td>25974</td>\n",
              "      <td>18797</td>\n",
              "      <td>0.363301</td>\n",
              "    </tr>\n",
              "    <tr>\n",
              "      <th>490690</th>\n",
              "      <td>25974</td>\n",
              "      <td>19629</td>\n",
              "      <td>0.129141</td>\n",
              "    </tr>\n",
              "  </tbody>\n",
              "</table>\n",
              "<p>490691 rows × 3 columns</p>\n",
              "</div>"
            ],
            "text/plain": [
              "          row    col      data\n",
              "0           0   1185  1.015524\n",
              "1           0   2507  0.459024\n",
              "2           0   3534  0.227742\n",
              "3           0   8766  0.501549\n",
              "4           0  10862  0.297011\n",
              "...       ...    ...       ...\n",
              "490686  25974  12554  0.963016\n",
              "490687  25974  13003  0.104613\n",
              "490688  25974  16236  0.118760\n",
              "490689  25974  18797  0.363301\n",
              "490690  25974  19629  0.129141\n",
              "\n",
              "[490691 rows x 3 columns]"
            ]
          },
          "metadata": {
            "tags": []
          },
          "execution_count": 8
        }
      ]
    },
    {
      "cell_type": "code",
      "metadata": {
        "papermill": {
          "duration": 0.088617,
          "end_time": "2020-12-30T21:27:01.161779",
          "exception": false,
          "start_time": "2020-12-30T21:27:01.073162",
          "status": "completed"
        },
        "tags": [],
        "id": "xAZN-y_xI2ip",
        "colab": {
          "base_uri": "https://localhost:8080/"
        },
        "outputId": "08b7d600-af99-4a68-e0c2-77424ae53096"
      },
      "source": [
        "items = ICM_df.row\n",
        "features = ICM_df.col\n",
        "data = ICM_df.data\n",
        "ICM_all = sps.coo_matrix((data, (items, features)))\n",
        "ICM_all = ICM_all.tocsr() #fast row access -> fast access to users \n",
        "ICM_all.shape"
      ],
      "execution_count": null,
      "outputs": [
        {
          "output_type": "execute_result",
          "data": {
            "text/plain": [
              "(25975, 20000)"
            ]
          },
          "metadata": {
            "tags": []
          },
          "execution_count": 9
        }
      ]
    },
    {
      "cell_type": "code",
      "metadata": {
        "colab": {
          "base_uri": "https://localhost:8080/"
        },
        "id": "rB_xVEOWfG4I",
        "outputId": "f38ea678-55a5-4fff-cc3a-4d8795a99054"
      },
      "source": [
        "from Data_manager.split_functions.split_train_validation_random_holdout import split_train_in_two_percentage_global_sample\r\n",
        "from Base.Evaluation.Evaluator import EvaluatorHoldout\r\n",
        "\r\n",
        "URM_train_1, URM_validation_1 = split_train_in_two_percentage_global_sample(URM_all, train_percentage = 0.8, seed = 1)\r\n",
        "\r\n",
        "URM_train_2, URM_validation_2 = split_train_in_two_percentage_global_sample(URM_all, train_percentage = 0.8, seed = 2)\r\n",
        "\r\n",
        "URM_train_3, URM_validation_3 = split_train_in_two_percentage_global_sample(URM_all, train_percentage = 0.8, seed = 3)\r\n",
        "\r\n",
        "URM_train_4, URM_validation_4 = split_train_in_two_percentage_global_sample(URM_all, train_percentage = 0.8, seed = 4)\r\n",
        "\r\n",
        "URM_train_5, URM_validation_5 = split_train_in_two_percentage_global_sample(URM_all, train_percentage = 0.8, seed = 5)\r\n",
        "\r\n",
        "URM_train_vector = [URM_train_1,URM_train_2,URM_train_3,URM_train_4,URM_train_5]\r\n",
        "\r\n",
        "evaluator_validation_1 = EvaluatorHoldout(URM_validation_1, cutoff_list=[10])\r\n",
        "evaluator_validation_2 = EvaluatorHoldout(URM_validation_2, cutoff_list=[10])\r\n",
        "evaluator_validation_3 = EvaluatorHoldout(URM_validation_3, cutoff_list=[10])\r\n",
        "evaluator_validation_4 = EvaluatorHoldout(URM_validation_4, cutoff_list=[10])\r\n",
        "evaluator_validation_5 = EvaluatorHoldout(URM_validation_5, cutoff_list=[10])\r\n",
        "\r\n",
        "Evaluator_vector = [evaluator_validation_1, evaluator_validation_2, evaluator_validation_3, evaluator_validation_4, evaluator_validation_5]"
      ],
      "execution_count": null,
      "outputs": [
        {
          "output_type": "stream",
          "text": [
            "Warning: 71 (0.89 %) of 7947 users have no train items\n",
            "Warning: 2411 (30.34 %) of 7947 users have no sampled items\n",
            "Warning: 57 (0.72 %) of 7947 users have no train items\n",
            "Warning: 2320 (29.19 %) of 7947 users have no sampled items\n",
            "Warning: 71 (0.89 %) of 7947 users have no train items\n",
            "Warning: 2289 (28.80 %) of 7947 users have no sampled items\n",
            "Warning: 74 (0.93 %) of 7947 users have no train items\n",
            "Warning: 2273 (28.60 %) of 7947 users have no sampled items\n",
            "Warning: 64 (0.81 %) of 7947 users have no train items\n",
            "Warning: 2358 (29.67 %) of 7947 users have no sampled items\n"
          ],
          "name": "stdout"
        }
      ]
    },
    {
      "cell_type": "code",
      "metadata": {
        "papermill": {
          "duration": 2509.882482,
          "end_time": "2020-12-30T22:08:52.134898",
          "exception": false,
          "start_time": "2020-12-30T21:27:02.252416",
          "status": "completed"
        },
        "tags": [],
        "colab": {
          "base_uri": "https://localhost:8080/"
        },
        "id": "MAcDq2QFI2iq",
        "outputId": "b2e9ee30-7f3e-48a6-a449-0ab0cdf4eac8"
      },
      "source": [
        "class Objective(object):\n",
        "    def __init__(self, URM_train_vector, ICM_all, Evaluator_vector):\n",
        "        # Hold this implementation specific arguments as the fields of the class.\n",
        "        self.URM_train_vector = URM_train_vector\n",
        "        self.ICM_all = ICM_all\n",
        "        self.Evaluator_vector = Evaluator_vector\n",
        "        self.MAP_vector = np.zeros(5)\n",
        "\n",
        "        \n",
        "\n",
        "    def __call__(self, trial):\n",
        "        # Calculate an objective value by using the extra arguments.\n",
        "        topK = trial.suggest_int('topK', 150,300)\n",
        "        alpha = trial.suggest_uniform('alpha', 0.3,0.45)\n",
        "        beta = trial.suggest_uniform('beta', 0.2,0.35)\n",
        "        #weight = trial.suggest_uniform('weight', 0.1, 0.9)\n",
        "        self.MAP_vector = np.zeros(5)\n",
        "        i = 0\n",
        "        for URM_train, evaluator_validation in zip(self.URM_train_vector,self.Evaluator_vector):\n",
        "            URM_train_ICM_all = sps.vstack([URM_train, ICM_all.T])\n",
        "            recommender = RP3betaRecommender(URM_train_ICM_all)\n",
        "            recommender.fit(topK = topK, alpha = alpha, beta = beta, implicit = False)\n",
        "            result_dict, _ = evaluator_validation.evaluateRecommender(recommender)\n",
        "            self.MAP_vector[i]=result_dict[10][\"MAP\"]\n",
        "            i = i+1\n",
        "            \n",
        "        print('printing self map vector: ', self.MAP_vector)\n",
        "        MAP = np.sum(self.MAP_vector)/5\n",
        "        print('printing MAP: ', MAP)\n",
        "        \n",
        "        return MAP\n",
        "    \n",
        "# Execute an optimization by using an `Objective` instance.\n",
        "study = optuna.create_study(direction='maximize')\n",
        "study.optimize(Objective(URM_train_vector, ICM_all, Evaluator_vector), n_trials=70)\n",
        "\n",
        "print(study.best_params)"
      ],
      "execution_count": null,
      "outputs": [
        {
          "output_type": "stream",
          "text": [
            "\u001b[32m[I 2021-01-05 14:52:45,076]\u001b[0m A new study created in memory with name: no-name-866ffab3-be0f-4dba-aa82-a6cd4bdd1504\u001b[0m\n"
          ],
          "name": "stderr"
        },
        {
          "output_type": "stream",
          "text": [
            "RP3betaRecommender: URM Detected 73 (0.26 %) cold users.\n",
            "RP3betaRecommender: URM Detected 1 (0.00 %) cold items.\n",
            "EvaluatorHoldout: Processed 5536 ( 100.00% ) in 3.28 sec. Users per second: 1690\n",
            "RP3betaRecommender: URM Detected 59 (0.21 %) cold users.\n",
            "RP3betaRecommender: URM Detected 1 (0.00 %) cold items.\n",
            "EvaluatorHoldout: Processed 5627 ( 100.00% ) in 3.28 sec. Users per second: 1716\n",
            "RP3betaRecommender: URM Detected 73 (0.26 %) cold users.\n",
            "RP3betaRecommender: URM Detected 4 (0.02 %) cold items.\n",
            "EvaluatorHoldout: Processed 5658 ( 100.00% ) in 3.30 sec. Users per second: 1713\n",
            "RP3betaRecommender: URM Detected 76 (0.27 %) cold users.\n",
            "EvaluatorHoldout: Processed 5674 ( 100.00% ) in 3.26 sec. Users per second: 1740\n",
            "RP3betaRecommender: URM Detected 66 (0.24 %) cold users.\n",
            "RP3betaRecommender: URM Detected 3 (0.01 %) cold items.\n",
            "EvaluatorHoldout: Processed 5589 ( 100.00% ) in 3.22 sec. Users per second: 1735\n"
          ],
          "name": "stdout"
        },
        {
          "output_type": "stream",
          "text": [
            "\u001b[32m[I 2021-01-05 14:55:44,241]\u001b[0m Trial 0 finished with value: 0.07281391959242267 and parameters: {'topK': 283, 'alpha': 0.32590005552017204, 'beta': 0.32161100520842023}. Best is trial 0 with value: 0.07281391959242267.\u001b[0m\n"
          ],
          "name": "stderr"
        },
        {
          "output_type": "stream",
          "text": [
            "printing self map vector:  [0.07978782 0.07179201 0.07205365 0.0718081  0.06862802]\n",
            "printing MAP:  0.07281391959242267\n",
            "RP3betaRecommender: URM Detected 73 (0.26 %) cold users.\n",
            "RP3betaRecommender: URM Detected 1 (0.00 %) cold items.\n",
            "EvaluatorHoldout: Processed 5536 ( 100.00% ) in 3.06 sec. Users per second: 1809\n",
            "RP3betaRecommender: URM Detected 59 (0.21 %) cold users.\n",
            "RP3betaRecommender: URM Detected 1 (0.00 %) cold items.\n",
            "EvaluatorHoldout: Processed 5627 ( 100.00% ) in 3.08 sec. Users per second: 1829\n",
            "RP3betaRecommender: URM Detected 73 (0.26 %) cold users.\n",
            "RP3betaRecommender: URM Detected 4 (0.02 %) cold items.\n",
            "EvaluatorHoldout: Processed 5658 ( 100.00% ) in 3.14 sec. Users per second: 1801\n",
            "RP3betaRecommender: URM Detected 76 (0.27 %) cold users.\n",
            "EvaluatorHoldout: Processed 5674 ( 100.00% ) in 3.05 sec. Users per second: 1858\n",
            "RP3betaRecommender: URM Detected 66 (0.24 %) cold users.\n",
            "RP3betaRecommender: URM Detected 3 (0.01 %) cold items.\n",
            "EvaluatorHoldout: Processed 5589 ( 100.00% ) in 2.97 sec. Users per second: 1882\n"
          ],
          "name": "stdout"
        },
        {
          "output_type": "stream",
          "text": [
            "\u001b[32m[I 2021-01-05 14:58:26,526]\u001b[0m Trial 1 finished with value: 0.07343935676438407 and parameters: {'topK': 193, 'alpha': 0.3666440792749897, 'beta': 0.2502533561164425}. Best is trial 1 with value: 0.07343935676438407.\u001b[0m\n"
          ],
          "name": "stderr"
        },
        {
          "output_type": "stream",
          "text": [
            "printing self map vector:  [0.08012304 0.07363085 0.07245892 0.0720094  0.06897457]\n",
            "printing MAP:  0.07343935676438407\n",
            "RP3betaRecommender: URM Detected 73 (0.26 %) cold users.\n",
            "RP3betaRecommender: URM Detected 1 (0.00 %) cold items.\n",
            "EvaluatorHoldout: Processed 5536 ( 100.00% ) in 3.12 sec. Users per second: 1775\n",
            "RP3betaRecommender: URM Detected 59 (0.21 %) cold users.\n",
            "RP3betaRecommender: URM Detected 1 (0.00 %) cold items.\n",
            "EvaluatorHoldout: Processed 5627 ( 100.00% ) in 3.20 sec. Users per second: 1760\n",
            "RP3betaRecommender: URM Detected 73 (0.26 %) cold users.\n",
            "RP3betaRecommender: URM Detected 4 (0.02 %) cold items.\n",
            "EvaluatorHoldout: Processed 5658 ( 100.00% ) in 3.23 sec. Users per second: 1750\n",
            "RP3betaRecommender: URM Detected 76 (0.27 %) cold users.\n",
            "EvaluatorHoldout: Processed 5674 ( 100.00% ) in 3.24 sec. Users per second: 1752\n",
            "RP3betaRecommender: URM Detected 66 (0.24 %) cold users.\n",
            "RP3betaRecommender: URM Detected 3 (0.01 %) cold items.\n",
            "EvaluatorHoldout: Processed 5589 ( 100.00% ) in 3.21 sec. Users per second: 1743\n"
          ],
          "name": "stdout"
        },
        {
          "output_type": "stream",
          "text": [
            "\u001b[32m[I 2021-01-05 15:01:22,080]\u001b[0m Trial 2 finished with value: 0.07332950351922182 and parameters: {'topK': 289, 'alpha': 0.40940897485425326, 'beta': 0.25690570245133026}. Best is trial 1 with value: 0.07343935676438407.\u001b[0m\n"
          ],
          "name": "stderr"
        },
        {
          "output_type": "stream",
          "text": [
            "printing self map vector:  [0.08011373 0.07171424 0.07294073 0.07234713 0.06953169]\n",
            "printing MAP:  0.07332950351922182\n",
            "RP3betaRecommender: URM Detected 73 (0.26 %) cold users.\n",
            "RP3betaRecommender: URM Detected 1 (0.00 %) cold items.\n",
            "EvaluatorHoldout: Processed 5536 ( 100.00% ) in 3.11 sec. Users per second: 1783\n",
            "RP3betaRecommender: URM Detected 59 (0.21 %) cold users.\n",
            "RP3betaRecommender: URM Detected 1 (0.00 %) cold items.\n",
            "EvaluatorHoldout: Processed 5627 ( 100.00% ) in 3.13 sec. Users per second: 1798\n",
            "RP3betaRecommender: URM Detected 73 (0.26 %) cold users.\n",
            "RP3betaRecommender: URM Detected 4 (0.02 %) cold items.\n",
            "EvaluatorHoldout: Processed 5658 ( 100.00% ) in 3.19 sec. Users per second: 1775\n",
            "RP3betaRecommender: URM Detected 76 (0.27 %) cold users.\n",
            "EvaluatorHoldout: Processed 5674 ( 100.00% ) in 3.13 sec. Users per second: 1810\n",
            "RP3betaRecommender: URM Detected 66 (0.24 %) cold users.\n",
            "RP3betaRecommender: URM Detected 3 (0.01 %) cold items.\n",
            "EvaluatorHoldout: Processed 5589 ( 100.00% ) in 3.09 sec. Users per second: 1806\n"
          ],
          "name": "stdout"
        },
        {
          "output_type": "stream",
          "text": [
            "\u001b[32m[I 2021-01-05 15:04:14,791]\u001b[0m Trial 3 finished with value: 0.07245979053274719 and parameters: {'topK': 296, 'alpha': 0.3129821639077789, 'beta': 0.33410616617283295}. Best is trial 1 with value: 0.07343935676438407.\u001b[0m\n"
          ],
          "name": "stderr"
        },
        {
          "output_type": "stream",
          "text": [
            "printing self map vector:  [0.07919932 0.07152344 0.0718916  0.07137966 0.06830493]\n",
            "printing MAP:  0.07245979053274719\n",
            "RP3betaRecommender: URM Detected 73 (0.26 %) cold users.\n",
            "RP3betaRecommender: URM Detected 1 (0.00 %) cold items.\n",
            "EvaluatorHoldout: Processed 5536 ( 100.00% ) in 3.01 sec. Users per second: 1837\n",
            "RP3betaRecommender: URM Detected 59 (0.21 %) cold users.\n",
            "RP3betaRecommender: URM Detected 1 (0.00 %) cold items.\n",
            "EvaluatorHoldout: Processed 5627 ( 100.00% ) in 3.10 sec. Users per second: 1816\n",
            "RP3betaRecommender: URM Detected 73 (0.26 %) cold users.\n",
            "RP3betaRecommender: URM Detected 4 (0.02 %) cold items.\n",
            "EvaluatorHoldout: Processed 5658 ( 100.00% ) in 3.04 sec. Users per second: 1859\n",
            "RP3betaRecommender: URM Detected 76 (0.27 %) cold users.\n",
            "EvaluatorHoldout: Processed 5674 ( 100.00% ) in 3.11 sec. Users per second: 1824\n",
            "RP3betaRecommender: URM Detected 66 (0.24 %) cold users.\n",
            "RP3betaRecommender: URM Detected 3 (0.01 %) cold items.\n",
            "EvaluatorHoldout: Processed 5589 ( 100.00% ) in 3.01 sec. Users per second: 1855\n"
          ],
          "name": "stdout"
        },
        {
          "output_type": "stream",
          "text": [
            "\u001b[32m[I 2021-01-05 15:06:58,939]\u001b[0m Trial 4 finished with value: 0.07274678900892932 and parameters: {'topK': 258, 'alpha': 0.32012451798044594, 'beta': 0.3290445720551177}. Best is trial 1 with value: 0.07343935676438407.\u001b[0m\n"
          ],
          "name": "stderr"
        },
        {
          "output_type": "stream",
          "text": [
            "printing self map vector:  [0.07951417 0.0718159  0.07213759 0.07166064 0.06860565]\n",
            "printing MAP:  0.07274678900892932\n",
            "RP3betaRecommender: URM Detected 73 (0.26 %) cold users.\n",
            "RP3betaRecommender: URM Detected 1 (0.00 %) cold items.\n",
            "EvaluatorHoldout: Processed 5536 ( 100.00% ) in 3.14 sec. Users per second: 1764\n",
            "RP3betaRecommender: URM Detected 59 (0.21 %) cold users.\n",
            "RP3betaRecommender: URM Detected 1 (0.00 %) cold items.\n",
            "EvaluatorHoldout: Processed 5627 ( 100.00% ) in 3.16 sec. Users per second: 1782\n",
            "RP3betaRecommender: URM Detected 73 (0.26 %) cold users.\n",
            "RP3betaRecommender: URM Detected 4 (0.02 %) cold items.\n",
            "EvaluatorHoldout: Processed 5658 ( 100.00% ) in 3.11 sec. Users per second: 1821\n",
            "RP3betaRecommender: URM Detected 76 (0.27 %) cold users.\n",
            "EvaluatorHoldout: Processed 5674 ( 100.00% ) in 3.14 sec. Users per second: 1807\n",
            "RP3betaRecommender: URM Detected 66 (0.24 %) cold users.\n",
            "RP3betaRecommender: URM Detected 3 (0.01 %) cold items.\n",
            "EvaluatorHoldout: Processed 5589 ( 100.00% ) in 3.11 sec. Users per second: 1796\n"
          ],
          "name": "stdout"
        },
        {
          "output_type": "stream",
          "text": [
            "\u001b[32m[I 2021-01-05 15:09:47,706]\u001b[0m Trial 5 finished with value: 0.07249922538199674 and parameters: {'topK': 287, 'alpha': 0.4423332586720623, 'beta': 0.3354319588301863}. Best is trial 1 with value: 0.07343935676438407.\u001b[0m\n"
          ],
          "name": "stderr"
        },
        {
          "output_type": "stream",
          "text": [
            "printing self map vector:  [0.07875742 0.07089681 0.07213516 0.07170829 0.06899844]\n",
            "printing MAP:  0.07249922538199674\n",
            "RP3betaRecommender: URM Detected 73 (0.26 %) cold users.\n",
            "RP3betaRecommender: URM Detected 1 (0.00 %) cold items.\n",
            "EvaluatorHoldout: Processed 5536 ( 100.00% ) in 2.85 sec. Users per second: 1945\n",
            "RP3betaRecommender: URM Detected 59 (0.21 %) cold users.\n",
            "RP3betaRecommender: URM Detected 1 (0.00 %) cold items.\n",
            "EvaluatorHoldout: Processed 5627 ( 100.00% ) in 2.89 sec. Users per second: 1949\n",
            "RP3betaRecommender: URM Detected 73 (0.26 %) cold users.\n",
            "RP3betaRecommender: URM Detected 4 (0.02 %) cold items.\n",
            "EvaluatorHoldout: Processed 5658 ( 100.00% ) in 2.89 sec. Users per second: 1959\n",
            "RP3betaRecommender: URM Detected 76 (0.27 %) cold users.\n",
            "EvaluatorHoldout: Processed 5674 ( 100.00% ) in 2.90 sec. Users per second: 1957\n",
            "RP3betaRecommender: URM Detected 66 (0.24 %) cold users.\n",
            "RP3betaRecommender: URM Detected 3 (0.01 %) cold items.\n",
            "EvaluatorHoldout: Processed 5589 ( 100.00% ) in 2.85 sec. Users per second: 1963\n"
          ],
          "name": "stdout"
        },
        {
          "output_type": "stream",
          "text": [
            "\u001b[32m[I 2021-01-05 15:12:16,020]\u001b[0m Trial 6 finished with value: 0.07318242695735118 and parameters: {'topK': 154, 'alpha': 0.3291341844521493, 'beta': 0.24539172662244468}. Best is trial 1 with value: 0.07343935676438407.\u001b[0m\n"
          ],
          "name": "stderr"
        },
        {
          "output_type": "stream",
          "text": [
            "printing self map vector:  [0.07998039 0.07270551 0.0723099  0.07204339 0.06887294]\n",
            "printing MAP:  0.07318242695735118\n",
            "RP3betaRecommender: URM Detected 73 (0.26 %) cold users.\n",
            "RP3betaRecommender: URM Detected 1 (0.00 %) cold items.\n",
            "EvaluatorHoldout: Processed 5536 ( 100.00% ) in 3.01 sec. Users per second: 1837\n",
            "RP3betaRecommender: URM Detected 59 (0.21 %) cold users.\n",
            "RP3betaRecommender: URM Detected 1 (0.00 %) cold items.\n",
            "EvaluatorHoldout: Processed 5627 ( 100.00% ) in 3.01 sec. Users per second: 1867\n",
            "RP3betaRecommender: URM Detected 73 (0.26 %) cold users.\n",
            "RP3betaRecommender: URM Detected 4 (0.02 %) cold items.\n",
            "EvaluatorHoldout: Processed 5658 ( 100.00% ) in 3.24 sec. Users per second: 1748\n",
            "RP3betaRecommender: URM Detected 76 (0.27 %) cold users.\n",
            "EvaluatorHoldout: Processed 5674 ( 100.00% ) in 3.29 sec. Users per second: 1724\n",
            "RP3betaRecommender: URM Detected 66 (0.24 %) cold users.\n",
            "RP3betaRecommender: URM Detected 3 (0.01 %) cold items.\n",
            "EvaluatorHoldout: Processed 5589 ( 100.00% ) in 3.04 sec. Users per second: 1841\n"
          ],
          "name": "stdout"
        },
        {
          "output_type": "stream",
          "text": [
            "\u001b[32m[I 2021-01-05 15:15:01,121]\u001b[0m Trial 7 finished with value: 0.0728401441878274 and parameters: {'topK': 238, 'alpha': 0.3620151483600922, 'beta': 0.32935964487464475}. Best is trial 1 with value: 0.07343935676438407.\u001b[0m\n"
          ],
          "name": "stderr"
        },
        {
          "output_type": "stream",
          "text": [
            "printing self map vector:  [0.07978267 0.07183588 0.07196904 0.07196064 0.06865248]\n",
            "printing MAP:  0.0728401441878274\n",
            "RP3betaRecommender: URM Detected 73 (0.26 %) cold users.\n",
            "RP3betaRecommender: URM Detected 1 (0.00 %) cold items.\n",
            "EvaluatorHoldout: Processed 5536 ( 100.00% ) in 3.05 sec. Users per second: 1813\n",
            "RP3betaRecommender: URM Detected 59 (0.21 %) cold users.\n",
            "RP3betaRecommender: URM Detected 1 (0.00 %) cold items.\n",
            "EvaluatorHoldout: Processed 5627 ( 100.00% ) in 3.13 sec. Users per second: 1799\n",
            "RP3betaRecommender: URM Detected 73 (0.26 %) cold users.\n",
            "RP3betaRecommender: URM Detected 4 (0.02 %) cold items.\n",
            "EvaluatorHoldout: Processed 5658 ( 100.00% ) in 3.16 sec. Users per second: 1792\n",
            "RP3betaRecommender: URM Detected 76 (0.27 %) cold users.\n",
            "EvaluatorHoldout: Processed 5674 ( 100.00% ) in 3.12 sec. Users per second: 1819\n",
            "RP3betaRecommender: URM Detected 66 (0.24 %) cold users.\n",
            "RP3betaRecommender: URM Detected 3 (0.01 %) cold items.\n",
            "EvaluatorHoldout: Processed 5589 ( 100.00% ) in 3.05 sec. Users per second: 1834\n"
          ],
          "name": "stdout"
        },
        {
          "output_type": "stream",
          "text": [
            "\u001b[32m[I 2021-01-05 15:17:51,220]\u001b[0m Trial 8 finished with value: 0.07294162684029774 and parameters: {'topK': 286, 'alpha': 0.4447159780275747, 'beta': 0.2728381932898134}. Best is trial 1 with value: 0.07343935676438407.\u001b[0m\n"
          ],
          "name": "stderr"
        },
        {
          "output_type": "stream",
          "text": [
            "printing self map vector:  [0.0792343  0.07124076 0.07251705 0.07218976 0.06952626]\n",
            "printing MAP:  0.07294162684029774\n",
            "RP3betaRecommender: URM Detected 73 (0.26 %) cold users.\n",
            "RP3betaRecommender: URM Detected 1 (0.00 %) cold items.\n",
            "EvaluatorHoldout: Processed 5536 ( 100.00% ) in 2.94 sec. Users per second: 1881\n",
            "RP3betaRecommender: URM Detected 59 (0.21 %) cold users.\n",
            "RP3betaRecommender: URM Detected 1 (0.00 %) cold items.\n",
            "EvaluatorHoldout: Processed 5627 ( 100.00% ) in 3.10 sec. Users per second: 1818\n",
            "RP3betaRecommender: URM Detected 73 (0.26 %) cold users.\n",
            "RP3betaRecommender: URM Detected 4 (0.02 %) cold items.\n",
            "EvaluatorHoldout: Processed 5658 ( 100.00% ) in 3.00 sec. Users per second: 1887\n",
            "RP3betaRecommender: URM Detected 76 (0.27 %) cold users.\n",
            "EvaluatorHoldout: Processed 5674 ( 100.00% ) in 3.01 sec. Users per second: 1887\n",
            "RP3betaRecommender: URM Detected 66 (0.24 %) cold users.\n",
            "RP3betaRecommender: URM Detected 3 (0.01 %) cold items.\n",
            "EvaluatorHoldout: Processed 5589 ( 100.00% ) in 2.96 sec. Users per second: 1885\n"
          ],
          "name": "stdout"
        },
        {
          "output_type": "stream",
          "text": [
            "\u001b[32m[I 2021-01-05 15:20:31,380]\u001b[0m Trial 9 finished with value: 0.07330918814658265 and parameters: {'topK': 217, 'alpha': 0.3533230125403445, 'beta': 0.30357589585697276}. Best is trial 1 with value: 0.07343935676438407.\u001b[0m\n"
          ],
          "name": "stderr"
        },
        {
          "output_type": "stream",
          "text": [
            "printing self map vector:  [0.08035958 0.07272973 0.07206079 0.07200288 0.06939296]\n",
            "printing MAP:  0.07330918814658265\n",
            "RP3betaRecommender: URM Detected 73 (0.26 %) cold users.\n",
            "RP3betaRecommender: URM Detected 1 (0.00 %) cold items.\n",
            "EvaluatorHoldout: Processed 5536 ( 100.00% ) in 2.89 sec. Users per second: 1918\n",
            "RP3betaRecommender: URM Detected 59 (0.21 %) cold users.\n",
            "RP3betaRecommender: URM Detected 1 (0.00 %) cold items.\n",
            "EvaluatorHoldout: Processed 5627 ( 100.00% ) in 2.91 sec. Users per second: 1934\n",
            "RP3betaRecommender: URM Detected 73 (0.26 %) cold users.\n",
            "RP3betaRecommender: URM Detected 4 (0.02 %) cold items.\n",
            "EvaluatorHoldout: Processed 5658 ( 100.00% ) in 2.90 sec. Users per second: 1954\n",
            "RP3betaRecommender: URM Detected 76 (0.27 %) cold users.\n",
            "EvaluatorHoldout: Processed 5674 ( 100.00% ) in 2.91 sec. Users per second: 1950\n",
            "RP3betaRecommender: URM Detected 66 (0.24 %) cold users.\n",
            "RP3betaRecommender: URM Detected 3 (0.01 %) cold items.\n",
            "EvaluatorHoldout: Processed 5589 ( 100.00% ) in 2.83 sec. Users per second: 1972\n"
          ],
          "name": "stdout"
        },
        {
          "output_type": "stream",
          "text": [
            "\u001b[32m[I 2021-01-05 15:23:03,724]\u001b[0m Trial 10 finished with value: 0.07321479098727816 and parameters: {'topK': 178, 'alpha': 0.39147960556107775, 'beta': 0.22474695350062143}. Best is trial 1 with value: 0.07343935676438407.\u001b[0m\n"
          ],
          "name": "stderr"
        },
        {
          "output_type": "stream",
          "text": [
            "printing self map vector:  [0.08053159 0.0732227  0.07176971 0.07220923 0.06834072]\n",
            "printing MAP:  0.07321479098727816\n",
            "RP3betaRecommender: URM Detected 73 (0.26 %) cold users.\n",
            "RP3betaRecommender: URM Detected 1 (0.00 %) cold items.\n",
            "EvaluatorHoldout: Processed 5536 ( 100.00% ) in 2.84 sec. Users per second: 1952\n",
            "RP3betaRecommender: URM Detected 59 (0.21 %) cold users.\n",
            "RP3betaRecommender: URM Detected 1 (0.00 %) cold items.\n",
            "EvaluatorHoldout: Processed 5627 ( 100.00% ) in 2.92 sec. Users per second: 1924\n",
            "RP3betaRecommender: URM Detected 73 (0.26 %) cold users.\n",
            "RP3betaRecommender: URM Detected 4 (0.02 %) cold items.\n",
            "EvaluatorHoldout: Processed 5658 ( 100.00% ) in 2.92 sec. Users per second: 1938\n",
            "RP3betaRecommender: URM Detected 76 (0.27 %) cold users.\n",
            "EvaluatorHoldout: Processed 5674 ( 100.00% ) in 2.91 sec. Users per second: 1951\n",
            "RP3betaRecommender: URM Detected 66 (0.24 %) cold users.\n",
            "RP3betaRecommender: URM Detected 3 (0.01 %) cold items.\n",
            "EvaluatorHoldout: Processed 5589 ( 100.00% ) in 2.86 sec. Users per second: 1953\n"
          ],
          "name": "stdout"
        },
        {
          "output_type": "stream",
          "text": [
            "\u001b[32m[I 2021-01-05 15:25:35,614]\u001b[0m Trial 11 finished with value: 0.07318327106808331 and parameters: {'topK': 194, 'alpha': 0.4018342941488603, 'beta': 0.26029915743412707}. Best is trial 1 with value: 0.07343935676438407.\u001b[0m\n"
          ],
          "name": "stderr"
        },
        {
          "output_type": "stream",
          "text": [
            "printing self map vector:  [0.08019515 0.07295344 0.07192104 0.07214361 0.06870313]\n",
            "printing MAP:  0.07318327106808331\n",
            "RP3betaRecommender: URM Detected 73 (0.26 %) cold users.\n",
            "RP3betaRecommender: URM Detected 1 (0.00 %) cold items.\n",
            "EvaluatorHoldout: Processed 5536 ( 100.00% ) in 2.88 sec. Users per second: 1924\n",
            "RP3betaRecommender: URM Detected 59 (0.21 %) cold users.\n",
            "RP3betaRecommender: URM Detected 1 (0.00 %) cold items.\n",
            "EvaluatorHoldout: Processed 5627 ( 100.00% ) in 2.89 sec. Users per second: 1945\n",
            "RP3betaRecommender: URM Detected 73 (0.26 %) cold users.\n",
            "RP3betaRecommender: URM Detected 4 (0.02 %) cold items.\n",
            "EvaluatorHoldout: Processed 5658 ( 100.00% ) in 2.95 sec. Users per second: 1921\n",
            "RP3betaRecommender: URM Detected 76 (0.27 %) cold users.\n",
            "EvaluatorHoldout: Processed 5674 ( 100.00% ) in 2.95 sec. Users per second: 1922\n",
            "RP3betaRecommender: URM Detected 66 (0.24 %) cold users.\n",
            "RP3betaRecommender: URM Detected 3 (0.01 %) cold items.\n",
            "EvaluatorHoldout: Processed 5589 ( 100.00% ) in 2.92 sec. Users per second: 1913\n"
          ],
          "name": "stdout"
        },
        {
          "output_type": "stream",
          "text": [
            "\u001b[32m[I 2021-01-05 15:28:08,759]\u001b[0m Trial 12 finished with value: 0.07311286325667263 and parameters: {'topK': 199, 'alpha': 0.41296619768236337, 'beta': 0.20051006827370305}. Best is trial 1 with value: 0.07343935676438407.\u001b[0m\n"
          ],
          "name": "stderr"
        },
        {
          "output_type": "stream",
          "text": [
            "printing self map vector:  [0.08050301 0.07298153 0.07167874 0.07212813 0.06827291]\n",
            "printing MAP:  0.07311286325667263\n",
            "RP3betaRecommender: URM Detected 73 (0.26 %) cold users.\n",
            "RP3betaRecommender: URM Detected 1 (0.00 %) cold items.\n",
            "EvaluatorHoldout: Processed 5536 ( 100.00% ) in 2.77 sec. Users per second: 1995\n",
            "RP3betaRecommender: URM Detected 59 (0.21 %) cold users.\n",
            "RP3betaRecommender: URM Detected 1 (0.00 %) cold items.\n",
            "EvaluatorHoldout: Processed 5627 ( 100.00% ) in 2.80 sec. Users per second: 2007\n",
            "RP3betaRecommender: URM Detected 73 (0.26 %) cold users.\n",
            "RP3betaRecommender: URM Detected 4 (0.02 %) cold items.\n",
            "EvaluatorHoldout: Processed 5658 ( 100.00% ) in 2.85 sec. Users per second: 1986\n",
            "RP3betaRecommender: URM Detected 76 (0.27 %) cold users.\n",
            "EvaluatorHoldout: Processed 5674 ( 100.00% ) in 2.85 sec. Users per second: 1994\n",
            "RP3betaRecommender: URM Detected 66 (0.24 %) cold users.\n",
            "RP3betaRecommender: URM Detected 3 (0.01 %) cold items.\n",
            "EvaluatorHoldout: Processed 5589 ( 100.00% ) in 2.83 sec. Users per second: 1974\n"
          ],
          "name": "stdout"
        },
        {
          "output_type": "stream",
          "text": [
            "\u001b[32m[I 2021-01-05 15:30:34,898]\u001b[0m Trial 13 finished with value: 0.07318253647024904 and parameters: {'topK': 154, 'alpha': 0.4217214976914898, 'beta': 0.23515350888223838}. Best is trial 1 with value: 0.07343935676438407.\u001b[0m\n"
          ],
          "name": "stderr"
        },
        {
          "output_type": "stream",
          "text": [
            "printing self map vector:  [0.07990774 0.07251496 0.07183938 0.07284111 0.0688095 ]\n",
            "printing MAP:  0.07318253647024904\n",
            "RP3betaRecommender: URM Detected 73 (0.26 %) cold users.\n",
            "RP3betaRecommender: URM Detected 1 (0.00 %) cold items.\n",
            "EvaluatorHoldout: Processed 5536 ( 100.00% ) in 2.93 sec. Users per second: 1889\n",
            "RP3betaRecommender: URM Detected 59 (0.21 %) cold users.\n",
            "RP3betaRecommender: URM Detected 1 (0.00 %) cold items.\n",
            "EvaluatorHoldout: Processed 5627 ( 100.00% ) in 2.99 sec. Users per second: 1879\n",
            "RP3betaRecommender: URM Detected 73 (0.26 %) cold users.\n",
            "RP3betaRecommender: URM Detected 4 (0.02 %) cold items.\n",
            "EvaluatorHoldout: Processed 5658 ( 100.00% ) in 3.16 sec. Users per second: 1790\n",
            "RP3betaRecommender: URM Detected 76 (0.27 %) cold users.\n",
            "EvaluatorHoldout: Processed 5674 ( 100.00% ) in 3.15 sec. Users per second: 1801\n",
            "RP3betaRecommender: URM Detected 66 (0.24 %) cold users.\n",
            "RP3betaRecommender: URM Detected 3 (0.01 %) cold items.\n",
            "EvaluatorHoldout: Processed 5589 ( 100.00% ) in 3.05 sec. Users per second: 1834\n"
          ],
          "name": "stdout"
        },
        {
          "output_type": "stream",
          "text": [
            "\u001b[32m[I 2021-01-05 15:33:19,178]\u001b[0m Trial 14 finished with value: 0.07309555507741938 and parameters: {'topK': 250, 'alpha': 0.382338051389265, 'beta': 0.2963837271523633}. Best is trial 1 with value: 0.07343935676438407.\u001b[0m\n"
          ],
          "name": "stderr"
        },
        {
          "output_type": "stream",
          "text": [
            "printing self map vector:  [0.08019401 0.07186925 0.07215241 0.07237333 0.06888879]\n",
            "printing MAP:  0.07309555507741938\n",
            "RP3betaRecommender: URM Detected 73 (0.26 %) cold users.\n",
            "RP3betaRecommender: URM Detected 1 (0.00 %) cold items.\n",
            "EvaluatorHoldout: Processed 5536 ( 100.00% ) in 2.93 sec. Users per second: 1890\n",
            "RP3betaRecommender: URM Detected 59 (0.21 %) cold users.\n",
            "RP3betaRecommender: URM Detected 1 (0.00 %) cold items.\n",
            "EvaluatorHoldout: Processed 5627 ( 100.00% ) in 2.91 sec. Users per second: 1932\n",
            "RP3betaRecommender: URM Detected 73 (0.26 %) cold users.\n",
            "RP3betaRecommender: URM Detected 4 (0.02 %) cold items.\n",
            "EvaluatorHoldout: Processed 5658 ( 100.00% ) in 2.95 sec. Users per second: 1919\n",
            "RP3betaRecommender: URM Detected 76 (0.27 %) cold users.\n",
            "EvaluatorHoldout: Processed 5674 ( 100.00% ) in 2.90 sec. Users per second: 1960\n",
            "RP3betaRecommender: URM Detected 66 (0.24 %) cold users.\n",
            "RP3betaRecommender: URM Detected 3 (0.01 %) cold items.\n",
            "EvaluatorHoldout: Processed 5589 ( 100.00% ) in 2.86 sec. Users per second: 1953\n"
          ],
          "name": "stdout"
        },
        {
          "output_type": "stream",
          "text": [
            "\u001b[32m[I 2021-01-05 15:35:51,555]\u001b[0m Trial 15 finished with value: 0.07326075936329723 and parameters: {'topK': 174, 'alpha': 0.3643376348530064, 'beta': 0.20997788268349377}. Best is trial 1 with value: 0.07343935676438407.\u001b[0m\n"
          ],
          "name": "stderr"
        },
        {
          "output_type": "stream",
          "text": [
            "printing self map vector:  [0.08021313 0.07327261 0.07217772 0.0722532  0.06838713]\n",
            "printing MAP:  0.07326075936329723\n",
            "RP3betaRecommender: URM Detected 73 (0.26 %) cold users.\n",
            "RP3betaRecommender: URM Detected 1 (0.00 %) cold items.\n",
            "EvaluatorHoldout: Processed 5536 ( 100.00% ) in 2.98 sec. Users per second: 1856\n",
            "RP3betaRecommender: URM Detected 59 (0.21 %) cold users.\n",
            "RP3betaRecommender: URM Detected 1 (0.00 %) cold items.\n",
            "EvaluatorHoldout: Processed 5627 ( 100.00% ) in 2.97 sec. Users per second: 1893\n",
            "RP3betaRecommender: URM Detected 73 (0.26 %) cold users.\n",
            "RP3betaRecommender: URM Detected 4 (0.02 %) cold items.\n",
            "EvaluatorHoldout: Processed 5658 ( 100.00% ) in 3.08 sec. Users per second: 1838\n",
            "RP3betaRecommender: URM Detected 76 (0.27 %) cold users.\n",
            "EvaluatorHoldout: Processed 5674 ( 100.00% ) in 2.98 sec. Users per second: 1903\n",
            "RP3betaRecommender: URM Detected 66 (0.24 %) cold users.\n",
            "RP3betaRecommender: URM Detected 3 (0.01 %) cold items.\n",
            "EvaluatorHoldout: Processed 5589 ( 100.00% ) in 2.94 sec. Users per second: 1902\n"
          ],
          "name": "stdout"
        },
        {
          "output_type": "stream",
          "text": [
            "\u001b[32m[I 2021-01-05 15:38:30,042]\u001b[0m Trial 16 finished with value: 0.07338604112054305 and parameters: {'topK': 218, 'alpha': 0.3467192002489252, 'beta': 0.2549376603736286}. Best is trial 1 with value: 0.07343935676438407.\u001b[0m\n"
          ],
          "name": "stderr"
        },
        {
          "output_type": "stream",
          "text": [
            "printing self map vector:  [0.0805866  0.07312604 0.07225641 0.07182006 0.06914109]\n",
            "printing MAP:  0.07338604112054305\n",
            "RP3betaRecommender: URM Detected 73 (0.26 %) cold users.\n",
            "RP3betaRecommender: URM Detected 1 (0.00 %) cold items.\n",
            "EvaluatorHoldout: Processed 5536 ( 100.00% ) in 2.89 sec. Users per second: 1918\n",
            "RP3betaRecommender: URM Detected 59 (0.21 %) cold users.\n",
            "RP3betaRecommender: URM Detected 1 (0.00 %) cold items.\n",
            "EvaluatorHoldout: Processed 5627 ( 100.00% ) in 2.92 sec. Users per second: 1925\n",
            "RP3betaRecommender: URM Detected 73 (0.26 %) cold users.\n",
            "RP3betaRecommender: URM Detected 4 (0.02 %) cold items.\n",
            "EvaluatorHoldout: Processed 5658 ( 100.00% ) in 2.98 sec. Users per second: 1896\n",
            "RP3betaRecommender: URM Detected 76 (0.27 %) cold users.\n",
            "EvaluatorHoldout: Processed 5674 ( 100.00% ) in 3.02 sec. Users per second: 1878\n",
            "RP3betaRecommender: URM Detected 66 (0.24 %) cold users.\n",
            "RP3betaRecommender: URM Detected 3 (0.01 %) cold items.\n",
            "EvaluatorHoldout: Processed 5589 ( 100.00% ) in 2.96 sec. Users per second: 1891\n"
          ],
          "name": "stdout"
        },
        {
          "output_type": "stream",
          "text": [
            "\u001b[32m[I 2021-01-05 15:41:08,452]\u001b[0m Trial 17 finished with value: 0.07326276364894191 and parameters: {'topK': 216, 'alpha': 0.3386283204527736, 'beta': 0.28672957983748226}. Best is trial 1 with value: 0.07343935676438407.\u001b[0m\n"
          ],
          "name": "stderr"
        },
        {
          "output_type": "stream",
          "text": [
            "printing self map vector:  [0.08014343 0.07298483 0.07211893 0.07170202 0.0693646 ]\n",
            "printing MAP:  0.07326276364894191\n",
            "RP3betaRecommender: URM Detected 73 (0.26 %) cold users.\n",
            "RP3betaRecommender: URM Detected 1 (0.00 %) cold items.\n",
            "EvaluatorHoldout: Processed 5536 ( 100.00% ) in 2.92 sec. Users per second: 1898\n",
            "RP3betaRecommender: URM Detected 59 (0.21 %) cold users.\n",
            "RP3betaRecommender: URM Detected 1 (0.00 %) cold items.\n",
            "EvaluatorHoldout: Processed 5627 ( 100.00% ) in 2.94 sec. Users per second: 1913\n",
            "RP3betaRecommender: URM Detected 73 (0.26 %) cold users.\n",
            "RP3betaRecommender: URM Detected 4 (0.02 %) cold items.\n",
            "EvaluatorHoldout: Processed 5658 ( 100.00% ) in 3.06 sec. Users per second: 1850\n",
            "RP3betaRecommender: URM Detected 76 (0.27 %) cold users.\n",
            "EvaluatorHoldout: Processed 5674 ( 100.00% ) in 3.00 sec. Users per second: 1888\n",
            "RP3betaRecommender: URM Detected 66 (0.24 %) cold users.\n",
            "RP3betaRecommender: URM Detected 3 (0.01 %) cold items.\n",
            "EvaluatorHoldout: Processed 5589 ( 100.00% ) in 2.96 sec. Users per second: 1890\n"
          ],
          "name": "stdout"
        },
        {
          "output_type": "stream",
          "text": [
            "\u001b[32m[I 2021-01-05 15:43:45,741]\u001b[0m Trial 18 finished with value: 0.07334463951851639 and parameters: {'topK': 199, 'alpha': 0.34208604875268867, 'beta': 0.22513016859019094}. Best is trial 1 with value: 0.07343935676438407.\u001b[0m\n"
          ],
          "name": "stderr"
        },
        {
          "output_type": "stream",
          "text": [
            "printing self map vector:  [0.08008064 0.07331419 0.07281229 0.07172819 0.06878788]\n",
            "printing MAP:  0.07334463951851639\n",
            "RP3betaRecommender: URM Detected 73 (0.26 %) cold users.\n",
            "RP3betaRecommender: URM Detected 1 (0.00 %) cold items.\n",
            "EvaluatorHoldout: Processed 5536 ( 100.00% ) in 3.03 sec. Users per second: 1824\n",
            "RP3betaRecommender: URM Detected 59 (0.21 %) cold users.\n",
            "RP3betaRecommender: URM Detected 1 (0.00 %) cold items.\n",
            "EvaluatorHoldout: Processed 5627 ( 100.00% ) in 3.05 sec. Users per second: 1842\n",
            "RP3betaRecommender: URM Detected 73 (0.26 %) cold users.\n",
            "RP3betaRecommender: URM Detected 4 (0.02 %) cold items.\n",
            "EvaluatorHoldout: Processed 5658 ( 100.00% ) in 3.08 sec. Users per second: 1835\n",
            "RP3betaRecommender: URM Detected 76 (0.27 %) cold users.\n",
            "EvaluatorHoldout: Processed 5674 ( 100.00% ) in 3.08 sec. Users per second: 1844\n",
            "RP3betaRecommender: URM Detected 66 (0.24 %) cold users.\n",
            "RP3betaRecommender: URM Detected 3 (0.01 %) cold items.\n",
            "EvaluatorHoldout: Processed 5589 ( 100.00% ) in 3.11 sec. Users per second: 1796\n"
          ],
          "name": "stdout"
        },
        {
          "output_type": "stream",
          "text": [
            "\u001b[32m[I 2021-01-05 15:46:29,100]\u001b[0m Trial 19 finished with value: 0.07296339116335519 and parameters: {'topK': 229, 'alpha': 0.3056486739243325, 'beta': 0.27064474467270305}. Best is trial 1 with value: 0.07343935676438407.\u001b[0m\n"
          ],
          "name": "stderr"
        },
        {
          "output_type": "stream",
          "text": [
            "printing self map vector:  [0.07998339 0.07258995 0.07235261 0.07135575 0.06853525]\n",
            "printing MAP:  0.07296339116335519\n",
            "RP3betaRecommender: URM Detected 73 (0.26 %) cold users.\n",
            "RP3betaRecommender: URM Detected 1 (0.00 %) cold items.\n",
            "EvaluatorHoldout: Processed 5536 ( 100.00% ) in 2.94 sec. Users per second: 1884\n",
            "RP3betaRecommender: URM Detected 59 (0.21 %) cold users.\n",
            "RP3betaRecommender: URM Detected 1 (0.00 %) cold items.\n",
            "EvaluatorHoldout: Processed 5627 ( 100.00% ) in 2.98 sec. Users per second: 1891\n",
            "RP3betaRecommender: URM Detected 73 (0.26 %) cold users.\n",
            "RP3betaRecommender: URM Detected 4 (0.02 %) cold items.\n",
            "EvaluatorHoldout: Processed 5658 ( 100.00% ) in 2.99 sec. Users per second: 1893\n",
            "RP3betaRecommender: URM Detected 76 (0.27 %) cold users.\n",
            "EvaluatorHoldout: Processed 5674 ( 100.00% ) in 3.00 sec. Users per second: 1893\n",
            "RP3betaRecommender: URM Detected 66 (0.24 %) cold users.\n",
            "RP3betaRecommender: URM Detected 3 (0.01 %) cold items.\n",
            "EvaluatorHoldout: Processed 5589 ( 100.00% ) in 3.00 sec. Users per second: 1866\n"
          ],
          "name": "stdout"
        },
        {
          "output_type": "stream",
          "text": [
            "\u001b[32m[I 2021-01-05 15:49:06,173]\u001b[0m Trial 20 finished with value: 0.07337833904856739 and parameters: {'topK': 180, 'alpha': 0.3721193605122404, 'beta': 0.24936633061238114}. Best is trial 1 with value: 0.07343935676438407.\u001b[0m\n"
          ],
          "name": "stderr"
        },
        {
          "output_type": "stream",
          "text": [
            "printing self map vector:  [0.08011744 0.073555   0.07222691 0.07216999 0.06882236]\n",
            "printing MAP:  0.07337833904856739\n",
            "RP3betaRecommender: URM Detected 73 (0.26 %) cold users.\n",
            "RP3betaRecommender: URM Detected 1 (0.00 %) cold items.\n",
            "EvaluatorHoldout: Processed 5536 ( 100.00% ) in 2.96 sec. Users per second: 1868\n",
            "RP3betaRecommender: URM Detected 59 (0.21 %) cold users.\n",
            "RP3betaRecommender: URM Detected 1 (0.00 %) cold items.\n",
            "EvaluatorHoldout: Processed 5627 ( 100.00% ) in 2.97 sec. Users per second: 1895\n",
            "RP3betaRecommender: URM Detected 73 (0.26 %) cold users.\n",
            "RP3betaRecommender: URM Detected 4 (0.02 %) cold items.\n",
            "EvaluatorHoldout: Processed 5658 ( 100.00% ) in 2.99 sec. Users per second: 1893\n",
            "RP3betaRecommender: URM Detected 76 (0.27 %) cold users.\n",
            "EvaluatorHoldout: Processed 5674 ( 100.00% ) in 2.98 sec. Users per second: 1905\n",
            "RP3betaRecommender: URM Detected 66 (0.24 %) cold users.\n",
            "RP3betaRecommender: URM Detected 3 (0.01 %) cold items.\n",
            "EvaluatorHoldout: Processed 5589 ( 100.00% ) in 2.94 sec. Users per second: 1900\n"
          ],
          "name": "stdout"
        },
        {
          "output_type": "stream",
          "text": [
            "\u001b[32m[I 2021-01-05 15:51:42,686]\u001b[0m Trial 21 finished with value: 0.073373268368868 and parameters: {'topK': 176, 'alpha': 0.375514951443287, 'beta': 0.24723066949676278}. Best is trial 1 with value: 0.07343935676438407.\u001b[0m\n"
          ],
          "name": "stderr"
        },
        {
          "output_type": "stream",
          "text": [
            "printing self map vector:  [0.08016252 0.07355675 0.07198677 0.07236762 0.06879269]\n",
            "printing MAP:  0.073373268368868\n",
            "RP3betaRecommender: URM Detected 73 (0.26 %) cold users.\n",
            "RP3betaRecommender: URM Detected 1 (0.00 %) cold items.\n",
            "EvaluatorHoldout: Processed 5536 ( 100.00% ) in 3.01 sec. Users per second: 1836\n",
            "RP3betaRecommender: URM Detected 59 (0.21 %) cold users.\n",
            "RP3betaRecommender: URM Detected 1 (0.00 %) cold items.\n",
            "EvaluatorHoldout: Processed 5627 ( 100.00% ) in 2.99 sec. Users per second: 1881\n",
            "RP3betaRecommender: URM Detected 73 (0.26 %) cold users.\n",
            "RP3betaRecommender: URM Detected 4 (0.02 %) cold items.\n",
            "EvaluatorHoldout: Processed 5658 ( 100.00% ) in 3.01 sec. Users per second: 1879\n",
            "RP3betaRecommender: URM Detected 76 (0.27 %) cold users.\n",
            "EvaluatorHoldout: Processed 5674 ( 100.00% ) in 3.02 sec. Users per second: 1879\n",
            "RP3betaRecommender: URM Detected 66 (0.24 %) cold users.\n",
            "RP3betaRecommender: URM Detected 3 (0.01 %) cold items.\n",
            "EvaluatorHoldout: Processed 5589 ( 100.00% ) in 3.01 sec. Users per second: 1857\n"
          ],
          "name": "stdout"
        },
        {
          "output_type": "stream",
          "text": [
            "\u001b[32m[I 2021-01-05 15:54:22,023]\u001b[0m Trial 22 finished with value: 0.07327479789779326 and parameters: {'topK': 186, 'alpha': 0.35419650428559796, 'beta': 0.25470778417809375}. Best is trial 1 with value: 0.07343935676438407.\u001b[0m\n"
          ],
          "name": "stderr"
        },
        {
          "output_type": "stream",
          "text": [
            "printing self map vector:  [0.07967745 0.07326256 0.07243587 0.07201445 0.06898366]\n",
            "printing MAP:  0.07327479789779326\n",
            "RP3betaRecommender: URM Detected 73 (0.26 %) cold users.\n",
            "RP3betaRecommender: URM Detected 1 (0.00 %) cold items.\n",
            "EvaluatorHoldout: Processed 5536 ( 100.00% ) in 3.08 sec. Users per second: 1795\n",
            "RP3betaRecommender: URM Detected 59 (0.21 %) cold users.\n",
            "RP3betaRecommender: URM Detected 1 (0.00 %) cold items.\n",
            "EvaluatorHoldout: Processed 5627 ( 100.00% ) in 3.08 sec. Users per second: 1830\n",
            "RP3betaRecommender: URM Detected 73 (0.26 %) cold users.\n",
            "RP3betaRecommender: URM Detected 4 (0.02 %) cold items.\n",
            "EvaluatorHoldout: Processed 5658 ( 100.00% ) in 3.11 sec. Users per second: 1822\n",
            "RP3betaRecommender: URM Detected 76 (0.27 %) cold users.\n",
            "EvaluatorHoldout: Processed 5674 ( 100.00% ) in 3.13 sec. Users per second: 1812\n",
            "RP3betaRecommender: URM Detected 66 (0.24 %) cold users.\n",
            "RP3betaRecommender: URM Detected 3 (0.01 %) cold items.\n",
            "EvaluatorHoldout: Processed 5589 ( 100.00% ) in 3.07 sec. Users per second: 1818\n"
          ],
          "name": "stdout"
        },
        {
          "output_type": "stream",
          "text": [
            "\u001b[32m[I 2021-01-05 15:57:08,219]\u001b[0m Trial 23 finished with value: 0.07346484139843047 and parameters: {'topK': 222, 'alpha': 0.3861914308781928, 'beta': 0.23997937484114318}. Best is trial 23 with value: 0.07346484139843047.\u001b[0m\n"
          ],
          "name": "stderr"
        },
        {
          "output_type": "stream",
          "text": [
            "printing self map vector:  [0.08116252 0.07289673 0.07262537 0.07226593 0.06837366]\n",
            "printing MAP:  0.07346484139843047\n",
            "RP3betaRecommender: URM Detected 73 (0.26 %) cold users.\n",
            "RP3betaRecommender: URM Detected 1 (0.00 %) cold items.\n",
            "EvaluatorHoldout: Processed 5536 ( 100.00% ) in 3.08 sec. Users per second: 1798\n",
            "RP3betaRecommender: URM Detected 59 (0.21 %) cold users.\n",
            "RP3betaRecommender: URM Detected 1 (0.00 %) cold items.\n",
            "EvaluatorHoldout: Processed 5627 ( 100.00% ) in 3.18 sec. Users per second: 1771\n",
            "RP3betaRecommender: URM Detected 73 (0.26 %) cold users.\n",
            "RP3betaRecommender: URM Detected 4 (0.02 %) cold items.\n",
            "EvaluatorHoldout: Processed 5658 ( 100.00% ) in 3.10 sec. Users per second: 1824\n",
            "RP3betaRecommender: URM Detected 76 (0.27 %) cold users.\n",
            "EvaluatorHoldout: Processed 5674 ( 100.00% ) in 3.11 sec. Users per second: 1827\n",
            "RP3betaRecommender: URM Detected 66 (0.24 %) cold users.\n",
            "RP3betaRecommender: URM Detected 3 (0.01 %) cold items.\n",
            "EvaluatorHoldout: Processed 5589 ( 100.00% ) in 3.06 sec. Users per second: 1829\n"
          ],
          "name": "stdout"
        },
        {
          "output_type": "stream",
          "text": [
            "\u001b[32m[I 2021-01-05 15:59:53,941]\u001b[0m Trial 24 finished with value: 0.07331803005680934 and parameters: {'topK': 207, 'alpha': 0.38901285053059087, 'beta': 0.2341088912472754}. Best is trial 23 with value: 0.07346484139843047.\u001b[0m\n"
          ],
          "name": "stderr"
        },
        {
          "output_type": "stream",
          "text": [
            "printing self map vector:  [0.08081946 0.07332887 0.07233762 0.0718619  0.0682423 ]\n",
            "printing MAP:  0.07331803005680934\n",
            "RP3betaRecommender: URM Detected 73 (0.26 %) cold users.\n",
            "RP3betaRecommender: URM Detected 1 (0.00 %) cold items.\n",
            "EvaluatorHoldout: Processed 5536 ( 100.00% ) in 3.10 sec. Users per second: 1786\n",
            "RP3betaRecommender: URM Detected 59 (0.21 %) cold users.\n",
            "RP3betaRecommender: URM Detected 1 (0.00 %) cold items.\n",
            "EvaluatorHoldout: Processed 5627 ( 100.00% ) in 3.16 sec. Users per second: 1780\n",
            "RP3betaRecommender: URM Detected 73 (0.26 %) cold users.\n",
            "RP3betaRecommender: URM Detected 4 (0.02 %) cold items.\n",
            "EvaluatorHoldout: Processed 5658 ( 100.00% ) in 3.17 sec. Users per second: 1784\n",
            "RP3betaRecommender: URM Detected 76 (0.27 %) cold users.\n",
            "EvaluatorHoldout: Processed 5674 ( 100.00% ) in 3.17 sec. Users per second: 1791\n",
            "RP3betaRecommender: URM Detected 66 (0.24 %) cold users.\n",
            "RP3betaRecommender: URM Detected 3 (0.01 %) cold items.\n",
            "EvaluatorHoldout: Processed 5589 ( 100.00% ) in 3.14 sec. Users per second: 1780\n"
          ],
          "name": "stdout"
        },
        {
          "output_type": "stream",
          "text": [
            "\u001b[32m[I 2021-01-05 16:02:44,370]\u001b[0m Trial 25 finished with value: 0.07336872015781119 and parameters: {'topK': 237, 'alpha': 0.34430622739474126, 'beta': 0.21703954045489116}. Best is trial 23 with value: 0.07346484139843047.\u001b[0m\n"
          ],
          "name": "stderr"
        },
        {
          "output_type": "stream",
          "text": [
            "printing self map vector:  [0.08082685 0.07319055 0.0724833  0.07190738 0.06843552]\n",
            "printing MAP:  0.07336872015781119\n",
            "RP3betaRecommender: URM Detected 73 (0.26 %) cold users.\n",
            "RP3betaRecommender: URM Detected 1 (0.00 %) cold items.\n",
            "EvaluatorHoldout: Processed 5536 ( 100.00% ) in 3.12 sec. Users per second: 1775\n",
            "RP3betaRecommender: URM Detected 59 (0.21 %) cold users.\n",
            "RP3betaRecommender: URM Detected 1 (0.00 %) cold items.\n",
            "EvaluatorHoldout: Processed 5627 ( 100.00% ) in 3.11 sec. Users per second: 1810\n",
            "RP3betaRecommender: URM Detected 73 (0.26 %) cold users.\n",
            "RP3betaRecommender: URM Detected 4 (0.02 %) cold items.\n",
            "EvaluatorHoldout: Processed 5658 ( 100.00% ) in 3.19 sec. Users per second: 1776\n",
            "RP3betaRecommender: URM Detected 76 (0.27 %) cold users.\n",
            "EvaluatorHoldout: Processed 5674 ( 100.00% ) in 3.14 sec. Users per second: 1808\n",
            "RP3betaRecommender: URM Detected 66 (0.24 %) cold users.\n",
            "RP3betaRecommender: URM Detected 3 (0.01 %) cold items.\n",
            "EvaluatorHoldout: Processed 5589 ( 100.00% ) in 3.15 sec. Users per second: 1773\n"
          ],
          "name": "stdout"
        },
        {
          "output_type": "stream",
          "text": [
            "\u001b[32m[I 2021-01-05 16:05:32,037]\u001b[0m Trial 26 finished with value: 0.07325012448396782 and parameters: {'topK': 214, 'alpha': 0.39591368297404345, 'beta': 0.26623364086443985}. Best is trial 23 with value: 0.07346484139843047.\u001b[0m\n"
          ],
          "name": "stderr"
        },
        {
          "output_type": "stream",
          "text": [
            "printing self map vector:  [0.08000909 0.0726602  0.07240252 0.07237756 0.06880126]\n",
            "printing MAP:  0.07325012448396782\n",
            "RP3betaRecommender: URM Detected 73 (0.26 %) cold users.\n",
            "RP3betaRecommender: URM Detected 1 (0.00 %) cold items.\n",
            "EvaluatorHoldout: Processed 5536 ( 100.00% ) in 3.21 sec. Users per second: 1725\n",
            "RP3betaRecommender: URM Detected 59 (0.21 %) cold users.\n",
            "RP3betaRecommender: URM Detected 1 (0.00 %) cold items.\n",
            "EvaluatorHoldout: Processed 5627 ( 100.00% ) in 3.24 sec. Users per second: 1738\n",
            "RP3betaRecommender: URM Detected 73 (0.26 %) cold users.\n",
            "RP3betaRecommender: URM Detected 4 (0.02 %) cold items.\n",
            "EvaluatorHoldout: Processed 5658 ( 100.00% ) in 3.25 sec. Users per second: 1740\n",
            "RP3betaRecommender: URM Detected 76 (0.27 %) cold users.\n",
            "EvaluatorHoldout: Processed 5674 ( 100.00% ) in 3.24 sec. Users per second: 1750\n",
            "RP3betaRecommender: URM Detected 66 (0.24 %) cold users.\n",
            "RP3betaRecommender: URM Detected 3 (0.01 %) cold items.\n",
            "EvaluatorHoldout: Processed 5589 ( 100.00% ) in 3.30 sec. Users per second: 1694\n"
          ],
          "name": "stdout"
        },
        {
          "output_type": "stream",
          "text": [
            "\u001b[32m[I 2021-01-05 16:08:28,900]\u001b[0m Trial 27 finished with value: 0.07329443404927212 and parameters: {'topK': 264, 'alpha': 0.36987876033756106, 'beta': 0.28554318833644127}. Best is trial 23 with value: 0.07346484139843047.\u001b[0m\n"
          ],
          "name": "stderr"
        },
        {
          "output_type": "stream",
          "text": [
            "printing self map vector:  [0.07964523 0.07247436 0.07247489 0.0727735  0.06910419]\n",
            "printing MAP:  0.07329443404927212\n",
            "RP3betaRecommender: URM Detected 73 (0.26 %) cold users.\n",
            "RP3betaRecommender: URM Detected 1 (0.00 %) cold items.\n",
            "EvaluatorHoldout: Processed 5536 ( 100.00% ) in 3.00 sec. Users per second: 1844\n",
            "RP3betaRecommender: URM Detected 59 (0.21 %) cold users.\n",
            "RP3betaRecommender: URM Detected 1 (0.00 %) cold items.\n",
            "EvaluatorHoldout: Processed 5627 ( 100.00% ) in 3.06 sec. Users per second: 1840\n",
            "RP3betaRecommender: URM Detected 73 (0.26 %) cold users.\n",
            "RP3betaRecommender: URM Detected 4 (0.02 %) cold items.\n",
            "EvaluatorHoldout: Processed 5658 ( 100.00% ) in 3.10 sec. Users per second: 1826\n",
            "RP3betaRecommender: URM Detected 76 (0.27 %) cold users.\n",
            "EvaluatorHoldout: Processed 5674 ( 100.00% ) in 3.10 sec. Users per second: 1833\n",
            "RP3betaRecommender: URM Detected 66 (0.24 %) cold users.\n",
            "RP3betaRecommender: URM Detected 3 (0.01 %) cold items.\n",
            "EvaluatorHoldout: Processed 5589 ( 100.00% ) in 3.08 sec. Users per second: 1817\n"
          ],
          "name": "stdout"
        },
        {
          "output_type": "stream",
          "text": [
            "\u001b[32m[I 2021-01-05 16:11:10,614]\u001b[0m Trial 28 finished with value: 0.07327278464137732 and parameters: {'topK': 165, 'alpha': 0.3533898193755371, 'beta': 0.24027172691280507}. Best is trial 23 with value: 0.07346484139843047.\u001b[0m\n"
          ],
          "name": "stderr"
        },
        {
          "output_type": "stream",
          "text": [
            "printing self map vector:  [0.07986804 0.07302826 0.07226496 0.07241557 0.06878709]\n",
            "printing MAP:  0.07327278464137732\n",
            "RP3betaRecommender: URM Detected 73 (0.26 %) cold users.\n",
            "RP3betaRecommender: URM Detected 1 (0.00 %) cold items.\n",
            "EvaluatorHoldout: Processed 5536 ( 100.00% ) in 3.15 sec. Users per second: 1759\n",
            "RP3betaRecommender: URM Detected 59 (0.21 %) cold users.\n",
            "RP3betaRecommender: URM Detected 1 (0.00 %) cold items.\n",
            "EvaluatorHoldout: Processed 5627 ( 100.00% ) in 3.20 sec. Users per second: 1758\n",
            "RP3betaRecommender: URM Detected 73 (0.26 %) cold users.\n",
            "RP3betaRecommender: URM Detected 4 (0.02 %) cold items.\n",
            "EvaluatorHoldout: Processed 5658 ( 100.00% ) in 3.20 sec. Users per second: 1766\n",
            "RP3betaRecommender: URM Detected 76 (0.27 %) cold users.\n",
            "EvaluatorHoldout: Processed 5674 ( 100.00% ) in 3.25 sec. Users per second: 1744\n",
            "RP3betaRecommender: URM Detected 66 (0.24 %) cold users.\n",
            "RP3betaRecommender: URM Detected 3 (0.01 %) cold items.\n",
            "EvaluatorHoldout: Processed 5589 ( 100.00% ) in 3.18 sec. Users per second: 1760\n"
          ],
          "name": "stdout"
        },
        {
          "output_type": "stream",
          "text": [
            "\u001b[32m[I 2021-01-05 16:14:02,733]\u001b[0m Trial 29 finished with value: 0.07312898626418449 and parameters: {'topK': 223, 'alpha': 0.3313071483433687, 'beta': 0.2814697801324086}. Best is trial 23 with value: 0.07346484139843047.\u001b[0m\n"
          ],
          "name": "stderr"
        },
        {
          "output_type": "stream",
          "text": [
            "printing self map vector:  [0.07992956 0.07276546 0.07216046 0.07165603 0.06913343]\n",
            "printing MAP:  0.07312898626418449\n",
            "RP3betaRecommender: URM Detected 73 (0.26 %) cold users.\n",
            "RP3betaRecommender: URM Detected 1 (0.00 %) cold items.\n",
            "EvaluatorHoldout: Processed 5536 ( 100.00% ) in 3.21 sec. Users per second: 1725\n",
            "RP3betaRecommender: URM Detected 59 (0.21 %) cold users.\n",
            "RP3betaRecommender: URM Detected 1 (0.00 %) cold items.\n",
            "EvaluatorHoldout: Processed 5627 ( 100.00% ) in 3.18 sec. Users per second: 1772\n",
            "RP3betaRecommender: URM Detected 73 (0.26 %) cold users.\n",
            "RP3betaRecommender: URM Detected 4 (0.02 %) cold items.\n",
            "EvaluatorHoldout: Processed 5658 ( 100.00% ) in 3.22 sec. Users per second: 1757\n",
            "RP3betaRecommender: URM Detected 76 (0.27 %) cold users.\n",
            "EvaluatorHoldout: Processed 5674 ( 100.00% ) in 3.23 sec. Users per second: 1758\n",
            "RP3betaRecommender: URM Detected 66 (0.24 %) cold users.\n",
            "RP3betaRecommender: URM Detected 3 (0.01 %) cold items.\n",
            "EvaluatorHoldout: Processed 5589 ( 100.00% ) in 3.18 sec. Users per second: 1759\n"
          ],
          "name": "stdout"
        },
        {
          "output_type": "stream",
          "text": [
            "\u001b[32m[I 2021-01-05 16:16:55,646]\u001b[0m Trial 30 finished with value: 0.07317652998772477 and parameters: {'topK': 232, 'alpha': 0.3820535194124714, 'beta': 0.3103343446953724}. Best is trial 23 with value: 0.07346484139843047.\u001b[0m\n"
          ],
          "name": "stderr"
        },
        {
          "output_type": "stream",
          "text": [
            "printing self map vector:  [0.0801579  0.07221391 0.07228213 0.07231245 0.06891626]\n",
            "printing MAP:  0.07317652998772477\n",
            "RP3betaRecommender: URM Detected 73 (0.26 %) cold users.\n",
            "RP3betaRecommender: URM Detected 1 (0.00 %) cold items.\n",
            "EvaluatorHoldout: Processed 5536 ( 100.00% ) in 3.09 sec. Users per second: 1790\n",
            "RP3betaRecommender: URM Detected 59 (0.21 %) cold users.\n",
            "RP3betaRecommender: URM Detected 1 (0.00 %) cold items.\n",
            "EvaluatorHoldout: Processed 5627 ( 100.00% ) in 3.11 sec. Users per second: 1812\n",
            "RP3betaRecommender: URM Detected 73 (0.26 %) cold users.\n",
            "RP3betaRecommender: URM Detected 4 (0.02 %) cold items.\n",
            "EvaluatorHoldout: Processed 5658 ( 100.00% ) in 3.14 sec. Users per second: 1800\n",
            "RP3betaRecommender: URM Detected 76 (0.27 %) cold users.\n",
            "EvaluatorHoldout: Processed 5674 ( 100.00% ) in 3.16 sec. Users per second: 1794\n",
            "RP3betaRecommender: URM Detected 66 (0.24 %) cold users.\n",
            "RP3betaRecommender: URM Detected 3 (0.01 %) cold items.\n",
            "EvaluatorHoldout: Processed 5589 ( 100.00% ) in 3.13 sec. Users per second: 1788\n"
          ],
          "name": "stdout"
        },
        {
          "output_type": "stream",
          "text": [
            "\u001b[32m[I 2021-01-05 16:19:41,744]\u001b[0m Trial 31 finished with value: 0.0734523135835439 and parameters: {'topK': 188, 'alpha': 0.3776483467476267, 'beta': 0.2516780081805203}. Best is trial 23 with value: 0.07346484139843047.\u001b[0m\n"
          ],
          "name": "stderr"
        },
        {
          "output_type": "stream",
          "text": [
            "printing self map vector:  [0.08022911 0.07340836 0.07235479 0.07229347 0.06897585]\n",
            "printing MAP:  0.0734523135835439\n",
            "RP3betaRecommender: URM Detected 73 (0.26 %) cold users.\n",
            "RP3betaRecommender: URM Detected 1 (0.00 %) cold items.\n",
            "EvaluatorHoldout: Processed 5536 ( 100.00% ) in 3.06 sec. Users per second: 1809\n",
            "RP3betaRecommender: URM Detected 59 (0.21 %) cold users.\n",
            "RP3betaRecommender: URM Detected 1 (0.00 %) cold items.\n",
            "EvaluatorHoldout: Processed 5627 ( 100.00% ) in 3.02 sec. Users per second: 1865\n",
            "RP3betaRecommender: URM Detected 73 (0.26 %) cold users.\n",
            "RP3betaRecommender: URM Detected 4 (0.02 %) cold items.\n",
            "EvaluatorHoldout: Processed 5658 ( 100.00% ) in 3.07 sec. Users per second: 1845\n",
            "RP3betaRecommender: URM Detected 76 (0.27 %) cold users.\n",
            "EvaluatorHoldout: Processed 5674 ( 100.00% ) in 3.09 sec. Users per second: 1839\n",
            "RP3betaRecommender: URM Detected 66 (0.24 %) cold users.\n",
            "RP3betaRecommender: URM Detected 3 (0.01 %) cold items.\n",
            "EvaluatorHoldout: Processed 5589 ( 100.00% ) in 3.04 sec. Users per second: 1836\n"
          ],
          "name": "stdout"
        },
        {
          "output_type": "stream",
          "text": [
            "\u001b[32m[I 2021-01-05 16:22:26,606]\u001b[0m Trial 32 finished with value: 0.07365058857470327 and parameters: {'topK': 207, 'alpha': 0.36128728066686633, 'beta': 0.26052832791376884}. Best is trial 32 with value: 0.07365058857470327.\u001b[0m\n"
          ],
          "name": "stderr"
        },
        {
          "output_type": "stream",
          "text": [
            "printing self map vector:  [0.08042879 0.07367495 0.07280931 0.07196763 0.06937227]\n",
            "printing MAP:  0.07365058857470327\n",
            "RP3betaRecommender: URM Detected 73 (0.26 %) cold users.\n",
            "RP3betaRecommender: URM Detected 1 (0.00 %) cold items.\n",
            "EvaluatorHoldout: Processed 5536 ( 100.00% ) in 2.98 sec. Users per second: 1855\n",
            "RP3betaRecommender: URM Detected 59 (0.21 %) cold users.\n",
            "RP3betaRecommender: URM Detected 1 (0.00 %) cold items.\n",
            "EvaluatorHoldout: Processed 5627 ( 100.00% ) in 3.00 sec. Users per second: 1879\n",
            "RP3betaRecommender: URM Detected 73 (0.26 %) cold users.\n",
            "RP3betaRecommender: URM Detected 4 (0.02 %) cold items.\n",
            "EvaluatorHoldout: Processed 5658 ( 100.00% ) in 3.09 sec. Users per second: 1832\n",
            "RP3betaRecommender: URM Detected 76 (0.27 %) cold users.\n",
            "EvaluatorHoldout: Processed 5674 ( 100.00% ) in 3.07 sec. Users per second: 1847\n",
            "RP3betaRecommender: URM Detected 66 (0.24 %) cold users.\n",
            "RP3betaRecommender: URM Detected 3 (0.01 %) cold items.\n",
            "EvaluatorHoldout: Processed 5589 ( 100.00% ) in 2.98 sec. Users per second: 1874\n"
          ],
          "name": "stdout"
        },
        {
          "output_type": "stream",
          "text": [
            "\u001b[32m[I 2021-01-05 16:25:07,161]\u001b[0m Trial 33 finished with value: 0.0733514404389956 and parameters: {'topK': 192, 'alpha': 0.3814748415541926, 'beta': 0.2634444418131669}. Best is trial 32 with value: 0.07365058857470327.\u001b[0m\n"
          ],
          "name": "stderr"
        },
        {
          "output_type": "stream",
          "text": [
            "printing self map vector:  [0.07998017 0.07357308 0.07186825 0.07217223 0.06916346]\n",
            "printing MAP:  0.0733514404389956\n",
            "RP3betaRecommender: URM Detected 73 (0.26 %) cold users.\n",
            "RP3betaRecommender: URM Detected 1 (0.00 %) cold items.\n",
            "EvaluatorHoldout: Processed 5536 ( 100.00% ) in 2.92 sec. Users per second: 1894\n",
            "RP3betaRecommender: URM Detected 59 (0.21 %) cold users.\n",
            "RP3betaRecommender: URM Detected 1 (0.00 %) cold items.\n",
            "EvaluatorHoldout: Processed 5627 ( 100.00% ) in 2.98 sec. Users per second: 1891\n",
            "RP3betaRecommender: URM Detected 73 (0.26 %) cold users.\n",
            "RP3betaRecommender: URM Detected 4 (0.02 %) cold items.\n",
            "EvaluatorHoldout: Processed 5658 ( 100.00% ) in 2.98 sec. Users per second: 1901\n",
            "RP3betaRecommender: URM Detected 76 (0.27 %) cold users.\n",
            "EvaluatorHoldout: Processed 5674 ( 100.00% ) in 2.99 sec. Users per second: 1900\n",
            "RP3betaRecommender: URM Detected 66 (0.24 %) cold users.\n",
            "RP3betaRecommender: URM Detected 3 (0.01 %) cold items.\n",
            "EvaluatorHoldout: Processed 5589 ( 100.00% ) in 2.93 sec. Users per second: 1905\n"
          ],
          "name": "stdout"
        },
        {
          "output_type": "stream",
          "text": [
            "\u001b[32m[I 2021-01-05 16:27:45,225]\u001b[0m Trial 34 finished with value: 0.07333543577059838 and parameters: {'topK': 204, 'alpha': 0.36102321263435927, 'beta': 0.22965063587367376}. Best is trial 32 with value: 0.07365058857470327.\u001b[0m\n"
          ],
          "name": "stderr"
        },
        {
          "output_type": "stream",
          "text": [
            "printing self map vector:  [0.08026657 0.07346614 0.07242842 0.07223473 0.06828133]\n",
            "printing MAP:  0.07333543577059838\n",
            "RP3betaRecommender: URM Detected 73 (0.26 %) cold users.\n",
            "RP3betaRecommender: URM Detected 1 (0.00 %) cold items.\n",
            "EvaluatorHoldout: Processed 5536 ( 100.00% ) in 2.80 sec. Users per second: 1979\n",
            "RP3betaRecommender: URM Detected 59 (0.21 %) cold users.\n",
            "RP3betaRecommender: URM Detected 1 (0.00 %) cold items.\n",
            "EvaluatorHoldout: Processed 5627 ( 100.00% ) in 2.84 sec. Users per second: 1980\n",
            "RP3betaRecommender: URM Detected 73 (0.26 %) cold users.\n",
            "RP3betaRecommender: URM Detected 4 (0.02 %) cold items.\n",
            "EvaluatorHoldout: Processed 5658 ( 100.00% ) in 2.97 sec. Users per second: 1906\n",
            "RP3betaRecommender: URM Detected 76 (0.27 %) cold users.\n",
            "EvaluatorHoldout: Processed 5674 ( 100.00% ) in 2.91 sec. Users per second: 1951\n",
            "RP3betaRecommender: URM Detected 66 (0.24 %) cold users.\n",
            "RP3betaRecommender: URM Detected 3 (0.01 %) cold items.\n",
            "EvaluatorHoldout: Processed 5589 ( 100.00% ) in 2.86 sec. Users per second: 1955\n"
          ],
          "name": "stdout"
        },
        {
          "output_type": "stream",
          "text": [
            "\u001b[32m[I 2021-01-05 16:30:15,317]\u001b[0m Trial 35 finished with value: 0.07323363013459391 and parameters: {'topK': 165, 'alpha': 0.4100877481244979, 'beta': 0.2427531493605138}. Best is trial 32 with value: 0.07365058857470327.\u001b[0m\n"
          ],
          "name": "stderr"
        },
        {
          "output_type": "stream",
          "text": [
            "printing self map vector:  [0.08029352 0.07247345 0.07204093 0.07239732 0.06896293]\n",
            "printing MAP:  0.07323363013459391\n",
            "RP3betaRecommender: URM Detected 73 (0.26 %) cold users.\n",
            "RP3betaRecommender: URM Detected 1 (0.00 %) cold items.\n",
            "EvaluatorHoldout: Processed 5536 ( 100.00% ) in 2.90 sec. Users per second: 1909\n",
            "RP3betaRecommender: URM Detected 59 (0.21 %) cold users.\n",
            "RP3betaRecommender: URM Detected 1 (0.00 %) cold items.\n",
            "EvaluatorHoldout: Processed 5627 ( 100.00% ) in 2.91 sec. Users per second: 1933\n",
            "RP3betaRecommender: URM Detected 73 (0.26 %) cold users.\n",
            "RP3betaRecommender: URM Detected 4 (0.02 %) cold items.\n",
            "EvaluatorHoldout: Processed 5658 ( 100.00% ) in 3.10 sec. Users per second: 1824\n",
            "RP3betaRecommender: URM Detected 76 (0.27 %) cold users.\n",
            "EvaluatorHoldout: Processed 5674 ( 100.00% ) in 2.97 sec. Users per second: 1910\n",
            "RP3betaRecommender: URM Detected 66 (0.24 %) cold users.\n",
            "RP3betaRecommender: URM Detected 3 (0.01 %) cold items.\n",
            "EvaluatorHoldout: Processed 5589 ( 100.00% ) in 2.92 sec. Users per second: 1914\n"
          ],
          "name": "stdout"
        },
        {
          "output_type": "stream",
          "text": [
            "\u001b[32m[I 2021-01-05 16:32:53,258]\u001b[0m Trial 36 finished with value: 0.07299448365562008 and parameters: {'topK': 208, 'alpha': 0.429876475259674, 'beta': 0.21733578208701979}. Best is trial 32 with value: 0.07365058857470327.\u001b[0m\n"
          ],
          "name": "stderr"
        },
        {
          "output_type": "stream",
          "text": [
            "printing self map vector:  [0.08034861 0.07244209 0.07176049 0.07200075 0.06842048]\n",
            "printing MAP:  0.07299448365562008\n",
            "RP3betaRecommender: URM Detected 73 (0.26 %) cold users.\n",
            "RP3betaRecommender: URM Detected 1 (0.00 %) cold items.\n",
            "EvaluatorHoldout: Processed 5536 ( 100.00% ) in 2.85 sec. Users per second: 1942\n",
            "RP3betaRecommender: URM Detected 59 (0.21 %) cold users.\n",
            "RP3betaRecommender: URM Detected 1 (0.00 %) cold items.\n",
            "EvaluatorHoldout: Processed 5627 ( 100.00% ) in 2.94 sec. Users per second: 1912\n",
            "RP3betaRecommender: URM Detected 73 (0.26 %) cold users.\n",
            "RP3betaRecommender: URM Detected 4 (0.02 %) cold items.\n",
            "EvaluatorHoldout: Processed 5658 ( 100.00% ) in 3.05 sec. Users per second: 1855\n",
            "RP3betaRecommender: URM Detected 76 (0.27 %) cold users.\n",
            "EvaluatorHoldout: Processed 5674 ( 100.00% ) in 2.98 sec. Users per second: 1905\n",
            "RP3betaRecommender: URM Detected 66 (0.24 %) cold users.\n",
            "RP3betaRecommender: URM Detected 3 (0.01 %) cold items.\n",
            "EvaluatorHoldout: Processed 5589 ( 100.00% ) in 3.03 sec. Users per second: 1843\n"
          ],
          "name": "stdout"
        },
        {
          "output_type": "stream",
          "text": [
            "\u001b[32m[I 2021-01-05 16:35:29,275]\u001b[0m Trial 37 finished with value: 0.0732772676466501 and parameters: {'topK': 190, 'alpha': 0.4000996216854181, 'beta': 0.25579826314561543}. Best is trial 32 with value: 0.07365058857470327.\u001b[0m\n"
          ],
          "name": "stderr"
        },
        {
          "output_type": "stream",
          "text": [
            "printing self map vector:  [0.08004016 0.07335523 0.07192335 0.07232635 0.06874125]\n",
            "printing MAP:  0.0732772676466501\n",
            "RP3betaRecommender: URM Detected 73 (0.26 %) cold users.\n",
            "RP3betaRecommender: URM Detected 1 (0.00 %) cold items.\n",
            "EvaluatorHoldout: Processed 5536 ( 100.00% ) in 3.04 sec. Users per second: 1820\n",
            "RP3betaRecommender: URM Detected 59 (0.21 %) cold users.\n",
            "RP3betaRecommender: URM Detected 1 (0.00 %) cold items.\n",
            "EvaluatorHoldout: Processed 5627 ( 100.00% ) in 3.11 sec. Users per second: 1807\n",
            "RP3betaRecommender: URM Detected 73 (0.26 %) cold users.\n",
            "RP3betaRecommender: URM Detected 4 (0.02 %) cold items.\n",
            "EvaluatorHoldout: Processed 5658 ( 100.00% ) in 3.07 sec. Users per second: 1841\n",
            "RP3betaRecommender: URM Detected 76 (0.27 %) cold users.\n",
            "EvaluatorHoldout: Processed 5674 ( 100.00% ) in 3.05 sec. Users per second: 1859\n",
            "RP3betaRecommender: URM Detected 66 (0.24 %) cold users.\n",
            "RP3betaRecommender: URM Detected 3 (0.01 %) cold items.\n",
            "EvaluatorHoldout: Processed 5589 ( 100.00% ) in 3.04 sec. Users per second: 1841\n"
          ],
          "name": "stdout"
        },
        {
          "output_type": "stream",
          "text": [
            "\u001b[32m[I 2021-01-05 16:38:17,457]\u001b[0m Trial 38 finished with value: 0.07279039778972167 and parameters: {'topK': 247, 'alpha': 0.36998943489764385, 'beta': 0.3476427146730939}. Best is trial 32 with value: 0.07365058857470327.\u001b[0m\n"
          ],
          "name": "stderr"
        },
        {
          "output_type": "stream",
          "text": [
            "printing self map vector:  [0.079616   0.07161361 0.07186283 0.07216366 0.0686959 ]\n",
            "printing MAP:  0.07279039778972167\n",
            "RP3betaRecommender: URM Detected 73 (0.26 %) cold users.\n",
            "RP3betaRecommender: URM Detected 1 (0.00 %) cold items.\n",
            "EvaluatorHoldout: Processed 5536 ( 100.00% ) in 2.92 sec. Users per second: 1898\n",
            "RP3betaRecommender: URM Detected 59 (0.21 %) cold users.\n",
            "RP3betaRecommender: URM Detected 1 (0.00 %) cold items.\n",
            "EvaluatorHoldout: Processed 5627 ( 100.00% ) in 2.94 sec. Users per second: 1913\n",
            "RP3betaRecommender: URM Detected 73 (0.26 %) cold users.\n",
            "RP3betaRecommender: URM Detected 4 (0.02 %) cold items.\n",
            "EvaluatorHoldout: Processed 5658 ( 100.00% ) in 3.00 sec. Users per second: 1887\n",
            "RP3betaRecommender: URM Detected 76 (0.27 %) cold users.\n",
            "EvaluatorHoldout: Processed 5674 ( 100.00% ) in 3.00 sec. Users per second: 1890\n",
            "RP3betaRecommender: URM Detected 66 (0.24 %) cold users.\n",
            "RP3betaRecommender: URM Detected 3 (0.01 %) cold items.\n",
            "EvaluatorHoldout: Processed 5589 ( 100.00% ) in 2.98 sec. Users per second: 1875\n"
          ],
          "name": "stdout"
        },
        {
          "output_type": "stream",
          "text": [
            "\u001b[32m[I 2021-01-05 16:40:57,139]\u001b[0m Trial 39 finished with value: 0.07356254620248487 and parameters: {'topK': 199, 'alpha': 0.3607757755098535, 'beta': 0.2787013733292146}. Best is trial 32 with value: 0.07365058857470327.\u001b[0m\n"
          ],
          "name": "stderr"
        },
        {
          "output_type": "stream",
          "text": [
            "printing self map vector:  [0.08016472 0.07390755 0.07250984 0.07211151 0.06911911]\n",
            "printing MAP:  0.07356254620248487\n",
            "RP3betaRecommender: URM Detected 73 (0.26 %) cold users.\n",
            "RP3betaRecommender: URM Detected 1 (0.00 %) cold items.\n",
            "EvaluatorHoldout: Processed 5536 ( 100.00% ) in 2.97 sec. Users per second: 1866\n",
            "RP3betaRecommender: URM Detected 59 (0.21 %) cold users.\n",
            "RP3betaRecommender: URM Detected 1 (0.00 %) cold items.\n",
            "EvaluatorHoldout: Processed 5627 ( 100.00% ) in 3.04 sec. Users per second: 1853\n",
            "RP3betaRecommender: URM Detected 73 (0.26 %) cold users.\n",
            "RP3betaRecommender: URM Detected 4 (0.02 %) cold items.\n",
            "EvaluatorHoldout: Processed 5658 ( 100.00% ) in 3.10 sec. Users per second: 1824\n",
            "RP3betaRecommender: URM Detected 76 (0.27 %) cold users.\n",
            "EvaluatorHoldout: Processed 5674 ( 100.00% ) in 3.05 sec. Users per second: 1861\n",
            "RP3betaRecommender: URM Detected 66 (0.24 %) cold users.\n",
            "RP3betaRecommender: URM Detected 3 (0.01 %) cold items.\n",
            "EvaluatorHoldout: Processed 5589 ( 100.00% ) in 2.99 sec. Users per second: 1866\n"
          ],
          "name": "stdout"
        },
        {
          "output_type": "stream",
          "text": [
            "\u001b[32m[I 2021-01-05 16:43:39,260]\u001b[0m Trial 40 finished with value: 0.0733727641048463 and parameters: {'topK': 210, 'alpha': 0.3870781637145445, 'beta': 0.2758232658414709}. Best is trial 32 with value: 0.07365058857470327.\u001b[0m\n"
          ],
          "name": "stderr"
        },
        {
          "output_type": "stream",
          "text": [
            "printing self map vector:  [0.08024706 0.07291938 0.07200866 0.07254521 0.06914352]\n",
            "printing MAP:  0.0733727641048463\n",
            "RP3betaRecommender: URM Detected 73 (0.26 %) cold users.\n",
            "RP3betaRecommender: URM Detected 1 (0.00 %) cold items.\n",
            "EvaluatorHoldout: Processed 5536 ( 100.00% ) in 3.01 sec. Users per second: 1842\n",
            "RP3betaRecommender: URM Detected 59 (0.21 %) cold users.\n",
            "RP3betaRecommender: URM Detected 1 (0.00 %) cold items.\n",
            "EvaluatorHoldout: Processed 5627 ( 100.00% ) in 3.00 sec. Users per second: 1878\n",
            "RP3betaRecommender: URM Detected 73 (0.26 %) cold users.\n",
            "RP3betaRecommender: URM Detected 4 (0.02 %) cold items.\n",
            "EvaluatorHoldout: Processed 5658 ( 100.00% ) in 3.03 sec. Users per second: 1870\n",
            "RP3betaRecommender: URM Detected 76 (0.27 %) cold users.\n",
            "EvaluatorHoldout: Processed 5674 ( 100.00% ) in 3.09 sec. Users per second: 1834\n",
            "RP3betaRecommender: URM Detected 66 (0.24 %) cold users.\n",
            "RP3betaRecommender: URM Detected 3 (0.01 %) cold items.\n",
            "EvaluatorHoldout: Processed 5589 ( 100.00% ) in 3.02 sec. Users per second: 1852\n"
          ],
          "name": "stdout"
        },
        {
          "output_type": "stream",
          "text": [
            "\u001b[32m[I 2021-01-05 16:46:19,332]\u001b[0m Trial 41 finished with value: 0.07353544660713596 and parameters: {'topK': 200, 'alpha': 0.36160633083837024, 'beta': 0.27584637647934995}. Best is trial 32 with value: 0.07365058857470327.\u001b[0m\n"
          ],
          "name": "stderr"
        },
        {
          "output_type": "stream",
          "text": [
            "printing self map vector:  [0.08009874 0.07376005 0.0725893  0.07209237 0.06913677]\n",
            "printing MAP:  0.07353544660713596\n",
            "RP3betaRecommender: URM Detected 73 (0.26 %) cold users.\n",
            "RP3betaRecommender: URM Detected 1 (0.00 %) cold items.\n",
            "EvaluatorHoldout: Processed 5536 ( 100.00% ) in 2.97 sec. Users per second: 1862\n",
            "RP3betaRecommender: URM Detected 59 (0.21 %) cold users.\n",
            "RP3betaRecommender: URM Detected 1 (0.00 %) cold items.\n",
            "EvaluatorHoldout: Processed 5627 ( 100.00% ) in 3.00 sec. Users per second: 1876\n",
            "RP3betaRecommender: URM Detected 73 (0.26 %) cold users.\n",
            "RP3betaRecommender: URM Detected 4 (0.02 %) cold items.\n",
            "EvaluatorHoldout: Processed 5658 ( 100.00% ) in 3.09 sec. Users per second: 1829\n",
            "RP3betaRecommender: URM Detected 76 (0.27 %) cold users.\n",
            "EvaluatorHoldout: Processed 5674 ( 100.00% ) in 3.07 sec. Users per second: 1847\n",
            "RP3betaRecommender: URM Detected 66 (0.24 %) cold users.\n",
            "RP3betaRecommender: URM Detected 3 (0.01 %) cold items.\n",
            "EvaluatorHoldout: Processed 5589 ( 100.00% ) in 3.00 sec. Users per second: 1860\n"
          ],
          "name": "stdout"
        },
        {
          "output_type": "stream",
          "text": [
            "\u001b[32m[I 2021-01-05 16:49:01,501]\u001b[0m Trial 42 finished with value: 0.07331701138737526 and parameters: {'topK': 202, 'alpha': 0.36046860852583273, 'beta': 0.2956098924080379}. Best is trial 32 with value: 0.07365058857470327.\u001b[0m\n"
          ],
          "name": "stderr"
        },
        {
          "output_type": "stream",
          "text": [
            "printing self map vector:  [0.08002541 0.07298254 0.07244587 0.07184407 0.06928717]\n",
            "printing MAP:  0.07331701138737526\n",
            "RP3betaRecommender: URM Detected 73 (0.26 %) cold users.\n",
            "RP3betaRecommender: URM Detected 1 (0.00 %) cold items.\n",
            "EvaluatorHoldout: Processed 5536 ( 100.00% ) in 2.97 sec. Users per second: 1863\n",
            "RP3betaRecommender: URM Detected 59 (0.21 %) cold users.\n",
            "RP3betaRecommender: URM Detected 1 (0.00 %) cold items.\n",
            "EvaluatorHoldout: Processed 5627 ( 100.00% ) in 3.04 sec. Users per second: 1853\n",
            "RP3betaRecommender: URM Detected 73 (0.26 %) cold users.\n",
            "RP3betaRecommender: URM Detected 4 (0.02 %) cold items.\n",
            "EvaluatorHoldout: Processed 5658 ( 100.00% ) in 3.03 sec. Users per second: 1867\n",
            "RP3betaRecommender: URM Detected 76 (0.27 %) cold users.\n",
            "EvaluatorHoldout: Processed 5674 ( 100.00% ) in 3.03 sec. Users per second: 1874\n",
            "RP3betaRecommender: URM Detected 66 (0.24 %) cold users.\n",
            "RP3betaRecommender: URM Detected 3 (0.01 %) cold items.\n",
            "EvaluatorHoldout: Processed 5589 ( 100.00% ) in 2.99 sec. Users per second: 1868\n"
          ],
          "name": "stdout"
        },
        {
          "output_type": "stream",
          "text": [
            "\u001b[32m[I 2021-01-05 16:51:42,014]\u001b[0m Trial 43 finished with value: 0.07329822361368202 and parameters: {'topK': 185, 'alpha': 0.3749970403097346, 'beta': 0.2776911470107401}. Best is trial 32 with value: 0.07365058857470327.\u001b[0m\n"
          ],
          "name": "stderr"
        },
        {
          "output_type": "stream",
          "text": [
            "printing self map vector:  [0.079612   0.07340109 0.07210373 0.07210954 0.06926475]\n",
            "printing MAP:  0.07329822361368202\n",
            "RP3betaRecommender: URM Detected 73 (0.26 %) cold users.\n",
            "RP3betaRecommender: URM Detected 1 (0.00 %) cold items.\n",
            "EvaluatorHoldout: Processed 5536 ( 100.00% ) in 2.99 sec. Users per second: 1853\n",
            "RP3betaRecommender: URM Detected 59 (0.21 %) cold users.\n",
            "RP3betaRecommender: URM Detected 1 (0.00 %) cold items.\n",
            "EvaluatorHoldout: Processed 5627 ( 100.00% ) in 3.06 sec. Users per second: 1839\n",
            "RP3betaRecommender: URM Detected 73 (0.26 %) cold users.\n",
            "RP3betaRecommender: URM Detected 4 (0.02 %) cold items.\n",
            "EvaluatorHoldout: Processed 5658 ( 100.00% ) in 3.15 sec. Users per second: 1796\n",
            "RP3betaRecommender: URM Detected 76 (0.27 %) cold users.\n",
            "EvaluatorHoldout: Processed 5674 ( 100.00% ) in 3.16 sec. Users per second: 1796\n",
            "RP3betaRecommender: URM Detected 66 (0.24 %) cold users.\n",
            "RP3betaRecommender: URM Detected 3 (0.01 %) cold items.\n",
            "EvaluatorHoldout: Processed 5589 ( 100.00% ) in 3.07 sec. Users per second: 1821\n"
          ],
          "name": "stdout"
        },
        {
          "output_type": "stream",
          "text": [
            "\u001b[32m[I 2021-01-05 16:54:27,961]\u001b[0m Trial 44 finished with value: 0.07344532586393696 and parameters: {'topK': 223, 'alpha': 0.354314729915087, 'beta': 0.2663210011270395}. Best is trial 32 with value: 0.07365058857470327.\u001b[0m\n"
          ],
          "name": "stderr"
        },
        {
          "output_type": "stream",
          "text": [
            "printing self map vector:  [0.08048902 0.07288259 0.07258707 0.07205663 0.06921132]\n",
            "printing MAP:  0.07344532586393696\n",
            "RP3betaRecommender: URM Detected 73 (0.26 %) cold users.\n",
            "RP3betaRecommender: URM Detected 1 (0.00 %) cold items.\n",
            "EvaluatorHoldout: Processed 5536 ( 100.00% ) in 2.98 sec. Users per second: 1860\n",
            "RP3betaRecommender: URM Detected 59 (0.21 %) cold users.\n",
            "RP3betaRecommender: URM Detected 1 (0.00 %) cold items.\n",
            "EvaluatorHoldout: Processed 5627 ( 100.00% ) in 3.03 sec. Users per second: 1855\n",
            "RP3betaRecommender: URM Detected 73 (0.26 %) cold users.\n",
            "RP3betaRecommender: URM Detected 4 (0.02 %) cold items.\n",
            "EvaluatorHoldout: Processed 5658 ( 100.00% ) in 3.06 sec. Users per second: 1848\n",
            "RP3betaRecommender: URM Detected 76 (0.27 %) cold users.\n",
            "EvaluatorHoldout: Processed 5674 ( 100.00% ) in 3.12 sec. Users per second: 1819\n",
            "RP3betaRecommender: URM Detected 66 (0.24 %) cold users.\n",
            "RP3betaRecommender: URM Detected 3 (0.01 %) cold items.\n",
            "EvaluatorHoldout: Processed 5589 ( 100.00% ) in 3.03 sec. Users per second: 1843\n"
          ],
          "name": "stdout"
        },
        {
          "output_type": "stream",
          "text": [
            "\u001b[32m[I 2021-01-05 16:57:09,734]\u001b[0m Trial 45 finished with value: 0.07336150360353469 and parameters: {'topK': 196, 'alpha': 0.3336905720852184, 'beta': 0.288743907563098}. Best is trial 32 with value: 0.07365058857470327.\u001b[0m\n"
          ],
          "name": "stderr"
        },
        {
          "output_type": "stream",
          "text": [
            "printing self map vector:  [0.08024597 0.07326666 0.0726518  0.07155954 0.06908356]\n",
            "printing MAP:  0.07336150360353469\n",
            "RP3betaRecommender: URM Detected 73 (0.26 %) cold users.\n",
            "RP3betaRecommender: URM Detected 1 (0.00 %) cold items.\n",
            "EvaluatorHoldout: Processed 5536 ( 100.00% ) in 2.99 sec. Users per second: 1853\n",
            "RP3betaRecommender: URM Detected 59 (0.21 %) cold users.\n",
            "RP3betaRecommender: URM Detected 1 (0.00 %) cold items.\n",
            "EvaluatorHoldout: Processed 5627 ( 100.00% ) in 3.01 sec. Users per second: 1869\n",
            "RP3betaRecommender: URM Detected 73 (0.26 %) cold users.\n",
            "RP3betaRecommender: URM Detected 4 (0.02 %) cold items.\n",
            "EvaluatorHoldout: Processed 5658 ( 100.00% ) in 2.99 sec. Users per second: 1891\n",
            "RP3betaRecommender: URM Detected 76 (0.27 %) cold users.\n",
            "EvaluatorHoldout: Processed 5674 ( 100.00% ) in 3.08 sec. Users per second: 1845\n",
            "RP3betaRecommender: URM Detected 66 (0.24 %) cold users.\n",
            "RP3betaRecommender: URM Detected 3 (0.01 %) cold items.\n",
            "EvaluatorHoldout: Processed 5589 ( 100.00% ) in 3.01 sec. Users per second: 1858\n"
          ],
          "name": "stdout"
        },
        {
          "output_type": "stream",
          "text": [
            "\u001b[32m[I 2021-01-05 16:59:49,039]\u001b[0m Trial 46 finished with value: 0.07339459163785751 and parameters: {'topK': 166, 'alpha': 0.3650173958496918, 'beta': 0.2707403292107569}. Best is trial 32 with value: 0.07365058857470327.\u001b[0m\n"
          ],
          "name": "stderr"
        },
        {
          "output_type": "stream",
          "text": [
            "printing self map vector:  [0.07984477 0.07319179 0.0726711  0.07226966 0.06899564]\n",
            "printing MAP:  0.07339459163785751\n",
            "RP3betaRecommender: URM Detected 73 (0.26 %) cold users.\n",
            "RP3betaRecommender: URM Detected 1 (0.00 %) cold items.\n",
            "EvaluatorHoldout: Processed 5536 ( 100.00% ) in 3.03 sec. Users per second: 1826\n",
            "RP3betaRecommender: URM Detected 59 (0.21 %) cold users.\n",
            "RP3betaRecommender: URM Detected 1 (0.00 %) cold items.\n",
            "EvaluatorHoldout: Processed 5627 ( 100.00% ) in 3.07 sec. Users per second: 1832\n",
            "RP3betaRecommender: URM Detected 73 (0.26 %) cold users.\n",
            "RP3betaRecommender: URM Detected 4 (0.02 %) cold items.\n",
            "EvaluatorHoldout: Processed 5658 ( 100.00% ) in 3.08 sec. Users per second: 1839\n",
            "RP3betaRecommender: URM Detected 76 (0.27 %) cold users.\n",
            "EvaluatorHoldout: Processed 5674 ( 100.00% ) in 3.17 sec. Users per second: 1789\n",
            "RP3betaRecommender: URM Detected 66 (0.24 %) cold users.\n",
            "RP3betaRecommender: URM Detected 3 (0.01 %) cold items.\n",
            "EvaluatorHoldout: Processed 5589 ( 100.00% ) in 3.09 sec. Users per second: 1808\n"
          ],
          "name": "stdout"
        },
        {
          "output_type": "stream",
          "text": [
            "\u001b[32m[I 2021-01-05 17:02:32,398]\u001b[0m Trial 47 finished with value: 0.07333203835216102 and parameters: {'topK': 185, 'alpha': 0.3779160769036013, 'beta': 0.2606593178584091}. Best is trial 32 with value: 0.07365058857470327.\u001b[0m\n"
          ],
          "name": "stderr"
        },
        {
          "output_type": "stream",
          "text": [
            "printing self map vector:  [0.07991354 0.07338921 0.07207926 0.07222076 0.06905744]\n",
            "printing MAP:  0.07333203835216102\n",
            "RP3betaRecommender: URM Detected 73 (0.26 %) cold users.\n",
            "RP3betaRecommender: URM Detected 1 (0.00 %) cold items.\n",
            "EvaluatorHoldout: Processed 5536 ( 100.00% ) in 3.09 sec. Users per second: 1790\n",
            "RP3betaRecommender: URM Detected 59 (0.21 %) cold users.\n",
            "RP3betaRecommender: URM Detected 1 (0.00 %) cold items.\n",
            "EvaluatorHoldout: Processed 5627 ( 100.00% ) in 3.17 sec. Users per second: 1777\n",
            "RP3betaRecommender: URM Detected 73 (0.26 %) cold users.\n",
            "RP3betaRecommender: URM Detected 4 (0.02 %) cold items.\n",
            "EvaluatorHoldout: Processed 5658 ( 100.00% ) in 3.15 sec. Users per second: 1796\n",
            "RP3betaRecommender: URM Detected 76 (0.27 %) cold users.\n",
            "EvaluatorHoldout: Processed 5674 ( 100.00% ) in 3.12 sec. Users per second: 1817\n",
            "RP3betaRecommender: URM Detected 66 (0.24 %) cold users.\n",
            "RP3betaRecommender: URM Detected 3 (0.01 %) cold items.\n",
            "EvaluatorHoldout: Processed 5589 ( 100.00% ) in 3.10 sec. Users per second: 1801\n"
          ],
          "name": "stdout"
        },
        {
          "output_type": "stream",
          "text": [
            "\u001b[32m[I 2021-01-05 17:05:19,115]\u001b[0m Trial 48 finished with value: 0.07330331138726229 and parameters: {'topK': 211, 'alpha': 0.34786147670394885, 'beta': 0.3098756165221272}. Best is trial 32 with value: 0.07365058857470327.\u001b[0m\n"
          ],
          "name": "stderr"
        },
        {
          "output_type": "stream",
          "text": [
            "printing self map vector:  [0.08036966 0.07286665 0.0720134  0.07200304 0.0692638 ]\n",
            "printing MAP:  0.07330331138726229\n",
            "RP3betaRecommender: URM Detected 73 (0.26 %) cold users.\n",
            "RP3betaRecommender: URM Detected 1 (0.00 %) cold items.\n",
            "EvaluatorHoldout: Processed 5536 ( 100.00% ) in 3.02 sec. Users per second: 1832\n",
            "RP3betaRecommender: URM Detected 59 (0.21 %) cold users.\n",
            "RP3betaRecommender: URM Detected 1 (0.00 %) cold items.\n",
            "EvaluatorHoldout: Processed 5627 ( 100.00% ) in 3.06 sec. Users per second: 1837\n",
            "RP3betaRecommender: URM Detected 73 (0.26 %) cold users.\n",
            "RP3betaRecommender: URM Detected 4 (0.02 %) cold items.\n",
            "EvaluatorHoldout: Processed 5658 ( 100.00% ) in 3.12 sec. Users per second: 1813\n",
            "RP3betaRecommender: URM Detected 76 (0.27 %) cold users.\n",
            "EvaluatorHoldout: Processed 5674 ( 100.00% ) in 3.14 sec. Users per second: 1809\n",
            "RP3betaRecommender: URM Detected 66 (0.24 %) cold users.\n",
            "RP3betaRecommender: URM Detected 3 (0.01 %) cold items.\n",
            "EvaluatorHoldout: Processed 5589 ( 100.00% ) in 3.09 sec. Users per second: 1807\n"
          ],
          "name": "stdout"
        },
        {
          "output_type": "stream",
          "text": [
            "\u001b[32m[I 2021-01-05 17:08:04,109]\u001b[0m Trial 49 finished with value: 0.07283594671394564 and parameters: {'topK': 203, 'alpha': 0.4024416744914379, 'beta': 0.29262892366371884}. Best is trial 32 with value: 0.07365058857470327.\u001b[0m\n"
          ],
          "name": "stderr"
        },
        {
          "output_type": "stream",
          "text": [
            "printing self map vector:  [0.07964841 0.07218208 0.07187728 0.07163928 0.06883268]\n",
            "printing MAP:  0.07283594671394564\n",
            "RP3betaRecommender: URM Detected 73 (0.26 %) cold users.\n",
            "RP3betaRecommender: URM Detected 1 (0.00 %) cold items.\n",
            "EvaluatorHoldout: Processed 5536 ( 100.00% ) in 3.07 sec. Users per second: 1800\n",
            "RP3betaRecommender: URM Detected 59 (0.21 %) cold users.\n",
            "RP3betaRecommender: URM Detected 1 (0.00 %) cold items.\n",
            "EvaluatorHoldout: Processed 5627 ( 100.00% ) in 3.09 sec. Users per second: 1819\n",
            "RP3betaRecommender: URM Detected 73 (0.26 %) cold users.\n",
            "RP3betaRecommender: URM Detected 4 (0.02 %) cold items.\n",
            "EvaluatorHoldout: Processed 5658 ( 100.00% ) in 3.13 sec. Users per second: 1809\n",
            "RP3betaRecommender: URM Detected 76 (0.27 %) cold users.\n",
            "EvaluatorHoldout: Processed 5674 ( 100.00% ) in 3.10 sec. Users per second: 1833\n",
            "RP3betaRecommender: URM Detected 66 (0.24 %) cold users.\n",
            "RP3betaRecommender: URM Detected 3 (0.01 %) cold items.\n",
            "EvaluatorHoldout: Processed 5589 ( 100.00% ) in 3.08 sec. Users per second: 1814\n"
          ],
          "name": "stdout"
        },
        {
          "output_type": "stream",
          "text": [
            "\u001b[32m[I 2021-01-05 17:10:50,884]\u001b[0m Trial 50 finished with value: 0.07302819466337115 and parameters: {'topK': 219, 'alpha': 0.3187255898080034, 'beta': 0.28062995721824086}. Best is trial 32 with value: 0.07365058857470327.\u001b[0m\n"
          ],
          "name": "stderr"
        },
        {
          "output_type": "stream",
          "text": [
            "printing self map vector:  [0.07962924 0.07276246 0.07236393 0.07154314 0.0688422 ]\n",
            "printing MAP:  0.07302819466337115\n",
            "RP3betaRecommender: URM Detected 73 (0.26 %) cold users.\n",
            "RP3betaRecommender: URM Detected 1 (0.00 %) cold items.\n",
            "EvaluatorHoldout: Processed 5536 ( 100.00% ) in 3.03 sec. Users per second: 1830\n",
            "RP3betaRecommender: URM Detected 59 (0.21 %) cold users.\n",
            "RP3betaRecommender: URM Detected 1 (0.00 %) cold items.\n",
            "EvaluatorHoldout: Processed 5627 ( 100.00% ) in 3.01 sec. Users per second: 1872\n",
            "RP3betaRecommender: URM Detected 73 (0.26 %) cold users.\n",
            "RP3betaRecommender: URM Detected 4 (0.02 %) cold items.\n",
            "EvaluatorHoldout: Processed 5658 ( 100.00% ) in 3.05 sec. Users per second: 1855\n",
            "RP3betaRecommender: URM Detected 76 (0.27 %) cold users.\n",
            "EvaluatorHoldout: Processed 5674 ( 100.00% ) in 3.05 sec. Users per second: 1863\n",
            "RP3betaRecommender: URM Detected 66 (0.24 %) cold users.\n",
            "RP3betaRecommender: URM Detected 3 (0.01 %) cold items.\n",
            "EvaluatorHoldout: Processed 5589 ( 100.00% ) in 3.01 sec. Users per second: 1854\n"
          ],
          "name": "stdout"
        },
        {
          "output_type": "stream",
          "text": [
            "\u001b[32m[I 2021-01-05 17:13:33,972]\u001b[0m Trial 51 finished with value: 0.0734073394677031 and parameters: {'topK': 227, 'alpha': 0.35763786669482966, 'beta': 0.2394002624125377}. Best is trial 32 with value: 0.07365058857470327.\u001b[0m\n"
          ],
          "name": "stderr"
        },
        {
          "output_type": "stream",
          "text": [
            "printing self map vector:  [0.0808292  0.07308283 0.07251058 0.07201835 0.06859573]\n",
            "printing MAP:  0.0734073394677031\n",
            "RP3betaRecommender: URM Detected 73 (0.26 %) cold users.\n",
            "RP3betaRecommender: URM Detected 1 (0.00 %) cold items.\n",
            "EvaluatorHoldout: Processed 5536 ( 100.00% ) in 3.02 sec. Users per second: 1835\n",
            "RP3betaRecommender: URM Detected 59 (0.21 %) cold users.\n",
            "RP3betaRecommender: URM Detected 1 (0.00 %) cold items.\n",
            "EvaluatorHoldout: Processed 5627 ( 100.00% ) in 3.03 sec. Users per second: 1855\n",
            "RP3betaRecommender: URM Detected 73 (0.26 %) cold users.\n",
            "RP3betaRecommender: URM Detected 4 (0.02 %) cold items.\n",
            "EvaluatorHoldout: Processed 5658 ( 100.00% ) in 3.02 sec. Users per second: 1872\n",
            "RP3betaRecommender: URM Detected 76 (0.27 %) cold users.\n",
            "EvaluatorHoldout: Processed 5674 ( 100.00% ) in 3.02 sec. Users per second: 1881\n",
            "RP3betaRecommender: URM Detected 66 (0.24 %) cold users.\n",
            "RP3betaRecommender: URM Detected 3 (0.01 %) cold items.\n",
            "EvaluatorHoldout: Processed 5589 ( 100.00% ) in 2.99 sec. Users per second: 1867\n"
          ],
          "name": "stdout"
        },
        {
          "output_type": "stream",
          "text": [
            "\u001b[32m[I 2021-01-05 17:16:16,320]\u001b[0m Trial 52 finished with value: 0.07330630031338785 and parameters: {'topK': 234, 'alpha': 0.35424093516596694, 'beta': 0.26538890453594394}. Best is trial 32 with value: 0.07365058857470327.\u001b[0m\n"
          ],
          "name": "stderr"
        },
        {
          "output_type": "stream",
          "text": [
            "printing self map vector:  [0.08033887 0.07265519 0.07278573 0.07194176 0.06880996]\n",
            "printing MAP:  0.07330630031338785\n",
            "RP3betaRecommender: URM Detected 73 (0.26 %) cold users.\n",
            "RP3betaRecommender: URM Detected 1 (0.00 %) cold items.\n",
            "EvaluatorHoldout: Processed 5536 ( 100.00% ) in 2.95 sec. Users per second: 1877\n",
            "RP3betaRecommender: URM Detected 59 (0.21 %) cold users.\n",
            "RP3betaRecommender: URM Detected 1 (0.00 %) cold items.\n",
            "EvaluatorHoldout: Processed 5627 ( 100.00% ) in 3.00 sec. Users per second: 1874\n",
            "RP3betaRecommender: URM Detected 73 (0.26 %) cold users.\n",
            "RP3betaRecommender: URM Detected 4 (0.02 %) cold items.\n",
            "EvaluatorHoldout: Processed 5658 ( 100.00% ) in 3.02 sec. Users per second: 1876\n",
            "RP3betaRecommender: URM Detected 76 (0.27 %) cold users.\n",
            "EvaluatorHoldout: Processed 5674 ( 100.00% ) in 3.00 sec. Users per second: 1891\n",
            "RP3betaRecommender: URM Detected 66 (0.24 %) cold users.\n",
            "RP3betaRecommender: URM Detected 3 (0.01 %) cold items.\n",
            "EvaluatorHoldout: Processed 5589 ( 100.00% ) in 2.97 sec. Users per second: 1884\n"
          ],
          "name": "stdout"
        },
        {
          "output_type": "stream",
          "text": [
            "\u001b[32m[I 2021-01-05 17:18:58,058]\u001b[0m Trial 53 finished with value: 0.07336192784525628 and parameters: {'topK': 242, 'alpha': 0.34982917267453023, 'beta': 0.26893749274139}. Best is trial 32 with value: 0.07365058857470327.\u001b[0m\n"
          ],
          "name": "stderr"
        },
        {
          "output_type": "stream",
          "text": [
            "printing self map vector:  [0.08033509 0.07254695 0.07284854 0.07208448 0.06899458]\n",
            "printing MAP:  0.07336192784525628\n",
            "RP3betaRecommender: URM Detected 73 (0.26 %) cold users.\n",
            "RP3betaRecommender: URM Detected 1 (0.00 %) cold items.\n",
            "EvaluatorHoldout: Processed 5536 ( 100.00% ) in 2.92 sec. Users per second: 1899\n",
            "RP3betaRecommender: URM Detected 59 (0.21 %) cold users.\n",
            "RP3betaRecommender: URM Detected 1 (0.00 %) cold items.\n",
            "EvaluatorHoldout: Processed 5627 ( 100.00% ) in 2.97 sec. Users per second: 1896\n",
            "RP3betaRecommender: URM Detected 73 (0.26 %) cold users.\n",
            "RP3betaRecommender: URM Detected 4 (0.02 %) cold items.\n",
            "EvaluatorHoldout: Processed 5658 ( 100.00% ) in 2.97 sec. Users per second: 1907\n",
            "RP3betaRecommender: URM Detected 76 (0.27 %) cold users.\n",
            "EvaluatorHoldout: Processed 5674 ( 100.00% ) in 2.95 sec. Users per second: 1925\n",
            "RP3betaRecommender: URM Detected 66 (0.24 %) cold users.\n",
            "RP3betaRecommender: URM Detected 3 (0.01 %) cold items.\n",
            "EvaluatorHoldout: Processed 5589 ( 100.00% ) in 2.93 sec. Users per second: 1910\n"
          ],
          "name": "stdout"
        },
        {
          "output_type": "stream",
          "text": [
            "\u001b[32m[I 2021-01-05 17:21:35,863]\u001b[0m Trial 54 finished with value: 0.0735736031437946 and parameters: {'topK': 222, 'alpha': 0.36868783498813207, 'beta': 0.2539320068003144}. Best is trial 32 with value: 0.07365058857470327.\u001b[0m\n"
          ],
          "name": "stderr"
        },
        {
          "output_type": "stream",
          "text": [
            "printing self map vector:  [0.0806992  0.07301472 0.07294649 0.07235833 0.06884927]\n",
            "printing MAP:  0.0735736031437946\n",
            "RP3betaRecommender: URM Detected 73 (0.26 %) cold users.\n",
            "RP3betaRecommender: URM Detected 1 (0.00 %) cold items.\n",
            "EvaluatorHoldout: Processed 5536 ( 100.00% ) in 2.90 sec. Users per second: 1906\n",
            "RP3betaRecommender: URM Detected 59 (0.21 %) cold users.\n",
            "RP3betaRecommender: URM Detected 1 (0.00 %) cold items.\n",
            "EvaluatorHoldout: Processed 5627 ( 100.00% ) in 2.90 sec. Users per second: 1942\n",
            "RP3betaRecommender: URM Detected 73 (0.26 %) cold users.\n",
            "RP3betaRecommender: URM Detected 4 (0.02 %) cold items.\n",
            "EvaluatorHoldout: Processed 5658 ( 100.00% ) in 2.90 sec. Users per second: 1951\n",
            "RP3betaRecommender: URM Detected 76 (0.27 %) cold users.\n",
            "EvaluatorHoldout: Processed 5674 ( 100.00% ) in 2.95 sec. Users per second: 1925\n",
            "RP3betaRecommender: URM Detected 66 (0.24 %) cold users.\n",
            "RP3betaRecommender: URM Detected 3 (0.01 %) cold items.\n",
            "EvaluatorHoldout: Processed 5589 ( 100.00% ) in 2.88 sec. Users per second: 1942\n"
          ],
          "name": "stdout"
        },
        {
          "output_type": "stream",
          "text": [
            "\u001b[32m[I 2021-01-05 17:24:09,410]\u001b[0m Trial 55 finished with value: 0.07358410574800622 and parameters: {'topK': 199, 'alpha': 0.3678793663551002, 'beta': 0.2533199550943349}. Best is trial 32 with value: 0.07365058857470327.\u001b[0m\n"
          ],
          "name": "stderr"
        },
        {
          "output_type": "stream",
          "text": [
            "printing self map vector:  [0.08020355 0.07377551 0.07271417 0.07213811 0.0690892 ]\n",
            "printing MAP:  0.07358410574800622\n",
            "RP3betaRecommender: URM Detected 73 (0.26 %) cold users.\n",
            "RP3betaRecommender: URM Detected 1 (0.00 %) cold items.\n",
            "EvaluatorHoldout: Processed 5536 ( 100.00% ) in 2.87 sec. Users per second: 1930\n",
            "RP3betaRecommender: URM Detected 59 (0.21 %) cold users.\n",
            "RP3betaRecommender: URM Detected 1 (0.00 %) cold items.\n",
            "EvaluatorHoldout: Processed 5627 ( 100.00% ) in 2.90 sec. Users per second: 1939\n",
            "RP3betaRecommender: URM Detected 73 (0.26 %) cold users.\n",
            "RP3betaRecommender: URM Detected 4 (0.02 %) cold items.\n",
            "EvaluatorHoldout: Processed 5658 ( 100.00% ) in 2.92 sec. Users per second: 1941\n",
            "RP3betaRecommender: URM Detected 76 (0.27 %) cold users.\n",
            "EvaluatorHoldout: Processed 5674 ( 100.00% ) in 2.94 sec. Users per second: 1928\n",
            "RP3betaRecommender: URM Detected 66 (0.24 %) cold users.\n",
            "RP3betaRecommender: URM Detected 3 (0.01 %) cold items.\n",
            "EvaluatorHoldout: Processed 5589 ( 100.00% ) in 2.89 sec. Users per second: 1933\n"
          ],
          "name": "stdout"
        },
        {
          "output_type": "stream",
          "text": [
            "\u001b[32m[I 2021-01-05 17:26:41,933]\u001b[0m Trial 56 finished with value: 0.07354217698739998 and parameters: {'topK': 197, 'alpha': 0.3674802969093345, 'beta': 0.2598735951693848}. Best is trial 32 with value: 0.07365058857470327.\u001b[0m\n"
          ],
          "name": "stderr"
        },
        {
          "output_type": "stream",
          "text": [
            "printing self map vector:  [0.0799527  0.07358433 0.07267493 0.07228841 0.06921052]\n",
            "printing MAP:  0.07354217698739998\n",
            "RP3betaRecommender: URM Detected 73 (0.26 %) cold users.\n",
            "RP3betaRecommender: URM Detected 1 (0.00 %) cold items.\n",
            "EvaluatorHoldout: Processed 5536 ( 100.00% ) in 2.86 sec. Users per second: 1933\n",
            "RP3betaRecommender: URM Detected 59 (0.21 %) cold users.\n",
            "RP3betaRecommender: URM Detected 1 (0.00 %) cold items.\n",
            "EvaluatorHoldout: Processed 5627 ( 100.00% ) in 2.88 sec. Users per second: 1952\n",
            "RP3betaRecommender: URM Detected 73 (0.26 %) cold users.\n",
            "RP3betaRecommender: URM Detected 4 (0.02 %) cold items.\n",
            "EvaluatorHoldout: Processed 5658 ( 100.00% ) in 2.91 sec. Users per second: 1947\n",
            "RP3betaRecommender: URM Detected 76 (0.27 %) cold users.\n",
            "EvaluatorHoldout: Processed 5674 ( 100.00% ) in 2.97 sec. Users per second: 1912\n",
            "RP3betaRecommender: URM Detected 66 (0.24 %) cold users.\n",
            "RP3betaRecommender: URM Detected 3 (0.01 %) cold items.\n",
            "EvaluatorHoldout: Processed 5589 ( 100.00% ) in 2.87 sec. Users per second: 1945\n"
          ],
          "name": "stdout"
        },
        {
          "output_type": "stream",
          "text": [
            "\u001b[32m[I 2021-01-05 17:29:14,852]\u001b[0m Trial 57 finished with value: 0.07344990019255207 and parameters: {'topK': 195, 'alpha': 0.36789888268847265, 'beta': 0.2584156090372117}. Best is trial 32 with value: 0.07365058857470327.\u001b[0m\n"
          ],
          "name": "stderr"
        },
        {
          "output_type": "stream",
          "text": [
            "printing self map vector:  [0.07981839 0.07359442 0.07263812 0.07205197 0.0691466 ]\n",
            "printing MAP:  0.07344990019255207\n",
            "RP3betaRecommender: URM Detected 73 (0.26 %) cold users.\n",
            "RP3betaRecommender: URM Detected 1 (0.00 %) cold items.\n",
            "EvaluatorHoldout: Processed 5536 ( 100.00% ) in 2.85 sec. Users per second: 1940\n",
            "RP3betaRecommender: URM Detected 59 (0.21 %) cold users.\n",
            "RP3betaRecommender: URM Detected 1 (0.00 %) cold items.\n",
            "EvaluatorHoldout: Processed 5627 ( 100.00% ) in 2.88 sec. Users per second: 1957\n",
            "RP3betaRecommender: URM Detected 73 (0.26 %) cold users.\n",
            "RP3betaRecommender: URM Detected 4 (0.02 %) cold items.\n",
            "EvaluatorHoldout: Processed 5658 ( 100.00% ) in 2.90 sec. Users per second: 1954\n",
            "RP3betaRecommender: URM Detected 76 (0.27 %) cold users.\n",
            "EvaluatorHoldout: Processed 5674 ( 100.00% ) in 2.91 sec. Users per second: 1951\n",
            "RP3betaRecommender: URM Detected 66 (0.24 %) cold users.\n",
            "RP3betaRecommender: URM Detected 3 (0.01 %) cold items.\n",
            "EvaluatorHoldout: Processed 5589 ( 100.00% ) in 2.87 sec. Users per second: 1944\n"
          ],
          "name": "stdout"
        },
        {
          "output_type": "stream",
          "text": [
            "\u001b[32m[I 2021-01-05 17:31:48,345]\u001b[0m Trial 58 finished with value: 0.07346165256767409 and parameters: {'topK': 198, 'alpha': 0.3391592490512161, 'beta': 0.2748560668187687}. Best is trial 32 with value: 0.07365058857470327.\u001b[0m\n"
          ],
          "name": "stderr"
        },
        {
          "output_type": "stream",
          "text": [
            "printing self map vector:  [0.08002523 0.07372784 0.07280628 0.07160791 0.069141  ]\n",
            "printing MAP:  0.07346165256767409\n",
            "RP3betaRecommender: URM Detected 73 (0.26 %) cold users.\n",
            "RP3betaRecommender: URM Detected 1 (0.00 %) cold items.\n",
            "EvaluatorHoldout: Processed 5536 ( 100.00% ) in 2.82 sec. Users per second: 1965\n",
            "RP3betaRecommender: URM Detected 59 (0.21 %) cold users.\n",
            "RP3betaRecommender: URM Detected 1 (0.00 %) cold items.\n",
            "EvaluatorHoldout: Processed 5627 ( 100.00% ) in 2.89 sec. Users per second: 1944\n",
            "RP3betaRecommender: URM Detected 73 (0.26 %) cold users.\n",
            "RP3betaRecommender: URM Detected 4 (0.02 %) cold items.\n",
            "EvaluatorHoldout: Processed 5658 ( 100.00% ) in 2.88 sec. Users per second: 1967\n",
            "RP3betaRecommender: URM Detected 76 (0.27 %) cold users.\n",
            "EvaluatorHoldout: Processed 5674 ( 100.00% ) in 2.93 sec. Users per second: 1934\n",
            "RP3betaRecommender: URM Detected 66 (0.24 %) cold users.\n",
            "RP3betaRecommender: URM Detected 3 (0.01 %) cold items.\n",
            "EvaluatorHoldout: Processed 5589 ( 100.00% ) in 2.84 sec. Users per second: 1965\n"
          ],
          "name": "stdout"
        },
        {
          "output_type": "stream",
          "text": [
            "\u001b[32m[I 2021-01-05 17:34:19,434]\u001b[0m Trial 59 finished with value: 0.07327794736646454 and parameters: {'topK': 181, 'alpha': 0.36442915385913777, 'beta': 0.24803829868888252}. Best is trial 32 with value: 0.07365058857470327.\u001b[0m\n"
          ],
          "name": "stderr"
        },
        {
          "output_type": "stream",
          "text": [
            "printing self map vector:  [0.07993775 0.07357701 0.07206023 0.07203121 0.06878353]\n",
            "printing MAP:  0.07327794736646454\n",
            "RP3betaRecommender: URM Detected 73 (0.26 %) cold users.\n",
            "RP3betaRecommender: URM Detected 1 (0.00 %) cold items.\n",
            "EvaluatorHoldout: Processed 5536 ( 100.00% ) in 2.86 sec. Users per second: 1935\n",
            "RP3betaRecommender: URM Detected 59 (0.21 %) cold users.\n",
            "RP3betaRecommender: URM Detected 1 (0.00 %) cold items.\n",
            "EvaluatorHoldout: Processed 5627 ( 100.00% ) in 2.91 sec. Users per second: 1937\n",
            "RP3betaRecommender: URM Detected 73 (0.26 %) cold users.\n",
            "RP3betaRecommender: URM Detected 4 (0.02 %) cold items.\n",
            "EvaluatorHoldout: Processed 5658 ( 100.00% ) in 2.89 sec. Users per second: 1956\n",
            "RP3betaRecommender: URM Detected 76 (0.27 %) cold users.\n",
            "EvaluatorHoldout: Processed 5674 ( 100.00% ) in 2.92 sec. Users per second: 1946\n",
            "RP3betaRecommender: URM Detected 66 (0.24 %) cold users.\n",
            "RP3betaRecommender: URM Detected 3 (0.01 %) cold items.\n",
            "EvaluatorHoldout: Processed 5589 ( 100.00% ) in 2.89 sec. Users per second: 1934\n"
          ],
          "name": "stdout"
        },
        {
          "output_type": "stream",
          "text": [
            "\u001b[32m[I 2021-01-05 17:36:55,042]\u001b[0m Trial 60 finished with value: 0.07344976964419554 and parameters: {'topK': 214, 'alpha': 0.35961687266161374, 'beta': 0.2518947011875189}. Best is trial 32 with value: 0.07365058857470327.\u001b[0m\n"
          ],
          "name": "stderr"
        },
        {
          "output_type": "stream",
          "text": [
            "printing self map vector:  [0.08031435 0.07330223 0.07276205 0.07194192 0.06892829]\n",
            "printing MAP:  0.07344976964419554\n",
            "RP3betaRecommender: URM Detected 73 (0.26 %) cold users.\n",
            "RP3betaRecommender: URM Detected 1 (0.00 %) cold items.\n",
            "EvaluatorHoldout: Processed 5536 ( 100.00% ) in 2.87 sec. Users per second: 1927\n",
            "RP3betaRecommender: URM Detected 59 (0.21 %) cold users.\n",
            "RP3betaRecommender: URM Detected 1 (0.00 %) cold items.\n",
            "EvaluatorHoldout: Processed 5627 ( 100.00% ) in 2.88 sec. Users per second: 1951\n",
            "RP3betaRecommender: URM Detected 73 (0.26 %) cold users.\n",
            "RP3betaRecommender: URM Detected 4 (0.02 %) cold items.\n",
            "EvaluatorHoldout: Processed 5658 ( 100.00% ) in 2.92 sec. Users per second: 1939\n",
            "RP3betaRecommender: URM Detected 76 (0.27 %) cold users.\n",
            "EvaluatorHoldout: Processed 5674 ( 100.00% ) in 2.92 sec. Users per second: 1943\n",
            "RP3betaRecommender: URM Detected 66 (0.24 %) cold users.\n",
            "RP3betaRecommender: URM Detected 3 (0.01 %) cold items.\n",
            "EvaluatorHoldout: Processed 5589 ( 100.00% ) in 2.93 sec. Users per second: 1905\n"
          ],
          "name": "stdout"
        },
        {
          "output_type": "stream",
          "text": [
            "\u001b[32m[I 2021-01-05 17:39:29,225]\u001b[0m Trial 61 finished with value: 0.07343278599293628 and parameters: {'topK': 205, 'alpha': 0.3864299704705007, 'beta': 0.26034713493654904}. Best is trial 32 with value: 0.07365058857470327.\u001b[0m\n"
          ],
          "name": "stderr"
        },
        {
          "output_type": "stream",
          "text": [
            "printing self map vector:  [0.0800578  0.0734361  0.07233779 0.07218283 0.06914942]\n",
            "printing MAP:  0.07343278599293628\n",
            "RP3betaRecommender: URM Detected 73 (0.26 %) cold users.\n",
            "RP3betaRecommender: URM Detected 1 (0.00 %) cold items.\n",
            "EvaluatorHoldout: Processed 5536 ( 100.00% ) in 2.93 sec. Users per second: 1887\n",
            "RP3betaRecommender: URM Detected 59 (0.21 %) cold users.\n",
            "RP3betaRecommender: URM Detected 1 (0.00 %) cold items.\n",
            "EvaluatorHoldout: Processed 5627 ( 100.00% ) in 2.93 sec. Users per second: 1922\n",
            "RP3betaRecommender: URM Detected 73 (0.26 %) cold users.\n",
            "RP3betaRecommender: URM Detected 4 (0.02 %) cold items.\n",
            "EvaluatorHoldout: Processed 5658 ( 100.00% ) in 2.92 sec. Users per second: 1941\n",
            "RP3betaRecommender: URM Detected 76 (0.27 %) cold users.\n",
            "EvaluatorHoldout: Processed 5674 ( 100.00% ) in 2.95 sec. Users per second: 1925\n",
            "RP3betaRecommender: URM Detected 66 (0.24 %) cold users.\n",
            "RP3betaRecommender: URM Detected 3 (0.01 %) cold items.\n",
            "EvaluatorHoldout: Processed 5589 ( 100.00% ) in 2.93 sec. Users per second: 1905\n"
          ],
          "name": "stdout"
        },
        {
          "output_type": "stream",
          "text": [
            "\u001b[32m[I 2021-01-05 17:42:05,639]\u001b[0m Trial 62 finished with value: 0.07343173192744257 and parameters: {'topK': 222, 'alpha': 0.37109454173512, 'beta': 0.2359145240529884}. Best is trial 32 with value: 0.07365058857470327.\u001b[0m\n"
          ],
          "name": "stderr"
        },
        {
          "output_type": "stream",
          "text": [
            "printing self map vector:  [0.08087731 0.07323811 0.07269253 0.07215257 0.06819814]\n",
            "printing MAP:  0.07343173192744257\n",
            "RP3betaRecommender: URM Detected 73 (0.26 %) cold users.\n",
            "RP3betaRecommender: URM Detected 1 (0.00 %) cold items.\n",
            "EvaluatorHoldout: Processed 5536 ( 100.00% ) in 2.87 sec. Users per second: 1932\n",
            "RP3betaRecommender: URM Detected 59 (0.21 %) cold users.\n",
            "RP3betaRecommender: URM Detected 1 (0.00 %) cold items.\n",
            "EvaluatorHoldout: Processed 5627 ( 100.00% ) in 2.89 sec. Users per second: 1946\n",
            "RP3betaRecommender: URM Detected 73 (0.26 %) cold users.\n",
            "RP3betaRecommender: URM Detected 4 (0.02 %) cold items.\n",
            "EvaluatorHoldout: Processed 5658 ( 100.00% ) in 2.92 sec. Users per second: 1938\n",
            "RP3betaRecommender: URM Detected 76 (0.27 %) cold users.\n",
            "EvaluatorHoldout: Processed 5674 ( 100.00% ) in 2.92 sec. Users per second: 1941\n",
            "RP3betaRecommender: URM Detected 66 (0.24 %) cold users.\n",
            "RP3betaRecommender: URM Detected 3 (0.01 %) cold items.\n",
            "EvaluatorHoldout: Processed 5589 ( 100.00% ) in 2.87 sec. Users per second: 1945\n"
          ],
          "name": "stdout"
        },
        {
          "output_type": "stream",
          "text": [
            "\u001b[32m[I 2021-01-05 17:44:40,824]\u001b[0m Trial 63 finished with value: 0.07340388774408449 and parameters: {'topK': 212, 'alpha': 0.3928354974779314, 'beta': 0.2462766148020297}. Best is trial 32 with value: 0.07365058857470327.\u001b[0m\n"
          ],
          "name": "stderr"
        },
        {
          "output_type": "stream",
          "text": [
            "printing self map vector:  [0.08066069 0.07314853 0.07243841 0.07234465 0.06842716]\n",
            "printing MAP:  0.07340388774408449\n",
            "RP3betaRecommender: URM Detected 73 (0.26 %) cold users.\n",
            "RP3betaRecommender: URM Detected 1 (0.00 %) cold items.\n",
            "EvaluatorHoldout: Processed 5536 ( 100.00% ) in 2.85 sec. Users per second: 1941\n",
            "RP3betaRecommender: URM Detected 59 (0.21 %) cold users.\n",
            "RP3betaRecommender: URM Detected 1 (0.00 %) cold items.\n",
            "EvaluatorHoldout: Processed 5627 ( 100.00% ) in 2.90 sec. Users per second: 1938\n",
            "RP3betaRecommender: URM Detected 73 (0.26 %) cold users.\n",
            "RP3betaRecommender: URM Detected 4 (0.02 %) cold items.\n",
            "EvaluatorHoldout: Processed 5658 ( 100.00% ) in 2.99 sec. Users per second: 1895\n",
            "RP3betaRecommender: URM Detected 76 (0.27 %) cold users.\n",
            "EvaluatorHoldout: Processed 5674 ( 100.00% ) in 2.92 sec. Users per second: 1943\n",
            "RP3betaRecommender: URM Detected 66 (0.24 %) cold users.\n",
            "RP3betaRecommender: URM Detected 3 (0.01 %) cold items.\n",
            "EvaluatorHoldout: Processed 5589 ( 100.00% ) in 2.89 sec. Users per second: 1937\n"
          ],
          "name": "stdout"
        },
        {
          "output_type": "stream",
          "text": [
            "\u001b[32m[I 2021-01-05 17:47:15,931]\u001b[0m Trial 64 finished with value: 0.07345514463156391 and parameters: {'topK': 218, 'alpha': 0.36709610757649247, 'beta': 0.28143320462441934}. Best is trial 32 with value: 0.07365058857470327.\u001b[0m\n"
          ],
          "name": "stderr"
        },
        {
          "output_type": "stream",
          "text": [
            "printing self map vector:  [0.08033586 0.07305284 0.07246766 0.07230219 0.06911718]\n",
            "printing MAP:  0.07345514463156391\n",
            "RP3betaRecommender: URM Detected 73 (0.26 %) cold users.\n",
            "RP3betaRecommender: URM Detected 1 (0.00 %) cold items.\n",
            "EvaluatorHoldout: Processed 5536 ( 100.00% ) in 2.81 sec. Users per second: 1972\n",
            "RP3betaRecommender: URM Detected 59 (0.21 %) cold users.\n",
            "RP3betaRecommender: URM Detected 1 (0.00 %) cold items.\n",
            "EvaluatorHoldout: Processed 5627 ( 100.00% ) in 2.86 sec. Users per second: 1969\n",
            "RP3betaRecommender: URM Detected 73 (0.26 %) cold users.\n",
            "RP3betaRecommender: URM Detected 4 (0.02 %) cold items.\n",
            "EvaluatorHoldout: Processed 5658 ( 100.00% ) in 2.90 sec. Users per second: 1953\n",
            "RP3betaRecommender: URM Detected 76 (0.27 %) cold users.\n",
            "EvaluatorHoldout: Processed 5674 ( 100.00% ) in 2.90 sec. Users per second: 1960\n",
            "RP3betaRecommender: URM Detected 66 (0.24 %) cold users.\n",
            "RP3betaRecommender: URM Detected 3 (0.01 %) cold items.\n",
            "EvaluatorHoldout: Processed 5589 ( 100.00% ) in 2.85 sec. Users per second: 1959\n"
          ],
          "name": "stdout"
        },
        {
          "output_type": "stream",
          "text": [
            "\u001b[32m[I 2021-01-05 17:49:47,943]\u001b[0m Trial 65 finished with value: 0.0735758190002991 and parameters: {'topK': 199, 'alpha': 0.3740485997387662, 'beta': 0.2534667034408477}. Best is trial 32 with value: 0.07365058857470327.\u001b[0m\n"
          ],
          "name": "stderr"
        },
        {
          "output_type": "stream",
          "text": [
            "printing self map vector:  [0.08028267 0.07370306 0.07264977 0.07221634 0.06902726]\n",
            "printing MAP:  0.0735758190002991\n",
            "RP3betaRecommender: URM Detected 73 (0.26 %) cold users.\n",
            "RP3betaRecommender: URM Detected 1 (0.00 %) cold items.\n",
            "EvaluatorHoldout: Processed 5536 ( 100.00% ) in 2.86 sec. Users per second: 1937\n",
            "RP3betaRecommender: URM Detected 59 (0.21 %) cold users.\n",
            "RP3betaRecommender: URM Detected 1 (0.00 %) cold items.\n",
            "EvaluatorHoldout: Processed 5627 ( 100.00% ) in 2.87 sec. Users per second: 1960\n",
            "RP3betaRecommender: URM Detected 73 (0.26 %) cold users.\n",
            "RP3betaRecommender: URM Detected 4 (0.02 %) cold items.\n",
            "EvaluatorHoldout: Processed 5658 ( 100.00% ) in 2.92 sec. Users per second: 1936\n",
            "RP3betaRecommender: URM Detected 76 (0.27 %) cold users.\n",
            "EvaluatorHoldout: Processed 5674 ( 100.00% ) in 2.89 sec. Users per second: 1960\n",
            "RP3betaRecommender: URM Detected 66 (0.24 %) cold users.\n",
            "RP3betaRecommender: URM Detected 3 (0.01 %) cold items.\n",
            "EvaluatorHoldout: Processed 5589 ( 100.00% ) in 2.87 sec. Users per second: 1945\n"
          ],
          "name": "stdout"
        },
        {
          "output_type": "stream",
          "text": [
            "\u001b[32m[I 2021-01-05 17:52:20,730]\u001b[0m Trial 66 finished with value: 0.07355374082398589 and parameters: {'topK': 199, 'alpha': 0.3757500490207757, 'beta': 0.27241015545849556}. Best is trial 32 with value: 0.07365058857470327.\u001b[0m\n"
          ],
          "name": "stderr"
        },
        {
          "output_type": "stream",
          "text": [
            "printing self map vector:  [0.07990997 0.07363146 0.07248708 0.07237497 0.06936523]\n",
            "printing MAP:  0.07355374082398589\n",
            "RP3betaRecommender: URM Detected 73 (0.26 %) cold users.\n",
            "RP3betaRecommender: URM Detected 1 (0.00 %) cold items.\n",
            "EvaluatorHoldout: Processed 5536 ( 100.00% ) in 2.87 sec. Users per second: 1927\n",
            "RP3betaRecommender: URM Detected 59 (0.21 %) cold users.\n",
            "RP3betaRecommender: URM Detected 1 (0.00 %) cold items.\n",
            "EvaluatorHoldout: Processed 5627 ( 100.00% ) in 2.90 sec. Users per second: 1944\n",
            "RP3betaRecommender: URM Detected 73 (0.26 %) cold users.\n",
            "RP3betaRecommender: URM Detected 4 (0.02 %) cold items.\n",
            "EvaluatorHoldout: Processed 5658 ( 100.00% ) in 2.87 sec. Users per second: 1969\n",
            "RP3betaRecommender: URM Detected 76 (0.27 %) cold users.\n",
            "EvaluatorHoldout: Processed 5674 ( 100.00% ) in 2.91 sec. Users per second: 1952\n",
            "RP3betaRecommender: URM Detected 66 (0.24 %) cold users.\n",
            "RP3betaRecommender: URM Detected 3 (0.01 %) cold items.\n",
            "EvaluatorHoldout: Processed 5589 ( 100.00% ) in 2.86 sec. Users per second: 1956\n"
          ],
          "name": "stdout"
        },
        {
          "output_type": "stream",
          "text": [
            "\u001b[32m[I 2021-01-05 17:54:52,929]\u001b[0m Trial 67 finished with value: 0.0734725060935315 and parameters: {'topK': 192, 'alpha': 0.37285364833999485, 'beta': 0.25370020128730947}. Best is trial 32 with value: 0.07365058857470327.\u001b[0m\n"
          ],
          "name": "stderr"
        },
        {
          "output_type": "stream",
          "text": [
            "printing self map vector:  [0.08017812 0.07359717 0.07257533 0.07201179 0.06900012]\n",
            "printing MAP:  0.0734725060935315\n",
            "RP3betaRecommender: URM Detected 73 (0.26 %) cold users.\n",
            "RP3betaRecommender: URM Detected 1 (0.00 %) cold items.\n",
            "EvaluatorHoldout: Processed 5536 ( 100.00% ) in 2.84 sec. Users per second: 1948\n",
            "RP3betaRecommender: URM Detected 59 (0.21 %) cold users.\n",
            "RP3betaRecommender: URM Detected 1 (0.00 %) cold items.\n",
            "EvaluatorHoldout: Processed 5627 ( 100.00% ) in 2.84 sec. Users per second: 1980\n",
            "RP3betaRecommender: URM Detected 73 (0.26 %) cold users.\n",
            "RP3betaRecommender: URM Detected 4 (0.02 %) cold items.\n",
            "EvaluatorHoldout: Processed 5658 ( 100.00% ) in 2.87 sec. Users per second: 1973\n",
            "RP3betaRecommender: URM Detected 76 (0.27 %) cold users.\n",
            "EvaluatorHoldout: Processed 5674 ( 100.00% ) in 2.88 sec. Users per second: 1970\n",
            "RP3betaRecommender: URM Detected 66 (0.24 %) cold users.\n",
            "RP3betaRecommender: URM Detected 3 (0.01 %) cold items.\n",
            "EvaluatorHoldout: Processed 5589 ( 100.00% ) in 2.81 sec. Users per second: 1989\n"
          ],
          "name": "stdout"
        },
        {
          "output_type": "stream",
          "text": [
            "\u001b[32m[I 2021-01-05 17:57:22,440]\u001b[0m Trial 68 finished with value: 0.07323785995816558 and parameters: {'topK': 171, 'alpha': 0.38112459730166526, 'beta': 0.25976504641921155}. Best is trial 32 with value: 0.07365058857470327.\u001b[0m\n"
          ],
          "name": "stderr"
        },
        {
          "output_type": "stream",
          "text": [
            "printing self map vector:  [0.07981142 0.0731304  0.07207217 0.07254002 0.06863528]\n",
            "printing MAP:  0.07323785995816558\n",
            "RP3betaRecommender: URM Detected 73 (0.26 %) cold users.\n",
            "RP3betaRecommender: URM Detected 1 (0.00 %) cold items.\n",
            "EvaluatorHoldout: Processed 5536 ( 100.00% ) in 2.83 sec. Users per second: 1957\n",
            "RP3betaRecommender: URM Detected 59 (0.21 %) cold users.\n",
            "RP3betaRecommender: URM Detected 1 (0.00 %) cold items.\n",
            "EvaluatorHoldout: Processed 5627 ( 100.00% ) in 2.88 sec. Users per second: 1956\n",
            "RP3betaRecommender: URM Detected 73 (0.26 %) cold users.\n",
            "RP3betaRecommender: URM Detected 4 (0.02 %) cold items.\n",
            "EvaluatorHoldout: Processed 5658 ( 100.00% ) in 2.90 sec. Users per second: 1951\n",
            "RP3betaRecommender: URM Detected 76 (0.27 %) cold users.\n",
            "EvaluatorHoldout: Processed 5674 ( 100.00% ) in 2.89 sec. Users per second: 1965\n",
            "RP3betaRecommender: URM Detected 66 (0.24 %) cold users.\n",
            "RP3betaRecommender: URM Detected 3 (0.01 %) cold items.\n",
            "EvaluatorHoldout: Processed 5589 ( 100.00% ) in 2.85 sec. Users per second: 1962\n"
          ],
          "name": "stdout"
        },
        {
          "output_type": "stream",
          "text": [
            "\u001b[32m[I 2021-01-05 17:59:55,462]\u001b[0m Trial 69 finished with value: 0.07354702782737593 and parameters: {'topK': 197, 'alpha': 0.37626616395090473, 'beta': 0.27165093674316015}. Best is trial 32 with value: 0.07365058857470327.\u001b[0m\n"
          ],
          "name": "stderr"
        },
        {
          "output_type": "stream",
          "text": [
            "printing self map vector:  [0.07976439 0.0736364  0.07247344 0.07247256 0.06938834]\n",
            "printing MAP:  0.07354702782737593\n",
            "{'topK': 207, 'alpha': 0.36128728066686633, 'beta': 0.26052832791376884}\n"
          ],
          "name": "stdout"
        }
      ]
    },
    {
      "cell_type": "code",
      "metadata": {
        "id": "9URdZ86mI2ir"
      },
      "source": [
        ""
      ],
      "execution_count": null,
      "outputs": []
    }
  ]
}