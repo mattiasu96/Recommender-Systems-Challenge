{
 "cells": [
  {
   "cell_type": "markdown",
   "metadata": {},
   "source": [
    "# Data loading \n",
    "Next cells are used to load the data we need."
   ]
  },
  {
   "cell_type": "code",
   "execution_count": 3,
   "metadata": {},
   "outputs": [],
   "source": [
    "import pandas as pd\n",
    "import numpy as np \n",
    "import scipy.sparse as sps\n",
    "import os\n",
    "import sys\n",
    "import matplotlib.pyplot as plt\n",
    "sys.path.append('../../')\n"
   ]
  },
  {
   "cell_type": "code",
   "execution_count": 4,
   "metadata": {},
   "outputs": [
    {
     "data": {
      "text/html": [
       "<div>\n",
       "<style scoped>\n",
       "    .dataframe tbody tr th:only-of-type {\n",
       "        vertical-align: middle;\n",
       "    }\n",
       "\n",
       "    .dataframe tbody tr th {\n",
       "        vertical-align: top;\n",
       "    }\n",
       "\n",
       "    .dataframe thead th {\n",
       "        text-align: right;\n",
       "    }\n",
       "</style>\n",
       "<table border=\"1\" class=\"dataframe\">\n",
       "  <thead>\n",
       "    <tr style=\"text-align: right;\">\n",
       "      <th></th>\n",
       "      <th>row</th>\n",
       "      <th>col</th>\n",
       "      <th>data</th>\n",
       "    </tr>\n",
       "  </thead>\n",
       "  <tbody>\n",
       "    <tr>\n",
       "      <th>0</th>\n",
       "      <td>0</td>\n",
       "      <td>10080</td>\n",
       "      <td>1.0</td>\n",
       "    </tr>\n",
       "    <tr>\n",
       "      <th>1</th>\n",
       "      <td>0</td>\n",
       "      <td>19467</td>\n",
       "      <td>1.0</td>\n",
       "    </tr>\n",
       "    <tr>\n",
       "      <th>2</th>\n",
       "      <td>1</td>\n",
       "      <td>2665</td>\n",
       "      <td>1.0</td>\n",
       "    </tr>\n",
       "    <tr>\n",
       "      <th>3</th>\n",
       "      <td>1</td>\n",
       "      <td>7494</td>\n",
       "      <td>1.0</td>\n",
       "    </tr>\n",
       "    <tr>\n",
       "      <th>4</th>\n",
       "      <td>1</td>\n",
       "      <td>17068</td>\n",
       "      <td>1.0</td>\n",
       "    </tr>\n",
       "    <tr>\n",
       "      <th>...</th>\n",
       "      <td>...</td>\n",
       "      <td>...</td>\n",
       "      <td>...</td>\n",
       "    </tr>\n",
       "    <tr>\n",
       "      <th>113263</th>\n",
       "      <td>7945</td>\n",
       "      <td>2476</td>\n",
       "      <td>1.0</td>\n",
       "    </tr>\n",
       "    <tr>\n",
       "      <th>113264</th>\n",
       "      <td>7945</td>\n",
       "      <td>12319</td>\n",
       "      <td>1.0</td>\n",
       "    </tr>\n",
       "    <tr>\n",
       "      <th>113265</th>\n",
       "      <td>7945</td>\n",
       "      <td>21384</td>\n",
       "      <td>1.0</td>\n",
       "    </tr>\n",
       "    <tr>\n",
       "      <th>113266</th>\n",
       "      <td>7946</td>\n",
       "      <td>8699</td>\n",
       "      <td>1.0</td>\n",
       "    </tr>\n",
       "    <tr>\n",
       "      <th>113267</th>\n",
       "      <td>7946</td>\n",
       "      <td>19178</td>\n",
       "      <td>1.0</td>\n",
       "    </tr>\n",
       "  </tbody>\n",
       "</table>\n",
       "<p>113268 rows × 3 columns</p>\n",
       "</div>"
      ],
      "text/plain": [
       "         row    col  data\n",
       "0          0  10080   1.0\n",
       "1          0  19467   1.0\n",
       "2          1   2665   1.0\n",
       "3          1   7494   1.0\n",
       "4          1  17068   1.0\n",
       "...      ...    ...   ...\n",
       "113263  7945   2476   1.0\n",
       "113264  7945  12319   1.0\n",
       "113265  7945  21384   1.0\n",
       "113266  7946   8699   1.0\n",
       "113267  7946  19178   1.0\n",
       "\n",
       "[113268 rows x 3 columns]"
      ]
     },
     "execution_count": 4,
     "metadata": {},
     "output_type": "execute_result"
    }
   ],
   "source": [
    "#data which contains users (row), items(col) and implicit interaction (data)\n",
    "dataset = pd.read_csv('../data_train.csv')\n",
    "dataset"
   ]
  },
  {
   "cell_type": "markdown",
   "metadata": {},
   "source": [
    "# Data pre-processing\n",
    "Pre-processing of data to check for missing users, items ecc..."
   ]
  },
  {
   "cell_type": "code",
   "execution_count": 5,
   "metadata": {},
   "outputs": [
    {
     "data": {
      "text/plain": [
       "(7947, 25975)"
      ]
     },
     "execution_count": 5,
     "metadata": {},
     "output_type": "execute_result"
    }
   ],
   "source": [
    "users = dataset.row\n",
    "items = dataset.col\n",
    "data = dataset.data\n",
    "URM_all = sps.coo_matrix((data, (users, items)))\n",
    "URM_all = URM_all.tocsr() #fast row access -> fast access to users \n",
    "URM_all.shape"
   ]
  },
  {
   "cell_type": "code",
   "execution_count": 6,
   "metadata": {},
   "outputs": [
    {
     "data": {
      "text/html": [
       "<div>\n",
       "<style scoped>\n",
       "    .dataframe tbody tr th:only-of-type {\n",
       "        vertical-align: middle;\n",
       "    }\n",
       "\n",
       "    .dataframe tbody tr th {\n",
       "        vertical-align: top;\n",
       "    }\n",
       "\n",
       "    .dataframe thead th {\n",
       "        text-align: right;\n",
       "    }\n",
       "</style>\n",
       "<table border=\"1\" class=\"dataframe\">\n",
       "  <thead>\n",
       "    <tr style=\"text-align: right;\">\n",
       "      <th></th>\n",
       "      <th>row</th>\n",
       "      <th>col</th>\n",
       "      <th>data</th>\n",
       "    </tr>\n",
       "  </thead>\n",
       "  <tbody>\n",
       "    <tr>\n",
       "      <th>0</th>\n",
       "      <td>0</td>\n",
       "      <td>1185</td>\n",
       "      <td>1.015524</td>\n",
       "    </tr>\n",
       "    <tr>\n",
       "      <th>1</th>\n",
       "      <td>0</td>\n",
       "      <td>2507</td>\n",
       "      <td>0.459024</td>\n",
       "    </tr>\n",
       "    <tr>\n",
       "      <th>2</th>\n",
       "      <td>0</td>\n",
       "      <td>3534</td>\n",
       "      <td>0.227742</td>\n",
       "    </tr>\n",
       "    <tr>\n",
       "      <th>3</th>\n",
       "      <td>0</td>\n",
       "      <td>8766</td>\n",
       "      <td>0.501549</td>\n",
       "    </tr>\n",
       "    <tr>\n",
       "      <th>4</th>\n",
       "      <td>0</td>\n",
       "      <td>10862</td>\n",
       "      <td>0.297011</td>\n",
       "    </tr>\n",
       "    <tr>\n",
       "      <th>...</th>\n",
       "      <td>...</td>\n",
       "      <td>...</td>\n",
       "      <td>...</td>\n",
       "    </tr>\n",
       "    <tr>\n",
       "      <th>490686</th>\n",
       "      <td>25974</td>\n",
       "      <td>12554</td>\n",
       "      <td>0.963016</td>\n",
       "    </tr>\n",
       "    <tr>\n",
       "      <th>490687</th>\n",
       "      <td>25974</td>\n",
       "      <td>13003</td>\n",
       "      <td>0.104613</td>\n",
       "    </tr>\n",
       "    <tr>\n",
       "      <th>490688</th>\n",
       "      <td>25974</td>\n",
       "      <td>16236</td>\n",
       "      <td>0.118760</td>\n",
       "    </tr>\n",
       "    <tr>\n",
       "      <th>490689</th>\n",
       "      <td>25974</td>\n",
       "      <td>18797</td>\n",
       "      <td>0.363301</td>\n",
       "    </tr>\n",
       "    <tr>\n",
       "      <th>490690</th>\n",
       "      <td>25974</td>\n",
       "      <td>19629</td>\n",
       "      <td>0.129141</td>\n",
       "    </tr>\n",
       "  </tbody>\n",
       "</table>\n",
       "<p>490691 rows × 3 columns</p>\n",
       "</div>"
      ],
      "text/plain": [
       "          row    col      data\n",
       "0           0   1185  1.015524\n",
       "1           0   2507  0.459024\n",
       "2           0   3534  0.227742\n",
       "3           0   8766  0.501549\n",
       "4           0  10862  0.297011\n",
       "...       ...    ...       ...\n",
       "490686  25974  12554  0.963016\n",
       "490687  25974  13003  0.104613\n",
       "490688  25974  16236  0.118760\n",
       "490689  25974  18797  0.363301\n",
       "490690  25974  19629  0.129141\n",
       "\n",
       "[490691 rows x 3 columns]"
      ]
     },
     "execution_count": 6,
     "metadata": {},
     "output_type": "execute_result"
    }
   ],
   "source": [
    "ICM_df = pd.read_csv('../data_ICM_title_abstract.csv')\n",
    "ICM_df"
   ]
  },
  {
   "cell_type": "code",
   "execution_count": 7,
   "metadata": {},
   "outputs": [
    {
     "data": {
      "text/plain": [
       "(25975, 20000)"
      ]
     },
     "execution_count": 7,
     "metadata": {},
     "output_type": "execute_result"
    }
   ],
   "source": [
    "items = ICM_df.row\n",
    "features = ICM_df.col\n",
    "data = ICM_df.data\n",
    "ICM_all = sps.coo_matrix((data, (items, features)))\n",
    "ICM_all = ICM_all.tocsr() #fast row access -> fast access to users \n",
    "ICM_all.shape"
   ]
  },
  {
   "cell_type": "code",
   "execution_count": 8,
   "metadata": {},
   "outputs": [
    {
     "name": "stdout",
     "output_type": "stream",
     "text": [
      "Warning: 36 (0.45 %) of 7947 users have no train items\n",
      "Warning: 2890 (36.37 %) of 7947 users have no sampled items\n"
     ]
    }
   ],
   "source": [
    "from Base.Evaluation.Evaluator import EvaluatorHoldout\n",
    "from Data_manager.split_functions.split_train_validation_random_holdout import split_train_in_two_percentage_global_sample\n",
    "\n",
    "#splitting data into train and validation (from the previous training data)\n",
    "URM_train, URM_validation = split_train_in_two_percentage_global_sample(URM_all, train_percentage = 0.85)"
   ]
  },
  {
   "cell_type": "code",
   "execution_count": 9,
   "metadata": {},
   "outputs": [
    {
     "data": {
      "text/plain": [
       "<7947x25975 sparse matrix of type '<class 'numpy.float64'>'\n",
       "\twith 113268 stored elements in Compressed Sparse Row format>"
      ]
     },
     "execution_count": 9,
     "metadata": {},
     "output_type": "execute_result"
    }
   ],
   "source": [
    "URM_all"
   ]
  },
  {
   "cell_type": "code",
   "execution_count": 10,
   "metadata": {},
   "outputs": [
    {
     "data": {
      "text/plain": [
       "<25975x20000 sparse matrix of type '<class 'numpy.float64'>'\n",
       "\twith 490691 stored elements in Compressed Sparse Row format>"
      ]
     },
     "execution_count": 10,
     "metadata": {},
     "output_type": "execute_result"
    }
   ],
   "source": [
    "ICM_all"
   ]
  },
  {
   "cell_type": "code",
   "execution_count": 11,
   "metadata": {},
   "outputs": [],
   "source": [
    "#evaluator for validation (used for hyperparameter tuning)\n",
    "evaluator_validation = EvaluatorHoldout(URM_validation, cutoff_list=[10])"
   ]
  },
  {
   "cell_type": "code",
   "execution_count": 22,
   "metadata": {},
   "outputs": [
    {
     "name": "stdout",
     "output_type": "stream",
     "text": [
      "ItemKNNCFRecommender: URM Detected 36 (0.45 %) cold users.\n",
      "ItemKNNCFRecommender: URM Detected 1964 (7.56 %) cold items.\n",
      "Similarity column 25975 ( 100 % ), 1943.47 column/sec, elapsed time 0.22 min\n",
      "ItemKNNCBFRecommender: URM Detected 36 (0.45 %) cold users.\n",
      "ItemKNNCBFRecommender: URM Detected 1964 (7.56 %) cold items.\n",
      "Similarity column 25975 ( 100 % ), 1464.80 column/sec, elapsed time 0.30 min\n",
      "UserKNNCFRecommender: URM Detected 36 (0.45 %) cold users.\n",
      "UserKNNCFRecommender: URM Detected 1964 (7.56 %) cold items.\n",
      "Similarity column 7947 ( 100 % ), 5916.35 column/sec, elapsed time 0.02 min\n"
     ]
    }
   ],
   "source": [
    "from KNN.ItemKNNCBFRecommender import ItemKNNCBFRecommender\n",
    "from KNN.ItemKNNSimilarityHybridRecommender import ItemKNNSimilarityHybridRecommender\n",
    "from KNN.ItemKNNCFRecommender import ItemKNNCFRecommender\n",
    "from KNN.UserKNNCFRecommender import UserKNNCFRecommender\n",
    "\n",
    "recommender_ITEMCF = ItemKNNCFRecommender(URM_train)\n",
    "recommender_ITEMCF.fit()\n",
    "recommender_CBF = ItemKNNCBFRecommender(URM_train, ICM_all)\n",
    "recommender_CBF.fit()\n",
    "recommender_userKNN = UserKNNCFRecommender(URM_train)\n",
    "recommender_userKNN.fit()\n"
   ]
  },
  {
   "cell_type": "code",
   "execution_count": 23,
   "metadata": {},
   "outputs": [],
   "source": [
    "from Base.Recommender_utils import check_matrix, similarityMatrixTopK\n",
    "from Base.BaseSimilarityMatrixRecommender import BaseItemSimilarityMatrixRecommender\n",
    "import numpy as np\n",
    "\n",
    "class ItemKNNScoresHybridNRecommender(BaseItemSimilarityMatrixRecommender):\n",
    "    \"\"\" ItemKNNScoresHybridRecommender\n",
    "    Hybrid of N prediction scores R\n",
    "\n",
    "    \"\"\"\n",
    "\n",
    "    RECOMMENDER_NAME = \"ItemKNNScoresHybridMultipleRecommender\"\n",
    "\n",
    "\n",
    "    def __init__(self, URM_train, recommender_array, number_of_recommenders):\n",
    "        super(ItemKNNScoresHybridNRecommender, self).__init__(URM_train)\n",
    "        self.number_of_recommenders = number_of_recommenders\n",
    "        self.URM_train = check_matrix(URM_train.copy(), 'csr')\n",
    "        self.recommender_array = recommender_array\n",
    "        print('number of recommenders:',self.number_of_recommenders)\n",
    "\n",
    "\n",
    "        \n",
    "    def fit(self, weight_array):\n",
    "        self.weight_array = weight_array\n",
    "\n",
    "\n",
    "    def _compute_item_score(self, user_id_array, items_to_compute):\n",
    "        item_weights = []\n",
    "        for i in range(self.number_of_recommenders):\n",
    "            print('entering cycle')\n",
    "            item_weights.append(self.recommender_array[i]._compute_item_score(user_id_array))\n",
    "\n",
    "\n",
    "        \n",
    "        weighted_matrices = [a*b for a,b in zip(item_weights,self.weight_array)]\n",
    "        print(weighted_matrices[0].shape)\n",
    "        #item_weights_1 = self.Recommender_1._compute_item_score(user_id_array)\n",
    "        #item_weights_2 = self.Recommender_2._compute_item_score(user_id_array)\n",
    "        #item_weights_3 = self.Recommender_3._compute_item_score(user_id_array)\n",
    "        #print('shape of item_weights hybrid N:', item_weights_1.shape)\n",
    "\n",
    "        \n",
    "        #item_weights = np.multiply(item_weights, self.weight_array)\n",
    "        #item_weights = item_weights_1*self.alpha + item_weights_2*self.beta + item_weights_3*(1-self.alpha-self.beta)\n",
    "        item_weights = sum(weighted_matrices)\n",
    "\n",
    "        return item_weights"
   ]
  },
  {
   "cell_type": "code",
   "execution_count": 24,
   "metadata": {},
   "outputs": [
    {
     "name": "stdout",
     "output_type": "stream",
     "text": [
      "ItemKNNScoresHybridMultipleRecommender: URM Detected 36 (0.45 %) cold users.\n",
      "ItemKNNScoresHybridMultipleRecommender: URM Detected 1964 (7.56 %) cold items.\n",
      "number of recommenders: 3\n",
      "entering cycle\n",
      "entering cycle\n",
      "entering cycle\n",
      "(1000, 25975)\n",
      "entering cycle\n",
      "entering cycle\n",
      "entering cycle\n",
      "(1000, 25975)\n",
      "entering cycle\n",
      "entering cycle\n",
      "entering cycle\n",
      "(1000, 25975)\n",
      "entering cycle\n",
      "entering cycle\n",
      "entering cycle\n",
      "(1000, 25975)\n",
      "entering cycle\n",
      "entering cycle\n",
      "entering cycle\n",
      "(1000, 25975)\n",
      "entering cycle\n",
      "entering cycle\n",
      "entering cycle\n",
      "(57, 25975)\n",
      "EvaluatorHoldout: Processed 5057 ( 100.00% ) in 13.62 sec. Users per second: 371\n"
     ]
    },
    {
     "data": {
      "text/plain": [
       "({10: {'ROC_AUC': 0.1478509436864196,\n",
       "   'PRECISION': 0.030353964801265027,\n",
       "   'PRECISION_RECALL_MIN_DEN': 0.11957242985520627,\n",
       "   'RECALL': 0.11707548726850064,\n",
       "   'MAP': 0.054225106212956516,\n",
       "   'MRR': 0.1087307864942826,\n",
       "   'NDCG': 0.08168184107719426,\n",
       "   'F1': 0.04820889136801997,\n",
       "   'HIT_RATE': 0.3035396480126557,\n",
       "   'ARHR': 0.12226012348120319,\n",
       "   'NOVELTY': 0.004873091136680367,\n",
       "   'AVERAGE_POPULARITY': 0.10057551859867842,\n",
       "   'DIVERSITY_MEAN_INTER_LIST': 0.9872032406515096,\n",
       "   'DIVERSITY_HERFINDAHL': 0.9987008025456601,\n",
       "   'COVERAGE_ITEM': 0.43615014436958616,\n",
       "   'COVERAGE_ITEM_CORRECT': 0.03437921077959576,\n",
       "   'COVERAGE_USER': 0.6363407575185605,\n",
       "   'COVERAGE_USER_CORRECT': 0.15074871020510885,\n",
       "   'DIVERSITY_GINI': 0.1439848705965422,\n",
       "   'SHANNON_ENTROPY': 11.574901549248056}},\n",
       " 'CUTOFF: 10 - ROC_AUC: 0.1478509, PRECISION: 0.0303540, PRECISION_RECALL_MIN_DEN: 0.1195724, RECALL: 0.1170755, MAP: 0.0542251, MRR: 0.1087308, NDCG: 0.0816818, F1: 0.0482089, HIT_RATE: 0.3035396, ARHR: 0.1222601, NOVELTY: 0.0048731, AVERAGE_POPULARITY: 0.1005755, DIVERSITY_MEAN_INTER_LIST: 0.9872032, DIVERSITY_HERFINDAHL: 0.9987008, COVERAGE_ITEM: 0.4361501, COVERAGE_ITEM_CORRECT: 0.0343792, COVERAGE_USER: 0.6363408, COVERAGE_USER_CORRECT: 0.1507487, DIVERSITY_GINI: 0.1439849, SHANNON_ENTROPY: 11.5749015, \\n')"
      ]
     },
     "execution_count": 24,
     "metadata": {},
     "output_type": "execute_result"
    }
   ],
   "source": [
    "hybrid = ItemKNNScoresHybridNRecommender(URM_train, [recommender_ITEMCF,recommender_CBF, recommender_userKNN], 3)\n",
    "hybrid.fit([0.5,0.4,0.1])\n",
    "evaluator_validation.evaluateRecommender(hybrid)"
   ]
  },
  {
   "cell_type": "code",
   "execution_count": 26,
   "metadata": {},
   "outputs": [
    {
     "name": "stdout",
     "output_type": "stream",
     "text": [
      "ItemKNNScoresHybridMultipleRecommender: URM Detected 36 (0.45 %) cold users.\n",
      "ItemKNNScoresHybridMultipleRecommender: URM Detected 1964 (7.56 %) cold items.\n",
      "shape of item_weights: (1000, 25975)\n",
      "shape of item_weights: (1000, 25975)\n",
      "shape of item_weights: (1000, 25975)\n",
      "shape of item_weights: (1000, 25975)\n",
      "shape of item_weights: (1000, 25975)\n",
      "shape of item_weights: (57, 25975)\n",
      "EvaluatorHoldout: Processed 5057 ( 100.00% ) in 12.18 sec. Users per second: 415\n"
     ]
    },
    {
     "data": {
      "text/plain": [
       "({10: {'ROC_AUC': 0.1478509436864196,\n",
       "   'PRECISION': 0.030353964801265027,\n",
       "   'PRECISION_RECALL_MIN_DEN': 0.11957242985520627,\n",
       "   'RECALL': 0.11707548726850064,\n",
       "   'MAP': 0.054225106212956516,\n",
       "   'MRR': 0.1087307864942826,\n",
       "   'NDCG': 0.08168184107719426,\n",
       "   'F1': 0.04820889136801997,\n",
       "   'HIT_RATE': 0.3035396480126557,\n",
       "   'ARHR': 0.12226012348120319,\n",
       "   'NOVELTY': 0.004873091136680367,\n",
       "   'AVERAGE_POPULARITY': 0.10057551859867842,\n",
       "   'DIVERSITY_MEAN_INTER_LIST': 0.9872032406515096,\n",
       "   'DIVERSITY_HERFINDAHL': 0.9987008025456601,\n",
       "   'COVERAGE_ITEM': 0.43615014436958616,\n",
       "   'COVERAGE_ITEM_CORRECT': 0.03437921077959576,\n",
       "   'COVERAGE_USER': 0.6363407575185605,\n",
       "   'COVERAGE_USER_CORRECT': 0.15074871020510885,\n",
       "   'DIVERSITY_GINI': 0.1439848705965422,\n",
       "   'SHANNON_ENTROPY': 11.574901549248056}},\n",
       " 'CUTOFF: 10 - ROC_AUC: 0.1478509, PRECISION: 0.0303540, PRECISION_RECALL_MIN_DEN: 0.1195724, RECALL: 0.1170755, MAP: 0.0542251, MRR: 0.1087308, NDCG: 0.0816818, F1: 0.0482089, HIT_RATE: 0.3035396, ARHR: 0.1222601, NOVELTY: 0.0048731, AVERAGE_POPULARITY: 0.1005755, DIVERSITY_MEAN_INTER_LIST: 0.9872032, DIVERSITY_HERFINDAHL: 0.9987008, COVERAGE_ITEM: 0.4361501, COVERAGE_ITEM_CORRECT: 0.0343792, COVERAGE_USER: 0.6363408, COVERAGE_USER_CORRECT: 0.1507487, DIVERSITY_GINI: 0.1439849, SHANNON_ENTROPY: 11.5749015, \\n')"
      ]
     },
     "execution_count": 26,
     "metadata": {},
     "output_type": "execute_result"
    }
   ],
   "source": [
    "from KNN.ItemKNNScoresHybridMultipleRecommender import ItemKNNScoresHybridMultipleRecommender\n",
    "hybrid = ItemKNNScoresHybridMultipleRecommender(URM_train, recommender_ITEMCF,recommender_CBF, recommender_userKNN )\n",
    "hybrid.fit(alpha = 0.5, beta=0.4)\n",
    "evaluator_validation.evaluateRecommender(hybrid)"
   ]
  },
  {
   "cell_type": "code",
   "execution_count": 15,
   "metadata": {},
   "outputs": [
    {
     "name": "stdout",
     "output_type": "stream",
     "text": [
      "45 0.03099426486845895\n",
      "topk 625, shrink50\n"
     ]
    }
   ],
   "source": [
    "import operator\n",
    "index, value = max(enumerate(collaborative_MAP), key=operator.itemgetter(1))\n",
    "print(index, value)\n",
    "parameters = x_tick[index]\n",
    "print(parameters)"
   ]
  },
  {
   "cell_type": "code",
   "execution_count": 16,
   "metadata": {},
   "outputs": [
    {
     "data": {
      "image/png": "[encoded data removed]",
      "text/plain": [
       "<Figure size 1440x648 with 1 Axes>"
      ]
     },
     "metadata": {
      "needs_background": "light"
     },
     "output_type": "display_data"
    }
   ],
   "source": [
    "import matplotlib.ticker as ticker\n",
    "\n",
    "fig, ax = plt.subplots(1, 1, figsize=(20, 9))\n",
    "plt.plot(x_tick, collaborative_MAP, label=\"Collaborative\")\n",
    "ax.yaxis.set_major_locator(ticker.MultipleLocator(0.01))\n",
    "plt.ylabel('MAP')\n",
    "plt.xlabel('TopK')\n",
    "plt.xticks(rotation='vertical')\n",
    "plt.show()"
   ]
  },
  {
   "cell_type": "code",
   "execution_count": null,
   "metadata": {},
   "outputs": [],
   "source": [
    "test_users = pd.read_csv('data_target_users_test.csv')\n",
    "test_users"
   ]
  },
  {
   "cell_type": "code",
   "execution_count": null,
   "metadata": {},
   "outputs": [],
   "source": [
    "# best model itemCBF topk 600, shrink200, weightTF-IDF\n",
    "\n",
    "recommender = ItemKNNCBFRecommender(URM_all, ICM_all)\n",
    "recommender.fit(topK=600, shrink=200, feature_weighting = 'TF-IDF')\n",
    "\n",
    "user_id = test_users['user_id']\n",
    "recommendations = recommender.recommend(user_id,cutoff = 10)\n"
   ]
  },
  {
   "cell_type": "code",
   "execution_count": null,
   "metadata": {},
   "outputs": [],
   "source": [
    "for index in range(len(recommendations)):\n",
    "    #print(element)\n",
    "    recommendations[index]=np.array(recommendations[index])\n",
    "    #print(type(element))\n",
    "print(len(recommendations))"
   ]
  },
  {
   "cell_type": "code",
   "execution_count": null,
   "metadata": {},
   "outputs": [],
   "source": [
    "test_users['item_list']= recommendations\n",
    "#test_users['item_list'] =  test_users['item_list'].apply(lambda x: x.replace('[','').replace(']','')) \n",
    "test_users['item_list'] = pd.DataFrame([str(line).strip('[').strip(']').replace(\"'\",\"\") for line in test_users['item_list']])\n",
    "\n",
    "#convert the string columns to int\n",
    "#test_users['item_list'] = test_users['item_list'].astype(int)\n",
    "test_users\n",
    "test_users.to_csv('submission.csv', index=False)\n"
   ]
  },
  {
   "cell_type": "code",
   "execution_count": null,
   "metadata": {},
   "outputs": [],
   "source": []
  }
 ],
 "metadata": {
  "kernelspec": {
   "display_name": "Python 3",
   "language": "python",
   "name": "python3"
  },
  "language_info": {
   "codemirror_mode": {
    "name": "ipython",
    "version": 3
   },
   "file_extension": ".py",
   "mimetype": "text/x-python",
   "name": "python",
   "nbconvert_exporter": "python",
   "pygments_lexer": "ipython3",
   "version": "3.8.5"
  }
 },
 "nbformat": 4,
 "nbformat_minor": 4
}
