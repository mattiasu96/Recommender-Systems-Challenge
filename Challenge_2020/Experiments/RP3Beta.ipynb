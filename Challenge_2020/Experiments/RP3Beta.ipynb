{
 "cells": [
  {
   "cell_type": "code",
   "execution_count": 64,
   "metadata": {},
   "outputs": [],
   "source": [
    "import pandas as pd\n",
    "import numpy as np \n",
    "import scipy.sparse as sps\n",
    "import os\n",
    "import sys\n",
    "import matplotlib.pyplot as plt\n",
    "sys.path.append('../..')\n"
   ]
  },
  {
   "cell_type": "code",
   "execution_count": 65,
   "metadata": {},
   "outputs": [],
   "source": [
    "dataset = pd.read_csv('../data_train.csv')"
   ]
  },
  {
   "cell_type": "code",
   "execution_count": 66,
   "metadata": {},
   "outputs": [],
   "source": [
    "users = dataset.row\n",
    "items = dataset.col\n",
    "data = dataset.data\n",
    "URM_all = sps.coo_matrix((data, (users, items)))\n",
    "URM_all = URM_all.tocsr() #fast row access -> fast access to users "
   ]
  },
  {
   "cell_type": "code",
   "execution_count": 67,
   "metadata": {},
   "outputs": [],
   "source": [
    "ICM_df = pd.read_csv('../data_ICM_title_abstract.csv')\n",
    "test_users = pd.read_csv('../data_target_users_test.csv')"
   ]
  },
  {
   "cell_type": "code",
   "execution_count": 68,
   "metadata": {},
   "outputs": [],
   "source": [
    "items = ICM_df.row\n",
    "features = ICM_df.col\n",
    "data = ICM_df.data\n",
    "ICM_all = sps.coo_matrix((data, (items, features)))\n",
    "ICM_all = ICM_all.tocsr() #fast row access -> fast access to users "
   ]
  },
  {
   "cell_type": "code",
   "execution_count": 69,
   "metadata": {},
   "outputs": [
    {
     "output_type": "stream",
     "name": "stdout",
     "text": [
      "Warning: 50 (0.63 %) of 7947 users have no train items\nWarning: 2966 (37.32 %) of 7947 users have no sampled items\n"
     ]
    }
   ],
   "source": [
    "from Base.Evaluation.Evaluator import EvaluatorHoldout\n",
    "from Data_manager.split_functions.split_train_validation_random_holdout import split_train_in_two_percentage_global_sample\n",
    "\n",
    "URM_train, URM_validation = split_train_in_two_percentage_global_sample(URM_all, train_percentage = 0.85)\n",
    "\n",
    "evaluator_validation = EvaluatorHoldout(URM_validation, cutoff_list=[10])"
   ]
  },
  {
   "cell_type": "code",
   "execution_count": 70,
   "metadata": {},
   "outputs": [],
   "source": [
    "URM_train_ICM_all = sps.vstack([URM_train, ICM_all.T])"
   ]
  },
  {
   "cell_type": "code",
   "execution_count": 71,
   "metadata": {},
   "outputs": [],
   "source": []
  },
  {
   "cell_type": "code",
   "execution_count": 72,
   "metadata": {},
   "outputs": [
    {
     "output_type": "stream",
     "name": "stdout",
     "text": [
      "7947\n",
      "Iteration No: 1 started. Evaluating function at random point.\n",
      "RP3betaRecommender: URM Detected 52 (0.19 %) cold users.\n",
      "RP3betaRecommender: URM Detected 2 (0.01 %) cold items.\n",
      "SearchBayesianSkopt: Testing config: {'topK': 681, 'alpha': 0.6505112610916715, 'beta': 0.2389622765604527}\n",
      "EvaluatorHoldout: Processed 4981 ( 100.00% ) in 3.56 sec. Users per second: 1399\n",
      "SearchBayesianSkopt: New best config found. Config 0: {'topK': 681, 'alpha': 0.6505112610916715, 'beta': 0.2389622765604527} - results: ROC_AUC: 0.1794971, PRECISION: 0.0377033, PRECISION_RECALL_MIN_DEN: 0.1496436, RECALL: 0.1466433, MAP: 0.0670771, MRR: 0.1310790, NDCG: 0.1010738, F1: 0.0599841, HIT_RATE: 0.3770327, ARHR: 0.1486151, NOVELTY: 0.0054333, AVERAGE_POPULARITY: 0.1210021, DIVERSITY_MEAN_INTER_LIST: 0.9936295, DIVERSITY_HERFINDAHL: 0.9993430, COVERAGE_ITEM: 0.5526853, COVERAGE_ITEM_CORRECT: 0.0487777, COVERAGE_USER: 0.6267774, COVERAGE_USER_CORRECT: 0.1804455, DIVERSITY_GINI: 0.2463257, SHANNON_ENTROPY: 12.5647773, \n",
      "\n",
      "EvaluatorHoldout: Processed 4981 ( 100.00% ) in 3.77 sec. Users per second: 1323\n",
      "SearchBayesianSkopt: Best config evaluated with evaluator_test. Config: {'topK': 681, 'alpha': 0.6505112610916715, 'beta': 0.2389622765604527} - results:\n",
      "CUTOFF: 10 - ROC_AUC: 0.1794971, PRECISION: 0.0377033, PRECISION_RECALL_MIN_DEN: 0.1496436, RECALL: 0.1466433, MAP: 0.0670771, MRR: 0.1310790, NDCG: 0.1010738, F1: 0.0599841, HIT_RATE: 0.3770327, ARHR: 0.1486151, NOVELTY: 0.0054333, AVERAGE_POPULARITY: 0.1210021, DIVERSITY_MEAN_INTER_LIST: 0.9936295, DIVERSITY_HERFINDAHL: 0.9993430, COVERAGE_ITEM: 0.5526853, COVERAGE_ITEM_CORRECT: 0.0487777, COVERAGE_USER: 0.6267774, COVERAGE_USER_CORRECT: 0.1804455, DIVERSITY_GINI: 0.2463257, SHANNON_ENTROPY: 12.5647773, \n",
      "\n",
      "\n",
      "DataIO: Json dumps supports only 'str' as dictionary keys. Transforming keys to string, note that this will alter the mapper content.\n",
      "Iteration No: 1 ended. Evaluation done at random point.\n",
      "Time taken: 53.7413\n",
      "Function value obtained: -0.0671\n",
      "Current minimum: -0.0671\n",
      "Iteration No: 2 started. Evaluating function at random point.\n",
      "RP3betaRecommender: URM Detected 52 (0.19 %) cold users.\n",
      "RP3betaRecommender: URM Detected 2 (0.01 %) cold items.\n",
      "SearchBayesianSkopt: Testing config: {'topK': 348, 'alpha': 0.8045139660995985, 'beta': 0.8788833429390028}\n",
      "EvaluatorHoldout: Processed 4981 ( 100.00% ) in 3.45 sec. Users per second: 1443\n",
      "SearchBayesianSkopt: Config 1 is suboptimal. Config: {'topK': 348, 'alpha': 0.8045139660995985, 'beta': 0.8788833429390028} - results: ROC_AUC: 0.1140921, PRECISION: 0.0237503, PRECISION_RECALL_MIN_DEN: 0.0970556, RECALL: 0.0953301, MAP: 0.0396176, MRR: 0.0782812, NDCG: 0.0620742, F1: 0.0380267, HIT_RATE: 0.2375025, ARHR: 0.0865463, NOVELTY: 0.0059249, AVERAGE_POPULARITY: 0.0492897, DIVERSITY_MEAN_INTER_LIST: 0.9983811, DIVERSITY_HERFINDAHL: 0.9998181, COVERAGE_ITEM: 0.5612320, COVERAGE_ITEM_CORRECT: 0.0394995, COVERAGE_USER: 0.6267774, COVERAGE_USER_CORRECT: 0.1201711, DIVERSITY_GINI: 0.2887380, SHANNON_ENTROPY: 13.1718877, \n",
      "\n",
      "Iteration No: 2 ended. Evaluation done at random point.\n",
      "Time taken: 37.7783\n",
      "Function value obtained: -0.0396\n",
      "Current minimum: -0.0671\n",
      "Iteration No: 3 started. Evaluating function at random point.\n",
      "RP3betaRecommender: URM Detected 52 (0.19 %) cold users.\n",
      "RP3betaRecommender: URM Detected 2 (0.01 %) cold items.\n",
      "SearchBayesianSkopt: Testing config: {'topK': 721, 'alpha': 0.7883433367370555, 'beta': 0.7919559238192287}\n",
      "EvaluatorHoldout: Processed 4981 ( 100.00% ) in 3.82 sec. Users per second: 1305\n",
      "SearchBayesianSkopt: Config 2 is suboptimal. Config: {'topK': 721, 'alpha': 0.7883433367370555, 'beta': 0.7919559238192287} - results: ROC_AUC: 0.1265262, PRECISION: 0.0272234, PRECISION_RECALL_MIN_DEN: 0.1062575, RECALL: 0.1038504, MAP: 0.0437443, MRR: 0.0869644, NDCG: 0.0685299, F1: 0.0431385, HIT_RATE: 0.2722345, ARHR: 0.0976138, NOVELTY: 0.0058443, AVERAGE_POPULARITY: 0.0570297, DIVERSITY_MEAN_INTER_LIST: 0.9985032, DIVERSITY_HERFINDAHL: 0.9998303, COVERAGE_ITEM: 0.5825217, COVERAGE_ITEM_CORRECT: 0.0430029, COVERAGE_USER: 0.6267774, COVERAGE_USER_CORRECT: 0.1333837, DIVERSITY_GINI: 0.3089369, SHANNON_ENTROPY: 13.2662073, \n",
      "\n",
      "Iteration No: 3 ended. Evaluation done at random point.\n",
      "Time taken: 53.3507\n",
      "Function value obtained: -0.0437\n",
      "Current minimum: -0.0671\n",
      "Iteration No: 4 started. Searching for the next optimal point.\n",
      "RP3betaRecommender: URM Detected 52 (0.19 %) cold users.\n",
      "RP3betaRecommender: URM Detected 2 (0.01 %) cold items.\n",
      "SearchBayesianSkopt: Testing config: {'topK': 684, 'alpha': 0.03253832199218466, 'beta': 0.0}\n",
      "EvaluatorHoldout: Processed 4981 ( 100.00% ) in 3.54 sec. Users per second: 1405\n",
      "SearchBayesianSkopt: Config 3 is suboptimal. Config: {'topK': 684, 'alpha': 0.03253832199218466, 'beta': 0.0} - results: ROC_AUC: 0.1631718, PRECISION: 0.0333266, PRECISION_RECALL_MIN_DEN: 0.1324594, RECALL: 0.1296677, MAP: 0.0574360, MRR: 0.1148808, NDCG: 0.0880407, F1: 0.0530250, HIT_RATE: 0.3332664, ARHR: 0.1289904, NOVELTY: 0.0052717, AVERAGE_POPULARITY: 0.1540171, DIVERSITY_MEAN_INTER_LIST: 0.9886798, DIVERSITY_HERFINDAHL: 0.9988481, COVERAGE_ITEM: 0.4075842, COVERAGE_ITEM_CORRECT: 0.0406160, COVERAGE_USER: 0.6267774, COVERAGE_USER_CORRECT: 0.1632062, DIVERSITY_GINI: 0.1478401, SHANNON_ENTROPY: 11.7727325, \n",
      "\n",
      "Iteration No: 4 ended. Search finished for the next optimal point.\n",
      "Time taken: 50.0404\n",
      "Function value obtained: -0.0574\n",
      "Current minimum: -0.0671\n",
      "Iteration No: 5 started. Searching for the next optimal point.\n",
      "RP3betaRecommender: URM Detected 52 (0.19 %) cold users.\n",
      "RP3betaRecommender: URM Detected 2 (0.01 %) cold items.\n",
      "SearchBayesianSkopt: Testing config: {'topK': 26, 'alpha': 0.0, 'beta': 0.38812341510445875}\n",
      "EvaluatorHoldout: Processed 4981 ( 100.00% ) in 2.58 sec. Users per second: 1927\n",
      "SearchBayesianSkopt: Config 4 is suboptimal. Config: {'topK': 26, 'alpha': 0.0, 'beta': 0.38812341510445875} - results: ROC_AUC: 0.1562449, PRECISION: 0.0315599, PRECISION_RECALL_MIN_DEN: 0.1240713, RECALL: 0.1213534, MAP: 0.0568410, MRR: 0.1123429, NDCG: 0.0850955, F1: 0.0500925, HIT_RATE: 0.3155993, ARHR: 0.1265963, NOVELTY: 0.0055556, AVERAGE_POPULARITY: 0.0946024, DIVERSITY_MEAN_INTER_LIST: 0.9967068, DIVERSITY_HERFINDAHL: 0.9996507, COVERAGE_ITEM: 0.5877575, COVERAGE_ITEM_CORRECT: 0.0453128, COVERAGE_USER: 0.6267774, COVERAGE_USER_CORRECT: 0.1531395, DIVERSITY_GINI: 0.2913849, SHANNON_ENTROPY: 12.9961690, \n",
      "\n",
      "Iteration No: 5 ended. Search finished for the next optimal point.\n",
      "Time taken: 23.5387\n",
      "Function value obtained: -0.0568\n",
      "Current minimum: -0.0671\n",
      "Iteration No: 6 started. Searching for the next optimal point.\n",
      "RP3betaRecommender: URM Detected 52 (0.19 %) cold users.\n",
      "RP3betaRecommender: URM Detected 2 (0.01 %) cold items.\n",
      "SearchBayesianSkopt: Testing config: {'topK': 29, 'alpha': 1.0, 'beta': 0.0}\n",
      "EvaluatorHoldout: Processed 4981 ( 100.00% ) in 2.61 sec. Users per second: 1912\n",
      "SearchBayesianSkopt: Config 5 is suboptimal. Config: {'topK': 29, 'alpha': 1.0, 'beta': 0.0} - results: ROC_AUC: 0.1323048, PRECISION: 0.0246135, PRECISION_RECALL_MIN_DEN: 0.1025155, RECALL: 0.1005021, MAP: 0.0482420, MRR: 0.0960678, NDCG: 0.0712211, F1: 0.0395428, HIT_RATE: 0.2461353, ARHR: 0.1049065, NOVELTY: 0.0054763, AVERAGE_POPULARITY: 0.1072817, DIVERSITY_MEAN_INTER_LIST: 0.9965541, DIVERSITY_HERFINDAHL: 0.9996354, COVERAGE_ITEM: 0.5452936, COVERAGE_ITEM_CORRECT: 0.0338787, COVERAGE_USER: 0.6267774, COVERAGE_USER_CORRECT: 0.1273437, DIVERSITY_GINI: 0.2739669, SHANNON_ENTROPY: 12.9464399, \n",
      "\n",
      "Iteration No: 6 ended. Search finished for the next optimal point.\n",
      "Time taken: 24.9166\n",
      "Function value obtained: -0.0482\n",
      "Current minimum: -0.0671\n",
      "Iteration No: 7 started. Searching for the next optimal point.\n",
      "RP3betaRecommender: URM Detected 52 (0.19 %) cold users.\n",
      "RP3betaRecommender: URM Detected 2 (0.01 %) cold items.\n",
      "SearchBayesianSkopt: Testing config: {'topK': 563, 'alpha': 0.9262060929528776, 'beta': 0.3739512557249672}\n",
      "EvaluatorHoldout: Processed 4981 ( 100.00% ) in 3.45 sec. Users per second: 1443\n",
      "SearchBayesianSkopt: Config 6 is suboptimal. Config: {'topK': 563, 'alpha': 0.9262060929528776, 'beta': 0.3739512557249672} - results: ROC_AUC: 0.1503450, PRECISION: 0.0316001, PRECISION_RECALL_MIN_DEN: 0.1210056, RECALL: 0.1181446, MAP: 0.0538047, MRR: 0.1080139, NDCG: 0.0817798, F1: 0.0498633, HIT_RATE: 0.3160008, ARHR: 0.1220477, NOVELTY: 0.0055710, AVERAGE_POPULARITY: 0.0931296, DIVERSITY_MEAN_INTER_LIST: 0.9971737, DIVERSITY_HERFINDAHL: 0.9996974, COVERAGE_ITEM: 0.5920693, COVERAGE_ITEM_CORRECT: 0.0433109, COVERAGE_USER: 0.6267774, COVERAGE_USER_CORRECT: 0.1523845, DIVERSITY_GINI: 0.3084556, SHANNON_ENTROPY: 13.1176268, \n",
      "\n",
      "Iteration No: 7 ended. Search finished for the next optimal point.\n",
      "Time taken: 43.8267\n",
      "Function value obtained: -0.0538\n",
      "Current minimum: -0.0671\n",
      "Iteration No: 8 started. Searching for the next optimal point.\n",
      "RP3betaRecommender: URM Detected 52 (0.19 %) cold users.\n",
      "RP3betaRecommender: URM Detected 2 (0.01 %) cold items.\n",
      "SearchBayesianSkopt: Testing config: {'topK': 848, 'alpha': 0.44760921022259814, 'beta': 0.15434611134474233}\n",
      "EvaluatorHoldout: Processed 4981 ( 100.00% ) in 3.56 sec. Users per second: 1401\n",
      "SearchBayesianSkopt: New best config found. Config 7: {'topK': 848, 'alpha': 0.44760921022259814, 'beta': 0.15434611134474233} - results: ROC_AUC: 0.1858598, PRECISION: 0.0384059, PRECISION_RECALL_MIN_DEN: 0.1547936, RECALL: 0.1518284, MAP: 0.0690006, MRR: 0.1336745, NDCG: 0.1039957, F1: 0.0613045, HIT_RATE: 0.3840594, ARHR: 0.1512772, NOVELTY: 0.0053502, AVERAGE_POPULARITY: 0.1385097, DIVERSITY_MEAN_INTER_LIST: 0.9907629, DIVERSITY_HERFINDAHL: 0.9990564, COVERAGE_ITEM: 0.4965159, COVERAGE_ITEM_CORRECT: 0.0479307, COVERAGE_USER: 0.6267774, COVERAGE_USER_CORRECT: 0.1858563, DIVERSITY_GINI: 0.1978472, SHANNON_ENTROPY: 12.1501767, \n",
      "\n",
      "EvaluatorHoldout: Processed 4981 ( 100.00% ) in 3.62 sec. Users per second: 1375\n",
      "SearchBayesianSkopt: Best config evaluated with evaluator_test. Config: {'topK': 848, 'alpha': 0.44760921022259814, 'beta': 0.15434611134474233} - results:\n",
      "CUTOFF: 10 - ROC_AUC: 0.1858598, PRECISION: 0.0384059, PRECISION_RECALL_MIN_DEN: 0.1547936, RECALL: 0.1518284, MAP: 0.0690006, MRR: 0.1336745, NDCG: 0.1039957, F1: 0.0613045, HIT_RATE: 0.3840594, ARHR: 0.1512772, NOVELTY: 0.0053502, AVERAGE_POPULARITY: 0.1385097, DIVERSITY_MEAN_INTER_LIST: 0.9907629, DIVERSITY_HERFINDAHL: 0.9990564, COVERAGE_ITEM: 0.4965159, COVERAGE_ITEM_CORRECT: 0.0479307, COVERAGE_USER: 0.6267774, COVERAGE_USER_CORRECT: 0.1858563, DIVERSITY_GINI: 0.1978472, SHANNON_ENTROPY: 12.1501767, \n",
      "\n",
      "\n",
      "Iteration No: 8 ended. Search finished for the next optimal point.\n",
      "Time taken: 59.0733\n",
      "Function value obtained: -0.0690\n",
      "Current minimum: -0.0690\n",
      "Iteration No: 9 started. Searching for the next optimal point.\n",
      "RP3betaRecommender: URM Detected 52 (0.19 %) cold users.\n",
      "RP3betaRecommender: URM Detected 2 (0.01 %) cold items.\n",
      "SearchBayesianSkopt: Testing config: {'topK': 855, 'alpha': 0.0, 'beta': 1.0}\n",
      "EvaluatorHoldout: Processed 4981 ( 100.00% ) in 3.44 sec. Users per second: 1448\n",
      "SearchBayesianSkopt: Config 8 is suboptimal. Config: {'topK': 855, 'alpha': 0.0, 'beta': 1.0} - results: ROC_AUC: 0.0473474, PRECISION: 0.0097972, PRECISION_RECALL_MIN_DEN: 0.0421179, RECALL: 0.0414033, MAP: 0.0165317, MRR: 0.0307926, NDCG: 0.0261273, F1: 0.0158451, HIT_RATE: 0.0979723, ARHR: 0.0331710, NOVELTY: 0.0064385, AVERAGE_POPULARITY: 0.0203693, DIVERSITY_MEAN_INTER_LIST: 0.9878785, DIVERSITY_HERFINDAHL: 0.9987680, COVERAGE_ITEM: 0.2518191, COVERAGE_ITEM_CORRECT: 0.0179403, COVERAGE_USER: 0.6267774, COVERAGE_USER_CORRECT: 0.0529760, DIVERSITY_GINI: 0.0720359, SHANNON_ENTROPY: 10.9859393, \n",
      "\n",
      "Iteration No: 9 ended. Search finished for the next optimal point.\n",
      "Time taken: 54.2931\n",
      "Function value obtained: -0.0165\n",
      "Current minimum: -0.0690\n",
      "Iteration No: 10 started. Searching for the next optimal point.\n",
      "RP3betaRecommender: URM Detected 52 (0.19 %) cold users.\n",
      "RP3betaRecommender: URM Detected 2 (0.01 %) cold items.\n",
      "SearchBayesianSkopt: Testing config: {'topK': 5, 'alpha': 0.4081446348195439, 'beta': 0.3818983561611149}\n",
      "EvaluatorHoldout: Processed 4981 ( 100.00% ) in 2.58 sec. Users per second: 1932\n",
      "SearchBayesianSkopt: Config 9 is suboptimal. Config: {'topK': 5, 'alpha': 0.4081446348195439, 'beta': 0.3818983561611149} - results: ROC_AUC: 0.1359901, PRECISION: 0.0239510, PRECISION_RECALL_MIN_DEN: 0.0979425, RECALL: 0.0957900, MAP: 0.0476066, MRR: 0.0981251, NDCG: 0.0700201, F1: 0.0383205, HIT_RATE: 0.2395101, ARHR: 0.1065930, NOVELTY: 0.0056111, AVERAGE_POPULARITY: 0.0848970, DIVERSITY_MEAN_INTER_LIST: 0.9826180, DIVERSITY_HERFINDAHL: 0.9982421, COVERAGE_ITEM: 0.5685082, COVERAGE_ITEM_CORRECT: 0.0365736, COVERAGE_USER: 0.6267774, COVERAGE_USER_CORRECT: 0.1255820, DIVERSITY_GINI: 0.2615970, SHANNON_ENTROPY: 12.4412766, \n",
      "\n",
      "Iteration No: 10 ended. Search finished for the next optimal point.\n",
      "Time taken: 24.6880\n",
      "Function value obtained: -0.0476\n",
      "Current minimum: -0.0690\n",
      "SearchBayesianSkopt: Search complete. Best config is 7: {'topK': 848, 'alpha': 0.44760921022259814, 'beta': 0.15434611134474233}\n",
      "\n",
      "RP3betaRecommender: URM Detected 52 (0.19 %) cold users.\n",
      "RP3betaRecommender: URM Detected 2 (0.01 %) cold items.\n",
      "SearchBayesianSkopt: Evaluation with constructor data for final test. Using best config: {'topK': 848, 'alpha': 0.44760921022259814, 'beta': 0.15434611134474233}\n",
      "EvaluatorHoldout: Processed 4981 ( 100.00% ) in 3.63 sec. Users per second: 1371\n",
      "SearchBayesianSkopt: Best config evaluated with evaluator_test with constructor data for final test. Config: {'topK': 848, 'alpha': 0.44760921022259814, 'beta': 0.15434611134474233} - results:\n",
      "CUTOFF: 10 - ROC_AUC: 0.1858598, PRECISION: 0.0384059, PRECISION_RECALL_MIN_DEN: 0.1547936, RECALL: 0.1518284, MAP: 0.0690006, MRR: 0.1336745, NDCG: 0.1039957, F1: 0.0613045, HIT_RATE: 0.3840594, ARHR: 0.1512772, NOVELTY: 0.0053502, AVERAGE_POPULARITY: 0.1385097, DIVERSITY_MEAN_INTER_LIST: 0.9907629, DIVERSITY_HERFINDAHL: 0.9990564, COVERAGE_ITEM: 0.4965159, COVERAGE_ITEM_CORRECT: 0.0479307, COVERAGE_USER: 0.6267774, COVERAGE_USER_CORRECT: 0.1858563, DIVERSITY_GINI: 0.1978472, SHANNON_ENTROPY: 12.1501767, \n",
      "\n",
      "\n",
      "SearchBayesianSkopt: Saving model in result_experiments/RP3betaRecommender\n",
      "\n",
      "RP3betaRecommender: Saving model in file 'result_experiments/RP3betaRecommender_best_model_last'\n",
      "RP3betaRecommender: Saving complete\n"
     ]
    },
    {
     "output_type": "execute_result",
     "data": {
      "text/plain": [
       "{'topK': 848, 'alpha': 0.44760921022259814, 'beta': 0.15434611134474233}"
      ]
     },
     "metadata": {},
     "execution_count": 72
    }
   ],
   "source": [
    "from skopt.space import Real, Integer, Categorical\n",
    "from ParameterTuning.SearchAbstractClass import SearchInputRecommenderArgs\n",
    "from ParameterTuning.SearchBayesianSkopt import SearchBayesianSkopt\n",
    "from GraphBased.RP3betaRecommender import RP3betaRecommender\n",
    "\n",
    "hyperparameters_range_dictionary = {}\n",
    "hyperparameters_range_dictionary[\"topK\"] = Integer(5, 900)\n",
    "hyperparameters_range_dictionary[\"alpha\"] = Real(low = 0, high = 1, prior = 'uniform')\n",
    "hyperparameters_range_dictionary[\"beta\"] = Real(low = 0, high = 1, prior = 'uniform')\n",
    "\n",
    "grouped_users = dataset.groupby(['row']).count()\n",
    "\n",
    "# All users present into the dataser\n",
    "sorted_users = grouped_users.sort_values(by=['col'], ascending=True)\n",
    "sorted_users = sorted_users.index.to_numpy()\n",
    "print(len(sorted_users))\n",
    "\n",
    "evaluator_validation = EvaluatorHoldout(URM_validation, cutoff_list=[10])\n",
    "\n",
    "recommender_class = RP3betaRecommender\n",
    "\n",
    "parameterSearch = SearchBayesianSkopt(recommender_class,\n",
    "                                 evaluator_validation=evaluator_validation,\n",
    "                                 evaluator_test=evaluator_validation)\n",
    "\n",
    "import os\n",
    "\n",
    "output_folder_path = \"result_experiments/\"\n",
    "\n",
    "# If directory does not exist, create\n",
    "if not os.path.exists(output_folder_path):\n",
    "    os.makedirs(output_folder_path)\n",
    "    \n",
    "n_cases = 10\n",
    "n_random_starts = int(n_cases*0.3)\n",
    "\n",
    "recommender_input_args = SearchInputRecommenderArgs(\n",
    "    CONSTRUCTOR_POSITIONAL_ARGS = [URM_train_ICM_all],\n",
    "    CONSTRUCTOR_KEYWORD_ARGS = {},\n",
    "    FIT_POSITIONAL_ARGS = [],\n",
    "    FIT_KEYWORD_ARGS = {}\n",
    ")\n",
    "\n",
    "recommender_input_args_last_test = SearchInputRecommenderArgs(\n",
    "    CONSTRUCTOR_POSITIONAL_ARGS = [URM_train_ICM_all],\n",
    "    CONSTRUCTOR_KEYWORD_ARGS = {},\n",
    "    FIT_POSITIONAL_ARGS = [],\n",
    "    FIT_KEYWORD_ARGS = {}\n",
    ")\n",
    "\n",
    "metric_to_optimize = \"MAP\"\n",
    "\n",
    "parameterSearch.search(recommender_input_args,\n",
    "                       recommender_input_args_last_test = recommender_input_args_last_test,\n",
    "                       parameter_search_space = hyperparameters_range_dictionary,\n",
    "                       n_cases = n_cases,\n",
    "                       n_random_starts = n_random_starts,\n",
    "                       save_model = \"last\",\n",
    "                       output_folder_path = output_folder_path,\n",
    "                       output_file_name_root = recommender_class.RECOMMENDER_NAME,\n",
    "                       metric_to_optimize = metric_to_optimize,\n",
    "                      )\n",
    "\n",
    "from Base.DataIO import DataIO\n",
    "\n",
    "data_loader = DataIO(folder_path = output_folder_path)\n",
    "\n",
    "search_metadata = data_loader.load_data(recommender_class.RECOMMENDER_NAME + \"_metadata.zip\")\n",
    "\n",
    "best_parameters = search_metadata[\"hyperparameters_best\"]\n",
    "best_parameters"
   ]
  },
  {
   "cell_type": "code",
   "execution_count": 73,
   "metadata": {},
   "outputs": [
    {
     "output_type": "execute_result",
     "data": {
      "text/plain": [
       "'for index in range(len(recommendations)):\\n    #print(element)\\n    recommendations[index]=np.array(recommendations[index])\\n    #print(type(element))\\nprint(len(recommendations))'"
      ]
     },
     "metadata": {},
     "execution_count": 73
    }
   ],
   "source": [
    "'''for index in range(len(recommendations)):\n",
    "    #print(element)\n",
    "    recommendations[index]=np.array(recommendations[index])\n",
    "    #print(type(element))\n",
    "print(len(recommendations))'''"
   ]
  },
  {
   "cell_type": "code",
   "execution_count": 74,
   "metadata": {},
   "outputs": [
    {
     "output_type": "execute_result",
     "data": {
      "text/plain": [
       "'test_users[\\'item_list\\']= recommendations\\n#test_users[\\'item_list\\'] =  test_users[\\'item_list\\'].apply(lambda x: x.replace(\\'[\\',\\'\\').replace(\\']\\',\\'\\')) \\ntest_users[\\'item_list\\'] = pd.DataFrame([str(line).strip(\\'[\\').strip(\\']\\').replace(\"\\'\",\"\") for line in test_users[\\'item_list\\']])\\n\\n#convert the string columns to int\\n#test_users[\\'item_list\\'] = test_users[\\'item_list\\'].astype(int)\\ntest_users\\ntest_users.to_csv(\\'submission.csv\\', index=False)'"
      ]
     },
     "metadata": {},
     "execution_count": 74
    }
   ],
   "source": [
    "'''test_users['item_list']= recommendations\n",
    "#test_users['item_list'] =  test_users['item_list'].apply(lambda x: x.replace('[','').replace(']','')) \n",
    "test_users['item_list'] = pd.DataFrame([str(line).strip('[').strip(']').replace(\"'\",\"\") for line in test_users['item_list']])\n",
    "\n",
    "#convert the string columns to int\n",
    "#test_users['item_list'] = test_users['item_list'].astype(int)\n",
    "test_users\n",
    "test_users.to_csv('submission.csv', index=False)'''\n"
   ]
  },
  {
   "cell_type": "code",
   "execution_count": null,
   "metadata": {},
   "outputs": [],
   "source": []
  }
 ],
 "metadata": {
  "kernelspec": {
   "display_name": "Python 3",
   "language": "python",
   "name": "python3"
  },
  "language_info": {
   "codemirror_mode": {
    "name": "ipython",
    "version": 3
   },
   "file_extension": ".py",
   "mimetype": "text/x-python",
   "name": "python",
   "nbconvert_exporter": "python",
   "pygments_lexer": "ipython3",
   "version": "3.8.5-final"
  }
 },
 "nbformat": 4,
 "nbformat_minor": 4
}