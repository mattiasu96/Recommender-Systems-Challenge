{
 "cells": [
  {
   "cell_type": "markdown",
   "metadata": {},
   "source": [
    "# Data loading \n",
    "Next cells are used to load the data we need."
   ]
  },
  {
   "cell_type": "code",
   "execution_count": 1,
   "metadata": {},
   "outputs": [],
   "source": [
    "import pandas as pd\n",
    "import numpy as np \n",
    "import scipy.sparse as sps\n",
    "import os\n",
    "import sys\n",
    "import matplotlib.pyplot as plt\n",
    "sys.path.append('..')\n"
   ]
  },
  {
   "cell_type": "code",
   "execution_count": 2,
   "metadata": {},
   "outputs": [
    {
     "data": {
      "text/html": [
       "<div>\n",
       "<style scoped>\n",
       "    .dataframe tbody tr th:only-of-type {\n",
       "        vertical-align: middle;\n",
       "    }\n",
       "\n",
       "    .dataframe tbody tr th {\n",
       "        vertical-align: top;\n",
       "    }\n",
       "\n",
       "    .dataframe thead th {\n",
       "        text-align: right;\n",
       "    }\n",
       "</style>\n",
       "<table border=\"1\" class=\"dataframe\">\n",
       "  <thead>\n",
       "    <tr style=\"text-align: right;\">\n",
       "      <th></th>\n",
       "      <th>user</th>\n",
       "      <th>item</th>\n",
       "      <th>interaction</th>\n",
       "    </tr>\n",
       "  </thead>\n",
       "  <tbody>\n",
       "    <tr>\n",
       "      <th>0</th>\n",
       "      <td>0</td>\n",
       "      <td>10080</td>\n",
       "      <td>1.0</td>\n",
       "    </tr>\n",
       "    <tr>\n",
       "      <th>1</th>\n",
       "      <td>0</td>\n",
       "      <td>19467</td>\n",
       "      <td>1.0</td>\n",
       "    </tr>\n",
       "    <tr>\n",
       "      <th>2</th>\n",
       "      <td>1</td>\n",
       "      <td>2665</td>\n",
       "      <td>1.0</td>\n",
       "    </tr>\n",
       "    <tr>\n",
       "      <th>3</th>\n",
       "      <td>1</td>\n",
       "      <td>7494</td>\n",
       "      <td>1.0</td>\n",
       "    </tr>\n",
       "    <tr>\n",
       "      <th>4</th>\n",
       "      <td>1</td>\n",
       "      <td>17068</td>\n",
       "      <td>1.0</td>\n",
       "    </tr>\n",
       "    <tr>\n",
       "      <th>...</th>\n",
       "      <td>...</td>\n",
       "      <td>...</td>\n",
       "      <td>...</td>\n",
       "    </tr>\n",
       "    <tr>\n",
       "      <th>113263</th>\n",
       "      <td>7945</td>\n",
       "      <td>2476</td>\n",
       "      <td>1.0</td>\n",
       "    </tr>\n",
       "    <tr>\n",
       "      <th>113264</th>\n",
       "      <td>7945</td>\n",
       "      <td>12319</td>\n",
       "      <td>1.0</td>\n",
       "    </tr>\n",
       "    <tr>\n",
       "      <th>113265</th>\n",
       "      <td>7945</td>\n",
       "      <td>21384</td>\n",
       "      <td>1.0</td>\n",
       "    </tr>\n",
       "    <tr>\n",
       "      <th>113266</th>\n",
       "      <td>7946</td>\n",
       "      <td>8699</td>\n",
       "      <td>1.0</td>\n",
       "    </tr>\n",
       "    <tr>\n",
       "      <th>113267</th>\n",
       "      <td>7946</td>\n",
       "      <td>19178</td>\n",
       "      <td>1.0</td>\n",
       "    </tr>\n",
       "  </tbody>\n",
       "</table>\n",
       "<p>113268 rows × 3 columns</p>\n",
       "</div>"
      ],
      "text/plain": [
       "        user   item  interaction\n",
       "0          0  10080          1.0\n",
       "1          0  19467          1.0\n",
       "2          1   2665          1.0\n",
       "3          1   7494          1.0\n",
       "4          1  17068          1.0\n",
       "...      ...    ...          ...\n",
       "113263  7945   2476          1.0\n",
       "113264  7945  12319          1.0\n",
       "113265  7945  21384          1.0\n",
       "113266  7946   8699          1.0\n",
       "113267  7946  19178          1.0\n",
       "\n",
       "[113268 rows x 3 columns]"
      ]
     },
     "execution_count": 2,
     "metadata": {},
     "output_type": "execute_result"
    }
   ],
   "source": [
    "#data which contains users (row), items(col) and implicit interaction (data)\n",
    "#dataset = pd.read_csv('data_train.csv')\n",
    "dataset = pd.read_csv('data_train.csv', names=[\"user\", \"item\", \"interaction\"], header=0)\n",
    "dataset"
   ]
  },
  {
   "cell_type": "markdown",
   "metadata": {},
   "source": [
    "# Data pre-processing\n",
    "Pre-processing of data to check for missing users, items ecc..."
   ]
  },
  {
   "cell_type": "code",
   "execution_count": 3,
   "metadata": {},
   "outputs": [
    {
     "name": "stdout",
     "output_type": "stream",
     "text": [
      "User data, ID: min 0, max 7946, unique 7947, missig -0.01 %\n",
      "Item data, ID: min 0, max 25974, unique 24896, missig 4.15 %\n"
     ]
    }
   ],
   "source": [
    "def list_ID_stats(ID_list, label):\n",
    "    \n",
    "    min_val = min(ID_list)\n",
    "    max_val = max(ID_list)\n",
    "    unique_val = len(set(ID_list))\n",
    "    missing_val = 1 - unique_val/(max_val - min_val)\n",
    "\n",
    "    print(\"{} data, ID: min {}, max {}, unique {}, missig {:.2f} %\".format(label, min_val, max_val, unique_val, missing_val*100))\n",
    "\n",
    "list_ID_stats(dataset.user, \"User\")\n",
    "list_ID_stats(dataset.item, \"Item\")"
   ]
  },
  {
   "cell_type": "markdown",
   "metadata": {},
   "source": [
    "If the difference between the unique elements and the max/min ones is really big, it's better to remap users and items in a new dataframe. In this case, it seems I can leave it as it is"
   ]
  },
  {
   "cell_type": "code",
   "execution_count": 4,
   "metadata": {},
   "outputs": [
    {
     "data": {
      "text/plain": [
       "(7947, 25975)"
      ]
     },
     "execution_count": 4,
     "metadata": {},
     "output_type": "execute_result"
    }
   ],
   "source": [
    "users = dataset.user\n",
    "items = dataset.item\n",
    "interaction = dataset.interaction\n",
    "URM_all = sps.coo_matrix((interaction, (users, items)))\n",
    "URM_all = URM_all.tocsr() #fast row access -> fast access to users \n",
    "URM_all.shape"
   ]
  },
  {
   "cell_type": "code",
   "execution_count": 5,
   "metadata": {},
   "outputs": [
    {
     "name": "stdout",
     "output_type": "stream",
     "text": [
      "Warning: 53 (0.67 %) of 7947 users have no train items\n",
      "Warning: 3007 (37.84 %) of 7947 users have no sampled items\n"
     ]
    }
   ],
   "source": [
    "from Base.Evaluation.Evaluator import EvaluatorHoldout\n",
    "from Data_manager.split_functions.split_train_validation_random_holdout import split_train_in_two_percentage_global_sample\n",
    "\n",
    "#splitting data into train and test. In teoria non serve, da vedere\n",
    "#URM_train, URM_test = split_train_in_two_percentage_global_sample(URM_all, train_percentage = 0.85)\n",
    "\n",
    "#splitting data into train and validation (from the previous training data)\n",
    "URM_train, URM_validation = split_train_in_two_percentage_global_sample(URM_all, train_percentage = 0.85)\n",
    "\n"
   ]
  },
  {
   "cell_type": "code",
   "execution_count": 6,
   "metadata": {},
   "outputs": [],
   "source": [
    "#evaluator for validation (used for hyperparameter tuning)\n",
    "evaluator_validation = EvaluatorHoldout(URM_validation, cutoff_list=[10])\n",
    "\n",
    "#evaluator for testing (the final one)\n",
    "#evaluator_test = EvaluatorHoldout(URM_test, cutoff_list=[10])"
   ]
  },
  {
   "cell_type": "code",
   "execution_count": 8,
   "metadata": {},
   "outputs": [
    {
     "name": "stdout",
     "output_type": "stream",
     "text": [
      "P3alphaRecommender_user: URM Detected 2018 (7.77 %) cold users.\n",
      "P3alphaRecommender_user: URM Detected 53 (0.67 %) cold items.\n",
      "EvaluatorHoldout: Processed 4940 ( 100.00% ) in 5.67 sec. Users per second: 871\n"
     ]
    },
    {
     "data": {
      "text/plain": [
       "({10: {'ROC_AUC': 0.1491691809652338,\n",
       "   'PRECISION': 0.02888663967611288,\n",
       "   'PRECISION_RECALL_MIN_DEN': 0.11500650665124358,\n",
       "   'RECALL': 0.11280831667638343,\n",
       "   'MAP': 0.05426930762370921,\n",
       "   'MRR': 0.10910280508964706,\n",
       "   'NDCG': 0.08066559341294985,\n",
       "   'F1': 0.045995330817463,\n",
       "   'HIT_RATE': 0.2888663967611336,\n",
       "   'ARHR': 0.12152344001028215,\n",
       "   'NOVELTY': 0.004815973277580495,\n",
       "   'AVERAGE_POPULARITY': 0.10869116140676029,\n",
       "   'DIVERSITY_MEAN_INTER_LIST': 0.9862314569734567,\n",
       "   'DIVERSITY_HERFINDAHL': 0.9986031814978118,\n",
       "   'COVERAGE_ITEM': 0.3693936477382098,\n",
       "   'COVERAGE_ITEM_CORRECT': 0.03303176130895091,\n",
       "   'COVERAGE_USER': 0.6216182207122184,\n",
       "   'COVERAGE_USER_CORRECT': 0.14194035485088713,\n",
       "   'DIVERSITY_GINI': 0.11641077438033738,\n",
       "   'SHANNON_ENTROPY': 11.403282263039443}},\n",
       " 'CUTOFF: 10 - ROC_AUC: 0.1491692, PRECISION: 0.0288866, PRECISION_RECALL_MIN_DEN: 0.1150065, RECALL: 0.1128083, MAP: 0.0542693, MRR: 0.1091028, NDCG: 0.0806656, F1: 0.0459953, HIT_RATE: 0.2888664, ARHR: 0.1215234, NOVELTY: 0.0048160, AVERAGE_POPULARITY: 0.1086912, DIVERSITY_MEAN_INTER_LIST: 0.9862315, DIVERSITY_HERFINDAHL: 0.9986032, COVERAGE_ITEM: 0.3693936, COVERAGE_ITEM_CORRECT: 0.0330318, COVERAGE_USER: 0.6216182, COVERAGE_USER_CORRECT: 0.1419404, DIVERSITY_GINI: 0.1164108, SHANNON_ENTROPY: 11.4032823, \\n')"
      ]
     },
     "execution_count": 8,
     "metadata": {},
     "output_type": "execute_result"
    }
   ],
   "source": [
    "from GraphBased.P3alphaRecommender_user import P3alphaRecommender_user\n",
    "\n",
    "recommender_alpha_user = P3alphaRecommender_user(URM_train.T)\n",
    "recommender_alpha_user.fit(topK=100, alpha = 0.5, implicit = True)\n",
    "recommender_alpha_user.URM_train = URM_train\n",
    "evaluator_validation.evaluateRecommender(recommender_alpha_user)"
   ]
  },
  {
   "cell_type": "code",
   "execution_count": 9,
   "metadata": {},
   "outputs": [
    {
     "data": {
      "text/plain": [
       "(7947, 7947)"
      ]
     },
     "execution_count": 9,
     "metadata": {},
     "output_type": "execute_result"
    }
   ],
   "source": [
    "recommender_alpha_user.W_sparse.shape"
   ]
  },
  {
   "cell_type": "code",
   "execution_count": 10,
   "metadata": {
    "tags": [
     "outputPrepend"
    ]
   },
   "outputs": [
    {
     "name": "stdout",
     "output_type": "stream",
     "text": [
      "P3alphaRecommender_user: URM Detected 2018 (7.77 %) cold users.\n",
      "P3alphaRecommender_user: URM Detected 53 (0.67 %) cold items.\n",
      "EvaluatorHoldout: Processed 4940 ( 100.00% ) in 4.46 sec. Users per second: 1108\n",
      "P3alphaRecommender_user: URM Detected 2018 (7.77 %) cold users.\n",
      "P3alphaRecommender_user: URM Detected 53 (0.67 %) cold items.\n",
      "EvaluatorHoldout: Processed 4940 ( 100.00% ) in 4.32 sec. Users per second: 1143\n",
      "P3alphaRecommender_user: URM Detected 2018 (7.77 %) cold users.\n",
      "P3alphaRecommender_user: URM Detected 53 (0.67 %) cold items.\n",
      "EvaluatorHoldout: Processed 4940 ( 100.00% ) in 4.01 sec. Users per second: 1233\n",
      "P3alphaRecommender_user: URM Detected 2018 (7.77 %) cold users.\n",
      "P3alphaRecommender_user: URM Detected 53 (0.67 %) cold items.\n",
      "EvaluatorHoldout: Processed 4940 ( 100.00% ) in 4.18 sec. Users per second: 1181\n",
      "P3alphaRecommender_user: URM Detected 2018 (7.77 %) cold users.\n",
      "P3alphaRecommender_user: URM Detected 53 (0.67 %) cold items.\n",
      "EvaluatorHoldout: Processed 4940 ( 100.00% ) in 10.05 sec. Users per second: 491\n",
      "P3alphaRecommender_user: URM Detected 2018 (7.77 %) cold users.\n",
      "P3alphaRecommender_user: URM Detected 53 (0.67 %) cold items.\n",
      "EvaluatorHoldout: Processed 4940 ( 100.00% ) in 6.46 sec. Users per second: 765\n",
      "P3alphaRecommender_user: URM Detected 2018 (7.77 %) cold users.\n",
      "P3alphaRecommender_user: URM Detected 53 (0.67 %) cold items.\n",
      "EvaluatorHoldout: Processed 4940 ( 100.00% ) in 7.56 sec. Users per second: 654\n",
      "P3alphaRecommender_user: URM Detected 2018 (7.77 %) cold users.\n",
      "P3alphaRecommender_user: URM Detected 53 (0.67 %) cold items.\n",
      "EvaluatorHoldout: Processed 4940 ( 100.00% ) in 8.69 sec. Users per second: 569\n",
      "P3alphaRecommender_user: URM Detected 2018 (7.77 %) cold users.\n",
      "P3alphaRecommender_user: URM Detected 53 (0.67 %) cold items.\n",
      "EvaluatorHoldout: Processed 4940 ( 100.00% ) in 5.54 sec. Users per second: 892\n",
      "P3alphaRecommender_user: URM Detected 2018 (7.77 %) cold users.\n",
      "P3alphaRecommender_user: URM Detected 53 (0.67 %) cold items.\n",
      "EvaluatorHoldout: Processed 4940 ( 100.00% ) in 5.07 sec. Users per second: 975\n",
      "P3alphaRecommender_user: URM Detected 2018 (7.77 %) cold users.\n",
      "P3alphaRecommender_user: URM Detected 53 (0.67 %) cold items.\n",
      "EvaluatorHoldout: Processed 4940 ( 100.00% ) in 5.61 sec. Users per second: 881\n",
      "P3alphaRecommender_user: URM Detected 2018 (7.77 %) cold users.\n",
      "P3alphaRecommender_user: URM Detected 53 (0.67 %) cold items.\n",
      "EvaluatorHoldout: Processed 4940 ( 100.00% ) in 5.18 sec. Users per second: 954\n",
      "P3alphaRecommender_user: URM Detected 2018 (7.77 %) cold users.\n",
      "P3alphaRecommender_user: URM Detected 53 (0.67 %) cold items.\n",
      "EvaluatorHoldout: Processed 4940 ( 100.00% ) in 5.88 sec. Users per second: 840\n",
      "P3alphaRecommender_user: URM Detected 2018 (7.77 %) cold users.\n",
      "P3alphaRecommender_user: URM Detected 53 (0.67 %) cold items.\n",
      "EvaluatorHoldout: Processed 4940 ( 100.00% ) in 5.54 sec. Users per second: 892\n",
      "P3alphaRecommender_user: URM Detected 2018 (7.77 %) cold users.\n",
      "P3alphaRecommender_user: URM Detected 53 (0.67 %) cold items.\n",
      "EvaluatorHoldout: Processed 4940 ( 100.00% ) in 4.76 sec. Users per second: 1038\n",
      "P3alphaRecommender_user: URM Detected 2018 (7.77 %) cold users.\n",
      "P3alphaRecommender_user: URM Detected 53 (0.67 %) cold items.\n",
      "EvaluatorHoldout: Processed 4940 ( 100.00% ) in 4.65 sec. Users per second: 1062\n",
      "P3alphaRecommender_user: URM Detected 2018 (7.77 %) cold users.\n",
      "P3alphaRecommender_user: URM Detected 53 (0.67 %) cold items.\n",
      "EvaluatorHoldout: Processed 4940 ( 100.00% ) in 4.37 sec. Users per second: 1129\n",
      "P3alphaRecommender_user: URM Detected 2018 (7.77 %) cold users.\n",
      "P3alphaRecommender_user: URM Detected 53 (0.67 %) cold items.\n",
      "EvaluatorHoldout: Processed 4940 ( 100.00% ) in 4.66 sec. Users per second: 1061\n",
      "P3alphaRecommender_user: URM Detected 2018 (7.77 %) cold users.\n",
      "P3alphaRecommender_user: URM Detected 53 (0.67 %) cold items.\n",
      "EvaluatorHoldout: Processed 4940 ( 100.00% ) in 4.44 sec. Users per second: 1113\n",
      "P3alphaRecommender_user: URM Detected 2018 (7.77 %) cold users.\n",
      "P3alphaRecommender_user: URM Detected 53 (0.67 %) cold items.\n",
      "EvaluatorHoldout: Processed 4940 ( 100.00% ) in 4.35 sec. Users per second: 1134\n",
      "P3alphaRecommender_user: URM Detected 2018 (7.77 %) cold users.\n",
      "P3alphaRecommender_user: URM Detected 53 (0.67 %) cold items.\n",
      "EvaluatorHoldout: Processed 4940 ( 100.00% ) in 4.39 sec. Users per second: 1125\n",
      "P3alphaRecommender_user: URM Detected 2018 (7.77 %) cold users.\n",
      "P3alphaRecommender_user: URM Detected 53 (0.67 %) cold items.\n",
      "EvaluatorHoldout: Processed 4940 ( 100.00% ) in 4.16 sec. Users per second: 1187\n",
      "P3alphaRecommender_user: URM Detected 2018 (7.77 %) cold users.\n",
      "P3alphaRecommender_user: URM Detected 53 (0.67 %) cold items.\n",
      "EvaluatorHoldout: Processed 4940 ( 100.00% ) in 4.51 sec. Users per second: 1096\n",
      "P3alphaRecommender_user: URM Detected 2018 (7.77 %) cold users.\n",
      "P3alphaRecommender_user: URM Detected 53 (0.67 %) cold items.\n",
      "EvaluatorHoldout: Processed 4940 ( 100.00% ) in 4.23 sec. Users per second: 1168\n",
      "P3alphaRecommender_user: URM Detected 2018 (7.77 %) cold users.\n",
      "P3alphaRecommender_user: URM Detected 53 (0.67 %) cold items.\n",
      "EvaluatorHoldout: Processed 4940 ( 100.00% ) in 4.87 sec. Users per second: 1014\n",
      "P3alphaRecommender_user: URM Detected 2018 (7.77 %) cold users.\n",
      "P3alphaRecommender_user: URM Detected 53 (0.67 %) cold items.\n",
      "EvaluatorHoldout: Processed 4940 ( 100.00% ) in 4.29 sec. Users per second: 1150\n",
      "P3alphaRecommender_user: URM Detected 2018 (7.77 %) cold users.\n",
      "P3alphaRecommender_user: URM Detected 53 (0.67 %) cold items.\n",
      "EvaluatorHoldout: Processed 4940 ( 100.00% ) in 5.73 sec. Users per second: 862\n",
      "P3alphaRecommender_user: URM Detected 2018 (7.77 %) cold users.\n",
      "P3alphaRecommender_user: URM Detected 53 (0.67 %) cold items.\n",
      "EvaluatorHoldout: Processed 4940 ( 100.00% ) in 4.32 sec. Users per second: 1143\n",
      "P3alphaRecommender_user: URM Detected 2018 (7.77 %) cold users.\n",
      "P3alphaRecommender_user: URM Detected 53 (0.67 %) cold items.\n",
      "EvaluatorHoldout: Processed 4940 ( 100.00% ) in 5.39 sec. Users per second: 916\n",
      "P3alphaRecommender_user: URM Detected 2018 (7.77 %) cold users.\n",
      "P3alphaRecommender_user: URM Detected 53 (0.67 %) cold items.\n",
      "EvaluatorHoldout: Processed 4940 ( 100.00% ) in 4.58 sec. Users per second: 1078\n",
      "P3alphaRecommender_user: URM Detected 2018 (7.77 %) cold users.\n",
      "P3alphaRecommender_user: URM Detected 53 (0.67 %) cold items.\n",
      "EvaluatorHoldout: Processed 4940 ( 100.00% ) in 4.99 sec. Users per second: 989\n",
      "P3alphaRecommender_user: URM Detected 2018 (7.77 %) cold users.\n",
      "P3alphaRecommender_user: URM Detected 53 (0.67 %) cold items.\n",
      "EvaluatorHoldout: Processed 4940 ( 100.00% ) in 5.30 sec. Users per second: 933\n",
      "P3alphaRecommender_user: URM Detected 2018 (7.77 %) cold users.\n",
      "P3alphaRecommender_user: URM Detected 53 (0.67 %) cold items.\n",
      "EvaluatorHoldout: Processed 4940 ( 100.00% ) in 4.91 sec. Users per second: 1007\n",
      "P3alphaRecommender_user: URM Detected 2018 (7.77 %) cold users.\n",
      "P3alphaRecommender_user: URM Detected 53 (0.67 %) cold items.\n",
      "EvaluatorHoldout: Processed 4940 ( 100.00% ) in 4.57 sec. Users per second: 1080\n",
      "P3alphaRecommender_user: URM Detected 2018 (7.77 %) cold users.\n",
      "P3alphaRecommender_user: URM Detected 53 (0.67 %) cold items.\n",
      "EvaluatorHoldout: Processed 4940 ( 100.00% ) in 5.61 sec. Users per second: 880\n",
      "P3alphaRecommender_user: URM Detected 2018 (7.77 %) cold users.\n",
      "P3alphaRecommender_user: URM Detected 53 (0.67 %) cold items.\n",
      "EvaluatorHoldout: Processed 4940 ( 100.00% ) in 5.49 sec. Users per second: 900\n",
      "P3alphaRecommender_user: URM Detected 2018 (7.77 %) cold users.\n",
      "P3alphaRecommender_user: URM Detected 53 (0.67 %) cold items.\n",
      "EvaluatorHoldout: Processed 4940 ( 100.00% ) in 4.66 sec. Users per second: 1060\n",
      "P3alphaRecommender_user: URM Detected 2018 (7.77 %) cold users.\n",
      "P3alphaRecommender_user: URM Detected 53 (0.67 %) cold items.\n",
      "EvaluatorHoldout: Processed 4940 ( 100.00% ) in 4.41 sec. Users per second: 1119\n",
      "P3alphaRecommender_user: URM Detected 2018 (7.77 %) cold users.\n",
      "P3alphaRecommender_user: URM Detected 53 (0.67 %) cold items.\n",
      "EvaluatorHoldout: Processed 4940 ( 100.00% ) in 4.75 sec. Users per second: 1040\n",
      "P3alphaRecommender_user: URM Detected 2018 (7.77 %) cold users.\n",
      "P3alphaRecommender_user: URM Detected 53 (0.67 %) cold items.\n",
      "EvaluatorHoldout: Processed 4940 ( 100.00% ) in 4.67 sec. Users per second: 1058\n",
      "P3alphaRecommender_user: URM Detected 2018 (7.77 %) cold users.\n",
      "P3alphaRecommender_user: URM Detected 53 (0.67 %) cold items.\n",
      "EvaluatorHoldout: Processed 4940 ( 100.00% ) in 5.05 sec. Users per second: 978\n",
      "P3alphaRecommender_user: URM Detected 2018 (7.77 %) cold users.\n",
      "P3alphaRecommender_user: URM Detected 53 (0.67 %) cold items.\n",
      "EvaluatorHoldout: Processed 4940 ( 100.00% ) in 4.45 sec. Users per second: 1110\n",
      "P3alphaRecommender_user: URM Detected 2018 (7.77 %) cold users.\n",
      "P3alphaRecommender_user: URM Detected 53 (0.67 %) cold items.\n",
      "EvaluatorHoldout: Processed 4940 ( 100.00% ) in 5.07 sec. Users per second: 974\n",
      "P3alphaRecommender_user: URM Detected 2018 (7.77 %) cold users.\n",
      "P3alphaRecommender_user: URM Detected 53 (0.67 %) cold items.\n",
      "EvaluatorHoldout: Processed 4940 ( 100.00% ) in 5.01 sec. Users per second: 986\n",
      "P3alphaRecommender_user: URM Detected 2018 (7.77 %) cold users.\n",
      "P3alphaRecommender_user: URM Detected 53 (0.67 %) cold items.\n",
      "EvaluatorHoldout: Processed 4940 ( 100.00% ) in 5.03 sec. Users per second: 982\n",
      "P3alphaRecommender_user: URM Detected 2018 (7.77 %) cold users.\n",
      "P3alphaRecommender_user: URM Detected 53 (0.67 %) cold items.\n",
      "EvaluatorHoldout: Processed 4940 ( 100.00% ) in 4.72 sec. Users per second: 1047\n",
      "P3alphaRecommender_user: URM Detected 2018 (7.77 %) cold users.\n",
      "P3alphaRecommender_user: URM Detected 53 (0.67 %) cold items.\n",
      "EvaluatorHoldout: Processed 4940 ( 100.00% ) in 4.89 sec. Users per second: 1010\n",
      "P3alphaRecommender_user: URM Detected 2018 (7.77 %) cold users.\n",
      "P3alphaRecommender_user: URM Detected 53 (0.67 %) cold items.\n",
      "EvaluatorHoldout: Processed 4940 ( 100.00% ) in 5.40 sec. Users per second: 915\n",
      "P3alphaRecommender_user: URM Detected 2018 (7.77 %) cold users.\n",
      "P3alphaRecommender_user: URM Detected 53 (0.67 %) cold items.\n",
      "EvaluatorHoldout: Processed 4940 ( 100.00% ) in 6.18 sec. Users per second: 799\n",
      "P3alphaRecommender_user: URM Detected 2018 (7.77 %) cold users.\n",
      "P3alphaRecommender_user: URM Detected 53 (0.67 %) cold items.\n",
      "EvaluatorHoldout: Processed 4940 ( 100.00% ) in 7.96 sec. Users per second: 621\n",
      "P3alphaRecommender_user: URM Detected 2018 (7.77 %) cold users.\n",
      "P3alphaRecommender_user: URM Detected 53 (0.67 %) cold items.\n",
      "EvaluatorHoldout: Processed 4940 ( 100.00% ) in 4.74 sec. Users per second: 1042\n",
      "P3alphaRecommender_user: URM Detected 2018 (7.77 %) cold users.\n",
      "P3alphaRecommender_user: URM Detected 53 (0.67 %) cold items.\n",
      "EvaluatorHoldout: Processed 4940 ( 100.00% ) in 4.75 sec. Users per second: 1040\n",
      "P3alphaRecommender_user: URM Detected 2018 (7.77 %) cold users.\n",
      "P3alphaRecommender_user: URM Detected 53 (0.67 %) cold items.\n",
      "EvaluatorHoldout: Processed 4940 ( 100.00% ) in 4.57 sec. Users per second: 1081\n",
      "P3alphaRecommender_user: URM Detected 2018 (7.77 %) cold users.\n",
      "P3alphaRecommender_user: URM Detected 53 (0.67 %) cold items.\n",
      "EvaluatorHoldout: Processed 4940 ( 100.00% ) in 4.54 sec. Users per second: 1088\n",
      "P3alphaRecommender_user: URM Detected 2018 (7.77 %) cold users.\n",
      "P3alphaRecommender_user: URM Detected 53 (0.67 %) cold items.\n",
      "EvaluatorHoldout: Processed 4940 ( 100.00% ) in 7.55 sec. Users per second: 654\n",
      "P3alphaRecommender_user: URM Detected 2018 (7.77 %) cold users.\n",
      "P3alphaRecommender_user: URM Detected 53 (0.67 %) cold items.\n",
      "EvaluatorHoldout: Processed 4940 ( 100.00% ) in 5.50 sec. Users per second: 899\n",
      "P3alphaRecommender_user: URM Detected 2018 (7.77 %) cold users.\n",
      "P3alphaRecommender_user: URM Detected 53 (0.67 %) cold items.\n",
      "EvaluatorHoldout: Processed 4940 ( 100.00% ) in 6.43 sec. Users per second: 768\n",
      "P3alphaRecommender_user: URM Detected 2018 (7.77 %) cold users.\n",
      "P3alphaRecommender_user: URM Detected 53 (0.67 %) cold items.\n",
      "EvaluatorHoldout: Processed 4940 ( 100.00% ) in 5.23 sec. Users per second: 944\n",
      "P3alphaRecommender_user: URM Detected 2018 (7.77 %) cold users.\n",
      "P3alphaRecommender_user: URM Detected 53 (0.67 %) cold items.\n",
      "EvaluatorHoldout: Processed 4940 ( 100.00% ) in 4.80 sec. Users per second: 1030\n",
      "P3alphaRecommender_user: URM Detected 2018 (7.77 %) cold users.\n",
      "P3alphaRecommender_user: URM Detected 53 (0.67 %) cold items.\n",
      "EvaluatorHoldout: Processed 4940 ( 100.00% ) in 6.21 sec. Users per second: 796\n",
      "P3alphaRecommender_user: URM Detected 2018 (7.77 %) cold users.\n",
      "P3alphaRecommender_user: URM Detected 53 (0.67 %) cold items.\n",
      "EvaluatorHoldout: Processed 4940 ( 100.00% ) in 6.25 sec. Users per second: 791\n",
      "P3alphaRecommender_user: URM Detected 2018 (7.77 %) cold users.\n",
      "P3alphaRecommender_user: URM Detected 53 (0.67 %) cold items.\n",
      "EvaluatorHoldout: Processed 4940 ( 100.00% ) in 5.48 sec. Users per second: 902\n",
      "P3alphaRecommender_user: URM Detected 2018 (7.77 %) cold users.\n",
      "P3alphaRecommender_user: URM Detected 53 (0.67 %) cold items.\n",
      "EvaluatorHoldout: Processed 4940 ( 100.00% ) in 5.69 sec. Users per second: 868\n",
      "P3alphaRecommender_user: URM Detected 2018 (7.77 %) cold users.\n",
      "P3alphaRecommender_user: URM Detected 53 (0.67 %) cold items.\n",
      "EvaluatorHoldout: Processed 4940 ( 100.00% ) in 5.48 sec. Users per second: 902\n",
      "P3alphaRecommender_user: URM Detected 2018 (7.77 %) cold users.\n",
      "P3alphaRecommender_user: URM Detected 53 (0.67 %) cold items.\n",
      "EvaluatorHoldout: Processed 4940 ( 100.00% ) in 4.79 sec. Users per second: 1032\n",
      "P3alphaRecommender_user: URM Detected 2018 (7.77 %) cold users.\n",
      "P3alphaRecommender_user: URM Detected 53 (0.67 %) cold items.\n",
      "EvaluatorHoldout: Processed 4940 ( 100.00% ) in 5.07 sec. Users per second: 975\n",
      "P3alphaRecommender_user: URM Detected 2018 (7.77 %) cold users.\n",
      "P3alphaRecommender_user: URM Detected 53 (0.67 %) cold items.\n",
      "EvaluatorHoldout: Processed 4940 ( 100.00% ) in 4.75 sec. Users per second: 1040\n",
      "P3alphaRecommender_user: URM Detected 2018 (7.77 %) cold users.\n",
      "P3alphaRecommender_user: URM Detected 53 (0.67 %) cold items.\n",
      "EvaluatorHoldout: Processed 4940 ( 100.00% ) in 5.21 sec. Users per second: 948\n",
      "P3alphaRecommender_user: URM Detected 2018 (7.77 %) cold users.\n",
      "P3alphaRecommender_user: URM Detected 53 (0.67 %) cold items.\n",
      "EvaluatorHoldout: Processed 4940 ( 100.00% ) in 4.68 sec. Users per second: 1055\n",
      "P3alphaRecommender_user: URM Detected 2018 (7.77 %) cold users.\n",
      "P3alphaRecommender_user: URM Detected 53 (0.67 %) cold items.\n",
      "EvaluatorHoldout: Processed 4940 ( 100.00% ) in 5.01 sec. Users per second: 987\n",
      "P3alphaRecommender_user: URM Detected 2018 (7.77 %) cold users.\n",
      "P3alphaRecommender_user: URM Detected 53 (0.67 %) cold items.\n",
      "EvaluatorHoldout: Processed 4940 ( 100.00% ) in 4.92 sec. Users per second: 1005\n",
      "P3alphaRecommender_user: URM Detected 2018 (7.77 %) cold users.\n",
      "P3alphaRecommender_user: URM Detected 53 (0.67 %) cold items.\n",
      "EvaluatorHoldout: Processed 4940 ( 100.00% ) in 5.05 sec. Users per second: 979\n"
     ]
    }
   ],
   "source": [
    "x_tick = []\n",
    "collaborative_MAP = []\n",
    "maxMAP = 0\n",
    "maxXTick = \"\"\n",
    "\n",
    "for topK in [50,100,150,200,250,300,350,400]:\n",
    "    for alpha in [0.1,0.2,0.3,0.4,0.5,0.6,0.7,0.8,0.9]:\n",
    "        \n",
    "        x_tick.append(\"topk {}, alpha {}\".format(topK, alpha))\n",
    "\n",
    "        \n",
    "        recommender = P3alphaRecommender_user(URM_train.T)\n",
    "        recommender.fit(topK=topK, alpha = alpha, implicit = True)\n",
    "        recommender.URM_train = URM_train\n",
    "    \n",
    "        result_dict, _ = evaluator_validation.evaluateRecommender(recommender)\n",
    "\n",
    "        collaborative_MAP.append(result_dict[10][\"MAP\"])"
   ]
  },
  {
   "cell_type": "code",
   "execution_count": 11,
   "metadata": {},
   "outputs": [
    {
     "name": "stdout",
     "output_type": "stream",
     "text": [
      "19 0.05556677079476257\n",
      "topk 150, alpha 0.2\n"
     ]
    }
   ],
   "source": [
    "import operator\n",
    "index, value = max(enumerate(collaborative_MAP), key=operator.itemgetter(1))\n",
    "print(index, value)\n",
    "parameters = x_tick[index]\n",
    "print(parameters)"
   ]
  },
  {
   "cell_type": "code",
   "execution_count": 13,
   "metadata": {},
   "outputs": [
    {
     "data": {
      "image/png": "[encoded data removed]",
      "text/plain": [
       "<Figure size 1080x720 with 1 Axes>"
      ]
     },
     "metadata": {
      "needs_background": "light"
     },
     "output_type": "display_data"
    }
   ],
   "source": [
    "# 0.059361413681482254\n",
    "#topk 450, shrink 750 similarity = cosine Best model here, the previous ones are tests. \n",
    "\n",
    "plt.figure(figsize=(15,10))\n",
    "plt.plot(x_tick, collaborative_MAP, label=\"Collaborative\", )\n",
    "plt.ylabel('MAP')\n",
    "plt.xlabel('TopK')\n",
    "plt.xticks(rotation='vertical')\n",
    "plt.show()"
   ]
  },
  {
   "cell_type": "code",
   "execution_count": null,
   "metadata": {},
   "outputs": [],
   "source": [
    "test_users = pd.read_csv('data_target_users_test.csv')\n",
    "test_users"
   ]
  },
  {
   "cell_type": "code",
   "execution_count": null,
   "metadata": {},
   "outputs": [],
   "source": [
    "recommender = ItemKNNCFRecommender(URM_all)\n",
    "recommender.fit(shrink=600, topK=550, feature_weighting = \"TF-IDF\")\n",
    "\n",
    "user_id = test_users['user_id']\n",
    "recommendations = recommender.recommend(user_id, cutoff = 10)\n"
   ]
  },
  {
   "cell_type": "code",
   "execution_count": null,
   "metadata": {},
   "outputs": [],
   "source": [
    "for index in range(len(recommendations)):\n",
    "    #print(element)\n",
    "    recommendations[index]=np.array(recommendations[index])\n",
    "    #print(type(element))\n",
    "print(len(recommendations))"
   ]
  },
  {
   "cell_type": "code",
   "execution_count": null,
   "metadata": {},
   "outputs": [],
   "source": [
    "test_users['item_list']= recommendations\n",
    "#test_users['item_list'] =  test_users['item_list'].apply(lambda x: x.replace('[','').replace(']','')) \n",
    "test_users['item_list'] = pd.DataFrame([str(line).strip('[').strip(']').replace(\"'\",\"\") for line in test_users['item_list']])\n",
    "\n",
    "#convert the string columns to int\n",
    "#test_users['item_list'] = test_users['item_list'].astype(int)\n",
    "test_users\n",
    "test_users.to_csv('submission.csv', index=False)\n"
   ]
  },
  {
   "cell_type": "code",
   "execution_count": null,
   "metadata": {},
   "outputs": [],
   "source": []
  }
 ],
 "metadata": {
  "kernelspec": {
   "display_name": "Python 3",
   "language": "python",
   "name": "python3"
  },
  "language_info": {
   "codemirror_mode": {
    "name": "ipython",
    "version": 3
   },
   "file_extension": ".py",
   "mimetype": "text/x-python",
   "name": "python",
   "nbconvert_exporter": "python",
   "pygments_lexer": "ipython3",
   "version": "3.8.5"
  }
 },
 "nbformat": 4,
 "nbformat_minor": 4
}
