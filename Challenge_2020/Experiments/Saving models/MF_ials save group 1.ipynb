{
 "cells": [
  {
   "cell_type": "markdown",
   "metadata": {},
   "source": [
    "# Data loading \n",
    "Next cells are used to load the data we need."
   ]
  },
  {
   "cell_type": "code",
   "execution_count": 1,
   "metadata": {},
   "outputs": [],
   "source": [
    "import os\n",
    "os.environ[\"OMP_NUM_THREADS\"] = \"1\" # export OMP_NUM_THREADS=1\n",
    "os.environ[\"OPENBLAS_NUM_THREADS\"] = \"1\" # export OPENBLAS_NUM_THREADS=1\n",
    "os.environ[\"MKL_NUM_THREADS\"] = \"1\" # export MKL_NUM_THREADS=1\n",
    "os.environ[\"VECLIB_MAXIMUM_THREADS\"] = \"1\" # export VECLIB_MAXIMUM_THREADS=1\n",
    "os.environ[\"NUMEXPR_NUM_THREADS\"] = \"1\" # export NUMEXPR_NUM_THREADS=1 \n",
    "import pandas as pd\n",
    "import numpy as np \n",
    "import scipy.sparse as sps\n",
    "import sys\n",
    "import matplotlib.pyplot as plt\n",
    "sys.path.append('../../../')\n"
   ]
  },
  {
   "cell_type": "code",
   "execution_count": 2,
   "metadata": {},
   "outputs": [
    {
     "data": {
      "text/html": [
       "<div>\n",
       "<style scoped>\n",
       "    .dataframe tbody tr th:only-of-type {\n",
       "        vertical-align: middle;\n",
       "    }\n",
       "\n",
       "    .dataframe tbody tr th {\n",
       "        vertical-align: top;\n",
       "    }\n",
       "\n",
       "    .dataframe thead th {\n",
       "        text-align: right;\n",
       "    }\n",
       "</style>\n",
       "<table border=\"1\" class=\"dataframe\">\n",
       "  <thead>\n",
       "    <tr style=\"text-align: right;\">\n",
       "      <th></th>\n",
       "      <th>row</th>\n",
       "      <th>col</th>\n",
       "      <th>data</th>\n",
       "    </tr>\n",
       "  </thead>\n",
       "  <tbody>\n",
       "    <tr>\n",
       "      <th>0</th>\n",
       "      <td>0</td>\n",
       "      <td>10080</td>\n",
       "      <td>1.0</td>\n",
       "    </tr>\n",
       "    <tr>\n",
       "      <th>1</th>\n",
       "      <td>0</td>\n",
       "      <td>19467</td>\n",
       "      <td>1.0</td>\n",
       "    </tr>\n",
       "    <tr>\n",
       "      <th>2</th>\n",
       "      <td>1</td>\n",
       "      <td>2665</td>\n",
       "      <td>1.0</td>\n",
       "    </tr>\n",
       "    <tr>\n",
       "      <th>3</th>\n",
       "      <td>1</td>\n",
       "      <td>7494</td>\n",
       "      <td>1.0</td>\n",
       "    </tr>\n",
       "    <tr>\n",
       "      <th>4</th>\n",
       "      <td>1</td>\n",
       "      <td>17068</td>\n",
       "      <td>1.0</td>\n",
       "    </tr>\n",
       "    <tr>\n",
       "      <th>...</th>\n",
       "      <td>...</td>\n",
       "      <td>...</td>\n",
       "      <td>...</td>\n",
       "    </tr>\n",
       "    <tr>\n",
       "      <th>113263</th>\n",
       "      <td>7945</td>\n",
       "      <td>2476</td>\n",
       "      <td>1.0</td>\n",
       "    </tr>\n",
       "    <tr>\n",
       "      <th>113264</th>\n",
       "      <td>7945</td>\n",
       "      <td>12319</td>\n",
       "      <td>1.0</td>\n",
       "    </tr>\n",
       "    <tr>\n",
       "      <th>113265</th>\n",
       "      <td>7945</td>\n",
       "      <td>21384</td>\n",
       "      <td>1.0</td>\n",
       "    </tr>\n",
       "    <tr>\n",
       "      <th>113266</th>\n",
       "      <td>7946</td>\n",
       "      <td>8699</td>\n",
       "      <td>1.0</td>\n",
       "    </tr>\n",
       "    <tr>\n",
       "      <th>113267</th>\n",
       "      <td>7946</td>\n",
       "      <td>19178</td>\n",
       "      <td>1.0</td>\n",
       "    </tr>\n",
       "  </tbody>\n",
       "</table>\n",
       "<p>113268 rows × 3 columns</p>\n",
       "</div>"
      ],
      "text/plain": [
       "         row    col  data\n",
       "0          0  10080   1.0\n",
       "1          0  19467   1.0\n",
       "2          1   2665   1.0\n",
       "3          1   7494   1.0\n",
       "4          1  17068   1.0\n",
       "...      ...    ...   ...\n",
       "113263  7945   2476   1.0\n",
       "113264  7945  12319   1.0\n",
       "113265  7945  21384   1.0\n",
       "113266  7946   8699   1.0\n",
       "113267  7946  19178   1.0\n",
       "\n",
       "[113268 rows x 3 columns]"
      ]
     },
     "execution_count": 2,
     "metadata": {},
     "output_type": "execute_result"
    }
   ],
   "source": [
    "#data which contains users (row), items(col) and implicit interaction (data)\n",
    "dataset = pd.read_csv('../../data_train.csv')\n",
    "dataset"
   ]
  },
  {
   "cell_type": "markdown",
   "metadata": {},
   "source": [
    "# Data pre-processing\n",
    "Pre-processing of data to check for missing users, items ecc..."
   ]
  },
  {
   "cell_type": "code",
   "execution_count": 3,
   "metadata": {},
   "outputs": [
    {
     "data": {
      "text/plain": [
       "(7947, 25975)"
      ]
     },
     "execution_count": 3,
     "metadata": {},
     "output_type": "execute_result"
    }
   ],
   "source": [
    "users = dataset.row\n",
    "items = dataset.col\n",
    "data = dataset.data\n",
    "URM_all = sps.coo_matrix((data, (users, items)))\n",
    "URM_all = URM_all.tocsr() #fast row access -> fast access to users \n",
    "URM_all.shape"
   ]
  },
  {
   "cell_type": "code",
   "execution_count": 4,
   "metadata": {},
   "outputs": [
    {
     "data": {
      "text/html": [
       "<div>\n",
       "<style scoped>\n",
       "    .dataframe tbody tr th:only-of-type {\n",
       "        vertical-align: middle;\n",
       "    }\n",
       "\n",
       "    .dataframe tbody tr th {\n",
       "        vertical-align: top;\n",
       "    }\n",
       "\n",
       "    .dataframe thead th {\n",
       "        text-align: right;\n",
       "    }\n",
       "</style>\n",
       "<table border=\"1\" class=\"dataframe\">\n",
       "  <thead>\n",
       "    <tr style=\"text-align: right;\">\n",
       "      <th></th>\n",
       "      <th>row</th>\n",
       "      <th>col</th>\n",
       "      <th>data</th>\n",
       "    </tr>\n",
       "  </thead>\n",
       "  <tbody>\n",
       "    <tr>\n",
       "      <th>0</th>\n",
       "      <td>0</td>\n",
       "      <td>1185</td>\n",
       "      <td>1.015524</td>\n",
       "    </tr>\n",
       "    <tr>\n",
       "      <th>1</th>\n",
       "      <td>0</td>\n",
       "      <td>2507</td>\n",
       "      <td>0.459024</td>\n",
       "    </tr>\n",
       "    <tr>\n",
       "      <th>2</th>\n",
       "      <td>0</td>\n",
       "      <td>3534</td>\n",
       "      <td>0.227742</td>\n",
       "    </tr>\n",
       "    <tr>\n",
       "      <th>3</th>\n",
       "      <td>0</td>\n",
       "      <td>8766</td>\n",
       "      <td>0.501549</td>\n",
       "    </tr>\n",
       "    <tr>\n",
       "      <th>4</th>\n",
       "      <td>0</td>\n",
       "      <td>10862</td>\n",
       "      <td>0.297011</td>\n",
       "    </tr>\n",
       "    <tr>\n",
       "      <th>...</th>\n",
       "      <td>...</td>\n",
       "      <td>...</td>\n",
       "      <td>...</td>\n",
       "    </tr>\n",
       "    <tr>\n",
       "      <th>490686</th>\n",
       "      <td>25974</td>\n",
       "      <td>12554</td>\n",
       "      <td>0.963016</td>\n",
       "    </tr>\n",
       "    <tr>\n",
       "      <th>490687</th>\n",
       "      <td>25974</td>\n",
       "      <td>13003</td>\n",
       "      <td>0.104613</td>\n",
       "    </tr>\n",
       "    <tr>\n",
       "      <th>490688</th>\n",
       "      <td>25974</td>\n",
       "      <td>16236</td>\n",
       "      <td>0.118760</td>\n",
       "    </tr>\n",
       "    <tr>\n",
       "      <th>490689</th>\n",
       "      <td>25974</td>\n",
       "      <td>18797</td>\n",
       "      <td>0.363301</td>\n",
       "    </tr>\n",
       "    <tr>\n",
       "      <th>490690</th>\n",
       "      <td>25974</td>\n",
       "      <td>19629</td>\n",
       "      <td>0.129141</td>\n",
       "    </tr>\n",
       "  </tbody>\n",
       "</table>\n",
       "<p>490691 rows × 3 columns</p>\n",
       "</div>"
      ],
      "text/plain": [
       "          row    col      data\n",
       "0           0   1185  1.015524\n",
       "1           0   2507  0.459024\n",
       "2           0   3534  0.227742\n",
       "3           0   8766  0.501549\n",
       "4           0  10862  0.297011\n",
       "...       ...    ...       ...\n",
       "490686  25974  12554  0.963016\n",
       "490687  25974  13003  0.104613\n",
       "490688  25974  16236  0.118760\n",
       "490689  25974  18797  0.363301\n",
       "490690  25974  19629  0.129141\n",
       "\n",
       "[490691 rows x 3 columns]"
      ]
     },
     "execution_count": 4,
     "metadata": {},
     "output_type": "execute_result"
    }
   ],
   "source": [
    "ICM_df = pd.read_csv('../../data_ICM_title_abstract.csv')\n",
    "ICM_df"
   ]
  },
  {
   "cell_type": "code",
   "execution_count": 5,
   "metadata": {},
   "outputs": [
    {
     "data": {
      "text/plain": [
       "(25975, 20000)"
      ]
     },
     "execution_count": 5,
     "metadata": {},
     "output_type": "execute_result"
    }
   ],
   "source": [
    "items = ICM_df.row\n",
    "features = ICM_df.col\n",
    "data = ICM_df.data\n",
    "ICM_all = sps.coo_matrix((data, (items, features)))\n",
    "ICM_all = ICM_all.tocsr() #fast row access -> fast access to users \n",
    "ICM_all.shape"
   ]
  },
  {
   "cell_type": "code",
   "execution_count": 6,
   "metadata": {},
   "outputs": [],
   "source": [
    "grouped_users = dataset.groupby(['row']).count()\n",
    "sorted_users = grouped_users.sort_values(by=['col'], ascending=True)\n",
    "sorted_users = sorted_users.index.to_numpy()\n",
    "block_size = int(len(sorted_users)*0.75)\n",
    "\n",
    "start_pos_group_0 = 0*block_size\n",
    "end_pos_group_0 = min((0+1)*block_size, len(sorted_users))\n",
    "users_in_group_0 = sorted_users[start_pos_group_0:end_pos_group_0]\n",
    "users_not_in_group_0_flag = np.isin(sorted_users, users_in_group_0, invert = True)\n",
    "users_not_in_group_0 = sorted_users[users_not_in_group_0_flag]\n",
    "\n",
    "\n",
    "start_pos_group_1 = 1*block_size\n",
    "end_pos_group_1 = min((1+1)*block_size, len(sorted_users))\n",
    "users_in_group_1 = sorted_users[start_pos_group_1:end_pos_group_1]\n",
    "users_not_in_group_1_flag = np.isin(sorted_users, users_in_group_1, invert = True)\n",
    "users_not_in_group_1 = sorted_users[users_not_in_group_1_flag]"
   ]
  },
  {
   "cell_type": "code",
   "execution_count": 7,
   "metadata": {},
   "outputs": [
    {
     "name": "stdout",
     "output_type": "stream",
     "text": [
      "Warning: 71 (0.89 %) of 7947 users have no train items\n",
      "Warning: 2411 (30.34 %) of 7947 users have no sampled items\n",
      "Warning: 57 (0.72 %) of 7947 users have no train items\n",
      "Warning: 2320 (29.19 %) of 7947 users have no sampled items\n",
      "Warning: 71 (0.89 %) of 7947 users have no train items\n",
      "Warning: 2289 (28.80 %) of 7947 users have no sampled items\n",
      "Warning: 74 (0.93 %) of 7947 users have no train items\n",
      "Warning: 2273 (28.60 %) of 7947 users have no sampled items\n",
      "Warning: 64 (0.81 %) of 7947 users have no train items\n",
      "Warning: 2358 (29.67 %) of 7947 users have no sampled items\n",
      "EvaluatorHoldout: Ignoring 5960 Users\n",
      "EvaluatorHoldout: Ignoring 5960 Users\n",
      "EvaluatorHoldout: Ignoring 5960 Users\n",
      "EvaluatorHoldout: Ignoring 5960 Users\n",
      "EvaluatorHoldout: Ignoring 5960 Users\n"
     ]
    }
   ],
   "source": [
    "from Data_manager.split_functions.split_train_validation_random_holdout import split_train_in_two_percentage_global_sample\n",
    "from Base.Evaluation.Evaluator import EvaluatorHoldout\n",
    "\n",
    "URM_train_1, URM_validation_1 = split_train_in_two_percentage_global_sample(URM_all, train_percentage = 0.8, seed = 1)\n",
    "\n",
    "URM_train_2, URM_validation_2 = split_train_in_two_percentage_global_sample(URM_all, train_percentage = 0.8, seed = 2)\n",
    "\n",
    "URM_train_3, URM_validation_3 = split_train_in_two_percentage_global_sample(URM_all, train_percentage = 0.8, seed = 3)\n",
    "\n",
    "URM_train_4, URM_validation_4 = split_train_in_two_percentage_global_sample(URM_all, train_percentage = 0.8, seed = 4)\n",
    "\n",
    "URM_train_5, URM_validation_5 = split_train_in_two_percentage_global_sample(URM_all, train_percentage = 0.8, seed = 5)\n",
    "\n",
    "URM_train_vector = [URM_train_1,URM_train_2,URM_train_3,URM_train_4,URM_train_5]\n",
    "\n",
    "evaluator_validation_1 = EvaluatorHoldout(URM_validation_1, cutoff_list=[10], ignore_users = users_not_in_group_1)\n",
    "evaluator_validation_2 = EvaluatorHoldout(URM_validation_2, cutoff_list=[10], ignore_users = users_not_in_group_1)\n",
    "evaluator_validation_3 = EvaluatorHoldout(URM_validation_3, cutoff_list=[10], ignore_users = users_not_in_group_1)\n",
    "evaluator_validation_4 = EvaluatorHoldout(URM_validation_4, cutoff_list=[10], ignore_users = users_not_in_group_1)\n",
    "evaluator_validation_5 = EvaluatorHoldout(URM_validation_5, cutoff_list=[10], ignore_users = users_not_in_group_1)\n",
    "\n",
    "Evaluator_vector = [evaluator_validation_1, evaluator_validation_2, evaluator_validation_3, evaluator_validation_4, evaluator_validation_5]\n"
   ]
  },
  {
   "cell_type": "code",
   "execution_count": 8,
   "metadata": {},
   "outputs": [
    {
     "name": "stdout",
     "output_type": "stream",
     "text": [
      "Recommender_Base_Class: URM Detected 73 (0.26 %) cold users.\n",
      "Recommender_Base_Class: URM Detected 1 (0.00 %) cold items.\n"
     ]
    },
    {
     "data": {
      "application/vnd.jupyter.widget-view+json": {
       "model_id": "e673c48f30f346d7a642018d0314d13f",
       "version_major": 2,
       "version_minor": 0
      },
      "text/plain": [
       "HBox(children=(HTML(value=''), FloatProgress(value=0.0, max=77.0), HTML(value='')))"
      ]
     },
     "metadata": {},
     "output_type": "display_data"
    },
    {
     "name": "stdout",
     "output_type": "stream",
     "text": [
      "\n",
      "EvaluatorHoldout: Processed 1951 ( 100.00% ) in 2.85 sec. Users per second: 686\n",
      "{10: {'ROC_AUC': 0.31220359115797436, 'PRECISION': 0.08421322398769765, 'PRECISION_RECALL_MIN_DEN': 0.1529882925321159, 'RECALL': 0.13789806398702084, 'MAP': 0.06910877325283228, 'MRR': 0.24331335985615823, 'NDCG': 0.12118714756123733, 'F1': 0.10456776560883897, 'HIT_RATE': 0.8421322398769862, 'ARHR': 0.30804735870087024, 'NOVELTY': 0.0053431273378307005, 'AVERAGE_POPULARITY': 0.12373629465380079, 'DIVERSITY_MEAN_INTER_LIST': 0.993622783845234, 'DIVERSITY_HERFINDAHL': 0.9993113494873503, 'COVERAGE_ITEM': 0.2557844080846968, 'COVERAGE_ITEM_CORRECT': 0.04604427333974976, 'COVERAGE_USER': 0.9818822345244087, 'COVERAGE_USER_CORRECT': 0.5027679919476598, 'DIVERSITY_GINI': 0.11697165320919978, 'SHANNON_ENTROPY': 11.672104816047707}}\n",
      "Recommender_Base_Class: Saving model in file 'MF_saved_group_1/MF_IALS_fold_number1'\n",
      "Recommender_Base_Class: Saving complete\n",
      "Recommender_Base_Class: URM Detected 59 (0.21 %) cold users.\n",
      "Recommender_Base_Class: URM Detected 1 (0.00 %) cold items.\n"
     ]
    },
    {
     "data": {
      "application/vnd.jupyter.widget-view+json": {
       "model_id": "c1f7cf7df7184379bf35cec8cd1f4c01",
       "version_major": 2,
       "version_minor": 0
      },
      "text/plain": [
       "HBox(children=(HTML(value=''), FloatProgress(value=0.0, max=77.0), HTML(value='')))"
      ]
     },
     "metadata": {},
     "output_type": "display_data"
    },
    {
     "name": "stdout",
     "output_type": "stream",
     "text": [
      "\n",
      "EvaluatorHoldout: Processed 1947 ( 100.00% ) in 2.81 sec. Users per second: 694\n",
      "{10: {'ROC_AUC': 0.3114177692991257, 'PRECISION': 0.08320493066255685, 'PRECISION_RECALL_MIN_DEN': 0.15275800784275348, 'RECALL': 0.13841440391818155, 'MAP': 0.0716607309143292, 'MRR': 0.24767896886540922, 'NDCG': 0.12429313316202709, 'F1': 0.10393281707572088, 'HIT_RATE': 0.8320493066255779, 'ARHR': 0.3104960011739679, 'NOVELTY': 0.005348186781905363, 'AVERAGE_POPULARITY': 0.12205399611442375, 'DIVERSITY_MEAN_INTER_LIST': 0.9938301263017761, 'DIVERSITY_HERFINDAHL': 0.9993319684531718, 'COVERAGE_ITEM': 0.2575553416746872, 'COVERAGE_ITEM_CORRECT': 0.04600577478344562, 'COVERAGE_USER': 0.9798691494715652, 'COVERAGE_USER_CORRECT': 0.5012581781580272, 'DIVERSITY_GINI': 0.11848192531717872, 'SHANNON_ENTROPY': 11.697619413138941}}\n",
      "Recommender_Base_Class: Saving model in file 'MF_saved_group_1/MF_IALS_fold_number2'\n",
      "Recommender_Base_Class: Saving complete\n",
      "Recommender_Base_Class: URM Detected 73 (0.26 %) cold users.\n",
      "Recommender_Base_Class: URM Detected 4 (0.02 %) cold items.\n"
     ]
    },
    {
     "data": {
      "application/vnd.jupyter.widget-view+json": {
       "model_id": "e79562ba7b9f41b2bbaf378a5babfa79",
       "version_major": 2,
       "version_minor": 0
      },
      "text/plain": [
       "HBox(children=(HTML(value=''), FloatProgress(value=0.0, max=77.0), HTML(value='')))"
      ]
     },
     "metadata": {},
     "output_type": "display_data"
    },
    {
     "name": "stdout",
     "output_type": "stream",
     "text": [
      "\n",
      "EvaluatorHoldout: Processed 1961 ( 100.00% ) in 2.81 sec. Users per second: 698\n",
      "{10: {'ROC_AUC': 0.30760336482034645, 'PRECISION': 0.08184599694033544, 'PRECISION_RECALL_MIN_DEN': 0.15165185401034442, 'RECALL': 0.1376335756297327, 'MAP': 0.06845682505442163, 'MRR': 0.2378169948924663, 'NDCG': 0.11999266567102869, 'F1': 0.10264970974720021, 'HIT_RATE': 0.8184599694033656, 'ARHR': 0.3010461944424209, 'NOVELTY': 0.005343381594831683, 'AVERAGE_POPULARITY': 0.12274045789922461, 'DIVERSITY_MEAN_INTER_LIST': 0.9936491689995733, 'DIVERSITY_HERFINDAHL': 0.9993142463660971, 'COVERAGE_ITEM': 0.2558999037536092, 'COVERAGE_ITEM_CORRECT': 0.04519730510105871, 'COVERAGE_USER': 0.9869149471565174, 'COVERAGE_USER_CORRECT': 0.4972320080523402, 'DIVERSITY_GINI': 0.11711503357667306, 'SHANNON_ENTROPY': 11.675005057564167}}\n",
      "Recommender_Base_Class: Saving model in file 'MF_saved_group_1/MF_IALS_fold_number3'\n",
      "Recommender_Base_Class: Saving complete\n",
      "Recommender_Base_Class: URM Detected 76 (0.27 %) cold users.\n"
     ]
    },
    {
     "data": {
      "application/vnd.jupyter.widget-view+json": {
       "model_id": "a48ea7c8c7d247b4bbc7f0f566f4d215",
       "version_major": 2,
       "version_minor": 0
      },
      "text/plain": [
       "HBox(children=(HTML(value=''), FloatProgress(value=0.0, max=77.0), HTML(value='')))"
      ]
     },
     "metadata": {},
     "output_type": "display_data"
    },
    {
     "name": "stdout",
     "output_type": "stream",
     "text": [
      "\n",
      "EvaluatorHoldout: Processed 1957 ( 100.00% ) in 2.81 sec. Users per second: 697\n",
      "{10: {'ROC_AUC': 0.3092969275940665, 'PRECISION': 0.08339294839039256, 'PRECISION_RECALL_MIN_DEN': 0.15254175081717203, 'RECALL': 0.13861761431825637, 'MAP': 0.07217427590654342, 'MRR': 0.24383998020942288, 'NDCG': 0.1235749153225213, 'F1': 0.10413677093383952, 'HIT_RATE': 0.8339294839039346, 'ARHR': 0.3115146279939333, 'NOVELTY': 0.005344643805884395, 'AVERAGE_POPULARITY': 0.12170268889226475, 'DIVERSITY_MEAN_INTER_LIST': 0.9936867602325249, 'DIVERSITY_HERFINDAHL': 0.9993179000007573, 'COVERAGE_ITEM': 0.25528392685274304, 'COVERAGE_ITEM_CORRECT': 0.04585178055822907, 'COVERAGE_USER': 0.9849018621036739, 'COVERAGE_USER_CORRECT': 0.5007549068948163, 'DIVERSITY_GINI': 0.116489620779623, 'SHANNON_ENTROPY': 11.671418247964164}}\n",
      "Recommender_Base_Class: Saving model in file 'MF_saved_group_1/MF_IALS_fold_number4'\n",
      "Recommender_Base_Class: Saving complete\n",
      "Recommender_Base_Class: URM Detected 66 (0.24 %) cold users.\n",
      "Recommender_Base_Class: URM Detected 3 (0.01 %) cold items.\n"
     ]
    },
    {
     "data": {
      "application/vnd.jupyter.widget-view+json": {
       "model_id": "57432da0571746ca8358f50926409934",
       "version_major": 2,
       "version_minor": 0
      },
      "text/plain": [
       "HBox(children=(HTML(value=''), FloatProgress(value=0.0, max=77.0), HTML(value='')))"
      ]
     },
     "metadata": {},
     "output_type": "display_data"
    },
    {
     "name": "stdout",
     "output_type": "stream",
     "text": [
      "\n",
      "EvaluatorHoldout: Processed 1950 ( 100.00% ) in 2.80 sec. Users per second: 696\n",
      "{10: {'ROC_AUC': 0.301503988603989, 'PRECISION': 0.08338461538461435, 'PRECISION_RECALL_MIN_DEN': 0.1513229548229544, 'RECALL': 0.1371499371319883, 'MAP': 0.06958571953472754, 'MRR': 0.24197822547822528, 'NDCG': 0.12189537996330704, 'F1': 0.10371340569785703, 'HIT_RATE': 0.8338461538461538, 'ARHR': 0.3050877085877091, 'NOVELTY': 0.0053479497734922376, 'AVERAGE_POPULARITY': 0.12188573021181695, 'DIVERSITY_MEAN_INTER_LIST': 0.9938835168594019, 'DIVERSITY_HERFINDAHL': 0.9993373833004602, 'COVERAGE_ITEM': 0.2599422521655438, 'COVERAGE_ITEM_CORRECT': 0.04531280076997113, 'COVERAGE_USER': 0.9813789632611978, 'COVERAGE_USER_CORRECT': 0.4967287367891293, 'DIVERSITY_GINI': 0.11996530130376759, 'SHANNON_ENTROPY': 11.713246979049728}}\n",
      "Recommender_Base_Class: Saving model in file 'MF_saved_group_1/MF_IALS_fold_number5'\n",
      "Recommender_Base_Class: Saving complete\n"
     ]
    }
   ],
   "source": [
    "from MatrixFactorization.IALSRecommender_implicit import IALSRecommender_implicit\n",
    "i=1\n",
    "for URM_train, evaluator in zip(URM_train_vector,Evaluator_vector):\n",
    "    \n",
    "    URM_train_ICM_all_IALS = sps.vstack([URM_train*(1-0.6790082920718808), ICM_all.T*0.6790082920718808])\n",
    "    recommender = IALSRecommender_implicit(URM_train_ICM_all_IALS)\n",
    "    recommender.fit(n_factors = 736, regularization = 0.4021244259692904, iterations=77)\n",
    "\n",
    "    #recommender.URM_train = URM_train.tocsr()\n",
    "    \n",
    "    result_dict, _ = evaluator.evaluateRecommender(recommender)\n",
    "    print(result_dict)\n",
    "    \n",
    "    filename = 'MF_IALS_fold_number' + str(i)\n",
    "    recommender.save_model('MF_saved_group_1/', file_name = filename)\n",
    "    i = i+1"
   ]
  },
  {
   "cell_type": "code",
   "execution_count": null,
   "metadata": {},
   "outputs": [],
   "source": []
  }
 ],
 "metadata": {
  "kernelspec": {
   "display_name": "Python 3",
   "language": "python",
   "name": "python3"
  },
  "language_info": {
   "codemirror_mode": {
    "name": "ipython",
    "version": 3
   },
   "file_extension": ".py",
   "mimetype": "text/x-python",
   "name": "python",
   "nbconvert_exporter": "python",
   "pygments_lexer": "ipython3",
   "version": "3.8.5"
  }
 },
 "nbformat": 4,
 "nbformat_minor": 4
}
