{
 "cells": [
  {
   "cell_type": "markdown",
   "metadata": {},
   "source": [
    "# Data loading \n",
    "Next cells are used to load the data we need."
   ]
  },
  {
   "cell_type": "code",
   "execution_count": 1,
   "metadata": {},
   "outputs": [],
   "source": [
    "import os\n",
    "os.environ[\"OMP_NUM_THREADS\"] = \"1\" # export OMP_NUM_THREADS=1\n",
    "os.environ[\"OPENBLAS_NUM_THREADS\"] = \"1\" # export OPENBLAS_NUM_THREADS=1\n",
    "os.environ[\"MKL_NUM_THREADS\"] = \"1\" # export MKL_NUM_THREADS=1\n",
    "os.environ[\"VECLIB_MAXIMUM_THREADS\"] = \"1\" # export VECLIB_MAXIMUM_THREADS=1\n",
    "os.environ[\"NUMEXPR_NUM_THREADS\"] = \"1\" # export NUMEXPR_NUM_THREADS=1 \n",
    "import pandas as pd\n",
    "import numpy as np \n",
    "import scipy.sparse as sps\n",
    "import sys\n",
    "import matplotlib.pyplot as plt\n",
    "sys.path.append('../../../')\n"
   ]
  },
  {
   "cell_type": "code",
   "execution_count": 2,
   "metadata": {},
   "outputs": [
    {
     "data": {
      "text/html": [
       "<div>\n",
       "<style scoped>\n",
       "    .dataframe tbody tr th:only-of-type {\n",
       "        vertical-align: middle;\n",
       "    }\n",
       "\n",
       "    .dataframe tbody tr th {\n",
       "        vertical-align: top;\n",
       "    }\n",
       "\n",
       "    .dataframe thead th {\n",
       "        text-align: right;\n",
       "    }\n",
       "</style>\n",
       "<table border=\"1\" class=\"dataframe\">\n",
       "  <thead>\n",
       "    <tr style=\"text-align: right;\">\n",
       "      <th></th>\n",
       "      <th>row</th>\n",
       "      <th>col</th>\n",
       "      <th>data</th>\n",
       "    </tr>\n",
       "  </thead>\n",
       "  <tbody>\n",
       "    <tr>\n",
       "      <th>0</th>\n",
       "      <td>0</td>\n",
       "      <td>10080</td>\n",
       "      <td>1.0</td>\n",
       "    </tr>\n",
       "    <tr>\n",
       "      <th>1</th>\n",
       "      <td>0</td>\n",
       "      <td>19467</td>\n",
       "      <td>1.0</td>\n",
       "    </tr>\n",
       "    <tr>\n",
       "      <th>2</th>\n",
       "      <td>1</td>\n",
       "      <td>2665</td>\n",
       "      <td>1.0</td>\n",
       "    </tr>\n",
       "    <tr>\n",
       "      <th>3</th>\n",
       "      <td>1</td>\n",
       "      <td>7494</td>\n",
       "      <td>1.0</td>\n",
       "    </tr>\n",
       "    <tr>\n",
       "      <th>4</th>\n",
       "      <td>1</td>\n",
       "      <td>17068</td>\n",
       "      <td>1.0</td>\n",
       "    </tr>\n",
       "    <tr>\n",
       "      <th>...</th>\n",
       "      <td>...</td>\n",
       "      <td>...</td>\n",
       "      <td>...</td>\n",
       "    </tr>\n",
       "    <tr>\n",
       "      <th>113263</th>\n",
       "      <td>7945</td>\n",
       "      <td>2476</td>\n",
       "      <td>1.0</td>\n",
       "    </tr>\n",
       "    <tr>\n",
       "      <th>113264</th>\n",
       "      <td>7945</td>\n",
       "      <td>12319</td>\n",
       "      <td>1.0</td>\n",
       "    </tr>\n",
       "    <tr>\n",
       "      <th>113265</th>\n",
       "      <td>7945</td>\n",
       "      <td>21384</td>\n",
       "      <td>1.0</td>\n",
       "    </tr>\n",
       "    <tr>\n",
       "      <th>113266</th>\n",
       "      <td>7946</td>\n",
       "      <td>8699</td>\n",
       "      <td>1.0</td>\n",
       "    </tr>\n",
       "    <tr>\n",
       "      <th>113267</th>\n",
       "      <td>7946</td>\n",
       "      <td>19178</td>\n",
       "      <td>1.0</td>\n",
       "    </tr>\n",
       "  </tbody>\n",
       "</table>\n",
       "<p>113268 rows × 3 columns</p>\n",
       "</div>"
      ],
      "text/plain": [
       "         row    col  data\n",
       "0          0  10080   1.0\n",
       "1          0  19467   1.0\n",
       "2          1   2665   1.0\n",
       "3          1   7494   1.0\n",
       "4          1  17068   1.0\n",
       "...      ...    ...   ...\n",
       "113263  7945   2476   1.0\n",
       "113264  7945  12319   1.0\n",
       "113265  7945  21384   1.0\n",
       "113266  7946   8699   1.0\n",
       "113267  7946  19178   1.0\n",
       "\n",
       "[113268 rows x 3 columns]"
      ]
     },
     "execution_count": 2,
     "metadata": {},
     "output_type": "execute_result"
    }
   ],
   "source": [
    "#data which contains users (row), items(col) and implicit interaction (data)\n",
    "dataset = pd.read_csv('../../data_train.csv')\n",
    "dataset"
   ]
  },
  {
   "cell_type": "markdown",
   "metadata": {},
   "source": [
    "# Data pre-processing\n",
    "Pre-processing of data to check for missing users, items ecc..."
   ]
  },
  {
   "cell_type": "code",
   "execution_count": 3,
   "metadata": {},
   "outputs": [
    {
     "data": {
      "text/plain": [
       "(7947, 25975)"
      ]
     },
     "execution_count": 3,
     "metadata": {},
     "output_type": "execute_result"
    }
   ],
   "source": [
    "users = dataset.row\n",
    "items = dataset.col\n",
    "data = dataset.data\n",
    "URM_all = sps.coo_matrix((data, (users, items)))\n",
    "URM_all = URM_all.tocsr() #fast row access -> fast access to users \n",
    "URM_all.shape"
   ]
  },
  {
   "cell_type": "code",
   "execution_count": 4,
   "metadata": {},
   "outputs": [
    {
     "data": {
      "text/html": [
       "<div>\n",
       "<style scoped>\n",
       "    .dataframe tbody tr th:only-of-type {\n",
       "        vertical-align: middle;\n",
       "    }\n",
       "\n",
       "    .dataframe tbody tr th {\n",
       "        vertical-align: top;\n",
       "    }\n",
       "\n",
       "    .dataframe thead th {\n",
       "        text-align: right;\n",
       "    }\n",
       "</style>\n",
       "<table border=\"1\" class=\"dataframe\">\n",
       "  <thead>\n",
       "    <tr style=\"text-align: right;\">\n",
       "      <th></th>\n",
       "      <th>row</th>\n",
       "      <th>col</th>\n",
       "      <th>data</th>\n",
       "    </tr>\n",
       "  </thead>\n",
       "  <tbody>\n",
       "    <tr>\n",
       "      <th>0</th>\n",
       "      <td>0</td>\n",
       "      <td>1185</td>\n",
       "      <td>1.015524</td>\n",
       "    </tr>\n",
       "    <tr>\n",
       "      <th>1</th>\n",
       "      <td>0</td>\n",
       "      <td>2507</td>\n",
       "      <td>0.459024</td>\n",
       "    </tr>\n",
       "    <tr>\n",
       "      <th>2</th>\n",
       "      <td>0</td>\n",
       "      <td>3534</td>\n",
       "      <td>0.227742</td>\n",
       "    </tr>\n",
       "    <tr>\n",
       "      <th>3</th>\n",
       "      <td>0</td>\n",
       "      <td>8766</td>\n",
       "      <td>0.501549</td>\n",
       "    </tr>\n",
       "    <tr>\n",
       "      <th>4</th>\n",
       "      <td>0</td>\n",
       "      <td>10862</td>\n",
       "      <td>0.297011</td>\n",
       "    </tr>\n",
       "    <tr>\n",
       "      <th>...</th>\n",
       "      <td>...</td>\n",
       "      <td>...</td>\n",
       "      <td>...</td>\n",
       "    </tr>\n",
       "    <tr>\n",
       "      <th>490686</th>\n",
       "      <td>25974</td>\n",
       "      <td>12554</td>\n",
       "      <td>0.963016</td>\n",
       "    </tr>\n",
       "    <tr>\n",
       "      <th>490687</th>\n",
       "      <td>25974</td>\n",
       "      <td>13003</td>\n",
       "      <td>0.104613</td>\n",
       "    </tr>\n",
       "    <tr>\n",
       "      <th>490688</th>\n",
       "      <td>25974</td>\n",
       "      <td>16236</td>\n",
       "      <td>0.118760</td>\n",
       "    </tr>\n",
       "    <tr>\n",
       "      <th>490689</th>\n",
       "      <td>25974</td>\n",
       "      <td>18797</td>\n",
       "      <td>0.363301</td>\n",
       "    </tr>\n",
       "    <tr>\n",
       "      <th>490690</th>\n",
       "      <td>25974</td>\n",
       "      <td>19629</td>\n",
       "      <td>0.129141</td>\n",
       "    </tr>\n",
       "  </tbody>\n",
       "</table>\n",
       "<p>490691 rows × 3 columns</p>\n",
       "</div>"
      ],
      "text/plain": [
       "          row    col      data\n",
       "0           0   1185  1.015524\n",
       "1           0   2507  0.459024\n",
       "2           0   3534  0.227742\n",
       "3           0   8766  0.501549\n",
       "4           0  10862  0.297011\n",
       "...       ...    ...       ...\n",
       "490686  25974  12554  0.963016\n",
       "490687  25974  13003  0.104613\n",
       "490688  25974  16236  0.118760\n",
       "490689  25974  18797  0.363301\n",
       "490690  25974  19629  0.129141\n",
       "\n",
       "[490691 rows x 3 columns]"
      ]
     },
     "execution_count": 4,
     "metadata": {},
     "output_type": "execute_result"
    }
   ],
   "source": [
    "ICM_df = pd.read_csv('../../data_ICM_title_abstract.csv')\n",
    "ICM_df"
   ]
  },
  {
   "cell_type": "code",
   "execution_count": 5,
   "metadata": {},
   "outputs": [
    {
     "data": {
      "text/plain": [
       "(25975, 20000)"
      ]
     },
     "execution_count": 5,
     "metadata": {},
     "output_type": "execute_result"
    }
   ],
   "source": [
    "items = ICM_df.row\n",
    "features = ICM_df.col\n",
    "data = ICM_df.data\n",
    "ICM_all = sps.coo_matrix((data, (items, features)))\n",
    "ICM_all = ICM_all.tocsr() #fast row access -> fast access to users \n",
    "ICM_all.shape"
   ]
  },
  {
   "cell_type": "code",
   "execution_count": 6,
   "metadata": {},
   "outputs": [],
   "source": [
    "grouped_users = dataset.groupby(['row']).count()\n",
    "sorted_users = grouped_users.sort_values(by=['col'], ascending=True)\n",
    "sorted_users = sorted_users.index.to_numpy()\n",
    "block_size = int(len(sorted_users)*0.75)\n",
    "\n",
    "start_pos_group_0 = 0*block_size\n",
    "end_pos_group_0 = min((0+1)*block_size, len(sorted_users))\n",
    "users_in_group_0 = sorted_users[start_pos_group_0:end_pos_group_0]\n",
    "users_not_in_group_0_flag = np.isin(sorted_users, users_in_group_0, invert = True)\n",
    "users_not_in_group_0 = sorted_users[users_not_in_group_0_flag]\n",
    "\n",
    "\n",
    "start_pos_group_1 = 1*block_size\n",
    "end_pos_group_1 = min((1+1)*block_size, len(sorted_users))\n",
    "users_in_group_1 = sorted_users[start_pos_group_1:end_pos_group_1]\n",
    "users_not_in_group_1_flag = np.isin(sorted_users, users_in_group_1, invert = True)\n",
    "users_not_in_group_1 = sorted_users[users_not_in_group_1_flag]"
   ]
  },
  {
   "cell_type": "code",
   "execution_count": 7,
   "metadata": {},
   "outputs": [
    {
     "name": "stdout",
     "output_type": "stream",
     "text": [
      "Warning: 71 (0.89 %) of 7947 users have no train items\n",
      "Warning: 2411 (30.34 %) of 7947 users have no sampled items\n",
      "Warning: 57 (0.72 %) of 7947 users have no train items\n",
      "Warning: 2320 (29.19 %) of 7947 users have no sampled items\n",
      "Warning: 71 (0.89 %) of 7947 users have no train items\n",
      "Warning: 2289 (28.80 %) of 7947 users have no sampled items\n",
      "Warning: 74 (0.93 %) of 7947 users have no train items\n",
      "Warning: 2273 (28.60 %) of 7947 users have no sampled items\n",
      "Warning: 64 (0.81 %) of 7947 users have no train items\n",
      "Warning: 2358 (29.67 %) of 7947 users have no sampled items\n",
      "EvaluatorHoldout: Ignoring 1987 Users\n",
      "EvaluatorHoldout: Ignoring 1987 Users\n",
      "EvaluatorHoldout: Ignoring 1987 Users\n",
      "EvaluatorHoldout: Ignoring 1987 Users\n",
      "EvaluatorHoldout: Ignoring 1987 Users\n"
     ]
    }
   ],
   "source": [
    "from Data_manager.split_functions.split_train_validation_random_holdout import split_train_in_two_percentage_global_sample\n",
    "from Base.Evaluation.Evaluator import EvaluatorHoldout\n",
    "\n",
    "URM_train_1, URM_validation_1 = split_train_in_two_percentage_global_sample(URM_all, train_percentage = 0.8, seed = 1)\n",
    "\n",
    "URM_train_2, URM_validation_2 = split_train_in_two_percentage_global_sample(URM_all, train_percentage = 0.8, seed = 2)\n",
    "\n",
    "URM_train_3, URM_validation_3 = split_train_in_two_percentage_global_sample(URM_all, train_percentage = 0.8, seed = 3)\n",
    "\n",
    "URM_train_4, URM_validation_4 = split_train_in_two_percentage_global_sample(URM_all, train_percentage = 0.8, seed = 4)\n",
    "\n",
    "URM_train_5, URM_validation_5 = split_train_in_two_percentage_global_sample(URM_all, train_percentage = 0.8, seed = 5)\n",
    "\n",
    "URM_train_vector = [URM_train_1,URM_train_2,URM_train_3,URM_train_4,URM_train_5]\n",
    "\n",
    "evaluator_validation_1 = EvaluatorHoldout(URM_validation_1, cutoff_list=[10], ignore_users = users_not_in_group_0)\n",
    "evaluator_validation_2 = EvaluatorHoldout(URM_validation_2, cutoff_list=[10], ignore_users = users_not_in_group_0)\n",
    "evaluator_validation_3 = EvaluatorHoldout(URM_validation_3, cutoff_list=[10], ignore_users = users_not_in_group_0)\n",
    "evaluator_validation_4 = EvaluatorHoldout(URM_validation_4, cutoff_list=[10], ignore_users = users_not_in_group_0)\n",
    "evaluator_validation_5 = EvaluatorHoldout(URM_validation_5, cutoff_list=[10], ignore_users = users_not_in_group_0)\n",
    "\n",
    "Evaluator_vector = [evaluator_validation_1, evaluator_validation_2, evaluator_validation_3, evaluator_validation_4, evaluator_validation_5]\n"
   ]
  },
  {
   "cell_type": "code",
   "execution_count": 9,
   "metadata": {},
   "outputs": [
    {
     "name": "stdout",
     "output_type": "stream",
     "text": [
      "Recommender_Base_Class: URM Detected 73 (0.26 %) cold users.\n",
      "Recommender_Base_Class: URM Detected 1 (0.00 %) cold items.\n"
     ]
    },
    {
     "data": {
      "application/vnd.jupyter.widget-view+json": {
       "model_id": "ef1b3dc4297e4bfcab5604c158b8d3ab",
       "version_major": 2,
       "version_minor": 0
      },
      "text/plain": [
       "HBox(children=(HTML(value=''), FloatProgress(value=0.0), HTML(value='')))"
      ]
     },
     "metadata": {},
     "output_type": "display_data"
    },
    {
     "name": "stdout",
     "output_type": "stream",
     "text": [
      "\n",
      "EvaluatorHoldout: Processed 3585 ( 100.00% ) in 5.52 sec. Users per second: 650\n",
      "{10: {'ROC_AUC': 0.1694648447012468, 'PRECISION': 0.027921896792189416, 'PRECISION_RECALL_MIN_DEN': 0.1820502092050209, 'RECALL': 0.1820502092050209, 'MAP': 0.08737535328713843, 'MRR': 0.1210423723185229, 'NDCG': 0.11926240185314642, 'F1': 0.048417737473058636, 'HIT_RATE': 0.27921896792189677, 'ARHR': 0.12774623098890883, 'NOVELTY': 0.005419615918464619, 'AVERAGE_POPULARITY': 0.10854450912619014, 'DIVERSITY_MEAN_INTER_LIST': 0.9961104521568042, 'DIVERSITY_HERFINDAHL': 0.9995832597079494, 'COVERAGE_ITEM': 0.40311838306063524, 'COVERAGE_ITEM_CORRECT': 0.0312223291626564, 'COVERAGE_USER': 0.6015100671140939, 'COVERAGE_USER_CORRECT': 0.14966442953020134, 'DIVERSITY_GINI': 0.18395726513348445, 'SHANNON_ENTROPY': 12.392011183127021}}\n",
      "Recommender_Base_Class: Saving model in file 'MF_saved_group_0/MF_IALS_fold_number1'\n",
      "Recommender_Base_Class: Saving complete\n",
      "Recommender_Base_Class: URM Detected 59 (0.21 %) cold users.\n",
      "Recommender_Base_Class: URM Detected 1 (0.00 %) cold items.\n"
     ]
    },
    {
     "data": {
      "application/vnd.jupyter.widget-view+json": {
       "model_id": "4030e5fde1f247f4875ea0f40de2e169",
       "version_major": 2,
       "version_minor": 0
      },
      "text/plain": [
       "HBox(children=(HTML(value=''), FloatProgress(value=0.0), HTML(value='')))"
      ]
     },
     "metadata": {},
     "output_type": "display_data"
    },
    {
     "name": "stdout",
     "output_type": "stream",
     "text": [
      "\n",
      "EvaluatorHoldout: Processed 3680 ( 100.00% ) in 5.60 sec. Users per second: 657\n",
      "{10: {'ROC_AUC': 0.1544982531055903, 'PRECISION': 0.026358695652173712, 'PRECISION_RECALL_MIN_DEN': 0.16716744306418221, 'RECALL': 0.16716744306418221, 'MAP': 0.0766791123907292, 'MRR': 0.1057733781918564, 'NDCG': 0.10683748672675827, 'F1': 0.04553716396046148, 'HIT_RATE': 0.26358695652173914, 'ARHR': 0.1125736499309868, 'NOVELTY': 0.005424219033056702, 'AVERAGE_POPULARITY': 0.10721888291587885, 'DIVERSITY_MEAN_INTER_LIST': 0.996398758523701, 'DIVERSITY_HERFINDAHL': 0.9996127997991493, 'COVERAGE_ITEM': 0.4068912415784408, 'COVERAGE_ITEM_CORRECT': 0.029412897016361888, 'COVERAGE_USER': 0.6174496644295302, 'COVERAGE_USER_CORRECT': 0.14395973154362415, 'DIVERSITY_GINI': 0.1872725450583147, 'SHANNON_ENTROPY': 12.437751585720031}}\n",
      "Recommender_Base_Class: Saving model in file 'MF_saved_group_0/MF_IALS_fold_number2'\n",
      "Recommender_Base_Class: Saving complete\n",
      "Recommender_Base_Class: URM Detected 73 (0.26 %) cold users.\n",
      "Recommender_Base_Class: URM Detected 4 (0.02 %) cold items.\n"
     ]
    },
    {
     "data": {
      "application/vnd.jupyter.widget-view+json": {
       "model_id": "824a44d2c03847909e0b7ad2faa722f2",
       "version_major": 2,
       "version_minor": 0
      },
      "text/plain": [
       "HBox(children=(HTML(value=''), FloatProgress(value=0.0), HTML(value='')))"
      ]
     },
     "metadata": {},
     "output_type": "display_data"
    },
    {
     "name": "stdout",
     "output_type": "stream",
     "text": [
      "\n",
      "EvaluatorHoldout: Processed 3697 ( 100.00% ) in 5.66 sec. Users per second: 654\n",
      "{10: {'ROC_AUC': 0.15318565889975166, 'PRECISION': 0.026913713822017574, 'PRECISION_RECALL_MIN_DEN': 0.16971482669345794, 'RECALL': 0.16971482669345794, 'MAP': 0.07830645074728115, 'MRR': 0.10826592561107004, 'NDCG': 0.10877258648397085, 'F1': 0.04645974856962885, 'HIT_RATE': 0.26913713822017854, 'ARHR': 0.11562828719983148, 'NOVELTY': 0.005423224660252447, 'AVERAGE_POPULARITY': 0.10765346252326498, 'DIVERSITY_MEAN_INTER_LIST': 0.996229041448138, 'DIVERSITY_HERFINDAHL': 0.9995959571867005, 'COVERAGE_ITEM': 0.4117805582290664, 'COVERAGE_ITEM_CORRECT': 0.03068334937439846, 'COVERAGE_USER': 0.6203020134228188, 'COVERAGE_USER_CORRECT': 0.14597315436241612, 'DIVERSITY_GINI': 0.18768302302560308, 'SHANNON_ENTROPY': 12.422974410020533}}\n",
      "Recommender_Base_Class: Saving model in file 'MF_saved_group_0/MF_IALS_fold_number3'\n",
      "Recommender_Base_Class: Saving complete\n",
      "Recommender_Base_Class: URM Detected 76 (0.27 %) cold users.\n"
     ]
    },
    {
     "data": {
      "application/vnd.jupyter.widget-view+json": {
       "model_id": "a28b897bbcce4a249aff02af348e04ce",
       "version_major": 2,
       "version_minor": 0
      },
      "text/plain": [
       "HBox(children=(HTML(value=''), FloatProgress(value=0.0), HTML(value='')))"
      ]
     },
     "metadata": {},
     "output_type": "display_data"
    },
    {
     "name": "stdout",
     "output_type": "stream",
     "text": [
      "\n",
      "EvaluatorHoldout: Processed 3717 ( 100.00% ) in 5.68 sec. Users per second: 655\n",
      "{10: {'ROC_AUC': 0.14671490064952553, 'PRECISION': 0.02520850147968774, 'PRECISION_RECALL_MIN_DEN': 0.16106947487092768, 'RECALL': 0.16106947487092768, 'MAP': 0.07476045639013085, 'MRR': 0.10420995768049834, 'NDCG': 0.10362772063675638, 'F1': 0.04359420448044709, 'HIT_RATE': 0.2520850147968792, 'ARHR': 0.1112284399007562, 'NOVELTY': 0.005419405546082996, 'AVERAGE_POPULARITY': 0.10838681296308361, 'DIVERSITY_MEAN_INTER_LIST': 0.9960528430598308, 'DIVERSITY_HERFINDAHL': 0.9995784870812572, 'COVERAGE_ITEM': 0.4089701636188643, 'COVERAGE_ITEM_CORRECT': 0.02875842155919153, 'COVERAGE_USER': 0.6236577181208054, 'COVERAGE_USER_CORRECT': 0.13691275167785236, 'DIVERSITY_GINI': 0.18479429367511194, 'SHANNON_ENTROPY': 12.394606071258693}}\n",
      "Recommender_Base_Class: Saving model in file 'MF_saved_group_0/MF_IALS_fold_number4'\n",
      "Recommender_Base_Class: Saving complete\n",
      "Recommender_Base_Class: URM Detected 66 (0.24 %) cold users.\n",
      "Recommender_Base_Class: URM Detected 3 (0.01 %) cold items.\n"
     ]
    },
    {
     "data": {
      "application/vnd.jupyter.widget-view+json": {
       "model_id": "a5c7ea739b3245d1b1c97b3a3e369ef0",
       "version_major": 2,
       "version_minor": 0
      },
      "text/plain": [
       "HBox(children=(HTML(value=''), FloatProgress(value=0.0), HTML(value='')))"
      ]
     },
     "metadata": {},
     "output_type": "display_data"
    },
    {
     "name": "stdout",
     "output_type": "stream",
     "text": [
      "\n",
      "EvaluatorHoldout: Processed 3639 ( 100.00% ) in 5.54 sec. Users per second: 657\n",
      "{10: {'ROC_AUC': 0.14888640259621333, 'PRECISION': 0.025611431712008605, 'PRECISION_RECALL_MIN_DEN': 0.15801960245488691, 'RECALL': 0.15801960245488691, 'MAP': 0.07373175628225086, 'MRR': 0.10457608709875814, 'NDCG': 0.10264408447751307, 'F1': 0.044078695910995246, 'HIT_RATE': 0.2561143171200879, 'ARHR': 0.11125069245431982, 'NOVELTY': 0.005416121937301518, 'AVERAGE_POPULARITY': 0.10962706249925296, 'DIVERSITY_MEAN_INTER_LIST': 0.9960223834970883, 'DIVERSITY_HERFINDAHL': 0.9995748675779722, 'COVERAGE_ITEM': 0.4028873917228104, 'COVERAGE_ITEM_CORRECT': 0.029220404234841194, 'COVERAGE_USER': 0.6105704697986577, 'COVERAGE_USER_CORRECT': 0.13758389261744966, 'DIVERSITY_GINI': 0.18197912284305304, 'SHANNON_ENTROPY': 12.371159292233639}}\n",
      "Recommender_Base_Class: Saving model in file 'MF_saved_group_0/MF_IALS_fold_number5'\n",
      "Recommender_Base_Class: Saving complete\n"
     ]
    }
   ],
   "source": [
    "from MatrixFactorization.IALSRecommender_implicit import IALSRecommender_implicit\n",
    "i=1\n",
    "for URM_train, evaluator in zip(URM_train_vector,Evaluator_vector):\n",
    "    \n",
    "    URM_train_ICM_all_IALS = sps.vstack([URM_train*(1-0.5299554043024671), ICM_all.T*0.5299554043024671])\n",
    "    recommender = IALSRecommender_implicit(URM_train_ICM_all_IALS)\n",
    "    recommender.fit(n_factors = 864, regularization = 0.7981462652421099, iterations=100)\n",
    "\n",
    "    #recommender.URM_train = URM_train.tocsr()\n",
    "    \n",
    "    result_dict, _ = evaluator.evaluateRecommender(recommender)\n",
    "    print(result_dict)\n",
    "    \n",
    "    filename = 'MF_IALS_fold_number' + str(i)\n",
    "    recommender.save_model('MF_saved_group_0/', file_name = filename)\n",
    "    i = i+1"
   ]
  },
  {
   "cell_type": "code",
   "execution_count": null,
   "metadata": {},
   "outputs": [],
   "source": []
  }
 ],
 "metadata": {
  "kernelspec": {
   "display_name": "Python 3",
   "language": "python",
   "name": "python3"
  },
  "language_info": {
   "codemirror_mode": {
    "name": "ipython",
    "version": 3
   },
   "file_extension": ".py",
   "mimetype": "text/x-python",
   "name": "python",
   "nbconvert_exporter": "python",
   "pygments_lexer": "ipython3",
   "version": "3.8.5"
  }
 },
 "nbformat": 4,
 "nbformat_minor": 4
}
