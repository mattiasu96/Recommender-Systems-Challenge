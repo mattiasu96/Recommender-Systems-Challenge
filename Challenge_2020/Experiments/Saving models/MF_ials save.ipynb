{
 "cells": [
  {
   "cell_type": "markdown",
   "metadata": {},
   "source": [
    "# Data loading \n",
    "Next cells are used to load the data we need."
   ]
  },
  {
   "cell_type": "code",
   "execution_count": 1,
   "metadata": {},
   "outputs": [],
   "source": [
    "import os\n",
    "os.environ[\"OMP_NUM_THREADS\"] = \"1\" # export OMP_NUM_THREADS=1\n",
    "os.environ[\"OPENBLAS_NUM_THREADS\"] = \"1\" # export OPENBLAS_NUM_THREADS=1\n",
    "os.environ[\"MKL_NUM_THREADS\"] = \"1\" # export MKL_NUM_THREADS=1\n",
    "os.environ[\"VECLIB_MAXIMUM_THREADS\"] = \"1\" # export VECLIB_MAXIMUM_THREADS=1\n",
    "os.environ[\"NUMEXPR_NUM_THREADS\"] = \"1\" # export NUMEXPR_NUM_THREADS=1 \n",
    "import pandas as pd\n",
    "import numpy as np \n",
    "import scipy.sparse as sps\n",
    "import sys\n",
    "import matplotlib.pyplot as plt\n",
    "sys.path.append('../../../')\n"
   ]
  },
  {
   "cell_type": "code",
   "execution_count": 2,
   "metadata": {},
   "outputs": [
    {
     "data": {
      "text/html": [
       "<div>\n",
       "<style scoped>\n",
       "    .dataframe tbody tr th:only-of-type {\n",
       "        vertical-align: middle;\n",
       "    }\n",
       "\n",
       "    .dataframe tbody tr th {\n",
       "        vertical-align: top;\n",
       "    }\n",
       "\n",
       "    .dataframe thead th {\n",
       "        text-align: right;\n",
       "    }\n",
       "</style>\n",
       "<table border=\"1\" class=\"dataframe\">\n",
       "  <thead>\n",
       "    <tr style=\"text-align: right;\">\n",
       "      <th></th>\n",
       "      <th>row</th>\n",
       "      <th>col</th>\n",
       "      <th>data</th>\n",
       "    </tr>\n",
       "  </thead>\n",
       "  <tbody>\n",
       "    <tr>\n",
       "      <th>0</th>\n",
       "      <td>0</td>\n",
       "      <td>10080</td>\n",
       "      <td>1.0</td>\n",
       "    </tr>\n",
       "    <tr>\n",
       "      <th>1</th>\n",
       "      <td>0</td>\n",
       "      <td>19467</td>\n",
       "      <td>1.0</td>\n",
       "    </tr>\n",
       "    <tr>\n",
       "      <th>2</th>\n",
       "      <td>1</td>\n",
       "      <td>2665</td>\n",
       "      <td>1.0</td>\n",
       "    </tr>\n",
       "    <tr>\n",
       "      <th>3</th>\n",
       "      <td>1</td>\n",
       "      <td>7494</td>\n",
       "      <td>1.0</td>\n",
       "    </tr>\n",
       "    <tr>\n",
       "      <th>4</th>\n",
       "      <td>1</td>\n",
       "      <td>17068</td>\n",
       "      <td>1.0</td>\n",
       "    </tr>\n",
       "    <tr>\n",
       "      <th>...</th>\n",
       "      <td>...</td>\n",
       "      <td>...</td>\n",
       "      <td>...</td>\n",
       "    </tr>\n",
       "    <tr>\n",
       "      <th>113263</th>\n",
       "      <td>7945</td>\n",
       "      <td>2476</td>\n",
       "      <td>1.0</td>\n",
       "    </tr>\n",
       "    <tr>\n",
       "      <th>113264</th>\n",
       "      <td>7945</td>\n",
       "      <td>12319</td>\n",
       "      <td>1.0</td>\n",
       "    </tr>\n",
       "    <tr>\n",
       "      <th>113265</th>\n",
       "      <td>7945</td>\n",
       "      <td>21384</td>\n",
       "      <td>1.0</td>\n",
       "    </tr>\n",
       "    <tr>\n",
       "      <th>113266</th>\n",
       "      <td>7946</td>\n",
       "      <td>8699</td>\n",
       "      <td>1.0</td>\n",
       "    </tr>\n",
       "    <tr>\n",
       "      <th>113267</th>\n",
       "      <td>7946</td>\n",
       "      <td>19178</td>\n",
       "      <td>1.0</td>\n",
       "    </tr>\n",
       "  </tbody>\n",
       "</table>\n",
       "<p>113268 rows × 3 columns</p>\n",
       "</div>"
      ],
      "text/plain": [
       "         row    col  data\n",
       "0          0  10080   1.0\n",
       "1          0  19467   1.0\n",
       "2          1   2665   1.0\n",
       "3          1   7494   1.0\n",
       "4          1  17068   1.0\n",
       "...      ...    ...   ...\n",
       "113263  7945   2476   1.0\n",
       "113264  7945  12319   1.0\n",
       "113265  7945  21384   1.0\n",
       "113266  7946   8699   1.0\n",
       "113267  7946  19178   1.0\n",
       "\n",
       "[113268 rows x 3 columns]"
      ]
     },
     "execution_count": 2,
     "metadata": {},
     "output_type": "execute_result"
    }
   ],
   "source": [
    "#data which contains users (row), items(col) and implicit interaction (data)\n",
    "dataset = pd.read_csv('../../data_train.csv')\n",
    "dataset"
   ]
  },
  {
   "cell_type": "markdown",
   "metadata": {},
   "source": [
    "# Data pre-processing\n",
    "Pre-processing of data to check for missing users, items ecc..."
   ]
  },
  {
   "cell_type": "code",
   "execution_count": 3,
   "metadata": {},
   "outputs": [
    {
     "data": {
      "text/plain": [
       "(7947, 25975)"
      ]
     },
     "execution_count": 3,
     "metadata": {},
     "output_type": "execute_result"
    }
   ],
   "source": [
    "users = dataset.row\n",
    "items = dataset.col\n",
    "data = dataset.data\n",
    "URM_all = sps.coo_matrix((data, (users, items)))\n",
    "URM_all = URM_all.tocsr() #fast row access -> fast access to users \n",
    "URM_all.shape"
   ]
  },
  {
   "cell_type": "code",
   "execution_count": 4,
   "metadata": {},
   "outputs": [
    {
     "data": {
      "text/html": [
       "<div>\n",
       "<style scoped>\n",
       "    .dataframe tbody tr th:only-of-type {\n",
       "        vertical-align: middle;\n",
       "    }\n",
       "\n",
       "    .dataframe tbody tr th {\n",
       "        vertical-align: top;\n",
       "    }\n",
       "\n",
       "    .dataframe thead th {\n",
       "        text-align: right;\n",
       "    }\n",
       "</style>\n",
       "<table border=\"1\" class=\"dataframe\">\n",
       "  <thead>\n",
       "    <tr style=\"text-align: right;\">\n",
       "      <th></th>\n",
       "      <th>row</th>\n",
       "      <th>col</th>\n",
       "      <th>data</th>\n",
       "    </tr>\n",
       "  </thead>\n",
       "  <tbody>\n",
       "    <tr>\n",
       "      <th>0</th>\n",
       "      <td>0</td>\n",
       "      <td>1185</td>\n",
       "      <td>1.015524</td>\n",
       "    </tr>\n",
       "    <tr>\n",
       "      <th>1</th>\n",
       "      <td>0</td>\n",
       "      <td>2507</td>\n",
       "      <td>0.459024</td>\n",
       "    </tr>\n",
       "    <tr>\n",
       "      <th>2</th>\n",
       "      <td>0</td>\n",
       "      <td>3534</td>\n",
       "      <td>0.227742</td>\n",
       "    </tr>\n",
       "    <tr>\n",
       "      <th>3</th>\n",
       "      <td>0</td>\n",
       "      <td>8766</td>\n",
       "      <td>0.501549</td>\n",
       "    </tr>\n",
       "    <tr>\n",
       "      <th>4</th>\n",
       "      <td>0</td>\n",
       "      <td>10862</td>\n",
       "      <td>0.297011</td>\n",
       "    </tr>\n",
       "    <tr>\n",
       "      <th>...</th>\n",
       "      <td>...</td>\n",
       "      <td>...</td>\n",
       "      <td>...</td>\n",
       "    </tr>\n",
       "    <tr>\n",
       "      <th>490686</th>\n",
       "      <td>25974</td>\n",
       "      <td>12554</td>\n",
       "      <td>0.963016</td>\n",
       "    </tr>\n",
       "    <tr>\n",
       "      <th>490687</th>\n",
       "      <td>25974</td>\n",
       "      <td>13003</td>\n",
       "      <td>0.104613</td>\n",
       "    </tr>\n",
       "    <tr>\n",
       "      <th>490688</th>\n",
       "      <td>25974</td>\n",
       "      <td>16236</td>\n",
       "      <td>0.118760</td>\n",
       "    </tr>\n",
       "    <tr>\n",
       "      <th>490689</th>\n",
       "      <td>25974</td>\n",
       "      <td>18797</td>\n",
       "      <td>0.363301</td>\n",
       "    </tr>\n",
       "    <tr>\n",
       "      <th>490690</th>\n",
       "      <td>25974</td>\n",
       "      <td>19629</td>\n",
       "      <td>0.129141</td>\n",
       "    </tr>\n",
       "  </tbody>\n",
       "</table>\n",
       "<p>490691 rows × 3 columns</p>\n",
       "</div>"
      ],
      "text/plain": [
       "          row    col      data\n",
       "0           0   1185  1.015524\n",
       "1           0   2507  0.459024\n",
       "2           0   3534  0.227742\n",
       "3           0   8766  0.501549\n",
       "4           0  10862  0.297011\n",
       "...       ...    ...       ...\n",
       "490686  25974  12554  0.963016\n",
       "490687  25974  13003  0.104613\n",
       "490688  25974  16236  0.118760\n",
       "490689  25974  18797  0.363301\n",
       "490690  25974  19629  0.129141\n",
       "\n",
       "[490691 rows x 3 columns]"
      ]
     },
     "execution_count": 4,
     "metadata": {},
     "output_type": "execute_result"
    }
   ],
   "source": [
    "ICM_df = pd.read_csv('../../data_ICM_title_abstract.csv')\n",
    "ICM_df"
   ]
  },
  {
   "cell_type": "code",
   "execution_count": 5,
   "metadata": {},
   "outputs": [
    {
     "data": {
      "text/plain": [
       "(25975, 20000)"
      ]
     },
     "execution_count": 5,
     "metadata": {},
     "output_type": "execute_result"
    }
   ],
   "source": [
    "items = ICM_df.row\n",
    "features = ICM_df.col\n",
    "data = ICM_df.data\n",
    "ICM_all = sps.coo_matrix((data, (items, features)))\n",
    "ICM_all = ICM_all.tocsr() #fast row access -> fast access to users \n",
    "ICM_all.shape"
   ]
  },
  {
   "cell_type": "code",
   "execution_count": 6,
   "metadata": {},
   "outputs": [
    {
     "name": "stdout",
     "output_type": "stream",
     "text": [
      "Warning: 71 (0.89 %) of 7947 users have no train items\n",
      "Warning: 2411 (30.34 %) of 7947 users have no sampled items\n",
      "Warning: 57 (0.72 %) of 7947 users have no train items\n",
      "Warning: 2320 (29.19 %) of 7947 users have no sampled items\n",
      "Warning: 71 (0.89 %) of 7947 users have no train items\n",
      "Warning: 2289 (28.80 %) of 7947 users have no sampled items\n",
      "Warning: 74 (0.93 %) of 7947 users have no train items\n",
      "Warning: 2273 (28.60 %) of 7947 users have no sampled items\n",
      "Warning: 64 (0.81 %) of 7947 users have no train items\n",
      "Warning: 2358 (29.67 %) of 7947 users have no sampled items\n"
     ]
    }
   ],
   "source": [
    "from Data_manager.split_functions.split_train_validation_random_holdout import split_train_in_two_percentage_global_sample\n",
    "from Base.Evaluation.Evaluator import EvaluatorHoldout\n",
    "\n",
    "URM_train_1, URM_validation_1 = split_train_in_two_percentage_global_sample(URM_all, train_percentage = 0.8, seed=1)\n",
    "\n",
    "URM_train_2, URM_validation_2 = split_train_in_two_percentage_global_sample(URM_all, train_percentage = 0.8, seed=2)\n",
    "\n",
    "URM_train_3, URM_validation_3 = split_train_in_two_percentage_global_sample(URM_all, train_percentage = 0.8, seed=3)\n",
    "\n",
    "URM_train_4, URM_validation_4 = split_train_in_two_percentage_global_sample(URM_all, train_percentage = 0.8, seed=4)\n",
    "\n",
    "URM_train_5, URM_validation_5 = split_train_in_two_percentage_global_sample(URM_all, train_percentage = 0.8, seed=5)\n",
    "\n",
    "training_list = [URM_train_1,URM_train_2,URM_train_3,URM_train_4,URM_train_5]\n",
    "\n",
    "evaluator_validation_1 = EvaluatorHoldout(URM_validation_1, cutoff_list=[10])\n",
    "evaluator_validation_2 = EvaluatorHoldout(URM_validation_2, cutoff_list=[10])\n",
    "evaluator_validation_3 = EvaluatorHoldout(URM_validation_3, cutoff_list=[10])\n",
    "evaluator_validation_4 = EvaluatorHoldout(URM_validation_4, cutoff_list=[10])\n",
    "evaluator_validation_5 = EvaluatorHoldout(URM_validation_5, cutoff_list=[10])\n",
    "\n",
    "evaluator_list = [evaluator_validation_1, evaluator_validation_2, evaluator_validation_3, evaluator_validation_4, evaluator_validation_5]\n"
   ]
  },
  {
   "cell_type": "code",
   "execution_count": 8,
   "metadata": {},
   "outputs": [
    {
     "name": "stdout",
     "output_type": "stream",
     "text": [
      "Recommender_Base_Class: URM Detected 73 (0.26 %) cold users.\n",
      "Recommender_Base_Class: URM Detected 1 (0.00 %) cold items.\n"
     ]
    },
    {
     "data": {
      "application/vnd.jupyter.widget-view+json": {
       "model_id": "297aa781779f431684240e4c999918f1",
       "version_major": 2,
       "version_minor": 0
      },
      "text/plain": [
       "HBox(children=(HTML(value=''), FloatProgress(value=0.0, max=76.0), HTML(value='')))"
      ]
     },
     "metadata": {},
     "output_type": "display_data"
    },
    {
     "name": "stdout",
     "output_type": "stream",
     "text": [
      "\n",
      "EvaluatorHoldout: Processed 5536 ( 100.00% ) in 8.04 sec. Users per second: 689\n",
      "{10: {'ROC_AUC': 0.21842795210569887, 'PRECISION': 0.047272398843929635, 'PRECISION_RECALL_MIN_DEN': 0.17142133165886853, 'RECALL': 0.16627039343083283, 'MAP': 0.08150103193171922, 'MRR': 0.16329529945407867, 'NDCG': 0.12004833510199378, 'F1': 0.07361522503729441, 'HIT_RATE': 0.47272398843930635, 'ARHR': 0.19039841671254282, 'NOVELTY': 0.005404758255382906, 'AVERAGE_POPULARITY': 0.11072255316976594, 'DIVERSITY_MEAN_INTER_LIST': 0.9961539480760896, 'DIVERSITY_HERFINDAHL': 0.9995974006972752, 'COVERAGE_ITEM': 0.46725697786333015, 'COVERAGE_ITEM_CORRECT': 0.07168431183830606, 'COVERAGE_USER': 0.6966150748710205, 'COVERAGE_USER_CORRECT': 0.23769976091606895, 'DIVERSITY_GINI': 0.19082020853842854, 'SHANNON_ENTROPY': 12.453686786607655}}\n",
      "Recommender_Base_Class: Saving model in file 'MF_saved_2/MF_IALS_fold_number1'\n",
      "Recommender_Base_Class: Saving complete\n",
      "Recommender_Base_Class: URM Detected 59 (0.21 %) cold users.\n",
      "Recommender_Base_Class: URM Detected 1 (0.00 %) cold items.\n"
     ]
    },
    {
     "data": {
      "application/vnd.jupyter.widget-view+json": {
       "model_id": "973e2c71ef4e42d2a5530e26d7157ecb",
       "version_major": 2,
       "version_minor": 0
      },
      "text/plain": [
       "HBox(children=(HTML(value=''), FloatProgress(value=0.0, max=76.0), HTML(value='')))"
      ]
     },
     "metadata": {},
     "output_type": "display_data"
    },
    {
     "name": "stdout",
     "output_type": "stream",
     "text": [
      "\n",
      "EvaluatorHoldout: Processed 5627 ( 100.00% ) in 8.18 sec. Users per second: 688\n",
      "{10: {'ROC_AUC': 0.2067826959585452, 'PRECISION': 0.045157277412474446, 'PRECISION_RECALL_MIN_DEN': 0.16140109618872783, 'RECALL': 0.15680492278785405, 'MAP': 0.07434359009912551, 'MRR': 0.15175105288842664, 'NDCG': 0.11191465519385199, 'F1': 0.07012087797567225, 'HIT_RATE': 0.45157277412475566, 'ARHR': 0.17765415330281206, 'NOVELTY': 0.005407241517571836, 'AVERAGE_POPULARITY': 0.10988976866196372, 'DIVERSITY_MEAN_INTER_LIST': 0.996266458421135, 'DIVERSITY_HERFINDAHL': 0.999608940733558, 'COVERAGE_ITEM': 0.46814244465832533, 'COVERAGE_ITEM_CORRECT': 0.06895091434071222, 'COVERAGE_USER': 0.7080659368315088, 'COVERAGE_USER_CORRECT': 0.2309047439285265, 'DIVERSITY_GINI': 0.19196510302821396, 'SHANNON_ENTROPY': 12.473412406192908}}\n",
      "Recommender_Base_Class: Saving model in file 'MF_saved_2/MF_IALS_fold_number2'\n",
      "Recommender_Base_Class: Saving complete\n",
      "Recommender_Base_Class: URM Detected 73 (0.26 %) cold users.\n",
      "Recommender_Base_Class: URM Detected 4 (0.02 %) cold items.\n"
     ]
    },
    {
     "data": {
      "application/vnd.jupyter.widget-view+json": {
       "model_id": "a7c3086c17ae4903a36f43d6ddf51dab",
       "version_major": 2,
       "version_minor": 0
      },
      "text/plain": [
       "HBox(children=(HTML(value=''), FloatProgress(value=0.0, max=76.0), HTML(value='')))"
      ]
     },
     "metadata": {},
     "output_type": "display_data"
    },
    {
     "name": "stdout",
     "output_type": "stream",
     "text": [
      "\n",
      "EvaluatorHoldout: Processed 5658 ( 100.00% ) in 8.23 sec. Users per second: 687\n",
      "{10: {'ROC_AUC': 0.20551145449342761, 'PRECISION': 0.04625309296571125, 'PRECISION_RECALL_MIN_DEN': 0.16427414196502296, 'RECALL': 0.15941622288980895, 'MAP': 0.0747033641265049, 'MRR': 0.15124027223709136, 'NDCG': 0.11263645258980691, 'F1': 0.0717024155683452, 'HIT_RATE': 0.46253092965712267, 'ARHR': 0.17805256779275935, 'NOVELTY': 0.005406191259758185, 'AVERAGE_POPULARITY': 0.11052140001781768, 'DIVERSITY_MEAN_INTER_LIST': 0.9961559776383554, 'DIVERSITY_HERFINDAHL': 0.9995979916136475, 'COVERAGE_ITEM': 0.4752261790182868, 'COVERAGE_ITEM_CORRECT': 0.07029836381135707, 'COVERAGE_USER': 0.7119667799169498, 'COVERAGE_USER_CORRECT': 0.23392475147854536, 'DIVERSITY_GINI': 0.19359450597625916, 'SHANNON_ENTROPY': 12.467354524272878}}\n",
      "Recommender_Base_Class: Saving model in file 'MF_saved_2/MF_IALS_fold_number3'\n",
      "Recommender_Base_Class: Saving complete\n",
      "Recommender_Base_Class: URM Detected 76 (0.27 %) cold users.\n"
     ]
    },
    {
     "data": {
      "application/vnd.jupyter.widget-view+json": {
       "model_id": "f4d55657301b4338a18fe4fdd193244e",
       "version_major": 2,
       "version_minor": 0
      },
      "text/plain": [
       "HBox(children=(HTML(value=''), FloatProgress(value=0.0, max=76.0), HTML(value='')))"
      ]
     },
     "metadata": {},
     "output_type": "display_data"
    },
    {
     "name": "stdout",
     "output_type": "stream",
     "text": [
      "\n",
      "EvaluatorHoldout: Processed 5674 ( 100.00% ) in 8.24 sec. Users per second: 688\n",
      "{10: {'ROC_AUC': 0.20129766240887226, 'PRECISION': 0.04511808248149347, 'PRECISION_RECALL_MIN_DEN': 0.15698053219642988, 'RECALL': 0.15235624317380642, 'MAP': 0.07400303796860454, 'MRR': 0.15106836530876053, 'NDCG': 0.11039579942987252, 'F1': 0.06961939506085647, 'HIT_RATE': 0.45118082481494537, 'ARHR': 0.17925597685907912, 'NOVELTY': 0.005403850988850792, 'AVERAGE_POPULARITY': 0.11054030237498727, 'DIVERSITY_MEAN_INTER_LIST': 0.9960471163053307, 'DIVERSITY_HERFINDAHL': 0.9995871570461781, 'COVERAGE_ITEM': 0.471106833493744, 'COVERAGE_ITEM_CORRECT': 0.06960538979788258, 'COVERAGE_USER': 0.7139801182836291, 'COVERAGE_USER_CORRECT': 0.2249905624764062, 'DIVERSITY_GINI': 0.19059621505776492, 'SHANNON_ENTROPY': 12.444020605526354}}\n",
      "Recommender_Base_Class: Saving model in file 'MF_saved_2/MF_IALS_fold_number4'\n",
      "Recommender_Base_Class: Saving complete\n",
      "Recommender_Base_Class: URM Detected 66 (0.24 %) cold users.\n",
      "Recommender_Base_Class: URM Detected 3 (0.01 %) cold items.\n"
     ]
    },
    {
     "data": {
      "application/vnd.jupyter.widget-view+json": {
       "model_id": "10ada03f0f224a26960376198da3391b",
       "version_major": 2,
       "version_minor": 0
      },
      "text/plain": [
       "HBox(children=(HTML(value=''), FloatProgress(value=0.0, max=76.0), HTML(value='')))"
      ]
     },
     "metadata": {},
     "output_type": "display_data"
    },
    {
     "name": "stdout",
     "output_type": "stream",
     "text": [
      "\n",
      "EvaluatorHoldout: Processed 5589 ( 100.00% ) in 8.08 sec. Users per second: 691\n",
      "{10: {'ROC_AUC': 0.20335057241122806, 'PRECISION': 0.045106459116119824, 'PRECISION_RECALL_MIN_DEN': 0.15566447131127836, 'RECALL': 0.15107955106839538, 'MAP': 0.07292047925907795, 'MRR': 0.15265132473935508, 'NDCG': 0.10975184249109277, 'F1': 0.0694714530066547, 'HIT_RATE': 0.4510645911612095, 'ARHR': 0.17800178638879705, 'NOVELTY': 0.005402740216560256, 'AVERAGE_POPULARITY': 0.11143623538472297, 'DIVERSITY_MEAN_INTER_LIST': 0.9960652078496044, 'DIVERSITY_HERFINDAHL': 0.9995886988989728, 'COVERAGE_ITEM': 0.47091434071222327, 'COVERAGE_ITEM_CORRECT': 0.06871992300288739, 'COVERAGE_USER': 0.7032842582106456, 'COVERAGE_USER_CORRECT': 0.22750723543475526, 'DIVERSITY_GINI': 0.1907656395104489, 'SHANNON_ENTROPY': 12.4446526278001}}\n",
      "Recommender_Base_Class: Saving model in file 'MF_saved_2/MF_IALS_fold_number5'\n",
      "Recommender_Base_Class: Saving complete\n"
     ]
    }
   ],
   "source": [
    "from MatrixFactorization.IALSRecommender_implicit import IALSRecommender_implicit\n",
    "i=1\n",
    "for URM_train, evaluator in zip(training_list,evaluator_list):\n",
    "    \n",
    "    URM_train_ICM_all_IALS = sps.vstack([URM_train*(1-0.5293971458364172), ICM_all.T*0.5293971458364172])\n",
    "    recommender = IALSRecommender_implicit(URM_train_ICM_all_IALS)\n",
    "    recommender.fit(n_factors = 768, regularization = 0.4489004525533907, iterations=76)\n",
    "\n",
    "    #recommender.URM_train = URM_train.tocsr()\n",
    "    \n",
    "    result_dict, _ = evaluator.evaluateRecommender(recommender)\n",
    "    print(result_dict)\n",
    "    \n",
    "    filename = 'MF_IALS_fold_number' + str(i)\n",
    "    recommender.save_model('MF_saved_2/', file_name = filename)\n",
    "    i = i+1"
   ]
  },
  {
   "cell_type": "code",
   "execution_count": null,
   "metadata": {},
   "outputs": [],
   "source": []
  }
 ],
 "metadata": {
  "kernelspec": {
   "display_name": "Python 3",
   "language": "python",
   "name": "python3"
  },
  "language_info": {
   "codemirror_mode": {
    "name": "ipython",
    "version": 3
   },
   "file_extension": ".py",
   "mimetype": "text/x-python",
   "name": "python",
   "nbconvert_exporter": "python",
   "pygments_lexer": "ipython3",
   "version": "3.8.5"
  }
 },
 "nbformat": 4,
 "nbformat_minor": 4
}
