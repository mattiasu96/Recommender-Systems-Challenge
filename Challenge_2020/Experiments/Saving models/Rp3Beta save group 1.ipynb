{
 "cells": [
  {
   "cell_type": "markdown",
   "metadata": {},
   "source": [
    "# Data loading \n",
    "Next cells are used to load the data we need."
   ]
  },
  {
   "cell_type": "code",
   "execution_count": 1,
   "metadata": {},
   "outputs": [],
   "source": [
    "import os\n",
    "import pandas as pd\n",
    "import numpy as np \n",
    "import scipy.sparse as sps\n",
    "import sys\n",
    "import matplotlib.pyplot as plt\n",
    "sys.path.append('../../../')\n"
   ]
  },
  {
   "cell_type": "code",
   "execution_count": 2,
   "metadata": {},
   "outputs": [
    {
     "data": {
      "text/html": [
       "<div>\n",
       "<style scoped>\n",
       "    .dataframe tbody tr th:only-of-type {\n",
       "        vertical-align: middle;\n",
       "    }\n",
       "\n",
       "    .dataframe tbody tr th {\n",
       "        vertical-align: top;\n",
       "    }\n",
       "\n",
       "    .dataframe thead th {\n",
       "        text-align: right;\n",
       "    }\n",
       "</style>\n",
       "<table border=\"1\" class=\"dataframe\">\n",
       "  <thead>\n",
       "    <tr style=\"text-align: right;\">\n",
       "      <th></th>\n",
       "      <th>row</th>\n",
       "      <th>col</th>\n",
       "      <th>data</th>\n",
       "    </tr>\n",
       "  </thead>\n",
       "  <tbody>\n",
       "    <tr>\n",
       "      <th>0</th>\n",
       "      <td>0</td>\n",
       "      <td>10080</td>\n",
       "      <td>1.0</td>\n",
       "    </tr>\n",
       "    <tr>\n",
       "      <th>1</th>\n",
       "      <td>0</td>\n",
       "      <td>19467</td>\n",
       "      <td>1.0</td>\n",
       "    </tr>\n",
       "    <tr>\n",
       "      <th>2</th>\n",
       "      <td>1</td>\n",
       "      <td>2665</td>\n",
       "      <td>1.0</td>\n",
       "    </tr>\n",
       "    <tr>\n",
       "      <th>3</th>\n",
       "      <td>1</td>\n",
       "      <td>7494</td>\n",
       "      <td>1.0</td>\n",
       "    </tr>\n",
       "    <tr>\n",
       "      <th>4</th>\n",
       "      <td>1</td>\n",
       "      <td>17068</td>\n",
       "      <td>1.0</td>\n",
       "    </tr>\n",
       "    <tr>\n",
       "      <th>...</th>\n",
       "      <td>...</td>\n",
       "      <td>...</td>\n",
       "      <td>...</td>\n",
       "    </tr>\n",
       "    <tr>\n",
       "      <th>113263</th>\n",
       "      <td>7945</td>\n",
       "      <td>2476</td>\n",
       "      <td>1.0</td>\n",
       "    </tr>\n",
       "    <tr>\n",
       "      <th>113264</th>\n",
       "      <td>7945</td>\n",
       "      <td>12319</td>\n",
       "      <td>1.0</td>\n",
       "    </tr>\n",
       "    <tr>\n",
       "      <th>113265</th>\n",
       "      <td>7945</td>\n",
       "      <td>21384</td>\n",
       "      <td>1.0</td>\n",
       "    </tr>\n",
       "    <tr>\n",
       "      <th>113266</th>\n",
       "      <td>7946</td>\n",
       "      <td>8699</td>\n",
       "      <td>1.0</td>\n",
       "    </tr>\n",
       "    <tr>\n",
       "      <th>113267</th>\n",
       "      <td>7946</td>\n",
       "      <td>19178</td>\n",
       "      <td>1.0</td>\n",
       "    </tr>\n",
       "  </tbody>\n",
       "</table>\n",
       "<p>113268 rows × 3 columns</p>\n",
       "</div>"
      ],
      "text/plain": [
       "         row    col  data\n",
       "0          0  10080   1.0\n",
       "1          0  19467   1.0\n",
       "2          1   2665   1.0\n",
       "3          1   7494   1.0\n",
       "4          1  17068   1.0\n",
       "...      ...    ...   ...\n",
       "113263  7945   2476   1.0\n",
       "113264  7945  12319   1.0\n",
       "113265  7945  21384   1.0\n",
       "113266  7946   8699   1.0\n",
       "113267  7946  19178   1.0\n",
       "\n",
       "[113268 rows x 3 columns]"
      ]
     },
     "execution_count": 2,
     "metadata": {},
     "output_type": "execute_result"
    }
   ],
   "source": [
    "#data which contains users (row), items(col) and implicit interaction (data)\n",
    "dataset = pd.read_csv('../../data_train.csv')\n",
    "dataset"
   ]
  },
  {
   "cell_type": "markdown",
   "metadata": {},
   "source": [
    "# Data pre-processing\n",
    "Pre-processing of data to check for missing users, items ecc..."
   ]
  },
  {
   "cell_type": "code",
   "execution_count": 3,
   "metadata": {},
   "outputs": [
    {
     "data": {
      "text/plain": [
       "(7947, 25975)"
      ]
     },
     "execution_count": 3,
     "metadata": {},
     "output_type": "execute_result"
    }
   ],
   "source": [
    "users = dataset.row\n",
    "items = dataset.col\n",
    "data = dataset.data\n",
    "URM_all = sps.coo_matrix((data, (users, items)))\n",
    "URM_all = URM_all.tocsr() #fast row access -> fast access to users \n",
    "URM_all.shape"
   ]
  },
  {
   "cell_type": "code",
   "execution_count": 4,
   "metadata": {},
   "outputs": [
    {
     "data": {
      "text/html": [
       "<div>\n",
       "<style scoped>\n",
       "    .dataframe tbody tr th:only-of-type {\n",
       "        vertical-align: middle;\n",
       "    }\n",
       "\n",
       "    .dataframe tbody tr th {\n",
       "        vertical-align: top;\n",
       "    }\n",
       "\n",
       "    .dataframe thead th {\n",
       "        text-align: right;\n",
       "    }\n",
       "</style>\n",
       "<table border=\"1\" class=\"dataframe\">\n",
       "  <thead>\n",
       "    <tr style=\"text-align: right;\">\n",
       "      <th></th>\n",
       "      <th>row</th>\n",
       "      <th>col</th>\n",
       "      <th>data</th>\n",
       "    </tr>\n",
       "  </thead>\n",
       "  <tbody>\n",
       "    <tr>\n",
       "      <th>0</th>\n",
       "      <td>0</td>\n",
       "      <td>1185</td>\n",
       "      <td>1.015524</td>\n",
       "    </tr>\n",
       "    <tr>\n",
       "      <th>1</th>\n",
       "      <td>0</td>\n",
       "      <td>2507</td>\n",
       "      <td>0.459024</td>\n",
       "    </tr>\n",
       "    <tr>\n",
       "      <th>2</th>\n",
       "      <td>0</td>\n",
       "      <td>3534</td>\n",
       "      <td>0.227742</td>\n",
       "    </tr>\n",
       "    <tr>\n",
       "      <th>3</th>\n",
       "      <td>0</td>\n",
       "      <td>8766</td>\n",
       "      <td>0.501549</td>\n",
       "    </tr>\n",
       "    <tr>\n",
       "      <th>4</th>\n",
       "      <td>0</td>\n",
       "      <td>10862</td>\n",
       "      <td>0.297011</td>\n",
       "    </tr>\n",
       "    <tr>\n",
       "      <th>...</th>\n",
       "      <td>...</td>\n",
       "      <td>...</td>\n",
       "      <td>...</td>\n",
       "    </tr>\n",
       "    <tr>\n",
       "      <th>490686</th>\n",
       "      <td>25974</td>\n",
       "      <td>12554</td>\n",
       "      <td>0.963016</td>\n",
       "    </tr>\n",
       "    <tr>\n",
       "      <th>490687</th>\n",
       "      <td>25974</td>\n",
       "      <td>13003</td>\n",
       "      <td>0.104613</td>\n",
       "    </tr>\n",
       "    <tr>\n",
       "      <th>490688</th>\n",
       "      <td>25974</td>\n",
       "      <td>16236</td>\n",
       "      <td>0.118760</td>\n",
       "    </tr>\n",
       "    <tr>\n",
       "      <th>490689</th>\n",
       "      <td>25974</td>\n",
       "      <td>18797</td>\n",
       "      <td>0.363301</td>\n",
       "    </tr>\n",
       "    <tr>\n",
       "      <th>490690</th>\n",
       "      <td>25974</td>\n",
       "      <td>19629</td>\n",
       "      <td>0.129141</td>\n",
       "    </tr>\n",
       "  </tbody>\n",
       "</table>\n",
       "<p>490691 rows × 3 columns</p>\n",
       "</div>"
      ],
      "text/plain": [
       "          row    col      data\n",
       "0           0   1185  1.015524\n",
       "1           0   2507  0.459024\n",
       "2           0   3534  0.227742\n",
       "3           0   8766  0.501549\n",
       "4           0  10862  0.297011\n",
       "...       ...    ...       ...\n",
       "490686  25974  12554  0.963016\n",
       "490687  25974  13003  0.104613\n",
       "490688  25974  16236  0.118760\n",
       "490689  25974  18797  0.363301\n",
       "490690  25974  19629  0.129141\n",
       "\n",
       "[490691 rows x 3 columns]"
      ]
     },
     "execution_count": 4,
     "metadata": {},
     "output_type": "execute_result"
    }
   ],
   "source": [
    "ICM_df = pd.read_csv('../../data_ICM_title_abstract.csv')\n",
    "ICM_df"
   ]
  },
  {
   "cell_type": "code",
   "execution_count": 5,
   "metadata": {},
   "outputs": [
    {
     "data": {
      "text/plain": [
       "(25975, 20000)"
      ]
     },
     "execution_count": 5,
     "metadata": {},
     "output_type": "execute_result"
    }
   ],
   "source": [
    "items = ICM_df.row\n",
    "features = ICM_df.col\n",
    "data = ICM_df.data\n",
    "ICM_all = sps.coo_matrix((data, (items, features)))\n",
    "ICM_all = ICM_all.tocsr() #fast row access -> fast access to users \n",
    "ICM_all.shape"
   ]
  },
  {
   "cell_type": "code",
   "execution_count": 6,
   "metadata": {},
   "outputs": [],
   "source": [
    "grouped_users = dataset.groupby(['row']).count()\n",
    "sorted_users = grouped_users.sort_values(by=['col'], ascending=True)\n",
    "sorted_users = sorted_users.index.to_numpy()\n",
    "block_size = int(len(sorted_users)*0.75)\n",
    "\n",
    "start_pos_group_0 = 0*block_size\n",
    "end_pos_group_0 = min((0+1)*block_size, len(sorted_users))\n",
    "users_in_group_0 = sorted_users[start_pos_group_0:end_pos_group_0]\n",
    "users_not_in_group_0_flag = np.isin(sorted_users, users_in_group_0, invert = True)\n",
    "users_not_in_group_0 = sorted_users[users_not_in_group_0_flag]\n",
    "\n",
    "\n",
    "start_pos_group_1 = 1*block_size\n",
    "end_pos_group_1 = min((1+1)*block_size, len(sorted_users))\n",
    "users_in_group_1 = sorted_users[start_pos_group_1:end_pos_group_1]\n",
    "users_not_in_group_1_flag = np.isin(sorted_users, users_in_group_1, invert = True)\n",
    "users_not_in_group_1 = sorted_users[users_not_in_group_1_flag]"
   ]
  },
  {
   "cell_type": "code",
   "execution_count": 7,
   "metadata": {},
   "outputs": [
    {
     "name": "stdout",
     "output_type": "stream",
     "text": [
      "Warning: 71 (0.89 %) of 7947 users have no train items\n",
      "Warning: 2411 (30.34 %) of 7947 users have no sampled items\n",
      "Warning: 57 (0.72 %) of 7947 users have no train items\n",
      "Warning: 2320 (29.19 %) of 7947 users have no sampled items\n",
      "Warning: 71 (0.89 %) of 7947 users have no train items\n",
      "Warning: 2289 (28.80 %) of 7947 users have no sampled items\n",
      "Warning: 74 (0.93 %) of 7947 users have no train items\n",
      "Warning: 2273 (28.60 %) of 7947 users have no sampled items\n",
      "Warning: 64 (0.81 %) of 7947 users have no train items\n",
      "Warning: 2358 (29.67 %) of 7947 users have no sampled items\n",
      "EvaluatorHoldout: Ignoring 5960 Users\n",
      "EvaluatorHoldout: Ignoring 5960 Users\n",
      "EvaluatorHoldout: Ignoring 5960 Users\n",
      "EvaluatorHoldout: Ignoring 5960 Users\n",
      "EvaluatorHoldout: Ignoring 5960 Users\n"
     ]
    }
   ],
   "source": [
    "from Data_manager.split_functions.split_train_validation_random_holdout import split_train_in_two_percentage_global_sample\n",
    "from Base.Evaluation.Evaluator import EvaluatorHoldout\n",
    "\n",
    "URM_train_1, URM_validation_1 = split_train_in_two_percentage_global_sample(URM_all, train_percentage = 0.8, seed = 1)\n",
    "\n",
    "URM_train_2, URM_validation_2 = split_train_in_two_percentage_global_sample(URM_all, train_percentage = 0.8, seed = 2)\n",
    "\n",
    "URM_train_3, URM_validation_3 = split_train_in_two_percentage_global_sample(URM_all, train_percentage = 0.8, seed = 3)\n",
    "\n",
    "URM_train_4, URM_validation_4 = split_train_in_two_percentage_global_sample(URM_all, train_percentage = 0.8, seed = 4)\n",
    "\n",
    "URM_train_5, URM_validation_5 = split_train_in_two_percentage_global_sample(URM_all, train_percentage = 0.8, seed = 5)\n",
    "\n",
    "URM_train_vector = [URM_train_1,URM_train_2,URM_train_3,URM_train_4,URM_train_5]\n",
    "\n",
    "evaluator_validation_1 = EvaluatorHoldout(URM_validation_1, cutoff_list=[10], ignore_users = users_not_in_group_1)\n",
    "evaluator_validation_2 = EvaluatorHoldout(URM_validation_2, cutoff_list=[10], ignore_users = users_not_in_group_1)\n",
    "evaluator_validation_3 = EvaluatorHoldout(URM_validation_3, cutoff_list=[10], ignore_users = users_not_in_group_1)\n",
    "evaluator_validation_4 = EvaluatorHoldout(URM_validation_4, cutoff_list=[10], ignore_users = users_not_in_group_1)\n",
    "evaluator_validation_5 = EvaluatorHoldout(URM_validation_5, cutoff_list=[10], ignore_users = users_not_in_group_1)\n",
    "\n",
    "Evaluator_vector = [evaluator_validation_1, evaluator_validation_2, evaluator_validation_3, evaluator_validation_4, evaluator_validation_5]\n"
   ]
  },
  {
   "cell_type": "code",
   "execution_count": 9,
   "metadata": {},
   "outputs": [
    {
     "name": "stdout",
     "output_type": "stream",
     "text": [
      "RP3betaRecommender: URM Detected 73 (0.26 %) cold users.\n",
      "RP3betaRecommender: URM Detected 1 (0.00 %) cold items.\n",
      "EvaluatorHoldout: Processed 1951 ( 100.00% ) in 1.67 sec. Users per second: 1166\n",
      "{10: {'ROC_AUC': 0.3111641974404665, 'PRECISION': 0.08200922603792823, 'PRECISION_RECALL_MIN_DEN': 0.1506712064631076, 'RECALL': 0.13602680592253433, 'MAP': 0.07112665410906843, 'MRR': 0.24411982459137732, 'NDCG': 0.12154824925020437, 'F1': 0.10232669319666743, 'HIT_RATE': 0.8200922603792927, 'ARHR': 0.3048654332739419, 'NOVELTY': 0.005352389270362488, 'AVERAGE_POPULARITY': 0.1325255443139527, 'DIVERSITY_MEAN_INTER_LIST': 0.9892108451944434, 'DIVERSITY_HERFINDAHL': 0.9988703817595677, 'COVERAGE_ITEM': 0.26398460057747836, 'COVERAGE_ITEM_CORRECT': 0.04192492781520693, 'COVERAGE_USER': 0.9818822345244087, 'COVERAGE_USER_CORRECT': 0.5027679919476598, 'DIVERSITY_GINI': 0.1182689039774443, 'SHANNON_ENTROPY': 11.49042985068578}}\n",
      "RP3betaRecommender: Saving model in file 'RP3_saved_group_1/RP3_fold_number1'\n",
      "RP3betaRecommender: Saving complete\n",
      "RP3betaRecommender: URM Detected 59 (0.21 %) cold users.\n",
      "RP3betaRecommender: URM Detected 1 (0.00 %) cold items.\n",
      "EvaluatorHoldout: Processed 1947 ( 100.00% ) in 1.68 sec. Users per second: 1159\n",
      "{10: {'ROC_AUC': 0.3101520654486758, 'PRECISION': 0.08140729327169906, 'PRECISION_RECALL_MIN_DEN': 0.15265304375473837, 'RECALL': 0.13910193759686526, 'MAP': 0.07131542648256398, 'MRR': 0.2409800180986617, 'NDCG': 0.1231369685963309, 'F1': 0.10270692237241776, 'HIT_RATE': 0.8140729327170005, 'ARHR': 0.302858895655506, 'NOVELTY': 0.005355003599992022, 'AVERAGE_POPULARITY': 0.13088949554498538, 'DIVERSITY_MEAN_INTER_LIST': 0.9895629347281585, 'DIVERSITY_HERFINDAHL': 0.9989054684633281, 'COVERAGE_ITEM': 0.2626756496631376, 'COVERAGE_ITEM_CORRECT': 0.0410009624639076, 'COVERAGE_USER': 0.9798691494715652, 'COVERAGE_USER_CORRECT': 0.4957221942627076, 'DIVERSITY_GINI': 0.11773746664180076, 'SHANNON_ENTROPY': 11.500548599391944}}\n",
      "RP3betaRecommender: Saving model in file 'RP3_saved_group_1/RP3_fold_number2'\n",
      "RP3betaRecommender: Saving complete\n",
      "RP3betaRecommender: URM Detected 73 (0.26 %) cold users.\n",
      "RP3betaRecommender: URM Detected 4 (0.02 %) cold items.\n",
      "EvaluatorHoldout: Processed 1961 ( 100.00% ) in 1.69 sec. Users per second: 1158\n",
      "{10: {'ROC_AUC': 0.29772951522951585, 'PRECISION': 0.0790922998470159, 'PRECISION_RECALL_MIN_DEN': 0.1497041515909439, 'RECALL': 0.13644974161749693, 'MAP': 0.0682411906676282, 'MRR': 0.23345616505993844, 'NDCG': 0.11855700081010093, 'F1': 0.10013938630933626, 'HIT_RATE': 0.7909229984701683, 'ARHR': 0.2927913762819426, 'NOVELTY': 0.005353410733685844, 'AVERAGE_POPULARITY': 0.13157741266346898, 'DIVERSITY_MEAN_INTER_LIST': 0.9892299847016828, 'DIVERSITY_HERFINDAHL': 0.9988725532899183, 'COVERAGE_ITEM': 0.2659095283926853, 'COVERAGE_ITEM_CORRECT': 0.04076997112608277, 'COVERAGE_USER': 0.9869149471565174, 'COVERAGE_USER_CORRECT': 0.482637141419225, 'DIVERSITY_GINI': 0.11931736069241808, 'SHANNON_ENTROPY': 11.496954609543756}}\n",
      "RP3betaRecommender: Saving model in file 'RP3_saved_group_1/RP3_fold_number3'\n",
      "RP3betaRecommender: Saving complete\n",
      "RP3betaRecommender: URM Detected 76 (0.27 %) cold users.\n",
      "EvaluatorHoldout: Processed 1957 ( 100.00% ) in 1.68 sec. Users per second: 1167\n",
      "{10: {'ROC_AUC': 0.29876929378462347, 'PRECISION': 0.07915176290240084, 'PRECISION_RECALL_MIN_DEN': 0.1471080614156746, 'RECALL': 0.13364922690901063, 'MAP': 0.0708592042629046, 'MRR': 0.2344076209942327, 'NDCG': 0.11968582318015454, 'F1': 0.0994222059753211, 'HIT_RATE': 0.7915176290240163, 'ARHR': 0.2976888012912542, 'NOVELTY': 0.005352673966474537, 'AVERAGE_POPULARITY': 0.13060144457180775, 'DIVERSITY_MEAN_INTER_LIST': 0.9891447303110955, 'DIVERSITY_HERFINDAHL': 0.9988639291000768, 'COVERAGE_ITEM': 0.2643310875842156, 'COVERAGE_ITEM_CORRECT': 0.04003849855630414, 'COVERAGE_USER': 0.9849018621036739, 'COVERAGE_USER_CORRECT': 0.4760946149974836, 'DIVERSITY_GINI': 0.11817003282303432, 'SHANNON_ENTROPY': 11.485296495480025}}\n",
      "RP3betaRecommender: Saving model in file 'RP3_saved_group_1/RP3_fold_number4'\n",
      "RP3betaRecommender: Saving complete\n",
      "RP3betaRecommender: URM Detected 66 (0.24 %) cold users.\n",
      "RP3betaRecommender: URM Detected 3 (0.01 %) cold items.\n",
      "EvaluatorHoldout: Processed 1950 ( 100.00% ) in 1.68 sec. Users per second: 1163\n",
      "{10: {'ROC_AUC': 0.3013202686202687, 'PRECISION': 0.08174358974358872, 'PRECISION_RECALL_MIN_DEN': 0.15038278388278356, 'RECALL': 0.13655194366077322, 'MAP': 0.06903152734978128, 'MRR': 0.23952319902319852, 'NDCG': 0.12021669009127296, 'F1': 0.1022672877197115, 'HIT_RATE': 0.8174358974358974, 'ARHR': 0.3016088726088729, 'NOVELTY': 0.005357215214218548, 'AVERAGE_POPULARITY': 0.13087667224080257, 'DIVERSITY_MEAN_INTER_LIST': 0.9897343279262212, 'DIVERSITY_HERFINDAHL': 0.9989226771860618, 'COVERAGE_ITEM': 0.2646005774783446, 'COVERAGE_ITEM_CORRECT': 0.04130895091434071, 'COVERAGE_USER': 0.9813789632611978, 'COVERAGE_USER_CORRECT': 0.49320583794665324, 'DIVERSITY_GINI': 0.11973441756888016, 'SHANNON_ENTROPY': 11.526821312690728}}\n",
      "RP3betaRecommender: Saving model in file 'RP3_saved_group_1/RP3_fold_number5'\n",
      "RP3betaRecommender: Saving complete\n"
     ]
    }
   ],
   "source": [
    "from GraphBased.RP3betaRecommender import RP3betaRecommender\n",
    "i=1\n",
    "for URM_train, evaluator in zip(URM_train_vector,Evaluator_vector):\n",
    "    \n",
    "    URM_train_ICM_all_RP3 = sps.vstack([URM_train, ICM_all.T])\n",
    "    recommender = RP3betaRecommender(URM_train_ICM_all_RP3)\n",
    "    recommender.fit(topK = 396, alpha = 0.41137245632718406, beta = 0.29679690096781264, implicit = False)\n",
    "\n",
    "    #recommender.URM_train = URM_train.tocsr()\n",
    "    \n",
    "    result_dict, _ = evaluator.evaluateRecommender(recommender)\n",
    "    print(result_dict)\n",
    "    \n",
    "    filename = 'RP3_fold_number' + str(i)\n",
    "    recommender.save_model('RP3_saved_group_1/', file_name = filename)\n",
    "    i = i+1"
   ]
  },
  {
   "cell_type": "code",
   "execution_count": null,
   "metadata": {},
   "outputs": [],
   "source": []
  }
 ],
 "metadata": {
  "kernelspec": {
   "display_name": "Python 3",
   "language": "python",
   "name": "python3"
  },
  "language_info": {
   "codemirror_mode": {
    "name": "ipython",
    "version": 3
   },
   "file_extension": ".py",
   "mimetype": "text/x-python",
   "name": "python",
   "nbconvert_exporter": "python",
   "pygments_lexer": "ipython3",
   "version": "3.8.5"
  }
 },
 "nbformat": 4,
 "nbformat_minor": 4
}
