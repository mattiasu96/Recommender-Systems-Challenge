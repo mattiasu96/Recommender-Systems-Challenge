{
 "cells": [
  {
   "cell_type": "markdown",
   "metadata": {},
   "source": [
    "# Data loading \n",
    "Next cells are used to load the data we need."
   ]
  },
  {
   "cell_type": "code",
   "execution_count": 1,
   "metadata": {},
   "outputs": [],
   "source": [
    "import os\n",
    "import pandas as pd\n",
    "import numpy as np \n",
    "import scipy.sparse as sps\n",
    "import sys\n",
    "import matplotlib.pyplot as plt\n",
    "sys.path.append('../../../')\n"
   ]
  },
  {
   "cell_type": "code",
   "execution_count": 2,
   "metadata": {},
   "outputs": [
    {
     "data": {
      "text/html": [
       "<div>\n",
       "<style scoped>\n",
       "    .dataframe tbody tr th:only-of-type {\n",
       "        vertical-align: middle;\n",
       "    }\n",
       "\n",
       "    .dataframe tbody tr th {\n",
       "        vertical-align: top;\n",
       "    }\n",
       "\n",
       "    .dataframe thead th {\n",
       "        text-align: right;\n",
       "    }\n",
       "</style>\n",
       "<table border=\"1\" class=\"dataframe\">\n",
       "  <thead>\n",
       "    <tr style=\"text-align: right;\">\n",
       "      <th></th>\n",
       "      <th>row</th>\n",
       "      <th>col</th>\n",
       "      <th>data</th>\n",
       "    </tr>\n",
       "  </thead>\n",
       "  <tbody>\n",
       "    <tr>\n",
       "      <th>0</th>\n",
       "      <td>0</td>\n",
       "      <td>10080</td>\n",
       "      <td>1.0</td>\n",
       "    </tr>\n",
       "    <tr>\n",
       "      <th>1</th>\n",
       "      <td>0</td>\n",
       "      <td>19467</td>\n",
       "      <td>1.0</td>\n",
       "    </tr>\n",
       "    <tr>\n",
       "      <th>2</th>\n",
       "      <td>1</td>\n",
       "      <td>2665</td>\n",
       "      <td>1.0</td>\n",
       "    </tr>\n",
       "    <tr>\n",
       "      <th>3</th>\n",
       "      <td>1</td>\n",
       "      <td>7494</td>\n",
       "      <td>1.0</td>\n",
       "    </tr>\n",
       "    <tr>\n",
       "      <th>4</th>\n",
       "      <td>1</td>\n",
       "      <td>17068</td>\n",
       "      <td>1.0</td>\n",
       "    </tr>\n",
       "    <tr>\n",
       "      <th>...</th>\n",
       "      <td>...</td>\n",
       "      <td>...</td>\n",
       "      <td>...</td>\n",
       "    </tr>\n",
       "    <tr>\n",
       "      <th>113263</th>\n",
       "      <td>7945</td>\n",
       "      <td>2476</td>\n",
       "      <td>1.0</td>\n",
       "    </tr>\n",
       "    <tr>\n",
       "      <th>113264</th>\n",
       "      <td>7945</td>\n",
       "      <td>12319</td>\n",
       "      <td>1.0</td>\n",
       "    </tr>\n",
       "    <tr>\n",
       "      <th>113265</th>\n",
       "      <td>7945</td>\n",
       "      <td>21384</td>\n",
       "      <td>1.0</td>\n",
       "    </tr>\n",
       "    <tr>\n",
       "      <th>113266</th>\n",
       "      <td>7946</td>\n",
       "      <td>8699</td>\n",
       "      <td>1.0</td>\n",
       "    </tr>\n",
       "    <tr>\n",
       "      <th>113267</th>\n",
       "      <td>7946</td>\n",
       "      <td>19178</td>\n",
       "      <td>1.0</td>\n",
       "    </tr>\n",
       "  </tbody>\n",
       "</table>\n",
       "<p>113268 rows × 3 columns</p>\n",
       "</div>"
      ],
      "text/plain": [
       "         row    col  data\n",
       "0          0  10080   1.0\n",
       "1          0  19467   1.0\n",
       "2          1   2665   1.0\n",
       "3          1   7494   1.0\n",
       "4          1  17068   1.0\n",
       "...      ...    ...   ...\n",
       "113263  7945   2476   1.0\n",
       "113264  7945  12319   1.0\n",
       "113265  7945  21384   1.0\n",
       "113266  7946   8699   1.0\n",
       "113267  7946  19178   1.0\n",
       "\n",
       "[113268 rows x 3 columns]"
      ]
     },
     "execution_count": 2,
     "metadata": {},
     "output_type": "execute_result"
    }
   ],
   "source": [
    "#data which contains users (row), items(col) and implicit interaction (data)\n",
    "dataset = pd.read_csv('../../data_train.csv')\n",
    "dataset"
   ]
  },
  {
   "cell_type": "markdown",
   "metadata": {},
   "source": [
    "# Data pre-processing\n",
    "Pre-processing of data to check for missing users, items ecc..."
   ]
  },
  {
   "cell_type": "code",
   "execution_count": 3,
   "metadata": {},
   "outputs": [
    {
     "data": {
      "text/plain": [
       "(7947, 25975)"
      ]
     },
     "execution_count": 3,
     "metadata": {},
     "output_type": "execute_result"
    }
   ],
   "source": [
    "users = dataset.row\n",
    "items = dataset.col\n",
    "data = dataset.data\n",
    "URM_all = sps.coo_matrix((data, (users, items)))\n",
    "URM_all = URM_all.tocsr() #fast row access -> fast access to users \n",
    "URM_all.shape"
   ]
  },
  {
   "cell_type": "code",
   "execution_count": 4,
   "metadata": {},
   "outputs": [
    {
     "data": {
      "text/html": [
       "<div>\n",
       "<style scoped>\n",
       "    .dataframe tbody tr th:only-of-type {\n",
       "        vertical-align: middle;\n",
       "    }\n",
       "\n",
       "    .dataframe tbody tr th {\n",
       "        vertical-align: top;\n",
       "    }\n",
       "\n",
       "    .dataframe thead th {\n",
       "        text-align: right;\n",
       "    }\n",
       "</style>\n",
       "<table border=\"1\" class=\"dataframe\">\n",
       "  <thead>\n",
       "    <tr style=\"text-align: right;\">\n",
       "      <th></th>\n",
       "      <th>row</th>\n",
       "      <th>col</th>\n",
       "      <th>data</th>\n",
       "    </tr>\n",
       "  </thead>\n",
       "  <tbody>\n",
       "    <tr>\n",
       "      <th>0</th>\n",
       "      <td>0</td>\n",
       "      <td>1185</td>\n",
       "      <td>1.015524</td>\n",
       "    </tr>\n",
       "    <tr>\n",
       "      <th>1</th>\n",
       "      <td>0</td>\n",
       "      <td>2507</td>\n",
       "      <td>0.459024</td>\n",
       "    </tr>\n",
       "    <tr>\n",
       "      <th>2</th>\n",
       "      <td>0</td>\n",
       "      <td>3534</td>\n",
       "      <td>0.227742</td>\n",
       "    </tr>\n",
       "    <tr>\n",
       "      <th>3</th>\n",
       "      <td>0</td>\n",
       "      <td>8766</td>\n",
       "      <td>0.501549</td>\n",
       "    </tr>\n",
       "    <tr>\n",
       "      <th>4</th>\n",
       "      <td>0</td>\n",
       "      <td>10862</td>\n",
       "      <td>0.297011</td>\n",
       "    </tr>\n",
       "    <tr>\n",
       "      <th>...</th>\n",
       "      <td>...</td>\n",
       "      <td>...</td>\n",
       "      <td>...</td>\n",
       "    </tr>\n",
       "    <tr>\n",
       "      <th>490686</th>\n",
       "      <td>25974</td>\n",
       "      <td>12554</td>\n",
       "      <td>0.963016</td>\n",
       "    </tr>\n",
       "    <tr>\n",
       "      <th>490687</th>\n",
       "      <td>25974</td>\n",
       "      <td>13003</td>\n",
       "      <td>0.104613</td>\n",
       "    </tr>\n",
       "    <tr>\n",
       "      <th>490688</th>\n",
       "      <td>25974</td>\n",
       "      <td>16236</td>\n",
       "      <td>0.118760</td>\n",
       "    </tr>\n",
       "    <tr>\n",
       "      <th>490689</th>\n",
       "      <td>25974</td>\n",
       "      <td>18797</td>\n",
       "      <td>0.363301</td>\n",
       "    </tr>\n",
       "    <tr>\n",
       "      <th>490690</th>\n",
       "      <td>25974</td>\n",
       "      <td>19629</td>\n",
       "      <td>0.129141</td>\n",
       "    </tr>\n",
       "  </tbody>\n",
       "</table>\n",
       "<p>490691 rows × 3 columns</p>\n",
       "</div>"
      ],
      "text/plain": [
       "          row    col      data\n",
       "0           0   1185  1.015524\n",
       "1           0   2507  0.459024\n",
       "2           0   3534  0.227742\n",
       "3           0   8766  0.501549\n",
       "4           0  10862  0.297011\n",
       "...       ...    ...       ...\n",
       "490686  25974  12554  0.963016\n",
       "490687  25974  13003  0.104613\n",
       "490688  25974  16236  0.118760\n",
       "490689  25974  18797  0.363301\n",
       "490690  25974  19629  0.129141\n",
       "\n",
       "[490691 rows x 3 columns]"
      ]
     },
     "execution_count": 4,
     "metadata": {},
     "output_type": "execute_result"
    }
   ],
   "source": [
    "ICM_df = pd.read_csv('../../data_ICM_title_abstract.csv')\n",
    "ICM_df"
   ]
  },
  {
   "cell_type": "code",
   "execution_count": 5,
   "metadata": {},
   "outputs": [
    {
     "data": {
      "text/plain": [
       "(25975, 20000)"
      ]
     },
     "execution_count": 5,
     "metadata": {},
     "output_type": "execute_result"
    }
   ],
   "source": [
    "items = ICM_df.row\n",
    "features = ICM_df.col\n",
    "data = ICM_df.data\n",
    "ICM_all = sps.coo_matrix((data, (items, features)))\n",
    "ICM_all = ICM_all.tocsr() #fast row access -> fast access to users \n",
    "ICM_all.shape"
   ]
  },
  {
   "cell_type": "code",
   "execution_count": 6,
   "metadata": {},
   "outputs": [
    {
     "name": "stdout",
     "output_type": "stream",
     "text": [
      "Warning: 71 (0.89 %) of 7947 users have no train items\n",
      "Warning: 2411 (30.34 %) of 7947 users have no sampled items\n",
      "Warning: 57 (0.72 %) of 7947 users have no train items\n",
      "Warning: 2320 (29.19 %) of 7947 users have no sampled items\n",
      "Warning: 71 (0.89 %) of 7947 users have no train items\n",
      "Warning: 2289 (28.80 %) of 7947 users have no sampled items\n",
      "Warning: 74 (0.93 %) of 7947 users have no train items\n",
      "Warning: 2273 (28.60 %) of 7947 users have no sampled items\n",
      "Warning: 64 (0.81 %) of 7947 users have no train items\n",
      "Warning: 2358 (29.67 %) of 7947 users have no sampled items\n"
     ]
    }
   ],
   "source": [
    "from Data_manager.split_functions.split_train_validation_random_holdout import split_train_in_two_percentage_global_sample\n",
    "from Base.Evaluation.Evaluator import EvaluatorHoldout\n",
    "\n",
    "URM_train_1, URM_validation_1 = split_train_in_two_percentage_global_sample(URM_all, train_percentage = 0.8, seed=1)\n",
    "\n",
    "URM_train_2, URM_validation_2 = split_train_in_two_percentage_global_sample(URM_all, train_percentage = 0.8, seed=2)\n",
    "\n",
    "URM_train_3, URM_validation_3 = split_train_in_two_percentage_global_sample(URM_all, train_percentage = 0.8, seed=3)\n",
    "\n",
    "URM_train_4, URM_validation_4 = split_train_in_two_percentage_global_sample(URM_all, train_percentage = 0.8, seed=4)\n",
    "\n",
    "URM_train_5, URM_validation_5 = split_train_in_two_percentage_global_sample(URM_all, train_percentage = 0.8, seed=5)\n",
    "\n",
    "training_list = [URM_train_1,URM_train_2,URM_train_3,URM_train_4,URM_train_5]\n",
    "\n",
    "evaluator_validation_1 = EvaluatorHoldout(URM_validation_1, cutoff_list=[10])\n",
    "evaluator_validation_2 = EvaluatorHoldout(URM_validation_2, cutoff_list=[10])\n",
    "evaluator_validation_3 = EvaluatorHoldout(URM_validation_3, cutoff_list=[10])\n",
    "evaluator_validation_4 = EvaluatorHoldout(URM_validation_4, cutoff_list=[10])\n",
    "evaluator_validation_5 = EvaluatorHoldout(URM_validation_5, cutoff_list=[10])\n",
    "\n",
    "evaluator_list = [evaluator_validation_1, evaluator_validation_2, evaluator_validation_3, evaluator_validation_4, evaluator_validation_5]\n"
   ]
  },
  {
   "cell_type": "code",
   "execution_count": 7,
   "metadata": {},
   "outputs": [
    {
     "name": "stdout",
     "output_type": "stream",
     "text": [
      "RP3betaRecommender: URM Detected 73 (0.26 %) cold users.\n",
      "RP3betaRecommender: URM Detected 1 (0.00 %) cold items.\n",
      "EvaluatorHoldout: Processed 5536 ( 100.00% ) in 4.04 sec. Users per second: 1371\n",
      "{10: {'ROC_AUC': 0.21717642530278095, 'PRECISION': 0.04694725433525904, 'PRECISION_RECALL_MIN_DEN': 0.17026296850628583, 'RECALL': 0.164871597859171, 'MAP': 0.08042878799018792, 'MRR': 0.16274894772456214, 'NDCG': 0.11881325441490687, 'F1': 0.07308385214220878, 'HIT_RATE': 0.46947254335260113, 'ARHR': 0.18818075339480697, 'NOVELTY': 0.005431956478617392, 'AVERAGE_POPULARITY': 0.11590562366486566, 'DIVERSITY_MEAN_INTER_LIST': 0.994106996464955, 'DIVERSITY_HERFINDAHL': 0.9993927425114437, 'COVERAGE_ITEM': 0.5692396535129932, 'COVERAGE_ITEM_CORRECT': 0.06652550529355149, 'COVERAGE_USER': 0.6966150748710205, 'COVERAGE_USER_CORRECT': 0.23669309173272934, 'DIVERSITY_GINI': 0.2464493083099384, 'SHANNON_ENTROPY': 12.604826788827529}}\n",
      "RP3betaRecommender: Saving model in file 'RP3_saved_2/RP3_fold_number1'\n",
      "RP3betaRecommender: Saving complete\n",
      "RP3betaRecommender: URM Detected 59 (0.21 %) cold users.\n",
      "RP3betaRecommender: URM Detected 1 (0.00 %) cold items.\n",
      "EvaluatorHoldout: Processed 5627 ( 100.00% ) in 4.08 sec. Users per second: 1378\n",
      "{10: {'ROC_AUC': 0.20541177598934884, 'PRECISION': 0.04521059178958477, 'PRECISION_RECALL_MIN_DEN': 0.16171216724353446, 'RECALL': 0.15700192225259682, 'MAP': 0.0736749512941574, 'MRR': 0.1515116318430698, 'NDCG': 0.11138340912961887, 'F1': 0.07020485206629302, 'HIT_RATE': 0.45210591789585924, 'ARHR': 0.17747192532602202, 'NOVELTY': 0.005437606208744662, 'AVERAGE_POPULARITY': 0.11424947458295034, 'DIVERSITY_MEAN_INTER_LIST': 0.9943975048947323, 'DIVERSITY_HERFINDAHL': 0.9994220785949487, 'COVERAGE_ITEM': 0.5694706448508181, 'COVERAGE_ITEM_CORRECT': 0.06436958614051973, 'COVERAGE_USER': 0.7080659368315088, 'COVERAGE_USER_CORRECT': 0.23002390839310433, 'DIVERSITY_GINI': 0.24752006185365352, 'SHANNON_ENTROPY': 12.631883210636236}}\n",
      "RP3betaRecommender: Saving model in file 'RP3_saved_2/RP3_fold_number2'\n",
      "RP3betaRecommender: Saving complete\n",
      "RP3betaRecommender: URM Detected 73 (0.26 %) cold users.\n",
      "RP3betaRecommender: URM Detected 4 (0.02 %) cold items.\n",
      "EvaluatorHoldout: Processed 5658 ( 100.00% ) in 4.12 sec. Users per second: 1373\n",
      "{10: {'ROC_AUC': 0.19971856116076775, 'PRECISION': 0.044574054436195366, 'PRECISION_RECALL_MIN_DEN': 0.1583962446767331, 'RECALL': 0.15363679490922064, 'MAP': 0.07280930522681017, 'MRR': 0.14666092960101468, 'NDCG': 0.10911496410185202, 'F1': 0.06910030285730735, 'HIT_RATE': 0.44574054436196536, 'ARHR': 0.17256357061500294, 'NOVELTY': 0.005435811351904738, 'AVERAGE_POPULARITY': 0.11457092195524318, 'DIVERSITY_MEAN_INTER_LIST': 0.9941805536523443, 'DIVERSITY_HERFINDAHL': 0.9994004841288673, 'COVERAGE_ITEM': 0.5746294513955726, 'COVERAGE_ITEM_CORRECT': 0.06359961501443696, 'COVERAGE_USER': 0.7119667799169498, 'COVERAGE_USER_CORRECT': 0.22612306530766327, 'DIVERSITY_GINI': 0.24868264073436253, 'SHANNON_ENTROPY': 12.61708127792165}}\n",
      "RP3betaRecommender: Saving model in file 'RP3_saved_2/RP3_fold_number3'\n",
      "RP3betaRecommender: Saving complete\n",
      "RP3betaRecommender: URM Detected 76 (0.27 %) cold users.\n",
      "EvaluatorHoldout: Processed 5674 ( 100.00% ) in 4.10 sec. Users per second: 1383\n",
      "{10: {'ROC_AUC': 0.19650466343275733, 'PRECISION': 0.043796263658793445, 'PRECISION_RECALL_MIN_DEN': 0.15366836195176062, 'RECALL': 0.14883556369265985, 'MAP': 0.07196763086394868, 'MRR': 0.14778997487844903, 'NDCG': 0.10729475438993347, 'F1': 0.06767772157812839, 'HIT_RATE': 0.437962636587945, 'ARHR': 0.17442077759314328, 'NOVELTY': 0.005435442990646696, 'AVERAGE_POPULARITY': 0.11376511160437845, 'DIVERSITY_MEAN_INTER_LIST': 0.9942270683268568, 'DIVERSITY_HERFINDAHL': 0.999405184325313, 'COVERAGE_ITEM': 0.573589990375361, 'COVERAGE_ITEM_CORRECT': 0.06340712223291627, 'COVERAGE_USER': 0.7139801182836291, 'COVERAGE_USER_CORRECT': 0.2195797156159557, 'DIVERSITY_GINI': 0.2471301130003792, 'SHANNON_ENTROPY': 12.615048406456214}}\n",
      "RP3betaRecommender: Saving model in file 'RP3_saved_2/RP3_fold_number4'\n",
      "RP3betaRecommender: Saving complete\n",
      "RP3betaRecommender: URM Detected 66 (0.24 %) cold users.\n",
      "RP3betaRecommender: URM Detected 3 (0.01 %) cold items.\n",
      "EvaluatorHoldout: Processed 5589 ( 100.00% ) in 4.10 sec. Users per second: 1363\n",
      "{10: {'ROC_AUC': 0.19801496420122322, 'PRECISION': 0.0447128287707987, 'PRECISION_RECALL_MIN_DEN': 0.1517197187218665, 'RECALL': 0.14678304162011885, 'MAP': 0.06937226749841223, 'MRR': 0.14900584197417288, 'NDCG': 0.10580752815469356, 'F1': 0.06854544688634366, 'HIT_RATE': 0.44712828770799784, 'ARHR': 0.17461985987214151, 'NOVELTY': 0.005433174008893297, 'AVERAGE_POPULARITY': 0.11542101332586538, 'DIVERSITY_MEAN_INTER_LIST': 0.9941493305504869, 'DIVERSITY_HERFINDAHL': 0.9993971454484902, 'COVERAGE_ITEM': 0.5678537054860443, 'COVERAGE_ITEM_CORRECT': 0.06317613089509143, 'COVERAGE_USER': 0.7032842582106456, 'COVERAGE_USER_CORRECT': 0.2228513904618095, 'DIVERSITY_GINI': 0.2454595631801942, 'SHANNON_ENTROPY': 12.6013542723576}}\n",
      "RP3betaRecommender: Saving model in file 'RP3_saved_2/RP3_fold_number5'\n",
      "RP3betaRecommender: Saving complete\n"
     ]
    }
   ],
   "source": [
    "from GraphBased.RP3betaRecommender import RP3betaRecommender\n",
    "i=1\n",
    "for URM_train, evaluator in zip(training_list,evaluator_list):\n",
    "    \n",
    "    URM_train_ICM_all_RP3 = sps.vstack([URM_train, ICM_all.T])\n",
    "    recommender = RP3betaRecommender(URM_train_ICM_all_RP3)\n",
    "    recommender.fit(topK = 207, alpha = 0.36128728066686633, beta = 0.26052832791376884, implicit = False)\n",
    "\n",
    "    #recommender.URM_train = URM_train.tocsr()\n",
    "    \n",
    "    result_dict, _ = evaluator.evaluateRecommender(recommender)\n",
    "    print(result_dict)\n",
    "    \n",
    "    filename = 'RP3_fold_number' + str(i)\n",
    "    recommender.save_model('RP3_saved_2/', file_name = filename)\n",
    "    i = i+1"
   ]
  },
  {
   "cell_type": "code",
   "execution_count": null,
   "metadata": {},
   "outputs": [],
   "source": []
  }
 ],
 "metadata": {
  "kernelspec": {
   "display_name": "Python 3",
   "language": "python",
   "name": "python3"
  },
  "language_info": {
   "codemirror_mode": {
    "name": "ipython",
    "version": 3
   },
   "file_extension": ".py",
   "mimetype": "text/x-python",
   "name": "python",
   "nbconvert_exporter": "python",
   "pygments_lexer": "ipython3",
   "version": "3.8.5"
  }
 },
 "nbformat": 4,
 "nbformat_minor": 4
}
