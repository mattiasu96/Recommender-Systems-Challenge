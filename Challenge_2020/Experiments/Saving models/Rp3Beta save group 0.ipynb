{
 "cells": [
  {
   "cell_type": "markdown",
   "metadata": {},
   "source": [
    "# Data loading \n",
    "Next cells are used to load the data we need."
   ]
  },
  {
   "cell_type": "code",
   "execution_count": 1,
   "metadata": {},
   "outputs": [],
   "source": [
    "import os\n",
    "import pandas as pd\n",
    "import numpy as np \n",
    "import scipy.sparse as sps\n",
    "import sys\n",
    "import matplotlib.pyplot as plt\n",
    "sys.path.append('../../../')\n"
   ]
  },
  {
   "cell_type": "code",
   "execution_count": 2,
   "metadata": {},
   "outputs": [
    {
     "data": {
      "text/html": [
       "<div>\n",
       "<style scoped>\n",
       "    .dataframe tbody tr th:only-of-type {\n",
       "        vertical-align: middle;\n",
       "    }\n",
       "\n",
       "    .dataframe tbody tr th {\n",
       "        vertical-align: top;\n",
       "    }\n",
       "\n",
       "    .dataframe thead th {\n",
       "        text-align: right;\n",
       "    }\n",
       "</style>\n",
       "<table border=\"1\" class=\"dataframe\">\n",
       "  <thead>\n",
       "    <tr style=\"text-align: right;\">\n",
       "      <th></th>\n",
       "      <th>row</th>\n",
       "      <th>col</th>\n",
       "      <th>data</th>\n",
       "    </tr>\n",
       "  </thead>\n",
       "  <tbody>\n",
       "    <tr>\n",
       "      <th>0</th>\n",
       "      <td>0</td>\n",
       "      <td>10080</td>\n",
       "      <td>1.0</td>\n",
       "    </tr>\n",
       "    <tr>\n",
       "      <th>1</th>\n",
       "      <td>0</td>\n",
       "      <td>19467</td>\n",
       "      <td>1.0</td>\n",
       "    </tr>\n",
       "    <tr>\n",
       "      <th>2</th>\n",
       "      <td>1</td>\n",
       "      <td>2665</td>\n",
       "      <td>1.0</td>\n",
       "    </tr>\n",
       "    <tr>\n",
       "      <th>3</th>\n",
       "      <td>1</td>\n",
       "      <td>7494</td>\n",
       "      <td>1.0</td>\n",
       "    </tr>\n",
       "    <tr>\n",
       "      <th>4</th>\n",
       "      <td>1</td>\n",
       "      <td>17068</td>\n",
       "      <td>1.0</td>\n",
       "    </tr>\n",
       "    <tr>\n",
       "      <th>...</th>\n",
       "      <td>...</td>\n",
       "      <td>...</td>\n",
       "      <td>...</td>\n",
       "    </tr>\n",
       "    <tr>\n",
       "      <th>113263</th>\n",
       "      <td>7945</td>\n",
       "      <td>2476</td>\n",
       "      <td>1.0</td>\n",
       "    </tr>\n",
       "    <tr>\n",
       "      <th>113264</th>\n",
       "      <td>7945</td>\n",
       "      <td>12319</td>\n",
       "      <td>1.0</td>\n",
       "    </tr>\n",
       "    <tr>\n",
       "      <th>113265</th>\n",
       "      <td>7945</td>\n",
       "      <td>21384</td>\n",
       "      <td>1.0</td>\n",
       "    </tr>\n",
       "    <tr>\n",
       "      <th>113266</th>\n",
       "      <td>7946</td>\n",
       "      <td>8699</td>\n",
       "      <td>1.0</td>\n",
       "    </tr>\n",
       "    <tr>\n",
       "      <th>113267</th>\n",
       "      <td>7946</td>\n",
       "      <td>19178</td>\n",
       "      <td>1.0</td>\n",
       "    </tr>\n",
       "  </tbody>\n",
       "</table>\n",
       "<p>113268 rows × 3 columns</p>\n",
       "</div>"
      ],
      "text/plain": [
       "         row    col  data\n",
       "0          0  10080   1.0\n",
       "1          0  19467   1.0\n",
       "2          1   2665   1.0\n",
       "3          1   7494   1.0\n",
       "4          1  17068   1.0\n",
       "...      ...    ...   ...\n",
       "113263  7945   2476   1.0\n",
       "113264  7945  12319   1.0\n",
       "113265  7945  21384   1.0\n",
       "113266  7946   8699   1.0\n",
       "113267  7946  19178   1.0\n",
       "\n",
       "[113268 rows x 3 columns]"
      ]
     },
     "execution_count": 2,
     "metadata": {},
     "output_type": "execute_result"
    }
   ],
   "source": [
    "#data which contains users (row), items(col) and implicit interaction (data)\n",
    "dataset = pd.read_csv('../../data_train.csv')\n",
    "dataset"
   ]
  },
  {
   "cell_type": "markdown",
   "metadata": {},
   "source": [
    "# Data pre-processing\n",
    "Pre-processing of data to check for missing users, items ecc..."
   ]
  },
  {
   "cell_type": "code",
   "execution_count": 3,
   "metadata": {},
   "outputs": [
    {
     "data": {
      "text/plain": [
       "(7947, 25975)"
      ]
     },
     "execution_count": 3,
     "metadata": {},
     "output_type": "execute_result"
    }
   ],
   "source": [
    "users = dataset.row\n",
    "items = dataset.col\n",
    "data = dataset.data\n",
    "URM_all = sps.coo_matrix((data, (users, items)))\n",
    "URM_all = URM_all.tocsr() #fast row access -> fast access to users \n",
    "URM_all.shape"
   ]
  },
  {
   "cell_type": "code",
   "execution_count": 4,
   "metadata": {},
   "outputs": [
    {
     "data": {
      "text/html": [
       "<div>\n",
       "<style scoped>\n",
       "    .dataframe tbody tr th:only-of-type {\n",
       "        vertical-align: middle;\n",
       "    }\n",
       "\n",
       "    .dataframe tbody tr th {\n",
       "        vertical-align: top;\n",
       "    }\n",
       "\n",
       "    .dataframe thead th {\n",
       "        text-align: right;\n",
       "    }\n",
       "</style>\n",
       "<table border=\"1\" class=\"dataframe\">\n",
       "  <thead>\n",
       "    <tr style=\"text-align: right;\">\n",
       "      <th></th>\n",
       "      <th>row</th>\n",
       "      <th>col</th>\n",
       "      <th>data</th>\n",
       "    </tr>\n",
       "  </thead>\n",
       "  <tbody>\n",
       "    <tr>\n",
       "      <th>0</th>\n",
       "      <td>0</td>\n",
       "      <td>1185</td>\n",
       "      <td>1.015524</td>\n",
       "    </tr>\n",
       "    <tr>\n",
       "      <th>1</th>\n",
       "      <td>0</td>\n",
       "      <td>2507</td>\n",
       "      <td>0.459024</td>\n",
       "    </tr>\n",
       "    <tr>\n",
       "      <th>2</th>\n",
       "      <td>0</td>\n",
       "      <td>3534</td>\n",
       "      <td>0.227742</td>\n",
       "    </tr>\n",
       "    <tr>\n",
       "      <th>3</th>\n",
       "      <td>0</td>\n",
       "      <td>8766</td>\n",
       "      <td>0.501549</td>\n",
       "    </tr>\n",
       "    <tr>\n",
       "      <th>4</th>\n",
       "      <td>0</td>\n",
       "      <td>10862</td>\n",
       "      <td>0.297011</td>\n",
       "    </tr>\n",
       "    <tr>\n",
       "      <th>...</th>\n",
       "      <td>...</td>\n",
       "      <td>...</td>\n",
       "      <td>...</td>\n",
       "    </tr>\n",
       "    <tr>\n",
       "      <th>490686</th>\n",
       "      <td>25974</td>\n",
       "      <td>12554</td>\n",
       "      <td>0.963016</td>\n",
       "    </tr>\n",
       "    <tr>\n",
       "      <th>490687</th>\n",
       "      <td>25974</td>\n",
       "      <td>13003</td>\n",
       "      <td>0.104613</td>\n",
       "    </tr>\n",
       "    <tr>\n",
       "      <th>490688</th>\n",
       "      <td>25974</td>\n",
       "      <td>16236</td>\n",
       "      <td>0.118760</td>\n",
       "    </tr>\n",
       "    <tr>\n",
       "      <th>490689</th>\n",
       "      <td>25974</td>\n",
       "      <td>18797</td>\n",
       "      <td>0.363301</td>\n",
       "    </tr>\n",
       "    <tr>\n",
       "      <th>490690</th>\n",
       "      <td>25974</td>\n",
       "      <td>19629</td>\n",
       "      <td>0.129141</td>\n",
       "    </tr>\n",
       "  </tbody>\n",
       "</table>\n",
       "<p>490691 rows × 3 columns</p>\n",
       "</div>"
      ],
      "text/plain": [
       "          row    col      data\n",
       "0           0   1185  1.015524\n",
       "1           0   2507  0.459024\n",
       "2           0   3534  0.227742\n",
       "3           0   8766  0.501549\n",
       "4           0  10862  0.297011\n",
       "...       ...    ...       ...\n",
       "490686  25974  12554  0.963016\n",
       "490687  25974  13003  0.104613\n",
       "490688  25974  16236  0.118760\n",
       "490689  25974  18797  0.363301\n",
       "490690  25974  19629  0.129141\n",
       "\n",
       "[490691 rows x 3 columns]"
      ]
     },
     "execution_count": 4,
     "metadata": {},
     "output_type": "execute_result"
    }
   ],
   "source": [
    "ICM_df = pd.read_csv('../../data_ICM_title_abstract.csv')\n",
    "ICM_df"
   ]
  },
  {
   "cell_type": "code",
   "execution_count": 5,
   "metadata": {},
   "outputs": [
    {
     "data": {
      "text/plain": [
       "(25975, 20000)"
      ]
     },
     "execution_count": 5,
     "metadata": {},
     "output_type": "execute_result"
    }
   ],
   "source": [
    "items = ICM_df.row\n",
    "features = ICM_df.col\n",
    "data = ICM_df.data\n",
    "ICM_all = sps.coo_matrix((data, (items, features)))\n",
    "ICM_all = ICM_all.tocsr() #fast row access -> fast access to users \n",
    "ICM_all.shape"
   ]
  },
  {
   "cell_type": "code",
   "execution_count": 6,
   "metadata": {},
   "outputs": [],
   "source": [
    "grouped_users = dataset.groupby(['row']).count()\n",
    "sorted_users = grouped_users.sort_values(by=['col'], ascending=True)\n",
    "sorted_users = sorted_users.index.to_numpy()\n",
    "block_size = int(len(sorted_users)*0.75)\n",
    "\n",
    "start_pos_group_0 = 0*block_size\n",
    "end_pos_group_0 = min((0+1)*block_size, len(sorted_users))\n",
    "users_in_group_0 = sorted_users[start_pos_group_0:end_pos_group_0]\n",
    "users_not_in_group_0_flag = np.isin(sorted_users, users_in_group_0, invert = True)\n",
    "users_not_in_group_0 = sorted_users[users_not_in_group_0_flag]\n",
    "\n",
    "\n",
    "start_pos_group_1 = 1*block_size\n",
    "end_pos_group_1 = min((1+1)*block_size, len(sorted_users))\n",
    "users_in_group_1 = sorted_users[start_pos_group_1:end_pos_group_1]\n",
    "users_not_in_group_1_flag = np.isin(sorted_users, users_in_group_1, invert = True)\n",
    "users_not_in_group_1 = sorted_users[users_not_in_group_1_flag]"
   ]
  },
  {
   "cell_type": "code",
   "execution_count": 7,
   "metadata": {},
   "outputs": [
    {
     "name": "stdout",
     "output_type": "stream",
     "text": [
      "Warning: 71 (0.89 %) of 7947 users have no train items\n",
      "Warning: 2411 (30.34 %) of 7947 users have no sampled items\n",
      "Warning: 57 (0.72 %) of 7947 users have no train items\n",
      "Warning: 2320 (29.19 %) of 7947 users have no sampled items\n",
      "Warning: 71 (0.89 %) of 7947 users have no train items\n",
      "Warning: 2289 (28.80 %) of 7947 users have no sampled items\n",
      "Warning: 74 (0.93 %) of 7947 users have no train items\n",
      "Warning: 2273 (28.60 %) of 7947 users have no sampled items\n",
      "Warning: 64 (0.81 %) of 7947 users have no train items\n",
      "Warning: 2358 (29.67 %) of 7947 users have no sampled items\n",
      "EvaluatorHoldout: Ignoring 1987 Users\n",
      "EvaluatorHoldout: Ignoring 1987 Users\n",
      "EvaluatorHoldout: Ignoring 1987 Users\n",
      "EvaluatorHoldout: Ignoring 1987 Users\n",
      "EvaluatorHoldout: Ignoring 1987 Users\n"
     ]
    }
   ],
   "source": [
    "from Data_manager.split_functions.split_train_validation_random_holdout import split_train_in_two_percentage_global_sample\n",
    "from Base.Evaluation.Evaluator import EvaluatorHoldout\n",
    "\n",
    "URM_train_1, URM_validation_1 = split_train_in_two_percentage_global_sample(URM_all, train_percentage = 0.8, seed = 1)\n",
    "\n",
    "URM_train_2, URM_validation_2 = split_train_in_two_percentage_global_sample(URM_all, train_percentage = 0.8, seed = 2)\n",
    "\n",
    "URM_train_3, URM_validation_3 = split_train_in_two_percentage_global_sample(URM_all, train_percentage = 0.8, seed = 3)\n",
    "\n",
    "URM_train_4, URM_validation_4 = split_train_in_two_percentage_global_sample(URM_all, train_percentage = 0.8, seed = 4)\n",
    "\n",
    "URM_train_5, URM_validation_5 = split_train_in_two_percentage_global_sample(URM_all, train_percentage = 0.8, seed = 5)\n",
    "\n",
    "URM_train_vector = [URM_train_1,URM_train_2,URM_train_3,URM_train_4,URM_train_5]\n",
    "\n",
    "evaluator_validation_1 = EvaluatorHoldout(URM_validation_1, cutoff_list=[10], ignore_users = users_not_in_group_0)\n",
    "evaluator_validation_2 = EvaluatorHoldout(URM_validation_2, cutoff_list=[10], ignore_users = users_not_in_group_0)\n",
    "evaluator_validation_3 = EvaluatorHoldout(URM_validation_3, cutoff_list=[10], ignore_users = users_not_in_group_0)\n",
    "evaluator_validation_4 = EvaluatorHoldout(URM_validation_4, cutoff_list=[10], ignore_users = users_not_in_group_0)\n",
    "evaluator_validation_5 = EvaluatorHoldout(URM_validation_5, cutoff_list=[10], ignore_users = users_not_in_group_0)\n",
    "\n",
    "Evaluator_vector = [evaluator_validation_1, evaluator_validation_2, evaluator_validation_3, evaluator_validation_4, evaluator_validation_5]\n"
   ]
  },
  {
   "cell_type": "code",
   "execution_count": 9,
   "metadata": {},
   "outputs": [
    {
     "name": "stdout",
     "output_type": "stream",
     "text": [
      "RP3betaRecommender: URM Detected 73 (0.26 %) cold users.\n",
      "RP3betaRecommender: URM Detected 1 (0.00 %) cold items.\n",
      "EvaluatorHoldout: Processed 3585 ( 100.00% ) in 2.39 sec. Users per second: 1500\n",
      "{10: {'ROC_AUC': 0.16956509707555759, 'PRECISION': 0.0273919107391908, 'PRECISION_RECALL_MIN_DEN': 0.17933984193398428, 'RECALL': 0.17933984193398428, 'MAP': 0.08708749714049566, 'MRR': 0.11961236191361699, 'NDCG': 0.11816657501242982, 'F1': 0.04752497745232643, 'HIT_RATE': 0.2739191073919107, 'ARHR': 0.1258364880122202, 'NOVELTY': 0.005422064263675152, 'AVERAGE_POPULARITY': 0.11677475592747563, 'DIVERSITY_MEAN_INTER_LIST': 0.9944368586869894, 'DIVERSITY_HERFINDAHL': 0.9994159470441889, 'COVERAGE_ITEM': 0.47237728585178057, 'COVERAGE_ITEM_CORRECT': 0.030259865255052934, 'COVERAGE_USER': 0.6015100671140939, 'COVERAGE_USER_CORRECT': 0.14865771812080536, 'DIVERSITY_GINI': 0.22806996824447756, 'SHANNON_ENTROPY': 12.535727666691354}}\n",
      "RP3betaRecommender: Saving model in file 'RP3_saved_group_0/RP3_fold_number1'\n",
      "RP3betaRecommender: Saving complete\n",
      "RP3betaRecommender: URM Detected 59 (0.21 %) cold users.\n",
      "RP3betaRecommender: URM Detected 1 (0.00 %) cold items.\n",
      "EvaluatorHoldout: Processed 3680 ( 100.00% ) in 2.41 sec. Users per second: 1528\n",
      "{10: {'ROC_AUC': 0.15111903683574898, 'PRECISION': 0.025733695652173715, 'PRECISION_RECALL_MIN_DEN': 0.16497541407867491, 'RECALL': 0.16497541407867491, 'MAP': 0.07569049595985729, 'MRR': 0.10434707125603848, 'NDCG': 0.10527178869461236, 'F1': 0.0445225411830993, 'HIT_RATE': 0.25733695652173916, 'ARHR': 0.11074997843340219, 'NOVELTY': 0.0054258646466434565, 'AVERAGE_POPULARITY': 0.11558601134215499, 'DIVERSITY_MEAN_INTER_LIST': 0.994786744980323, 'DIVERSITY_HERFINDAHL': 0.9994516422495274, 'COVERAGE_ITEM': 0.474995187680462, 'COVERAGE_ITEM_CORRECT': 0.028334937439846004, 'COVERAGE_USER': 0.6174496644295302, 'COVERAGE_USER_CORRECT': 0.14161073825503356, 'DIVERSITY_GINI': 0.2304734847216829, 'SHANNON_ENTROPY': 12.575578590318054}}\n",
      "RP3betaRecommender: Saving model in file 'RP3_saved_group_0/RP3_fold_number2'\n",
      "RP3betaRecommender: Saving complete\n",
      "RP3betaRecommender: URM Detected 73 (0.26 %) cold users.\n",
      "RP3betaRecommender: URM Detected 4 (0.02 %) cold items.\n",
      "EvaluatorHoldout: Processed 3697 ( 100.00% ) in 2.42 sec. Users per second: 1529\n",
      "{10: {'ROC_AUC': 0.15115698700361963, 'PRECISION': 0.026021098187719572, 'PRECISION_RECALL_MIN_DEN': 0.1636983654700723, 'RECALL': 0.1636983654700723, 'MAP': 0.0755345783010105, 'MRR': 0.10384277685467823, 'NDCG': 0.10495914299164974, 'F1': 0.04490431460157683, 'HIT_RATE': 0.2602109818771977, 'ARHR': 0.11100516935653515, 'NOVELTY': 0.005424537411037535, 'AVERAGE_POPULARITY': 0.11601327671377878, 'DIVERSITY_MEAN_INTER_LIST': 0.9944985521195961, 'DIVERSITY_HERFINDAHL': 0.9994229550617806, 'COVERAGE_ITEM': 0.4818094321462945, 'COVERAGE_ITEM_CORRECT': 0.02883541867179981, 'COVERAGE_USER': 0.6203020134228188, 'COVERAGE_USER_CORRECT': 0.1424496644295302, 'DIVERSITY_GINI': 0.23244895373345187, 'SHANNON_ENTROPY': 12.563535532788881}}\n",
      "RP3betaRecommender: Saving model in file 'RP3_saved_group_0/RP3_fold_number3'\n",
      "RP3betaRecommender: Saving complete\n",
      "RP3betaRecommender: URM Detected 76 (0.27 %) cold users.\n",
      "EvaluatorHoldout: Processed 3717 ( 100.00% ) in 2.42 sec. Users per second: 1535\n",
      "{10: {'ROC_AUC': 0.14174017064452926, 'PRECISION': 0.024509012644605702, 'PRECISION_RECALL_MIN_DEN': 0.15489321905786801, 'RECALL': 0.15489321905786801, 'MAP': 0.07271172917796535, 'MRR': 0.10066233649768751, 'NDCG': 0.10032185665583591, 'F1': 0.04232143411402861, 'HIT_RATE': 0.24509012644605865, 'ARHR': 0.10756071417895459, 'NOVELTY': 0.005423636168733593, 'AVERAGE_POPULARITY': 0.11545434053908632, 'DIVERSITY_MEAN_INTER_LIST': 0.9944868991365132, 'DIVERSITY_HERFINDAHL': 0.9994219348181674, 'COVERAGE_ITEM': 0.4764196342637151, 'COVERAGE_ITEM_CORRECT': 0.02798845043310876, 'COVERAGE_USER': 0.6236577181208054, 'COVERAGE_USER_CORRECT': 0.13271812080536913, 'DIVERSITY_GINI': 0.22878335201326958, 'SHANNON_ENTROPY': 12.54475924913639}}\n",
      "RP3betaRecommender: Saving model in file 'RP3_saved_group_0/RP3_fold_number4'\n",
      "RP3betaRecommender: Saving complete\n",
      "RP3betaRecommender: URM Detected 66 (0.24 %) cold users.\n",
      "RP3betaRecommender: URM Detected 3 (0.01 %) cold items.\n",
      "EvaluatorHoldout: Processed 3639 ( 100.00% ) in 2.40 sec. Users per second: 1519\n",
      "{10: {'ROC_AUC': 0.14347653506763194, 'PRECISION': 0.02459466886507267, 'PRECISION_RECALL_MIN_DEN': 0.15120454337272127, 'RECALL': 0.15120454337272127, 'MAP': 0.06916354607856386, 'MRR': 0.09974068403581997, 'NDCG': 0.09746107962530175, 'F1': 0.042307648911604295, 'HIT_RATE': 0.24594668865072822, 'ARHR': 0.10616447916530355, 'NOVELTY': 0.005418019801448297, 'AVERAGE_POPULARITY': 0.11779693417924168, 'DIVERSITY_MEAN_INTER_LIST': 0.9941916121257388, 'DIVERSITY_HERFINDAHL': 0.9993918407505754, 'COVERAGE_ITEM': 0.4705293551491819, 'COVERAGE_ITEM_CORRECT': 0.027603464870067373, 'COVERAGE_USER': 0.6105704697986577, 'COVERAGE_USER_CORRECT': 0.13204697986577182, 'DIVERSITY_GINI': 0.2250534092687329, 'SHANNON_ENTROPY': 12.503969991408283}}\n",
      "RP3betaRecommender: Saving model in file 'RP3_saved_group_0/RP3_fold_number5'\n",
      "RP3betaRecommender: Saving complete\n"
     ]
    }
   ],
   "source": [
    "from GraphBased.RP3betaRecommender import RP3betaRecommender\n",
    "i=1\n",
    "for URM_train, evaluator in zip(URM_train_vector,Evaluator_vector):\n",
    "    \n",
    "    URM_train_ICM_all_RP3 = sps.vstack([URM_train, ICM_all.T])\n",
    "    recommender = RP3betaRecommender(URM_train_ICM_all_RP3)\n",
    "    recommender.fit(topK = 196, alpha = 0.35248383404238176, beta = 0.14410506792619115, implicit = False)\n",
    "\n",
    "    #recommender.URM_train = URM_train.tocsr()\n",
    "    \n",
    "    result_dict, _ = evaluator.evaluateRecommender(recommender)\n",
    "    print(result_dict)\n",
    "    \n",
    "    filename = 'RP3_fold_number' + str(i)\n",
    "    recommender.save_model('RP3_saved_group_0/', file_name = filename)\n",
    "    i = i+1"
   ]
  },
  {
   "cell_type": "code",
   "execution_count": null,
   "metadata": {},
   "outputs": [],
   "source": []
  }
 ],
 "metadata": {
  "kernelspec": {
   "display_name": "Python 3",
   "language": "python",
   "name": "python3"
  },
  "language_info": {
   "codemirror_mode": {
    "name": "ipython",
    "version": 3
   },
   "file_extension": ".py",
   "mimetype": "text/x-python",
   "name": "python",
   "nbconvert_exporter": "python",
   "pygments_lexer": "ipython3",
   "version": "3.8.5"
  }
 },
 "nbformat": 4,
 "nbformat_minor": 4
}
