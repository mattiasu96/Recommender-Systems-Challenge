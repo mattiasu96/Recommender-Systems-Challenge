{
 "cells": [
  {
   "cell_type": "markdown",
   "metadata": {},
   "source": [
    "# Data loading \n",
    "Next cells are used to load the data we need."
   ]
  },
  {
   "cell_type": "code",
   "execution_count": 1,
   "metadata": {},
   "outputs": [],
   "source": [
    "import os\n",
    "os.environ[\"OMP_NUM_THREADS\"] = \"1\" # export OMP_NUM_THREADS=1\n",
    "os.environ[\"OPENBLAS_NUM_THREADS\"] = \"1\" # export OPENBLAS_NUM_THREADS=1\n",
    "os.environ[\"MKL_NUM_THREADS\"] = \"1\" # export MKL_NUM_THREADS=1\n",
    "os.environ[\"VECLIB_MAXIMUM_THREADS\"] = \"1\" # export VECLIB_MAXIMUM_THREADS=1\n",
    "os.environ[\"NUMEXPR_NUM_THREADS\"] = \"1\" # export NUMEXPR_NUM_THREADS=1 \n",
    "import pandas as pd\n",
    "import numpy as np \n",
    "import scipy.sparse as sps\n",
    "import sys\n",
    "import matplotlib.pyplot as plt\n",
    "sys.path.append('../../../')\n"
   ]
  },
  {
   "cell_type": "code",
   "execution_count": 2,
   "metadata": {},
   "outputs": [
    {
     "data": {
      "text/html": [
       "<div>\n",
       "<style scoped>\n",
       "    .dataframe tbody tr th:only-of-type {\n",
       "        vertical-align: middle;\n",
       "    }\n",
       "\n",
       "    .dataframe tbody tr th {\n",
       "        vertical-align: top;\n",
       "    }\n",
       "\n",
       "    .dataframe thead th {\n",
       "        text-align: right;\n",
       "    }\n",
       "</style>\n",
       "<table border=\"1\" class=\"dataframe\">\n",
       "  <thead>\n",
       "    <tr style=\"text-align: right;\">\n",
       "      <th></th>\n",
       "      <th>row</th>\n",
       "      <th>col</th>\n",
       "      <th>data</th>\n",
       "    </tr>\n",
       "  </thead>\n",
       "  <tbody>\n",
       "    <tr>\n",
       "      <th>0</th>\n",
       "      <td>0</td>\n",
       "      <td>10080</td>\n",
       "      <td>1.0</td>\n",
       "    </tr>\n",
       "    <tr>\n",
       "      <th>1</th>\n",
       "      <td>0</td>\n",
       "      <td>19467</td>\n",
       "      <td>1.0</td>\n",
       "    </tr>\n",
       "    <tr>\n",
       "      <th>2</th>\n",
       "      <td>1</td>\n",
       "      <td>2665</td>\n",
       "      <td>1.0</td>\n",
       "    </tr>\n",
       "    <tr>\n",
       "      <th>3</th>\n",
       "      <td>1</td>\n",
       "      <td>7494</td>\n",
       "      <td>1.0</td>\n",
       "    </tr>\n",
       "    <tr>\n",
       "      <th>4</th>\n",
       "      <td>1</td>\n",
       "      <td>17068</td>\n",
       "      <td>1.0</td>\n",
       "    </tr>\n",
       "    <tr>\n",
       "      <th>...</th>\n",
       "      <td>...</td>\n",
       "      <td>...</td>\n",
       "      <td>...</td>\n",
       "    </tr>\n",
       "    <tr>\n",
       "      <th>113263</th>\n",
       "      <td>7945</td>\n",
       "      <td>2476</td>\n",
       "      <td>1.0</td>\n",
       "    </tr>\n",
       "    <tr>\n",
       "      <th>113264</th>\n",
       "      <td>7945</td>\n",
       "      <td>12319</td>\n",
       "      <td>1.0</td>\n",
       "    </tr>\n",
       "    <tr>\n",
       "      <th>113265</th>\n",
       "      <td>7945</td>\n",
       "      <td>21384</td>\n",
       "      <td>1.0</td>\n",
       "    </tr>\n",
       "    <tr>\n",
       "      <th>113266</th>\n",
       "      <td>7946</td>\n",
       "      <td>8699</td>\n",
       "      <td>1.0</td>\n",
       "    </tr>\n",
       "    <tr>\n",
       "      <th>113267</th>\n",
       "      <td>7946</td>\n",
       "      <td>19178</td>\n",
       "      <td>1.0</td>\n",
       "    </tr>\n",
       "  </tbody>\n",
       "</table>\n",
       "<p>113268 rows × 3 columns</p>\n",
       "</div>"
      ],
      "text/plain": [
       "         row    col  data\n",
       "0          0  10080   1.0\n",
       "1          0  19467   1.0\n",
       "2          1   2665   1.0\n",
       "3          1   7494   1.0\n",
       "4          1  17068   1.0\n",
       "...      ...    ...   ...\n",
       "113263  7945   2476   1.0\n",
       "113264  7945  12319   1.0\n",
       "113265  7945  21384   1.0\n",
       "113266  7946   8699   1.0\n",
       "113267  7946  19178   1.0\n",
       "\n",
       "[113268 rows x 3 columns]"
      ]
     },
     "execution_count": 2,
     "metadata": {},
     "output_type": "execute_result"
    }
   ],
   "source": [
    "#data which contains users (row), items(col) and implicit interaction (data)\n",
    "dataset = pd.read_csv('../../data_train.csv')\n",
    "dataset"
   ]
  },
  {
   "cell_type": "markdown",
   "metadata": {},
   "source": [
    "# Data pre-processing\n",
    "Pre-processing of data to check for missing users, items ecc..."
   ]
  },
  {
   "cell_type": "code",
   "execution_count": 3,
   "metadata": {},
   "outputs": [
    {
     "data": {
      "text/plain": [
       "(7947, 25975)"
      ]
     },
     "execution_count": 3,
     "metadata": {},
     "output_type": "execute_result"
    }
   ],
   "source": [
    "users = dataset.row\n",
    "items = dataset.col\n",
    "data = dataset.data\n",
    "URM_all = sps.coo_matrix((data, (users, items)))\n",
    "URM_all = URM_all.tocsr() #fast row access -> fast access to users \n",
    "URM_all.shape"
   ]
  },
  {
   "cell_type": "code",
   "execution_count": 4,
   "metadata": {},
   "outputs": [
    {
     "data": {
      "text/html": [
       "<div>\n",
       "<style scoped>\n",
       "    .dataframe tbody tr th:only-of-type {\n",
       "        vertical-align: middle;\n",
       "    }\n",
       "\n",
       "    .dataframe tbody tr th {\n",
       "        vertical-align: top;\n",
       "    }\n",
       "\n",
       "    .dataframe thead th {\n",
       "        text-align: right;\n",
       "    }\n",
       "</style>\n",
       "<table border=\"1\" class=\"dataframe\">\n",
       "  <thead>\n",
       "    <tr style=\"text-align: right;\">\n",
       "      <th></th>\n",
       "      <th>row</th>\n",
       "      <th>col</th>\n",
       "      <th>data</th>\n",
       "    </tr>\n",
       "  </thead>\n",
       "  <tbody>\n",
       "    <tr>\n",
       "      <th>0</th>\n",
       "      <td>0</td>\n",
       "      <td>1185</td>\n",
       "      <td>1.015524</td>\n",
       "    </tr>\n",
       "    <tr>\n",
       "      <th>1</th>\n",
       "      <td>0</td>\n",
       "      <td>2507</td>\n",
       "      <td>0.459024</td>\n",
       "    </tr>\n",
       "    <tr>\n",
       "      <th>2</th>\n",
       "      <td>0</td>\n",
       "      <td>3534</td>\n",
       "      <td>0.227742</td>\n",
       "    </tr>\n",
       "    <tr>\n",
       "      <th>3</th>\n",
       "      <td>0</td>\n",
       "      <td>8766</td>\n",
       "      <td>0.501549</td>\n",
       "    </tr>\n",
       "    <tr>\n",
       "      <th>4</th>\n",
       "      <td>0</td>\n",
       "      <td>10862</td>\n",
       "      <td>0.297011</td>\n",
       "    </tr>\n",
       "    <tr>\n",
       "      <th>...</th>\n",
       "      <td>...</td>\n",
       "      <td>...</td>\n",
       "      <td>...</td>\n",
       "    </tr>\n",
       "    <tr>\n",
       "      <th>490686</th>\n",
       "      <td>25974</td>\n",
       "      <td>12554</td>\n",
       "      <td>0.963016</td>\n",
       "    </tr>\n",
       "    <tr>\n",
       "      <th>490687</th>\n",
       "      <td>25974</td>\n",
       "      <td>13003</td>\n",
       "      <td>0.104613</td>\n",
       "    </tr>\n",
       "    <tr>\n",
       "      <th>490688</th>\n",
       "      <td>25974</td>\n",
       "      <td>16236</td>\n",
       "      <td>0.118760</td>\n",
       "    </tr>\n",
       "    <tr>\n",
       "      <th>490689</th>\n",
       "      <td>25974</td>\n",
       "      <td>18797</td>\n",
       "      <td>0.363301</td>\n",
       "    </tr>\n",
       "    <tr>\n",
       "      <th>490690</th>\n",
       "      <td>25974</td>\n",
       "      <td>19629</td>\n",
       "      <td>0.129141</td>\n",
       "    </tr>\n",
       "  </tbody>\n",
       "</table>\n",
       "<p>490691 rows × 3 columns</p>\n",
       "</div>"
      ],
      "text/plain": [
       "          row    col      data\n",
       "0           0   1185  1.015524\n",
       "1           0   2507  0.459024\n",
       "2           0   3534  0.227742\n",
       "3           0   8766  0.501549\n",
       "4           0  10862  0.297011\n",
       "...       ...    ...       ...\n",
       "490686  25974  12554  0.963016\n",
       "490687  25974  13003  0.104613\n",
       "490688  25974  16236  0.118760\n",
       "490689  25974  18797  0.363301\n",
       "490690  25974  19629  0.129141\n",
       "\n",
       "[490691 rows x 3 columns]"
      ]
     },
     "execution_count": 4,
     "metadata": {},
     "output_type": "execute_result"
    }
   ],
   "source": [
    "ICM_df = pd.read_csv('../../data_ICM_title_abstract.csv')\n",
    "ICM_df"
   ]
  },
  {
   "cell_type": "code",
   "execution_count": 5,
   "metadata": {},
   "outputs": [
    {
     "data": {
      "text/plain": [
       "(25975, 20000)"
      ]
     },
     "execution_count": 5,
     "metadata": {},
     "output_type": "execute_result"
    }
   ],
   "source": [
    "items = ICM_df.row\n",
    "features = ICM_df.col\n",
    "data = ICM_df.data\n",
    "ICM_all = sps.coo_matrix((data, (items, features)))\n",
    "ICM_all = ICM_all.tocsr() #fast row access -> fast access to users \n",
    "ICM_all.shape"
   ]
  },
  {
   "cell_type": "code",
   "execution_count": 6,
   "metadata": {},
   "outputs": [
    {
     "name": "stdout",
     "output_type": "stream",
     "text": [
      "Warning: 71 (0.89 %) of 7947 users have no train items\n",
      "Warning: 2411 (30.34 %) of 7947 users have no sampled items\n",
      "Warning: 57 (0.72 %) of 7947 users have no train items\n",
      "Warning: 2320 (29.19 %) of 7947 users have no sampled items\n",
      "Warning: 71 (0.89 %) of 7947 users have no train items\n",
      "Warning: 2289 (28.80 %) of 7947 users have no sampled items\n",
      "Warning: 74 (0.93 %) of 7947 users have no train items\n",
      "Warning: 2273 (28.60 %) of 7947 users have no sampled items\n",
      "Warning: 64 (0.81 %) of 7947 users have no train items\n",
      "Warning: 2358 (29.67 %) of 7947 users have no sampled items\n"
     ]
    }
   ],
   "source": [
    "from Data_manager.split_functions.split_train_validation_random_holdout import split_train_in_two_percentage_global_sample\n",
    "from Base.Evaluation.Evaluator import EvaluatorHoldout\n",
    "\n",
    "URM_train_1, URM_validation_1 = split_train_in_two_percentage_global_sample(URM_all, train_percentage = 0.8, seed=1)\n",
    "\n",
    "URM_train_2, URM_validation_2 = split_train_in_two_percentage_global_sample(URM_all, train_percentage = 0.8, seed=2)\n",
    "\n",
    "URM_train_3, URM_validation_3 = split_train_in_two_percentage_global_sample(URM_all, train_percentage = 0.8, seed=3)\n",
    "\n",
    "URM_train_4, URM_validation_4 = split_train_in_two_percentage_global_sample(URM_all, train_percentage = 0.8, seed=4)\n",
    "\n",
    "URM_train_5, URM_validation_5 = split_train_in_two_percentage_global_sample(URM_all, train_percentage = 0.8, seed=5)\n",
    "\n",
    "training_list = [URM_train_1,URM_train_2,URM_train_3,URM_train_4,URM_train_5]\n",
    "\n",
    "evaluator_validation_1 = EvaluatorHoldout(URM_validation_1, cutoff_list=[10])\n",
    "evaluator_validation_2 = EvaluatorHoldout(URM_validation_2, cutoff_list=[10])\n",
    "evaluator_validation_3 = EvaluatorHoldout(URM_validation_3, cutoff_list=[10])\n",
    "evaluator_validation_4 = EvaluatorHoldout(URM_validation_4, cutoff_list=[10])\n",
    "evaluator_validation_5 = EvaluatorHoldout(URM_validation_5, cutoff_list=[10])\n",
    "\n",
    "evaluator_list = [evaluator_validation_1, evaluator_validation_2, evaluator_validation_3, evaluator_validation_4, evaluator_validation_5]\n"
   ]
  },
  {
   "cell_type": "code",
   "execution_count": 7,
   "metadata": {},
   "outputs": [
    {
     "name": "stdout",
     "output_type": "stream",
     "text": [
      "UserKNNCFRecommender: URM Detected 71 (0.89 %) cold users.\n",
      "UserKNNCFRecommender: URM Detected 2366 (9.11 %) cold items.\n",
      "Similarity column 7947 ( 100 % ), 14619.66 column/sec, elapsed time 0.01 min\n",
      "EvaluatorHoldout: Processed 5536 ( 100.00% ) in 3.81 sec. Users per second: 1453\n",
      "{10: {'ROC_AUC': 0.17329015993439803, 'PRECISION': 0.036036849710981866, 'PRECISION_RECALL_MIN_DEN': 0.12859694696761198, 'RECALL': 0.12444572526266325, 'MAP': 0.06133257464802177, 'MRR': 0.12939984459583467, 'NDCG': 0.09096989679053383, 'F1': 0.055889331277258154, 'HIT_RATE': 0.3603684971098266, 'ARHR': 0.1480380224103132, 'NOVELTY': 0.004799671521395768, 'AVERAGE_POPULARITY': 0.10232442882490676, 'DIVERSITY_MEAN_INTER_LIST': 0.9869260120828569, 'DIVERSITY_HERFINDAHL': 0.9986747737875472, 'COVERAGE_ITEM': 0.3818671799807507, 'COVERAGE_ITEM_CORRECT': 0.04, 'COVERAGE_USER': 0.6966150748710205, 'COVERAGE_USER_CORRECT': 0.18661129986158298, 'DIVERSITY_GINI': 0.11148071485728933, 'SHANNON_ENTROPY': 11.288203698296865}}\n",
      "UserKNNCFRecommender: Saving model in file 'User_KNN_saved/User_KNN_fold_number1'\n",
      "UserKNNCFRecommender: Saving complete\n",
      "UserKNNCFRecommender: URM Detected 57 (0.72 %) cold users.\n",
      "UserKNNCFRecommender: URM Detected 2416 (9.30 %) cold items.\n",
      "Similarity column 7947 ( 100 % ), 14592.88 column/sec, elapsed time 0.01 min\n",
      "EvaluatorHoldout: Processed 5627 ( 100.00% ) in 3.81 sec. Users per second: 1478\n",
      "{10: {'ROC_AUC': 0.17141391702703285, 'PRECISION': 0.035578460991646604, 'PRECISION_RECALL_MIN_DEN': 0.12027159302794647, 'RECALL': 0.11624589780141246, 'MAP': 0.057399042110969904, 'MRR': 0.12664992482390758, 'NDCG': 0.08678665892698528, 'F1': 0.054482036653996646, 'HIT_RATE': 0.35578460991647415, 'ARHR': 0.14522053534404736, 'NOVELTY': 0.004833563804534386, 'AVERAGE_POPULARITY': 0.09756154544151013, 'DIVERSITY_MEAN_INTER_LIST': 0.9878074839891031, 'DIVERSITY_HERFINDAHL': 0.9987631936186724, 'COVERAGE_ITEM': 0.3862175168431184, 'COVERAGE_ITEM_CORRECT': 0.03907603464870067, 'COVERAGE_USER': 0.7080659368315088, 'COVERAGE_USER_CORRECT': 0.1878696363407575, 'DIVERSITY_GINI': 0.11360720582036904, 'SHANNON_ENTROPY': 11.347605271275583}}\n",
      "UserKNNCFRecommender: Saving model in file 'User_KNN_saved/User_KNN_fold_number2'\n",
      "UserKNNCFRecommender: Saving complete\n",
      "UserKNNCFRecommender: URM Detected 71 (0.89 %) cold users.\n",
      "UserKNNCFRecommender: URM Detected 2385 (9.18 %) cold items.\n",
      "Similarity column 7947 ( 100 % ), 14700.79 column/sec, elapsed time 0.01 min\n",
      "EvaluatorHoldout: Processed 5658 ( 100.00% ) in 3.85 sec. Users per second: 1469\n",
      "{10: {'ROC_AUC': 0.17116462432740306, 'PRECISION': 0.035454224107457646, 'PRECISION_RECALL_MIN_DEN': 0.12086678786042544, 'RECALL': 0.11661806277443959, 'MAP': 0.05841092474164155, 'MRR': 0.1260199773322786, 'NDCG': 0.08684720856721255, 'F1': 0.05437681009944398, 'HIT_RATE': 0.35454224107458465, 'ARHR': 0.14550993957144567, 'NOVELTY': 0.004796918236642572, 'AVERAGE_POPULARITY': 0.10184753528324302, 'DIVERSITY_MEAN_INTER_LIST': 0.9872181245119475, 'DIVERSITY_HERFINDAHL': 0.9987043642694253, 'COVERAGE_ITEM': 0.3850240615976901, 'COVERAGE_ITEM_CORRECT': 0.03965351299326275, 'COVERAGE_USER': 0.7119667799169498, 'COVERAGE_USER_CORRECT': 0.1854787970303259, 'DIVERSITY_GINI': 0.11219889953616263, 'SHANNON_ENTROPY': 11.299305187067839}}\n",
      "UserKNNCFRecommender: Saving model in file 'User_KNN_saved/User_KNN_fold_number3'\n",
      "UserKNNCFRecommender: Saving complete\n",
      "UserKNNCFRecommender: URM Detected 74 (0.93 %) cold users.\n",
      "UserKNNCFRecommender: URM Detected 2358 (9.08 %) cold items.\n",
      "Similarity column 7947 ( 100 % ), 14566.16 column/sec, elapsed time 0.01 min\n",
      "EvaluatorHoldout: Processed 5674 ( 100.00% ) in 3.83 sec. Users per second: 1480\n",
      "{10: {'ROC_AUC': 0.16817645651845559, 'PRECISION': 0.035178004934789536, 'PRECISION_RECALL_MIN_DEN': 0.12015410029597569, 'RECALL': 0.11624834207866462, 'MAP': 0.05609381598270457, 'MRR': 0.12316057371133174, 'NDCG': 0.08509762871683506, 'F1': 0.054011535402634085, 'HIT_RATE': 0.3517800493479027, 'ARHR': 0.14208622175224234, 'NOVELTY': 0.004820082976741733, 'AVERAGE_POPULARITY': 0.10753666740349987, 'DIVERSITY_MEAN_INTER_LIST': 0.9869244647530825, 'DIVERSITY_HERFINDAHL': 0.9986750526708537, 'COVERAGE_ITEM': 0.3825216554379211, 'COVERAGE_ITEM_CORRECT': 0.03923002887391723, 'COVERAGE_USER': 0.7139801182836291, 'COVERAGE_USER_CORRECT': 0.18510129608657355, 'DIVERSITY_GINI': 0.10979122400233007, 'SHANNON_ENTROPY': 11.264507808206798}}\n",
      "UserKNNCFRecommender: Saving model in file 'User_KNN_saved/User_KNN_fold_number4'\n",
      "UserKNNCFRecommender: Saving complete\n",
      "UserKNNCFRecommender: URM Detected 64 (0.81 %) cold users.\n",
      "UserKNNCFRecommender: URM Detected 2394 (9.22 %) cold items.\n",
      "Similarity column 7947 ( 100 % ), 14700.70 column/sec, elapsed time 0.01 min\n",
      "EvaluatorHoldout: Processed 5589 ( 100.00% ) in 3.74 sec. Users per second: 1494\n",
      "{10: {'ROC_AUC': 0.16108413777630123, 'PRECISION': 0.03528359277151472, 'PRECISION_RECALL_MIN_DEN': 0.11381029062188527, 'RECALL': 0.10962511831596974, 'MAP': 0.0518437071189714, 'MRR': 0.11881494829696658, 'NDCG': 0.08042541369502522, 'F1': 0.0533848931946489, 'HIT_RATE': 0.35283592771515476, 'ARHR': 0.13787094547964143, 'NOVELTY': 0.004794149990027224, 'AVERAGE_POPULARITY': 0.10322215534050509, 'DIVERSITY_MEAN_INTER_LIST': 0.9869594418835547, 'DIVERSITY_HERFINDAHL': 0.9986782852253588, 'COVERAGE_ITEM': 0.3815206929740135, 'COVERAGE_ITEM_CORRECT': 0.03973051010587103, 'COVERAGE_USER': 0.7032842582106456, 'COVERAGE_USER_CORRECT': 0.17994211652195796, 'DIVERSITY_GINI': 0.11073360972427967, 'SHANNON_ENTROPY': 11.280378654853642}}\n",
      "UserKNNCFRecommender: Saving model in file 'User_KNN_saved/User_KNN_fold_number5'\n",
      "UserKNNCFRecommender: Saving complete\n"
     ]
    }
   ],
   "source": [
    "from KNN.UserKNNCFRecommender import UserKNNCFRecommender\n",
    "i=1\n",
    "for URM_train, evaluator in zip(training_list,evaluator_list):\n",
    "\n",
    "    recommender = UserKNNCFRecommender(URM_train)\n",
    "\n",
    "    recommender.fit(topK=120, shrink=592, feature_weighting = \"TF-IDF\", similarity = 'cosine')\n",
    "\n",
    "    #recommender.URM_train = URM_train.tocsr()\n",
    "    \n",
    "    result_dict, _ = evaluator.evaluateRecommender(recommender)\n",
    "    print(result_dict)\n",
    "    \n",
    "    filename = 'User_KNN_fold_number' + str(i)\n",
    "    recommender.save_model('User_KNN_saved/', file_name = filename)\n",
    "    i = i+1"
   ]
  },
  {
   "cell_type": "code",
   "execution_count": null,
   "metadata": {},
   "outputs": [],
   "source": []
  }
 ],
 "metadata": {
  "kernelspec": {
   "display_name": "Python 3",
   "language": "python",
   "name": "python3"
  },
  "language_info": {
   "codemirror_mode": {
    "name": "ipython",
    "version": 3
   },
   "file_extension": ".py",
   "mimetype": "text/x-python",
   "name": "python",
   "nbconvert_exporter": "python",
   "pygments_lexer": "ipython3",
   "version": "3.8.5"
  }
 },
 "nbformat": 4,
 "nbformat_minor": 4
}
